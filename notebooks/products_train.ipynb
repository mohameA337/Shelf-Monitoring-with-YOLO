{
  "nbformat": 4,
  "nbformat_minor": 0,
  "metadata": {
    "colab": {
      "provenance": [],
      "gpuType": "A100",
      "machine_shape": "hm"
    },
    "kernelspec": {
      "name": "python3",
      "display_name": "Python 3"
    },
    "language_info": {
      "name": "python"
    },
    "accelerator": "GPU"
  },
  "cells": [
    {
      "cell_type": "code",
      "execution_count": null,
      "metadata": {
        "colab": {
          "base_uri": "https://localhost:8080/"
        },
        "id": "ND6_8LCWyXtb",
        "outputId": "2bff9c53-2030-4cc5-cef3-12a119ba06a1"
      },
      "outputs": [
        {
          "output_type": "stream",
          "name": "stdout",
          "text": [
            "Collecting ultralytics\n",
            "  Downloading ultralytics-8.3.162-py3-none-any.whl.metadata (37 kB)\n",
            "Collecting roboflow\n",
            "  Downloading roboflow-1.2.0-py3-none-any.whl.metadata (9.7 kB)\n",
            "Requirement already satisfied: numpy>=1.23.0 in /usr/local/lib/python3.11/dist-packages (from ultralytics) (2.0.2)\n",
            "Requirement already satisfied: matplotlib>=3.3.0 in /usr/local/lib/python3.11/dist-packages (from ultralytics) (3.10.0)\n",
            "Requirement already satisfied: opencv-python>=4.6.0 in /usr/local/lib/python3.11/dist-packages (from ultralytics) (4.11.0.86)\n",
            "Requirement already satisfied: pillow>=7.1.2 in /usr/local/lib/python3.11/dist-packages (from ultralytics) (11.2.1)\n",
            "Requirement already satisfied: pyyaml>=5.3.1 in /usr/local/lib/python3.11/dist-packages (from ultralytics) (6.0.2)\n",
            "Requirement already satisfied: requests>=2.23.0 in /usr/local/lib/python3.11/dist-packages (from ultralytics) (2.32.3)\n",
            "Requirement already satisfied: scipy>=1.4.1 in /usr/local/lib/python3.11/dist-packages (from ultralytics) (1.15.3)\n",
            "Requirement already satisfied: torch>=1.8.0 in /usr/local/lib/python3.11/dist-packages (from ultralytics) (2.6.0+cu124)\n",
            "Requirement already satisfied: torchvision>=0.9.0 in /usr/local/lib/python3.11/dist-packages (from ultralytics) (0.21.0+cu124)\n",
            "Requirement already satisfied: tqdm>=4.64.0 in /usr/local/lib/python3.11/dist-packages (from ultralytics) (4.67.1)\n",
            "Requirement already satisfied: psutil in /usr/local/lib/python3.11/dist-packages (from ultralytics) (5.9.5)\n",
            "Requirement already satisfied: py-cpuinfo in /usr/local/lib/python3.11/dist-packages (from ultralytics) (9.0.0)\n",
            "Requirement already satisfied: pandas>=1.1.4 in /usr/local/lib/python3.11/dist-packages (from ultralytics) (2.2.2)\n",
            "Collecting ultralytics-thop>=2.0.0 (from ultralytics)\n",
            "  Downloading ultralytics_thop-2.0.14-py3-none-any.whl.metadata (9.4 kB)\n",
            "Requirement already satisfied: certifi in /usr/local/lib/python3.11/dist-packages (from roboflow) (2025.6.15)\n",
            "Collecting idna==3.7 (from roboflow)\n",
            "  Downloading idna-3.7-py3-none-any.whl.metadata (9.9 kB)\n",
            "Requirement already satisfied: cycler in /usr/local/lib/python3.11/dist-packages (from roboflow) (0.12.1)\n",
            "Requirement already satisfied: kiwisolver>=1.3.1 in /usr/local/lib/python3.11/dist-packages (from roboflow) (1.4.8)\n",
            "Collecting opencv-python-headless==4.10.0.84 (from roboflow)\n",
            "  Downloading opencv_python_headless-4.10.0.84-cp37-abi3-manylinux_2_17_x86_64.manylinux2014_x86_64.whl.metadata (20 kB)\n",
            "Collecting pillow-heif<2 (from roboflow)\n",
            "  Downloading pillow_heif-1.0.0-cp311-cp311-manylinux_2_17_x86_64.manylinux2014_x86_64.whl.metadata (9.6 kB)\n",
            "Collecting pillow-avif-plugin<2 (from roboflow)\n",
            "  Downloading pillow_avif_plugin-1.5.2-cp311-cp311-manylinux_2_28_x86_64.whl.metadata (2.1 kB)\n",
            "Requirement already satisfied: python-dateutil in /usr/local/lib/python3.11/dist-packages (from roboflow) (2.9.0.post0)\n",
            "Collecting python-dotenv (from roboflow)\n",
            "  Downloading python_dotenv-1.1.1-py3-none-any.whl.metadata (24 kB)\n",
            "Requirement already satisfied: six in /usr/local/lib/python3.11/dist-packages (from roboflow) (1.17.0)\n",
            "Requirement already satisfied: urllib3>=1.26.6 in /usr/local/lib/python3.11/dist-packages (from roboflow) (2.4.0)\n",
            "Requirement already satisfied: requests-toolbelt in /usr/local/lib/python3.11/dist-packages (from roboflow) (1.0.0)\n",
            "Collecting filetype (from roboflow)\n",
            "  Downloading filetype-1.2.0-py2.py3-none-any.whl.metadata (6.5 kB)\n",
            "Requirement already satisfied: contourpy>=1.0.1 in /usr/local/lib/python3.11/dist-packages (from matplotlib>=3.3.0->ultralytics) (1.3.2)\n",
            "Requirement already satisfied: fonttools>=4.22.0 in /usr/local/lib/python3.11/dist-packages (from matplotlib>=3.3.0->ultralytics) (4.58.4)\n",
            "Requirement already satisfied: packaging>=20.0 in /usr/local/lib/python3.11/dist-packages (from matplotlib>=3.3.0->ultralytics) (24.2)\n",
            "Requirement already satisfied: pyparsing>=2.3.1 in /usr/local/lib/python3.11/dist-packages (from matplotlib>=3.3.0->ultralytics) (3.2.3)\n",
            "Requirement already satisfied: pytz>=2020.1 in /usr/local/lib/python3.11/dist-packages (from pandas>=1.1.4->ultralytics) (2025.2)\n",
            "Requirement already satisfied: tzdata>=2022.7 in /usr/local/lib/python3.11/dist-packages (from pandas>=1.1.4->ultralytics) (2025.2)\n",
            "Requirement already satisfied: charset-normalizer<4,>=2 in /usr/local/lib/python3.11/dist-packages (from requests>=2.23.0->ultralytics) (3.4.2)\n",
            "Requirement already satisfied: filelock in /usr/local/lib/python3.11/dist-packages (from torch>=1.8.0->ultralytics) (3.18.0)\n",
            "Requirement already satisfied: typing-extensions>=4.10.0 in /usr/local/lib/python3.11/dist-packages (from torch>=1.8.0->ultralytics) (4.14.0)\n",
            "Requirement already satisfied: networkx in /usr/local/lib/python3.11/dist-packages (from torch>=1.8.0->ultralytics) (3.5)\n",
            "Requirement already satisfied: jinja2 in /usr/local/lib/python3.11/dist-packages (from torch>=1.8.0->ultralytics) (3.1.6)\n",
            "Requirement already satisfied: fsspec in /usr/local/lib/python3.11/dist-packages (from torch>=1.8.0->ultralytics) (2025.3.2)\n",
            "Collecting nvidia-cuda-nvrtc-cu12==12.4.127 (from torch>=1.8.0->ultralytics)\n",
            "  Downloading nvidia_cuda_nvrtc_cu12-12.4.127-py3-none-manylinux2014_x86_64.whl.metadata (1.5 kB)\n",
            "Collecting nvidia-cuda-runtime-cu12==12.4.127 (from torch>=1.8.0->ultralytics)\n",
            "  Downloading nvidia_cuda_runtime_cu12-12.4.127-py3-none-manylinux2014_x86_64.whl.metadata (1.5 kB)\n",
            "Collecting nvidia-cuda-cupti-cu12==12.4.127 (from torch>=1.8.0->ultralytics)\n",
            "  Downloading nvidia_cuda_cupti_cu12-12.4.127-py3-none-manylinux2014_x86_64.whl.metadata (1.6 kB)\n",
            "Collecting nvidia-cudnn-cu12==9.1.0.70 (from torch>=1.8.0->ultralytics)\n",
            "  Downloading nvidia_cudnn_cu12-9.1.0.70-py3-none-manylinux2014_x86_64.whl.metadata (1.6 kB)\n",
            "Collecting nvidia-cublas-cu12==12.4.5.8 (from torch>=1.8.0->ultralytics)\n",
            "  Downloading nvidia_cublas_cu12-12.4.5.8-py3-none-manylinux2014_x86_64.whl.metadata (1.5 kB)\n",
            "Collecting nvidia-cufft-cu12==11.2.1.3 (from torch>=1.8.0->ultralytics)\n",
            "  Downloading nvidia_cufft_cu12-11.2.1.3-py3-none-manylinux2014_x86_64.whl.metadata (1.5 kB)\n",
            "Collecting nvidia-curand-cu12==10.3.5.147 (from torch>=1.8.0->ultralytics)\n",
            "  Downloading nvidia_curand_cu12-10.3.5.147-py3-none-manylinux2014_x86_64.whl.metadata (1.5 kB)\n",
            "Collecting nvidia-cusolver-cu12==11.6.1.9 (from torch>=1.8.0->ultralytics)\n",
            "  Downloading nvidia_cusolver_cu12-11.6.1.9-py3-none-manylinux2014_x86_64.whl.metadata (1.6 kB)\n",
            "Collecting nvidia-cusparse-cu12==12.3.1.170 (from torch>=1.8.0->ultralytics)\n",
            "  Downloading nvidia_cusparse_cu12-12.3.1.170-py3-none-manylinux2014_x86_64.whl.metadata (1.6 kB)\n",
            "Requirement already satisfied: nvidia-cusparselt-cu12==0.6.2 in /usr/local/lib/python3.11/dist-packages (from torch>=1.8.0->ultralytics) (0.6.2)\n",
            "Requirement already satisfied: nvidia-nccl-cu12==2.21.5 in /usr/local/lib/python3.11/dist-packages (from torch>=1.8.0->ultralytics) (2.21.5)\n",
            "Requirement already satisfied: nvidia-nvtx-cu12==12.4.127 in /usr/local/lib/python3.11/dist-packages (from torch>=1.8.0->ultralytics) (12.4.127)\n",
            "Collecting nvidia-nvjitlink-cu12==12.4.127 (from torch>=1.8.0->ultralytics)\n",
            "  Downloading nvidia_nvjitlink_cu12-12.4.127-py3-none-manylinux2014_x86_64.whl.metadata (1.5 kB)\n",
            "Requirement already satisfied: triton==3.2.0 in /usr/local/lib/python3.11/dist-packages (from torch>=1.8.0->ultralytics) (3.2.0)\n",
            "Requirement already satisfied: sympy==1.13.1 in /usr/local/lib/python3.11/dist-packages (from torch>=1.8.0->ultralytics) (1.13.1)\n",
            "Requirement already satisfied: mpmath<1.4,>=1.1.0 in /usr/local/lib/python3.11/dist-packages (from sympy==1.13.1->torch>=1.8.0->ultralytics) (1.3.0)\n",
            "Requirement already satisfied: MarkupSafe>=2.0 in /usr/local/lib/python3.11/dist-packages (from jinja2->torch>=1.8.0->ultralytics) (3.0.2)\n",
            "Downloading ultralytics-8.3.162-py3-none-any.whl (1.0 MB)\n",
            "\u001b[2K   \u001b[90m━━━━━━━━━━━━━━━━━━━━━━━━━━━━━━━━━━━━━━━━\u001b[0m \u001b[32m1.0/1.0 MB\u001b[0m \u001b[31m17.8 MB/s\u001b[0m eta \u001b[36m0:00:00\u001b[0m\n",
            "\u001b[?25hDownloading roboflow-1.2.0-py3-none-any.whl (86 kB)\n",
            "\u001b[2K   \u001b[90m━━━━━━━━━━━━━━━━━━━━━━━━━━━━━━━━━━━━━━━━\u001b[0m \u001b[32m86.8/86.8 kB\u001b[0m \u001b[31m7.9 MB/s\u001b[0m eta \u001b[36m0:00:00\u001b[0m\n",
            "\u001b[?25hDownloading idna-3.7-py3-none-any.whl (66 kB)\n",
            "\u001b[2K   \u001b[90m━━━━━━━━━━━━━━━━━━━━━━━━━━━━━━━━━━━━━━━━\u001b[0m \u001b[32m66.8/66.8 kB\u001b[0m \u001b[31m5.8 MB/s\u001b[0m eta \u001b[36m0:00:00\u001b[0m\n",
            "\u001b[?25hDownloading opencv_python_headless-4.10.0.84-cp37-abi3-manylinux_2_17_x86_64.manylinux2014_x86_64.whl (49.9 MB)\n",
            "\u001b[2K   \u001b[90m━━━━━━━━━━━━━━━━━━━━━━━━━━━━━━━━━━━━━━━━\u001b[0m \u001b[32m49.9/49.9 MB\u001b[0m \u001b[31m50.6 MB/s\u001b[0m eta \u001b[36m0:00:00\u001b[0m\n",
            "\u001b[?25hDownloading pillow_avif_plugin-1.5.2-cp311-cp311-manylinux_2_28_x86_64.whl (4.2 MB)\n",
            "\u001b[2K   \u001b[90m━━━━━━━━━━━━━━━━━━━━━━━━━━━━━━━━━━━━━━━━\u001b[0m \u001b[32m4.2/4.2 MB\u001b[0m \u001b[31m115.3 MB/s\u001b[0m eta \u001b[36m0:00:00\u001b[0m\n",
            "\u001b[?25hDownloading pillow_heif-1.0.0-cp311-cp311-manylinux_2_17_x86_64.manylinux2014_x86_64.whl (4.9 MB)\n",
            "\u001b[2K   \u001b[90m━━━━━━━━━━━━━━━━━━━━━━━━━━━━━━━━━━━━━━━━\u001b[0m \u001b[32m4.9/4.9 MB\u001b[0m \u001b[31m124.3 MB/s\u001b[0m eta \u001b[36m0:00:00\u001b[0m\n",
            "\u001b[?25hDownloading nvidia_cublas_cu12-12.4.5.8-py3-none-manylinux2014_x86_64.whl (363.4 MB)\n",
            "\u001b[2K   \u001b[90m━━━━━━━━━━━━━━━━━━━━━━━━━━━━━━━━━━━━━━━━\u001b[0m \u001b[32m363.4/363.4 MB\u001b[0m \u001b[31m2.9 MB/s\u001b[0m eta \u001b[36m0:00:00\u001b[0m\n",
            "\u001b[?25hDownloading nvidia_cuda_cupti_cu12-12.4.127-py3-none-manylinux2014_x86_64.whl (13.8 MB)\n",
            "\u001b[2K   \u001b[90m━━━━━━━━━━━━━━━━━━━━━━━━━━━━━━━━━━━━━━━━\u001b[0m \u001b[32m13.8/13.8 MB\u001b[0m \u001b[31m117.2 MB/s\u001b[0m eta \u001b[36m0:00:00\u001b[0m\n",
            "\u001b[?25hDownloading nvidia_cuda_nvrtc_cu12-12.4.127-py3-none-manylinux2014_x86_64.whl (24.6 MB)\n",
            "\u001b[2K   \u001b[90m━━━━━━━━━━━━━━━━━━━━━━━━━━━━━━━━━━━━━━━━\u001b[0m \u001b[32m24.6/24.6 MB\u001b[0m \u001b[31m98.5 MB/s\u001b[0m eta \u001b[36m0:00:00\u001b[0m\n",
            "\u001b[?25hDownloading nvidia_cuda_runtime_cu12-12.4.127-py3-none-manylinux2014_x86_64.whl (883 kB)\n",
            "\u001b[2K   \u001b[90m━━━━━━━━━━━━━━━━━━━━━━━━━━━━━━━━━━━━━━━━\u001b[0m \u001b[32m883.7/883.7 kB\u001b[0m \u001b[31m59.4 MB/s\u001b[0m eta \u001b[36m0:00:00\u001b[0m\n",
            "\u001b[?25hDownloading nvidia_cudnn_cu12-9.1.0.70-py3-none-manylinux2014_x86_64.whl (664.8 MB)\n",
            "\u001b[2K   \u001b[90m━━━━━━━━━━━━━━━━━━━━━━━━━━━━━━━━━━━━━━━━\u001b[0m \u001b[32m664.8/664.8 MB\u001b[0m \u001b[31m1.7 MB/s\u001b[0m eta \u001b[36m0:00:00\u001b[0m\n",
            "\u001b[?25hDownloading nvidia_cufft_cu12-11.2.1.3-py3-none-manylinux2014_x86_64.whl (211.5 MB)\n",
            "\u001b[2K   \u001b[90m━━━━━━━━━━━━━━━━━━━━━━━━━━━━━━━━━━━━━━━━\u001b[0m \u001b[32m211.5/211.5 MB\u001b[0m \u001b[31m11.6 MB/s\u001b[0m eta \u001b[36m0:00:00\u001b[0m\n",
            "\u001b[?25hDownloading nvidia_curand_cu12-10.3.5.147-py3-none-manylinux2014_x86_64.whl (56.3 MB)\n",
            "\u001b[2K   \u001b[90m━━━━━━━━━━━━━━━━━━━━━━━━━━━━━━━━━━━━━━━━\u001b[0m \u001b[32m56.3/56.3 MB\u001b[0m \u001b[31m42.7 MB/s\u001b[0m eta \u001b[36m0:00:00\u001b[0m\n",
            "\u001b[?25hDownloading nvidia_cusolver_cu12-11.6.1.9-py3-none-manylinux2014_x86_64.whl (127.9 MB)\n",
            "\u001b[2K   \u001b[90m━━━━━━━━━━━━━━━━━━━━━━━━━━━━━━━━━━━━━━━━\u001b[0m \u001b[32m127.9/127.9 MB\u001b[0m \u001b[31m20.4 MB/s\u001b[0m eta \u001b[36m0:00:00\u001b[0m\n",
            "\u001b[?25hDownloading nvidia_cusparse_cu12-12.3.1.170-py3-none-manylinux2014_x86_64.whl (207.5 MB)\n",
            "\u001b[2K   \u001b[90m━━━━━━━━━━━━━━━━━━━━━━━━━━━━━━━━━━━━━━━━\u001b[0m \u001b[32m207.5/207.5 MB\u001b[0m \u001b[31m5.0 MB/s\u001b[0m eta \u001b[36m0:00:00\u001b[0m\n",
            "\u001b[?25hDownloading nvidia_nvjitlink_cu12-12.4.127-py3-none-manylinux2014_x86_64.whl (21.1 MB)\n",
            "\u001b[2K   \u001b[90m━━━━━━━━━━━━━━━━━━━━━━━━━━━━━━━━━━━━━━━━\u001b[0m \u001b[32m21.1/21.1 MB\u001b[0m \u001b[31m99.9 MB/s\u001b[0m eta \u001b[36m0:00:00\u001b[0m\n",
            "\u001b[?25hDownloading ultralytics_thop-2.0.14-py3-none-any.whl (26 kB)\n",
            "Downloading filetype-1.2.0-py2.py3-none-any.whl (19 kB)\n",
            "Downloading python_dotenv-1.1.1-py3-none-any.whl (20 kB)\n",
            "Installing collected packages: pillow-avif-plugin, filetype, python-dotenv, pillow-heif, opencv-python-headless, nvidia-nvjitlink-cu12, nvidia-curand-cu12, nvidia-cufft-cu12, nvidia-cuda-runtime-cu12, nvidia-cuda-nvrtc-cu12, nvidia-cuda-cupti-cu12, nvidia-cublas-cu12, idna, nvidia-cusparse-cu12, nvidia-cudnn-cu12, nvidia-cusolver-cu12, roboflow, ultralytics-thop, ultralytics\n",
            "  Attempting uninstall: opencv-python-headless\n",
            "    Found existing installation: opencv-python-headless 4.11.0.86\n",
            "    Uninstalling opencv-python-headless-4.11.0.86:\n",
            "      Successfully uninstalled opencv-python-headless-4.11.0.86\n",
            "  Attempting uninstall: nvidia-nvjitlink-cu12\n",
            "    Found existing installation: nvidia-nvjitlink-cu12 12.5.82\n",
            "    Uninstalling nvidia-nvjitlink-cu12-12.5.82:\n",
            "      Successfully uninstalled nvidia-nvjitlink-cu12-12.5.82\n",
            "  Attempting uninstall: nvidia-curand-cu12\n",
            "    Found existing installation: nvidia-curand-cu12 10.3.6.82\n",
            "    Uninstalling nvidia-curand-cu12-10.3.6.82:\n",
            "      Successfully uninstalled nvidia-curand-cu12-10.3.6.82\n",
            "  Attempting uninstall: nvidia-cufft-cu12\n",
            "    Found existing installation: nvidia-cufft-cu12 11.2.3.61\n",
            "    Uninstalling nvidia-cufft-cu12-11.2.3.61:\n",
            "      Successfully uninstalled nvidia-cufft-cu12-11.2.3.61\n",
            "  Attempting uninstall: nvidia-cuda-runtime-cu12\n",
            "    Found existing installation: nvidia-cuda-runtime-cu12 12.5.82\n",
            "    Uninstalling nvidia-cuda-runtime-cu12-12.5.82:\n",
            "      Successfully uninstalled nvidia-cuda-runtime-cu12-12.5.82\n",
            "  Attempting uninstall: nvidia-cuda-nvrtc-cu12\n",
            "    Found existing installation: nvidia-cuda-nvrtc-cu12 12.5.82\n",
            "    Uninstalling nvidia-cuda-nvrtc-cu12-12.5.82:\n",
            "      Successfully uninstalled nvidia-cuda-nvrtc-cu12-12.5.82\n",
            "  Attempting uninstall: nvidia-cuda-cupti-cu12\n",
            "    Found existing installation: nvidia-cuda-cupti-cu12 12.5.82\n",
            "    Uninstalling nvidia-cuda-cupti-cu12-12.5.82:\n",
            "      Successfully uninstalled nvidia-cuda-cupti-cu12-12.5.82\n",
            "  Attempting uninstall: nvidia-cublas-cu12\n",
            "    Found existing installation: nvidia-cublas-cu12 12.5.3.2\n",
            "    Uninstalling nvidia-cublas-cu12-12.5.3.2:\n",
            "      Successfully uninstalled nvidia-cublas-cu12-12.5.3.2\n",
            "  Attempting uninstall: idna\n",
            "    Found existing installation: idna 3.10\n",
            "    Uninstalling idna-3.10:\n",
            "      Successfully uninstalled idna-3.10\n",
            "  Attempting uninstall: nvidia-cusparse-cu12\n",
            "    Found existing installation: nvidia-cusparse-cu12 12.5.1.3\n",
            "    Uninstalling nvidia-cusparse-cu12-12.5.1.3:\n",
            "      Successfully uninstalled nvidia-cusparse-cu12-12.5.1.3\n",
            "  Attempting uninstall: nvidia-cudnn-cu12\n",
            "    Found existing installation: nvidia-cudnn-cu12 9.3.0.75\n",
            "    Uninstalling nvidia-cudnn-cu12-9.3.0.75:\n",
            "      Successfully uninstalled nvidia-cudnn-cu12-9.3.0.75\n",
            "  Attempting uninstall: nvidia-cusolver-cu12\n",
            "    Found existing installation: nvidia-cusolver-cu12 11.6.3.83\n",
            "    Uninstalling nvidia-cusolver-cu12-11.6.3.83:\n",
            "      Successfully uninstalled nvidia-cusolver-cu12-11.6.3.83\n",
            "Successfully installed filetype-1.2.0 idna-3.7 nvidia-cublas-cu12-12.4.5.8 nvidia-cuda-cupti-cu12-12.4.127 nvidia-cuda-nvrtc-cu12-12.4.127 nvidia-cuda-runtime-cu12-12.4.127 nvidia-cudnn-cu12-9.1.0.70 nvidia-cufft-cu12-11.2.1.3 nvidia-curand-cu12-10.3.5.147 nvidia-cusolver-cu12-11.6.1.9 nvidia-cusparse-cu12-12.3.1.170 nvidia-nvjitlink-cu12-12.4.127 opencv-python-headless-4.10.0.84 pillow-avif-plugin-1.5.2 pillow-heif-1.0.0 python-dotenv-1.1.1 roboflow-1.2.0 ultralytics-8.3.162 ultralytics-thop-2.0.14\n"
          ]
        }
      ],
      "source": [
        "!pip install ultralytics roboflow\n"
      ]
    },
    {
      "cell_type": "code",
      "source": [
        "from roboflow import Roboflow\n",
        "rf = Roboflow(api_key=\"zjUph1ngbWU911wFwn0Z\")\n",
        "project = rf.workspace(\"jacobs-workspace\").project(\"sku-110k\")\n",
        "version = project.version(6)\n",
        "dataset = version.download(\"yolov11\")"
      ],
      "metadata": {
        "colab": {
          "base_uri": "https://localhost:8080/"
        },
        "id": "n6nubjhXyk5I",
        "outputId": "44c9b0fe-e925-4b5d-eba4-36ee07b01456"
      },
      "execution_count": null,
      "outputs": [
        {
          "output_type": "stream",
          "name": "stdout",
          "text": [
            "loading Roboflow workspace...\n",
            "loading Roboflow project...\n"
          ]
        },
        {
          "output_type": "stream",
          "name": "stderr",
          "text": [
            "Downloading Dataset Version Zip in SKU-110k-6 to yolov11:: 100%|██████████| 9483097/9483097 [01:54<00:00, 82765.08it/s]"
          ]
        },
        {
          "output_type": "stream",
          "name": "stdout",
          "text": [
            "\n"
          ]
        },
        {
          "output_type": "stream",
          "name": "stderr",
          "text": [
            "\n",
            "Extracting Dataset Version Zip to SKU-110k-6 in yolov11:: 100%|██████████| 20008/20008 [00:26<00:00, 744.53it/s] \n"
          ]
        }
      ]
    },
    {
      "cell_type": "code",
      "source": [
        "from ultralytics import YOLO\n",
        "model = YOLO(\"yolo11s.pt\")\n",
        "\n"
      ],
      "metadata": {
        "id": "RDVzL8rNylmE",
        "colab": {
          "base_uri": "https://localhost:8080/"
        },
        "outputId": "e9832432-f838-45bc-9ea5-6dbe4fdb1ec2"
      },
      "execution_count": null,
      "outputs": [
        {
          "output_type": "stream",
          "name": "stdout",
          "text": [
            "Creating new Ultralytics Settings v0.0.6 file ✅ \n",
            "View Ultralytics Settings with 'yolo settings' or at '/root/.config/Ultralytics/settings.json'\n",
            "Update Settings with 'yolo settings key=value', i.e. 'yolo settings runs_dir=path/to/dir'. For help see https://docs.ultralytics.com/quickstart/#ultralytics-settings.\n",
            "Downloading https://github.com/ultralytics/assets/releases/download/v8.3.0/yolo11s.pt to 'yolo11s.pt'...\n"
          ]
        },
        {
          "output_type": "stream",
          "name": "stderr",
          "text": [
            "100%|██████████| 18.4M/18.4M [00:00<00:00, 150MB/s]\n"
          ]
        }
      ]
    },
    {
      "cell_type": "code",
      "source": [
        "model.train(\n",
        "    data=f\"{dataset.location}/data.yaml\",  epochs=50,imgsz=512, batch=32,project=\"/content/drive/MyDrive/proM\",patience=5 ,device=0)\n"
      ],
      "metadata": {
        "colab": {
          "base_uri": "https://localhost:8080/"
        },
        "id": "uxSv5OTa0AJP",
        "outputId": "8345e73e-8d96-494d-f1a8-fa99853c53e4"
      },
      "execution_count": null,
      "outputs": [
        {
          "metadata": {
            "tags": null
          },
          "name": "stdout",
          "output_type": "stream",
          "text": [
            "Ultralytics 8.3.162 🚀 Python-3.11.13 torch-2.6.0+cu124 CUDA:0 (NVIDIA A100-SXM4-40GB, 40507MiB)\n",
            "\u001b[34m\u001b[1mengine/trainer: \u001b[0magnostic_nms=False, amp=True, augment=False, auto_augment=randaugment, batch=32, bgr=0.0, box=7.5, cache=False, cfg=None, classes=None, close_mosaic=10, cls=0.5, conf=None, copy_paste=0.0, copy_paste_mode=flip, cos_lr=False, cutmix=0.0, data=/content/SKU-110k-6/data.yaml, degrees=0.0, deterministic=True, device=0, dfl=1.5, dnn=False, dropout=0.0, dynamic=False, embed=None, epochs=50, erasing=0.4, exist_ok=False, fliplr=0.5, flipud=0.0, format=torchscript, fraction=1.0, freeze=None, half=False, hsv_h=0.015, hsv_s=0.7, hsv_v=0.4, imgsz=512, int8=False, iou=0.7, keras=False, kobj=1.0, line_width=None, lr0=0.01, lrf=0.01, mask_ratio=4, max_det=300, mixup=0.0, mode=train, model=yolo11s.pt, momentum=0.937, mosaic=1.0, multi_scale=False, name=train2, nbs=64, nms=False, opset=None, optimize=False, optimizer=auto, overlap_mask=True, patience=5, perspective=0.0, plots=True, pose=12.0, pretrained=True, profile=False, project=/content/drive/MyDrive/proM, rect=False, resume=False, retina_masks=False, save=True, save_conf=False, save_crop=False, save_dir=/content/drive/MyDrive/proM/train2, save_frames=False, save_json=False, save_period=-1, save_txt=False, scale=0.5, seed=0, shear=0.0, show=False, show_boxes=True, show_conf=True, show_labels=True, simplify=True, single_cls=False, source=None, split=val, stream_buffer=False, task=detect, time=None, tracker=botsort.yaml, translate=0.1, val=True, verbose=True, vid_stride=1, visualize=False, warmup_bias_lr=0.1, warmup_epochs=3.0, warmup_momentum=0.8, weight_decay=0.0005, workers=8, workspace=None\n",
            "\n",
            "                   from  n    params  module                                       arguments                     \n",
            "  0                  -1  1       928  ultralytics.nn.modules.conv.Conv             [3, 32, 3, 2]                 \n",
            "  1                  -1  1     18560  ultralytics.nn.modules.conv.Conv             [32, 64, 3, 2]                \n",
            "  2                  -1  1     26080  ultralytics.nn.modules.block.C3k2            [64, 128, 1, False, 0.25]     \n",
            "  3                  -1  1    147712  ultralytics.nn.modules.conv.Conv             [128, 128, 3, 2]              \n",
            "  4                  -1  1    103360  ultralytics.nn.modules.block.C3k2            [128, 256, 1, False, 0.25]    \n",
            "  5                  -1  1    590336  ultralytics.nn.modules.conv.Conv             [256, 256, 3, 2]              \n",
            "  6                  -1  1    346112  ultralytics.nn.modules.block.C3k2            [256, 256, 1, True]           \n",
            "  7                  -1  1   1180672  ultralytics.nn.modules.conv.Conv             [256, 512, 3, 2]              \n",
            "  8                  -1  1   1380352  ultralytics.nn.modules.block.C3k2            [512, 512, 1, True]           \n",
            "  9                  -1  1    656896  ultralytics.nn.modules.block.SPPF            [512, 512, 5]                 \n",
            " 10                  -1  1    990976  ultralytics.nn.modules.block.C2PSA           [512, 512, 1]                 \n",
            " 11                  -1  1         0  torch.nn.modules.upsampling.Upsample         [None, 2, 'nearest']          \n",
            " 12             [-1, 6]  1         0  ultralytics.nn.modules.conv.Concat           [1]                           \n",
            " 13                  -1  1    443776  ultralytics.nn.modules.block.C3k2            [768, 256, 1, False]          \n",
            " 14                  -1  1         0  torch.nn.modules.upsampling.Upsample         [None, 2, 'nearest']          \n",
            " 15             [-1, 4]  1         0  ultralytics.nn.modules.conv.Concat           [1]                           \n",
            " 16                  -1  1    127680  ultralytics.nn.modules.block.C3k2            [512, 128, 1, False]          \n",
            " 17                  -1  1    147712  ultralytics.nn.modules.conv.Conv             [128, 128, 3, 2]              \n",
            " 18            [-1, 13]  1         0  ultralytics.nn.modules.conv.Concat           [1]                           \n",
            " 19                  -1  1    345472  ultralytics.nn.modules.block.C3k2            [384, 256, 1, False]          \n",
            " 20                  -1  1    590336  ultralytics.nn.modules.conv.Conv             [256, 256, 3, 2]              \n",
            " 21            [-1, 10]  1         0  ultralytics.nn.modules.conv.Concat           [1]                           \n",
            " 22                  -1  1   1511424  ultralytics.nn.modules.block.C3k2            [768, 512, 1, True]           \n",
            " 23        [16, 19, 22]  1    819795  ultralytics.nn.modules.head.Detect           [1, [128, 256, 512]]          \n",
            "YOLO11s summary: 181 layers, 9,428,179 parameters, 9,428,163 gradients, 21.5 GFLOPs\n",
            "\n",
            "Transferred 499/499 items from pretrained weights\n"
          ]
        },
        {
          "metadata": {
            "tags": null
          },
          "name": "stderr",
          "output_type": "stream",
          "text": [
            "Traceback (most recent call last):\n",
            "  File \"/usr/lib/python3.11/multiprocessing/queues.py\", line 239, in _feed\n",
            "    reader_close()\n",
            "  File \"/usr/lib/python3.11/multiprocessing/connection.py\", line 178, in close\n",
            "    self._close()\n",
            "  File \"/usr/lib/python3.11/multiprocessing/connection.py\", line 377, in _close\n",
            "    _close(self._handle)\n",
            "OSError: [Errno 9] Bad file descriptor\n"
          ]
        },
        {
          "metadata": {
            "tags": null
          },
          "name": "stdout",
          "output_type": "stream",
          "text": [
            "Freezing layer 'model.23.dfl.conv.weight'\n",
            "\u001b[34m\u001b[1mAMP: \u001b[0mrunning Automatic Mixed Precision (AMP) checks...\n",
            "\u001b[34m\u001b[1mAMP: \u001b[0mchecks passed ✅\n",
            "\u001b[34m\u001b[1mtrain: \u001b[0mFast image access ✅ (ping: 0.0±0.0 ms, read: 4552.4±921.2 MB/s, size: 813.6 KB)\n"
          ]
        },
        {
          "metadata": {
            "tags": null
          },
          "name": "stderr",
          "output_type": "stream",
          "text": [
            "\u001b[34m\u001b[1mtrain: \u001b[0mScanning /content/SKU-110k-6/train/labels.cache... 6998 images, 0 backgrounds, 0 corrupt: 100%|██████████| 6998/6998 [00:00<?, ?it/s]"
          ]
        },
        {
          "metadata": {
            "tags": null
          },
          "name": "stdout",
          "output_type": "stream",
          "text": [
            "\u001b[34m\u001b[1mtrain: \u001b[0m/content/SKU-110k-6/train/images/train_1797_jpg.rf.e3170884057c07fd6bd025748f8e988c.jpg: 3 duplicate labels removed\n",
            "\u001b[34m\u001b[1malbumentations: \u001b[0mBlur(p=0.01, blur_limit=(3, 7)), MedianBlur(p=0.01, blur_limit=(3, 7)), ToGray(p=0.01, method='weighted_average', num_output_channels=3), CLAHE(p=0.01, clip_limit=(1.0, 4.0), tile_grid_size=(8, 8))\n"
          ]
        },
        {
          "metadata": {
            "tags": null
          },
          "name": "stderr",
          "output_type": "stream",
          "text": [
            "\n"
          ]
        },
        {
          "metadata": {
            "tags": null
          },
          "name": "stdout",
          "output_type": "stream",
          "text": [
            "\u001b[34m\u001b[1mval: \u001b[0mFast image access ✅ (ping: 0.0±0.0 ms, read: 2197.1±2068.4 MB/s, size: 950.4 KB)\n"
          ]
        },
        {
          "metadata": {
            "tags": null
          },
          "name": "stderr",
          "output_type": "stream",
          "text": [
            "\u001b[34m\u001b[1mval: \u001b[0mScanning /content/SKU-110k-6/valid/labels.cache... 2000 images, 0 backgrounds, 0 corrupt: 100%|██████████| 2000/2000 [00:00<?, ?it/s]\n"
          ]
        },
        {
          "metadata": {
            "tags": null
          },
          "name": "stdout",
          "output_type": "stream",
          "text": [
            "Plotting labels to /content/drive/MyDrive/proM/train2/labels.jpg... \n",
            "\u001b[34m\u001b[1moptimizer:\u001b[0m 'optimizer=auto' found, ignoring 'lr0=0.01' and 'momentum=0.937' and determining best 'optimizer', 'lr0' and 'momentum' automatically... \n",
            "\u001b[34m\u001b[1moptimizer:\u001b[0m AdamW(lr=0.002, momentum=0.9) with parameter groups 81 weight(decay=0.0), 88 weight(decay=0.0005), 87 bias(decay=0.0)\n",
            "Image sizes 512 train, 512 val\n",
            "Using 8 dataloader workers\n",
            "Logging results to \u001b[1m/content/drive/MyDrive/proM/train2\u001b[0m\n",
            "Starting training for 50 epochs...\n",
            "\n",
            "      Epoch    GPU_mem   box_loss   cls_loss   dfl_loss  Instances       Size\n"
          ]
        },
        {
          "metadata": {
            "tags": null
          },
          "name": "stderr",
          "output_type": "stream",
          "text": [
            "       1/50      16.1G      1.434     0.6686     0.9597       5338        512: 100%|██████████| 219/219 [00:55<00:00,  3.94it/s]\n",
            "                 Class     Images  Instances      Box(P          R      mAP50  mAP50-95): 100%|██████████| 32/32 [00:15<00:00,  2.08it/s]\n"
          ]
        },
        {
          "metadata": {
            "tags": null
          },
          "name": "stdout",
          "output_type": "stream",
          "text": [
            "                   all       2000     290655      0.846      0.763      0.849      0.505\n",
            "\n",
            "      Epoch    GPU_mem   box_loss   cls_loss   dfl_loss  Instances       Size\n"
          ]
        },
        {
          "metadata": {
            "tags": null
          },
          "name": "stderr",
          "output_type": "stream",
          "text": [
            "       2/50      16.2G      1.455      0.689       0.97       4736        512: 100%|██████████| 219/219 [00:52<00:00,  4.19it/s]\n",
            "                 Class     Images  Instances      Box(P          R      mAP50  mAP50-95): 100%|██████████| 32/32 [00:15<00:00,  2.06it/s]\n"
          ]
        },
        {
          "metadata": {
            "tags": null
          },
          "name": "stdout",
          "output_type": "stream",
          "text": [
            "                   all       2000     290655      0.854      0.779      0.857      0.517\n",
            "\n",
            "      Epoch    GPU_mem   box_loss   cls_loss   dfl_loss  Instances       Size\n"
          ]
        },
        {
          "metadata": {
            "tags": null
          },
          "name": "stderr",
          "output_type": "stream",
          "text": [
            "       3/50      16.2G      1.448     0.6834     0.9637       6474        512: 100%|██████████| 219/219 [00:51<00:00,  4.28it/s]\n",
            "                 Class     Images  Instances      Box(P          R      mAP50  mAP50-95): 100%|██████████| 32/32 [00:15<00:00,  2.05it/s]\n"
          ]
        },
        {
          "metadata": {
            "tags": null
          },
          "name": "stdout",
          "output_type": "stream",
          "text": [
            "                   all       2000     290655       0.85      0.775      0.853      0.508\n",
            "\n",
            "      Epoch    GPU_mem   box_loss   cls_loss   dfl_loss  Instances       Size\n"
          ]
        },
        {
          "metadata": {
            "tags": null
          },
          "name": "stderr",
          "output_type": "stream",
          "text": [
            "       4/50        19G      1.452     0.6819     0.9628       4306        512: 100%|██████████| 219/219 [00:51<00:00,  4.23it/s]\n",
            "                 Class     Images  Instances      Box(P          R      mAP50  mAP50-95): 100%|██████████| 32/32 [00:15<00:00,  2.07it/s]\n"
          ]
        },
        {
          "metadata": {
            "tags": null
          },
          "name": "stdout",
          "output_type": "stream",
          "text": [
            "                   all       2000     290655      0.854      0.796      0.868      0.521\n",
            "\n",
            "      Epoch    GPU_mem   box_loss   cls_loss   dfl_loss  Instances       Size\n"
          ]
        },
        {
          "metadata": {
            "tags": null
          },
          "name": "stderr",
          "output_type": "stream",
          "text": [
            "       5/50      21.9G      1.437     0.6722     0.9578       4999        512: 100%|██████████| 219/219 [00:51<00:00,  4.23it/s]\n",
            "                 Class     Images  Instances      Box(P          R      mAP50  mAP50-95): 100%|██████████| 32/32 [00:15<00:00,  2.08it/s]\n"
          ]
        },
        {
          "metadata": {
            "tags": null
          },
          "name": "stdout",
          "output_type": "stream",
          "text": [
            "                   all       2000     290655      0.864      0.799      0.872      0.532\n",
            "\n",
            "      Epoch    GPU_mem   box_loss   cls_loss   dfl_loss  Instances       Size\n"
          ]
        },
        {
          "metadata": {
            "tags": null
          },
          "name": "stderr",
          "output_type": "stream",
          "text": [
            "       6/50      13.1G      1.423      0.661     0.9499       4325        512: 100%|██████████| 219/219 [00:51<00:00,  4.26it/s]\n",
            "                 Class     Images  Instances      Box(P          R      mAP50  mAP50-95): 100%|██████████| 32/32 [00:15<00:00,  2.08it/s]\n"
          ]
        },
        {
          "metadata": {
            "tags": null
          },
          "name": "stdout",
          "output_type": "stream",
          "text": [
            "                   all       2000     290655      0.875      0.803      0.883      0.546\n",
            "\n",
            "      Epoch    GPU_mem   box_loss   cls_loss   dfl_loss  Instances       Size\n"
          ]
        },
        {
          "metadata": {
            "tags": null
          },
          "name": "stderr",
          "output_type": "stream",
          "text": [
            "       7/50      13.2G      1.408     0.6523     0.9459       5894        512: 100%|██████████| 219/219 [00:51<00:00,  4.26it/s]\n",
            "                 Class     Images  Instances      Box(P          R      mAP50  mAP50-95): 100%|██████████| 32/32 [00:15<00:00,  2.08it/s]\n"
          ]
        },
        {
          "metadata": {
            "tags": null
          },
          "name": "stdout",
          "output_type": "stream",
          "text": [
            "                   all       2000     290655      0.869      0.801      0.882      0.536\n",
            "\n",
            "      Epoch    GPU_mem   box_loss   cls_loss   dfl_loss  Instances       Size\n"
          ]
        },
        {
          "metadata": {
            "tags": null
          },
          "name": "stderr",
          "output_type": "stream",
          "text": [
            "       8/50      18.6G      1.409     0.6492     0.9459       4457        512: 100%|██████████| 219/219 [00:51<00:00,  4.28it/s]\n",
            "                 Class     Images  Instances      Box(P          R      mAP50  mAP50-95): 100%|██████████| 32/32 [00:15<00:00,  2.01it/s]\n"
          ]
        },
        {
          "metadata": {
            "tags": null
          },
          "name": "stdout",
          "output_type": "stream",
          "text": [
            "                   all       2000     290655       0.87      0.806      0.884      0.535\n",
            "\n",
            "      Epoch    GPU_mem   box_loss   cls_loss   dfl_loss  Instances       Size\n"
          ]
        },
        {
          "metadata": {
            "tags": null
          },
          "name": "stderr",
          "output_type": "stream",
          "text": [
            "       9/50      18.6G      1.392      0.638      0.941       5204        512: 100%|██████████| 219/219 [00:52<00:00,  4.18it/s]\n",
            "                 Class     Images  Instances      Box(P          R      mAP50  mAP50-95): 100%|██████████| 32/32 [00:15<00:00,  2.07it/s]\n"
          ]
        },
        {
          "metadata": {
            "tags": null
          },
          "name": "stdout",
          "output_type": "stream",
          "text": [
            "                   all       2000     290655      0.878       0.81      0.883      0.541\n",
            "\n",
            "      Epoch    GPU_mem   box_loss   cls_loss   dfl_loss  Instances       Size\n"
          ]
        },
        {
          "metadata": {
            "tags": null
          },
          "name": "stderr",
          "output_type": "stream",
          "text": [
            "      10/50      18.6G      1.394     0.6355     0.9408       5029        512: 100%|██████████| 219/219 [00:51<00:00,  4.24it/s]\n",
            "                 Class     Images  Instances      Box(P          R      mAP50  mAP50-95): 100%|██████████| 32/32 [00:15<00:00,  2.12it/s]\n"
          ]
        },
        {
          "metadata": {
            "tags": null
          },
          "name": "stdout",
          "output_type": "stream",
          "text": [
            "                   all       2000     290655      0.882      0.813      0.894      0.548\n",
            "\n",
            "      Epoch    GPU_mem   box_loss   cls_loss   dfl_loss  Instances       Size\n"
          ]
        },
        {
          "metadata": {
            "tags": null
          },
          "name": "stderr",
          "output_type": "stream",
          "text": [
            "      11/50      18.6G      1.388     0.6312     0.9383       5113        512: 100%|██████████| 219/219 [00:52<00:00,  4.17it/s]\n",
            "                 Class     Images  Instances      Box(P          R      mAP50  mAP50-95): 100%|██████████| 32/32 [00:15<00:00,  2.12it/s]\n"
          ]
        },
        {
          "metadata": {
            "tags": null
          },
          "name": "stdout",
          "output_type": "stream",
          "text": [
            "                   all       2000     290655      0.888       0.82      0.896      0.555\n",
            "\n",
            "      Epoch    GPU_mem   box_loss   cls_loss   dfl_loss  Instances       Size\n"
          ]
        },
        {
          "metadata": {
            "tags": null
          },
          "name": "stderr",
          "output_type": "stream",
          "text": [
            "      12/50      18.6G      1.378     0.6252     0.9357       4771        512: 100%|██████████| 219/219 [00:51<00:00,  4.29it/s]\n",
            "                 Class     Images  Instances      Box(P          R      mAP50  mAP50-95): 100%|██████████| 32/32 [00:15<00:00,  2.06it/s]\n"
          ]
        },
        {
          "metadata": {
            "tags": null
          },
          "name": "stdout",
          "output_type": "stream",
          "text": [
            "                   all       2000     290655      0.885      0.822      0.896      0.556\n",
            "\n",
            "      Epoch    GPU_mem   box_loss   cls_loss   dfl_loss  Instances       Size\n"
          ]
        },
        {
          "metadata": {
            "tags": null
          },
          "name": "stderr",
          "output_type": "stream",
          "text": [
            "      13/50      21.4G      1.379     0.6238     0.9366       5567        512: 100%|██████████| 219/219 [00:50<00:00,  4.33it/s]\n",
            "                 Class     Images  Instances      Box(P          R      mAP50  mAP50-95): 100%|██████████| 32/32 [00:15<00:00,  2.07it/s]\n"
          ]
        },
        {
          "metadata": {
            "tags": null
          },
          "name": "stdout",
          "output_type": "stream",
          "text": [
            "                   all       2000     290655      0.891      0.821      0.898      0.557\n",
            "\n",
            "      Epoch    GPU_mem   box_loss   cls_loss   dfl_loss  Instances       Size\n"
          ]
        },
        {
          "metadata": {
            "tags": null
          },
          "name": "stderr",
          "output_type": "stream",
          "text": [
            "      14/50        18G      1.372     0.6184     0.9328       4432        512: 100%|██████████| 219/219 [00:51<00:00,  4.26it/s]\n",
            "                 Class     Images  Instances      Box(P          R      mAP50  mAP50-95): 100%|██████████| 32/32 [00:15<00:00,  2.06it/s]\n"
          ]
        },
        {
          "metadata": {
            "tags": null
          },
          "name": "stdout",
          "output_type": "stream",
          "text": [
            "                   all       2000     290655      0.885      0.823      0.893      0.558\n",
            "\n",
            "      Epoch    GPU_mem   box_loss   cls_loss   dfl_loss  Instances       Size\n"
          ]
        },
        {
          "metadata": {
            "tags": null
          },
          "name": "stderr",
          "output_type": "stream",
          "text": [
            "      15/50        18G       1.36     0.6147      0.932       4767        512: 100%|██████████| 219/219 [00:51<00:00,  4.28it/s]\n",
            "                 Class     Images  Instances      Box(P          R      mAP50  mAP50-95): 100%|██████████| 32/32 [00:15<00:00,  2.04it/s]\n"
          ]
        },
        {
          "metadata": {
            "tags": null
          },
          "name": "stdout",
          "output_type": "stream",
          "text": [
            "                   all       2000     290655       0.89      0.828        0.9      0.562\n",
            "\n",
            "      Epoch    GPU_mem   box_loss   cls_loss   dfl_loss  Instances       Size\n"
          ]
        },
        {
          "metadata": {
            "tags": null
          },
          "name": "stderr",
          "output_type": "stream",
          "text": [
            "      16/50      20.8G      1.366     0.6152     0.9339       5113        512: 100%|██████████| 219/219 [00:51<00:00,  4.26it/s]\n",
            "                 Class     Images  Instances      Box(P          R      mAP50  mAP50-95): 100%|██████████| 32/32 [00:15<00:00,  2.10it/s]\n"
          ]
        },
        {
          "metadata": {
            "tags": null
          },
          "name": "stdout",
          "output_type": "stream",
          "text": [
            "                   all       2000     290655      0.892      0.832      0.903      0.565\n",
            "\n",
            "      Epoch    GPU_mem   box_loss   cls_loss   dfl_loss  Instances       Size\n"
          ]
        },
        {
          "metadata": {
            "tags": null
          },
          "name": "stderr",
          "output_type": "stream",
          "text": [
            "      17/50      14.5G      1.359     0.6088     0.9307       5269        512: 100%|██████████| 219/219 [00:50<00:00,  4.34it/s]\n",
            "                 Class     Images  Instances      Box(P          R      mAP50  mAP50-95): 100%|██████████| 32/32 [00:15<00:00,  2.09it/s]\n"
          ]
        },
        {
          "metadata": {
            "tags": null
          },
          "name": "stdout",
          "output_type": "stream",
          "text": [
            "                   all       2000     290655      0.889      0.833      0.903      0.567\n",
            "\n",
            "      Epoch    GPU_mem   box_loss   cls_loss   dfl_loss  Instances       Size\n"
          ]
        },
        {
          "metadata": {
            "tags": null
          },
          "name": "stderr",
          "output_type": "stream",
          "text": [
            "      18/50      17.5G      1.353     0.6064     0.9288       5972        512: 100%|██████████| 219/219 [00:51<00:00,  4.26it/s]\n",
            "                 Class     Images  Instances      Box(P          R      mAP50  mAP50-95): 100%|██████████| 32/32 [00:14<00:00,  2.16it/s]\n"
          ]
        },
        {
          "metadata": {
            "tags": null
          },
          "name": "stdout",
          "output_type": "stream",
          "text": [
            "                   all       2000     290655      0.891      0.828      0.897      0.565\n",
            "\n",
            "      Epoch    GPU_mem   box_loss   cls_loss   dfl_loss  Instances       Size\n"
          ]
        },
        {
          "metadata": {
            "tags": null
          },
          "name": "stderr",
          "output_type": "stream",
          "text": [
            "      19/50      17.5G      1.354     0.6042      0.929       5078        512: 100%|██████████| 219/219 [00:51<00:00,  4.23it/s]\n",
            "                 Class     Images  Instances      Box(P          R      mAP50  mAP50-95): 100%|██████████| 32/32 [00:15<00:00,  2.11it/s]\n"
          ]
        },
        {
          "metadata": {
            "tags": null
          },
          "name": "stdout",
          "output_type": "stream",
          "text": [
            "                   all       2000     290655      0.891      0.835      0.907      0.567\n",
            "\n",
            "      Epoch    GPU_mem   box_loss   cls_loss   dfl_loss  Instances       Size\n"
          ]
        },
        {
          "metadata": {
            "tags": null
          },
          "name": "stderr",
          "output_type": "stream",
          "text": [
            "      20/50      20.5G      1.351     0.6002      0.928       5305        512: 100%|██████████| 219/219 [00:51<00:00,  4.27it/s]\n",
            "                 Class     Images  Instances      Box(P          R      mAP50  mAP50-95): 100%|██████████| 32/32 [00:15<00:00,  2.08it/s]\n"
          ]
        },
        {
          "metadata": {
            "tags": null
          },
          "name": "stdout",
          "output_type": "stream",
          "text": [
            "                   all       2000     290655      0.893      0.838      0.907       0.57\n",
            "\n",
            "      Epoch    GPU_mem   box_loss   cls_loss   dfl_loss  Instances       Size\n"
          ]
        },
        {
          "metadata": {
            "tags": null
          },
          "name": "stderr",
          "output_type": "stream",
          "text": [
            "      21/50      14.2G      1.351     0.6033     0.9278       5398        512: 100%|██████████| 219/219 [00:51<00:00,  4.26it/s]\n",
            "                 Class     Images  Instances      Box(P          R      mAP50  mAP50-95): 100%|██████████| 32/32 [00:15<00:00,  2.09it/s]\n"
          ]
        },
        {
          "metadata": {
            "tags": null
          },
          "name": "stdout",
          "output_type": "stream",
          "text": [
            "                   all       2000     290655      0.893      0.835      0.905      0.569\n",
            "\n",
            "      Epoch    GPU_mem   box_loss   cls_loss   dfl_loss  Instances       Size\n"
          ]
        },
        {
          "metadata": {
            "tags": null
          },
          "name": "stderr",
          "output_type": "stream",
          "text": [
            "      22/50      14.3G      1.342      0.596     0.9254       5052        512: 100%|██████████| 219/219 [00:51<00:00,  4.27it/s]\n",
            "                 Class     Images  Instances      Box(P          R      mAP50  mAP50-95): 100%|██████████| 32/32 [00:15<00:00,  2.06it/s]\n"
          ]
        },
        {
          "metadata": {
            "tags": null
          },
          "name": "stdout",
          "output_type": "stream",
          "text": [
            "                   all       2000     290655      0.897      0.837      0.907      0.571\n",
            "\n",
            "      Epoch    GPU_mem   box_loss   cls_loss   dfl_loss  Instances       Size\n"
          ]
        },
        {
          "metadata": {
            "tags": null
          },
          "name": "stderr",
          "output_type": "stream",
          "text": [
            "      23/50        17G       1.34     0.5934     0.9257       4222        512: 100%|██████████| 219/219 [00:50<00:00,  4.30it/s]\n",
            "                 Class     Images  Instances      Box(P          R      mAP50  mAP50-95): 100%|██████████| 32/32 [00:15<00:00,  2.07it/s]\n"
          ]
        },
        {
          "metadata": {
            "tags": null
          },
          "name": "stdout",
          "output_type": "stream",
          "text": [
            "                   all       2000     290655      0.896       0.84      0.909      0.573\n",
            "\n",
            "      Epoch    GPU_mem   box_loss   cls_loss   dfl_loss  Instances       Size\n"
          ]
        },
        {
          "metadata": {
            "tags": null
          },
          "name": "stderr",
          "output_type": "stream",
          "text": [
            "      24/50        17G      1.336     0.5923     0.9236       5148        512: 100%|██████████| 219/219 [00:50<00:00,  4.34it/s]\n",
            "                 Class     Images  Instances      Box(P          R      mAP50  mAP50-95): 100%|██████████| 32/32 [00:15<00:00,  2.04it/s]\n"
          ]
        },
        {
          "metadata": {
            "tags": null
          },
          "name": "stdout",
          "output_type": "stream",
          "text": [
            "                   all       2000     290655      0.896      0.837      0.909      0.574\n",
            "\n",
            "      Epoch    GPU_mem   box_loss   cls_loss   dfl_loss  Instances       Size\n"
          ]
        },
        {
          "metadata": {
            "tags": null
          },
          "name": "stderr",
          "output_type": "stream",
          "text": [
            "      25/50        17G      1.332      0.587     0.9226       4785        512: 100%|██████████| 219/219 [00:51<00:00,  4.23it/s]\n",
            "                 Class     Images  Instances      Box(P          R      mAP50  mAP50-95): 100%|██████████| 32/32 [00:14<00:00,  2.15it/s]\n"
          ]
        },
        {
          "metadata": {
            "tags": null
          },
          "name": "stdout",
          "output_type": "stream",
          "text": [
            "                   all       2000     290655      0.901       0.84       0.91      0.576\n",
            "\n",
            "      Epoch    GPU_mem   box_loss   cls_loss   dfl_loss  Instances       Size\n"
          ]
        },
        {
          "metadata": {
            "tags": null
          },
          "name": "stderr",
          "output_type": "stream",
          "text": [
            "      26/50        17G      1.333     0.5888     0.9242       5468        512: 100%|██████████| 219/219 [00:51<00:00,  4.24it/s]\n",
            "                 Class     Images  Instances      Box(P          R      mAP50  mAP50-95): 100%|██████████| 32/32 [00:15<00:00,  2.11it/s]\n"
          ]
        },
        {
          "metadata": {
            "tags": null
          },
          "name": "stdout",
          "output_type": "stream",
          "text": [
            "                   all       2000     290655      0.896      0.841      0.909      0.574\n",
            "\n",
            "      Epoch    GPU_mem   box_loss   cls_loss   dfl_loss  Instances       Size\n"
          ]
        },
        {
          "metadata": {
            "tags": null
          },
          "name": "stderr",
          "output_type": "stream",
          "text": [
            "      27/50        17G      1.337     0.5892      0.924       4742        512: 100%|██████████| 219/219 [00:51<00:00,  4.25it/s]\n",
            "                 Class     Images  Instances      Box(P          R      mAP50  mAP50-95): 100%|██████████| 32/32 [00:15<00:00,  2.09it/s]\n"
          ]
        },
        {
          "metadata": {
            "tags": null
          },
          "name": "stdout",
          "output_type": "stream",
          "text": [
            "                   all       2000     290655      0.898      0.843       0.91      0.576\n",
            "\n",
            "      Epoch    GPU_mem   box_loss   cls_loss   dfl_loss  Instances       Size\n"
          ]
        },
        {
          "metadata": {
            "tags": null
          },
          "name": "stderr",
          "output_type": "stream",
          "text": [
            "      28/50        17G       1.33     0.5843     0.9204       5097        512: 100%|██████████| 219/219 [00:51<00:00,  4.25it/s]\n",
            "                 Class     Images  Instances      Box(P          R      mAP50  mAP50-95): 100%|██████████| 32/32 [00:15<00:00,  2.12it/s]\n"
          ]
        },
        {
          "metadata": {
            "tags": null
          },
          "name": "stdout",
          "output_type": "stream",
          "text": [
            "                   all       2000     290655      0.898      0.845      0.911      0.577\n",
            "\n",
            "      Epoch    GPU_mem   box_loss   cls_loss   dfl_loss  Instances       Size\n"
          ]
        },
        {
          "metadata": {
            "tags": null
          },
          "name": "stderr",
          "output_type": "stream",
          "text": [
            "      29/50        17G      1.333     0.5875     0.9215       4953        512: 100%|██████████| 219/219 [00:51<00:00,  4.25it/s]\n",
            "                 Class     Images  Instances      Box(P          R      mAP50  mAP50-95): 100%|██████████| 32/32 [00:15<00:00,  2.05it/s]\n"
          ]
        },
        {
          "metadata": {
            "tags": null
          },
          "name": "stdout",
          "output_type": "stream",
          "text": [
            "                   all       2000     290655      0.901      0.843      0.912      0.578\n",
            "\n",
            "      Epoch    GPU_mem   box_loss   cls_loss   dfl_loss  Instances       Size\n"
          ]
        },
        {
          "output_type": "stream",
          "name": "stderr",
          "text": [
            "      30/50      19.8G      1.326      0.582      0.919       5083        512: 100%|██████████| 219/219 [00:51<00:00,  4.24it/s]\n",
            "                 Class     Images  Instances      Box(P          R      mAP50  mAP50-95): 100%|██████████| 32/32 [00:14<00:00,  2.15it/s]\n"
          ]
        },
        {
          "output_type": "stream",
          "name": "stdout",
          "text": [
            "                   all       2000     290655      0.896      0.845      0.913      0.576\n",
            "\n",
            "      Epoch    GPU_mem   box_loss   cls_loss   dfl_loss  Instances       Size\n"
          ]
        },
        {
          "output_type": "stream",
          "name": "stderr",
          "text": [
            "      31/50        14G       1.32     0.5791     0.9199       4656        512: 100%|██████████| 219/219 [00:51<00:00,  4.24it/s]\n",
            "                 Class     Images  Instances      Box(P          R      mAP50  mAP50-95): 100%|██████████| 32/32 [00:15<00:00,  2.11it/s]\n"
          ]
        },
        {
          "output_type": "stream",
          "name": "stdout",
          "text": [
            "                   all       2000     290655        0.9      0.845      0.913      0.578\n",
            "\n",
            "      Epoch    GPU_mem   box_loss   cls_loss   dfl_loss  Instances       Size\n"
          ]
        },
        {
          "output_type": "stream",
          "name": "stderr",
          "text": [
            "      32/50      14.1G      1.315     0.5776     0.9181       5145        512: 100%|██████████| 219/219 [00:51<00:00,  4.23it/s]\n",
            "                 Class     Images  Instances      Box(P          R      mAP50  mAP50-95): 100%|██████████| 32/32 [00:15<00:00,  2.08it/s]\n"
          ]
        },
        {
          "output_type": "stream",
          "name": "stdout",
          "text": [
            "                   all       2000     290655        0.9      0.846      0.914      0.579\n",
            "\n",
            "      Epoch    GPU_mem   box_loss   cls_loss   dfl_loss  Instances       Size\n"
          ]
        },
        {
          "output_type": "stream",
          "name": "stderr",
          "text": [
            "      33/50        17G      1.316     0.5744     0.9174       4656        512: 100%|██████████| 219/219 [00:52<00:00,  4.18it/s]\n",
            "                 Class     Images  Instances      Box(P          R      mAP50  mAP50-95): 100%|██████████| 32/32 [00:15<00:00,  2.12it/s]\n"
          ]
        },
        {
          "output_type": "stream",
          "name": "stdout",
          "text": [
            "                   all       2000     290655      0.901       0.85      0.915      0.582\n",
            "\n",
            "      Epoch    GPU_mem   box_loss   cls_loss   dfl_loss  Instances       Size\n"
          ]
        },
        {
          "output_type": "stream",
          "name": "stderr",
          "text": [
            "      34/50        17G      1.313     0.5736     0.9175       4044        512: 100%|██████████| 219/219 [00:51<00:00,  4.21it/s]\n",
            "                 Class     Images  Instances      Box(P          R      mAP50  mAP50-95): 100%|██████████| 32/32 [00:15<00:00,  2.10it/s]\n"
          ]
        },
        {
          "output_type": "stream",
          "name": "stdout",
          "text": [
            "                   all       2000     290655      0.901      0.847      0.914       0.58\n",
            "\n",
            "      Epoch    GPU_mem   box_loss   cls_loss   dfl_loss  Instances       Size\n"
          ]
        },
        {
          "output_type": "stream",
          "name": "stderr",
          "text": [
            "      35/50        17G       1.31     0.5716     0.9165       5044        512: 100%|██████████| 219/219 [00:51<00:00,  4.29it/s]\n",
            "                 Class     Images  Instances      Box(P          R      mAP50  mAP50-95): 100%|██████████| 32/32 [00:15<00:00,  2.13it/s]\n"
          ]
        },
        {
          "output_type": "stream",
          "name": "stdout",
          "text": [
            "                   all       2000     290655        0.9      0.849      0.916      0.581\n",
            "\n",
            "      Epoch    GPU_mem   box_loss   cls_loss   dfl_loss  Instances       Size\n"
          ]
        },
        {
          "output_type": "stream",
          "name": "stderr",
          "text": [
            "      36/50        17G      1.316     0.5731     0.9169       4051        512: 100%|██████████| 219/219 [00:51<00:00,  4.24it/s]\n",
            "                 Class     Images  Instances      Box(P          R      mAP50  mAP50-95): 100%|██████████| 32/32 [00:15<00:00,  2.10it/s]\n"
          ]
        },
        {
          "output_type": "stream",
          "name": "stdout",
          "text": [
            "                   all       2000     290655      0.901      0.849      0.916      0.582\n",
            "\n",
            "      Epoch    GPU_mem   box_loss   cls_loss   dfl_loss  Instances       Size\n"
          ]
        },
        {
          "output_type": "stream",
          "name": "stderr",
          "text": [
            "      37/50        17G      1.309     0.5688     0.9162       4865        512: 100%|██████████| 219/219 [00:51<00:00,  4.29it/s]\n",
            "                 Class     Images  Instances      Box(P          R      mAP50  mAP50-95): 100%|██████████| 32/32 [00:15<00:00,  2.09it/s]\n"
          ]
        },
        {
          "output_type": "stream",
          "name": "stdout",
          "text": [
            "                   all       2000     290655      0.903       0.85      0.915      0.582\n",
            "\n",
            "      Epoch    GPU_mem   box_loss   cls_loss   dfl_loss  Instances       Size\n"
          ]
        },
        {
          "output_type": "stream",
          "name": "stderr",
          "text": [
            "      38/50      20.2G      1.304     0.5654     0.9144       5313        512: 100%|██████████| 219/219 [00:51<00:00,  4.22it/s]\n",
            "                 Class     Images  Instances      Box(P          R      mAP50  mAP50-95): 100%|██████████| 32/32 [00:15<00:00,  2.08it/s]\n"
          ]
        },
        {
          "output_type": "stream",
          "name": "stdout",
          "text": [
            "                   all       2000     290655      0.902      0.851      0.916      0.582\n",
            "\n",
            "      Epoch    GPU_mem   box_loss   cls_loss   dfl_loss  Instances       Size\n"
          ]
        },
        {
          "output_type": "stream",
          "name": "stderr",
          "text": [
            "      39/50      14.1G      1.305     0.5655     0.9145       4346        512: 100%|██████████| 219/219 [00:51<00:00,  4.24it/s]\n",
            "                 Class     Images  Instances      Box(P          R      mAP50  mAP50-95): 100%|██████████| 32/32 [00:15<00:00,  2.09it/s]\n"
          ]
        },
        {
          "output_type": "stream",
          "name": "stdout",
          "text": [
            "                   all       2000     290655      0.902      0.851      0.916      0.584\n",
            "\n",
            "      Epoch    GPU_mem   box_loss   cls_loss   dfl_loss  Instances       Size\n"
          ]
        },
        {
          "output_type": "stream",
          "name": "stderr",
          "text": [
            "      40/50      14.1G      1.302     0.5633     0.9149       5365        512: 100%|██████████| 219/219 [00:51<00:00,  4.27it/s]\n",
            "                 Class     Images  Instances      Box(P          R      mAP50  mAP50-95): 100%|██████████| 32/32 [00:15<00:00,  2.10it/s]\n"
          ]
        },
        {
          "output_type": "stream",
          "name": "stdout",
          "text": [
            "                   all       2000     290655      0.902      0.852      0.918      0.584\n",
            "Closing dataloader mosaic\n",
            "\u001b[34m\u001b[1malbumentations: \u001b[0mBlur(p=0.01, blur_limit=(3, 7)), MedianBlur(p=0.01, blur_limit=(3, 7)), ToGray(p=0.01, method='weighted_average', num_output_channels=3), CLAHE(p=0.01, clip_limit=(1.0, 4.0), tile_grid_size=(8, 8))\n",
            "\n",
            "      Epoch    GPU_mem   box_loss   cls_loss   dfl_loss  Instances       Size\n"
          ]
        },
        {
          "output_type": "stream",
          "name": "stderr",
          "text": [
            "      41/50      14.1G      1.293     0.5604     0.9302       2972        512: 100%|██████████| 219/219 [00:55<00:00,  3.94it/s]\n",
            "                 Class     Images  Instances      Box(P          R      mAP50  mAP50-95): 100%|██████████| 32/32 [00:15<00:00,  2.04it/s]\n"
          ]
        },
        {
          "output_type": "stream",
          "name": "stdout",
          "text": [
            "                   all       2000     290655      0.899       0.85      0.915      0.582\n",
            "\n",
            "      Epoch    GPU_mem   box_loss   cls_loss   dfl_loss  Instances       Size\n"
          ]
        },
        {
          "output_type": "stream",
          "name": "stderr",
          "text": [
            "      42/50      14.1G      1.285     0.5535     0.9266       3220        512: 100%|██████████| 219/219 [00:50<00:00,  4.36it/s]\n",
            "                 Class     Images  Instances      Box(P          R      mAP50  mAP50-95): 100%|██████████| 32/32 [00:15<00:00,  2.10it/s]\n"
          ]
        },
        {
          "output_type": "stream",
          "name": "stdout",
          "text": [
            "                   all       2000     290655      0.901      0.851      0.916      0.583\n",
            "\n",
            "      Epoch    GPU_mem   box_loss   cls_loss   dfl_loss  Instances       Size\n"
          ]
        },
        {
          "output_type": "stream",
          "name": "stderr",
          "text": [
            "      43/50      14.1G      1.284     0.5493     0.9267       2953        512: 100%|██████████| 219/219 [00:50<00:00,  4.34it/s]\n",
            "                 Class     Images  Instances      Box(P          R      mAP50  mAP50-95): 100%|██████████| 32/32 [00:15<00:00,  2.09it/s]\n"
          ]
        },
        {
          "output_type": "stream",
          "name": "stdout",
          "text": [
            "                   all       2000     290655      0.904       0.85      0.917      0.584\n",
            "\n",
            "      Epoch    GPU_mem   box_loss   cls_loss   dfl_loss  Instances       Size\n"
          ]
        },
        {
          "output_type": "stream",
          "name": "stderr",
          "text": [
            "      44/50      14.1G      1.283     0.5473     0.9265       3368        512: 100%|██████████| 219/219 [00:50<00:00,  4.37it/s]\n",
            "                 Class     Images  Instances      Box(P          R      mAP50  mAP50-95): 100%|██████████| 32/32 [00:15<00:00,  2.06it/s]\n"
          ]
        },
        {
          "output_type": "stream",
          "name": "stdout",
          "text": [
            "                   all       2000     290655      0.904      0.852      0.918      0.585\n",
            "\n",
            "      Epoch    GPU_mem   box_loss   cls_loss   dfl_loss  Instances       Size\n"
          ]
        },
        {
          "output_type": "stream",
          "name": "stderr",
          "text": [
            "      45/50      14.1G       1.28     0.5455     0.9251       2977        512: 100%|██████████| 219/219 [00:50<00:00,  4.30it/s]\n",
            "                 Class     Images  Instances      Box(P          R      mAP50  mAP50-95): 100%|██████████| 32/32 [00:15<00:00,  2.11it/s]\n"
          ]
        },
        {
          "output_type": "stream",
          "name": "stdout",
          "text": [
            "                   all       2000     290655      0.903      0.852      0.917      0.584\n",
            "\n",
            "      Epoch    GPU_mem   box_loss   cls_loss   dfl_loss  Instances       Size\n"
          ]
        },
        {
          "output_type": "stream",
          "name": "stderr",
          "text": [
            "      46/50      14.1G      1.276     0.5431      0.925       2940        512: 100%|██████████| 219/219 [00:50<00:00,  4.34it/s]\n",
            "                 Class     Images  Instances      Box(P          R      mAP50  mAP50-95): 100%|██████████| 32/32 [00:15<00:00,  2.10it/s]\n"
          ]
        },
        {
          "output_type": "stream",
          "name": "stdout",
          "text": [
            "                   all       2000     290655      0.903      0.854      0.918      0.585\n",
            "\n",
            "      Epoch    GPU_mem   box_loss   cls_loss   dfl_loss  Instances       Size\n"
          ]
        },
        {
          "output_type": "stream",
          "name": "stderr",
          "text": [
            "      47/50      14.1G      1.271     0.5382     0.9223       3124        512: 100%|██████████| 219/219 [00:51<00:00,  4.29it/s]\n",
            "                 Class     Images  Instances      Box(P          R      mAP50  mAP50-95): 100%|██████████| 32/32 [00:14<00:00,  2.17it/s]\n"
          ]
        },
        {
          "output_type": "stream",
          "name": "stdout",
          "text": [
            "                   all       2000     290655      0.903      0.854      0.918      0.585\n",
            "\n",
            "      Epoch    GPU_mem   box_loss   cls_loss   dfl_loss  Instances       Size\n"
          ]
        },
        {
          "output_type": "stream",
          "name": "stderr",
          "text": [
            "      48/50      14.1G      1.269     0.5376     0.9216       2751        512: 100%|██████████| 219/219 [00:50<00:00,  4.35it/s]\n",
            "                 Class     Images  Instances      Box(P          R      mAP50  mAP50-95): 100%|██████████| 32/32 [00:14<00:00,  2.15it/s]\n"
          ]
        },
        {
          "output_type": "stream",
          "name": "stdout",
          "text": [
            "                   all       2000     290655      0.904      0.853      0.918      0.585\n",
            "\n",
            "      Epoch    GPU_mem   box_loss   cls_loss   dfl_loss  Instances       Size\n"
          ]
        },
        {
          "output_type": "stream",
          "name": "stderr",
          "text": [
            "      49/50      14.1G      1.265     0.5351     0.9213       3069        512: 100%|██████████| 219/219 [00:49<00:00,  4.40it/s]\n",
            "                 Class     Images  Instances      Box(P          R      mAP50  mAP50-95): 100%|██████████| 32/32 [00:15<00:00,  2.09it/s]\n"
          ]
        },
        {
          "output_type": "stream",
          "name": "stdout",
          "text": [
            "                   all       2000     290655      0.904      0.854      0.918      0.585\n",
            "\n",
            "      Epoch    GPU_mem   box_loss   cls_loss   dfl_loss  Instances       Size\n"
          ]
        },
        {
          "output_type": "stream",
          "name": "stderr",
          "text": [
            "      50/50      14.1G      1.262     0.5323       0.92       3251        512: 100%|██████████| 219/219 [00:50<00:00,  4.35it/s]\n",
            "                 Class     Images  Instances      Box(P          R      mAP50  mAP50-95): 100%|██████████| 32/32 [00:15<00:00,  2.12it/s]\n"
          ]
        },
        {
          "output_type": "stream",
          "name": "stdout",
          "text": [
            "                   all       2000     290655      0.904      0.855      0.918      0.585\n",
            "\n",
            "50 epochs completed in 0.944 hours.\n",
            "Optimizer stripped from /content/drive/MyDrive/proM/train2/weights/last.pt, 19.1MB\n",
            "Optimizer stripped from /content/drive/MyDrive/proM/train2/weights/best.pt, 19.1MB\n",
            "\n",
            "Validating /content/drive/MyDrive/proM/train2/weights/best.pt...\n",
            "Ultralytics 8.3.162 🚀 Python-3.11.13 torch-2.6.0+cu124 CUDA:0 (NVIDIA A100-SXM4-40GB, 40507MiB)\n",
            "YOLO11s summary (fused): 100 layers, 9,413,187 parameters, 0 gradients, 21.3 GFLOPs\n"
          ]
        },
        {
          "output_type": "stream",
          "name": "stderr",
          "text": [
            "                 Class     Images  Instances      Box(P          R      mAP50  mAP50-95): 100%|██████████| 32/32 [00:33<00:00,  1.04s/it]\n"
          ]
        },
        {
          "output_type": "stream",
          "name": "stdout",
          "text": [
            "                   all       2000     290655      0.904      0.855      0.918      0.585\n",
            "Speed: 0.1ms preprocess, 0.5ms inference, 0.0ms loss, 1.3ms postprocess per image\n",
            "Results saved to \u001b[1m/content/drive/MyDrive/proM/train2\u001b[0m\n"
          ]
        },
        {
          "output_type": "execute_result",
          "data": {
            "text/plain": [
              "ultralytics.utils.metrics.DetMetrics object with attributes:\n",
              "\n",
              "ap_class_index: array([0])\n",
              "box: ultralytics.utils.metrics.Metric object\n",
              "confusion_matrix: <ultralytics.utils.metrics.ConfusionMatrix object at 0x7a544c16c4d0>\n",
              "curves: ['Precision-Recall(B)', 'F1-Confidence(B)', 'Precision-Confidence(B)', 'Recall-Confidence(B)']\n",
              "curves_results: [[array([          0,    0.001001,    0.002002,    0.003003,    0.004004,    0.005005,    0.006006,    0.007007,    0.008008,    0.009009,     0.01001,    0.011011,    0.012012,    0.013013,    0.014014,    0.015015,    0.016016,    0.017017,    0.018018,    0.019019,     0.02002,    0.021021,    0.022022,    0.023023,\n",
              "          0.024024,    0.025025,    0.026026,    0.027027,    0.028028,    0.029029,     0.03003,    0.031031,    0.032032,    0.033033,    0.034034,    0.035035,    0.036036,    0.037037,    0.038038,    0.039039,     0.04004,    0.041041,    0.042042,    0.043043,    0.044044,    0.045045,    0.046046,    0.047047,\n",
              "          0.048048,    0.049049,     0.05005,    0.051051,    0.052052,    0.053053,    0.054054,    0.055055,    0.056056,    0.057057,    0.058058,    0.059059,     0.06006,    0.061061,    0.062062,    0.063063,    0.064064,    0.065065,    0.066066,    0.067067,    0.068068,    0.069069,     0.07007,    0.071071,\n",
              "          0.072072,    0.073073,    0.074074,    0.075075,    0.076076,    0.077077,    0.078078,    0.079079,     0.08008,    0.081081,    0.082082,    0.083083,    0.084084,    0.085085,    0.086086,    0.087087,    0.088088,    0.089089,     0.09009,    0.091091,    0.092092,    0.093093,    0.094094,    0.095095,\n",
              "          0.096096,    0.097097,    0.098098,    0.099099,      0.1001,      0.1011,      0.1021,      0.1031,      0.1041,     0.10511,     0.10611,     0.10711,     0.10811,     0.10911,     0.11011,     0.11111,     0.11211,     0.11311,     0.11411,     0.11512,     0.11612,     0.11712,     0.11812,     0.11912,\n",
              "           0.12012,     0.12112,     0.12212,     0.12312,     0.12412,     0.12513,     0.12613,     0.12713,     0.12813,     0.12913,     0.13013,     0.13113,     0.13213,     0.13313,     0.13413,     0.13514,     0.13614,     0.13714,     0.13814,     0.13914,     0.14014,     0.14114,     0.14214,     0.14314,\n",
              "           0.14414,     0.14515,     0.14615,     0.14715,     0.14815,     0.14915,     0.15015,     0.15115,     0.15215,     0.15315,     0.15415,     0.15516,     0.15616,     0.15716,     0.15816,     0.15916,     0.16016,     0.16116,     0.16216,     0.16316,     0.16416,     0.16517,     0.16617,     0.16717,\n",
              "           0.16817,     0.16917,     0.17017,     0.17117,     0.17217,     0.17317,     0.17417,     0.17518,     0.17618,     0.17718,     0.17818,     0.17918,     0.18018,     0.18118,     0.18218,     0.18318,     0.18418,     0.18519,     0.18619,     0.18719,     0.18819,     0.18919,     0.19019,     0.19119,\n",
              "           0.19219,     0.19319,     0.19419,      0.1952,      0.1962,      0.1972,      0.1982,      0.1992,      0.2002,      0.2012,      0.2022,      0.2032,      0.2042,     0.20521,     0.20621,     0.20721,     0.20821,     0.20921,     0.21021,     0.21121,     0.21221,     0.21321,     0.21421,     0.21522,\n",
              "           0.21622,     0.21722,     0.21822,     0.21922,     0.22022,     0.22122,     0.22222,     0.22322,     0.22422,     0.22523,     0.22623,     0.22723,     0.22823,     0.22923,     0.23023,     0.23123,     0.23223,     0.23323,     0.23423,     0.23524,     0.23624,     0.23724,     0.23824,     0.23924,\n",
              "           0.24024,     0.24124,     0.24224,     0.24324,     0.24424,     0.24525,     0.24625,     0.24725,     0.24825,     0.24925,     0.25025,     0.25125,     0.25225,     0.25325,     0.25425,     0.25526,     0.25626,     0.25726,     0.25826,     0.25926,     0.26026,     0.26126,     0.26226,     0.26326,\n",
              "           0.26426,     0.26527,     0.26627,     0.26727,     0.26827,     0.26927,     0.27027,     0.27127,     0.27227,     0.27327,     0.27427,     0.27528,     0.27628,     0.27728,     0.27828,     0.27928,     0.28028,     0.28128,     0.28228,     0.28328,     0.28428,     0.28529,     0.28629,     0.28729,\n",
              "           0.28829,     0.28929,     0.29029,     0.29129,     0.29229,     0.29329,     0.29429,      0.2953,      0.2963,      0.2973,      0.2983,      0.2993,      0.3003,      0.3013,      0.3023,      0.3033,      0.3043,     0.30531,     0.30631,     0.30731,     0.30831,     0.30931,     0.31031,     0.31131,\n",
              "           0.31231,     0.31331,     0.31431,     0.31532,     0.31632,     0.31732,     0.31832,     0.31932,     0.32032,     0.32132,     0.32232,     0.32332,     0.32432,     0.32533,     0.32633,     0.32733,     0.32833,     0.32933,     0.33033,     0.33133,     0.33233,     0.33333,     0.33433,     0.33534,\n",
              "           0.33634,     0.33734,     0.33834,     0.33934,     0.34034,     0.34134,     0.34234,     0.34334,     0.34434,     0.34535,     0.34635,     0.34735,     0.34835,     0.34935,     0.35035,     0.35135,     0.35235,     0.35335,     0.35435,     0.35536,     0.35636,     0.35736,     0.35836,     0.35936,\n",
              "           0.36036,     0.36136,     0.36236,     0.36336,     0.36436,     0.36537,     0.36637,     0.36737,     0.36837,     0.36937,     0.37037,     0.37137,     0.37237,     0.37337,     0.37437,     0.37538,     0.37638,     0.37738,     0.37838,     0.37938,     0.38038,     0.38138,     0.38238,     0.38338,\n",
              "           0.38438,     0.38539,     0.38639,     0.38739,     0.38839,     0.38939,     0.39039,     0.39139,     0.39239,     0.39339,     0.39439,      0.3954,      0.3964,      0.3974,      0.3984,      0.3994,      0.4004,      0.4014,      0.4024,      0.4034,      0.4044,     0.40541,     0.40641,     0.40741,\n",
              "           0.40841,     0.40941,     0.41041,     0.41141,     0.41241,     0.41341,     0.41441,     0.41542,     0.41642,     0.41742,     0.41842,     0.41942,     0.42042,     0.42142,     0.42242,     0.42342,     0.42442,     0.42543,     0.42643,     0.42743,     0.42843,     0.42943,     0.43043,     0.43143,\n",
              "           0.43243,     0.43343,     0.43443,     0.43544,     0.43644,     0.43744,     0.43844,     0.43944,     0.44044,     0.44144,     0.44244,     0.44344,     0.44444,     0.44545,     0.44645,     0.44745,     0.44845,     0.44945,     0.45045,     0.45145,     0.45245,     0.45345,     0.45445,     0.45546,\n",
              "           0.45646,     0.45746,     0.45846,     0.45946,     0.46046,     0.46146,     0.46246,     0.46346,     0.46446,     0.46547,     0.46647,     0.46747,     0.46847,     0.46947,     0.47047,     0.47147,     0.47247,     0.47347,     0.47447,     0.47548,     0.47648,     0.47748,     0.47848,     0.47948,\n",
              "           0.48048,     0.48148,     0.48248,     0.48348,     0.48448,     0.48549,     0.48649,     0.48749,     0.48849,     0.48949,     0.49049,     0.49149,     0.49249,     0.49349,     0.49449,      0.4955,      0.4965,      0.4975,      0.4985,      0.4995,      0.5005,      0.5015,      0.5025,      0.5035,\n",
              "            0.5045,     0.50551,     0.50651,     0.50751,     0.50851,     0.50951,     0.51051,     0.51151,     0.51251,     0.51351,     0.51451,     0.51552,     0.51652,     0.51752,     0.51852,     0.51952,     0.52052,     0.52152,     0.52252,     0.52352,     0.52452,     0.52553,     0.52653,     0.52753,\n",
              "           0.52853,     0.52953,     0.53053,     0.53153,     0.53253,     0.53353,     0.53453,     0.53554,     0.53654,     0.53754,     0.53854,     0.53954,     0.54054,     0.54154,     0.54254,     0.54354,     0.54454,     0.54555,     0.54655,     0.54755,     0.54855,     0.54955,     0.55055,     0.55155,\n",
              "           0.55255,     0.55355,     0.55455,     0.55556,     0.55656,     0.55756,     0.55856,     0.55956,     0.56056,     0.56156,     0.56256,     0.56356,     0.56456,     0.56557,     0.56657,     0.56757,     0.56857,     0.56957,     0.57057,     0.57157,     0.57257,     0.57357,     0.57457,     0.57558,\n",
              "           0.57658,     0.57758,     0.57858,     0.57958,     0.58058,     0.58158,     0.58258,     0.58358,     0.58458,     0.58559,     0.58659,     0.58759,     0.58859,     0.58959,     0.59059,     0.59159,     0.59259,     0.59359,     0.59459,      0.5956,      0.5966,      0.5976,      0.5986,      0.5996,\n",
              "            0.6006,      0.6016,      0.6026,      0.6036,      0.6046,     0.60561,     0.60661,     0.60761,     0.60861,     0.60961,     0.61061,     0.61161,     0.61261,     0.61361,     0.61461,     0.61562,     0.61662,     0.61762,     0.61862,     0.61962,     0.62062,     0.62162,     0.62262,     0.62362,\n",
              "           0.62462,     0.62563,     0.62663,     0.62763,     0.62863,     0.62963,     0.63063,     0.63163,     0.63263,     0.63363,     0.63463,     0.63564,     0.63664,     0.63764,     0.63864,     0.63964,     0.64064,     0.64164,     0.64264,     0.64364,     0.64464,     0.64565,     0.64665,     0.64765,\n",
              "           0.64865,     0.64965,     0.65065,     0.65165,     0.65265,     0.65365,     0.65465,     0.65566,     0.65666,     0.65766,     0.65866,     0.65966,     0.66066,     0.66166,     0.66266,     0.66366,     0.66466,     0.66567,     0.66667,     0.66767,     0.66867,     0.66967,     0.67067,     0.67167,\n",
              "           0.67267,     0.67367,     0.67467,     0.67568,     0.67668,     0.67768,     0.67868,     0.67968,     0.68068,     0.68168,     0.68268,     0.68368,     0.68468,     0.68569,     0.68669,     0.68769,     0.68869,     0.68969,     0.69069,     0.69169,     0.69269,     0.69369,     0.69469,      0.6957,\n",
              "            0.6967,      0.6977,      0.6987,      0.6997,      0.7007,      0.7017,      0.7027,      0.7037,      0.7047,     0.70571,     0.70671,     0.70771,     0.70871,     0.70971,     0.71071,     0.71171,     0.71271,     0.71371,     0.71471,     0.71572,     0.71672,     0.71772,     0.71872,     0.71972,\n",
              "           0.72072,     0.72172,     0.72272,     0.72372,     0.72472,     0.72573,     0.72673,     0.72773,     0.72873,     0.72973,     0.73073,     0.73173,     0.73273,     0.73373,     0.73473,     0.73574,     0.73674,     0.73774,     0.73874,     0.73974,     0.74074,     0.74174,     0.74274,     0.74374,\n",
              "           0.74474,     0.74575,     0.74675,     0.74775,     0.74875,     0.74975,     0.75075,     0.75175,     0.75275,     0.75375,     0.75475,     0.75576,     0.75676,     0.75776,     0.75876,     0.75976,     0.76076,     0.76176,     0.76276,     0.76376,     0.76476,     0.76577,     0.76677,     0.76777,\n",
              "           0.76877,     0.76977,     0.77077,     0.77177,     0.77277,     0.77377,     0.77477,     0.77578,     0.77678,     0.77778,     0.77878,     0.77978,     0.78078,     0.78178,     0.78278,     0.78378,     0.78478,     0.78579,     0.78679,     0.78779,     0.78879,     0.78979,     0.79079,     0.79179,\n",
              "           0.79279,     0.79379,     0.79479,      0.7958,      0.7968,      0.7978,      0.7988,      0.7998,      0.8008,      0.8018,      0.8028,      0.8038,      0.8048,     0.80581,     0.80681,     0.80781,     0.80881,     0.80981,     0.81081,     0.81181,     0.81281,     0.81381,     0.81481,     0.81582,\n",
              "           0.81682,     0.81782,     0.81882,     0.81982,     0.82082,     0.82182,     0.82282,     0.82382,     0.82482,     0.82583,     0.82683,     0.82783,     0.82883,     0.82983,     0.83083,     0.83183,     0.83283,     0.83383,     0.83483,     0.83584,     0.83684,     0.83784,     0.83884,     0.83984,\n",
              "           0.84084,     0.84184,     0.84284,     0.84384,     0.84484,     0.84585,     0.84685,     0.84785,     0.84885,     0.84985,     0.85085,     0.85185,     0.85285,     0.85385,     0.85485,     0.85586,     0.85686,     0.85786,     0.85886,     0.85986,     0.86086,     0.86186,     0.86286,     0.86386,\n",
              "           0.86486,     0.86587,     0.86687,     0.86787,     0.86887,     0.86987,     0.87087,     0.87187,     0.87287,     0.87387,     0.87487,     0.87588,     0.87688,     0.87788,     0.87888,     0.87988,     0.88088,     0.88188,     0.88288,     0.88388,     0.88488,     0.88589,     0.88689,     0.88789,\n",
              "           0.88889,     0.88989,     0.89089,     0.89189,     0.89289,     0.89389,     0.89489,      0.8959,      0.8969,      0.8979,      0.8989,      0.8999,      0.9009,      0.9019,      0.9029,      0.9039,      0.9049,     0.90591,     0.90691,     0.90791,     0.90891,     0.90991,     0.91091,     0.91191,\n",
              "           0.91291,     0.91391,     0.91491,     0.91592,     0.91692,     0.91792,     0.91892,     0.91992,     0.92092,     0.92192,     0.92292,     0.92392,     0.92492,     0.92593,     0.92693,     0.92793,     0.92893,     0.92993,     0.93093,     0.93193,     0.93293,     0.93393,     0.93493,     0.93594,\n",
              "           0.93694,     0.93794,     0.93894,     0.93994,     0.94094,     0.94194,     0.94294,     0.94394,     0.94494,     0.94595,     0.94695,     0.94795,     0.94895,     0.94995,     0.95095,     0.95195,     0.95295,     0.95395,     0.95495,     0.95596,     0.95696,     0.95796,     0.95896,     0.95996,\n",
              "           0.96096,     0.96196,     0.96296,     0.96396,     0.96496,     0.96597,     0.96697,     0.96797,     0.96897,     0.96997,     0.97097,     0.97197,     0.97297,     0.97397,     0.97497,     0.97598,     0.97698,     0.97798,     0.97898,     0.97998,     0.98098,     0.98198,     0.98298,     0.98398,\n",
              "           0.98498,     0.98599,     0.98699,     0.98799,     0.98899,     0.98999,     0.99099,     0.99199,     0.99299,     0.99399,     0.99499,       0.996,       0.997,       0.998,       0.999,           1]), array([[          1,     0.99355,     0.99355,     0.99355,     0.99355,     0.99355,     0.99355,     0.99355,     0.99355,     0.99355,     0.99355,     0.99355,     0.99355,     0.99355,     0.99355,     0.99355,     0.99355,     0.99355,     0.99355,     0.99355,     0.99355,     0.99355,     0.99355,\n",
              "            0.99355,     0.99355,     0.99355,     0.99355,     0.99355,     0.99355,     0.99355,     0.99355,     0.99355,     0.99355,     0.99355,     0.99355,     0.99355,     0.99355,     0.99355,     0.99355,     0.99355,     0.99355,     0.99355,     0.99355,     0.99355,     0.99355,     0.99355,\n",
              "            0.99355,     0.99355,     0.99355,     0.99355,     0.99355,     0.99355,     0.99355,     0.99355,     0.99355,     0.99355,     0.99355,     0.99355,     0.99355,     0.99355,     0.99355,     0.99355,     0.99355,     0.99355,     0.99355,     0.99355,     0.99355,     0.99355,     0.99355,\n",
              "            0.99355,     0.99355,     0.99355,     0.99355,     0.99355,     0.99355,     0.99355,     0.99355,     0.99355,     0.99355,     0.99355,     0.99355,     0.99355,     0.99355,     0.99355,     0.99355,     0.99355,     0.99355,     0.99355,     0.99355,     0.99355,     0.99355,     0.99355,\n",
              "            0.99355,     0.99355,     0.99355,     0.99355,     0.99355,     0.99355,     0.99355,     0.99355,     0.99355,     0.99355,     0.99355,     0.99355,     0.99355,     0.99355,     0.99355,     0.99355,     0.99355,     0.99355,     0.99355,     0.99355,     0.99355,     0.99355,     0.99355,\n",
              "            0.99355,     0.99355,     0.99355,     0.99355,     0.99355,     0.99355,     0.99355,     0.99355,     0.99355,     0.99355,     0.99355,     0.99355,     0.99355,     0.99355,     0.99355,     0.99355,     0.99355,     0.99355,     0.99355,     0.99355,     0.99355,     0.99355,     0.99355,\n",
              "            0.99355,     0.99355,     0.99355,     0.99355,     0.99355,     0.99355,     0.99355,     0.99355,     0.99355,     0.99355,     0.99355,     0.99355,     0.99355,     0.99355,     0.99355,     0.99355,     0.99355,     0.99355,     0.99355,     0.99355,     0.99355,     0.99355,     0.99355,\n",
              "            0.99355,     0.99355,     0.99355,     0.99355,     0.99355,     0.99355,     0.99355,     0.99355,     0.99355,     0.99355,     0.99355,     0.99355,     0.99355,     0.99355,     0.99355,     0.99355,     0.99355,     0.99355,     0.99355,     0.99355,     0.99355,     0.99355,     0.99351,\n",
              "            0.99345,     0.99345,     0.99345,     0.99345,     0.99343,     0.99342,     0.99341,     0.99337,     0.99334,     0.99332,     0.99329,     0.99328,     0.99328,     0.99328,     0.99327,     0.99327,     0.99326,     0.99326,     0.99326,     0.99322,     0.99322,     0.99322,     0.99322,\n",
              "            0.99322,     0.99322,     0.99321,     0.99316,     0.99308,     0.99308,     0.99308,     0.99308,     0.99305,     0.99299,     0.99298,     0.99298,     0.99298,     0.99298,     0.99298,     0.99298,     0.99298,     0.99298,     0.99297,     0.99296,     0.99296,     0.99296,     0.99296,\n",
              "            0.99296,     0.99296,     0.99296,     0.99296,     0.99296,     0.99296,     0.99296,     0.99296,     0.99296,     0.99296,     0.99289,     0.99289,     0.99286,     0.99285,     0.99285,     0.99285,     0.99285,     0.99283,     0.99282,      0.9928,     0.99279,     0.99274,     0.99274,\n",
              "            0.99273,     0.99273,     0.99273,     0.99273,     0.99273,     0.99273,     0.99273,     0.99271,     0.99271,     0.99268,     0.99261,      0.9926,     0.99257,     0.99255,     0.99255,     0.99255,     0.99254,     0.99247,     0.99245,     0.99243,     0.99242,     0.99239,     0.99239,\n",
              "            0.99238,     0.99237,     0.99237,     0.99233,     0.99229,     0.99229,     0.99229,     0.99229,     0.99224,     0.99224,     0.99224,     0.99218,     0.99217,     0.99214,     0.99214,     0.99213,     0.99208,     0.99208,     0.99208,     0.99208,     0.99204,       0.992,       0.992,\n",
              "            0.99198,     0.99194,     0.99192,     0.99191,     0.99188,     0.99187,     0.99186,     0.99186,     0.99186,     0.99186,     0.99186,     0.99186,     0.99186,     0.99186,     0.99186,     0.99186,     0.99186,     0.99186,     0.99186,     0.99186,     0.99186,     0.99183,     0.99177,\n",
              "            0.99175,     0.99168,     0.99163,     0.99162,     0.99159,     0.99159,     0.99156,     0.99156,     0.99153,     0.99152,     0.99151,     0.99148,     0.99145,     0.99145,     0.99143,     0.99139,     0.99138,     0.99138,     0.99138,     0.99138,     0.99136,     0.99133,     0.99131,\n",
              "            0.99129,     0.99129,     0.99128,     0.99122,      0.9912,     0.99118,     0.99112,     0.99112,     0.99112,     0.99108,     0.99105,     0.99104,     0.99097,     0.99097,     0.99095,     0.99095,     0.99094,      0.9909,     0.99088,     0.99085,     0.99081,      0.9908,     0.99078,\n",
              "            0.99078,     0.99075,     0.99074,     0.99073,     0.99073,     0.99072,     0.99072,      0.9907,     0.99065,     0.99064,     0.99057,     0.99053,     0.99051,      0.9905,     0.99049,     0.99049,     0.99049,     0.99044,      0.9904,     0.99038,     0.99035,     0.99032,     0.99032,\n",
              "            0.99029,     0.99026,     0.99024,     0.99022,     0.99022,     0.99021,      0.9902,     0.99019,     0.99019,     0.99017,     0.99017,     0.99015,     0.99013,     0.99013,     0.99012,      0.9901,     0.99008,     0.99007,     0.99004,     0.98996,     0.98995,     0.98991,     0.98988,\n",
              "            0.98982,      0.9898,     0.98977,     0.98976,     0.98976,     0.98974,     0.98969,     0.98967,     0.98965,     0.98965,     0.98962,     0.98955,      0.9895,     0.98946,     0.98945,     0.98942,     0.98937,     0.98935,     0.98932,     0.98928,     0.98927,     0.98925,     0.98923,\n",
              "             0.9892,     0.98917,     0.98917,     0.98912,     0.98906,     0.98903,     0.98901,     0.98897,     0.98895,     0.98893,     0.98888,     0.98887,     0.98886,     0.98875,     0.98874,     0.98869,     0.98867,     0.98863,     0.98863,     0.98859,     0.98853,     0.98852,     0.98848,\n",
              "            0.98848,     0.98847,     0.98843,     0.98841,      0.9884,     0.98838,     0.98832,     0.98831,      0.9883,     0.98828,      0.9882,     0.98815,     0.98809,     0.98806,     0.98804,       0.988,     0.98793,     0.98787,     0.98785,      0.9878,     0.98777,     0.98776,     0.98775,\n",
              "            0.98769,     0.98767,     0.98767,     0.98766,     0.98764,     0.98764,     0.98761,     0.98754,     0.98749,     0.98749,     0.98748,     0.98742,     0.98741,     0.98739,     0.98736,     0.98729,     0.98725,     0.98722,     0.98719,     0.98718,     0.98711,     0.98706,     0.98702,\n",
              "              0.987,     0.98696,     0.98691,     0.98687,     0.98681,     0.98677,     0.98671,     0.98667,     0.98662,      0.9866,     0.98657,     0.98652,     0.98652,     0.98649,     0.98647,     0.98644,     0.98636,     0.98635,     0.98627,     0.98623,     0.98618,     0.98613,     0.98607,\n",
              "            0.98604,     0.98597,     0.98591,     0.98588,     0.98584,      0.9858,     0.98574,     0.98572,     0.98568,     0.98563,     0.98559,     0.98554,     0.98549,     0.98543,     0.98542,     0.98538,     0.98528,     0.98523,     0.98519,     0.98513,     0.98511,     0.98508,     0.98503,\n",
              "             0.9849,     0.98489,     0.98481,     0.98478,     0.98475,     0.98472,     0.98468,     0.98463,     0.98457,      0.9845,     0.98446,     0.98442,     0.98433,     0.98425,     0.98421,     0.98413,     0.98407,     0.98401,     0.98395,     0.98388,     0.98386,     0.98377,     0.98366,\n",
              "            0.98361,     0.98352,     0.98342,     0.98334,     0.98328,     0.98321,     0.98316,     0.98304,     0.98298,      0.9829,     0.98278,     0.98274,      0.9827,     0.98263,     0.98255,     0.98249,     0.98242,     0.98237,     0.98229,     0.98222,     0.98215,     0.98209,     0.98197,\n",
              "            0.98192,     0.98182,     0.98177,     0.98163,     0.98157,     0.98151,     0.98144,     0.98129,     0.98125,      0.9812,     0.98114,     0.98104,     0.98092,     0.98087,     0.98081,     0.98069,      0.9806,      0.9805,     0.98044,      0.9804,     0.98028,     0.98018,      0.9801,\n",
              "            0.98001,     0.97993,     0.97988,     0.97981,     0.97975,     0.97965,     0.97953,     0.97945,     0.97934,     0.97922,     0.97913,     0.97903,     0.97895,     0.97886,     0.97876,     0.97865,     0.97856,     0.97846,     0.97837,     0.97826,     0.97816,     0.97805,     0.97788,\n",
              "            0.97778,     0.97767,      0.9776,     0.97752,     0.97742,     0.97728,      0.9772,      0.9771,     0.97699,     0.97688,     0.97675,      0.9766,     0.97648,      0.9764,     0.97628,     0.97612,       0.976,     0.97585,     0.97573,     0.97566,     0.97557,     0.97543,      0.9753,\n",
              "            0.97518,     0.97507,     0.97499,     0.97485,     0.97473,     0.97464,     0.97453,      0.9744,     0.97426,      0.9741,     0.97394,     0.97382,     0.97364,     0.97349,     0.97332,     0.97321,     0.97307,     0.97296,     0.97281,     0.97268,     0.97255,     0.97244,     0.97223,\n",
              "            0.97206,     0.97193,     0.97175,      0.9716,     0.97141,      0.9712,     0.97112,     0.97093,     0.97078,     0.97064,     0.97048,     0.97035,     0.97019,     0.97002,     0.96989,     0.96973,     0.96956,     0.96944,     0.96929,     0.96909,     0.96888,     0.96869,     0.96851,\n",
              "            0.96831,     0.96813,     0.96798,     0.96778,     0.96759,     0.96739,     0.96721,     0.96697,     0.96679,     0.96658,     0.96631,     0.96612,     0.96594,     0.96578,     0.96558,     0.96538,      0.9652,       0.965,     0.96476,     0.96455,     0.96436,     0.96412,     0.96395,\n",
              "            0.96369,     0.96346,     0.96329,      0.9631,     0.96286,     0.96262,      0.9624,     0.96217,     0.96188,     0.96176,     0.96142,     0.96121,     0.96096,      0.9607,     0.96049,     0.96022,     0.95985,     0.95958,     0.95933,     0.95907,     0.95878,     0.95855,      0.9583,\n",
              "            0.95811,     0.95777,     0.95756,     0.95733,       0.957,     0.95678,     0.95648,     0.95625,     0.95592,     0.95565,     0.95539,     0.95505,     0.95469,     0.95436,     0.95403,     0.95372,     0.95334,     0.95296,     0.95266,     0.95231,     0.95194,     0.95155,     0.95123,\n",
              "            0.95078,     0.95028,     0.94988,     0.94943,     0.94896,     0.94865,     0.94819,     0.94778,     0.94732,     0.94682,     0.94634,      0.9459,     0.94547,     0.94495,     0.94453,     0.94398,     0.94352,     0.94313,     0.94272,     0.94231,     0.94175,     0.94131,     0.94081,\n",
              "            0.94035,     0.93984,     0.93927,     0.93878,     0.93818,     0.93775,     0.93716,     0.93657,     0.93599,     0.93545,     0.93488,     0.93431,     0.93368,     0.93313,     0.93249,     0.93179,     0.93119,      0.9306,     0.92989,     0.92923,     0.92847,      0.9278,     0.92715,\n",
              "            0.92631,     0.92555,      0.9248,     0.92408,     0.92335,     0.92252,     0.92179,     0.92093,     0.92019,     0.91937,     0.91848,     0.91786,     0.91704,     0.91606,      0.9152,     0.91436,      0.9135,     0.91254,     0.91161,     0.91077,     0.90981,     0.90894,     0.90791,\n",
              "            0.90695,     0.90592,     0.90473,     0.90351,     0.90227,     0.90106,     0.89994,     0.89868,     0.89751,     0.89641,      0.8951,     0.89389,     0.89258,      0.8912,     0.88976,     0.88828,     0.88683,      0.8853,     0.88356,     0.88204,     0.88043,     0.87882,     0.87697,\n",
              "            0.87534,     0.87385,     0.87212,     0.87046,     0.86847,      0.8668,     0.86493,     0.86286,     0.86095,     0.85902,     0.85707,     0.85492,     0.85265,     0.85028,     0.84802,     0.84569,     0.84312,     0.84067,     0.83861,      0.8356,     0.83311,      0.8305,     0.82744,\n",
              "            0.82478,     0.82196,     0.81886,     0.81559,     0.81232,      0.8089,     0.80543,     0.80128,     0.79716,     0.79302,     0.78875,     0.78411,     0.77954,     0.77487,     0.77023,     0.76494,     0.75976,     0.75376,     0.74778,      0.7407,      0.7331,     0.72505,      0.7177,\n",
              "            0.70956,     0.70136,      0.6929,     0.68338,     0.67187,     0.66094,       0.649,     0.63639,     0.62147,     0.60488,     0.58555,     0.56118,     0.52593,       0.469,     0.46189,     0.45478,     0.44768,     0.44057,     0.43347,     0.42636,     0.41925,     0.41215,     0.40504,\n",
              "            0.39794,     0.39083,     0.38372,     0.37662,     0.36951,     0.36241,      0.3553,     0.34819,     0.34109,     0.33398,     0.32688,     0.31977,     0.31266,     0.30556,     0.29845,     0.29135,     0.28424,     0.27713,     0.27003,     0.26292,     0.25582,     0.24871,      0.2416,\n",
              "             0.2345,     0.22739,     0.22029,     0.21318,     0.20607,     0.19897,     0.19186,     0.18476,     0.17765,     0.17054,     0.16344,     0.15633,     0.14923,     0.14212,     0.13501,     0.12791,      0.1208,      0.1137,     0.10659,    0.099484,    0.092378,    0.085272,    0.078166,\n",
              "            0.07106,    0.063954,    0.056848,    0.049742,    0.042636,     0.03553,    0.028424,    0.021318,    0.014212,    0.007106,           0]]), 'Recall', 'Precision'], [array([          0,    0.001001,    0.002002,    0.003003,    0.004004,    0.005005,    0.006006,    0.007007,    0.008008,    0.009009,     0.01001,    0.011011,    0.012012,    0.013013,    0.014014,    0.015015,    0.016016,    0.017017,    0.018018,    0.019019,     0.02002,    0.021021,    0.022022,    0.023023,\n",
              "          0.024024,    0.025025,    0.026026,    0.027027,    0.028028,    0.029029,     0.03003,    0.031031,    0.032032,    0.033033,    0.034034,    0.035035,    0.036036,    0.037037,    0.038038,    0.039039,     0.04004,    0.041041,    0.042042,    0.043043,    0.044044,    0.045045,    0.046046,    0.047047,\n",
              "          0.048048,    0.049049,     0.05005,    0.051051,    0.052052,    0.053053,    0.054054,    0.055055,    0.056056,    0.057057,    0.058058,    0.059059,     0.06006,    0.061061,    0.062062,    0.063063,    0.064064,    0.065065,    0.066066,    0.067067,    0.068068,    0.069069,     0.07007,    0.071071,\n",
              "          0.072072,    0.073073,    0.074074,    0.075075,    0.076076,    0.077077,    0.078078,    0.079079,     0.08008,    0.081081,    0.082082,    0.083083,    0.084084,    0.085085,    0.086086,    0.087087,    0.088088,    0.089089,     0.09009,    0.091091,    0.092092,    0.093093,    0.094094,    0.095095,\n",
              "          0.096096,    0.097097,    0.098098,    0.099099,      0.1001,      0.1011,      0.1021,      0.1031,      0.1041,     0.10511,     0.10611,     0.10711,     0.10811,     0.10911,     0.11011,     0.11111,     0.11211,     0.11311,     0.11411,     0.11512,     0.11612,     0.11712,     0.11812,     0.11912,\n",
              "           0.12012,     0.12112,     0.12212,     0.12312,     0.12412,     0.12513,     0.12613,     0.12713,     0.12813,     0.12913,     0.13013,     0.13113,     0.13213,     0.13313,     0.13413,     0.13514,     0.13614,     0.13714,     0.13814,     0.13914,     0.14014,     0.14114,     0.14214,     0.14314,\n",
              "           0.14414,     0.14515,     0.14615,     0.14715,     0.14815,     0.14915,     0.15015,     0.15115,     0.15215,     0.15315,     0.15415,     0.15516,     0.15616,     0.15716,     0.15816,     0.15916,     0.16016,     0.16116,     0.16216,     0.16316,     0.16416,     0.16517,     0.16617,     0.16717,\n",
              "           0.16817,     0.16917,     0.17017,     0.17117,     0.17217,     0.17317,     0.17417,     0.17518,     0.17618,     0.17718,     0.17818,     0.17918,     0.18018,     0.18118,     0.18218,     0.18318,     0.18418,     0.18519,     0.18619,     0.18719,     0.18819,     0.18919,     0.19019,     0.19119,\n",
              "           0.19219,     0.19319,     0.19419,      0.1952,      0.1962,      0.1972,      0.1982,      0.1992,      0.2002,      0.2012,      0.2022,      0.2032,      0.2042,     0.20521,     0.20621,     0.20721,     0.20821,     0.20921,     0.21021,     0.21121,     0.21221,     0.21321,     0.21421,     0.21522,\n",
              "           0.21622,     0.21722,     0.21822,     0.21922,     0.22022,     0.22122,     0.22222,     0.22322,     0.22422,     0.22523,     0.22623,     0.22723,     0.22823,     0.22923,     0.23023,     0.23123,     0.23223,     0.23323,     0.23423,     0.23524,     0.23624,     0.23724,     0.23824,     0.23924,\n",
              "           0.24024,     0.24124,     0.24224,     0.24324,     0.24424,     0.24525,     0.24625,     0.24725,     0.24825,     0.24925,     0.25025,     0.25125,     0.25225,     0.25325,     0.25425,     0.25526,     0.25626,     0.25726,     0.25826,     0.25926,     0.26026,     0.26126,     0.26226,     0.26326,\n",
              "           0.26426,     0.26527,     0.26627,     0.26727,     0.26827,     0.26927,     0.27027,     0.27127,     0.27227,     0.27327,     0.27427,     0.27528,     0.27628,     0.27728,     0.27828,     0.27928,     0.28028,     0.28128,     0.28228,     0.28328,     0.28428,     0.28529,     0.28629,     0.28729,\n",
              "           0.28829,     0.28929,     0.29029,     0.29129,     0.29229,     0.29329,     0.29429,      0.2953,      0.2963,      0.2973,      0.2983,      0.2993,      0.3003,      0.3013,      0.3023,      0.3033,      0.3043,     0.30531,     0.30631,     0.30731,     0.30831,     0.30931,     0.31031,     0.31131,\n",
              "           0.31231,     0.31331,     0.31431,     0.31532,     0.31632,     0.31732,     0.31832,     0.31932,     0.32032,     0.32132,     0.32232,     0.32332,     0.32432,     0.32533,     0.32633,     0.32733,     0.32833,     0.32933,     0.33033,     0.33133,     0.33233,     0.33333,     0.33433,     0.33534,\n",
              "           0.33634,     0.33734,     0.33834,     0.33934,     0.34034,     0.34134,     0.34234,     0.34334,     0.34434,     0.34535,     0.34635,     0.34735,     0.34835,     0.34935,     0.35035,     0.35135,     0.35235,     0.35335,     0.35435,     0.35536,     0.35636,     0.35736,     0.35836,     0.35936,\n",
              "           0.36036,     0.36136,     0.36236,     0.36336,     0.36436,     0.36537,     0.36637,     0.36737,     0.36837,     0.36937,     0.37037,     0.37137,     0.37237,     0.37337,     0.37437,     0.37538,     0.37638,     0.37738,     0.37838,     0.37938,     0.38038,     0.38138,     0.38238,     0.38338,\n",
              "           0.38438,     0.38539,     0.38639,     0.38739,     0.38839,     0.38939,     0.39039,     0.39139,     0.39239,     0.39339,     0.39439,      0.3954,      0.3964,      0.3974,      0.3984,      0.3994,      0.4004,      0.4014,      0.4024,      0.4034,      0.4044,     0.40541,     0.40641,     0.40741,\n",
              "           0.40841,     0.40941,     0.41041,     0.41141,     0.41241,     0.41341,     0.41441,     0.41542,     0.41642,     0.41742,     0.41842,     0.41942,     0.42042,     0.42142,     0.42242,     0.42342,     0.42442,     0.42543,     0.42643,     0.42743,     0.42843,     0.42943,     0.43043,     0.43143,\n",
              "           0.43243,     0.43343,     0.43443,     0.43544,     0.43644,     0.43744,     0.43844,     0.43944,     0.44044,     0.44144,     0.44244,     0.44344,     0.44444,     0.44545,     0.44645,     0.44745,     0.44845,     0.44945,     0.45045,     0.45145,     0.45245,     0.45345,     0.45445,     0.45546,\n",
              "           0.45646,     0.45746,     0.45846,     0.45946,     0.46046,     0.46146,     0.46246,     0.46346,     0.46446,     0.46547,     0.46647,     0.46747,     0.46847,     0.46947,     0.47047,     0.47147,     0.47247,     0.47347,     0.47447,     0.47548,     0.47648,     0.47748,     0.47848,     0.47948,\n",
              "           0.48048,     0.48148,     0.48248,     0.48348,     0.48448,     0.48549,     0.48649,     0.48749,     0.48849,     0.48949,     0.49049,     0.49149,     0.49249,     0.49349,     0.49449,      0.4955,      0.4965,      0.4975,      0.4985,      0.4995,      0.5005,      0.5015,      0.5025,      0.5035,\n",
              "            0.5045,     0.50551,     0.50651,     0.50751,     0.50851,     0.50951,     0.51051,     0.51151,     0.51251,     0.51351,     0.51451,     0.51552,     0.51652,     0.51752,     0.51852,     0.51952,     0.52052,     0.52152,     0.52252,     0.52352,     0.52452,     0.52553,     0.52653,     0.52753,\n",
              "           0.52853,     0.52953,     0.53053,     0.53153,     0.53253,     0.53353,     0.53453,     0.53554,     0.53654,     0.53754,     0.53854,     0.53954,     0.54054,     0.54154,     0.54254,     0.54354,     0.54454,     0.54555,     0.54655,     0.54755,     0.54855,     0.54955,     0.55055,     0.55155,\n",
              "           0.55255,     0.55355,     0.55455,     0.55556,     0.55656,     0.55756,     0.55856,     0.55956,     0.56056,     0.56156,     0.56256,     0.56356,     0.56456,     0.56557,     0.56657,     0.56757,     0.56857,     0.56957,     0.57057,     0.57157,     0.57257,     0.57357,     0.57457,     0.57558,\n",
              "           0.57658,     0.57758,     0.57858,     0.57958,     0.58058,     0.58158,     0.58258,     0.58358,     0.58458,     0.58559,     0.58659,     0.58759,     0.58859,     0.58959,     0.59059,     0.59159,     0.59259,     0.59359,     0.59459,      0.5956,      0.5966,      0.5976,      0.5986,      0.5996,\n",
              "            0.6006,      0.6016,      0.6026,      0.6036,      0.6046,     0.60561,     0.60661,     0.60761,     0.60861,     0.60961,     0.61061,     0.61161,     0.61261,     0.61361,     0.61461,     0.61562,     0.61662,     0.61762,     0.61862,     0.61962,     0.62062,     0.62162,     0.62262,     0.62362,\n",
              "           0.62462,     0.62563,     0.62663,     0.62763,     0.62863,     0.62963,     0.63063,     0.63163,     0.63263,     0.63363,     0.63463,     0.63564,     0.63664,     0.63764,     0.63864,     0.63964,     0.64064,     0.64164,     0.64264,     0.64364,     0.64464,     0.64565,     0.64665,     0.64765,\n",
              "           0.64865,     0.64965,     0.65065,     0.65165,     0.65265,     0.65365,     0.65465,     0.65566,     0.65666,     0.65766,     0.65866,     0.65966,     0.66066,     0.66166,     0.66266,     0.66366,     0.66466,     0.66567,     0.66667,     0.66767,     0.66867,     0.66967,     0.67067,     0.67167,\n",
              "           0.67267,     0.67367,     0.67467,     0.67568,     0.67668,     0.67768,     0.67868,     0.67968,     0.68068,     0.68168,     0.68268,     0.68368,     0.68468,     0.68569,     0.68669,     0.68769,     0.68869,     0.68969,     0.69069,     0.69169,     0.69269,     0.69369,     0.69469,      0.6957,\n",
              "            0.6967,      0.6977,      0.6987,      0.6997,      0.7007,      0.7017,      0.7027,      0.7037,      0.7047,     0.70571,     0.70671,     0.70771,     0.70871,     0.70971,     0.71071,     0.71171,     0.71271,     0.71371,     0.71471,     0.71572,     0.71672,     0.71772,     0.71872,     0.71972,\n",
              "           0.72072,     0.72172,     0.72272,     0.72372,     0.72472,     0.72573,     0.72673,     0.72773,     0.72873,     0.72973,     0.73073,     0.73173,     0.73273,     0.73373,     0.73473,     0.73574,     0.73674,     0.73774,     0.73874,     0.73974,     0.74074,     0.74174,     0.74274,     0.74374,\n",
              "           0.74474,     0.74575,     0.74675,     0.74775,     0.74875,     0.74975,     0.75075,     0.75175,     0.75275,     0.75375,     0.75475,     0.75576,     0.75676,     0.75776,     0.75876,     0.75976,     0.76076,     0.76176,     0.76276,     0.76376,     0.76476,     0.76577,     0.76677,     0.76777,\n",
              "           0.76877,     0.76977,     0.77077,     0.77177,     0.77277,     0.77377,     0.77477,     0.77578,     0.77678,     0.77778,     0.77878,     0.77978,     0.78078,     0.78178,     0.78278,     0.78378,     0.78478,     0.78579,     0.78679,     0.78779,     0.78879,     0.78979,     0.79079,     0.79179,\n",
              "           0.79279,     0.79379,     0.79479,      0.7958,      0.7968,      0.7978,      0.7988,      0.7998,      0.8008,      0.8018,      0.8028,      0.8038,      0.8048,     0.80581,     0.80681,     0.80781,     0.80881,     0.80981,     0.81081,     0.81181,     0.81281,     0.81381,     0.81481,     0.81582,\n",
              "           0.81682,     0.81782,     0.81882,     0.81982,     0.82082,     0.82182,     0.82282,     0.82382,     0.82482,     0.82583,     0.82683,     0.82783,     0.82883,     0.82983,     0.83083,     0.83183,     0.83283,     0.83383,     0.83483,     0.83584,     0.83684,     0.83784,     0.83884,     0.83984,\n",
              "           0.84084,     0.84184,     0.84284,     0.84384,     0.84484,     0.84585,     0.84685,     0.84785,     0.84885,     0.84985,     0.85085,     0.85185,     0.85285,     0.85385,     0.85485,     0.85586,     0.85686,     0.85786,     0.85886,     0.85986,     0.86086,     0.86186,     0.86286,     0.86386,\n",
              "           0.86486,     0.86587,     0.86687,     0.86787,     0.86887,     0.86987,     0.87087,     0.87187,     0.87287,     0.87387,     0.87487,     0.87588,     0.87688,     0.87788,     0.87888,     0.87988,     0.88088,     0.88188,     0.88288,     0.88388,     0.88488,     0.88589,     0.88689,     0.88789,\n",
              "           0.88889,     0.88989,     0.89089,     0.89189,     0.89289,     0.89389,     0.89489,      0.8959,      0.8969,      0.8979,      0.8989,      0.8999,      0.9009,      0.9019,      0.9029,      0.9039,      0.9049,     0.90591,     0.90691,     0.90791,     0.90891,     0.90991,     0.91091,     0.91191,\n",
              "           0.91291,     0.91391,     0.91491,     0.91592,     0.91692,     0.91792,     0.91892,     0.91992,     0.92092,     0.92192,     0.92292,     0.92392,     0.92492,     0.92593,     0.92693,     0.92793,     0.92893,     0.92993,     0.93093,     0.93193,     0.93293,     0.93393,     0.93493,     0.93594,\n",
              "           0.93694,     0.93794,     0.93894,     0.93994,     0.94094,     0.94194,     0.94294,     0.94394,     0.94494,     0.94595,     0.94695,     0.94795,     0.94895,     0.94995,     0.95095,     0.95195,     0.95295,     0.95395,     0.95495,     0.95596,     0.95696,     0.95796,     0.95896,     0.95996,\n",
              "           0.96096,     0.96196,     0.96296,     0.96396,     0.96496,     0.96597,     0.96697,     0.96797,     0.96897,     0.96997,     0.97097,     0.97197,     0.97297,     0.97397,     0.97497,     0.97598,     0.97698,     0.97798,     0.97898,     0.97998,     0.98098,     0.98198,     0.98298,     0.98398,\n",
              "           0.98498,     0.98599,     0.98699,     0.98799,     0.98899,     0.98999,     0.99099,     0.99199,     0.99299,     0.99399,     0.99499,       0.996,       0.997,       0.998,       0.999,           1]), array([[    0.62496,     0.62496,     0.63899,     0.64958,     0.65836,     0.66585,     0.67238,      0.6781,     0.68351,     0.68824,     0.69281,      0.6968,      0.7007,     0.70425,     0.70779,     0.71104,     0.71412,     0.71714,     0.71988,     0.72268,     0.72536,     0.72782,     0.73025,\n",
              "            0.73249,     0.73478,     0.73693,     0.73909,     0.74118,     0.74319,     0.74502,     0.74697,      0.7489,      0.7505,     0.75231,     0.75407,     0.75567,     0.75731,     0.75879,     0.76046,     0.76191,     0.76341,     0.76483,     0.76631,     0.76777,     0.76908,      0.7704,\n",
              "            0.77178,     0.77297,     0.77435,     0.77572,     0.77685,     0.77798,     0.77935,     0.78045,     0.78157,     0.78273,     0.78385,     0.78484,      0.7859,       0.787,     0.78794,     0.78904,     0.78992,     0.79111,     0.79195,     0.79295,     0.79387,     0.79481,     0.79596,\n",
              "            0.79689,     0.79784,     0.79871,     0.79944,     0.80035,     0.80123,      0.8022,     0.80288,      0.8038,     0.80471,     0.80537,     0.80625,     0.80697,     0.80763,     0.80852,     0.80924,      0.8101,      0.8108,     0.81151,     0.81221,      0.8129,     0.81377,     0.81443,\n",
              "            0.81517,     0.81587,     0.81657,     0.81727,     0.81791,     0.81862,     0.81938,     0.81984,     0.82055,     0.82128,     0.82193,     0.82265,      0.8231,     0.82378,     0.82438,     0.82506,     0.82547,      0.8261,     0.82678,     0.82725,     0.82786,     0.82829,     0.82895,\n",
              "            0.82945,      0.8301,     0.83059,     0.83124,     0.83166,     0.83226,     0.83269,     0.83316,     0.83377,     0.83423,      0.8348,     0.83526,     0.83564,      0.8362,      0.8366,     0.83702,     0.83745,     0.83811,     0.83849,     0.83889,     0.83934,     0.83991,      0.8403,\n",
              "            0.84067,     0.84108,     0.84153,     0.84193,     0.84237,     0.84277,     0.84319,     0.84378,     0.84411,     0.84451,     0.84494,     0.84535,     0.84573,     0.84608,     0.84646,     0.84683,      0.8472,     0.84757,     0.84796,     0.84834,     0.84855,     0.84897,     0.84934,\n",
              "            0.84971,     0.85006,     0.85045,      0.8508,     0.85114,     0.85154,     0.85176,     0.85214,     0.85254,     0.85294,     0.85324,     0.85357,     0.85379,     0.85417,     0.85455,     0.85488,     0.85507,     0.85541,     0.85581,     0.85616,     0.85634,     0.85669,       0.857,\n",
              "            0.85717,      0.8575,     0.85782,     0.85814,     0.85828,     0.85862,      0.8589,      0.8591,     0.85937,     0.85968,     0.85983,     0.86011,     0.86042,     0.86056,     0.86086,     0.86099,     0.86132,     0.86162,     0.86179,     0.86211,     0.86226,     0.86255,     0.86268,\n",
              "            0.86294,     0.86318,      0.8633,     0.86362,     0.86377,      0.8641,     0.86428,     0.86456,     0.86475,     0.86496,     0.86509,     0.86529,     0.86543,     0.86565,     0.86582,     0.86601,     0.86616,     0.86648,     0.86662,     0.86692,     0.86706,     0.86734,     0.86749,\n",
              "            0.86775,     0.86788,     0.86801,     0.86822,     0.86839,     0.86867,     0.86881,     0.86901,     0.86915,     0.86931,     0.86957,     0.86969,     0.86994,     0.87008,      0.8702,      0.8704,     0.87055,     0.87068,     0.87089,     0.87105,     0.87125,     0.87133,     0.87147,\n",
              "            0.87167,     0.87175,     0.87185,     0.87202,     0.87215,     0.87224,     0.87247,     0.87257,     0.87277,     0.87289,     0.87298,     0.87305,     0.87328,     0.87339,     0.87346,     0.87358,     0.87368,     0.87382,     0.87399,     0.87409,     0.87419,     0.87427,     0.87441,\n",
              "             0.8745,     0.87458,     0.87464,     0.87482,     0.87489,     0.87497,      0.8751,     0.87514,     0.87519,     0.87528,     0.87542,      0.8755,     0.87561,     0.87568,     0.87588,     0.87594,     0.87597,     0.87605,     0.87621,     0.87625,     0.87631,     0.87639,     0.87645,\n",
              "            0.87658,     0.87663,      0.8767,     0.87678,     0.87689,     0.87698,     0.87705,     0.87708,     0.87713,     0.87724,     0.87728,     0.87732,     0.87736,     0.87747,     0.87748,     0.87753,     0.87758,     0.87766,     0.87771,     0.87775,     0.87781,     0.87786,     0.87788,\n",
              "             0.8779,     0.87795,     0.87804,     0.87806,     0.87809,     0.87811,     0.87809,     0.87815,     0.87818,     0.87824,     0.87825,     0.87828,     0.87831,      0.8783,     0.87832,     0.87829,     0.87829,     0.87832,     0.87833,     0.87833,     0.87836,      0.8784,     0.87843,\n",
              "             0.8784,     0.87839,     0.87841,     0.87839,     0.87841,     0.87846,     0.87848,     0.87851,     0.87851,     0.87853,     0.87856,     0.87855,     0.87857,     0.87856,     0.87858,     0.87859,     0.87857,     0.87853,     0.87852,     0.87854,     0.87849,     0.87846,     0.87848,\n",
              "            0.87843,     0.87838,      0.8784,     0.87838,     0.87832,     0.87828,     0.87827,     0.87827,     0.87822,     0.87821,     0.87815,     0.87811,     0.87801,     0.87799,     0.87795,     0.87793,     0.87791,     0.87789,     0.87784,     0.87782,     0.87779,     0.87775,     0.87767,\n",
              "            0.87762,     0.87757,     0.87754,     0.87747,     0.87743,     0.87739,     0.87735,     0.87733,     0.87729,     0.87725,     0.87722,     0.87718,     0.87711,     0.87701,     0.87695,     0.87684,     0.87677,     0.87672,     0.87669,     0.87666,     0.87658,      0.8765,     0.87646,\n",
              "            0.87639,     0.87631,     0.87627,     0.87622,     0.87616,      0.8761,     0.87602,     0.87593,     0.87589,     0.87575,      0.8757,     0.87564,     0.87556,     0.87549,     0.87541,     0.87534,     0.87525,     0.87519,     0.87512,     0.87505,     0.87499,     0.87489,     0.87487,\n",
              "            0.87482,     0.87476,     0.87468,      0.8746,     0.87452,     0.87439,     0.87432,     0.87424,     0.87411,     0.87408,     0.87398,     0.87391,     0.87381,     0.87365,     0.87354,     0.87346,     0.87339,     0.87327,     0.87317,     0.87303,     0.87292,      0.8728,      0.8727,\n",
              "            0.87262,     0.87254,     0.87247,     0.87238,     0.87225,     0.87215,     0.87204,     0.87189,     0.87177,     0.87169,     0.87156,     0.87142,     0.87132,     0.87118,     0.87109,     0.87094,     0.87082,     0.87066,     0.87057,     0.87044,     0.87017,      0.8701,     0.86993,\n",
              "            0.86984,      0.8697,     0.86953,     0.86938,     0.86924,     0.86912,       0.869,     0.86885,     0.86868,     0.86856,     0.86845,     0.86829,     0.86812,     0.86803,     0.86787,     0.86773,     0.86753,     0.86735,     0.86719,     0.86704,      0.8669,     0.86673,      0.8666,\n",
              "            0.86643,     0.86622,     0.86604,     0.86591,     0.86569,     0.86556,     0.86531,     0.86515,     0.86498,     0.86482,     0.86466,     0.86451,     0.86435,     0.86419,     0.86384,     0.86373,     0.86354,     0.86336,     0.86316,     0.86296,     0.86281,     0.86265,     0.86247,\n",
              "            0.86229,     0.86212,     0.86193,     0.86173,     0.86155,     0.86135,     0.86115,     0.86096,     0.86076,     0.86052,     0.86025,     0.86007,      0.8599,     0.85969,     0.85949,     0.85928,     0.85902,     0.85884,     0.85863,      0.8584,     0.85825,       0.858,     0.85777,\n",
              "            0.85756,      0.8573,     0.85709,     0.85686,      0.8566,     0.85606,     0.85581,     0.85558,     0.85528,     0.85505,     0.85481,     0.85458,     0.85435,     0.85403,     0.85377,     0.85351,     0.85325,     0.85301,     0.85274,     0.85246,     0.85215,     0.85182,     0.85153,\n",
              "            0.85124,     0.85098,     0.85063,      0.8503,        0.85,     0.84935,     0.84907,     0.84875,     0.84842,     0.84811,     0.84778,      0.8475,     0.84712,     0.84675,     0.84642,     0.84608,     0.84574,     0.84542,     0.84512,     0.84476,     0.84439,     0.84379,     0.84352,\n",
              "            0.84317,     0.84282,     0.84247,     0.84206,     0.84172,      0.8414,       0.841,     0.84061,     0.84024,     0.83945,     0.83912,     0.83876,     0.83839,     0.83801,     0.83762,      0.8372,     0.83675,     0.83636,     0.83595,      0.8356,     0.83516,     0.83477,     0.83391,\n",
              "            0.83349,     0.83303,     0.83259,     0.83214,     0.83173,     0.83129,     0.83085,     0.83037,     0.82995,     0.82956,     0.82908,     0.82813,     0.82766,     0.82716,     0.82669,      0.8262,     0.82576,     0.82527,     0.82479,     0.82384,      0.8234,     0.82286,     0.82233,\n",
              "            0.82188,     0.82139,     0.82089,     0.82035,     0.81982,     0.81873,     0.81807,     0.81742,     0.81685,     0.81629,      0.8157,      0.8151,     0.81451,     0.81392,     0.81267,     0.81203,     0.81137,     0.81064,     0.80935,     0.80877,     0.80819,     0.80746,     0.80684,\n",
              "            0.80615,     0.80552,     0.80486,     0.80347,     0.80281,     0.80207,     0.80126,     0.80052,     0.79983,     0.79911,     0.79769,     0.79696,     0.79622,     0.79469,     0.79395,     0.79313,     0.79234,      0.7915,      0.7906,     0.78978,     0.78808,     0.78722,     0.78645,\n",
              "            0.78549,     0.78469,     0.78385,     0.78196,     0.78105,     0.78011,      0.7792,     0.77817,     0.77628,     0.77534,     0.77347,      0.7724,     0.77142,     0.77042,     0.76939,     0.76722,     0.76619,     0.76504,     0.76393,     0.76265,     0.76023,     0.75901,     0.75795,\n",
              "            0.75672,     0.75557,     0.75309,     0.75177,     0.75053,     0.74926,     0.74674,     0.74543,     0.74221,     0.74188,     0.73961,     0.73928,     0.73643,     0.73377,     0.73335,     0.73047,     0.72795,     0.72757,      0.7248,     0.72166,     0.72126,     0.71842,     0.71801,\n",
              "            0.71465,     0.71144,       0.711,     0.70736,     0.70377,     0.70051,     0.70004,     0.69678,     0.69276,     0.69227,     0.68875,     0.68473,     0.68429,     0.68063,     0.67631,     0.67586,     0.67203,     0.66723,     0.66678,     0.66272,     0.65794,     0.65737,     0.65229,\n",
              "            0.64754,     0.64243,     0.64184,      0.6363,     0.63156,     0.62615,     0.62558,     0.62057,     0.61491,     0.61432,     0.60848,     0.60318,     0.60259,     0.59656,     0.59109,     0.58461,     0.58396,      0.5781,     0.57111,     0.57043,     0.56385,     0.55692,     0.55045,\n",
              "            0.54303,     0.54222,     0.53469,     0.52787,     0.52028,     0.51955,     0.51148,     0.50431,     0.49646,     0.49572,     0.48783,     0.48018,     0.47185,     0.47109,      0.4623,     0.45356,     0.44589,     0.43723,     0.42805,     0.41883,     0.41799,      0.4086,     0.39972,\n",
              "            0.39012,     0.38068,     0.37971,        0.37,      0.3611,     0.35149,     0.34179,      0.3408,      0.3306,     0.32077,     0.31174,     0.30156,     0.29146,     0.29048,     0.28022,     0.26091,     0.25987,     0.24969,      0.2401,     0.23146,     0.22172,      0.2125,     0.20341,\n",
              "            0.20255,     0.19313,     0.18435,     0.17577,     0.16819,     0.15949,     0.15089,     0.14312,     0.13522,      0.1279,       0.127,     0.11974,     0.10689,     0.10024,    0.094256,    0.088457,    0.083008,    0.077617,    0.077019,     0.07211,    0.067517,    0.062772,    0.058439,\n",
              "           0.054366,    0.050543,    0.046949,    0.043617,    0.040472,    0.037224,    0.034324,    0.031609,    0.029187,    0.024774,    0.022624,    0.020598,     0.01885,    0.017046,    0.015482,    0.014234,    0.012924,    0.010762,   0.0098491,   0.0087786,   0.0078707,   0.0070578,   0.0063671,\n",
              "          0.0057102,   0.0051351,   0.0042239,    0.003778,   0.0032772,   0.0028515,   0.0023777,   0.0021302,   0.0018826,   0.0016213,   0.0012842,   0.0011189,  0.00089864,  0.00079516,  0.00066418,   0.0006157,  0.00053814,   0.0004362,  0.00034644,  0.00029689,  0.00028384,  0.00022846,  0.00020748,\n",
              "         0.00016893,  0.00015863,  0.00014451,  0.00012026,   0.0001007,   8.845e-05,  6.8136e-05,   6.024e-05,  4.7912e-05,  4.6149e-05,  4.4385e-05,  4.2622e-05,  3.3268e-05,  2.8566e-05,  1.2396e-05,  7.6938e-06,           0,           0,           0,           0,           0,           0,           0,\n",
              "                  0,           0,           0,           0,           0,           0,           0,           0,           0,           0,           0,           0,           0,           0,           0,           0,           0,           0,           0,           0,           0,           0,           0,\n",
              "                  0,           0,           0,           0,           0,           0,           0,           0,           0,           0,           0,           0,           0,           0,           0,           0,           0,           0,           0,           0,           0,           0,           0,\n",
              "                  0,           0,           0,           0,           0,           0,           0,           0,           0,           0,           0,           0,           0,           0,           0,           0,           0,           0,           0,           0,           0,           0,           0,\n",
              "                  0,           0,           0,           0,           0,           0,           0,           0,           0,           0,           0]]), 'Confidence', 'F1'], [array([          0,    0.001001,    0.002002,    0.003003,    0.004004,    0.005005,    0.006006,    0.007007,    0.008008,    0.009009,     0.01001,    0.011011,    0.012012,    0.013013,    0.014014,    0.015015,    0.016016,    0.017017,    0.018018,    0.019019,     0.02002,    0.021021,    0.022022,    0.023023,\n",
              "          0.024024,    0.025025,    0.026026,    0.027027,    0.028028,    0.029029,     0.03003,    0.031031,    0.032032,    0.033033,    0.034034,    0.035035,    0.036036,    0.037037,    0.038038,    0.039039,     0.04004,    0.041041,    0.042042,    0.043043,    0.044044,    0.045045,    0.046046,    0.047047,\n",
              "          0.048048,    0.049049,     0.05005,    0.051051,    0.052052,    0.053053,    0.054054,    0.055055,    0.056056,    0.057057,    0.058058,    0.059059,     0.06006,    0.061061,    0.062062,    0.063063,    0.064064,    0.065065,    0.066066,    0.067067,    0.068068,    0.069069,     0.07007,    0.071071,\n",
              "          0.072072,    0.073073,    0.074074,    0.075075,    0.076076,    0.077077,    0.078078,    0.079079,     0.08008,    0.081081,    0.082082,    0.083083,    0.084084,    0.085085,    0.086086,    0.087087,    0.088088,    0.089089,     0.09009,    0.091091,    0.092092,    0.093093,    0.094094,    0.095095,\n",
              "          0.096096,    0.097097,    0.098098,    0.099099,      0.1001,      0.1011,      0.1021,      0.1031,      0.1041,     0.10511,     0.10611,     0.10711,     0.10811,     0.10911,     0.11011,     0.11111,     0.11211,     0.11311,     0.11411,     0.11512,     0.11612,     0.11712,     0.11812,     0.11912,\n",
              "           0.12012,     0.12112,     0.12212,     0.12312,     0.12412,     0.12513,     0.12613,     0.12713,     0.12813,     0.12913,     0.13013,     0.13113,     0.13213,     0.13313,     0.13413,     0.13514,     0.13614,     0.13714,     0.13814,     0.13914,     0.14014,     0.14114,     0.14214,     0.14314,\n",
              "           0.14414,     0.14515,     0.14615,     0.14715,     0.14815,     0.14915,     0.15015,     0.15115,     0.15215,     0.15315,     0.15415,     0.15516,     0.15616,     0.15716,     0.15816,     0.15916,     0.16016,     0.16116,     0.16216,     0.16316,     0.16416,     0.16517,     0.16617,     0.16717,\n",
              "           0.16817,     0.16917,     0.17017,     0.17117,     0.17217,     0.17317,     0.17417,     0.17518,     0.17618,     0.17718,     0.17818,     0.17918,     0.18018,     0.18118,     0.18218,     0.18318,     0.18418,     0.18519,     0.18619,     0.18719,     0.18819,     0.18919,     0.19019,     0.19119,\n",
              "           0.19219,     0.19319,     0.19419,      0.1952,      0.1962,      0.1972,      0.1982,      0.1992,      0.2002,      0.2012,      0.2022,      0.2032,      0.2042,     0.20521,     0.20621,     0.20721,     0.20821,     0.20921,     0.21021,     0.21121,     0.21221,     0.21321,     0.21421,     0.21522,\n",
              "           0.21622,     0.21722,     0.21822,     0.21922,     0.22022,     0.22122,     0.22222,     0.22322,     0.22422,     0.22523,     0.22623,     0.22723,     0.22823,     0.22923,     0.23023,     0.23123,     0.23223,     0.23323,     0.23423,     0.23524,     0.23624,     0.23724,     0.23824,     0.23924,\n",
              "           0.24024,     0.24124,     0.24224,     0.24324,     0.24424,     0.24525,     0.24625,     0.24725,     0.24825,     0.24925,     0.25025,     0.25125,     0.25225,     0.25325,     0.25425,     0.25526,     0.25626,     0.25726,     0.25826,     0.25926,     0.26026,     0.26126,     0.26226,     0.26326,\n",
              "           0.26426,     0.26527,     0.26627,     0.26727,     0.26827,     0.26927,     0.27027,     0.27127,     0.27227,     0.27327,     0.27427,     0.27528,     0.27628,     0.27728,     0.27828,     0.27928,     0.28028,     0.28128,     0.28228,     0.28328,     0.28428,     0.28529,     0.28629,     0.28729,\n",
              "           0.28829,     0.28929,     0.29029,     0.29129,     0.29229,     0.29329,     0.29429,      0.2953,      0.2963,      0.2973,      0.2983,      0.2993,      0.3003,      0.3013,      0.3023,      0.3033,      0.3043,     0.30531,     0.30631,     0.30731,     0.30831,     0.30931,     0.31031,     0.31131,\n",
              "           0.31231,     0.31331,     0.31431,     0.31532,     0.31632,     0.31732,     0.31832,     0.31932,     0.32032,     0.32132,     0.32232,     0.32332,     0.32432,     0.32533,     0.32633,     0.32733,     0.32833,     0.32933,     0.33033,     0.33133,     0.33233,     0.33333,     0.33433,     0.33534,\n",
              "           0.33634,     0.33734,     0.33834,     0.33934,     0.34034,     0.34134,     0.34234,     0.34334,     0.34434,     0.34535,     0.34635,     0.34735,     0.34835,     0.34935,     0.35035,     0.35135,     0.35235,     0.35335,     0.35435,     0.35536,     0.35636,     0.35736,     0.35836,     0.35936,\n",
              "           0.36036,     0.36136,     0.36236,     0.36336,     0.36436,     0.36537,     0.36637,     0.36737,     0.36837,     0.36937,     0.37037,     0.37137,     0.37237,     0.37337,     0.37437,     0.37538,     0.37638,     0.37738,     0.37838,     0.37938,     0.38038,     0.38138,     0.38238,     0.38338,\n",
              "           0.38438,     0.38539,     0.38639,     0.38739,     0.38839,     0.38939,     0.39039,     0.39139,     0.39239,     0.39339,     0.39439,      0.3954,      0.3964,      0.3974,      0.3984,      0.3994,      0.4004,      0.4014,      0.4024,      0.4034,      0.4044,     0.40541,     0.40641,     0.40741,\n",
              "           0.40841,     0.40941,     0.41041,     0.41141,     0.41241,     0.41341,     0.41441,     0.41542,     0.41642,     0.41742,     0.41842,     0.41942,     0.42042,     0.42142,     0.42242,     0.42342,     0.42442,     0.42543,     0.42643,     0.42743,     0.42843,     0.42943,     0.43043,     0.43143,\n",
              "           0.43243,     0.43343,     0.43443,     0.43544,     0.43644,     0.43744,     0.43844,     0.43944,     0.44044,     0.44144,     0.44244,     0.44344,     0.44444,     0.44545,     0.44645,     0.44745,     0.44845,     0.44945,     0.45045,     0.45145,     0.45245,     0.45345,     0.45445,     0.45546,\n",
              "           0.45646,     0.45746,     0.45846,     0.45946,     0.46046,     0.46146,     0.46246,     0.46346,     0.46446,     0.46547,     0.46647,     0.46747,     0.46847,     0.46947,     0.47047,     0.47147,     0.47247,     0.47347,     0.47447,     0.47548,     0.47648,     0.47748,     0.47848,     0.47948,\n",
              "           0.48048,     0.48148,     0.48248,     0.48348,     0.48448,     0.48549,     0.48649,     0.48749,     0.48849,     0.48949,     0.49049,     0.49149,     0.49249,     0.49349,     0.49449,      0.4955,      0.4965,      0.4975,      0.4985,      0.4995,      0.5005,      0.5015,      0.5025,      0.5035,\n",
              "            0.5045,     0.50551,     0.50651,     0.50751,     0.50851,     0.50951,     0.51051,     0.51151,     0.51251,     0.51351,     0.51451,     0.51552,     0.51652,     0.51752,     0.51852,     0.51952,     0.52052,     0.52152,     0.52252,     0.52352,     0.52452,     0.52553,     0.52653,     0.52753,\n",
              "           0.52853,     0.52953,     0.53053,     0.53153,     0.53253,     0.53353,     0.53453,     0.53554,     0.53654,     0.53754,     0.53854,     0.53954,     0.54054,     0.54154,     0.54254,     0.54354,     0.54454,     0.54555,     0.54655,     0.54755,     0.54855,     0.54955,     0.55055,     0.55155,\n",
              "           0.55255,     0.55355,     0.55455,     0.55556,     0.55656,     0.55756,     0.55856,     0.55956,     0.56056,     0.56156,     0.56256,     0.56356,     0.56456,     0.56557,     0.56657,     0.56757,     0.56857,     0.56957,     0.57057,     0.57157,     0.57257,     0.57357,     0.57457,     0.57558,\n",
              "           0.57658,     0.57758,     0.57858,     0.57958,     0.58058,     0.58158,     0.58258,     0.58358,     0.58458,     0.58559,     0.58659,     0.58759,     0.58859,     0.58959,     0.59059,     0.59159,     0.59259,     0.59359,     0.59459,      0.5956,      0.5966,      0.5976,      0.5986,      0.5996,\n",
              "            0.6006,      0.6016,      0.6026,      0.6036,      0.6046,     0.60561,     0.60661,     0.60761,     0.60861,     0.60961,     0.61061,     0.61161,     0.61261,     0.61361,     0.61461,     0.61562,     0.61662,     0.61762,     0.61862,     0.61962,     0.62062,     0.62162,     0.62262,     0.62362,\n",
              "           0.62462,     0.62563,     0.62663,     0.62763,     0.62863,     0.62963,     0.63063,     0.63163,     0.63263,     0.63363,     0.63463,     0.63564,     0.63664,     0.63764,     0.63864,     0.63964,     0.64064,     0.64164,     0.64264,     0.64364,     0.64464,     0.64565,     0.64665,     0.64765,\n",
              "           0.64865,     0.64965,     0.65065,     0.65165,     0.65265,     0.65365,     0.65465,     0.65566,     0.65666,     0.65766,     0.65866,     0.65966,     0.66066,     0.66166,     0.66266,     0.66366,     0.66466,     0.66567,     0.66667,     0.66767,     0.66867,     0.66967,     0.67067,     0.67167,\n",
              "           0.67267,     0.67367,     0.67467,     0.67568,     0.67668,     0.67768,     0.67868,     0.67968,     0.68068,     0.68168,     0.68268,     0.68368,     0.68468,     0.68569,     0.68669,     0.68769,     0.68869,     0.68969,     0.69069,     0.69169,     0.69269,     0.69369,     0.69469,      0.6957,\n",
              "            0.6967,      0.6977,      0.6987,      0.6997,      0.7007,      0.7017,      0.7027,      0.7037,      0.7047,     0.70571,     0.70671,     0.70771,     0.70871,     0.70971,     0.71071,     0.71171,     0.71271,     0.71371,     0.71471,     0.71572,     0.71672,     0.71772,     0.71872,     0.71972,\n",
              "           0.72072,     0.72172,     0.72272,     0.72372,     0.72472,     0.72573,     0.72673,     0.72773,     0.72873,     0.72973,     0.73073,     0.73173,     0.73273,     0.73373,     0.73473,     0.73574,     0.73674,     0.73774,     0.73874,     0.73974,     0.74074,     0.74174,     0.74274,     0.74374,\n",
              "           0.74474,     0.74575,     0.74675,     0.74775,     0.74875,     0.74975,     0.75075,     0.75175,     0.75275,     0.75375,     0.75475,     0.75576,     0.75676,     0.75776,     0.75876,     0.75976,     0.76076,     0.76176,     0.76276,     0.76376,     0.76476,     0.76577,     0.76677,     0.76777,\n",
              "           0.76877,     0.76977,     0.77077,     0.77177,     0.77277,     0.77377,     0.77477,     0.77578,     0.77678,     0.77778,     0.77878,     0.77978,     0.78078,     0.78178,     0.78278,     0.78378,     0.78478,     0.78579,     0.78679,     0.78779,     0.78879,     0.78979,     0.79079,     0.79179,\n",
              "           0.79279,     0.79379,     0.79479,      0.7958,      0.7968,      0.7978,      0.7988,      0.7998,      0.8008,      0.8018,      0.8028,      0.8038,      0.8048,     0.80581,     0.80681,     0.80781,     0.80881,     0.80981,     0.81081,     0.81181,     0.81281,     0.81381,     0.81481,     0.81582,\n",
              "           0.81682,     0.81782,     0.81882,     0.81982,     0.82082,     0.82182,     0.82282,     0.82382,     0.82482,     0.82583,     0.82683,     0.82783,     0.82883,     0.82983,     0.83083,     0.83183,     0.83283,     0.83383,     0.83483,     0.83584,     0.83684,     0.83784,     0.83884,     0.83984,\n",
              "           0.84084,     0.84184,     0.84284,     0.84384,     0.84484,     0.84585,     0.84685,     0.84785,     0.84885,     0.84985,     0.85085,     0.85185,     0.85285,     0.85385,     0.85485,     0.85586,     0.85686,     0.85786,     0.85886,     0.85986,     0.86086,     0.86186,     0.86286,     0.86386,\n",
              "           0.86486,     0.86587,     0.86687,     0.86787,     0.86887,     0.86987,     0.87087,     0.87187,     0.87287,     0.87387,     0.87487,     0.87588,     0.87688,     0.87788,     0.87888,     0.87988,     0.88088,     0.88188,     0.88288,     0.88388,     0.88488,     0.88589,     0.88689,     0.88789,\n",
              "           0.88889,     0.88989,     0.89089,     0.89189,     0.89289,     0.89389,     0.89489,      0.8959,      0.8969,      0.8979,      0.8989,      0.8999,      0.9009,      0.9019,      0.9029,      0.9039,      0.9049,     0.90591,     0.90691,     0.90791,     0.90891,     0.90991,     0.91091,     0.91191,\n",
              "           0.91291,     0.91391,     0.91491,     0.91592,     0.91692,     0.91792,     0.91892,     0.91992,     0.92092,     0.92192,     0.92292,     0.92392,     0.92492,     0.92593,     0.92693,     0.92793,     0.92893,     0.92993,     0.93093,     0.93193,     0.93293,     0.93393,     0.93493,     0.93594,\n",
              "           0.93694,     0.93794,     0.93894,     0.93994,     0.94094,     0.94194,     0.94294,     0.94394,     0.94494,     0.94595,     0.94695,     0.94795,     0.94895,     0.94995,     0.95095,     0.95195,     0.95295,     0.95395,     0.95495,     0.95596,     0.95696,     0.95796,     0.95896,     0.95996,\n",
              "           0.96096,     0.96196,     0.96296,     0.96396,     0.96496,     0.96597,     0.96697,     0.96797,     0.96897,     0.96997,     0.97097,     0.97197,     0.97297,     0.97397,     0.97497,     0.97598,     0.97698,     0.97798,     0.97898,     0.97998,     0.98098,     0.98198,     0.98298,     0.98398,\n",
              "           0.98498,     0.98599,     0.98699,     0.98799,     0.98899,     0.98999,     0.99099,     0.99199,     0.99299,     0.99399,     0.99499,       0.996,       0.997,       0.998,       0.999,           1]), array([[    0.46962,     0.46962,     0.48569,     0.49808,     0.50855,     0.51759,     0.52559,     0.53267,     0.53944,     0.54541,     0.55123,     0.55636,     0.56141,     0.56604,     0.57071,       0.575,      0.5791,     0.58315,     0.58686,     0.59065,     0.59433,     0.59771,     0.60107,\n",
              "            0.60418,     0.60739,      0.6104,     0.61347,     0.61643,     0.61928,     0.62191,      0.6247,      0.6275,     0.62982,     0.63246,     0.63504,     0.63741,      0.6398,     0.64201,     0.64452,     0.64666,     0.64893,     0.65108,     0.65332,     0.65554,     0.65753,     0.65954,\n",
              "            0.66166,      0.6635,     0.66566,     0.66778,     0.66953,      0.6713,     0.67343,     0.67516,     0.67692,     0.67877,     0.68054,     0.68209,     0.68379,     0.68555,     0.68708,     0.68886,     0.69029,     0.69221,     0.69358,     0.69521,     0.69673,     0.69828,     0.70019,\n",
              "            0.70175,     0.70331,     0.70479,       0.706,     0.70755,     0.70903,     0.71066,     0.71182,     0.71337,      0.7149,     0.71605,     0.71757,     0.71882,     0.71997,     0.72151,     0.72275,     0.72424,     0.72548,      0.7267,     0.72794,     0.72914,     0.73068,     0.73182,\n",
              "             0.7331,     0.73434,     0.73557,     0.73684,     0.73798,     0.73925,     0.74058,      0.7414,     0.74267,     0.74402,     0.74519,      0.7465,     0.74732,     0.74856,     0.74968,     0.75094,     0.75173,     0.75293,     0.75417,     0.75504,     0.75619,     0.75702,     0.75827,\n",
              "            0.75923,     0.76045,      0.7614,     0.76263,     0.76348,     0.76466,     0.76552,      0.7664,     0.76761,     0.76849,     0.76961,     0.77052,     0.77133,     0.77244,     0.77325,     0.77408,     0.77497,     0.77626,     0.77706,     0.77792,      0.7788,     0.77997,     0.78079,\n",
              "            0.78157,     0.78241,     0.78333,     0.78415,     0.78505,     0.78587,     0.78673,     0.78796,     0.78868,     0.78954,     0.79042,     0.79129,      0.7921,     0.79287,     0.79371,      0.7945,      0.7953,     0.79611,     0.79696,     0.79779,     0.79825,     0.79916,     0.79996,\n",
              "            0.80075,     0.80156,      0.8024,     0.80317,     0.80394,      0.8048,     0.80529,     0.80615,     0.80706,     0.80795,      0.8087,     0.80953,     0.81002,     0.81089,     0.81177,     0.81257,     0.81303,     0.81391,     0.81482,     0.81567,     0.81609,      0.8169,     0.81771,\n",
              "            0.81812,     0.81893,     0.81973,     0.82052,     0.82089,     0.82173,     0.82246,     0.82295,      0.8237,     0.82449,      0.8249,     0.82567,      0.8265,     0.82691,     0.82767,     0.82804,     0.82888,     0.82966,     0.83007,     0.83091,      0.8313,     0.83208,     0.83247,\n",
              "            0.83323,     0.83398,     0.83437,     0.83519,     0.83562,     0.83642,     0.83686,     0.83765,     0.83812,     0.83887,     0.83927,     0.83992,     0.84034,     0.84111,     0.84157,     0.84225,     0.84266,     0.84351,     0.84393,     0.84479,     0.84525,     0.84606,     0.84655,\n",
              "            0.84735,     0.84774,     0.84815,      0.8489,     0.84937,     0.85025,     0.85065,      0.8514,     0.85182,     0.85231,     0.85312,     0.85353,     0.85433,     0.85476,     0.85518,     0.85595,     0.85639,     0.85686,     0.85764,     0.85809,     0.85888,     0.85923,     0.85968,\n",
              "            0.86043,     0.86081,      0.8612,      0.8619,     0.86236,     0.86277,      0.8636,     0.86397,     0.86472,     0.86514,     0.86554,      0.8659,     0.86676,     0.86718,     0.86754,     0.86822,     0.86865,     0.86908,     0.86986,     0.87023,     0.87064,     0.87104,     0.87179,\n",
              "            0.87218,     0.87255,     0.87288,     0.87365,     0.87405,     0.87445,     0.87514,     0.87547,     0.87585,     0.87624,     0.87699,     0.87739,     0.87782,      0.8782,     0.87898,     0.87936,      0.8797,     0.88007,     0.88081,     0.88119,     0.88156,     0.88194,     0.88225,\n",
              "            0.88297,     0.88334,      0.8837,     0.88405,     0.88473,     0.88506,     0.88542,     0.88571,     0.88606,     0.88673,     0.88704,      0.8874,     0.88772,     0.88845,     0.88874,     0.88909,     0.88942,     0.88978,     0.89011,     0.89046,     0.89104,      0.8914,     0.89166,\n",
              "              0.892,     0.89236,     0.89309,     0.89342,     0.89379,     0.89409,     0.89436,     0.89472,     0.89541,     0.89578,     0.89608,     0.89641,     0.89671,     0.89703,      0.8973,     0.89783,     0.89814,     0.89843,     0.89872,     0.89901,     0.89933,     0.89991,     0.90026,\n",
              "            0.90056,     0.90083,     0.90113,     0.90144,     0.90175,      0.9024,     0.90271,     0.90304,     0.90335,     0.90367,     0.90398,     0.90427,     0.90462,     0.90489,     0.90523,     0.90584,     0.90609,      0.9063,     0.90658,     0.90689,     0.90718,     0.90744,     0.90773,\n",
              "            0.90799,     0.90826,     0.90885,     0.90916,     0.90941,     0.90966,     0.90998,     0.91027,      0.9105,     0.91074,     0.91097,     0.91126,     0.91174,     0.91201,     0.91225,     0.91255,     0.91279,     0.91305,     0.91332,     0.91359,     0.91384,     0.91409,     0.91455,\n",
              "            0.91481,     0.91507,     0.91531,     0.91556,     0.91582,     0.91611,     0.91638,     0.91663,     0.91688,     0.91715,     0.91738,     0.91763,     0.91788,     0.91808,      0.9183,     0.91849,       0.919,     0.91925,     0.91952,     0.91979,     0.92005,     0.92026,     0.92052,\n",
              "            0.92075,     0.92098,     0.92125,     0.92152,     0.92178,     0.92203,     0.92233,     0.92253,     0.92285,     0.92328,     0.92352,     0.92378,       0.924,     0.92424,     0.92444,     0.92466,      0.9249,     0.92516,     0.92542,     0.92563,     0.92589,      0.9261,     0.92638,\n",
              "            0.92665,     0.92691,     0.92718,     0.92741,     0.92762,     0.92782,     0.92807,     0.92829,     0.92852,     0.92876,     0.92896,     0.92925,     0.92948,     0.92989,     0.93013,     0.93037,     0.93063,     0.93084,      0.9311,      0.9313,     0.93151,     0.93174,     0.93199,\n",
              "            0.93221,     0.93244,      0.9327,     0.93291,     0.93313,     0.93332,     0.93355,     0.93371,     0.93389,     0.93417,     0.93439,     0.93462,     0.93483,     0.93503,     0.93532,     0.93547,     0.93569,     0.93587,     0.93609,      0.9363,     0.93673,     0.93702,     0.93722,\n",
              "            0.93749,     0.93773,     0.93789,      0.9381,     0.93832,     0.93854,     0.93874,     0.93894,     0.93914,     0.93936,     0.93962,     0.93979,        0.94,      0.9402,     0.94039,     0.94058,     0.94075,     0.94099,     0.94123,     0.94141,     0.94161,     0.94179,       0.942,\n",
              "            0.94223,      0.9424,     0.94259,     0.94279,     0.94296,     0.94314,     0.94331,     0.94352,     0.94368,      0.9439,     0.94411,     0.94433,     0.94456,     0.94476,     0.94517,      0.9454,     0.94557,     0.94576,     0.94594,     0.94609,     0.94629,     0.94655,     0.94675,\n",
              "            0.94691,     0.94722,     0.94744,     0.94763,     0.94783,     0.94803,     0.94824,     0.94843,     0.94868,     0.94889,     0.94901,      0.9492,     0.94943,     0.94962,     0.94985,     0.95008,      0.9503,     0.95053,     0.95079,     0.95095,     0.95121,     0.95138,     0.95153,\n",
              "            0.95174,     0.95194,     0.95214,      0.9523,     0.95251,     0.95287,     0.95302,     0.95326,     0.95345,     0.95362,     0.95384,     0.95402,     0.95416,     0.95435,     0.95455,     0.95471,     0.95491,     0.95511,     0.95526,     0.95545,     0.95562,     0.95578,     0.95595,\n",
              "            0.95612,     0.95632,     0.95645,     0.95665,     0.95681,     0.95707,     0.95732,     0.95747,     0.95756,     0.95772,      0.9579,      0.9581,     0.95822,     0.95836,     0.95853,     0.95863,     0.95885,     0.95901,     0.95922,     0.95935,     0.95952,     0.95985,     0.96009,\n",
              "            0.96028,     0.96045,     0.96062,     0.96075,     0.96093,     0.96111,     0.96129,     0.96142,     0.96165,     0.96192,     0.96206,     0.96225,     0.96241,     0.96257,     0.96274,     0.96292,     0.96311,     0.96325,     0.96336,     0.96348,     0.96364,     0.96382,     0.96413,\n",
              "            0.96431,     0.96443,     0.96462,      0.9648,     0.96498,     0.96514,     0.96528,     0.96541,     0.96558,     0.96574,     0.96584,     0.96613,     0.96628,     0.96652,      0.9667,     0.96686,     0.96703,     0.96721,     0.96734,     0.96767,     0.96784,       0.968,     0.96813,\n",
              "            0.96827,     0.96843,     0.96859,     0.96875,     0.96893,     0.96932,     0.96945,     0.96959,     0.96976,     0.96989,     0.97001,     0.97017,     0.97034,     0.97048,     0.97076,     0.97091,     0.97111,     0.97122,     0.97162,     0.97177,     0.97194,     0.97206,     0.97228,\n",
              "            0.97248,     0.97256,     0.97272,     0.97298,     0.97315,     0.97328,     0.97347,     0.97363,     0.97382,     0.97397,     0.97432,     0.97443,     0.97459,     0.97485,     0.97499,     0.97509,     0.97525,     0.97539,     0.97558,     0.97568,     0.97596,     0.97612,     0.97633,\n",
              "            0.97644,     0.97658,     0.97676,     0.97707,     0.97721,     0.97736,      0.9775,     0.97762,     0.97788,     0.97813,     0.97838,     0.97853,     0.97866,     0.97878,     0.97894,     0.97922,      0.9794,     0.97954,     0.97972,     0.97983,     0.98006,     0.98023,     0.98037,\n",
              "            0.98045,     0.98059,     0.98087,     0.98106,      0.9812,     0.98126,     0.98157,     0.98172,     0.98209,     0.98212,     0.98234,     0.98235,      0.9826,     0.98279,     0.98287,     0.98317,      0.9834,     0.98345,     0.98374,     0.98398,     0.98403,     0.98424,      0.9843,\n",
              "            0.98456,     0.98474,     0.98476,     0.98498,      0.9852,     0.98541,     0.98542,     0.98561,      0.9858,     0.98585,     0.98604,     0.98627,     0.98629,     0.98649,     0.98662,     0.98666,     0.98687,     0.98708,     0.98713,     0.98726,     0.98747,     0.98748,     0.98763,\n",
              "            0.98776,     0.98797,       0.988,     0.98828,      0.9884,     0.98852,     0.98853,     0.98871,     0.98894,     0.98894,     0.98916,     0.98927,     0.98931,     0.98948,     0.98967,      0.9898,     0.98984,     0.99006,     0.99017,     0.99016,     0.99022,     0.99038,      0.9905,\n",
              "             0.9907,      0.9907,      0.9908,     0.99094,      0.9911,     0.99112,      0.9913,     0.99138,     0.99151,     0.99153,     0.99167,     0.99181,     0.99183,     0.99185,      0.9919,     0.99207,     0.99218,     0.99228,     0.99242,     0.99255,      0.9926,     0.99271,     0.99278,\n",
              "            0.99285,     0.99289,     0.99294,     0.99286,     0.99296,     0.99306,      0.9932,     0.99322,     0.99326,     0.99337,     0.99344,     0.99346,     0.99338,     0.99343,     0.99348,      0.9934,     0.99344,     0.99339,     0.99324,     0.99322,     0.99321,     0.99319,     0.99292,\n",
              "            0.99297,     0.99275,     0.99277,     0.99277,     0.99271,     0.99279,     0.99268,     0.99265,      0.9927,      0.9928,      0.9929,     0.99292,     0.99292,     0.99282,     0.99255,      0.9924,     0.99267,     0.99256,     0.99267,     0.99252,     0.99257,     0.99231,     0.99229,\n",
              "            0.99206,     0.99184,     0.99205,     0.99189,     0.99125,     0.99119,      0.9916,     0.99129,     0.99102,     0.99157,     0.99136,      0.9905,     0.99069,     0.99049,     0.98996,     0.98908,     0.99005,     0.98931,     0.98968,     0.98919,     0.98881,     0.99038,     0.98934,\n",
              "             0.9893,     0.98942,     0.98875,     0.98744,     0.98758,     0.98575,     0.98857,     0.98726,      0.9856,     0.98744,     0.98419,     0.98786,      0.9924,     0.99142,     0.98975,           1,           1,           1,           1,           1,           1,           1,           1,\n",
              "                  1,           1,           1,           1,           1,           1,           1,           1,           1,           1,           1,           1,           1,           1,           1,           1,           1,           1,           1,           1,           1,           1,           1,\n",
              "                  1,           1,           1,           1,           1,           1,           1,           1,           1,           1,           1,           1,           1,           1,           1,           1,           1,           1,           1,           1,           1,           1,           1,\n",
              "                  1,           1,           1,           1,           1,           1,           1,           1,           1,           1,           1,           1,           1,           1,           1,           1,           1,           1,           1,           1,           1,           1,           1,\n",
              "                  1,           1,           1,           1,           1,           1,           1,           1,           1,           1,           1,           1,           1,           1,           1,           1,           1,           1,           1,           1,           1,           1,           1,\n",
              "                  1,           1,           1,           1,           1,           1,           1,           1,           1,           1,           1]]), 'Confidence', 'Precision'], [array([          0,    0.001001,    0.002002,    0.003003,    0.004004,    0.005005,    0.006006,    0.007007,    0.008008,    0.009009,     0.01001,    0.011011,    0.012012,    0.013013,    0.014014,    0.015015,    0.016016,    0.017017,    0.018018,    0.019019,     0.02002,    0.021021,    0.022022,    0.023023,\n",
              "          0.024024,    0.025025,    0.026026,    0.027027,    0.028028,    0.029029,     0.03003,    0.031031,    0.032032,    0.033033,    0.034034,    0.035035,    0.036036,    0.037037,    0.038038,    0.039039,     0.04004,    0.041041,    0.042042,    0.043043,    0.044044,    0.045045,    0.046046,    0.047047,\n",
              "          0.048048,    0.049049,     0.05005,    0.051051,    0.052052,    0.053053,    0.054054,    0.055055,    0.056056,    0.057057,    0.058058,    0.059059,     0.06006,    0.061061,    0.062062,    0.063063,    0.064064,    0.065065,    0.066066,    0.067067,    0.068068,    0.069069,     0.07007,    0.071071,\n",
              "          0.072072,    0.073073,    0.074074,    0.075075,    0.076076,    0.077077,    0.078078,    0.079079,     0.08008,    0.081081,    0.082082,    0.083083,    0.084084,    0.085085,    0.086086,    0.087087,    0.088088,    0.089089,     0.09009,    0.091091,    0.092092,    0.093093,    0.094094,    0.095095,\n",
              "          0.096096,    0.097097,    0.098098,    0.099099,      0.1001,      0.1011,      0.1021,      0.1031,      0.1041,     0.10511,     0.10611,     0.10711,     0.10811,     0.10911,     0.11011,     0.11111,     0.11211,     0.11311,     0.11411,     0.11512,     0.11612,     0.11712,     0.11812,     0.11912,\n",
              "           0.12012,     0.12112,     0.12212,     0.12312,     0.12412,     0.12513,     0.12613,     0.12713,     0.12813,     0.12913,     0.13013,     0.13113,     0.13213,     0.13313,     0.13413,     0.13514,     0.13614,     0.13714,     0.13814,     0.13914,     0.14014,     0.14114,     0.14214,     0.14314,\n",
              "           0.14414,     0.14515,     0.14615,     0.14715,     0.14815,     0.14915,     0.15015,     0.15115,     0.15215,     0.15315,     0.15415,     0.15516,     0.15616,     0.15716,     0.15816,     0.15916,     0.16016,     0.16116,     0.16216,     0.16316,     0.16416,     0.16517,     0.16617,     0.16717,\n",
              "           0.16817,     0.16917,     0.17017,     0.17117,     0.17217,     0.17317,     0.17417,     0.17518,     0.17618,     0.17718,     0.17818,     0.17918,     0.18018,     0.18118,     0.18218,     0.18318,     0.18418,     0.18519,     0.18619,     0.18719,     0.18819,     0.18919,     0.19019,     0.19119,\n",
              "           0.19219,     0.19319,     0.19419,      0.1952,      0.1962,      0.1972,      0.1982,      0.1992,      0.2002,      0.2012,      0.2022,      0.2032,      0.2042,     0.20521,     0.20621,     0.20721,     0.20821,     0.20921,     0.21021,     0.21121,     0.21221,     0.21321,     0.21421,     0.21522,\n",
              "           0.21622,     0.21722,     0.21822,     0.21922,     0.22022,     0.22122,     0.22222,     0.22322,     0.22422,     0.22523,     0.22623,     0.22723,     0.22823,     0.22923,     0.23023,     0.23123,     0.23223,     0.23323,     0.23423,     0.23524,     0.23624,     0.23724,     0.23824,     0.23924,\n",
              "           0.24024,     0.24124,     0.24224,     0.24324,     0.24424,     0.24525,     0.24625,     0.24725,     0.24825,     0.24925,     0.25025,     0.25125,     0.25225,     0.25325,     0.25425,     0.25526,     0.25626,     0.25726,     0.25826,     0.25926,     0.26026,     0.26126,     0.26226,     0.26326,\n",
              "           0.26426,     0.26527,     0.26627,     0.26727,     0.26827,     0.26927,     0.27027,     0.27127,     0.27227,     0.27327,     0.27427,     0.27528,     0.27628,     0.27728,     0.27828,     0.27928,     0.28028,     0.28128,     0.28228,     0.28328,     0.28428,     0.28529,     0.28629,     0.28729,\n",
              "           0.28829,     0.28929,     0.29029,     0.29129,     0.29229,     0.29329,     0.29429,      0.2953,      0.2963,      0.2973,      0.2983,      0.2993,      0.3003,      0.3013,      0.3023,      0.3033,      0.3043,     0.30531,     0.30631,     0.30731,     0.30831,     0.30931,     0.31031,     0.31131,\n",
              "           0.31231,     0.31331,     0.31431,     0.31532,     0.31632,     0.31732,     0.31832,     0.31932,     0.32032,     0.32132,     0.32232,     0.32332,     0.32432,     0.32533,     0.32633,     0.32733,     0.32833,     0.32933,     0.33033,     0.33133,     0.33233,     0.33333,     0.33433,     0.33534,\n",
              "           0.33634,     0.33734,     0.33834,     0.33934,     0.34034,     0.34134,     0.34234,     0.34334,     0.34434,     0.34535,     0.34635,     0.34735,     0.34835,     0.34935,     0.35035,     0.35135,     0.35235,     0.35335,     0.35435,     0.35536,     0.35636,     0.35736,     0.35836,     0.35936,\n",
              "           0.36036,     0.36136,     0.36236,     0.36336,     0.36436,     0.36537,     0.36637,     0.36737,     0.36837,     0.36937,     0.37037,     0.37137,     0.37237,     0.37337,     0.37437,     0.37538,     0.37638,     0.37738,     0.37838,     0.37938,     0.38038,     0.38138,     0.38238,     0.38338,\n",
              "           0.38438,     0.38539,     0.38639,     0.38739,     0.38839,     0.38939,     0.39039,     0.39139,     0.39239,     0.39339,     0.39439,      0.3954,      0.3964,      0.3974,      0.3984,      0.3994,      0.4004,      0.4014,      0.4024,      0.4034,      0.4044,     0.40541,     0.40641,     0.40741,\n",
              "           0.40841,     0.40941,     0.41041,     0.41141,     0.41241,     0.41341,     0.41441,     0.41542,     0.41642,     0.41742,     0.41842,     0.41942,     0.42042,     0.42142,     0.42242,     0.42342,     0.42442,     0.42543,     0.42643,     0.42743,     0.42843,     0.42943,     0.43043,     0.43143,\n",
              "           0.43243,     0.43343,     0.43443,     0.43544,     0.43644,     0.43744,     0.43844,     0.43944,     0.44044,     0.44144,     0.44244,     0.44344,     0.44444,     0.44545,     0.44645,     0.44745,     0.44845,     0.44945,     0.45045,     0.45145,     0.45245,     0.45345,     0.45445,     0.45546,\n",
              "           0.45646,     0.45746,     0.45846,     0.45946,     0.46046,     0.46146,     0.46246,     0.46346,     0.46446,     0.46547,     0.46647,     0.46747,     0.46847,     0.46947,     0.47047,     0.47147,     0.47247,     0.47347,     0.47447,     0.47548,     0.47648,     0.47748,     0.47848,     0.47948,\n",
              "           0.48048,     0.48148,     0.48248,     0.48348,     0.48448,     0.48549,     0.48649,     0.48749,     0.48849,     0.48949,     0.49049,     0.49149,     0.49249,     0.49349,     0.49449,      0.4955,      0.4965,      0.4975,      0.4985,      0.4995,      0.5005,      0.5015,      0.5025,      0.5035,\n",
              "            0.5045,     0.50551,     0.50651,     0.50751,     0.50851,     0.50951,     0.51051,     0.51151,     0.51251,     0.51351,     0.51451,     0.51552,     0.51652,     0.51752,     0.51852,     0.51952,     0.52052,     0.52152,     0.52252,     0.52352,     0.52452,     0.52553,     0.52653,     0.52753,\n",
              "           0.52853,     0.52953,     0.53053,     0.53153,     0.53253,     0.53353,     0.53453,     0.53554,     0.53654,     0.53754,     0.53854,     0.53954,     0.54054,     0.54154,     0.54254,     0.54354,     0.54454,     0.54555,     0.54655,     0.54755,     0.54855,     0.54955,     0.55055,     0.55155,\n",
              "           0.55255,     0.55355,     0.55455,     0.55556,     0.55656,     0.55756,     0.55856,     0.55956,     0.56056,     0.56156,     0.56256,     0.56356,     0.56456,     0.56557,     0.56657,     0.56757,     0.56857,     0.56957,     0.57057,     0.57157,     0.57257,     0.57357,     0.57457,     0.57558,\n",
              "           0.57658,     0.57758,     0.57858,     0.57958,     0.58058,     0.58158,     0.58258,     0.58358,     0.58458,     0.58559,     0.58659,     0.58759,     0.58859,     0.58959,     0.59059,     0.59159,     0.59259,     0.59359,     0.59459,      0.5956,      0.5966,      0.5976,      0.5986,      0.5996,\n",
              "            0.6006,      0.6016,      0.6026,      0.6036,      0.6046,     0.60561,     0.60661,     0.60761,     0.60861,     0.60961,     0.61061,     0.61161,     0.61261,     0.61361,     0.61461,     0.61562,     0.61662,     0.61762,     0.61862,     0.61962,     0.62062,     0.62162,     0.62262,     0.62362,\n",
              "           0.62462,     0.62563,     0.62663,     0.62763,     0.62863,     0.62963,     0.63063,     0.63163,     0.63263,     0.63363,     0.63463,     0.63564,     0.63664,     0.63764,     0.63864,     0.63964,     0.64064,     0.64164,     0.64264,     0.64364,     0.64464,     0.64565,     0.64665,     0.64765,\n",
              "           0.64865,     0.64965,     0.65065,     0.65165,     0.65265,     0.65365,     0.65465,     0.65566,     0.65666,     0.65766,     0.65866,     0.65966,     0.66066,     0.66166,     0.66266,     0.66366,     0.66466,     0.66567,     0.66667,     0.66767,     0.66867,     0.66967,     0.67067,     0.67167,\n",
              "           0.67267,     0.67367,     0.67467,     0.67568,     0.67668,     0.67768,     0.67868,     0.67968,     0.68068,     0.68168,     0.68268,     0.68368,     0.68468,     0.68569,     0.68669,     0.68769,     0.68869,     0.68969,     0.69069,     0.69169,     0.69269,     0.69369,     0.69469,      0.6957,\n",
              "            0.6967,      0.6977,      0.6987,      0.6997,      0.7007,      0.7017,      0.7027,      0.7037,      0.7047,     0.70571,     0.70671,     0.70771,     0.70871,     0.70971,     0.71071,     0.71171,     0.71271,     0.71371,     0.71471,     0.71572,     0.71672,     0.71772,     0.71872,     0.71972,\n",
              "           0.72072,     0.72172,     0.72272,     0.72372,     0.72472,     0.72573,     0.72673,     0.72773,     0.72873,     0.72973,     0.73073,     0.73173,     0.73273,     0.73373,     0.73473,     0.73574,     0.73674,     0.73774,     0.73874,     0.73974,     0.74074,     0.74174,     0.74274,     0.74374,\n",
              "           0.74474,     0.74575,     0.74675,     0.74775,     0.74875,     0.74975,     0.75075,     0.75175,     0.75275,     0.75375,     0.75475,     0.75576,     0.75676,     0.75776,     0.75876,     0.75976,     0.76076,     0.76176,     0.76276,     0.76376,     0.76476,     0.76577,     0.76677,     0.76777,\n",
              "           0.76877,     0.76977,     0.77077,     0.77177,     0.77277,     0.77377,     0.77477,     0.77578,     0.77678,     0.77778,     0.77878,     0.77978,     0.78078,     0.78178,     0.78278,     0.78378,     0.78478,     0.78579,     0.78679,     0.78779,     0.78879,     0.78979,     0.79079,     0.79179,\n",
              "           0.79279,     0.79379,     0.79479,      0.7958,      0.7968,      0.7978,      0.7988,      0.7998,      0.8008,      0.8018,      0.8028,      0.8038,      0.8048,     0.80581,     0.80681,     0.80781,     0.80881,     0.80981,     0.81081,     0.81181,     0.81281,     0.81381,     0.81481,     0.81582,\n",
              "           0.81682,     0.81782,     0.81882,     0.81982,     0.82082,     0.82182,     0.82282,     0.82382,     0.82482,     0.82583,     0.82683,     0.82783,     0.82883,     0.82983,     0.83083,     0.83183,     0.83283,     0.83383,     0.83483,     0.83584,     0.83684,     0.83784,     0.83884,     0.83984,\n",
              "           0.84084,     0.84184,     0.84284,     0.84384,     0.84484,     0.84585,     0.84685,     0.84785,     0.84885,     0.84985,     0.85085,     0.85185,     0.85285,     0.85385,     0.85485,     0.85586,     0.85686,     0.85786,     0.85886,     0.85986,     0.86086,     0.86186,     0.86286,     0.86386,\n",
              "           0.86486,     0.86587,     0.86687,     0.86787,     0.86887,     0.86987,     0.87087,     0.87187,     0.87287,     0.87387,     0.87487,     0.87588,     0.87688,     0.87788,     0.87888,     0.87988,     0.88088,     0.88188,     0.88288,     0.88388,     0.88488,     0.88589,     0.88689,     0.88789,\n",
              "           0.88889,     0.88989,     0.89089,     0.89189,     0.89289,     0.89389,     0.89489,      0.8959,      0.8969,      0.8979,      0.8989,      0.8999,      0.9009,      0.9019,      0.9029,      0.9039,      0.9049,     0.90591,     0.90691,     0.90791,     0.90891,     0.90991,     0.91091,     0.91191,\n",
              "           0.91291,     0.91391,     0.91491,     0.91592,     0.91692,     0.91792,     0.91892,     0.91992,     0.92092,     0.92192,     0.92292,     0.92392,     0.92492,     0.92593,     0.92693,     0.92793,     0.92893,     0.92993,     0.93093,     0.93193,     0.93293,     0.93393,     0.93493,     0.93594,\n",
              "           0.93694,     0.93794,     0.93894,     0.93994,     0.94094,     0.94194,     0.94294,     0.94394,     0.94494,     0.94595,     0.94695,     0.94795,     0.94895,     0.94995,     0.95095,     0.95195,     0.95295,     0.95395,     0.95495,     0.95596,     0.95696,     0.95796,     0.95896,     0.95996,\n",
              "           0.96096,     0.96196,     0.96296,     0.96396,     0.96496,     0.96597,     0.96697,     0.96797,     0.96897,     0.96997,     0.97097,     0.97197,     0.97297,     0.97397,     0.97497,     0.97598,     0.97698,     0.97798,     0.97898,     0.97998,     0.98098,     0.98198,     0.98298,     0.98398,\n",
              "           0.98498,     0.98599,     0.98699,     0.98799,     0.98899,     0.98999,     0.99099,     0.99199,     0.99299,     0.99399,     0.99499,       0.996,       0.997,       0.998,       0.999,           1]), array([[    0.93385,     0.93385,     0.93367,     0.93352,     0.93331,     0.93313,     0.93294,     0.93278,     0.93257,     0.93244,     0.93227,      0.9321,     0.93191,     0.93174,     0.93153,     0.93139,     0.93124,     0.93105,     0.93088,     0.93072,     0.93051,     0.93033,     0.93015,\n",
              "            0.92999,      0.9298,     0.92963,     0.92941,     0.92922,     0.92907,      0.9289,     0.92874,     0.92854,     0.92839,     0.92822,     0.92803,     0.92783,     0.92771,     0.92748,     0.92726,     0.92714,     0.92693,     0.92673,     0.92653,     0.92639,      0.9262,     0.92604,\n",
              "            0.92587,     0.92571,     0.92546,     0.92529,     0.92514,     0.92496,     0.92482,     0.92467,     0.92449,      0.9243,     0.92414,     0.92403,     0.92388,     0.92369,     0.92352,     0.92331,     0.92317,     0.92299,     0.92283,     0.92267,     0.92248,      0.9223,     0.92208,\n",
              "            0.92189,     0.92174,     0.92153,     0.92138,     0.92117,     0.92099,     0.92081,     0.92066,     0.92049,     0.92032,     0.92015,     0.91994,     0.91975,     0.91959,     0.91939,     0.91924,     0.91904,     0.91887,     0.91874,     0.91855,      0.9184,     0.91818,     0.91805,\n",
              "            0.91792,     0.91777,     0.91761,     0.91741,     0.91726,     0.91709,     0.91695,     0.91683,     0.91666,     0.91644,     0.91628,     0.91611,     0.91598,      0.9158,     0.91563,     0.91541,     0.91524,     0.91504,     0.91486,     0.91474,     0.91454,     0.91437,     0.91416,\n",
              "              0.914,     0.91381,     0.91362,      0.9134,     0.91321,     0.91298,     0.91279,     0.91265,     0.91242,     0.91227,     0.91204,     0.91187,     0.91166,     0.91143,     0.91127,      0.9111,     0.91089,     0.91067,     0.91047,     0.91025,     0.91008,     0.90983,     0.90964,\n",
              "            0.90944,     0.90927,     0.90908,      0.9089,     0.90872,     0.90855,     0.90839,     0.90811,     0.90792,     0.90771,     0.90754,     0.90735,     0.90715,     0.90694,     0.90673,     0.90654,     0.90635,     0.90614,     0.90594,     0.90572,     0.90563,     0.90542,     0.90521,\n",
              "            0.90505,     0.90481,     0.90462,     0.90444,     0.90423,     0.90405,     0.90393,      0.9037,     0.90346,     0.90323,     0.90298,     0.90267,     0.90256,     0.90232,     0.90208,     0.90183,     0.90169,     0.90137,     0.90113,     0.90087,     0.90077,     0.90054,     0.90026,\n",
              "            0.90013,     0.89988,     0.89963,     0.89937,     0.89924,     0.89898,     0.89871,     0.89857,     0.89828,     0.89801,     0.89784,     0.89755,     0.89723,     0.89707,     0.89683,     0.89667,      0.8964,     0.89614,     0.89604,     0.89574,     0.89561,     0.89533,     0.89516,\n",
              "            0.89484,      0.8945,     0.89431,     0.89405,     0.89388,     0.89367,     0.89355,     0.89327,     0.89312,     0.89273,     0.89256,     0.89225,     0.89206,     0.89166,      0.8915,     0.89116,     0.89101,     0.89074,     0.89058,     0.89025,     0.89003,     0.88971,      0.8895,\n",
              "            0.88915,       0.889,     0.88882,     0.88845,     0.88827,     0.88791,     0.88775,     0.88737,     0.88719,       0.887,     0.88666,     0.88647,     0.88613,     0.88597,     0.88575,     0.88536,     0.88517,     0.88496,     0.88457,     0.88441,     0.88398,     0.88378,     0.88357,\n",
              "            0.88322,     0.88298,     0.88277,     0.88237,     0.88216,     0.88192,     0.88153,     0.88134,     0.88096,     0.88077,     0.88054,     0.88033,      0.8799,     0.87969,     0.87946,     0.87901,     0.87878,     0.87861,     0.87816,     0.87797,     0.87778,     0.87752,     0.87705,\n",
              "            0.87683,     0.87662,     0.87642,     0.87599,     0.87574,     0.87549,     0.87506,     0.87481,     0.87454,     0.87433,     0.87385,     0.87362,     0.87342,     0.87317,      0.8728,     0.87254,     0.87227,     0.87206,     0.87165,     0.87137,     0.87113,     0.87092,     0.87072,\n",
              "            0.87028,     0.87002,      0.8698,     0.86963,     0.86919,     0.86905,     0.86883,     0.86861,     0.86838,     0.86796,     0.86773,     0.86746,     0.86724,     0.86676,      0.8665,     0.86627,     0.86605,     0.86586,     0.86564,      0.8654,     0.86497,     0.86471,     0.86452,\n",
              "            0.86424,     0.86399,     0.86348,     0.86323,     0.86293,     0.86269,      0.8624,     0.86219,     0.86159,     0.86137,      0.8611,     0.86087,     0.86065,     0.86034,     0.86012,     0.85958,      0.8593,     0.85909,     0.85884,     0.85859,     0.85835,     0.85789,     0.85764,\n",
              "            0.85731,     0.85704,     0.85681,     0.85649,     0.85625,     0.85575,     0.85551,     0.85527,     0.85499,     0.85475,     0.85453,     0.85426,     0.85397,     0.85372,     0.85346,     0.85293,     0.85267,     0.85241,     0.85216,     0.85191,     0.85157,     0.85127,     0.85105,\n",
              "            0.85074,     0.85041,     0.84991,     0.84961,     0.84929,     0.84899,     0.84871,     0.84844,     0.84816,     0.84792,     0.84761,     0.84728,     0.84669,     0.84642,     0.84613,     0.84584,      0.8456,     0.84533,     0.84501,     0.84474,     0.84447,     0.84419,     0.84365,\n",
              "            0.84334,     0.84302,     0.84276,     0.84243,     0.84213,      0.8418,     0.84152,     0.84126,     0.84098,     0.84067,     0.84043,     0.84015,     0.83982,     0.83946,     0.83916,      0.8388,     0.83826,     0.83796,     0.83767,     0.83739,     0.83703,     0.83671,     0.83642,\n",
              "             0.8361,     0.83577,     0.83548,     0.83516,     0.83485,     0.83452,     0.83414,      0.8338,     0.83347,     0.83288,     0.83259,     0.83227,     0.83194,     0.83162,     0.83132,     0.83102,     0.83065,     0.83034,     0.83001,     0.82971,      0.8294,     0.82904,     0.82879,\n",
              "            0.82849,     0.82817,      0.8278,     0.82748,     0.82717,     0.82677,     0.82646,     0.82614,     0.82573,     0.82548,     0.82515,     0.82479,     0.82443,     0.82382,     0.82345,     0.82311,     0.82277,     0.82241,     0.82202,     0.82163,     0.82127,     0.82086,     0.82051,\n",
              "            0.82018,     0.81987,     0.81954,     0.81922,     0.81883,     0.81851,     0.81814,     0.81775,     0.81741,     0.81705,     0.81664,     0.81623,      0.8159,     0.81549,     0.81512,     0.81475,     0.81436,     0.81394,     0.81361,     0.81323,     0.81245,      0.8121,     0.81166,\n",
              "            0.81129,     0.81088,     0.81046,     0.81004,     0.80964,     0.80925,     0.80891,     0.80849,     0.80805,     0.80768,     0.80731,      0.8069,     0.80646,     0.80614,     0.80573,     0.80535,      0.8049,     0.80441,     0.80395,     0.80355,     0.80318,     0.80276,     0.80238,\n",
              "            0.80192,     0.80144,     0.80099,     0.80062,     0.80012,     0.79977,     0.79923,      0.7988,     0.79839,     0.79797,     0.79755,     0.79713,     0.79669,     0.79629,     0.79541,     0.79505,     0.79462,     0.79416,      0.7937,     0.79326,     0.79287,     0.79242,     0.79198,\n",
              "            0.79155,     0.79104,     0.79058,     0.79011,     0.78966,     0.78919,     0.78872,     0.78826,     0.78775,      0.7872,     0.78667,     0.78624,      0.7858,     0.78532,     0.78483,     0.78433,     0.78374,     0.78329,     0.78276,     0.78227,     0.78184,     0.78132,     0.78083,\n",
              "            0.78033,     0.77978,      0.7793,     0.77881,     0.77824,     0.77711,      0.7766,     0.77606,     0.77544,     0.77495,     0.77441,     0.77392,     0.77344,      0.7728,     0.77225,      0.7717,     0.77115,     0.77064,      0.7701,     0.76951,      0.7689,     0.76825,     0.76768,\n",
              "             0.7671,     0.76654,     0.76589,     0.76523,     0.76465,     0.76342,     0.76281,      0.7622,     0.76161,     0.76102,     0.76036,     0.75979,     0.75911,     0.75842,     0.75779,     0.75719,     0.75649,     0.75589,     0.75528,     0.75463,     0.75393,     0.75277,     0.75219,\n",
              "            0.75152,     0.75086,      0.7502,     0.74947,     0.74882,      0.7482,     0.74747,     0.74677,     0.74604,     0.74465,     0.74405,     0.74336,     0.74268,     0.74199,     0.74128,     0.74052,      0.7397,     0.73902,     0.73831,     0.73768,      0.7369,      0.7362,     0.73469,\n",
              "            0.73392,     0.73314,     0.73236,     0.73155,     0.73082,     0.73005,     0.72928,     0.72848,     0.72773,     0.72704,     0.72624,     0.72462,     0.72382,     0.72292,      0.7221,     0.72127,      0.7205,     0.71966,     0.71886,     0.71724,     0.71647,     0.71557,      0.7147,\n",
              "            0.71394,     0.71311,     0.71228,     0.71138,     0.71049,     0.70864,     0.70759,     0.70653,     0.70559,     0.70469,     0.70375,     0.70277,     0.70181,     0.70086,     0.69885,     0.69783,     0.69676,     0.69563,     0.69353,     0.69259,     0.69166,     0.69054,     0.68952,\n",
              "            0.68842,     0.68744,     0.68641,     0.68426,     0.68322,     0.68208,     0.68082,     0.67967,     0.67859,     0.67748,     0.67527,     0.67417,     0.67305,     0.67073,     0.66961,     0.66839,     0.66721,     0.66595,     0.66458,     0.66338,     0.66086,     0.65958,      0.6584,\n",
              "            0.65701,     0.65583,     0.65458,      0.6518,     0.65047,     0.64911,     0.64779,     0.64631,      0.6436,      0.6422,     0.63953,       0.638,     0.63661,      0.6352,     0.63373,     0.63068,     0.62921,     0.62761,     0.62605,     0.62428,     0.62094,     0.61926,     0.61779,\n",
              "            0.61612,     0.61455,     0.61117,     0.60936,     0.60767,     0.60598,     0.60258,     0.60083,     0.59651,     0.59607,     0.59307,     0.59264,      0.5889,     0.58544,     0.58487,      0.5811,     0.57784,     0.57735,     0.57377,     0.56977,     0.56925,     0.56565,     0.56512,\n",
              "            0.56089,     0.55688,     0.55633,     0.55183,      0.5474,      0.5434,     0.54284,     0.53887,     0.53401,     0.53342,      0.5292,      0.5244,     0.52388,     0.51955,     0.51449,     0.51396,     0.50949,     0.50394,     0.50341,     0.49877,     0.49331,     0.49267,     0.48695,\n",
              "            0.48164,     0.47596,      0.4753,      0.4692,     0.46403,     0.45818,     0.45758,      0.4522,     0.44617,     0.44554,     0.43939,     0.43386,     0.43324,       0.427,     0.42139,      0.4148,     0.41414,     0.40823,     0.40128,     0.40061,     0.39414,     0.38737,     0.38113,\n",
              "            0.37402,     0.37325,     0.36614,     0.35976,     0.35272,     0.35205,     0.34465,     0.33817,     0.33113,     0.33047,     0.32348,     0.31677,     0.30956,     0.30891,     0.30139,     0.29398,     0.28756,     0.28039,     0.27288,     0.26541,     0.26474,     0.25724,     0.25024,\n",
              "            0.24275,     0.23548,     0.23474,     0.22737,     0.22068,     0.21354,     0.20641,     0.20568,      0.1983,     0.19127,     0.18488,     0.17776,     0.17078,     0.17011,     0.16311,     0.15018,     0.14949,     0.14279,     0.13655,     0.13099,     0.12479,     0.11898,     0.11331,\n",
              "            0.11277,     0.10697,     0.10161,    0.096422,    0.091879,    0.086712,    0.081651,     0.07712,     0.07255,    0.068351,     0.06784,    0.063711,    0.056483,    0.052784,    0.049477,    0.046291,    0.043315,    0.040388,    0.040064,    0.037414,    0.034947,    0.032411,    0.030106,\n",
              "           0.027949,    0.025932,    0.024043,    0.022299,    0.020658,    0.018968,    0.017464,     0.01606,    0.014811,    0.012544,    0.011443,    0.010407,   0.0095158,    0.008597,   0.0078021,   0.0071688,   0.0065046,   0.0054104,   0.0049492,   0.0044089,   0.0039511,   0.0035415,   0.0031938,\n",
              "          0.0028634,   0.0025742,   0.0021164,   0.0018926,   0.0016413,   0.0014278,   0.0011903,   0.0010662,   0.0009422,  0.00081129,  0.00064253,  0.00055979,  0.00044952,  0.00039774,   0.0003322,  0.00030794,  0.00026914,  0.00021815,  0.00017325,  0.00014847,  0.00014194,  0.00011424,  0.00010375,\n",
              "         8.4473e-05,  7.9321e-05,  7.2259e-05,  6.0131e-05,  5.0352e-05,  4.4227e-05,  3.4069e-05,  3.0121e-05,  2.3957e-05,  2.3075e-05,  2.2193e-05,  2.1312e-05,  1.6634e-05,  1.4283e-05,   6.198e-06,  3.8469e-06,           0,           0,           0,           0,           0,           0,           0,\n",
              "                  0,           0,           0,           0,           0,           0,           0,           0,           0,           0,           0,           0,           0,           0,           0,           0,           0,           0,           0,           0,           0,           0,           0,\n",
              "                  0,           0,           0,           0,           0,           0,           0,           0,           0,           0,           0,           0,           0,           0,           0,           0,           0,           0,           0,           0,           0,           0,           0,\n",
              "                  0,           0,           0,           0,           0,           0,           0,           0,           0,           0,           0,           0,           0,           0,           0,           0,           0,           0,           0,           0,           0,           0,           0,\n",
              "                  0,           0,           0,           0,           0,           0,           0,           0,           0,           0,           0]]), 'Confidence', 'Recall']]\n",
              "fitness: np.float64(0.618468869029427)\n",
              "keys: ['metrics/precision(B)', 'metrics/recall(B)', 'metrics/mAP50(B)', 'metrics/mAP50-95(B)']\n",
              "maps: array([    0.58518])\n",
              "names: {0: 'object'}\n",
              "nt_per_class: array([290655])\n",
              "nt_per_image: array([2000])\n",
              "results_dict: {'metrics/precision(B)': np.float64(0.9036721673736319), 'metrics/recall(B)': np.float64(0.8547453166124788), 'metrics/mAP50(B)': np.float64(0.9180903135326337), 'metrics/mAP50-95(B)': np.float64(0.5851775974179596), 'fitness': np.float64(0.618468869029427)}\n",
              "save_dir: PosixPath('/content/drive/MyDrive/proM/train2')\n",
              "speed: {'preprocess': 0.06775222899796063, 'inference': 0.49230926550126236, 'loss': 0.00015102099996511242, 'postprocess': 1.3133108519987218}\n",
              "stats: {'tp': [], 'conf': [], 'pred_cls': [], 'target_cls': [], 'target_img': []}\n",
              "task: 'detect'"
            ]
          },
          "metadata": {},
          "execution_count": 7
        }
      ]
    },
    {
      "cell_type": "code",
      "source": [],
      "metadata": {
        "id": "t2fJtvxC1tix"
      },
      "execution_count": null,
      "outputs": []
    }
  ]
}