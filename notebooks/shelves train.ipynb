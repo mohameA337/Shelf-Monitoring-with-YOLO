{
  "nbformat": 4,
  "nbformat_minor": 0,
  "metadata": {
    "colab": {
      "provenance": [],
      "gpuType": "T4"
    },
    "kernelspec": {
      "name": "python3",
      "display_name": "Python 3"
    },
    "language_info": {
      "name": "python"
    },
    "accelerator": "GPU"
  },
  "cells": [
    {
      "cell_type": "code",
      "execution_count": null,
      "metadata": {
        "colab": {
          "base_uri": "https://localhost:8080/"
        },
        "id": "PCmt4Is6jmNG",
        "outputId": "16d5f32e-5a30-4765-c0d5-2d974cff1ed6"
      },
      "outputs": [
        {
          "output_type": "stream",
          "name": "stdout",
          "text": [
            "Requirement already satisfied: roboflow in /usr/local/lib/python3.11/dist-packages (1.1.66)\n",
            "Requirement already satisfied: certifi in /usr/local/lib/python3.11/dist-packages (from roboflow) (2025.6.15)\n",
            "Requirement already satisfied: idna==3.7 in /usr/local/lib/python3.11/dist-packages (from roboflow) (3.7)\n",
            "Requirement already satisfied: cycler in /usr/local/lib/python3.11/dist-packages (from roboflow) (0.12.1)\n",
            "Requirement already satisfied: kiwisolver>=1.3.1 in /usr/local/lib/python3.11/dist-packages (from roboflow) (1.4.8)\n",
            "Requirement already satisfied: matplotlib in /usr/local/lib/python3.11/dist-packages (from roboflow) (3.10.0)\n",
            "Requirement already satisfied: numpy>=1.18.5 in /usr/local/lib/python3.11/dist-packages (from roboflow) (2.0.2)\n",
            "Requirement already satisfied: opencv-python-headless==4.10.0.84 in /usr/local/lib/python3.11/dist-packages (from roboflow) (4.10.0.84)\n",
            "Requirement already satisfied: Pillow>=7.1.2 in /usr/local/lib/python3.11/dist-packages (from roboflow) (11.2.1)\n",
            "Requirement already satisfied: pillow-heif>=0.18.0 in /usr/local/lib/python3.11/dist-packages (from roboflow) (0.22.0)\n",
            "Requirement already satisfied: python-dateutil in /usr/local/lib/python3.11/dist-packages (from roboflow) (2.9.0.post0)\n",
            "Requirement already satisfied: python-dotenv in /usr/local/lib/python3.11/dist-packages (from roboflow) (1.1.1)\n",
            "Requirement already satisfied: requests in /usr/local/lib/python3.11/dist-packages (from roboflow) (2.32.3)\n",
            "Requirement already satisfied: six in /usr/local/lib/python3.11/dist-packages (from roboflow) (1.17.0)\n",
            "Requirement already satisfied: urllib3>=1.26.6 in /usr/local/lib/python3.11/dist-packages (from roboflow) (2.4.0)\n",
            "Requirement already satisfied: tqdm>=4.41.0 in /usr/local/lib/python3.11/dist-packages (from roboflow) (4.67.1)\n",
            "Requirement already satisfied: PyYAML>=5.3.1 in /usr/local/lib/python3.11/dist-packages (from roboflow) (6.0.2)\n",
            "Requirement already satisfied: requests-toolbelt in /usr/local/lib/python3.11/dist-packages (from roboflow) (1.0.0)\n",
            "Requirement already satisfied: filetype in /usr/local/lib/python3.11/dist-packages (from roboflow) (1.2.0)\n",
            "Requirement already satisfied: contourpy>=1.0.1 in /usr/local/lib/python3.11/dist-packages (from matplotlib->roboflow) (1.3.2)\n",
            "Requirement already satisfied: fonttools>=4.22.0 in /usr/local/lib/python3.11/dist-packages (from matplotlib->roboflow) (4.58.4)\n",
            "Requirement already satisfied: packaging>=20.0 in /usr/local/lib/python3.11/dist-packages (from matplotlib->roboflow) (24.2)\n",
            "Requirement already satisfied: pyparsing>=2.3.1 in /usr/local/lib/python3.11/dist-packages (from matplotlib->roboflow) (3.2.3)\n",
            "Requirement already satisfied: charset-normalizer<4,>=2 in /usr/local/lib/python3.11/dist-packages (from requests->roboflow) (3.4.2)\n"
          ]
        }
      ],
      "source": [
        "!pip install roboflow\n",
        "\n"
      ]
    },
    {
      "cell_type": "code",
      "source": [
        "from roboflow import Roboflow\n",
        "rf = Roboflow(api_key=\"zjUph1ngbWU911wFwn0Z\")\n",
        "project = rf.workspace(\"shelfdetect-yzkro\").project(\"shelves-ugxt3\")\n",
        "version = project.version(5)\n",
        "dataset = version.download(\"yolov8-obb\")"
      ],
      "metadata": {
        "colab": {
          "base_uri": "https://localhost:8080/"
        },
        "id": "PsiCJsgZj5HZ",
        "outputId": "4c35a738-1918-42c4-c8bd-48a593b6486c"
      },
      "execution_count": null,
      "outputs": [
        {
          "output_type": "stream",
          "name": "stdout",
          "text": [
            "loading Roboflow workspace...\n",
            "loading Roboflow project...\n"
          ]
        }
      ]
    },
    {
      "cell_type": "code",
      "source": [
        "import yaml\n",
        "\n",
        "with open(f'{dataset.location}/data.yaml', 'r') as file:\n",
        "    data = yaml.safe_load(file)\n",
        "\n",
        "data['path'] = dataset.location\n",
        "\n",
        "with open(f'{dataset.location}/data.yaml', 'w') as file:\n",
        "    yaml.dump(data, file, sort_keys=False)"
      ],
      "metadata": {
        "id": "rmTyk736j7ZI"
      },
      "execution_count": null,
      "outputs": []
    },
    {
      "cell_type": "code",
      "source": [
        "!pip install \"ultralytics<=8.3.40\"\n"
      ],
      "metadata": {
        "colab": {
          "base_uri": "https://localhost:8080/"
        },
        "id": "D7EOwCioj-Nx",
        "outputId": "08349120-435c-4786-861e-66e801a01cdb"
      },
      "execution_count": null,
      "outputs": [
        {
          "output_type": "stream",
          "name": "stdout",
          "text": [
            "Requirement already satisfied: ultralytics<=8.3.40 in /usr/local/lib/python3.11/dist-packages (8.3.40)\n",
            "Requirement already satisfied: numpy>=1.23.0 in /usr/local/lib/python3.11/dist-packages (from ultralytics<=8.3.40) (2.0.2)\n",
            "Requirement already satisfied: matplotlib>=3.3.0 in /usr/local/lib/python3.11/dist-packages (from ultralytics<=8.3.40) (3.10.0)\n",
            "Requirement already satisfied: opencv-python>=4.6.0 in /usr/local/lib/python3.11/dist-packages (from ultralytics<=8.3.40) (4.11.0.86)\n",
            "Requirement already satisfied: pillow>=7.1.2 in /usr/local/lib/python3.11/dist-packages (from ultralytics<=8.3.40) (11.2.1)\n",
            "Requirement already satisfied: pyyaml>=5.3.1 in /usr/local/lib/python3.11/dist-packages (from ultralytics<=8.3.40) (6.0.2)\n",
            "Requirement already satisfied: requests>=2.23.0 in /usr/local/lib/python3.11/dist-packages (from ultralytics<=8.3.40) (2.32.3)\n",
            "Requirement already satisfied: scipy>=1.4.1 in /usr/local/lib/python3.11/dist-packages (from ultralytics<=8.3.40) (1.15.3)\n",
            "Requirement already satisfied: torch>=1.8.0 in /usr/local/lib/python3.11/dist-packages (from ultralytics<=8.3.40) (2.6.0+cu124)\n",
            "Requirement already satisfied: torchvision>=0.9.0 in /usr/local/lib/python3.11/dist-packages (from ultralytics<=8.3.40) (0.21.0+cu124)\n",
            "Requirement already satisfied: tqdm>=4.64.0 in /usr/local/lib/python3.11/dist-packages (from ultralytics<=8.3.40) (4.67.1)\n",
            "Requirement already satisfied: psutil in /usr/local/lib/python3.11/dist-packages (from ultralytics<=8.3.40) (5.9.5)\n",
            "Requirement already satisfied: py-cpuinfo in /usr/local/lib/python3.11/dist-packages (from ultralytics<=8.3.40) (9.0.0)\n",
            "Requirement already satisfied: pandas>=1.1.4 in /usr/local/lib/python3.11/dist-packages (from ultralytics<=8.3.40) (2.2.2)\n",
            "Requirement already satisfied: seaborn>=0.11.0 in /usr/local/lib/python3.11/dist-packages (from ultralytics<=8.3.40) (0.13.2)\n",
            "Requirement already satisfied: ultralytics-thop>=2.0.0 in /usr/local/lib/python3.11/dist-packages (from ultralytics<=8.3.40) (2.0.14)\n",
            "Requirement already satisfied: contourpy>=1.0.1 in /usr/local/lib/python3.11/dist-packages (from matplotlib>=3.3.0->ultralytics<=8.3.40) (1.3.2)\n",
            "Requirement already satisfied: cycler>=0.10 in /usr/local/lib/python3.11/dist-packages (from matplotlib>=3.3.0->ultralytics<=8.3.40) (0.12.1)\n",
            "Requirement already satisfied: fonttools>=4.22.0 in /usr/local/lib/python3.11/dist-packages (from matplotlib>=3.3.0->ultralytics<=8.3.40) (4.58.4)\n",
            "Requirement already satisfied: kiwisolver>=1.3.1 in /usr/local/lib/python3.11/dist-packages (from matplotlib>=3.3.0->ultralytics<=8.3.40) (1.4.8)\n",
            "Requirement already satisfied: packaging>=20.0 in /usr/local/lib/python3.11/dist-packages (from matplotlib>=3.3.0->ultralytics<=8.3.40) (24.2)\n",
            "Requirement already satisfied: pyparsing>=2.3.1 in /usr/local/lib/python3.11/dist-packages (from matplotlib>=3.3.0->ultralytics<=8.3.40) (3.2.3)\n",
            "Requirement already satisfied: python-dateutil>=2.7 in /usr/local/lib/python3.11/dist-packages (from matplotlib>=3.3.0->ultralytics<=8.3.40) (2.9.0.post0)\n",
            "Requirement already satisfied: pytz>=2020.1 in /usr/local/lib/python3.11/dist-packages (from pandas>=1.1.4->ultralytics<=8.3.40) (2025.2)\n",
            "Requirement already satisfied: tzdata>=2022.7 in /usr/local/lib/python3.11/dist-packages (from pandas>=1.1.4->ultralytics<=8.3.40) (2025.2)\n",
            "Requirement already satisfied: charset-normalizer<4,>=2 in /usr/local/lib/python3.11/dist-packages (from requests>=2.23.0->ultralytics<=8.3.40) (3.4.2)\n",
            "Requirement already satisfied: idna<4,>=2.5 in /usr/local/lib/python3.11/dist-packages (from requests>=2.23.0->ultralytics<=8.3.40) (3.7)\n",
            "Requirement already satisfied: urllib3<3,>=1.21.1 in /usr/local/lib/python3.11/dist-packages (from requests>=2.23.0->ultralytics<=8.3.40) (2.4.0)\n",
            "Requirement already satisfied: certifi>=2017.4.17 in /usr/local/lib/python3.11/dist-packages (from requests>=2.23.0->ultralytics<=8.3.40) (2025.6.15)\n",
            "Requirement already satisfied: filelock in /usr/local/lib/python3.11/dist-packages (from torch>=1.8.0->ultralytics<=8.3.40) (3.18.0)\n",
            "Requirement already satisfied: typing-extensions>=4.10.0 in /usr/local/lib/python3.11/dist-packages (from torch>=1.8.0->ultralytics<=8.3.40) (4.14.0)\n",
            "Requirement already satisfied: networkx in /usr/local/lib/python3.11/dist-packages (from torch>=1.8.0->ultralytics<=8.3.40) (3.5)\n",
            "Requirement already satisfied: jinja2 in /usr/local/lib/python3.11/dist-packages (from torch>=1.8.0->ultralytics<=8.3.40) (3.1.6)\n",
            "Requirement already satisfied: fsspec in /usr/local/lib/python3.11/dist-packages (from torch>=1.8.0->ultralytics<=8.3.40) (2025.3.2)\n",
            "Requirement already satisfied: nvidia-cuda-nvrtc-cu12==12.4.127 in /usr/local/lib/python3.11/dist-packages (from torch>=1.8.0->ultralytics<=8.3.40) (12.4.127)\n",
            "Requirement already satisfied: nvidia-cuda-runtime-cu12==12.4.127 in /usr/local/lib/python3.11/dist-packages (from torch>=1.8.0->ultralytics<=8.3.40) (12.4.127)\n",
            "Requirement already satisfied: nvidia-cuda-cupti-cu12==12.4.127 in /usr/local/lib/python3.11/dist-packages (from torch>=1.8.0->ultralytics<=8.3.40) (12.4.127)\n",
            "Requirement already satisfied: nvidia-cudnn-cu12==9.1.0.70 in /usr/local/lib/python3.11/dist-packages (from torch>=1.8.0->ultralytics<=8.3.40) (9.1.0.70)\n",
            "Requirement already satisfied: nvidia-cublas-cu12==12.4.5.8 in /usr/local/lib/python3.11/dist-packages (from torch>=1.8.0->ultralytics<=8.3.40) (12.4.5.8)\n",
            "Requirement already satisfied: nvidia-cufft-cu12==11.2.1.3 in /usr/local/lib/python3.11/dist-packages (from torch>=1.8.0->ultralytics<=8.3.40) (11.2.1.3)\n",
            "Requirement already satisfied: nvidia-curand-cu12==10.3.5.147 in /usr/local/lib/python3.11/dist-packages (from torch>=1.8.0->ultralytics<=8.3.40) (10.3.5.147)\n",
            "Requirement already satisfied: nvidia-cusolver-cu12==11.6.1.9 in /usr/local/lib/python3.11/dist-packages (from torch>=1.8.0->ultralytics<=8.3.40) (11.6.1.9)\n",
            "Requirement already satisfied: nvidia-cusparse-cu12==12.3.1.170 in /usr/local/lib/python3.11/dist-packages (from torch>=1.8.0->ultralytics<=8.3.40) (12.3.1.170)\n",
            "Requirement already satisfied: nvidia-cusparselt-cu12==0.6.2 in /usr/local/lib/python3.11/dist-packages (from torch>=1.8.0->ultralytics<=8.3.40) (0.6.2)\n",
            "Requirement already satisfied: nvidia-nccl-cu12==2.21.5 in /usr/local/lib/python3.11/dist-packages (from torch>=1.8.0->ultralytics<=8.3.40) (2.21.5)\n",
            "Requirement already satisfied: nvidia-nvtx-cu12==12.4.127 in /usr/local/lib/python3.11/dist-packages (from torch>=1.8.0->ultralytics<=8.3.40) (12.4.127)\n",
            "Requirement already satisfied: nvidia-nvjitlink-cu12==12.4.127 in /usr/local/lib/python3.11/dist-packages (from torch>=1.8.0->ultralytics<=8.3.40) (12.4.127)\n",
            "Requirement already satisfied: triton==3.2.0 in /usr/local/lib/python3.11/dist-packages (from torch>=1.8.0->ultralytics<=8.3.40) (3.2.0)\n",
            "Requirement already satisfied: sympy==1.13.1 in /usr/local/lib/python3.11/dist-packages (from torch>=1.8.0->ultralytics<=8.3.40) (1.13.1)\n",
            "Requirement already satisfied: mpmath<1.4,>=1.1.0 in /usr/local/lib/python3.11/dist-packages (from sympy==1.13.1->torch>=1.8.0->ultralytics<=8.3.40) (1.3.0)\n",
            "Requirement already satisfied: six>=1.5 in /usr/local/lib/python3.11/dist-packages (from python-dateutil>=2.7->matplotlib>=3.3.0->ultralytics<=8.3.40) (1.17.0)\n",
            "Requirement already satisfied: MarkupSafe>=2.0 in /usr/local/lib/python3.11/dist-packages (from jinja2->torch>=1.8.0->ultralytics<=8.3.40) (3.0.2)\n"
          ]
        }
      ]
    },
    {
      "cell_type": "code",
      "source": [
        "from ultralytics import YOLO\n",
        "\n",
        "model = YOLO(\"yolov8n-obb.pt\")\n",
        "\n"
      ],
      "metadata": {
        "id": "SbHvci4CkGJ5"
      },
      "execution_count": null,
      "outputs": []
    },
    {
      "cell_type": "code",
      "source": [
        "results = model.train(data=f\"{dataset.location}/data.yaml\", epochs=70, imgsz=128,batch=256,project=\"/content/drive/MyDrive/shelves\")"
      ],
      "metadata": {
        "colab": {
          "base_uri": "https://localhost:8080/"
        },
        "id": "58CQTqapkzgk",
        "outputId": "50ae08ac-ed18-4901-9d8b-19e88ff95333"
      },
      "execution_count": null,
      "outputs": [
        {
          "output_type": "stream",
          "name": "stdout",
          "text": [
            "New https://pypi.org/project/ultralytics/8.3.159 available 😃 Update with 'pip install -U ultralytics'\n",
            "Ultralytics 8.3.40 🚀 Python-3.11.13 torch-2.6.0+cu124 CUDA:0 (Tesla T4, 15095MiB)\n",
            "\u001b[34m\u001b[1mengine/trainer: \u001b[0mtask=obb, mode=train, model=yolov8n-obb.pt, data=/content/shelves-5/data.yaml, epochs=70, time=None, patience=100, batch=256, imgsz=128, save=True, save_period=-1, cache=False, device=None, workers=8, project=/content/drive/MyDrive/shelves, name=train4, exist_ok=False, pretrained=True, optimizer=auto, verbose=True, seed=0, deterministic=True, single_cls=False, rect=False, cos_lr=False, close_mosaic=10, resume=False, amp=True, fraction=1.0, profile=False, freeze=None, multi_scale=False, overlap_mask=True, mask_ratio=4, dropout=0.0, val=True, split=val, save_json=False, save_hybrid=False, conf=None, iou=0.7, max_det=300, half=False, dnn=False, plots=True, source=None, vid_stride=1, stream_buffer=False, visualize=False, augment=False, agnostic_nms=False, classes=None, retina_masks=False, embed=None, show=False, save_frames=False, save_txt=False, save_conf=False, save_crop=False, show_labels=True, show_conf=True, show_boxes=True, line_width=None, format=torchscript, keras=False, optimize=False, int8=False, dynamic=False, simplify=True, opset=None, workspace=None, nms=False, lr0=0.01, lrf=0.01, momentum=0.937, weight_decay=0.0005, warmup_epochs=3.0, warmup_momentum=0.8, warmup_bias_lr=0.1, box=7.5, cls=0.5, dfl=1.5, pose=12.0, kobj=1.0, nbs=64, hsv_h=0.015, hsv_s=0.7, hsv_v=0.4, degrees=0.0, translate=0.1, scale=0.5, shear=0.0, perspective=0.0, flipud=0.0, fliplr=0.5, bgr=0.0, mosaic=1.0, mixup=0.0, copy_paste=0.0, copy_paste_mode=flip, auto_augment=randaugment, erasing=0.4, crop_fraction=1.0, cfg=None, tracker=botsort.yaml, save_dir=/content/drive/MyDrive/shelves/train4\n",
            "Overriding model.yaml nc=15 with nc=1\n",
            "\n",
            "                   from  n    params  module                                       arguments                     \n",
            "  0                  -1  1       464  ultralytics.nn.modules.conv.Conv             [3, 16, 3, 2]                 \n",
            "  1                  -1  1      4672  ultralytics.nn.modules.conv.Conv             [16, 32, 3, 2]                \n",
            "  2                  -1  1      7360  ultralytics.nn.modules.block.C2f             [32, 32, 1, True]             \n",
            "  3                  -1  1     18560  ultralytics.nn.modules.conv.Conv             [32, 64, 3, 2]                \n",
            "  4                  -1  2     49664  ultralytics.nn.modules.block.C2f             [64, 64, 2, True]             \n",
            "  5                  -1  1     73984  ultralytics.nn.modules.conv.Conv             [64, 128, 3, 2]               \n",
            "  6                  -1  2    197632  ultralytics.nn.modules.block.C2f             [128, 128, 2, True]           \n",
            "  7                  -1  1    295424  ultralytics.nn.modules.conv.Conv             [128, 256, 3, 2]              \n",
            "  8                  -1  1    460288  ultralytics.nn.modules.block.C2f             [256, 256, 1, True]           \n",
            "  9                  -1  1    164608  ultralytics.nn.modules.block.SPPF            [256, 256, 5]                 \n",
            " 10                  -1  1         0  torch.nn.modules.upsampling.Upsample         [None, 2, 'nearest']          \n",
            " 11             [-1, 6]  1         0  ultralytics.nn.modules.conv.Concat           [1]                           \n",
            " 12                  -1  1    148224  ultralytics.nn.modules.block.C2f             [384, 128, 1]                 \n",
            " 13                  -1  1         0  torch.nn.modules.upsampling.Upsample         [None, 2, 'nearest']          \n",
            " 14             [-1, 4]  1         0  ultralytics.nn.modules.conv.Concat           [1]                           \n",
            " 15                  -1  1     37248  ultralytics.nn.modules.block.C2f             [192, 64, 1]                  \n",
            " 16                  -1  1     36992  ultralytics.nn.modules.conv.Conv             [64, 64, 3, 2]                \n",
            " 17            [-1, 12]  1         0  ultralytics.nn.modules.conv.Concat           [1]                           \n",
            " 18                  -1  1    123648  ultralytics.nn.modules.block.C2f             [192, 128, 1]                 \n",
            " 19                  -1  1    147712  ultralytics.nn.modules.conv.Conv             [128, 128, 3, 2]              \n",
            " 20             [-1, 9]  1         0  ultralytics.nn.modules.conv.Concat           [1]                           \n",
            " 21                  -1  1    493056  ultralytics.nn.modules.block.C2f             [384, 256, 1]                 \n",
            " 22        [15, 18, 21]  1    823174  ultralytics.nn.modules.head.OBB              [1, 1, [64, 128, 256]]        \n",
            "YOLOv8n-obb summary: 250 layers, 3,082,710 parameters, 3,082,694 gradients, 8.4 GFLOPs\n",
            "\n",
            "Transferred 391/397 items from pretrained weights\n",
            "\u001b[34m\u001b[1mTensorBoard: \u001b[0mStart with 'tensorboard --logdir /content/drive/MyDrive/shelves/train4', view at http://localhost:6006/\n",
            "Freezing layer 'model.22.dfl.conv.weight'\n",
            "\u001b[34m\u001b[1mAMP: \u001b[0mrunning Automatic Mixed Precision (AMP) checks...\n",
            "\u001b[34m\u001b[1mAMP: \u001b[0mchecks passed ✅\n"
          ]
        },
        {
          "output_type": "stream",
          "name": "stderr",
          "text": [
            "\u001b[34m\u001b[1mtrain: \u001b[0mScanning /content/shelves-5/train/labels.cache... 6202 images, 0 backgrounds, 2202 corrupt: 100%|██████████| 6202/6202 [00:00<?, ?it/s]"
          ]
        },
        {
          "output_type": "stream",
          "name": "stdout",
          "text": [
            "\u001b[34m\u001b[1mtrain: \u001b[0mWARNING ⚠️ /content/shelves-5/train/images/test_106_jpg.rf.2b8b6e3c1e5b5a1668559a2be51fb713.jpg: ignoring corrupt image/label: non-normalized or out of bounds coordinates [     1.0073]\n",
            "\u001b[34m\u001b[1mtrain: \u001b[0mWARNING ⚠️ /content/shelves-5/train/images/test_106_jpg.rf.dbfa617ac7daab9643e8328228f0669c.jpg: ignoring corrupt image/label: non-normalized or out of bounds coordinates [      1.007      1.0067]\n",
            "\u001b[34m\u001b[1mtrain: \u001b[0mWARNING ⚠️ /content/shelves-5/train/images/test_10_jpg.rf.58125ee865a3c3c5f481196865659f88.jpg: ignoring corrupt image/label: non-normalized or out of bounds coordinates [     1.0122      1.0035      1.0173       1.019      1.0129      1.0156]\n",
            "\u001b[34m\u001b[1mtrain: \u001b[0mWARNING ⚠️ /content/shelves-5/train/images/test_111_jpg.rf.05fbf2095760b19a9c65029f923d23f0.jpg: ignoring corrupt image/label: non-normalized or out of bounds coordinates [      1.028      1.0469      1.0531]\n",
            "\u001b[34m\u001b[1mtrain: \u001b[0mWARNING ⚠️ /content/shelves-5/train/images/test_111_jpg.rf.347625bb8c76d79b453d7c9526d30ff6.jpg: ignoring corrupt image/label: non-normalized or out of bounds coordinates [      1.027      1.0548      1.0575]\n",
            "\u001b[34m\u001b[1mtrain: \u001b[0mWARNING ⚠️ /content/shelves-5/train/images/test_111_jpg.rf.4e884cd4bc090876da4bb23667e6c09e.jpg: ignoring corrupt image/label: non-normalized or out of bounds coordinates [          1      1.0265      1.0537      1.0585]\n",
            "\u001b[34m\u001b[1mtrain: \u001b[0mWARNING ⚠️ /content/shelves-5/train/images/test_113_jpg.rf.0f57071fd76fd207f55a3634734277bf.jpg: ignoring corrupt image/label: non-normalized or out of bounds coordinates [     1.0759      1.1094      1.2352]\n",
            "\u001b[34m\u001b[1mtrain: \u001b[0mWARNING ⚠️ /content/shelves-5/train/images/test_113_jpg.rf.73cf80cdbab02231d1ae1c3c6a6e5d0a.jpg: ignoring corrupt image/label: non-normalized or out of bounds coordinates [     1.0724       1.099      1.2327]\n",
            "\u001b[34m\u001b[1mtrain: \u001b[0mWARNING ⚠️ /content/shelves-5/train/images/test_113_jpg.rf.e65f059f372e22a636c88b060a578c79.jpg: ignoring corrupt image/label: non-normalized or out of bounds coordinates [     1.0744      1.1071        1.24]\n",
            "\u001b[34m\u001b[1mtrain: \u001b[0mWARNING ⚠️ /content/shelves-5/train/images/test_118_jpg.rf.e560983722f8baf1fda27f6836aaf92d.jpg: ignoring corrupt image/label: non-normalized or out of bounds coordinates [     1.0026      1.0031      1.0115      1.0132      1.0161      1.0236]\n",
            "\u001b[34m\u001b[1mtrain: \u001b[0mWARNING ⚠️ /content/shelves-5/train/images/test_131_jpg.rf.55a7d8b030eed4e3acb54d5949a1dde2.jpg: ignoring corrupt image/label: non-normalized or out of bounds coordinates [     1.0091      1.0252      1.0305]\n",
            "\u001b[34m\u001b[1mtrain: \u001b[0mWARNING ⚠️ /content/shelves-5/train/images/test_131_jpg.rf.acaed80548d11ea400f52648cdb10910.jpg: ignoring corrupt image/label: non-normalized or out of bounds coordinates [     1.0076      1.0266      1.0296]\n",
            "\u001b[34m\u001b[1mtrain: \u001b[0mWARNING ⚠️ /content/shelves-5/train/images/test_131_jpg.rf.eb6d1a0d0c33575b6db33a2710186dd8.jpg: ignoring corrupt image/label: non-normalized or out of bounds coordinates [     1.0086      1.0268      1.0289]\n",
            "\u001b[34m\u001b[1mtrain: \u001b[0mWARNING ⚠️ /content/shelves-5/train/images/test_134_jpg.rf.456e86232c5256f22f5ce1491f652928.jpg: ignoring corrupt image/label: non-normalized or out of bounds coordinates [     1.0038      1.0237       1.008]\n",
            "\u001b[34m\u001b[1mtrain: \u001b[0mWARNING ⚠️ /content/shelves-5/train/images/test_134_jpg.rf.e1d2ed731cc7fd6252bbdfa5e1869520.jpg: ignoring corrupt image/label: non-normalized or out of bounds coordinates [     1.0136]\n",
            "\u001b[34m\u001b[1mtrain: \u001b[0mWARNING ⚠️ /content/shelves-5/train/images/test_134_jpg.rf.e3c16e9a1d1275d07b7f6e111e792840.jpg: ignoring corrupt image/label: non-normalized or out of bounds coordinates [     1.0167       1.012]\n",
            "\u001b[34m\u001b[1mtrain: \u001b[0mWARNING ⚠️ /content/shelves-5/train/images/test_136_jpg.rf.0d514c267232aff33263c1d72113b97b.jpg: ignoring corrupt image/label: non-normalized or out of bounds coordinates [     1.0356]\n",
            "\u001b[34m\u001b[1mtrain: \u001b[0mWARNING ⚠️ /content/shelves-5/train/images/test_136_jpg.rf.2911a74bca861c77301a5f4783e13540.jpg: ignoring corrupt image/label: non-normalized or out of bounds coordinates [     1.0418]\n",
            "\u001b[34m\u001b[1mtrain: \u001b[0mWARNING ⚠️ /content/shelves-5/train/images/test_136_jpg.rf.bfde0272118d5e778888dc0feed89346.jpg: ignoring corrupt image/label: non-normalized or out of bounds coordinates [     1.0377]\n",
            "\u001b[34m\u001b[1mtrain: \u001b[0mWARNING ⚠️ /content/shelves-5/train/images/test_137_jpg.rf.0d16af7c953220bcdee79d1070191ba0.jpg: ignoring corrupt image/label: non-normalized or out of bounds coordinates [     1.0368      1.0109      1.0523      1.1227]\n",
            "\u001b[34m\u001b[1mtrain: \u001b[0mWARNING ⚠️ /content/shelves-5/train/images/test_137_jpg.rf.6fdc3212843c40ea6d01b5226660ff56.jpg: ignoring corrupt image/label: non-normalized or out of bounds coordinates [     1.0352       1.005      1.0292      1.1174]\n",
            "\u001b[34m\u001b[1mtrain: \u001b[0mWARNING ⚠️ /content/shelves-5/train/images/test_137_jpg.rf.fb77ae51240096f12ba570b8faf18515.jpg: ignoring corrupt image/label: non-normalized or out of bounds coordinates [     1.0364      1.0107      1.0627        1.12]\n",
            "\u001b[34m\u001b[1mtrain: \u001b[0mWARNING ⚠️ /content/shelves-5/train/images/test_140_jpg.rf.7f1052ec392aacaac7b9246769ffd7aa.jpg: ignoring corrupt image/label: non-normalized or out of bounds coordinates [     1.0327      1.0088      1.0179      1.0437      1.0777]\n",
            "\u001b[34m\u001b[1mtrain: \u001b[0mWARNING ⚠️ /content/shelves-5/train/images/test_140_jpg.rf.9e72894dca55bf2a21e74d032d2b3d1c.jpg: ignoring corrupt image/label: non-normalized or out of bounds coordinates [     1.0473      1.0084      1.0171      1.0314       1.073]\n",
            "\u001b[34m\u001b[1mtrain: \u001b[0mWARNING ⚠️ /content/shelves-5/train/images/test_140_jpg.rf.d245a4c7f796463e144d8733053952ba.jpg: ignoring corrupt image/label: non-normalized or out of bounds coordinates [     1.0298      1.0089      1.0183      1.0448      1.0796]\n",
            "\u001b[34m\u001b[1mtrain: \u001b[0mWARNING ⚠️ /content/shelves-5/train/images/test_155_jpg.rf.e028fc9f0af44ed614480f2ec4af2a13.jpg: ignoring corrupt image/label: non-normalized or out of bounds coordinates [     1.0069      1.0019]\n",
            "\u001b[34m\u001b[1mtrain: \u001b[0mWARNING ⚠️ /content/shelves-5/train/images/test_155_jpg.rf.e6cef58e42ade3d980476dc9341600c8.jpg: ignoring corrupt image/label: non-normalized or out of bounds coordinates [     1.0312]\n",
            "\u001b[34m\u001b[1mtrain: \u001b[0mWARNING ⚠️ /content/shelves-5/train/images/test_155_jpg.rf.f9a70aa0d18edeb7579d76ffc885d443.jpg: ignoring corrupt image/label: non-normalized or out of bounds coordinates [     1.0516      1.0021]\n",
            "\u001b[34m\u001b[1mtrain: \u001b[0mWARNING ⚠️ /content/shelves-5/train/images/test_158_jpg.rf.3e5878ffd8246c6cfc49b37a4b54ad86.jpg: ignoring corrupt image/label: non-normalized or out of bounds coordinates [     1.0446      1.0739]\n",
            "\u001b[34m\u001b[1mtrain: \u001b[0mWARNING ⚠️ /content/shelves-5/train/images/test_158_jpg.rf.9a487c3f4d90bd78a77767161b18ead0.jpg: ignoring corrupt image/label: non-normalized or out of bounds coordinates [     1.0425      1.0698]\n",
            "\u001b[34m\u001b[1mtrain: \u001b[0mWARNING ⚠️ /content/shelves-5/train/images/test_158_jpg.rf.fa0d927c464283ea26fc95970a0e9dbc.jpg: ignoring corrupt image/label: non-normalized or out of bounds coordinates [     1.0433      1.0705]\n",
            "\u001b[34m\u001b[1mtrain: \u001b[0mWARNING ⚠️ /content/shelves-5/train/images/test_168_jpg.rf.79ecf246aced89729102ce8aad640a55.jpg: ignoring corrupt image/label: non-normalized or out of bounds coordinates [     1.0193      1.0206      1.0394       1.093]\n",
            "\u001b[34m\u001b[1mtrain: \u001b[0mWARNING ⚠️ /content/shelves-5/train/images/test_168_jpg.rf.a3de01b7277b41f0f8b44069c94a6103.jpg: ignoring corrupt image/label: non-normalized or out of bounds coordinates [     1.0262      1.0139      1.0321      1.0835]\n",
            "\u001b[34m\u001b[1mtrain: \u001b[0mWARNING ⚠️ /content/shelves-5/train/images/test_168_jpg.rf.ba67c9081bae7c3f4f5009d34c5acf38.jpg: ignoring corrupt image/label: non-normalized or out of bounds coordinates [     1.0269      1.0246      1.0596      1.1077]\n",
            "\u001b[34m\u001b[1mtrain: \u001b[0mWARNING ⚠️ /content/shelves-5/train/images/test_169_jpg.rf.c0838163990a00a3d1d90a74d87d14fb.jpg: ignoring corrupt image/label: non-normalized or out of bounds coordinates [     1.0275      1.0202      1.0485      1.0873]\n",
            "\u001b[34m\u001b[1mtrain: \u001b[0mWARNING ⚠️ /content/shelves-5/train/images/test_169_jpg.rf.ccfdc54f8fd1a7dcfcc368ea4bbab141.jpg: ignoring corrupt image/label: non-normalized or out of bounds coordinates [     1.0261      1.0169      1.0478        1.09]\n",
            "\u001b[34m\u001b[1mtrain: \u001b[0mWARNING ⚠️ /content/shelves-5/train/images/test_169_jpg.rf.d2dac0102ef5c942d5e2d49ec4b55b78.jpg: ignoring corrupt image/label: non-normalized or out of bounds coordinates [     1.0271      1.0208      1.0503      1.0868]\n",
            "\u001b[34m\u001b[1mtrain: \u001b[0mWARNING ⚠️ /content/shelves-5/train/images/test_16_jpg.rf.82d0a81f469f1a63f8dd1941c7b06327.jpg: ignoring corrupt image/label: non-normalized or out of bounds coordinates [     1.0026      1.0043      1.0011      1.0254]\n",
            "\u001b[34m\u001b[1mtrain: \u001b[0mWARNING ⚠️ /content/shelves-5/train/images/test_16_jpg.rf.b950537ca7a37aaec0db59b58fe5f695.jpg: ignoring corrupt image/label: non-normalized or out of bounds coordinates [     1.0132      1.0107      1.0066      1.0452]\n",
            "\u001b[34m\u001b[1mtrain: \u001b[0mWARNING ⚠️ /content/shelves-5/train/images/test_16_jpg.rf.faf294529247149008f419e723757a49.jpg: ignoring corrupt image/label: non-normalized or out of bounds coordinates [     1.0025      1.0035      1.0001      1.0228]\n",
            "\u001b[34m\u001b[1mtrain: \u001b[0mWARNING ⚠️ /content/shelves-5/train/images/test_170_jpg.rf.424f98b5e95259d1eb46be528869aae5.jpg: ignoring corrupt image/label: non-normalized or out of bounds coordinates [     1.0194      1.0321      1.0754      1.0861]\n",
            "\u001b[34m\u001b[1mtrain: \u001b[0mWARNING ⚠️ /content/shelves-5/train/images/test_170_jpg.rf.74ea1a27b02b64d25252abb123e8bf3f.jpg: ignoring corrupt image/label: non-normalized or out of bounds coordinates [      1.037      1.0798       1.105]\n",
            "\u001b[34m\u001b[1mtrain: \u001b[0mWARNING ⚠️ /content/shelves-5/train/images/test_170_jpg.rf.8eff7180f97f635a7d30d066b5d1b5f1.jpg: ignoring corrupt image/label: non-normalized or out of bounds coordinates [     1.0308      1.0764      1.0835]\n",
            "\u001b[34m\u001b[1mtrain: \u001b[0mWARNING ⚠️ /content/shelves-5/train/images/test_179_jpg.rf.47b8146d6442e701ccae82047d65fd1f.jpg: ignoring corrupt image/label: non-normalized or out of bounds coordinates [     1.0367]\n",
            "\u001b[34m\u001b[1mtrain: \u001b[0mWARNING ⚠️ /content/shelves-5/train/images/test_179_jpg.rf.5644efd08586822b6df04817a4f7bb17.jpg: ignoring corrupt image/label: non-normalized or out of bounds coordinates [     1.0061]\n",
            "\u001b[34m\u001b[1mtrain: \u001b[0mWARNING ⚠️ /content/shelves-5/train/images/test_179_jpg.rf.729d9187bdb3b57f0175c12e98646e2d.jpg: ignoring corrupt image/label: non-normalized or out of bounds coordinates [      1.016]\n",
            "\u001b[34m\u001b[1mtrain: \u001b[0mWARNING ⚠️ /content/shelves-5/train/images/test_23_jpg.rf.487e1ee112a11b8eabfee3eb0c4aa3af.jpg: ignoring corrupt image/label: non-normalized or out of bounds coordinates [     1.0165      1.0024      1.0116      1.0367]\n",
            "\u001b[34m\u001b[1mtrain: \u001b[0mWARNING ⚠️ /content/shelves-5/train/images/test_23_jpg.rf.68568f6bce037f631a46a620813f7b5e.jpg: ignoring corrupt image/label: non-normalized or out of bounds coordinates [     1.0159      1.0025      1.0117      1.0372]\n",
            "\u001b[34m\u001b[1mtrain: \u001b[0mWARNING ⚠️ /content/shelves-5/train/images/test_23_jpg.rf.cca90b3a532ed3991442dd7fc6f8307e.jpg: ignoring corrupt image/label: non-normalized or out of bounds coordinates [     1.0164      1.0025       1.012      1.0351]\n",
            "\u001b[34m\u001b[1mtrain: \u001b[0mWARNING ⚠️ /content/shelves-5/train/images/test_31_jpg.rf.015459cd68dcb59b855f7b1e465c7c6a.jpg: ignoring corrupt image/label: non-normalized or out of bounds coordinates [     1.0039      1.0039]\n",
            "\u001b[34m\u001b[1mtrain: \u001b[0mWARNING ⚠️ /content/shelves-5/train/images/test_31_jpg.rf.ac6358e234b349e3fdc3dd7c1ddbbbc5.jpg: ignoring corrupt image/label: non-normalized or out of bounds coordinates [     1.0038      1.0037      1.0002]\n",
            "\u001b[34m\u001b[1mtrain: \u001b[0mWARNING ⚠️ /content/shelves-5/train/images/test_31_jpg.rf.b5c7d623a8049567bbfd348c3cea749b.jpg: ignoring corrupt image/label: non-normalized or out of bounds coordinates [     1.0038      1.0037      1.0002]\n",
            "\u001b[34m\u001b[1mtrain: \u001b[0mWARNING ⚠️ /content/shelves-5/train/images/test_34_jpg.rf.891bd535a946ed57874e94c5cd15708a.jpg: ignoring corrupt image/label: non-normalized or out of bounds coordinates [     1.0061]\n",
            "\u001b[34m\u001b[1mtrain: \u001b[0mWARNING ⚠️ /content/shelves-5/train/images/test_35_jpg.rf.0b6d724cb2890744f72b8f36ff9a2a1e.jpg: ignoring corrupt image/label: non-normalized or out of bounds coordinates [     1.0005      1.0029       1.011]\n",
            "\u001b[34m\u001b[1mtrain: \u001b[0mWARNING ⚠️ /content/shelves-5/train/images/test_35_jpg.rf.4927739d86f73f683eaa818e21bee5b2.jpg: ignoring corrupt image/label: non-normalized or out of bounds coordinates [      1.003      1.0113]\n",
            "\u001b[34m\u001b[1mtrain: \u001b[0mWARNING ⚠️ /content/shelves-5/train/images/test_35_jpg.rf.aa842c4eba7bec85951c0f54f088a4f0.jpg: ignoring corrupt image/label: non-normalized or out of bounds coordinates [     1.0005       1.006]\n",
            "\u001b[34m\u001b[1mtrain: \u001b[0mWARNING ⚠️ /content/shelves-5/train/images/test_3_jpg.rf.5f7d6466b8956b74e0e8baa127a40cc1.jpg: ignoring corrupt image/label: non-normalized or out of bounds coordinates [     1.0254      1.0502]\n",
            "\u001b[34m\u001b[1mtrain: \u001b[0mWARNING ⚠️ /content/shelves-5/train/images/test_3_jpg.rf.6e5ef17ea31159202dbeb02c9a16133d.jpg: ignoring corrupt image/label: non-normalized or out of bounds coordinates [     1.0246       1.055]\n",
            "\u001b[34m\u001b[1mtrain: \u001b[0mWARNING ⚠️ /content/shelves-5/train/images/test_3_jpg.rf.b8f0b3c2dcded6b92cc6e58cea5ab8ee.jpg: ignoring corrupt image/label: non-normalized or out of bounds coordinates [     1.0254      1.0565]\n",
            "\u001b[34m\u001b[1mtrain: \u001b[0mWARNING ⚠️ /content/shelves-5/train/images/test_45_jpg.rf.ef4894f95b80bf1928d88dd7dfab7b6b.jpg: ignoring corrupt image/label: non-normalized or out of bounds coordinates [     1.0008      1.0023]\n",
            "\u001b[34m\u001b[1mtrain: \u001b[0mWARNING ⚠️ /content/shelves-5/train/images/test_49_jpg.rf.4b7831b42f3f6c63a7049b1f5c3100aa.jpg: ignoring corrupt image/label: non-normalized or out of bounds coordinates [     1.0019       1.009      1.0084      1.0189      1.0222]\n",
            "\u001b[34m\u001b[1mtrain: \u001b[0mWARNING ⚠️ /content/shelves-5/train/images/test_49_jpg.rf.66dcadf64672c3246568bfd0df5df2b1.jpg: ignoring corrupt image/label: non-normalized or out of bounds coordinates [     1.0013      1.0018      1.0087      1.0082      1.0183      1.0203]\n",
            "\u001b[34m\u001b[1mtrain: \u001b[0mWARNING ⚠️ /content/shelves-5/train/images/test_49_jpg.rf.8003fc12918cd0d1cf6f133600650722.jpg: ignoring corrupt image/label: non-normalized or out of bounds coordinates [     1.0018      1.0086      1.0081      1.0181      1.0213]\n",
            "\u001b[34m\u001b[1mtrain: \u001b[0mWARNING ⚠️ /content/shelves-5/train/images/test_4_jpg.rf.0fd9f5e09db0097feb22dd2ffe58a423.jpg: ignoring corrupt image/label: non-normalized or out of bounds coordinates [      1.056      1.0242       1.028]\n",
            "\u001b[34m\u001b[1mtrain: \u001b[0mWARNING ⚠️ /content/shelves-5/train/images/test_4_jpg.rf.619a08a431ad6bfb9b436f019e0f3343.jpg: ignoring corrupt image/label: non-normalized or out of bounds coordinates [     1.0807      1.0241      1.0278]\n",
            "\u001b[34m\u001b[1mtrain: \u001b[0mWARNING ⚠️ /content/shelves-5/train/images/test_4_jpg.rf.e38e2a35a45e891a8c544280d9c3f250.jpg: ignoring corrupt image/label: non-normalized or out of bounds coordinates [     1.0619      1.0232      1.0268]\n",
            "\u001b[34m\u001b[1mtrain: \u001b[0mWARNING ⚠️ /content/shelves-5/train/images/test_51_jpg.rf.07446fbe14464e6bb2c925a6070e4d72.jpg: ignoring corrupt image/label: non-normalized or out of bounds coordinates [     1.0138       1.028      1.0401       1.102]\n",
            "\u001b[34m\u001b[1mtrain: \u001b[0mWARNING ⚠️ /content/shelves-5/train/images/test_51_jpg.rf.899356e386ecc6079644fc509b4d4664.jpg: ignoring corrupt image/label: non-normalized or out of bounds coordinates [     1.0164      1.0327      1.0422      1.1055]\n",
            "\u001b[34m\u001b[1mtrain: \u001b[0mWARNING ⚠️ /content/shelves-5/train/images/test_51_jpg.rf.b2e798d825225bf09729d0a0006c2ed9.jpg: ignoring corrupt image/label: non-normalized or out of bounds coordinates [     1.0207      1.0189      1.0473      1.0829]\n",
            "\u001b[34m\u001b[1mtrain: \u001b[0mWARNING ⚠️ /content/shelves-5/train/images/test_54_jpg.rf.4c6166222c56fa44b236ebe4f4c379ef.jpg: ignoring corrupt image/label: non-normalized or out of bounds coordinates [     1.0336      1.0083       1.095      1.1145      1.0844]\n",
            "\u001b[34m\u001b[1mtrain: \u001b[0mWARNING ⚠️ /content/shelves-5/train/images/test_54_jpg.rf.cde24a04417dfb97cd0c03aed4d2aa85.jpg: ignoring corrupt image/label: non-normalized or out of bounds coordinates [     1.0092      1.0984      1.1193       1.105]\n",
            "\u001b[34m\u001b[1mtrain: \u001b[0mWARNING ⚠️ /content/shelves-5/train/images/test_54_jpg.rf.fbf6eb4029c07cc7a208552ed5f021b8.jpg: ignoring corrupt image/label: non-normalized or out of bounds coordinates [     1.0325      1.0078      1.0909      1.1101      1.0926]\n",
            "\u001b[34m\u001b[1mtrain: \u001b[0mWARNING ⚠️ /content/shelves-5/train/images/test_56_jpg.rf.06acf6d105e7f3bbaed37d4d66a6dac1.jpg: ignoring corrupt image/label: non-normalized or out of bounds coordinates [     1.0136      1.0018      1.0072      1.0245      1.0313      1.0207]\n",
            "\u001b[34m\u001b[1mtrain: \u001b[0mWARNING ⚠️ /content/shelves-5/train/images/test_56_jpg.rf.7f7078a9fee88230e8685f06744bedcd.jpg: ignoring corrupt image/label: non-normalized or out of bounds coordinates [     1.0107      1.0014      1.0055      1.0237      1.0303       1.019]\n",
            "\u001b[34m\u001b[1mtrain: \u001b[0mWARNING ⚠️ /content/shelves-5/train/images/test_56_jpg.rf.a8e99292b9ea6d43ddf96b1e8bd5f622.jpg: ignoring corrupt image/label: non-normalized or out of bounds coordinates [     1.0166      1.0027      1.0079      1.0202      1.0329      1.0308]\n",
            "\u001b[34m\u001b[1mtrain: \u001b[0mWARNING ⚠️ /content/shelves-5/train/images/test_57_jpg.rf.55b623c9c2216c1862851afd2164bd06.jpg: ignoring corrupt image/label: non-normalized or out of bounds coordinates [     1.0004]\n",
            "\u001b[34m\u001b[1mtrain: \u001b[0mWARNING ⚠️ /content/shelves-5/train/images/test_60_jpg.rf.1785c1a56775fb8753f968252617d6f3.jpg: ignoring corrupt image/label: non-normalized or out of bounds coordinates [     1.0016           1]\n",
            "\u001b[34m\u001b[1mtrain: \u001b[0mWARNING ⚠️ /content/shelves-5/train/images/test_60_jpg.rf.c49d1f14c27932526db47358f55e13c9.jpg: ignoring corrupt image/label: non-normalized or out of bounds coordinates [     1.0016           1]\n",
            "\u001b[34m\u001b[1mtrain: \u001b[0mWARNING ⚠️ /content/shelves-5/train/images/test_60_jpg.rf.e34c4fd2045f9eda737ac3402813d130.jpg: ignoring corrupt image/label: non-normalized or out of bounds coordinates [     1.0016      1.0014           1]\n",
            "\u001b[34m\u001b[1mtrain: \u001b[0mWARNING ⚠️ /content/shelves-5/train/images/test_61_jpg.rf.607febfb93b5442b55e2e36b395ce460.jpg: ignoring corrupt image/label: non-normalized or out of bounds coordinates [     1.0021      1.0012]\n",
            "\u001b[34m\u001b[1mtrain: \u001b[0mWARNING ⚠️ /content/shelves-5/train/images/test_61_jpg.rf.f090a2fa0cb665ce72ade76473467a9c.jpg: ignoring corrupt image/label: non-normalized or out of bounds coordinates [     1.0022      1.0012]\n",
            "\u001b[34m\u001b[1mtrain: \u001b[0mWARNING ⚠️ /content/shelves-5/train/images/test_61_jpg.rf.f0ee2869e62e1ccaad25b9928f606e53.jpg: ignoring corrupt image/label: non-normalized or out of bounds coordinates [     1.0014      1.0022      1.0013]\n",
            "\u001b[34m\u001b[1mtrain: \u001b[0mWARNING ⚠️ /content/shelves-5/train/images/test_63_jpg.rf.19aa6872f34f3445d7109974725cd387.jpg: ignoring corrupt image/label: non-normalized or out of bounds coordinates [     1.0204]\n",
            "\u001b[34m\u001b[1mtrain: \u001b[0mWARNING ⚠️ /content/shelves-5/train/images/test_63_jpg.rf.ca93d8a8d0cbe308664104fe3dc36188.jpg: ignoring corrupt image/label: non-normalized or out of bounds coordinates [     1.0426]\n",
            "\u001b[34m\u001b[1mtrain: \u001b[0mWARNING ⚠️ /content/shelves-5/train/images/test_63_jpg.rf.f8744a0dd2ca801c98d96a5d42972b42.jpg: ignoring corrupt image/label: non-normalized or out of bounds coordinates [     1.0199]\n",
            "\u001b[34m\u001b[1mtrain: \u001b[0mWARNING ⚠️ /content/shelves-5/train/images/test_67_jpg.rf.cc0a1a7a7d07af167d63b0d800b02865.jpg: ignoring corrupt image/label: non-normalized or out of bounds coordinates [     1.0024]\n",
            "\u001b[34m\u001b[1mtrain: \u001b[0mWARNING ⚠️ /content/shelves-5/train/images/test_67_jpg.rf.f9f28a3cd1be0299e15e1c704894df8f.jpg: ignoring corrupt image/label: non-normalized or out of bounds coordinates [     1.0024]\n",
            "\u001b[34m\u001b[1mtrain: \u001b[0mWARNING ⚠️ /content/shelves-5/train/images/test_71_jpg.rf.8a86099af365650a503a5ec103b4531a.jpg: ignoring corrupt image/label: non-normalized or out of bounds coordinates [     1.0195]\n",
            "\u001b[34m\u001b[1mtrain: \u001b[0mWARNING ⚠️ /content/shelves-5/train/images/test_71_jpg.rf.b91d0c73236167b15704796f4aaef7ce.jpg: ignoring corrupt image/label: non-normalized or out of bounds coordinates [     1.0427]\n",
            "\u001b[34m\u001b[1mtrain: \u001b[0mWARNING ⚠️ /content/shelves-5/train/images/test_71_jpg.rf.c3397a73b70e4911333c148ae6e6daa3.jpg: ignoring corrupt image/label: non-normalized or out of bounds coordinates [     1.0171]\n",
            "\u001b[34m\u001b[1mtrain: \u001b[0mWARNING ⚠️ /content/shelves-5/train/images/test_76_jpg.rf.18754fe3eaec3cf4f5805295ca05acd9.jpg: ignoring corrupt image/label: non-normalized or out of bounds coordinates [      1.014      1.0567]\n",
            "\u001b[34m\u001b[1mtrain: \u001b[0mWARNING ⚠️ /content/shelves-5/train/images/test_76_jpg.rf.90ea885334fa9f43bad16b14db742fe1.jpg: ignoring corrupt image/label: non-normalized or out of bounds coordinates [     1.0145      1.0527]\n",
            "\u001b[34m\u001b[1mtrain: \u001b[0mWARNING ⚠️ /content/shelves-5/train/images/test_76_jpg.rf.cb3cd27fa153991b1c925d10ea85b223.jpg: ignoring corrupt image/label: non-normalized or out of bounds coordinates [     1.0138      1.0655]\n",
            "\u001b[34m\u001b[1mtrain: \u001b[0mWARNING ⚠️ /content/shelves-5/train/images/test_84_jpg.rf.3cb552cb1b4e084825e2402c09d2800d.jpg: ignoring corrupt image/label: non-normalized or out of bounds coordinates [     1.0276      1.1256]\n",
            "\u001b[34m\u001b[1mtrain: \u001b[0mWARNING ⚠️ /content/shelves-5/train/images/test_84_jpg.rf.460b59859dab51e67f4391eb8cece6f6.jpg: ignoring corrupt image/label: non-normalized or out of bounds coordinates [      1.032      1.1215]\n",
            "\u001b[34m\u001b[1mtrain: \u001b[0mWARNING ⚠️ /content/shelves-5/train/images/test_84_jpg.rf.f882a6ddb091da571a5ea251311350e7.jpg: ignoring corrupt image/label: non-normalized or out of bounds coordinates [     1.0329      1.1117]\n",
            "\u001b[34m\u001b[1mtrain: \u001b[0mWARNING ⚠️ /content/shelves-5/train/images/test_90_jpg.rf.512a08d3ca5971dcefc5d852ee1289f0.jpg: ignoring corrupt image/label: non-normalized or out of bounds coordinates [      1.001           1]\n",
            "\u001b[34m\u001b[1mtrain: \u001b[0mWARNING ⚠️ /content/shelves-5/train/images/test_90_jpg.rf.a9b8a6d261521c2be0e0aa8640836a86.jpg: ignoring corrupt image/label: non-normalized or out of bounds coordinates [      1.001]\n",
            "\u001b[34m\u001b[1mtrain: \u001b[0mWARNING ⚠️ /content/shelves-5/train/images/test_90_jpg.rf.fac0aa617063fda8d02af475151407cd.jpg: ignoring corrupt image/label: non-normalized or out of bounds coordinates [      1.001           1]\n",
            "\u001b[34m\u001b[1mtrain: \u001b[0mWARNING ⚠️ /content/shelves-5/train/images/test_94_jpg.rf.2a75cfb1b3cdf87a0f33cd2967237edd.jpg: ignoring corrupt image/label: non-normalized or out of bounds coordinates [     1.0482      1.0742      1.0782      1.0507]\n",
            "\u001b[34m\u001b[1mtrain: \u001b[0mWARNING ⚠️ /content/shelves-5/train/images/test_94_jpg.rf.54f8f767e7998a92426d69f4ed3533fb.jpg: ignoring corrupt image/label: non-normalized or out of bounds coordinates [     1.0496      1.0755      1.0757      1.0436]\n",
            "\u001b[34m\u001b[1mtrain: \u001b[0mWARNING ⚠️ /content/shelves-5/train/images/test_94_jpg.rf.8a3b1e522767e8f0ef7cb3f188ca4895.jpg: ignoring corrupt image/label: non-normalized or out of bounds coordinates [     1.0349      1.0679      1.0735      1.0457]\n",
            "\u001b[34m\u001b[1mtrain: \u001b[0mWARNING ⚠️ /content/shelves-5/train/images/test_95_jpg.rf.13a704bdc11582bc99782c063eb516f0.jpg: ignoring corrupt image/label: non-normalized or out of bounds coordinates [     1.0058      1.0062      1.0073]\n",
            "\u001b[34m\u001b[1mtrain: \u001b[0mWARNING ⚠️ /content/shelves-5/train/images/test_95_jpg.rf.38a1f4ac02b58fe990a0c51c2c186a1c.jpg: ignoring corrupt image/label: non-normalized or out of bounds coordinates [     1.0064      1.0067      1.0082]\n",
            "\u001b[34m\u001b[1mtrain: \u001b[0mWARNING ⚠️ /content/shelves-5/train/images/test_95_jpg.rf.b0ff6306b30a91970dc3bf37400045a7.jpg: ignoring corrupt image/label: non-normalized or out of bounds coordinates [     1.0058      1.0064      1.0039]\n",
            "\u001b[34m\u001b[1mtrain: \u001b[0mWARNING ⚠️ /content/shelves-5/train/images/test_97_jpg.rf.1b680f6f88e55e3086f9637b75d591b2.jpg: ignoring corrupt image/label: non-normalized or out of bounds coordinates [     1.0037]\n",
            "\u001b[34m\u001b[1mtrain: \u001b[0mWARNING ⚠️ /content/shelves-5/train/images/test_97_jpg.rf.600da9ff8d727b6003105cb9809e852a.jpg: ignoring corrupt image/label: non-normalized or out of bounds coordinates [     1.0014]\n",
            "\u001b[34m\u001b[1mtrain: \u001b[0mWARNING ⚠️ /content/shelves-5/train/images/test_99_jpg.rf.177507ef1341bfa02cf8b7671f1ca572.jpg: ignoring corrupt image/label: non-normalized or out of bounds coordinates [     1.0046      1.0111      1.0474]\n",
            "\u001b[34m\u001b[1mtrain: \u001b[0mWARNING ⚠️ /content/shelves-5/train/images/test_99_jpg.rf.6a08b21a4c0f8204e95707627c7e1ae1.jpg: ignoring corrupt image/label: non-normalized or out of bounds coordinates [     1.0045      1.0109      1.0513]\n",
            "\u001b[34m\u001b[1mtrain: \u001b[0mWARNING ⚠️ /content/shelves-5/train/images/test_99_jpg.rf.f27496a80d2fd61e48734cb1baf5e32e.jpg: ignoring corrupt image/label: non-normalized or out of bounds coordinates [     1.0046      1.0107      1.0514]\n",
            "\u001b[34m\u001b[1mtrain: \u001b[0mWARNING ⚠️ /content/shelves-5/train/images/train_0_jpg.rf.530d004131721ec3fcdb85d8c723a5ad.jpg: ignoring corrupt image/label: non-normalized or out of bounds coordinates [     1.0081]\n",
            "\u001b[34m\u001b[1mtrain: \u001b[0mWARNING ⚠️ /content/shelves-5/train/images/train_0_jpg.rf.685391c4b32f911c2d2a0053b018ffdf.jpg: ignoring corrupt image/label: non-normalized or out of bounds coordinates [     1.0066]\n",
            "\u001b[34m\u001b[1mtrain: \u001b[0mWARNING ⚠️ /content/shelves-5/train/images/train_0_jpg.rf.d87dd8f6ecd9c0a7414572ea349726c0.jpg: ignoring corrupt image/label: non-normalized or out of bounds coordinates [     1.0006]\n",
            "\u001b[34m\u001b[1mtrain: \u001b[0mWARNING ⚠️ /content/shelves-5/train/images/train_100_jpg.rf.076e6d7d0f99bba2073502327fd8ad06.jpg: ignoring corrupt image/label: non-normalized or out of bounds coordinates [     1.0004]\n",
            "\u001b[34m\u001b[1mtrain: \u001b[0mWARNING ⚠️ /content/shelves-5/train/images/train_100_jpg.rf.b83fafad6cc044094392112f64506b66.jpg: ignoring corrupt image/label: non-normalized or out of bounds coordinates [     1.0004      1.0026]\n",
            "\u001b[34m\u001b[1mtrain: \u001b[0mWARNING ⚠️ /content/shelves-5/train/images/train_102_jpg.rf.327d130e0a0646fd0e7219fe9ed13f0f.jpg: ignoring corrupt image/label: non-normalized or out of bounds coordinates [     1.0021      1.0028      1.0018      1.0028]\n",
            "\u001b[34m\u001b[1mtrain: \u001b[0mWARNING ⚠️ /content/shelves-5/train/images/train_102_jpg.rf.b2db4d4a3825c0ebfac36ce1ccd75afa.jpg: ignoring corrupt image/label: non-normalized or out of bounds coordinates [     1.0022      1.0029      1.0019      1.0029]\n",
            "\u001b[34m\u001b[1mtrain: \u001b[0mWARNING ⚠️ /content/shelves-5/train/images/train_102_jpg.rf.f47e41ce6b945f8eda104ba586ce1c29.jpg: ignoring corrupt image/label: non-normalized or out of bounds coordinates [     1.0021      1.0028      1.0018      1.0028]\n",
            "\u001b[34m\u001b[1mtrain: \u001b[0mWARNING ⚠️ /content/shelves-5/train/images/train_104_jpg.rf.021c19e7f68dbfaec8edca4510f53112.jpg: ignoring corrupt image/label: non-normalized or out of bounds coordinates [     1.0149      1.0338]\n",
            "\u001b[34m\u001b[1mtrain: \u001b[0mWARNING ⚠️ /content/shelves-5/train/images/train_104_jpg.rf.185ea1e31c712d4a5b20ddf3aacb35dc.jpg: ignoring corrupt image/label: non-normalized or out of bounds coordinates [     1.0158      1.0245]\n",
            "\u001b[34m\u001b[1mtrain: \u001b[0mWARNING ⚠️ /content/shelves-5/train/images/train_104_jpg.rf.f9fde8d7a3b2af8860fc8e66631b991e.jpg: ignoring corrupt image/label: non-normalized or out of bounds coordinates [     1.0149      1.0342]\n",
            "\u001b[34m\u001b[1mtrain: \u001b[0mWARNING ⚠️ /content/shelves-5/train/images/train_106_jpg.rf.938f25aab41449af5f2bf34d8a0ddb6c.jpg: ignoring corrupt image/label: non-normalized or out of bounds coordinates [          1      1.0091      1.0285]\n",
            "\u001b[34m\u001b[1mtrain: \u001b[0mWARNING ⚠️ /content/shelves-5/train/images/train_106_jpg.rf.abfb257561d437a11220eae66f887c4f.jpg: ignoring corrupt image/label: non-normalized or out of bounds coordinates [          1      1.0279]\n",
            "\u001b[34m\u001b[1mtrain: \u001b[0mWARNING ⚠️ /content/shelves-5/train/images/train_106_jpg.rf.f242b1920e9b992210d8a7f38a8644fe.jpg: ignoring corrupt image/label: non-normalized or out of bounds coordinates [          1      1.0055      1.0277]\n",
            "\u001b[34m\u001b[1mtrain: \u001b[0mWARNING ⚠️ /content/shelves-5/train/images/train_107_jpg.rf.5672c7e812c4f85a6613d69de8177adc.jpg: ignoring corrupt image/label: non-normalized or out of bounds coordinates [     1.0078      1.0475]\n",
            "\u001b[34m\u001b[1mtrain: \u001b[0mWARNING ⚠️ /content/shelves-5/train/images/train_107_jpg.rf.bce38bdf66c1929727312ab5b6c1b563.jpg: ignoring corrupt image/label: non-normalized or out of bounds coordinates [     1.0086      1.0423]\n",
            "\u001b[34m\u001b[1mtrain: \u001b[0mWARNING ⚠️ /content/shelves-5/train/images/train_107_jpg.rf.ef5b9f140cbad262d92ed08d2f761504.jpg: ignoring corrupt image/label: non-normalized or out of bounds coordinates [     1.0513]\n",
            "\u001b[34m\u001b[1mtrain: \u001b[0mWARNING ⚠️ /content/shelves-5/train/images/train_109_jpg.rf.3208561a3409a69ea4e3d75cc727cd99.jpg: ignoring corrupt image/label: non-normalized or out of bounds coordinates [     1.0075      1.0044      1.0048      1.0023]\n",
            "\u001b[34m\u001b[1mtrain: \u001b[0mWARNING ⚠️ /content/shelves-5/train/images/train_109_jpg.rf.531510fc0f4a683ff5d938bdd518f289.jpg: ignoring corrupt image/label: non-normalized or out of bounds coordinates [     1.0091      1.0051      1.0052      1.0033      1.0023      1.0009]\n",
            "\u001b[34m\u001b[1mtrain: \u001b[0mWARNING ⚠️ /content/shelves-5/train/images/train_109_jpg.rf.e5f4a0fd0edfb930d0b2f4a720685649.jpg: ignoring corrupt image/label: non-normalized or out of bounds coordinates [     1.0089      1.0051      1.0052      1.0033      1.0023      1.0009           1]\n",
            "\u001b[34m\u001b[1mtrain: \u001b[0mWARNING ⚠️ /content/shelves-5/train/images/train_116_jpg.rf.317c24f2d46d35096ea2aaa5362b9523.jpg: ignoring corrupt image/label: non-normalized or out of bounds coordinates [          1      1.0077      1.0037      1.0015      1.0043      1.0091      1.0213]\n",
            "\u001b[34m\u001b[1mtrain: \u001b[0mWARNING ⚠️ /content/shelves-5/train/images/train_116_jpg.rf.e00719aa0846c4e4c552f89fc2476804.jpg: ignoring corrupt image/label: non-normalized or out of bounds coordinates [          1      1.0074      1.0035      1.0014      1.0088      1.0204]\n",
            "\u001b[34m\u001b[1mtrain: \u001b[0mWARNING ⚠️ /content/shelves-5/train/images/train_116_jpg.rf.e79acb4b913a53bb87981e757255130b.jpg: ignoring corrupt image/label: non-normalized or out of bounds coordinates [     1.0076      1.0036      1.0004      1.0091      1.0212]\n",
            "\u001b[34m\u001b[1mtrain: \u001b[0mWARNING ⚠️ /content/shelves-5/train/images/train_118_jpg.rf.75372c8185518a2e875bfb624a6ea923.jpg: ignoring corrupt image/label: non-normalized or out of bounds coordinates [     1.0032      1.0048]\n",
            "\u001b[34m\u001b[1mtrain: \u001b[0mWARNING ⚠️ /content/shelves-5/train/images/train_118_jpg.rf.acf796e1f49b2ffb655e2b54c546bad5.jpg: ignoring corrupt image/label: non-normalized or out of bounds coordinates [     1.0034      1.0052]\n",
            "\u001b[34m\u001b[1mtrain: \u001b[0mWARNING ⚠️ /content/shelves-5/train/images/train_118_jpg.rf.fd7c973dd5cacfb9e493fd62fd1a147f.jpg: ignoring corrupt image/label: non-normalized or out of bounds coordinates [     1.0033       1.005]\n",
            "\u001b[34m\u001b[1mtrain: \u001b[0mWARNING ⚠️ /content/shelves-5/train/images/train_119_jpg.rf.050d5614d1e122e91a8926be63ceddcd.jpg: ignoring corrupt image/label: non-normalized or out of bounds coordinates [     1.0052]\n",
            "\u001b[34m\u001b[1mtrain: \u001b[0mWARNING ⚠️ /content/shelves-5/train/images/train_119_jpg.rf.0cafc94bc53b6953fcf4f9aad1b53897.jpg: ignoring corrupt image/label: non-normalized or out of bounds coordinates [     1.0041      1.0058]\n",
            "\u001b[34m\u001b[1mtrain: \u001b[0mWARNING ⚠️ /content/shelves-5/train/images/train_119_jpg.rf.6c04a5237fa3f949af7bef97565a319b.jpg: ignoring corrupt image/label: non-normalized or out of bounds coordinates [     1.0038      1.0055]\n",
            "\u001b[34m\u001b[1mtrain: \u001b[0mWARNING ⚠️ /content/shelves-5/train/images/train_120_jpg.rf.31fa6bcc6439ededd5ac8da14cef0a4a.jpg: ignoring corrupt image/label: non-normalized or out of bounds coordinates [      1.004      1.0025      1.0042       1.004       1.004      1.0045]\n",
            "\u001b[34m\u001b[1mtrain: \u001b[0mWARNING ⚠️ /content/shelves-5/train/images/train_120_jpg.rf.4dc1ba7979d524a428de2a253aa434c2.jpg: ignoring corrupt image/label: non-normalized or out of bounds coordinates [     1.0038      1.0023      1.0039      1.0037      1.0038      1.0042]\n",
            "\u001b[34m\u001b[1mtrain: \u001b[0mWARNING ⚠️ /content/shelves-5/train/images/train_120_jpg.rf.c8430f466e8b0bbc970e435397c9106e.jpg: ignoring corrupt image/label: non-normalized or out of bounds coordinates [     1.0038      1.0023      1.0039      1.0037      1.0038      1.0042]\n",
            "\u001b[34m\u001b[1mtrain: \u001b[0mWARNING ⚠️ /content/shelves-5/train/images/train_127_jpg.rf.05877af8e31cd685655ec73bdf6ec86d.jpg: ignoring corrupt image/label: non-normalized or out of bounds coordinates [     1.0068]\n",
            "\u001b[34m\u001b[1mtrain: \u001b[0mWARNING ⚠️ /content/shelves-5/train/images/train_127_jpg.rf.0a320cfb9f0f9a554678ff0628b53cc5.jpg: ignoring corrupt image/label: non-normalized or out of bounds coordinates [     1.0526]\n",
            "\u001b[34m\u001b[1mtrain: \u001b[0mWARNING ⚠️ /content/shelves-5/train/images/train_127_jpg.rf.7ba202eb423c936eb768c4656ee07ffd.jpg: ignoring corrupt image/label: non-normalized or out of bounds coordinates [     1.0124]\n",
            "\u001b[34m\u001b[1mtrain: \u001b[0mWARNING ⚠️ /content/shelves-5/train/images/train_130_jpg.rf.07b8e76e119b2da754a21ee9d4371bd4.jpg: ignoring corrupt image/label: non-normalized or out of bounds coordinates [     1.0055      1.0034      1.0055      1.0057      1.0077]\n",
            "\u001b[34m\u001b[1mtrain: \u001b[0mWARNING ⚠️ /content/shelves-5/train/images/train_130_jpg.rf.18826319d7da7e46932b4aa3514d15d1.jpg: ignoring corrupt image/label: non-normalized or out of bounds coordinates [      1.003      1.0029      1.0044      1.0074]\n",
            "\u001b[34m\u001b[1mtrain: \u001b[0mWARNING ⚠️ /content/shelves-5/train/images/train_130_jpg.rf.f2ebb56959d6a878ad655d93a008f3f9.jpg: ignoring corrupt image/label: non-normalized or out of bounds coordinates [     1.0045      1.0033      1.0042]\n",
            "\u001b[34m\u001b[1mtrain: \u001b[0mWARNING ⚠️ /content/shelves-5/train/images/train_133_jpg.rf.1acab04962c44f4449f883589c8dbfaf.jpg: ignoring corrupt image/label: non-normalized or out of bounds coordinates [     1.0003]\n",
            "\u001b[34m\u001b[1mtrain: \u001b[0mWARNING ⚠️ /content/shelves-5/train/images/train_133_jpg.rf.6bf187ad14a5bbc6ca42c647acb8052e.jpg: ignoring corrupt image/label: non-normalized or out of bounds coordinates [     1.0001]\n",
            "\u001b[34m\u001b[1mtrain: \u001b[0mWARNING ⚠️ /content/shelves-5/train/images/train_135_jpg.rf.4e8db42b933d11bfc21a0b36eb856cd7.jpg: ignoring corrupt image/label: non-normalized or out of bounds coordinates [     1.0302      1.0954      1.0218]\n",
            "\u001b[34m\u001b[1mtrain: \u001b[0mWARNING ⚠️ /content/shelves-5/train/images/train_135_jpg.rf.96702efb81cf9ffe2ea5e670465e0e60.jpg: ignoring corrupt image/label: non-normalized or out of bounds coordinates [     1.0287      1.0893]\n",
            "\u001b[34m\u001b[1mtrain: \u001b[0mWARNING ⚠️ /content/shelves-5/train/images/train_135_jpg.rf.c80c25362579d1d139b284cb2b65d603.jpg: ignoring corrupt image/label: non-normalized or out of bounds coordinates [     1.0298      1.0936]\n",
            "\u001b[34m\u001b[1mtrain: \u001b[0mWARNING ⚠️ /content/shelves-5/train/images/train_137_jpg.rf.23997d77199889cbba5bbeede273fc88.jpg: ignoring corrupt image/label: non-normalized or out of bounds coordinates [      1.065]\n",
            "\u001b[34m\u001b[1mtrain: \u001b[0mWARNING ⚠️ /content/shelves-5/train/images/train_137_jpg.rf.a444ebb30791bcd8f7112a86b8568562.jpg: ignoring corrupt image/label: non-normalized or out of bounds coordinates [     1.0655]\n",
            "\u001b[34m\u001b[1mtrain: \u001b[0mWARNING ⚠️ /content/shelves-5/train/images/train_137_jpg.rf.d5ecb77e7950200f2c2779b0db71fd65.jpg: ignoring corrupt image/label: non-normalized or out of bounds coordinates [      1.023      1.0109      1.0557]\n",
            "\u001b[34m\u001b[1mtrain: \u001b[0mWARNING ⚠️ /content/shelves-5/train/images/train_139_jpg.rf.70e7e2483e135e4ca3fe747070c68b7a.jpg: ignoring corrupt image/label: non-normalized or out of bounds coordinates [     1.0014      1.0011]\n",
            "\u001b[34m\u001b[1mtrain: \u001b[0mWARNING ⚠️ /content/shelves-5/train/images/train_139_jpg.rf.e9dfad92af35b8963f756c12ec030513.jpg: ignoring corrupt image/label: non-normalized or out of bounds coordinates [     1.0012      1.0009]\n",
            "\u001b[34m\u001b[1mtrain: \u001b[0mWARNING ⚠️ /content/shelves-5/train/images/train_13_jpg.rf.67544d26bad7c2aa1c64b4953e3da69b.jpg: ignoring corrupt image/label: non-normalized or out of bounds coordinates [     1.0048]\n",
            "\u001b[34m\u001b[1mtrain: \u001b[0mWARNING ⚠️ /content/shelves-5/train/images/train_144_jpg.rf.e81509fe340d41071b0880c04bbe943b.jpg: ignoring corrupt image/label: non-normalized or out of bounds coordinates [     1.0057      1.0033]\n",
            "\u001b[34m\u001b[1mtrain: \u001b[0mWARNING ⚠️ /content/shelves-5/train/images/train_145_jpg.rf.467bbb5018391761b978787b41de69a7.jpg: ignoring corrupt image/label: non-normalized or out of bounds coordinates [     1.1238      1.1071]\n",
            "\u001b[34m\u001b[1mtrain: \u001b[0mWARNING ⚠️ /content/shelves-5/train/images/train_145_jpg.rf.c75f22ed28d62641e8da13a43de83ed0.jpg: ignoring corrupt image/label: non-normalized or out of bounds coordinates [      1.091        1.06      1.0048]\n",
            "\u001b[34m\u001b[1mtrain: \u001b[0mWARNING ⚠️ /content/shelves-5/train/images/train_145_jpg.rf.e09a0ce1bd5288de7e496221827d0189.jpg: ignoring corrupt image/label: non-normalized or out of bounds coordinates [     1.1246      1.0937]\n",
            "\u001b[34m\u001b[1mtrain: \u001b[0mWARNING ⚠️ /content/shelves-5/train/images/train_147_jpg.rf.13d52dea72a51bc393611d7add7ce21a.jpg: ignoring corrupt image/label: non-normalized or out of bounds coordinates [      1.019]\n",
            "\u001b[34m\u001b[1mtrain: \u001b[0mWARNING ⚠️ /content/shelves-5/train/images/train_147_jpg.rf.4a1c50d47af661f0be185e5a14471438.jpg: ignoring corrupt image/label: non-normalized or out of bounds coordinates [     1.0177]\n",
            "\u001b[34m\u001b[1mtrain: \u001b[0mWARNING ⚠️ /content/shelves-5/train/images/train_147_jpg.rf.d50ca2eb42fc9164efb69f1f9aff7948.jpg: ignoring corrupt image/label: non-normalized or out of bounds coordinates [     1.0152]\n",
            "\u001b[34m\u001b[1mtrain: \u001b[0mWARNING ⚠️ /content/shelves-5/train/images/train_148_jpg.rf.a05978f6584bdad293ed4e4191ea4edd.jpg: ignoring corrupt image/label: non-normalized or out of bounds coordinates [     1.0048]\n",
            "\u001b[34m\u001b[1mtrain: \u001b[0mWARNING ⚠️ /content/shelves-5/train/images/train_148_jpg.rf.a0b5223beba27a5d86d5dce50dde8ad8.jpg: ignoring corrupt image/label: non-normalized or out of bounds coordinates [     1.0094      1.0044]\n",
            "\u001b[34m\u001b[1mtrain: \u001b[0mWARNING ⚠️ /content/shelves-5/train/images/train_148_jpg.rf.c88a021ef56731eb6b52c40c75acb5cd.jpg: ignoring corrupt image/label: non-normalized or out of bounds coordinates [     1.0094      1.0044]\n",
            "\u001b[34m\u001b[1mtrain: \u001b[0mWARNING ⚠️ /content/shelves-5/train/images/train_1501_jpg.rf.553295770233b9710cdd09f15078f482.jpg: ignoring corrupt image/label: non-normalized or out of bounds coordinates [     1.0001]\n",
            "\u001b[34m\u001b[1mtrain: \u001b[0mWARNING ⚠️ /content/shelves-5/train/images/train_1501_jpg.rf.956086ae5524bb3bf0104e27657891ad.jpg: ignoring corrupt image/label: non-normalized or out of bounds coordinates [     1.0001]\n",
            "\u001b[34m\u001b[1mtrain: \u001b[0mWARNING ⚠️ /content/shelves-5/train/images/train_1501_jpg.rf.ff93d48763759205b94c4c80e2d06016.jpg: ignoring corrupt image/label: non-normalized or out of bounds coordinates [     1.0001]\n",
            "\u001b[34m\u001b[1mtrain: \u001b[0mWARNING ⚠️ /content/shelves-5/train/images/train_1507_jpg.rf.2038191968b031923e8464d158b5effa.jpg: ignoring corrupt image/label: non-normalized or out of bounds coordinates [      1.005]\n",
            "\u001b[34m\u001b[1mtrain: \u001b[0mWARNING ⚠️ /content/shelves-5/train/images/train_1507_jpg.rf.55d35515af49efe0aeeaa82e89fa1a4a.jpg: ignoring corrupt image/label: non-normalized or out of bounds coordinates [      1.005]\n",
            "\u001b[34m\u001b[1mtrain: \u001b[0mWARNING ⚠️ /content/shelves-5/train/images/train_1507_jpg.rf.a3729ff52ca3ba582078cd8c5b93f2aa.jpg: ignoring corrupt image/label: non-normalized or out of bounds coordinates [     1.0053]\n",
            "\u001b[34m\u001b[1mtrain: \u001b[0mWARNING ⚠️ /content/shelves-5/train/images/train_1508_jpg.rf.1dde8aab78a5883556d25cd0b2f6eec6.jpg: ignoring corrupt image/label: non-normalized or out of bounds coordinates [          1      1.0039      1.0031      1.0029      1.0031      1.0014]\n",
            "\u001b[34m\u001b[1mtrain: \u001b[0mWARNING ⚠️ /content/shelves-5/train/images/train_1508_jpg.rf.dd92d82bd2ffb999cfaf1acf3c3fa08a.jpg: ignoring corrupt image/label: non-normalized or out of bounds coordinates [     1.0038      1.0031      1.0028      1.0031      1.0014]\n",
            "\u001b[34m\u001b[1mtrain: \u001b[0mWARNING ⚠️ /content/shelves-5/train/images/train_1508_jpg.rf.ffd2ae5823a4348c49f6cdb5689e4039.jpg: ignoring corrupt image/label: non-normalized or out of bounds coordinates [     1.0045      1.0039      1.0031      1.0029      1.0031      1.0014]\n",
            "\u001b[34m\u001b[1mtrain: \u001b[0mWARNING ⚠️ /content/shelves-5/train/images/train_150_jpg.rf.7a0b6e4b52cacd4a89e9a7a5e5769e69.jpg: ignoring corrupt image/label: non-normalized or out of bounds coordinates [     1.0164]\n",
            "\u001b[34m\u001b[1mtrain: \u001b[0mWARNING ⚠️ /content/shelves-5/train/images/train_150_jpg.rf.ca646efbfe90466e4966baa8355c0b5c.jpg: ignoring corrupt image/label: non-normalized or out of bounds coordinates [     1.0223]\n",
            "\u001b[34m\u001b[1mtrain: \u001b[0mWARNING ⚠️ /content/shelves-5/train/images/train_1511_jpg.rf.7c556d58e74e6c98d9ab33d13ec5d235.jpg: ignoring corrupt image/label: non-normalized or out of bounds coordinates [      1.001      1.0001      1.0016       1.004]\n",
            "\u001b[34m\u001b[1mtrain: \u001b[0mWARNING ⚠️ /content/shelves-5/train/images/train_1511_jpg.rf.a667cf66dcc7749279c6d4442d1aeaa8.jpg: ignoring corrupt image/label: non-normalized or out of bounds coordinates [      1.001      1.0001      1.0016       1.004]\n",
            "\u001b[34m\u001b[1mtrain: \u001b[0mWARNING ⚠️ /content/shelves-5/train/images/train_1511_jpg.rf.e0bba2f44323b44a836a0a4ff010cb12.jpg: ignoring corrupt image/label: non-normalized or out of bounds coordinates [      1.001      1.0001      1.0016       1.002]\n",
            "\u001b[34m\u001b[1mtrain: \u001b[0mWARNING ⚠️ /content/shelves-5/train/images/train_1513_jpg.rf.3246f3c3c6ade8db310032b9eb41d533.jpg: ignoring corrupt image/label: non-normalized or out of bounds coordinates [     1.0054]\n",
            "\u001b[34m\u001b[1mtrain: \u001b[0mWARNING ⚠️ /content/shelves-5/train/images/train_1513_jpg.rf.afffa77f8bd910779b7760d417bef34b.jpg: ignoring corrupt image/label: non-normalized or out of bounds coordinates [     1.0057]\n",
            "\u001b[34m\u001b[1mtrain: \u001b[0mWARNING ⚠️ /content/shelves-5/train/images/train_1513_jpg.rf.d6665336ddaa142cee54923f5e97c80f.jpg: ignoring corrupt image/label: non-normalized or out of bounds coordinates [     1.0054]\n",
            "\u001b[34m\u001b[1mtrain: \u001b[0mWARNING ⚠️ /content/shelves-5/train/images/train_1516_jpg.rf.24f4f334de3255ff0d1cb24f04e8947e.jpg: ignoring corrupt image/label: non-normalized or out of bounds coordinates [     1.0022      1.0006      1.0008]\n",
            "\u001b[34m\u001b[1mtrain: \u001b[0mWARNING ⚠️ /content/shelves-5/train/images/train_1516_jpg.rf.7704a89dd6ccd74d910924a1a95f06e5.jpg: ignoring corrupt image/label: non-normalized or out of bounds coordinates [     1.0019      1.0004]\n",
            "\u001b[34m\u001b[1mtrain: \u001b[0mWARNING ⚠️ /content/shelves-5/train/images/train_1516_jpg.rf.9782517eeb17af75ed33b5ba8ae6378b.jpg: ignoring corrupt image/label: non-normalized or out of bounds coordinates [     1.0023      1.0005      1.0001]\n",
            "\u001b[34m\u001b[1mtrain: \u001b[0mWARNING ⚠️ /content/shelves-5/train/images/train_1518_jpg.rf.b8f70b848e8606ef954471c221b99dda.jpg: ignoring corrupt image/label: non-normalized or out of bounds coordinates [     1.0003]\n",
            "\u001b[34m\u001b[1mtrain: \u001b[0mWARNING ⚠️ /content/shelves-5/train/images/train_1518_jpg.rf.bbd6df189756c82c4f8e6bd6ecfa0307.jpg: ignoring corrupt image/label: non-normalized or out of bounds coordinates [     1.0003]\n",
            "\u001b[34m\u001b[1mtrain: \u001b[0mWARNING ⚠️ /content/shelves-5/train/images/train_1518_jpg.rf.d6249c529b8d7d1225909942ef735b80.jpg: ignoring corrupt image/label: non-normalized or out of bounds coordinates [     1.0003]\n",
            "\u001b[34m\u001b[1mtrain: \u001b[0mWARNING ⚠️ /content/shelves-5/train/images/train_151_jpg.rf.0303bf211732d90943a9512e62290a33.jpg: ignoring corrupt image/label: non-normalized or out of bounds coordinates [     1.0056]\n",
            "\u001b[34m\u001b[1mtrain: \u001b[0mWARNING ⚠️ /content/shelves-5/train/images/train_151_jpg.rf.3ece0877292c8ae0d9f5611bdafa7446.jpg: ignoring corrupt image/label: non-normalized or out of bounds coordinates [     1.0057]\n",
            "\u001b[34m\u001b[1mtrain: \u001b[0mWARNING ⚠️ /content/shelves-5/train/images/train_151_jpg.rf.856333d3b73144a683d3a01a9ccd330c.jpg: ignoring corrupt image/label: non-normalized or out of bounds coordinates [     1.0054]\n",
            "\u001b[34m\u001b[1mtrain: \u001b[0mWARNING ⚠️ /content/shelves-5/train/images/train_1520_jpg.rf.385c5f06691051af2b24257f49b7f6c9.jpg: ignoring corrupt image/label: non-normalized or out of bounds coordinates [      1.002      1.0004      1.0004      1.0016      1.0011      1.0003]\n",
            "\u001b[34m\u001b[1mtrain: \u001b[0mWARNING ⚠️ /content/shelves-5/train/images/train_1520_jpg.rf.70e68ed3ad46639541d492c7567b900d.jpg: ignoring corrupt image/label: non-normalized or out of bounds coordinates [      1.002      1.0004      1.0004      1.0016       1.001      1.0003]\n",
            "\u001b[34m\u001b[1mtrain: \u001b[0mWARNING ⚠️ /content/shelves-5/train/images/train_1520_jpg.rf.a63cc16112d45d73a479011a26958bc0.jpg: ignoring corrupt image/label: non-normalized or out of bounds coordinates [     1.0001      1.0003      1.0003      1.0007      1.0009      1.0001]\n",
            "\u001b[34m\u001b[1mtrain: \u001b[0mWARNING ⚠️ /content/shelves-5/train/images/train_1525_jpg.rf.02e14651cecdefc68bef1a7e47113291.jpg: ignoring corrupt image/label: non-normalized or out of bounds coordinates [     1.0029       1.002       1.001      1.0022]\n",
            "\u001b[34m\u001b[1mtrain: \u001b[0mWARNING ⚠️ /content/shelves-5/train/images/train_1525_jpg.rf.2cf54c462fd8d9092caf7163a076071a.jpg: ignoring corrupt image/label: non-normalized or out of bounds coordinates [      1.003      1.0021       1.001      1.0023      1.0009]\n",
            "\u001b[34m\u001b[1mtrain: \u001b[0mWARNING ⚠️ /content/shelves-5/train/images/train_1525_jpg.rf.9932825ed46b5436140bfe10b232374b.jpg: ignoring corrupt image/label: non-normalized or out of bounds coordinates [          1      1.0032      1.0022      1.0011      1.0024       1.001      1.0003]\n",
            "\u001b[34m\u001b[1mtrain: \u001b[0mWARNING ⚠️ /content/shelves-5/train/images/train_1531_jpg.rf.13cccb9542efbac292ad69aed33e82b4.jpg: ignoring corrupt image/label: non-normalized or out of bounds coordinates [      1.023]\n",
            "\u001b[34m\u001b[1mtrain: \u001b[0mWARNING ⚠️ /content/shelves-5/train/images/train_1531_jpg.rf.7db3d625a9c2aa3f931b101da1cc2fd1.jpg: ignoring corrupt image/label: non-normalized or out of bounds coordinates [     1.0206]\n",
            "\u001b[34m\u001b[1mtrain: \u001b[0mWARNING ⚠️ /content/shelves-5/train/images/train_1531_jpg.rf.eddf18f81fcc868c34a69d59efabe2e8.jpg: ignoring corrupt image/label: non-normalized or out of bounds coordinates [     1.0232]\n",
            "\u001b[34m\u001b[1mtrain: \u001b[0mWARNING ⚠️ /content/shelves-5/train/images/train_1532_jpg.rf.5221ec0092d36b716ee74bcf731387db.jpg: ignoring corrupt image/label: non-normalized or out of bounds coordinates [     1.0032      1.0099      1.0108      1.0198      1.0256      1.0437]\n",
            "\u001b[34m\u001b[1mtrain: \u001b[0mWARNING ⚠️ /content/shelves-5/train/images/train_1532_jpg.rf.7d7042204fccdec6b21cd3e486ae66b2.jpg: ignoring corrupt image/label: non-normalized or out of bounds coordinates [     1.0095      1.0104       1.019      1.0246      1.0445]\n",
            "\u001b[34m\u001b[1mtrain: \u001b[0mWARNING ⚠️ /content/shelves-5/train/images/train_1532_jpg.rf.d7d02e32c127030c486767b1ea701588.jpg: ignoring corrupt image/label: non-normalized or out of bounds coordinates [     1.0094      1.0104       1.019      1.0245      1.0443]\n",
            "\u001b[34m\u001b[1mtrain: \u001b[0mWARNING ⚠️ /content/shelves-5/train/images/train_1533_jpg.rf.0d967e28472cdd1ad7d7feb999605be2.jpg: ignoring corrupt image/label: non-normalized or out of bounds coordinates [     1.0044      1.0604      1.0837      1.0859]\n",
            "\u001b[34m\u001b[1mtrain: \u001b[0mWARNING ⚠️ /content/shelves-5/train/images/train_1533_jpg.rf.1ec8eece35b28c22eb14f7e242050f52.jpg: ignoring corrupt image/label: non-normalized or out of bounds coordinates [     1.0432      1.0573      1.0825]\n",
            "\u001b[34m\u001b[1mtrain: \u001b[0mWARNING ⚠️ /content/shelves-5/train/images/train_1533_jpg.rf.7e79cd942cd35e201da5e2584ecf8f4a.jpg: ignoring corrupt image/label: non-normalized or out of bounds coordinates [     1.0571      1.0716      1.1048]\n",
            "\u001b[34m\u001b[1mtrain: \u001b[0mWARNING ⚠️ /content/shelves-5/train/images/train_1534_jpg.rf.86b86c466d3ee45d12b0ff9271a2a67d.jpg: ignoring corrupt image/label: non-normalized or out of bounds coordinates [     1.0186]\n",
            "\u001b[34m\u001b[1mtrain: \u001b[0mWARNING ⚠️ /content/shelves-5/train/images/train_1536_jpg.rf.1fdc34dd8d65532e7a8c07734c1f266a.jpg: ignoring corrupt image/label: non-normalized or out of bounds coordinates [     1.0172      1.0584]\n",
            "\u001b[34m\u001b[1mtrain: \u001b[0mWARNING ⚠️ /content/shelves-5/train/images/train_1536_jpg.rf.3651da121470d8b52f57a4ce53ec1a63.jpg: ignoring corrupt image/label: non-normalized or out of bounds coordinates [     1.0157      1.0595]\n",
            "\u001b[34m\u001b[1mtrain: \u001b[0mWARNING ⚠️ /content/shelves-5/train/images/train_1536_jpg.rf.6c0f977c4bf025a57641f1436b12e614.jpg: ignoring corrupt image/label: non-normalized or out of bounds coordinates [     1.0198      1.0302]\n",
            "\u001b[34m\u001b[1mtrain: \u001b[0mWARNING ⚠️ /content/shelves-5/train/images/train_1539_jpg.rf.97c323ce68b237388e65788f518bd8b3.jpg: ignoring corrupt image/label: non-normalized or out of bounds coordinates [     1.0238]\n",
            "\u001b[34m\u001b[1mtrain: \u001b[0mWARNING ⚠️ /content/shelves-5/train/images/train_1539_jpg.rf.99143de5425aa0c09fc5890d67284de2.jpg: ignoring corrupt image/label: non-normalized or out of bounds coordinates [     1.0235]\n",
            "\u001b[34m\u001b[1mtrain: \u001b[0mWARNING ⚠️ /content/shelves-5/train/images/train_1539_jpg.rf.b5f9cf9b581d17b388a8e81933c50692.jpg: ignoring corrupt image/label: non-normalized or out of bounds coordinates [      1.024]\n",
            "\u001b[34m\u001b[1mtrain: \u001b[0mWARNING ⚠️ /content/shelves-5/train/images/train_1540_jpg.rf.3822f001a76e4f01f6772c6ee149df4c.jpg: ignoring corrupt image/label: non-normalized or out of bounds coordinates [     1.0017]\n",
            "\u001b[34m\u001b[1mtrain: \u001b[0mWARNING ⚠️ /content/shelves-5/train/images/train_1541_jpg.rf.787f220dd4ecead4fa91f8b88511e580.jpg: ignoring corrupt image/label: non-normalized or out of bounds coordinates [     1.0107       1.037      1.0557]\n",
            "\u001b[34m\u001b[1mtrain: \u001b[0mWARNING ⚠️ /content/shelves-5/train/images/train_1541_jpg.rf.7f6c49c18fc3e03b3f0c4bc1e4968d4d.jpg: ignoring corrupt image/label: non-normalized or out of bounds coordinates [       1.01      1.0369      1.0538]\n",
            "\u001b[34m\u001b[1mtrain: \u001b[0mWARNING ⚠️ /content/shelves-5/train/images/train_1541_jpg.rf.ef9c8ea3a1bef75d303e218384f71e30.jpg: ignoring corrupt image/label: non-normalized or out of bounds coordinates [     1.0112      1.0387      1.0588]\n",
            "\u001b[34m\u001b[1mtrain: \u001b[0mWARNING ⚠️ /content/shelves-5/train/images/train_1542_jpg.rf.41c62c7f9e855f78b3743153ca0a8113.jpg: ignoring corrupt image/label: non-normalized or out of bounds coordinates [     1.0051]\n",
            "\u001b[34m\u001b[1mtrain: \u001b[0mWARNING ⚠️ /content/shelves-5/train/images/train_1542_jpg.rf.523688608bcde42a10ebb2d75aad8682.jpg: ignoring corrupt image/label: non-normalized or out of bounds coordinates [     1.0051]\n",
            "\u001b[34m\u001b[1mtrain: \u001b[0mWARNING ⚠️ /content/shelves-5/train/images/train_1542_jpg.rf.55d33343795976e6ee05e2db977abc41.jpg: ignoring corrupt image/label: non-normalized or out of bounds coordinates [      1.005]\n",
            "\u001b[34m\u001b[1mtrain: \u001b[0mWARNING ⚠️ /content/shelves-5/train/images/train_1546_jpg.rf.1131fad9f6587c17cd7af3014929df8e.jpg: ignoring corrupt image/label: non-normalized or out of bounds coordinates [     1.0107]\n",
            "\u001b[34m\u001b[1mtrain: \u001b[0mWARNING ⚠️ /content/shelves-5/train/images/train_1546_jpg.rf.b69f68e6c0d5e6134c5bb9aededf720a.jpg: ignoring corrupt image/label: non-normalized or out of bounds coordinates [     1.0112]\n",
            "\u001b[34m\u001b[1mtrain: \u001b[0mWARNING ⚠️ /content/shelves-5/train/images/train_1546_jpg.rf.d5e239c70c41431fe18b922b0da4a31e.jpg: ignoring corrupt image/label: non-normalized or out of bounds coordinates [     1.0108]\n",
            "\u001b[34m\u001b[1mtrain: \u001b[0mWARNING ⚠️ /content/shelves-5/train/images/train_1549_jpg.rf.6ea21fae8c9e7e95ecb983f083820181.jpg: ignoring corrupt image/label: non-normalized or out of bounds coordinates [     1.0001]\n",
            "\u001b[34m\u001b[1mtrain: \u001b[0mWARNING ⚠️ /content/shelves-5/train/images/train_1549_jpg.rf.7c0e2152eaddbd27a93d2b07f447447d.jpg: ignoring corrupt image/label: non-normalized or out of bounds coordinates [     1.0001]\n",
            "\u001b[34m\u001b[1mtrain: \u001b[0mWARNING ⚠️ /content/shelves-5/train/images/train_1549_jpg.rf.d927cb236d762a0c1e698e409b9e0c51.jpg: ignoring corrupt image/label: non-normalized or out of bounds coordinates [     1.0001]\n",
            "\u001b[34m\u001b[1mtrain: \u001b[0mWARNING ⚠️ /content/shelves-5/train/images/train_154_jpg.rf.3066fa9bc94745e2b051a91d13df9892.jpg: ignoring corrupt image/label: non-normalized or out of bounds coordinates [     1.0402      1.0531      1.0458]\n",
            "\u001b[34m\u001b[1mtrain: \u001b[0mWARNING ⚠️ /content/shelves-5/train/images/train_154_jpg.rf.89328d767c4e0ce7010bf1abe53d07bf.jpg: ignoring corrupt image/label: non-normalized or out of bounds coordinates [          1      1.0003      1.0025      1.0401       1.053      1.0474]\n",
            "\u001b[34m\u001b[1mtrain: \u001b[0mWARNING ⚠️ /content/shelves-5/train/images/train_154_jpg.rf.f40f19f4d132270bb85ecf84260c4665.jpg: ignoring corrupt image/label: non-normalized or out of bounds coordinates [     1.0037      1.0004      1.0402      1.0531      1.0452]\n",
            "\u001b[34m\u001b[1mtrain: \u001b[0mWARNING ⚠️ /content/shelves-5/train/images/train_1550_jpg.rf.ea1c680d52dc55c7c8819b43d891165d.jpg: ignoring corrupt image/label: non-normalized or out of bounds coordinates [     1.0016      1.0001]\n",
            "\u001b[34m\u001b[1mtrain: \u001b[0mWARNING ⚠️ /content/shelves-5/train/images/train_1550_jpg.rf.f06e444ef389b6ef69f7110659827ce4.jpg: ignoring corrupt image/label: non-normalized or out of bounds coordinates [      1.001      1.0016]\n",
            "\u001b[34m\u001b[1mtrain: \u001b[0mWARNING ⚠️ /content/shelves-5/train/images/train_1553_jpg.rf.450c45da42e6d177b6545b55934c1b51.jpg: ignoring corrupt image/label: non-normalized or out of bounds coordinates [     1.0257      1.0103      1.0368      1.0484      1.0518]\n",
            "\u001b[34m\u001b[1mtrain: \u001b[0mWARNING ⚠️ /content/shelves-5/train/images/train_1553_jpg.rf.617c479564cc4bbd5dca329801c882cb.jpg: ignoring corrupt image/label: non-normalized or out of bounds coordinates [      1.023      1.0107      1.0385      1.0505      1.0531]\n",
            "\u001b[34m\u001b[1mtrain: \u001b[0mWARNING ⚠️ /content/shelves-5/train/images/train_1553_jpg.rf.6c2af69fb20da409aad07ee7d6e00181.jpg: ignoring corrupt image/label: non-normalized or out of bounds coordinates [     1.0207      1.0106      1.0378      1.0496      1.0591      1.0165]\n",
            "\u001b[34m\u001b[1mtrain: \u001b[0mWARNING ⚠️ /content/shelves-5/train/images/train_1554_jpg.rf.8284349c5e51e62327fdb517615d51e6.jpg: ignoring corrupt image/label: non-normalized or out of bounds coordinates [     1.0028      1.0027      1.0038]\n",
            "\u001b[34m\u001b[1mtrain: \u001b[0mWARNING ⚠️ /content/shelves-5/train/images/train_1554_jpg.rf.91e33815f6854a7e19c245402a9e659b.jpg: ignoring corrupt image/label: non-normalized or out of bounds coordinates [      1.003      1.0005      1.0023]\n",
            "\u001b[34m\u001b[1mtrain: \u001b[0mWARNING ⚠️ /content/shelves-5/train/images/train_1554_jpg.rf.da7bf6984943c209a4d6202b2e03131b.jpg: ignoring corrupt image/label: non-normalized or out of bounds coordinates [     1.0023      1.0027      1.0037]\n",
            "\u001b[34m\u001b[1mtrain: \u001b[0mWARNING ⚠️ /content/shelves-5/train/images/train_1556_jpg.rf.4953cef03e9786384fb5633b3641d71a.jpg: ignoring corrupt image/label: non-normalized or out of bounds coordinates [     1.0006]\n",
            "\u001b[34m\u001b[1mtrain: \u001b[0mWARNING ⚠️ /content/shelves-5/train/images/train_1556_jpg.rf.4edc99ed89202ec652477b59b7b9ce29.jpg: ignoring corrupt image/label: non-normalized or out of bounds coordinates [     1.0006      1.0052]\n",
            "\u001b[34m\u001b[1mtrain: \u001b[0mWARNING ⚠️ /content/shelves-5/train/images/train_1556_jpg.rf.d0c574b58a661c0363652376cafedb0b.jpg: ignoring corrupt image/label: non-normalized or out of bounds coordinates [     1.0006]\n",
            "\u001b[34m\u001b[1mtrain: \u001b[0mWARNING ⚠️ /content/shelves-5/train/images/train_1557_jpg.rf.34d291af3411cce302bb307064b82aa6.jpg: ignoring corrupt image/label: non-normalized or out of bounds coordinates [     1.0013]\n",
            "\u001b[34m\u001b[1mtrain: \u001b[0mWARNING ⚠️ /content/shelves-5/train/images/train_1557_jpg.rf.9bb81e87dca0e74adddef27f06c6eaba.jpg: ignoring corrupt image/label: non-normalized or out of bounds coordinates [     1.0013           1]\n",
            "\u001b[34m\u001b[1mtrain: \u001b[0mWARNING ⚠️ /content/shelves-5/train/images/train_1559_jpg.rf.70c7480041e3b69307d14ca6b72aa085.jpg: ignoring corrupt image/label: non-normalized or out of bounds coordinates [     1.0049      1.0063      1.0036      1.0007]\n",
            "\u001b[34m\u001b[1mtrain: \u001b[0mWARNING ⚠️ /content/shelves-5/train/images/train_1559_jpg.rf.a9e319129735b3de5c960078eb8c736a.jpg: ignoring corrupt image/label: non-normalized or out of bounds coordinates [     1.0051      1.0068      1.0039      1.0008]\n",
            "\u001b[34m\u001b[1mtrain: \u001b[0mWARNING ⚠️ /content/shelves-5/train/images/train_1559_jpg.rf.d7a41f675498e9376102bc0143e06b2d.jpg: ignoring corrupt image/label: non-normalized or out of bounds coordinates [     1.0068      1.0039      1.0008]\n",
            "\u001b[34m\u001b[1mtrain: \u001b[0mWARNING ⚠️ /content/shelves-5/train/images/train_1560_jpg.rf.39d1ac36d479d9a563dd06b9bc58a236.jpg: ignoring corrupt image/label: non-normalized or out of bounds coordinates [     1.0015      1.0015      1.0003      1.0004]\n",
            "\u001b[34m\u001b[1mtrain: \u001b[0mWARNING ⚠️ /content/shelves-5/train/images/train_1560_jpg.rf.411704e02f81ee1172b3c8d7e513aab0.jpg: ignoring corrupt image/label: non-normalized or out of bounds coordinates [     1.0016      1.0015      1.0015      1.0004]\n",
            "\u001b[34m\u001b[1mtrain: \u001b[0mWARNING ⚠️ /content/shelves-5/train/images/train_1560_jpg.rf.c06524dac0058601758171147d90687b.jpg: ignoring corrupt image/label: non-normalized or out of bounds coordinates [     1.0016      1.0016      1.0015      1.0004]\n",
            "\u001b[34m\u001b[1mtrain: \u001b[0mWARNING ⚠️ /content/shelves-5/train/images/train_1561_jpg.rf.d8cc8ef65d49e997e36d6c32284e1c48.jpg: ignoring corrupt image/label: non-normalized or out of bounds coordinates [     1.0043      1.0027       1.002      1.0024      1.0023      1.0016]\n",
            "\u001b[34m\u001b[1mtrain: \u001b[0mWARNING ⚠️ /content/shelves-5/train/images/train_1561_jpg.rf.e039f6b712803a1629de3cc46acd02f0.jpg: ignoring corrupt image/label: non-normalized or out of bounds coordinates [     1.0045      1.0028      1.0022      1.0032      1.0024      1.0017]\n",
            "\u001b[34m\u001b[1mtrain: \u001b[0mWARNING ⚠️ /content/shelves-5/train/images/train_1561_jpg.rf.fcad9362ba563c397620e19aa8b5aead.jpg: ignoring corrupt image/label: non-normalized or out of bounds coordinates [     1.0028      1.0027      1.0005      1.0015      1.0016      1.0016]\n",
            "\u001b[34m\u001b[1mtrain: \u001b[0mWARNING ⚠️ /content/shelves-5/train/images/train_1562_jpg.rf.1beb61297724ea47fc0403a2f29bd592.jpg: ignoring corrupt image/label: non-normalized or out of bounds coordinates [     1.0043]\n",
            "\u001b[34m\u001b[1mtrain: \u001b[0mWARNING ⚠️ /content/shelves-5/train/images/train_1562_jpg.rf.371551fcd6722b68af854dfc83ca0902.jpg: ignoring corrupt image/label: non-normalized or out of bounds coordinates [     1.0047]\n",
            "\u001b[34m\u001b[1mtrain: \u001b[0mWARNING ⚠️ /content/shelves-5/train/images/train_1562_jpg.rf.9d0e0a96e7c33a75432a4e4addfe5509.jpg: ignoring corrupt image/label: non-normalized or out of bounds coordinates [          1      1.0044]\n",
            "\u001b[34m\u001b[1mtrain: \u001b[0mWARNING ⚠️ /content/shelves-5/train/images/train_1564_jpg.rf.0bfe969be2d9939bb9d87a9c30600314.jpg: ignoring corrupt image/label: non-normalized or out of bounds coordinates [      1.003      1.0024      1.0015      1.0005      1.0001]\n",
            "\u001b[34m\u001b[1mtrain: \u001b[0mWARNING ⚠️ /content/shelves-5/train/images/train_1564_jpg.rf.164803ccab8f0ea4e77459079e0e00c6.jpg: ignoring corrupt image/label: non-normalized or out of bounds coordinates [     1.0032      1.0025      1.0015      1.0006      1.0001]\n",
            "\u001b[34m\u001b[1mtrain: \u001b[0mWARNING ⚠️ /content/shelves-5/train/images/train_1564_jpg.rf.7ebed32b73592f2476084365f3c0f425.jpg: ignoring corrupt image/label: non-normalized or out of bounds coordinates [      1.003      1.0024      1.0015      1.0005      1.0001]\n",
            "\u001b[34m\u001b[1mtrain: \u001b[0mWARNING ⚠️ /content/shelves-5/train/images/train_1565_jpg.rf.414c6f52573059831fe5f8490d8e194d.jpg: ignoring corrupt image/label: non-normalized or out of bounds coordinates [      1.005]\n",
            "\u001b[34m\u001b[1mtrain: \u001b[0mWARNING ⚠️ /content/shelves-5/train/images/train_1565_jpg.rf.7b61dddf0f5fdff8d1ad3198dda18fdc.jpg: ignoring corrupt image/label: non-normalized or out of bounds coordinates [     1.0049]\n",
            "\u001b[34m\u001b[1mtrain: \u001b[0mWARNING ⚠️ /content/shelves-5/train/images/train_1565_jpg.rf.998efacfef87727737094f2895afe69b.jpg: ignoring corrupt image/label: non-normalized or out of bounds coordinates [     1.0005      1.0029]\n",
            "\u001b[34m\u001b[1mtrain: \u001b[0mWARNING ⚠️ /content/shelves-5/train/images/train_1567_jpg.rf.80d79a99824297407eccbdad9cf66f6e.jpg: ignoring corrupt image/label: non-normalized or out of bounds coordinates [     1.0011      1.0002]\n",
            "\u001b[34m\u001b[1mtrain: \u001b[0mWARNING ⚠️ /content/shelves-5/train/images/train_1567_jpg.rf.f44222661bf3e2d7877a5507afb88892.jpg: ignoring corrupt image/label: non-normalized or out of bounds coordinates [      1.003      1.0017      1.0012]\n",
            "\u001b[34m\u001b[1mtrain: \u001b[0mWARNING ⚠️ /content/shelves-5/train/images/train_1567_jpg.rf.f7d12a3273a924e94748ac9ae5ce1f40.jpg: ignoring corrupt image/label: non-normalized or out of bounds coordinates [          1      1.0011]\n",
            "\u001b[34m\u001b[1mtrain: \u001b[0mWARNING ⚠️ /content/shelves-5/train/images/train_1570_jpg.rf.14f188bdb075ab7e847c86259404f324.jpg: ignoring corrupt image/label: non-normalized or out of bounds coordinates [          1      1.0017      1.0017      1.0013      1.0019]\n",
            "\u001b[34m\u001b[1mtrain: \u001b[0mWARNING ⚠️ /content/shelves-5/train/images/train_1570_jpg.rf.28ecba614fe4f8b758f92a7d37a20353.jpg: ignoring corrupt image/label: non-normalized or out of bounds coordinates [          1      1.0017      1.0016      1.0012      1.0019]\n",
            "\u001b[34m\u001b[1mtrain: \u001b[0mWARNING ⚠️ /content/shelves-5/train/images/train_1570_jpg.rf.82e6e3a97f22012ea08dba158fee902c.jpg: ignoring corrupt image/label: non-normalized or out of bounds coordinates [          1      1.0018      1.0017      1.0013       1.002]\n",
            "\u001b[34m\u001b[1mtrain: \u001b[0mWARNING ⚠️ /content/shelves-5/train/images/train_1573_jpg.rf.626fd3ccd59baac848fb1ff055c4c14b.jpg: ignoring corrupt image/label: non-normalized or out of bounds coordinates [     1.0007           1      1.0012]\n",
            "\u001b[34m\u001b[1mtrain: \u001b[0mWARNING ⚠️ /content/shelves-5/train/images/train_1573_jpg.rf.be81b472df802ddf6b679b082bf89661.jpg: ignoring corrupt image/label: non-normalized or out of bounds coordinates [     1.0007           1      1.0013]\n",
            "\u001b[34m\u001b[1mtrain: \u001b[0mWARNING ⚠️ /content/shelves-5/train/images/train_1573_jpg.rf.e1bffd0d0ffe3a98cba41c299d255c9c.jpg: ignoring corrupt image/label: non-normalized or out of bounds coordinates [     1.0007           1      1.0012]\n",
            "\u001b[34m\u001b[1mtrain: \u001b[0mWARNING ⚠️ /content/shelves-5/train/images/train_1574_jpg.rf.fe078cde6d48736d48d399a76754019a.jpg: ignoring corrupt image/label: non-normalized or out of bounds coordinates [          1]\n",
            "\u001b[34m\u001b[1mtrain: \u001b[0mWARNING ⚠️ /content/shelves-5/train/images/train_1575_jpg.rf.169e3b061d7f3c11ebf574c2730b7f8e.jpg: ignoring corrupt image/label: non-normalized or out of bounds coordinates [          1]\n",
            "\u001b[34m\u001b[1mtrain: \u001b[0mWARNING ⚠️ /content/shelves-5/train/images/train_1577_jpg.rf.2e1fb5432d30503c9f004e15dcab9f3e.jpg: ignoring corrupt image/label: non-normalized or out of bounds coordinates [          1      1.0076      1.0036]\n",
            "\u001b[34m\u001b[1mtrain: \u001b[0mWARNING ⚠️ /content/shelves-5/train/images/train_1577_jpg.rf.93cc8d196d4e988e25d2fd95357ee070.jpg: ignoring corrupt image/label: non-normalized or out of bounds coordinates [          1      1.0079      1.0035]\n",
            "\u001b[34m\u001b[1mtrain: \u001b[0mWARNING ⚠️ /content/shelves-5/train/images/train_1577_jpg.rf.f6ddb786e1b579684fdb00f8fd7f53ec.jpg: ignoring corrupt image/label: non-normalized or out of bounds coordinates [          1      1.0082      1.0036]\n",
            "\u001b[34m\u001b[1mtrain: \u001b[0mWARNING ⚠️ /content/shelves-5/train/images/train_157_jpg.rf.2b96c0740569288aee8f3b0337e04ddc.jpg: ignoring corrupt image/label: non-normalized or out of bounds coordinates [     1.0024      1.0015]\n",
            "\u001b[34m\u001b[1mtrain: \u001b[0mWARNING ⚠️ /content/shelves-5/train/images/train_157_jpg.rf.506462bfaef9f82c09c535e92f4f49ee.jpg: ignoring corrupt image/label: non-normalized or out of bounds coordinates [     1.0022      1.0011]\n",
            "\u001b[34m\u001b[1mtrain: \u001b[0mWARNING ⚠️ /content/shelves-5/train/images/train_157_jpg.rf.667cc3530313dae9d341cff75f220b65.jpg: ignoring corrupt image/label: non-normalized or out of bounds coordinates [     1.0022      1.0014]\n",
            "\u001b[34m\u001b[1mtrain: \u001b[0mWARNING ⚠️ /content/shelves-5/train/images/train_1580_jpg.rf.2ec4ff5fb5c20668643b42760cc82d87.jpg: ignoring corrupt image/label: non-normalized or out of bounds coordinates [     1.0079      1.0046      1.0138        1.01      1.0226       1.019]\n",
            "\u001b[34m\u001b[1mtrain: \u001b[0mWARNING ⚠️ /content/shelves-5/train/images/train_1580_jpg.rf.3c07922209419bf6183ee173f3adf0cf.jpg: ignoring corrupt image/label: non-normalized or out of bounds coordinates [     1.0054      1.0134      1.0157]\n",
            "\u001b[34m\u001b[1mtrain: \u001b[0mWARNING ⚠️ /content/shelves-5/train/images/train_1580_jpg.rf.c8309e3fce3c11421845141c79dfd023.jpg: ignoring corrupt image/label: non-normalized or out of bounds coordinates [     1.0087      1.0228       1.019]\n",
            "\u001b[34m\u001b[1mtrain: \u001b[0mWARNING ⚠️ /content/shelves-5/train/images/train_1581_jpg.rf.0346d3021b847a4c5237c74ed32f3fd1.jpg: ignoring corrupt image/label: non-normalized or out of bounds coordinates [          1]\n",
            "\u001b[34m\u001b[1mtrain: \u001b[0mWARNING ⚠️ /content/shelves-5/train/images/train_1581_jpg.rf.ef892d13e6b71ed4aabacd3edb87c489.jpg: ignoring corrupt image/label: non-normalized or out of bounds coordinates [     1.0009]\n",
            "\u001b[34m\u001b[1mtrain: \u001b[0mWARNING ⚠️ /content/shelves-5/train/images/train_1583_jpg.rf.a81f827cbfb302cd1d7353843a0ce84d.jpg: ignoring corrupt image/label: non-normalized or out of bounds coordinates [          1]\n",
            "\u001b[34m\u001b[1mtrain: \u001b[0mWARNING ⚠️ /content/shelves-5/train/images/train_1583_jpg.rf.fc8e453b16cfb2eab6445843b269a4dd.jpg: ignoring corrupt image/label: non-normalized or out of bounds coordinates [          1]\n",
            "\u001b[34m\u001b[1mtrain: \u001b[0mWARNING ⚠️ /content/shelves-5/train/images/train_1585_jpg.rf.943ee305b40bf2aec3f4dee322ea5b13.jpg: ignoring corrupt image/label: non-normalized or out of bounds coordinates [     1.0101]\n",
            "\u001b[34m\u001b[1mtrain: \u001b[0mWARNING ⚠️ /content/shelves-5/train/images/train_1586_jpg.rf.8d60f1c386288c860c4e3876c0db71af.jpg: ignoring corrupt image/label: non-normalized or out of bounds coordinates [     1.0014      1.0024      1.0002      1.0045]\n",
            "\u001b[34m\u001b[1mtrain: \u001b[0mWARNING ⚠️ /content/shelves-5/train/images/train_1586_jpg.rf.926b9119624094236aaa4033dc573303.jpg: ignoring corrupt image/label: non-normalized or out of bounds coordinates [     1.0017      1.0017      1.0025      1.0002      1.0046      1.0014]\n",
            "\u001b[34m\u001b[1mtrain: \u001b[0mWARNING ⚠️ /content/shelves-5/train/images/train_1586_jpg.rf.d181f427da5bb7be98b911e64f6817f5.jpg: ignoring corrupt image/label: non-normalized or out of bounds coordinates [     1.0018      1.0004      1.0025      1.0003      1.0047       1.002]\n",
            "\u001b[34m\u001b[1mtrain: \u001b[0mWARNING ⚠️ /content/shelves-5/train/images/train_1588_jpg.rf.bd054019d08bc80e9aea9c36da6772ae.jpg: ignoring corrupt image/label: non-normalized or out of bounds coordinates [     1.0024      1.0015      1.0045]\n",
            "\u001b[34m\u001b[1mtrain: \u001b[0mWARNING ⚠️ /content/shelves-5/train/images/train_1589_jpg.rf.088be923081bfe6df80d83dd85c1d8b6.jpg: ignoring corrupt image/label: non-normalized or out of bounds coordinates [     1.0022      1.0022]\n",
            "\u001b[34m\u001b[1mtrain: \u001b[0mWARNING ⚠️ /content/shelves-5/train/images/train_1589_jpg.rf.2c9cb33de533f57ff7b221278fecb17b.jpg: ignoring corrupt image/label: non-normalized or out of bounds coordinates [     1.0014      1.0024]\n",
            "\u001b[34m\u001b[1mtrain: \u001b[0mWARNING ⚠️ /content/shelves-5/train/images/train_1589_jpg.rf.aa072dea42d6759f65f5080c44d91c24.jpg: ignoring corrupt image/label: non-normalized or out of bounds coordinates [     1.0025      1.0025      1.0024]\n",
            "\u001b[34m\u001b[1mtrain: \u001b[0mWARNING ⚠️ /content/shelves-5/train/images/train_1591_jpg.rf.31e9ca2a26907386d6655958f1cd0616.jpg: ignoring corrupt image/label: non-normalized or out of bounds coordinates [          1]\n",
            "\u001b[34m\u001b[1mtrain: \u001b[0mWARNING ⚠️ /content/shelves-5/train/images/train_1591_jpg.rf.5de6b1cd6c13f34a3a38787f057ce2e5.jpg: ignoring corrupt image/label: non-normalized or out of bounds coordinates [          1]\n",
            "\u001b[34m\u001b[1mtrain: \u001b[0mWARNING ⚠️ /content/shelves-5/train/images/train_1591_jpg.rf.93a9559270bbecd3cba7a8744888b0b3.jpg: ignoring corrupt image/label: non-normalized or out of bounds coordinates [          1]\n",
            "\u001b[34m\u001b[1mtrain: \u001b[0mWARNING ⚠️ /content/shelves-5/train/images/train_1592_jpg.rf.1fae13cd9304e26aa8a15dbbb60cb623.jpg: ignoring corrupt image/label: non-normalized or out of bounds coordinates [     1.0018      1.0014      1.0017      1.0014      1.0016      1.0005]\n",
            "\u001b[34m\u001b[1mtrain: \u001b[0mWARNING ⚠️ /content/shelves-5/train/images/train_1592_jpg.rf.dc08625d2b0728556ca3aece161e461b.jpg: ignoring corrupt image/label: non-normalized or out of bounds coordinates [     1.0017      1.0017      1.0012      1.0016      1.0013      1.0015      1.0005]\n",
            "\u001b[34m\u001b[1mtrain: \u001b[0mWARNING ⚠️ /content/shelves-5/train/images/train_1592_jpg.rf.e0ae9eebe4727da54afd13448062244a.jpg: ignoring corrupt image/label: non-normalized or out of bounds coordinates [     1.0018      1.0018      1.0013      1.0017      1.0013      1.0016      1.0005]\n",
            "\u001b[34m\u001b[1mtrain: \u001b[0mWARNING ⚠️ /content/shelves-5/train/images/train_1596_jpg.rf.3f82b200c8f21b85bbfe346295d9b945.jpg: ignoring corrupt image/label: non-normalized or out of bounds coordinates [     1.0085      1.0054]\n",
            "\u001b[34m\u001b[1mtrain: \u001b[0mWARNING ⚠️ /content/shelves-5/train/images/train_1596_jpg.rf.c66b6af67d0cabd35108fdac9d98d2ff.jpg: ignoring corrupt image/label: non-normalized or out of bounds coordinates [     1.0083]\n",
            "\u001b[34m\u001b[1mtrain: \u001b[0mWARNING ⚠️ /content/shelves-5/train/images/train_1596_jpg.rf.e66cf5d77e8e00cffe935b12eca924d9.jpg: ignoring corrupt image/label: non-normalized or out of bounds coordinates [     1.0088      1.0058]\n",
            "\u001b[34m\u001b[1mtrain: \u001b[0mWARNING ⚠️ /content/shelves-5/train/images/train_1598_jpg.rf.3ef163891c62cecd4c26e77a872268bd.jpg: ignoring corrupt image/label: non-normalized or out of bounds coordinates [     1.0003      1.0001      1.0031      1.0037       1.004      1.0071]\n",
            "\u001b[34m\u001b[1mtrain: \u001b[0mWARNING ⚠️ /content/shelves-5/train/images/train_1598_jpg.rf.44d6b250e81e740b5977b99951b1e4fc.jpg: ignoring corrupt image/label: non-normalized or out of bounds coordinates [     1.0004      1.0019      1.0031      1.0037       1.004      1.0071]\n",
            "\u001b[34m\u001b[1mtrain: \u001b[0mWARNING ⚠️ /content/shelves-5/train/images/train_1598_jpg.rf.d4302895d6b255922f6d9cc5ee2758a1.jpg: ignoring corrupt image/label: non-normalized or out of bounds coordinates [     1.0004      1.0019      1.0031      1.0037       1.004      1.0071]\n",
            "\u001b[34m\u001b[1mtrain: \u001b[0mWARNING ⚠️ /content/shelves-5/train/images/train_1601_jpg.rf.4a7674e2f78eebe5431f14e5eb3bb5fe.jpg: ignoring corrupt image/label: non-normalized or out of bounds coordinates [     1.0008]\n",
            "\u001b[34m\u001b[1mtrain: \u001b[0mWARNING ⚠️ /content/shelves-5/train/images/train_1601_jpg.rf.d9c861050c752f6deb549ec734891a12.jpg: ignoring corrupt image/label: non-normalized or out of bounds coordinates [     1.0008]\n",
            "\u001b[34m\u001b[1mtrain: \u001b[0mWARNING ⚠️ /content/shelves-5/train/images/train_1601_jpg.rf.e630614d78e7f075e3df6f62c237d9de.jpg: ignoring corrupt image/label: non-normalized or out of bounds coordinates [     1.0008]\n",
            "\u001b[34m\u001b[1mtrain: \u001b[0mWARNING ⚠️ /content/shelves-5/train/images/train_1603_jpg.rf.4073f9a1d05bc873094c815a76edd57d.jpg: ignoring corrupt image/label: non-normalized or out of bounds coordinates [     1.0214      1.0058      1.0165      1.0396      1.0541      1.0389]\n",
            "\u001b[34m\u001b[1mtrain: \u001b[0mWARNING ⚠️ /content/shelves-5/train/images/train_1603_jpg.rf.ddc8c2e258bd6582b1318a5ce439be36.jpg: ignoring corrupt image/label: non-normalized or out of bounds coordinates [       1.02      1.0055      1.0101      1.0337      1.0503      1.0352]\n",
            "\u001b[34m\u001b[1mtrain: \u001b[0mWARNING ⚠️ /content/shelves-5/train/images/train_1603_jpg.rf.f820dc474b965286264f80c8065f7d84.jpg: ignoring corrupt image/label: non-normalized or out of bounds coordinates [     1.0222      1.0055      1.0158      1.0436      1.0221]\n",
            "\u001b[34m\u001b[1mtrain: \u001b[0mWARNING ⚠️ /content/shelves-5/train/images/train_1604_jpg.rf.06d9b2aa67351a597ebff192683483c0.jpg: ignoring corrupt image/label: non-normalized or out of bounds coordinates [          1       1.002      1.0066]\n",
            "\u001b[34m\u001b[1mtrain: \u001b[0mWARNING ⚠️ /content/shelves-5/train/images/train_1604_jpg.rf.17981877c8b4f10a8c4895794568026a.jpg: ignoring corrupt image/label: non-normalized or out of bounds coordinates [     1.0004      1.0013      1.0093      1.0128]\n",
            "\u001b[34m\u001b[1mtrain: \u001b[0mWARNING ⚠️ /content/shelves-5/train/images/train_1604_jpg.rf.2bff821c3f72504a7918f0eacc22daf6.jpg: ignoring corrupt image/label: non-normalized or out of bounds coordinates [     1.0004      1.0013       1.009      1.0124]\n",
            "\u001b[34m\u001b[1mtrain: \u001b[0mWARNING ⚠️ /content/shelves-5/train/images/train_1605_jpg.rf.19aa1261c86cb9cb0ec635a0963941e7.jpg: ignoring corrupt image/label: non-normalized or out of bounds coordinates [     1.0015      1.0371      1.0316]\n",
            "\u001b[34m\u001b[1mtrain: \u001b[0mWARNING ⚠️ /content/shelves-5/train/images/train_1605_jpg.rf.233695b42ce6937fbbca903ee7ee48b6.jpg: ignoring corrupt image/label: non-normalized or out of bounds coordinates [     1.0013       1.036      1.0301]\n",
            "\u001b[34m\u001b[1mtrain: \u001b[0mWARNING ⚠️ /content/shelves-5/train/images/train_1605_jpg.rf.be09af647e75a35bacbb7b58a5fe7faf.jpg: ignoring corrupt image/label: non-normalized or out of bounds coordinates [     1.0015      1.0383      1.0497]\n",
            "\u001b[34m\u001b[1mtrain: \u001b[0mWARNING ⚠️ /content/shelves-5/train/images/train_1606_jpg.rf.3933d4a4e4c4aa5be08184fb196d56ee.jpg: ignoring corrupt image/label: non-normalized or out of bounds coordinates [      1.062]\n",
            "\u001b[34m\u001b[1mtrain: \u001b[0mWARNING ⚠️ /content/shelves-5/train/images/train_1606_jpg.rf.554dcd01b0ffa148244507c19a51834b.jpg: ignoring corrupt image/label: non-normalized or out of bounds coordinates [     1.0657]\n",
            "\u001b[34m\u001b[1mtrain: \u001b[0mWARNING ⚠️ /content/shelves-5/train/images/train_1606_jpg.rf.6cb134b9df72abcbc992cb449a3fa398.jpg: ignoring corrupt image/label: non-normalized or out of bounds coordinates [     1.0699]\n",
            "\u001b[34m\u001b[1mtrain: \u001b[0mWARNING ⚠️ /content/shelves-5/train/images/train_1610_jpg.rf.3a8f5ef0d23bee1174bfe86cae1624a0.jpg: ignoring corrupt image/label: non-normalized or out of bounds coordinates [     1.0037           1           1      1.0004]\n",
            "\u001b[34m\u001b[1mtrain: \u001b[0mWARNING ⚠️ /content/shelves-5/train/images/train_1610_jpg.rf.817c8f148be660cb4c889350e8b34b08.jpg: ignoring corrupt image/label: non-normalized or out of bounds coordinates [     1.0036           1           1      1.0004]\n",
            "\u001b[34m\u001b[1mtrain: \u001b[0mWARNING ⚠️ /content/shelves-5/train/images/train_1610_jpg.rf.9111039fb52bdd2b54ca8d9dd28ef32c.jpg: ignoring corrupt image/label: non-normalized or out of bounds coordinates [     1.0039           1           1      1.0004]\n",
            "\u001b[34m\u001b[1mtrain: \u001b[0mWARNING ⚠️ /content/shelves-5/train/images/train_1611_jpg.rf.1348bcc79fc2bad96c17af5cab717f7c.jpg: ignoring corrupt image/label: non-normalized or out of bounds coordinates [     1.0004      1.0009      1.0005      1.0005]\n",
            "\u001b[34m\u001b[1mtrain: \u001b[0mWARNING ⚠️ /content/shelves-5/train/images/train_1611_jpg.rf.c3664aae0f12ac0bc398c1ef12b3cf83.jpg: ignoring corrupt image/label: non-normalized or out of bounds coordinates [      1.001      1.0005      1.0005]\n",
            "\u001b[34m\u001b[1mtrain: \u001b[0mWARNING ⚠️ /content/shelves-5/train/images/train_1611_jpg.rf.d18dfd3f3bafd284a593af2fefa8c8c5.jpg: ignoring corrupt image/label: non-normalized or out of bounds coordinates [      1.001      1.0005      1.0005]\n",
            "\u001b[34m\u001b[1mtrain: \u001b[0mWARNING ⚠️ /content/shelves-5/train/images/train_1613_jpg.rf.7ddad4b8dc9010615c83e455a09f4371.jpg: ignoring corrupt image/label: non-normalized or out of bounds coordinates [     1.0067]\n",
            "\u001b[34m\u001b[1mtrain: \u001b[0mWARNING ⚠️ /content/shelves-5/train/images/train_1613_jpg.rf.f2fb0e9f95eac0c1afae097e87aec652.jpg: ignoring corrupt image/label: non-normalized or out of bounds coordinates [     1.0051]\n",
            "\u001b[34m\u001b[1mtrain: \u001b[0mWARNING ⚠️ /content/shelves-5/train/images/train_1613_jpg.rf.f56841594e4a1e5741e8082e2b2eb674.jpg: ignoring corrupt image/label: non-normalized or out of bounds coordinates [     1.0062]\n",
            "\u001b[34m\u001b[1mtrain: \u001b[0mWARNING ⚠️ /content/shelves-5/train/images/train_1614_jpg.rf.0bc10e35621588fffee792c181a8b25a.jpg: ignoring corrupt image/label: non-normalized or out of bounds coordinates [     1.0481      1.0179]\n",
            "\u001b[34m\u001b[1mtrain: \u001b[0mWARNING ⚠️ /content/shelves-5/train/images/train_1614_jpg.rf.204a9f78f05bb29e82a97466d68300a5.jpg: ignoring corrupt image/label: non-normalized or out of bounds coordinates [     1.0468      1.0164]\n",
            "\u001b[34m\u001b[1mtrain: \u001b[0mWARNING ⚠️ /content/shelves-5/train/images/train_1614_jpg.rf.d1b1039719d32726b286b623c10355f0.jpg: ignoring corrupt image/label: non-normalized or out of bounds coordinates [     1.0491]\n",
            "\u001b[34m\u001b[1mtrain: \u001b[0mWARNING ⚠️ /content/shelves-5/train/images/train_1615_jpg.rf.18d561aa8a94828eaf3c7e19bfb2ee02.jpg: ignoring corrupt image/label: non-normalized or out of bounds coordinates [     1.0027      1.0023       1.002      1.0072]\n",
            "\u001b[34m\u001b[1mtrain: \u001b[0mWARNING ⚠️ /content/shelves-5/train/images/train_1615_jpg.rf.658c4d1a0d5266dd929768195dc34b9c.jpg: ignoring corrupt image/label: non-normalized or out of bounds coordinates [     1.0027      1.0023      1.0024      1.0084]\n",
            "\u001b[34m\u001b[1mtrain: \u001b[0mWARNING ⚠️ /content/shelves-5/train/images/train_1615_jpg.rf.9918a89f8d96ecb29bc0a2dea4182f1d.jpg: ignoring corrupt image/label: non-normalized or out of bounds coordinates [     1.0029      1.0025      1.0029      1.0084]\n",
            "\u001b[34m\u001b[1mtrain: \u001b[0mWARNING ⚠️ /content/shelves-5/train/images/train_1616_jpg.rf.14a8c418fcc30dee4d75719d06892476.jpg: ignoring corrupt image/label: non-normalized or out of bounds coordinates [     1.0164      1.0161      1.0091      1.0049      1.0029]\n",
            "\u001b[34m\u001b[1mtrain: \u001b[0mWARNING ⚠️ /content/shelves-5/train/images/train_1616_jpg.rf.4150985359c33d57a2c562f38fc8d4e6.jpg: ignoring corrupt image/label: non-normalized or out of bounds coordinates [     1.0155      1.0158      1.0089      1.0005           1           1]\n",
            "\u001b[34m\u001b[1mtrain: \u001b[0mWARNING ⚠️ /content/shelves-5/train/images/train_1616_jpg.rf.55bed7e81e4950dc5105396380f15107.jpg: ignoring corrupt image/label: non-normalized or out of bounds coordinates [     1.0155      1.0155      1.0087      1.0047      1.0028      1.0005]\n",
            "\u001b[34m\u001b[1mtrain: \u001b[0mWARNING ⚠️ /content/shelves-5/train/images/train_1619_jpg.rf.08e2b86c9c619f23e5382242f4e2d076.jpg: ignoring corrupt image/label: non-normalized or out of bounds coordinates [     1.0051      1.0065      1.0048      1.0011      1.0004      1.0045]\n",
            "\u001b[34m\u001b[1mtrain: \u001b[0mWARNING ⚠️ /content/shelves-5/train/images/train_1619_jpg.rf.469634be6e2d699ef7c427362619ec27.jpg: ignoring corrupt image/label: non-normalized or out of bounds coordinates [     1.0035      1.0057      1.0064      1.0048       1.001      1.0004]\n",
            "\u001b[34m\u001b[1mtrain: \u001b[0mWARNING ⚠️ /content/shelves-5/train/images/train_1619_jpg.rf.fc499f97cacf0734a6201e5eaf4db7bc.jpg: ignoring corrupt image/label: non-normalized or out of bounds coordinates [     1.0037      1.0061      1.0045      1.0004      1.0043]\n",
            "\u001b[34m\u001b[1mtrain: \u001b[0mWARNING ⚠️ /content/shelves-5/train/images/train_1620_jpg.rf.4aef6da929e9e87a854326e4c1fd8cc3.jpg: ignoring corrupt image/label: non-normalized or out of bounds coordinates [     1.0041      1.0003]\n",
            "\u001b[34m\u001b[1mtrain: \u001b[0mWARNING ⚠️ /content/shelves-5/train/images/train_1621_jpg.rf.2fef61068e6ff153b03d4d8a2ab2d011.jpg: ignoring corrupt image/label: non-normalized or out of bounds coordinates [     1.0082      1.0024       1.006       1.005      1.0033      1.0036      1.0057]\n",
            "\u001b[34m\u001b[1mtrain: \u001b[0mWARNING ⚠️ /content/shelves-5/train/images/train_1621_jpg.rf.5cdb3ff800a46222f6d66c363d86ceb5.jpg: ignoring corrupt image/label: non-normalized or out of bounds coordinates [     1.0081      1.0031       1.006       1.005      1.0033      1.0037      1.0057]\n",
            "\u001b[34m\u001b[1mtrain: \u001b[0mWARNING ⚠️ /content/shelves-5/train/images/train_1621_jpg.rf.de6f8858872a6cc074104eac15d0eade.jpg: ignoring corrupt image/label: non-normalized or out of bounds coordinates [     1.0078      1.0024      1.0058      1.0048      1.0032      1.0035      1.0058]\n",
            "\u001b[34m\u001b[1mtrain: \u001b[0mWARNING ⚠️ /content/shelves-5/train/images/train_1622_jpg.rf.7def33bd44c29c773b65b26462eece6b.jpg: ignoring corrupt image/label: non-normalized or out of bounds coordinates [          1      1.0054]\n",
            "\u001b[34m\u001b[1mtrain: \u001b[0mWARNING ⚠️ /content/shelves-5/train/images/train_1622_jpg.rf.c27929d91d5ae3cf99893e8ac37ab0e3.jpg: ignoring corrupt image/label: non-normalized or out of bounds coordinates [          1]\n",
            "\u001b[34m\u001b[1mtrain: \u001b[0mWARNING ⚠️ /content/shelves-5/train/images/train_1622_jpg.rf.d98675299977286336f21efa18b0aec0.jpg: ignoring corrupt image/label: non-normalized or out of bounds coordinates [          1      1.0019]\n",
            "\u001b[34m\u001b[1mtrain: \u001b[0mWARNING ⚠️ /content/shelves-5/train/images/train_1623_jpg.rf.beee4d8494a52448af11251268c85786.jpg: ignoring corrupt image/label: non-normalized or out of bounds coordinates [     1.0035]\n",
            "\u001b[34m\u001b[1mtrain: \u001b[0mWARNING ⚠️ /content/shelves-5/train/images/train_1623_jpg.rf.c2fc379e9f2ac273e54c2115731e7af6.jpg: ignoring corrupt image/label: non-normalized or out of bounds coordinates [     1.0025]\n",
            "\u001b[34m\u001b[1mtrain: \u001b[0mWARNING ⚠️ /content/shelves-5/train/images/train_1623_jpg.rf.f312940daa5d0c569dce24e379c66a00.jpg: ignoring corrupt image/label: non-normalized or out of bounds coordinates [      1.002]\n",
            "\u001b[34m\u001b[1mtrain: \u001b[0mWARNING ⚠️ /content/shelves-5/train/images/train_1624_jpg.rf.36d0282eb59683b5129d7205fb4f9258.jpg: ignoring corrupt image/label: non-normalized or out of bounds coordinates [     1.0009]\n",
            "\u001b[34m\u001b[1mtrain: \u001b[0mWARNING ⚠️ /content/shelves-5/train/images/train_1624_jpg.rf.6a8a7fcdd7a6a4602c3f1c104cef0b78.jpg: ignoring corrupt image/label: non-normalized or out of bounds coordinates [     1.0009]\n",
            "\u001b[34m\u001b[1mtrain: \u001b[0mWARNING ⚠️ /content/shelves-5/train/images/train_1624_jpg.rf.fe83e1b1b5e283ec4b962ace0f62b01c.jpg: ignoring corrupt image/label: non-normalized or out of bounds coordinates [     1.0008]\n",
            "\u001b[34m\u001b[1mtrain: \u001b[0mWARNING ⚠️ /content/shelves-5/train/images/train_1625_jpg.rf.7bf2d7f5de41b5a906b512cb02122537.jpg: ignoring corrupt image/label: non-normalized or out of bounds coordinates [     1.0043]\n",
            "\u001b[34m\u001b[1mtrain: \u001b[0mWARNING ⚠️ /content/shelves-5/train/images/train_1625_jpg.rf.b6e9ff618876a7b36cf9da4a77b915ae.jpg: ignoring corrupt image/label: non-normalized or out of bounds coordinates [     1.0044]\n",
            "\u001b[34m\u001b[1mtrain: \u001b[0mWARNING ⚠️ /content/shelves-5/train/images/train_1625_jpg.rf.fe05ba4dc469a60d342e6b08ac375ea5.jpg: ignoring corrupt image/label: non-normalized or out of bounds coordinates [     1.0044]\n",
            "\u001b[34m\u001b[1mtrain: \u001b[0mWARNING ⚠️ /content/shelves-5/train/images/train_1630_jpg.rf.6f8289e2c6328fb4d81eab51b57cbd04.jpg: ignoring corrupt image/label: non-normalized or out of bounds coordinates [     1.0044      1.0024]\n",
            "\u001b[34m\u001b[1mtrain: \u001b[0mWARNING ⚠️ /content/shelves-5/train/images/train_1630_jpg.rf.895a8589513184400d7d19588df8e789.jpg: ignoring corrupt image/label: non-normalized or out of bounds coordinates [     1.0057      1.0036]\n",
            "\u001b[34m\u001b[1mtrain: \u001b[0mWARNING ⚠️ /content/shelves-5/train/images/train_1630_jpg.rf.d6306206348216756baea74d32b64230.jpg: ignoring corrupt image/label: non-normalized or out of bounds coordinates [     1.0129       1.004]\n",
            "\u001b[34m\u001b[1mtrain: \u001b[0mWARNING ⚠️ /content/shelves-5/train/images/train_1631_jpg.rf.c898cf3187cb793f6e857b0b413aa27f.jpg: ignoring corrupt image/label: non-normalized or out of bounds coordinates [     1.0006]\n",
            "\u001b[34m\u001b[1mtrain: \u001b[0mWARNING ⚠️ /content/shelves-5/train/images/train_1632_jpg.rf.0d9a0abb60b2653c605f25ec7970307a.jpg: ignoring corrupt image/label: non-normalized or out of bounds coordinates [     1.0002      1.0004      1.0002]\n",
            "\u001b[34m\u001b[1mtrain: \u001b[0mWARNING ⚠️ /content/shelves-5/train/images/train_1632_jpg.rf.9da5902acf727942a9d0ddfdbadfbab0.jpg: ignoring corrupt image/label: non-normalized or out of bounds coordinates [     1.0002      1.0004      1.0002]\n",
            "\u001b[34m\u001b[1mtrain: \u001b[0mWARNING ⚠️ /content/shelves-5/train/images/train_1632_jpg.rf.cfc25fde4d98ae32b2ff1773e7d392ad.jpg: ignoring corrupt image/label: non-normalized or out of bounds coordinates [     1.0002      1.0004      1.0002]\n",
            "\u001b[34m\u001b[1mtrain: \u001b[0mWARNING ⚠️ /content/shelves-5/train/images/train_1635_jpg.rf.03b32d483fe4619fa4b8ecd9d4f2596f.jpg: ignoring corrupt image/label: non-normalized or out of bounds coordinates [     1.0018      1.0004      1.0009      1.0034      1.0069      1.0066]\n",
            "\u001b[34m\u001b[1mtrain: \u001b[0mWARNING ⚠️ /content/shelves-5/train/images/train_1635_jpg.rf.280360edb5b6ec288cebb504f77e5d13.jpg: ignoring corrupt image/label: non-normalized or out of bounds coordinates [     1.0004      1.0033      1.0025      1.0056]\n",
            "\u001b[34m\u001b[1mtrain: \u001b[0mWARNING ⚠️ /content/shelves-5/train/images/train_1635_jpg.rf.d88509ed3c1dbc955a49513f4abbfb6f.jpg: ignoring corrupt image/label: non-normalized or out of bounds coordinates [     1.0017      1.0004      1.0021      1.0046      1.0065]\n",
            "\u001b[34m\u001b[1mtrain: \u001b[0mWARNING ⚠️ /content/shelves-5/train/images/train_163_jpg.rf.501145674741690060db9dbce1119aa0.jpg: ignoring corrupt image/label: non-normalized or out of bounds coordinates [     1.0228      1.0209      1.0631]\n",
            "\u001b[34m\u001b[1mtrain: \u001b[0mWARNING ⚠️ /content/shelves-5/train/images/train_163_jpg.rf.dd3c00592a406b43a642ad7f48ab4d88.jpg: ignoring corrupt image/label: non-normalized or out of bounds coordinates [     1.0212      1.0179      1.0598]\n",
            "\u001b[34m\u001b[1mtrain: \u001b[0mWARNING ⚠️ /content/shelves-5/train/images/train_163_jpg.rf.e061e53b7a1d6f5af0ac720468033def.jpg: ignoring corrupt image/label: non-normalized or out of bounds coordinates [     1.0099      1.0074       1.049]\n",
            "\u001b[34m\u001b[1mtrain: \u001b[0mWARNING ⚠️ /content/shelves-5/train/images/train_1640_jpg.rf.8722da09ce9d714e27be370b31884b34.jpg: ignoring corrupt image/label: non-normalized or out of bounds coordinates [     1.0351]\n",
            "\u001b[34m\u001b[1mtrain: \u001b[0mWARNING ⚠️ /content/shelves-5/train/images/train_1640_jpg.rf.e98b036cfefd6f4d9ce05ad7684c8fc1.jpg: ignoring corrupt image/label: non-normalized or out of bounds coordinates [     1.0355]\n",
            "\u001b[34m\u001b[1mtrain: \u001b[0mWARNING ⚠️ /content/shelves-5/train/images/train_1640_jpg.rf.f5701084fffb97ad1b70bae26803cd43.jpg: ignoring corrupt image/label: non-normalized or out of bounds coordinates [     1.0372]\n",
            "\u001b[34m\u001b[1mtrain: \u001b[0mWARNING ⚠️ /content/shelves-5/train/images/train_1643_jpg.rf.3ab293c88cac8c3ea6490f81be103b53.jpg: ignoring corrupt image/label: non-normalized or out of bounds coordinates [     1.0022      1.0035       1.003      1.0001]\n",
            "\u001b[34m\u001b[1mtrain: \u001b[0mWARNING ⚠️ /content/shelves-5/train/images/train_1643_jpg.rf.ae82d85d84d536e1e21af2811d6bd75f.jpg: ignoring corrupt image/label: non-normalized or out of bounds coordinates [     1.0022      1.0033      1.0029]\n",
            "\u001b[34m\u001b[1mtrain: \u001b[0mWARNING ⚠️ /content/shelves-5/train/images/train_1643_jpg.rf.b06a755cc09afba46537e105d8c8ea14.jpg: ignoring corrupt image/label: non-normalized or out of bounds coordinates [     1.0021      1.0033      1.0028]\n",
            "\u001b[34m\u001b[1mtrain: \u001b[0mWARNING ⚠️ /content/shelves-5/train/images/train_1644_jpg.rf.10d21ad7869d931ef858fc3eea3520d0.jpg: ignoring corrupt image/label: non-normalized or out of bounds coordinates [     1.0042]\n",
            "\u001b[34m\u001b[1mtrain: \u001b[0mWARNING ⚠️ /content/shelves-5/train/images/train_1644_jpg.rf.e7dfe664eece5517aa65e769e5bc1676.jpg: ignoring corrupt image/label: non-normalized or out of bounds coordinates [     1.0028]\n",
            "\u001b[34m\u001b[1mtrain: \u001b[0mWARNING ⚠️ /content/shelves-5/train/images/train_1645_jpg.rf.cc63ff81e2aa9d4010d7d345b5a0ffc4.jpg: ignoring corrupt image/label: non-normalized or out of bounds coordinates [     1.0039]\n",
            "\u001b[34m\u001b[1mtrain: \u001b[0mWARNING ⚠️ /content/shelves-5/train/images/train_1645_jpg.rf.f7904c7d52bd6c282321ee4a253e2014.jpg: ignoring corrupt image/label: non-normalized or out of bounds coordinates [     1.0039]\n",
            "\u001b[34m\u001b[1mtrain: \u001b[0mWARNING ⚠️ /content/shelves-5/train/images/train_1645_jpg.rf.f9b56d5f6af37a90d93f9b4a9e661123.jpg: ignoring corrupt image/label: non-normalized or out of bounds coordinates [     1.0039]\n",
            "\u001b[34m\u001b[1mtrain: \u001b[0mWARNING ⚠️ /content/shelves-5/train/images/train_1647_jpg.rf.6cf7c9792f04d14efb8cc9b52eab7361.jpg: ignoring corrupt image/label: non-normalized or out of bounds coordinates [      1.002]\n",
            "\u001b[34m\u001b[1mtrain: \u001b[0mWARNING ⚠️ /content/shelves-5/train/images/train_1648_jpg.rf.3d42b6470e3700ea42d916ad8d34b2d2.jpg: ignoring corrupt image/label: non-normalized or out of bounds coordinates [     1.0102]\n",
            "\u001b[34m\u001b[1mtrain: \u001b[0mWARNING ⚠️ /content/shelves-5/train/images/train_1648_jpg.rf.bde474e9e918aea21f6bd0b5fff16312.jpg: ignoring corrupt image/label: non-normalized or out of bounds coordinates [     1.0098]\n",
            "\u001b[34m\u001b[1mtrain: \u001b[0mWARNING ⚠️ /content/shelves-5/train/images/train_1649_jpg.rf.7fc405e21eea217da886ee5c37b3a6fb.jpg: ignoring corrupt image/label: non-normalized or out of bounds coordinates [          1]\n",
            "\u001b[34m\u001b[1mtrain: \u001b[0mWARNING ⚠️ /content/shelves-5/train/images/train_1652_jpg.rf.759b6df88d63fe6f68d498f3e303406d.jpg: ignoring corrupt image/label: non-normalized or out of bounds coordinates [     1.0482]\n",
            "\u001b[34m\u001b[1mtrain: \u001b[0mWARNING ⚠️ /content/shelves-5/train/images/train_1652_jpg.rf.8cc47020c4f77a99b22a55678b9eb9c9.jpg: ignoring corrupt image/label: non-normalized or out of bounds coordinates [       1.05]\n",
            "\u001b[34m\u001b[1mtrain: \u001b[0mWARNING ⚠️ /content/shelves-5/train/images/train_1652_jpg.rf.c4eaaf7c42fa7e2047c944056d555d08.jpg: ignoring corrupt image/label: non-normalized or out of bounds coordinates [     1.0498]\n",
            "\u001b[34m\u001b[1mtrain: \u001b[0mWARNING ⚠️ /content/shelves-5/train/images/train_1654_jpg.rf.d59dcf9b0bdb4c8886ba006c04fd3f26.jpg: ignoring corrupt image/label: non-normalized or out of bounds coordinates [     1.0019]\n",
            "\u001b[34m\u001b[1mtrain: \u001b[0mWARNING ⚠️ /content/shelves-5/train/images/train_1654_jpg.rf.e48939c1164e282979c2e92f48ae49f2.jpg: ignoring corrupt image/label: non-normalized or out of bounds coordinates [     1.0019]\n",
            "\u001b[34m\u001b[1mtrain: \u001b[0mWARNING ⚠️ /content/shelves-5/train/images/train_1655_jpg.rf.18f62d0f2534613690b8585b8eaf4c68.jpg: ignoring corrupt image/label: non-normalized or out of bounds coordinates [     1.0004      1.0331]\n",
            "\u001b[34m\u001b[1mtrain: \u001b[0mWARNING ⚠️ /content/shelves-5/train/images/train_1655_jpg.rf.a8bcbf36f3e6137249106e772e373ab1.jpg: ignoring corrupt image/label: non-normalized or out of bounds coordinates [     1.0004]\n",
            "\u001b[34m\u001b[1mtrain: \u001b[0mWARNING ⚠️ /content/shelves-5/train/images/train_1655_jpg.rf.ae0d9336580ab84cf43c110919ece60f.jpg: ignoring corrupt image/label: non-normalized or out of bounds coordinates [      1.036]\n",
            "\u001b[34m\u001b[1mtrain: \u001b[0mWARNING ⚠️ /content/shelves-5/train/images/train_1656_jpg.rf.46fb35fe1275b97883f1f15539471977.jpg: ignoring corrupt image/label: non-normalized or out of bounds coordinates [     1.0005]\n",
            "\u001b[34m\u001b[1mtrain: \u001b[0mWARNING ⚠️ /content/shelves-5/train/images/train_1656_jpg.rf.b673d40b547c35c48421d35eeae8db6a.jpg: ignoring corrupt image/label: non-normalized or out of bounds coordinates [     1.0005]\n",
            "\u001b[34m\u001b[1mtrain: \u001b[0mWARNING ⚠️ /content/shelves-5/train/images/train_1656_jpg.rf.e6253cbbe391b5fdde57b5acfc11834c.jpg: ignoring corrupt image/label: non-normalized or out of bounds coordinates [     1.0005]\n",
            "\u001b[34m\u001b[1mtrain: \u001b[0mWARNING ⚠️ /content/shelves-5/train/images/train_1658_jpg.rf.2d26cf0ec04257d29e039608f072b122.jpg: ignoring corrupt image/label: non-normalized or out of bounds coordinates [     1.0024]\n",
            "\u001b[34m\u001b[1mtrain: \u001b[0mWARNING ⚠️ /content/shelves-5/train/images/train_1658_jpg.rf.699ccfbbfee1465fcfc08a2bae9d6f95.jpg: ignoring corrupt image/label: non-normalized or out of bounds coordinates [     1.0024]\n",
            "\u001b[34m\u001b[1mtrain: \u001b[0mWARNING ⚠️ /content/shelves-5/train/images/train_1658_jpg.rf.db40a9ffbf06d9e038cfd4ee7ffd8a89.jpg: ignoring corrupt image/label: non-normalized or out of bounds coordinates [     1.0025]\n",
            "\u001b[34m\u001b[1mtrain: \u001b[0mWARNING ⚠️ /content/shelves-5/train/images/train_1659_jpg.rf.46c12d5e98395b708c8e38f40e414e4d.jpg: ignoring corrupt image/label: non-normalized or out of bounds coordinates [     1.0017]\n",
            "\u001b[34m\u001b[1mtrain: \u001b[0mWARNING ⚠️ /content/shelves-5/train/images/train_1659_jpg.rf.c52deefe5ceb0f6cc68d9600104a8a03.jpg: ignoring corrupt image/label: non-normalized or out of bounds coordinates [     1.0017]\n",
            "\u001b[34m\u001b[1mtrain: \u001b[0mWARNING ⚠️ /content/shelves-5/train/images/train_1659_jpg.rf.ca5b954ea8042f99a15f41b404e477c2.jpg: ignoring corrupt image/label: non-normalized or out of bounds coordinates [     1.0016]\n",
            "\u001b[34m\u001b[1mtrain: \u001b[0mWARNING ⚠️ /content/shelves-5/train/images/train_1660_jpg.rf.6a59735c957fbca29fe8716d733a59dd.jpg: ignoring corrupt image/label: non-normalized or out of bounds coordinates [     1.0181      1.0635]\n",
            "\u001b[34m\u001b[1mtrain: \u001b[0mWARNING ⚠️ /content/shelves-5/train/images/train_1660_jpg.rf.e1f17a99d355f565a60b8b4da197a14c.jpg: ignoring corrupt image/label: non-normalized or out of bounds coordinates [     1.0259      1.0059      1.0508       1.057]\n",
            "\u001b[34m\u001b[1mtrain: \u001b[0mWARNING ⚠️ /content/shelves-5/train/images/train_1660_jpg.rf.f246be73ffec8f5abcf081615cdf3b85.jpg: ignoring corrupt image/label: non-normalized or out of bounds coordinates [     1.0445      1.0241      1.0699      1.0787]\n",
            "\u001b[34m\u001b[1mtrain: \u001b[0mWARNING ⚠️ /content/shelves-5/train/images/train_1661_jpg.rf.ad5ebb4eba444c0fa6a9efd73306a6f8.jpg: ignoring corrupt image/label: non-normalized or out of bounds coordinates [     1.0038]\n",
            "\u001b[34m\u001b[1mtrain: \u001b[0mWARNING ⚠️ /content/shelves-5/train/images/train_1661_jpg.rf.aeebd24e217892765491a0fcdee0f11e.jpg: ignoring corrupt image/label: non-normalized or out of bounds coordinates [     1.0037]\n",
            "\u001b[34m\u001b[1mtrain: \u001b[0mWARNING ⚠️ /content/shelves-5/train/images/train_1661_jpg.rf.ffe9d859a1c0ddd326f4591102da8ab6.jpg: ignoring corrupt image/label: non-normalized or out of bounds coordinates [     1.0039]\n",
            "\u001b[34m\u001b[1mtrain: \u001b[0mWARNING ⚠️ /content/shelves-5/train/images/train_1662_jpg.rf.14dcdd569f58208fa6227d44fc849bf5.jpg: ignoring corrupt image/label: non-normalized or out of bounds coordinates [       1.01]\n",
            "\u001b[34m\u001b[1mtrain: \u001b[0mWARNING ⚠️ /content/shelves-5/train/images/train_1662_jpg.rf.76c31d3001215ca04b47b829b38c242f.jpg: ignoring corrupt image/label: non-normalized or out of bounds coordinates [     1.0101]\n",
            "\u001b[34m\u001b[1mtrain: \u001b[0mWARNING ⚠️ /content/shelves-5/train/images/train_1662_jpg.rf.ef52a631cfbc9b2b331081187ce52740.jpg: ignoring corrupt image/label: non-normalized or out of bounds coordinates [          1      1.0098]\n",
            "\u001b[34m\u001b[1mtrain: \u001b[0mWARNING ⚠️ /content/shelves-5/train/images/train_1663_jpg.rf.5b04f7eed7c20449147d4155fef0594c.jpg: ignoring corrupt image/label: non-normalized or out of bounds coordinates [     1.0013      1.0017]\n",
            "\u001b[34m\u001b[1mtrain: \u001b[0mWARNING ⚠️ /content/shelves-5/train/images/train_1663_jpg.rf.81fe6178837e3a910e6f3dc21640601b.jpg: ignoring corrupt image/label: non-normalized or out of bounds coordinates [     1.0013      1.0016      1.0021]\n",
            "\u001b[34m\u001b[1mtrain: \u001b[0mWARNING ⚠️ /content/shelves-5/train/images/train_1663_jpg.rf.c4b47b11471dadfeb28186370f76b537.jpg: ignoring corrupt image/label: non-normalized or out of bounds coordinates [     1.0013      1.0017      1.0022]\n",
            "\u001b[34m\u001b[1mtrain: \u001b[0mWARNING ⚠️ /content/shelves-5/train/images/train_1667_jpg.rf.1f54155b05de514294a7c47cc60dcacf.jpg: ignoring corrupt image/label: non-normalized or out of bounds coordinates [     1.0013      1.0011      1.0018      1.0044]\n",
            "\u001b[34m\u001b[1mtrain: \u001b[0mWARNING ⚠️ /content/shelves-5/train/images/train_1667_jpg.rf.90e4d9031b35b0843e6cb0364b0ce057.jpg: ignoring corrupt image/label: non-normalized or out of bounds coordinates [      1.001      1.0018      1.0041]\n",
            "\u001b[34m\u001b[1mtrain: \u001b[0mWARNING ⚠️ /content/shelves-5/train/images/train_1667_jpg.rf.ff9ab57d0cc13bb533adaa87e67da45c.jpg: ignoring corrupt image/label: non-normalized or out of bounds coordinates [     1.0015      1.0011      1.0018      1.0041]\n",
            "\u001b[34m\u001b[1mtrain: \u001b[0mWARNING ⚠️ /content/shelves-5/train/images/train_1669_jpg.rf.5c967af8126762923fce748d59edcd54.jpg: ignoring corrupt image/label: non-normalized or out of bounds coordinates [     1.0015      1.0032      1.0039      1.0049]\n",
            "\u001b[34m\u001b[1mtrain: \u001b[0mWARNING ⚠️ /content/shelves-5/train/images/train_1669_jpg.rf.d958e272129c677cb8fd132d29027405.jpg: ignoring corrupt image/label: non-normalized or out of bounds coordinates [     1.0041      1.0015      1.0032      1.0039           1]\n",
            "\u001b[34m\u001b[1mtrain: \u001b[0mWARNING ⚠️ /content/shelves-5/train/images/train_1669_jpg.rf.edbd3d58604535fa478d990baddaf380.jpg: ignoring corrupt image/label: non-normalized or out of bounds coordinates [     1.0038      1.0014      1.0029]\n",
            "\u001b[34m\u001b[1mtrain: \u001b[0mWARNING ⚠️ /content/shelves-5/train/images/train_1674_jpg.rf.00a3e8e08c32c670f760756dfa855427.jpg: ignoring corrupt image/label: non-normalized or out of bounds coordinates [     1.0045      1.0033      1.0037      1.0005           1      1.0029      1.0007]\n",
            "\u001b[34m\u001b[1mtrain: \u001b[0mWARNING ⚠️ /content/shelves-5/train/images/train_1674_jpg.rf.8d6e58fd01ec46249cd0a9862aca3a0c.jpg: ignoring corrupt image/label: non-normalized or out of bounds coordinates [     1.0035      1.0039      1.0009      1.0001      1.0046      1.0039           1]\n",
            "\u001b[34m\u001b[1mtrain: \u001b[0mWARNING ⚠️ /content/shelves-5/train/images/train_1674_jpg.rf.b5ffdba77ff98bad15ea0d505537c5c6.jpg: ignoring corrupt image/label: non-normalized or out of bounds coordinates [     1.0034      1.0037      1.0006      1.0001      1.0036      1.0037]\n",
            "\u001b[34m\u001b[1mtrain: \u001b[0mWARNING ⚠️ /content/shelves-5/train/images/train_1680_jpg.rf.2c824660bfd625b30fe2eb87b645b9be.jpg: ignoring corrupt image/label: non-normalized or out of bounds coordinates [     1.0242]\n",
            "\u001b[34m\u001b[1mtrain: \u001b[0mWARNING ⚠️ /content/shelves-5/train/images/train_1680_jpg.rf.4cad253cb229bb8a6921d891804388ba.jpg: ignoring corrupt image/label: non-normalized or out of bounds coordinates [     1.0207]\n",
            "\u001b[34m\u001b[1mtrain: \u001b[0mWARNING ⚠️ /content/shelves-5/train/images/train_1680_jpg.rf.7ae1bb875e37045959d98219ecb116d5.jpg: ignoring corrupt image/label: non-normalized or out of bounds coordinates [     1.0298]\n",
            "\u001b[34m\u001b[1mtrain: \u001b[0mWARNING ⚠️ /content/shelves-5/train/images/train_1681_jpg.rf.6edfa0654aee643c53e2cf170ae61583.jpg: ignoring corrupt image/label: non-normalized or out of bounds coordinates [          1      1.0219      1.0372      1.0541      1.0361]\n",
            "\u001b[34m\u001b[1mtrain: \u001b[0mWARNING ⚠️ /content/shelves-5/train/images/train_1681_jpg.rf.d7b2746840ff4e2123e3a0337dfa8e9c.jpg: ignoring corrupt image/label: non-normalized or out of bounds coordinates [      1.004       1.021      1.0365       1.057      1.0264]\n",
            "\u001b[34m\u001b[1mtrain: \u001b[0mWARNING ⚠️ /content/shelves-5/train/images/train_1681_jpg.rf.e256f307c516f031565f21eea1464f02.jpg: ignoring corrupt image/label: non-normalized or out of bounds coordinates [     1.0042      1.0209      1.0434      1.0585       1.024]\n",
            "\u001b[34m\u001b[1mtrain: \u001b[0mWARNING ⚠️ /content/shelves-5/train/images/train_1682_jpg.rf.916ecf14dfe1d9ea8457b799aaac83b4.jpg: ignoring corrupt image/label: non-normalized or out of bounds coordinates [     1.0033      1.0017      1.0026      1.0023       1.001      1.0001]\n",
            "\u001b[34m\u001b[1mtrain: \u001b[0mWARNING ⚠️ /content/shelves-5/train/images/train_1682_jpg.rf.9ea48f18b205e618c74a75f2659a966a.jpg: ignoring corrupt image/label: non-normalized or out of bounds coordinates [     1.0031      1.0017      1.0024      1.0022      1.0009]\n",
            "\u001b[34m\u001b[1mtrain: \u001b[0mWARNING ⚠️ /content/shelves-5/train/images/train_1682_jpg.rf.a49e7c5a39f639f92b1d3a57f3df0b99.jpg: ignoring corrupt image/label: non-normalized or out of bounds coordinates [      1.003      1.0016      1.0024      1.0022]\n",
            "\u001b[34m\u001b[1mtrain: \u001b[0mWARNING ⚠️ /content/shelves-5/train/images/train_1684_jpg.rf.0725bfb8a8b94d6a356956ac46ea856a.jpg: ignoring corrupt image/label: non-normalized or out of bounds coordinates [     1.0011      1.0002]\n",
            "\u001b[34m\u001b[1mtrain: \u001b[0mWARNING ⚠️ /content/shelves-5/train/images/train_1684_jpg.rf.10b229f3ffd1b52f5c831e41769c8be0.jpg: ignoring corrupt image/label: non-normalized or out of bounds coordinates [     1.0012           1      1.0003]\n",
            "\u001b[34m\u001b[1mtrain: \u001b[0mWARNING ⚠️ /content/shelves-5/train/images/train_1684_jpg.rf.b3083784ccaa34e5fec9b319dd26a43f.jpg: ignoring corrupt image/label: non-normalized or out of bounds coordinates [          1      1.0012      1.0002]\n",
            "\u001b[34m\u001b[1mtrain: \u001b[0mWARNING ⚠️ /content/shelves-5/train/images/train_1686_jpg.rf.0f690fdae99e0612e50c09978082ab14.jpg: ignoring corrupt image/label: non-normalized or out of bounds coordinates [     1.0012      1.0001      1.0013      1.0012]\n",
            "\u001b[34m\u001b[1mtrain: \u001b[0mWARNING ⚠️ /content/shelves-5/train/images/train_1686_jpg.rf.158681d9446bdf3bedb79488cb389c35.jpg: ignoring corrupt image/label: non-normalized or out of bounds coordinates [     1.0011      1.0014      1.0022]\n",
            "\u001b[34m\u001b[1mtrain: \u001b[0mWARNING ⚠️ /content/shelves-5/train/images/train_1686_jpg.rf.dd6f7741d2407a716e8109b43e51e25d.jpg: ignoring corrupt image/label: non-normalized or out of bounds coordinates [     1.0016       1.001      1.0013      1.0021]\n",
            "\u001b[34m\u001b[1mtrain: \u001b[0mWARNING ⚠️ /content/shelves-5/train/images/train_1687_jpg.rf.3de1a25db5750a4cd1f17e4e98599e23.jpg: ignoring corrupt image/label: non-normalized or out of bounds coordinates [     1.0047      1.0042      1.0042      1.0039      1.0028      1.0026      1.0016      1.0004]\n",
            "\u001b[34m\u001b[1mtrain: \u001b[0mWARNING ⚠️ /content/shelves-5/train/images/train_1687_jpg.rf.510e5e10cea2966844f0b484bc3cce00.jpg: ignoring corrupt image/label: non-normalized or out of bounds coordinates [      1.005      1.0044      1.0044       1.004      1.0029      1.0028      1.0017      1.0005]\n",
            "\u001b[34m\u001b[1mtrain: \u001b[0mWARNING ⚠️ /content/shelves-5/train/images/train_1687_jpg.rf.ed4a0bf77ea5ceeebc3877772ccfb2a9.jpg: ignoring corrupt image/label: non-normalized or out of bounds coordinates [     1.0051      1.0044      1.0044      1.0041      1.0029      1.0028      1.0017      1.0005]\n",
            "\u001b[34m\u001b[1mtrain: \u001b[0mWARNING ⚠️ /content/shelves-5/train/images/train_1691_jpg.rf.0cf4f25ca2220be0c76f0c4736b167ba.jpg: ignoring corrupt image/label: non-normalized or out of bounds coordinates [     1.0058]\n",
            "\u001b[34m\u001b[1mtrain: \u001b[0mWARNING ⚠️ /content/shelves-5/train/images/train_1691_jpg.rf.23145edc959c7768e197caa9cb5d4e25.jpg: ignoring corrupt image/label: non-normalized or out of bounds coordinates [     1.0031]\n",
            "\u001b[34m\u001b[1mtrain: \u001b[0mWARNING ⚠️ /content/shelves-5/train/images/train_1691_jpg.rf.2d6a8c548cba40322bd9047eff549b23.jpg: ignoring corrupt image/label: non-normalized or out of bounds coordinates [     1.0057]\n",
            "\u001b[34m\u001b[1mtrain: \u001b[0mWARNING ⚠️ /content/shelves-5/train/images/train_1694_jpg.rf.0e5c32c4667ca3aa43c4b04b154b0f43.jpg: ignoring corrupt image/label: non-normalized or out of bounds coordinates [      1.008      1.0013      1.0068      1.0168      1.0318      1.0452]\n",
            "\u001b[34m\u001b[1mtrain: \u001b[0mWARNING ⚠️ /content/shelves-5/train/images/train_1694_jpg.rf.dcf692806569b8d2406d51c765ccc0db.jpg: ignoring corrupt image/label: non-normalized or out of bounds coordinates [      1.007      1.0173      1.0329      1.0468]\n",
            "\u001b[34m\u001b[1mtrain: \u001b[0mWARNING ⚠️ /content/shelves-5/train/images/train_1694_jpg.rf.e4a67d3c73c5d68ac4f07ab392cc3168.jpg: ignoring corrupt image/label: non-normalized or out of bounds coordinates [     1.0073       1.018      1.0345      1.0491]\n",
            "\u001b[34m\u001b[1mtrain: \u001b[0mWARNING ⚠️ /content/shelves-5/train/images/train_1698_jpg.rf.4bb6bbcb96a280e55479b24d20868964.jpg: ignoring corrupt image/label: non-normalized or out of bounds coordinates [     1.0062]\n",
            "\u001b[34m\u001b[1mtrain: \u001b[0mWARNING ⚠️ /content/shelves-5/train/images/train_1698_jpg.rf.84560655c6f9b0ac7346dfe3b39743b7.jpg: ignoring corrupt image/label: non-normalized or out of bounds coordinates [     1.0064]\n",
            "\u001b[34m\u001b[1mtrain: \u001b[0mWARNING ⚠️ /content/shelves-5/train/images/train_1698_jpg.rf.9b5431c432d722977b63e68d68019cb1.jpg: ignoring corrupt image/label: non-normalized or out of bounds coordinates [     1.0066]\n",
            "\u001b[34m\u001b[1mtrain: \u001b[0mWARNING ⚠️ /content/shelves-5/train/images/train_169_jpg.rf.36a9e768742ba5ed94bf00fd8a3dc9cb.jpg: ignoring corrupt image/label: non-normalized or out of bounds coordinates [     1.0052      1.0058      1.0035      1.0013      1.0024      1.0025      1.0023      1.0009]\n",
            "\u001b[34m\u001b[1mtrain: \u001b[0mWARNING ⚠️ /content/shelves-5/train/images/train_169_jpg.rf.951fb6986ea13b95354360399304c700.jpg: ignoring corrupt image/label: non-normalized or out of bounds coordinates [     1.0048      1.0045      1.0032      1.0012      1.0018      1.0014      1.0017      1.0006]\n",
            "\u001b[34m\u001b[1mtrain: \u001b[0mWARNING ⚠️ /content/shelves-5/train/images/train_169_jpg.rf.e8138fe8cf8fa808de8905c3468e63fc.jpg: ignoring corrupt image/label: non-normalized or out of bounds coordinates [     1.0051      1.0056      1.0034      1.0012      1.0024      1.0024      1.0023      1.0009]\n",
            "\u001b[34m\u001b[1mtrain: \u001b[0mWARNING ⚠️ /content/shelves-5/train/images/train_1702_jpg.rf.1176be59da6cdde7f36c2d06fee98940.jpg: ignoring corrupt image/label: non-normalized or out of bounds coordinates [     1.0126      1.0115      1.0142      1.0145      1.0155]\n",
            "\u001b[34m\u001b[1mtrain: \u001b[0mWARNING ⚠️ /content/shelves-5/train/images/train_1702_jpg.rf.4ee7392f8af12abef515c1b3a0bfcf3d.jpg: ignoring corrupt image/label: non-normalized or out of bounds coordinates [     1.0137       1.012      1.0109      1.0135      1.0137      1.0147]\n",
            "\u001b[34m\u001b[1mtrain: \u001b[0mWARNING ⚠️ /content/shelves-5/train/images/train_1702_jpg.rf.df59ccf4259cd8577bc14fb696624ede.jpg: ignoring corrupt image/label: non-normalized or out of bounds coordinates [     1.0128       1.012      1.0109      1.0135      1.0138      1.0147]\n",
            "\u001b[34m\u001b[1mtrain: \u001b[0mWARNING ⚠️ /content/shelves-5/train/images/train_1703_jpg.rf.47ee1ba6c3f9f2f688ebda4ef553c825.jpg: ignoring corrupt image/label: non-normalized or out of bounds coordinates [     1.0028]\n",
            "\u001b[34m\u001b[1mtrain: \u001b[0mWARNING ⚠️ /content/shelves-5/train/images/train_1703_jpg.rf.8215539f67bd980acbb179df1cfdf66c.jpg: ignoring corrupt image/label: non-normalized or out of bounds coordinates [     1.0028]\n",
            "\u001b[34m\u001b[1mtrain: \u001b[0mWARNING ⚠️ /content/shelves-5/train/images/train_1703_jpg.rf.fec262b63e858e72c791d1e15f221e39.jpg: ignoring corrupt image/label: non-normalized or out of bounds coordinates [     1.0027]\n",
            "\u001b[34m\u001b[1mtrain: \u001b[0mWARNING ⚠️ /content/shelves-5/train/images/train_1704_jpg.rf.0fe0c6b11a879baca5abc15782f9668a.jpg: ignoring corrupt image/label: non-normalized or out of bounds coordinates [     1.0017]\n",
            "\u001b[34m\u001b[1mtrain: \u001b[0mWARNING ⚠️ /content/shelves-5/train/images/train_1704_jpg.rf.5e110a9cfc8e007dfc834e39d1c913a5.jpg: ignoring corrupt image/label: non-normalized or out of bounds coordinates [     1.0017]\n",
            "\u001b[34m\u001b[1mtrain: \u001b[0mWARNING ⚠️ /content/shelves-5/train/images/train_1704_jpg.rf.86f5aefd62906a420b1db3829cbc0a8d.jpg: ignoring corrupt image/label: non-normalized or out of bounds coordinates [     1.0017]\n",
            "\u001b[34m\u001b[1mtrain: \u001b[0mWARNING ⚠️ /content/shelves-5/train/images/train_1706_jpg.rf.6e526f3e8653e6663455b75d25364e40.jpg: ignoring corrupt image/label: non-normalized or out of bounds coordinates [          1      1.0005]\n",
            "\u001b[34m\u001b[1mtrain: \u001b[0mWARNING ⚠️ /content/shelves-5/train/images/train_1706_jpg.rf.be74ce68d5f54ba1ba8fa7a15f998c7a.jpg: ignoring corrupt image/label: non-normalized or out of bounds coordinates [     1.0005]\n",
            "\u001b[34m\u001b[1mtrain: \u001b[0mWARNING ⚠️ /content/shelves-5/train/images/train_1708_jpg.rf.2113455b122b05efd3e31501af044e81.jpg: ignoring corrupt image/label: non-normalized or out of bounds coordinates [     1.0131      1.0113      1.0112      1.0081      1.0035      1.0061]\n",
            "\u001b[34m\u001b[1mtrain: \u001b[0mWARNING ⚠️ /content/shelves-5/train/images/train_1708_jpg.rf.890cde7bd5d679aaa21be4152e062c36.jpg: ignoring corrupt image/label: non-normalized or out of bounds coordinates [     1.0088      1.0109       1.004       1.002      1.0039]\n",
            "\u001b[34m\u001b[1mtrain: \u001b[0mWARNING ⚠️ /content/shelves-5/train/images/train_1708_jpg.rf.9ce09fd3e6760147c0e720257ab23b21.jpg: ignoring corrupt image/label: non-normalized or out of bounds coordinates [     1.0136      1.0117      1.0116      1.0084      1.0036      1.0058]\n",
            "\u001b[34m\u001b[1mtrain: \u001b[0mWARNING ⚠️ /content/shelves-5/train/images/train_1709_jpg.rf.29953bc4fdd8f1ab8610be7059ad04f6.jpg: ignoring corrupt image/label: non-normalized or out of bounds coordinates [     1.0054      1.0009      1.0088      1.0141]\n",
            "\u001b[34m\u001b[1mtrain: \u001b[0mWARNING ⚠️ /content/shelves-5/train/images/train_1709_jpg.rf.9efe6fb8e3df92122744ff17ac0cda43.jpg: ignoring corrupt image/label: non-normalized or out of bounds coordinates [     1.0053      1.0008      1.0086      1.0138]\n",
            "\u001b[34m\u001b[1mtrain: \u001b[0mWARNING ⚠️ /content/shelves-5/train/images/train_1709_jpg.rf.dd72f097c6ff738694e17750921f2c99.jpg: ignoring corrupt image/label: non-normalized or out of bounds coordinates [     1.0054      1.0009      1.0087      1.0141]\n",
            "\u001b[34m\u001b[1mtrain: \u001b[0mWARNING ⚠️ /content/shelves-5/train/images/train_1710_jpg.rf.ae28db7e02eadbec9371fb409e39a410.jpg: ignoring corrupt image/label: non-normalized or out of bounds coordinates [     1.0072      1.0054           1]\n",
            "\u001b[34m\u001b[1mtrain: \u001b[0mWARNING ⚠️ /content/shelves-5/train/images/train_1710_jpg.rf.c0150ab73f380491dc7a3a6fbd909385.jpg: ignoring corrupt image/label: non-normalized or out of bounds coordinates [     1.0075      1.0055           1]\n",
            "\u001b[34m\u001b[1mtrain: \u001b[0mWARNING ⚠️ /content/shelves-5/train/images/train_1710_jpg.rf.e0e816a075c5885ac661fa63bc0fdeb6.jpg: ignoring corrupt image/label: non-normalized or out of bounds coordinates [     1.0033]\n",
            "\u001b[34m\u001b[1mtrain: \u001b[0mWARNING ⚠️ /content/shelves-5/train/images/train_1711_jpg.rf.20cfc6cf154cdeea4bb7d84ed88391cc.jpg: ignoring corrupt image/label: non-normalized or out of bounds coordinates [     1.0057]\n",
            "\u001b[34m\u001b[1mtrain: \u001b[0mWARNING ⚠️ /content/shelves-5/train/images/train_1711_jpg.rf.8ecebdbbb91cb36082325d39e98bacf8.jpg: ignoring corrupt image/label: non-normalized or out of bounds coordinates [     1.0054]\n",
            "\u001b[34m\u001b[1mtrain: \u001b[0mWARNING ⚠️ /content/shelves-5/train/images/train_1713_jpg.rf.11694f4bb86482c525a2f6d796e85da3.jpg: ignoring corrupt image/label: non-normalized or out of bounds coordinates [     1.0018      1.0018      1.0044]\n",
            "\u001b[34m\u001b[1mtrain: \u001b[0mWARNING ⚠️ /content/shelves-5/train/images/train_1713_jpg.rf.3c51a5e0fc6750271ed524a19104da00.jpg: ignoring corrupt image/label: non-normalized or out of bounds coordinates [     1.0035      1.0029      1.0027      1.0015      1.0012      1.0046]\n",
            "\u001b[34m\u001b[1mtrain: \u001b[0mWARNING ⚠️ /content/shelves-5/train/images/train_1713_jpg.rf.556d8c10e3cb49d0ac446615642bbd15.jpg: ignoring corrupt image/label: non-normalized or out of bounds coordinates [     1.0036      1.0031      1.0028      1.0015      1.0013      1.0048]\n",
            "\u001b[34m\u001b[1mtrain: \u001b[0mWARNING ⚠️ /content/shelves-5/train/images/train_1714_jpg.rf.9c8c5a8fe8313fd2e29e12f8b889e080.jpg: ignoring corrupt image/label: non-normalized or out of bounds coordinates [     1.0006]\n",
            "\u001b[34m\u001b[1mtrain: \u001b[0mWARNING ⚠️ /content/shelves-5/train/images/train_1714_jpg.rf.c34202a552d77a3c3027bb94dfe12e6f.jpg: ignoring corrupt image/label: non-normalized or out of bounds coordinates [     1.0006]\n",
            "\u001b[34m\u001b[1mtrain: \u001b[0mWARNING ⚠️ /content/shelves-5/train/images/train_1715_jpg.rf.31de425ad622c977f5fa4446dad7d857.jpg: ignoring corrupt image/label: non-normalized or out of bounds coordinates [      1.013      1.0024      1.0011      1.0027      1.0064]\n",
            "\u001b[34m\u001b[1mtrain: \u001b[0mWARNING ⚠️ /content/shelves-5/train/images/train_1715_jpg.rf.3b0d32b1e8b075754ae1364b90d63008.jpg: ignoring corrupt image/label: non-normalized or out of bounds coordinates [     1.0138      1.0025      1.0012      1.0029      1.0067]\n",
            "\u001b[34m\u001b[1mtrain: \u001b[0mWARNING ⚠️ /content/shelves-5/train/images/train_1715_jpg.rf.9a2fc8a2fe1b18ea61b677457f1eecd8.jpg: ignoring corrupt image/label: non-normalized or out of bounds coordinates [     1.0024      1.0011      1.0027      1.0065]\n",
            "\u001b[34m\u001b[1mtrain: \u001b[0mWARNING ⚠️ /content/shelves-5/train/images/train_1720_jpg.rf.15bc58901ad365e47d5b8487ba29de49.jpg: ignoring corrupt image/label: non-normalized or out of bounds coordinates [     1.0001]\n",
            "\u001b[34m\u001b[1mtrain: \u001b[0mWARNING ⚠️ /content/shelves-5/train/images/train_1720_jpg.rf.39b0e8f904e31f90719792d04a2b7908.jpg: ignoring corrupt image/label: non-normalized or out of bounds coordinates [     1.0001]\n",
            "\u001b[34m\u001b[1mtrain: \u001b[0mWARNING ⚠️ /content/shelves-5/train/images/train_1720_jpg.rf.aac4d6fdf230a0a30cdd52786b080164.jpg: ignoring corrupt image/label: non-normalized or out of bounds coordinates [          1]\n",
            "\u001b[34m\u001b[1mtrain: \u001b[0mWARNING ⚠️ /content/shelves-5/train/images/train_1721_jpg.rf.00f071a95c81d64e21946c5e39604576.jpg: ignoring corrupt image/label: non-normalized or out of bounds coordinates [     1.0313]\n",
            "\u001b[34m\u001b[1mtrain: \u001b[0mWARNING ⚠️ /content/shelves-5/train/images/train_1721_jpg.rf.bc998613249ea4f233614814c8c96901.jpg: ignoring corrupt image/label: non-normalized or out of bounds coordinates [     1.0282]\n",
            "\u001b[34m\u001b[1mtrain: \u001b[0mWARNING ⚠️ /content/shelves-5/train/images/train_1721_jpg.rf.e61b9e8acf08b55280dd77579ac947f8.jpg: ignoring corrupt image/label: non-normalized or out of bounds coordinates [     1.0274]\n",
            "\u001b[34m\u001b[1mtrain: \u001b[0mWARNING ⚠️ /content/shelves-5/train/images/train_1722_jpg.rf.705aaa52403d666c48d563e5c77fd929.jpg: ignoring corrupt image/label: non-normalized or out of bounds coordinates [     1.0022]\n",
            "\u001b[34m\u001b[1mtrain: \u001b[0mWARNING ⚠️ /content/shelves-5/train/images/train_1722_jpg.rf.76300cb1ec06611877870aeee933025c.jpg: ignoring corrupt image/label: non-normalized or out of bounds coordinates [     1.0023      1.0021]\n",
            "\u001b[34m\u001b[1mtrain: \u001b[0mWARNING ⚠️ /content/shelves-5/train/images/train_1723_jpg.rf.c6c4d8c91121846b87d558fc92ddd01d.jpg: ignoring corrupt image/label: non-normalized or out of bounds coordinates [     1.0014]\n",
            "\u001b[34m\u001b[1mtrain: \u001b[0mWARNING ⚠️ /content/shelves-5/train/images/train_1723_jpg.rf.d2f80daded88c77b6bf2987023d0f210.jpg: ignoring corrupt image/label: non-normalized or out of bounds coordinates [     1.0014]\n",
            "\u001b[34m\u001b[1mtrain: \u001b[0mWARNING ⚠️ /content/shelves-5/train/images/train_1723_jpg.rf.fd472592b7c4dd6cd1fa792b4092475f.jpg: ignoring corrupt image/label: non-normalized or out of bounds coordinates [     1.0015      1.0041      1.0039      1.0093]\n",
            "\u001b[34m\u001b[1mtrain: \u001b[0mWARNING ⚠️ /content/shelves-5/train/images/train_1725_jpg.rf.20c21cbd2425bc145d3e14fb07425f04.jpg: ignoring corrupt image/label: non-normalized or out of bounds coordinates [     1.0008      1.0005       1.001]\n",
            "\u001b[34m\u001b[1mtrain: \u001b[0mWARNING ⚠️ /content/shelves-5/train/images/train_1725_jpg.rf.b727fa6211d1688321532cf32584b3e1.jpg: ignoring corrupt image/label: non-normalized or out of bounds coordinates [     1.0008      1.0005      1.0011]\n",
            "\u001b[34m\u001b[1mtrain: \u001b[0mWARNING ⚠️ /content/shelves-5/train/images/train_1725_jpg.rf.c7e7135e1dcdc770ebe05247499a3a6a.jpg: ignoring corrupt image/label: non-normalized or out of bounds coordinates [     1.0008      1.0008      1.0014]\n",
            "\u001b[34m\u001b[1mtrain: \u001b[0mWARNING ⚠️ /content/shelves-5/train/images/train_1727_jpg.rf.0dab3563dada61ba8ad186b8b0a4b873.jpg: ignoring corrupt image/label: non-normalized or out of bounds coordinates [     1.0003      1.0028]\n",
            "\u001b[34m\u001b[1mtrain: \u001b[0mWARNING ⚠️ /content/shelves-5/train/images/train_1727_jpg.rf.1ef6627fa505fddb925b938ab5572f1e.jpg: ignoring corrupt image/label: non-normalized or out of bounds coordinates [     1.0003]\n",
            "\u001b[34m\u001b[1mtrain: \u001b[0mWARNING ⚠️ /content/shelves-5/train/images/train_1727_jpg.rf.fd65f56a6b698f74ae37ad1b3938a0fd.jpg: ignoring corrupt image/label: non-normalized or out of bounds coordinates [     1.0003      1.0026]\n",
            "\u001b[34m\u001b[1mtrain: \u001b[0mWARNING ⚠️ /content/shelves-5/train/images/train_1729_jpg.rf.296cb66259568353935263f69bdfb071.jpg: ignoring corrupt image/label: non-normalized or out of bounds coordinates [     1.0043      1.0026       1.003]\n",
            "\u001b[34m\u001b[1mtrain: \u001b[0mWARNING ⚠️ /content/shelves-5/train/images/train_1729_jpg.rf.a1151cdbcd672531d2abc28e737526ea.jpg: ignoring corrupt image/label: non-normalized or out of bounds coordinates [      1.004      1.0025]\n",
            "\u001b[34m\u001b[1mtrain: \u001b[0mWARNING ⚠️ /content/shelves-5/train/images/train_1729_jpg.rf.c088901145ed8883fd0e2d68a1026d91.jpg: ignoring corrupt image/label: non-normalized or out of bounds coordinates [     1.0042      1.0025       1.003           1]\n",
            "\u001b[34m\u001b[1mtrain: \u001b[0mWARNING ⚠️ /content/shelves-5/train/images/train_1730_jpg.rf.041135031de73ca1959d0c207ea5f785.jpg: ignoring corrupt image/label: non-normalized or out of bounds coordinates [     1.0006]\n",
            "\u001b[34m\u001b[1mtrain: \u001b[0mWARNING ⚠️ /content/shelves-5/train/images/train_1730_jpg.rf.8b8dcfd38cecbd904648dc6580caccc2.jpg: ignoring corrupt image/label: non-normalized or out of bounds coordinates [     1.0004]\n",
            "\u001b[34m\u001b[1mtrain: \u001b[0mWARNING ⚠️ /content/shelves-5/train/images/train_1735_jpg.rf.129c43f07e07ad39661b1bb4cc2a3f43.jpg: ignoring corrupt image/label: non-normalized or out of bounds coordinates [     1.0011]\n",
            "\u001b[34m\u001b[1mtrain: \u001b[0mWARNING ⚠️ /content/shelves-5/train/images/train_1735_jpg.rf.b04db7ff9061580051d46db716678258.jpg: ignoring corrupt image/label: non-normalized or out of bounds coordinates [     1.0011]\n",
            "\u001b[34m\u001b[1mtrain: \u001b[0mWARNING ⚠️ /content/shelves-5/train/images/train_1737_jpg.rf.0d2f7793e7eb6ef7957416e0e1a4b8a0.jpg: ignoring corrupt image/label: non-normalized or out of bounds coordinates [     1.0007      1.0027      1.0032      1.0028      1.0002      1.0014]\n",
            "\u001b[34m\u001b[1mtrain: \u001b[0mWARNING ⚠️ /content/shelves-5/train/images/train_1737_jpg.rf.94f1af102d64874fce2a556efb06bdff.jpg: ignoring corrupt image/label: non-normalized or out of bounds coordinates [     1.0007      1.0027      1.0032      1.0029      1.0002           1]\n",
            "\u001b[34m\u001b[1mtrain: \u001b[0mWARNING ⚠️ /content/shelves-5/train/images/train_1737_jpg.rf.b5d4057715d87ddca0e44486728f06e1.jpg: ignoring corrupt image/label: non-normalized or out of bounds coordinates [     1.0006      1.0025      1.0029      1.0026      1.0002      1.0013]\n",
            "\u001b[34m\u001b[1mtrain: \u001b[0mWARNING ⚠️ /content/shelves-5/train/images/train_1738_jpg.rf.1e522ee0fc1f60de1dc9fab16d1a10b2.jpg: ignoring corrupt image/label: non-normalized or out of bounds coordinates [      1.036      1.0252      1.0452]\n",
            "\u001b[34m\u001b[1mtrain: \u001b[0mWARNING ⚠️ /content/shelves-5/train/images/train_1738_jpg.rf.49cd81749b8b7b69a222df473282a232.jpg: ignoring corrupt image/label: non-normalized or out of bounds coordinates [     1.0053]\n",
            "\u001b[34m\u001b[1mtrain: \u001b[0mWARNING ⚠️ /content/shelves-5/train/images/train_1740_jpg.rf.2c8721fb7a7a79cd20918b1f54184d0a.jpg: ignoring corrupt image/label: non-normalized or out of bounds coordinates [     1.0005      1.0027      1.0045       1.005      1.0054]\n",
            "\u001b[34m\u001b[1mtrain: \u001b[0mWARNING ⚠️ /content/shelves-5/train/images/train_1740_jpg.rf.a30e58e97605aa691f046ae685159e81.jpg: ignoring corrupt image/label: non-normalized or out of bounds coordinates [     1.0005      1.0027      1.0046      1.0051      1.0054]\n",
            "\u001b[34m\u001b[1mtrain: \u001b[0mWARNING ⚠️ /content/shelves-5/train/images/train_1740_jpg.rf.f829ea9b4eb4a15db0a9c48b1edd2498.jpg: ignoring corrupt image/label: non-normalized or out of bounds coordinates [     1.0005      1.0026      1.0044      1.0049      1.0053]\n",
            "\u001b[34m\u001b[1mtrain: \u001b[0mWARNING ⚠️ /content/shelves-5/train/images/train_1741_jpg.rf.8fe354efc84231210c92489d7871137e.jpg: ignoring corrupt image/label: non-normalized or out of bounds coordinates [     1.0038      1.0024]\n",
            "\u001b[34m\u001b[1mtrain: \u001b[0mWARNING ⚠️ /content/shelves-5/train/images/train_1741_jpg.rf.af90b4a81455a47d893cdd80ad152492.jpg: ignoring corrupt image/label: non-normalized or out of bounds coordinates [     1.0041      1.0029]\n",
            "\u001b[34m\u001b[1mtrain: \u001b[0mWARNING ⚠️ /content/shelves-5/train/images/train_1741_jpg.rf.d6c46de6ecfd2459ed8b2a42fe00f032.jpg: ignoring corrupt image/label: non-normalized or out of bounds coordinates [     1.0042      1.0022      1.0023]\n",
            "\u001b[34m\u001b[1mtrain: \u001b[0mWARNING ⚠️ /content/shelves-5/train/images/train_1742_jpg.rf.77f62c11d6ac3aaf953ec34603291c11.jpg: ignoring corrupt image/label: non-normalized or out of bounds coordinates [     1.0005      1.0018      1.0012      1.0004]\n",
            "\u001b[34m\u001b[1mtrain: \u001b[0mWARNING ⚠️ /content/shelves-5/train/images/train_1742_jpg.rf.a71943bb593c0b4ccdb125390faa700b.jpg: ignoring corrupt image/label: non-normalized or out of bounds coordinates [     1.0005      1.0014]\n",
            "\u001b[34m\u001b[1mtrain: \u001b[0mWARNING ⚠️ /content/shelves-5/train/images/train_1742_jpg.rf.fa39f3e6ac59f5ec48e296248159778d.jpg: ignoring corrupt image/label: non-normalized or out of bounds coordinates [     1.0005      1.0017      1.0011      1.0004]\n",
            "\u001b[34m\u001b[1mtrain: \u001b[0mWARNING ⚠️ /content/shelves-5/train/images/train_1744_jpg.rf.5f42b9025f3e355def0bd7c9582dfc3a.jpg: ignoring corrupt image/label: non-normalized or out of bounds coordinates [          1]\n",
            "\u001b[34m\u001b[1mtrain: \u001b[0mWARNING ⚠️ /content/shelves-5/train/images/train_1744_jpg.rf.e16f1a6a288ce3818debf66ee43212da.jpg: ignoring corrupt image/label: non-normalized or out of bounds coordinates [          1]\n",
            "\u001b[34m\u001b[1mtrain: \u001b[0mWARNING ⚠️ /content/shelves-5/train/images/train_1744_jpg.rf.ffca939a63034be5ee584fbc18262103.jpg: ignoring corrupt image/label: non-normalized or out of bounds coordinates [          1]\n",
            "\u001b[34m\u001b[1mtrain: \u001b[0mWARNING ⚠️ /content/shelves-5/train/images/train_1746_jpg.rf.30d22d4ecd74606e92cbbf29d5778fb0.jpg: ignoring corrupt image/label: non-normalized or out of bounds coordinates [     1.0011      1.0013]\n",
            "\u001b[34m\u001b[1mtrain: \u001b[0mWARNING ⚠️ /content/shelves-5/train/images/train_1746_jpg.rf.61f56e1621ac8048abc0cbf89399bde4.jpg: ignoring corrupt image/label: non-normalized or out of bounds coordinates [     1.0011]\n",
            "\u001b[34m\u001b[1mtrain: \u001b[0mWARNING ⚠️ /content/shelves-5/train/images/train_1746_jpg.rf.6a112af02112af5b97c3622aa2a6fff2.jpg: ignoring corrupt image/label: non-normalized or out of bounds coordinates [     1.0011      1.0013]\n",
            "\u001b[34m\u001b[1mtrain: \u001b[0mWARNING ⚠️ /content/shelves-5/train/images/train_1747_jpg.rf.13a4123907081c4beebe135c66ed84aa.jpg: ignoring corrupt image/label: non-normalized or out of bounds coordinates [     1.0008      1.0007      1.0006      1.0019]\n",
            "\u001b[34m\u001b[1mtrain: \u001b[0mWARNING ⚠️ /content/shelves-5/train/images/train_1747_jpg.rf.385d76556f85da936d02f021e787b8eb.jpg: ignoring corrupt image/label: non-normalized or out of bounds coordinates [     1.0008       1.001      1.0006      1.0016      1.0021]\n",
            "\u001b[34m\u001b[1mtrain: \u001b[0mWARNING ⚠️ /content/shelves-5/train/images/train_1747_jpg.rf.a640c115740cfc48564deadab1c751e6.jpg: ignoring corrupt image/label: non-normalized or out of bounds coordinates [     1.0006      1.0013      1.0005      1.0012      1.0018]\n",
            "\u001b[34m\u001b[1mtrain: \u001b[0mWARNING ⚠️ /content/shelves-5/train/images/train_1748_jpg.rf.1da2e0b7714a7c3d9649133ed5d1304a.jpg: ignoring corrupt image/label: non-normalized or out of bounds coordinates [          1]\n",
            "\u001b[34m\u001b[1mtrain: \u001b[0mWARNING ⚠️ /content/shelves-5/train/images/train_1749_jpg.rf.08cfd60db023998bf347d9b2d6c07b52.jpg: ignoring corrupt image/label: non-normalized or out of bounds coordinates [     1.0225      1.0054      1.0272      1.0473       1.068      1.0665]\n",
            "\u001b[34m\u001b[1mtrain: \u001b[0mWARNING ⚠️ /content/shelves-5/train/images/train_1749_jpg.rf.30d49437b019701ed75f6f6838b8c5c1.jpg: ignoring corrupt image/label: non-normalized or out of bounds coordinates [     1.0107      1.0222      1.0417      1.0641]\n",
            "\u001b[34m\u001b[1mtrain: \u001b[0mWARNING ⚠️ /content/shelves-5/train/images/train_1749_jpg.rf.8f3752a73586752778fc31eb67345ebe.jpg: ignoring corrupt image/label: non-normalized or out of bounds coordinates [     1.0213      1.0053      1.0331      1.0498      1.0597]\n",
            "\u001b[34m\u001b[1mtrain: \u001b[0mWARNING ⚠️ /content/shelves-5/train/images/train_1750_jpg.rf.270ec964096a64cbc008d80392f522dc.jpg: ignoring corrupt image/label: non-normalized or out of bounds coordinates [     1.0043]\n",
            "\u001b[34m\u001b[1mtrain: \u001b[0mWARNING ⚠️ /content/shelves-5/train/images/train_1750_jpg.rf.45c1548b43a0c2ddccb8dc52a0507963.jpg: ignoring corrupt image/label: non-normalized or out of bounds coordinates [     1.0012      1.0048]\n",
            "\u001b[34m\u001b[1mtrain: \u001b[0mWARNING ⚠️ /content/shelves-5/train/images/train_1750_jpg.rf.a4633e9e34e1c1794382278a2e6a7805.jpg: ignoring corrupt image/label: non-normalized or out of bounds coordinates [     1.0021      1.0049]\n",
            "\u001b[34m\u001b[1mtrain: \u001b[0mWARNING ⚠️ /content/shelves-5/train/images/train_1754_jpg.rf.29b6a067784e956ad87919c16e8b15de.jpg: ignoring corrupt image/label: non-normalized or out of bounds coordinates [     1.0054       1.006]\n",
            "\u001b[34m\u001b[1mtrain: \u001b[0mWARNING ⚠️ /content/shelves-5/train/images/train_1754_jpg.rf.5a34d175244f8aa8e5033abb2f6f957a.jpg: ignoring corrupt image/label: non-normalized or out of bounds coordinates [     1.0056      1.0063      1.0033      1.0036      1.0013]\n",
            "\u001b[34m\u001b[1mtrain: \u001b[0mWARNING ⚠️ /content/shelves-5/train/images/train_1754_jpg.rf.762452b65141d51b367428346a7a182c.jpg: ignoring corrupt image/label: non-normalized or out of bounds coordinates [     1.0056      1.0063      1.0033      1.0036      1.0016]\n",
            "\u001b[34m\u001b[1mtrain: \u001b[0mWARNING ⚠️ /content/shelves-5/train/images/train_1756_jpg.rf.24f52c33cae9fa2b77e231444b3b2c6a.jpg: ignoring corrupt image/label: non-normalized or out of bounds coordinates [     1.0412      1.0034      1.0378      1.1164]\n",
            "\u001b[34m\u001b[1mtrain: \u001b[0mWARNING ⚠️ /content/shelves-5/train/images/train_1756_jpg.rf.2917748da0298ca0d6b80d675ec64e62.jpg: ignoring corrupt image/label: non-normalized or out of bounds coordinates [     1.0496      1.0174      1.0302      1.0999]\n",
            "\u001b[34m\u001b[1mtrain: \u001b[0mWARNING ⚠️ /content/shelves-5/train/images/train_1756_jpg.rf.aa7409667fa1b62cf76f6a708a7918ee.jpg: ignoring corrupt image/label: non-normalized or out of bounds coordinates [     1.0404      1.0327      1.1096]\n",
            "\u001b[34m\u001b[1mtrain: \u001b[0mWARNING ⚠️ /content/shelves-5/train/images/train_1757_jpg.rf.016023e3cdbf57a1e3944a21401c6718.jpg: ignoring corrupt image/label: non-normalized or out of bounds coordinates [     1.0022]\n",
            "\u001b[34m\u001b[1mtrain: \u001b[0mWARNING ⚠️ /content/shelves-5/train/images/train_1757_jpg.rf.0ec7a97a71f2a63ac4976cb1b19816d9.jpg: ignoring corrupt image/label: non-normalized or out of bounds coordinates [     1.0023]\n",
            "\u001b[34m\u001b[1mtrain: \u001b[0mWARNING ⚠️ /content/shelves-5/train/images/train_1757_jpg.rf.fe29a942de364f27722f49818686b897.jpg: ignoring corrupt image/label: non-normalized or out of bounds coordinates [     1.0022]\n",
            "\u001b[34m\u001b[1mtrain: \u001b[0mWARNING ⚠️ /content/shelves-5/train/images/train_1760_jpg.rf.3a6da46e6f2d069205af07d44c67c9f8.jpg: ignoring corrupt image/label: non-normalized or out of bounds coordinates [     1.0011      1.0015       1.002      1.0058]\n",
            "\u001b[34m\u001b[1mtrain: \u001b[0mWARNING ⚠️ /content/shelves-5/train/images/train_1760_jpg.rf.56b6203269536e8c59834a665a2b7ec9.jpg: ignoring corrupt image/label: non-normalized or out of bounds coordinates [      1.001      1.0013]\n",
            "\u001b[34m\u001b[1mtrain: \u001b[0mWARNING ⚠️ /content/shelves-5/train/images/train_1760_jpg.rf.64f886fab38ef39459e5c66523515a1b.jpg: ignoring corrupt image/label: non-normalized or out of bounds coordinates [     1.0011      1.0015      1.0021      1.0032]\n",
            "\u001b[34m\u001b[1mtrain: \u001b[0mWARNING ⚠️ /content/shelves-5/train/images/train_1761_jpg.rf.695900fcfb95c814e447b365092c650a.jpg: ignoring corrupt image/label: non-normalized or out of bounds coordinates [     1.0074      1.0035      1.0009      1.0029      1.0032]\n",
            "\u001b[34m\u001b[1mtrain: \u001b[0mWARNING ⚠️ /content/shelves-5/train/images/train_1761_jpg.rf.d37f9879a5350415a2b1218d2661a70c.jpg: ignoring corrupt image/label: non-normalized or out of bounds coordinates [     1.0073      1.0029      1.0042]\n",
            "\u001b[34m\u001b[1mtrain: \u001b[0mWARNING ⚠️ /content/shelves-5/train/images/train_1761_jpg.rf.da9cdc5ecd99e2b961568b26d8ca8c03.jpg: ignoring corrupt image/label: non-normalized or out of bounds coordinates [     1.0074      1.0036      1.0015      1.0029      1.0032]\n",
            "\u001b[34m\u001b[1mtrain: \u001b[0mWARNING ⚠️ /content/shelves-5/train/images/train_1762_jpg.rf.86c11a0d80d324dc6d5f9cdaa90366d5.jpg: ignoring corrupt image/label: non-normalized or out of bounds coordinates [     1.0041       1.005      1.0023      1.0016      1.0001]\n",
            "\u001b[34m\u001b[1mtrain: \u001b[0mWARNING ⚠️ /content/shelves-5/train/images/train_1762_jpg.rf.8c483fd2157ffb2125e3128be935e576.jpg: ignoring corrupt image/label: non-normalized or out of bounds coordinates [     1.0043      1.0052      1.0024      1.0016           1]\n",
            "\u001b[34m\u001b[1mtrain: \u001b[0mWARNING ⚠️ /content/shelves-5/train/images/train_1762_jpg.rf.98a3d99af0de7591157c330e42b8df23.jpg: ignoring corrupt image/label: non-normalized or out of bounds coordinates [          1      1.0042      1.0051      1.0024      1.0016      1.0013]\n",
            "\u001b[34m\u001b[1mtrain: \u001b[0mWARNING ⚠️ /content/shelves-5/train/images/train_1763_jpg.rf.8d5c105b9ce955b3fbaddcc88295edc3.jpg: ignoring corrupt image/label: non-normalized or out of bounds coordinates [     1.0389      1.0177]\n",
            "\u001b[34m\u001b[1mtrain: \u001b[0mWARNING ⚠️ /content/shelves-5/train/images/train_1763_jpg.rf.d3ebf30a6a9625fa17e1b113354bfc0c.jpg: ignoring corrupt image/label: non-normalized or out of bounds coordinates [     1.0362      1.0167]\n",
            "\u001b[34m\u001b[1mtrain: \u001b[0mWARNING ⚠️ /content/shelves-5/train/images/train_1763_jpg.rf.d988aed693279fa2a01743fd2c2c3aaa.jpg: ignoring corrupt image/label: non-normalized or out of bounds coordinates [     1.0332      1.0171]\n",
            "\u001b[34m\u001b[1mtrain: \u001b[0mWARNING ⚠️ /content/shelves-5/train/images/train_1765_jpg.rf.31038b690997bac92d2702d03a8e718b.jpg: ignoring corrupt image/label: non-normalized or out of bounds coordinates [     1.0025      1.0022]\n",
            "\u001b[34m\u001b[1mtrain: \u001b[0mWARNING ⚠️ /content/shelves-5/train/images/train_1765_jpg.rf.a1a055bb1dcb38f40cf1b46a0edba5b7.jpg: ignoring corrupt image/label: non-normalized or out of bounds coordinates [     1.0025      1.0017]\n",
            "\u001b[34m\u001b[1mtrain: \u001b[0mWARNING ⚠️ /content/shelves-5/train/images/train_1765_jpg.rf.aaf714e02f58509ecfa6f9b8d5b5b7e8.jpg: ignoring corrupt image/label: non-normalized or out of bounds coordinates [     1.0023]\n",
            "\u001b[34m\u001b[1mtrain: \u001b[0mWARNING ⚠️ /content/shelves-5/train/images/train_1766_jpg.rf.3aab2554fc592b4997d298199e22a827.jpg: ignoring corrupt image/label: non-normalized or out of bounds coordinates [     1.0037      1.0062       1.005      1.0062      1.0088      1.0069]\n",
            "\u001b[34m\u001b[1mtrain: \u001b[0mWARNING ⚠️ /content/shelves-5/train/images/train_1766_jpg.rf.43a4f04b6c1af8bb7117e2837a0d6b16.jpg: ignoring corrupt image/label: non-normalized or out of bounds coordinates [     1.0044      1.0042      1.0078       1.005]\n",
            "\u001b[34m\u001b[1mtrain: \u001b[0mWARNING ⚠️ /content/shelves-5/train/images/train_1766_jpg.rf.50480d32060a3f81e69150e7688a649f.jpg: ignoring corrupt image/label: non-normalized or out of bounds coordinates [     1.0038      1.0064      1.0051       1.006      1.0098      1.0083]\n",
            "\u001b[34m\u001b[1mtrain: \u001b[0mWARNING ⚠️ /content/shelves-5/train/images/train_1768_jpg.rf.5f54e747581a39af554886d3da66c65e.jpg: ignoring corrupt image/label: non-normalized or out of bounds coordinates [     1.0407]\n",
            "\u001b[34m\u001b[1mtrain: \u001b[0mWARNING ⚠️ /content/shelves-5/train/images/train_1768_jpg.rf.8f2ce7cfd79625d61c0353acf43a804f.jpg: ignoring corrupt image/label: non-normalized or out of bounds coordinates [     1.0213]\n",
            "\u001b[34m\u001b[1mtrain: \u001b[0mWARNING ⚠️ /content/shelves-5/train/images/train_1768_jpg.rf.ea0156676a999cc916f0c9f99cc75b63.jpg: ignoring corrupt image/label: non-normalized or out of bounds coordinates [     1.0079      1.0209]\n",
            "\u001b[34m\u001b[1mtrain: \u001b[0mWARNING ⚠️ /content/shelves-5/train/images/train_1770_jpg.rf.229b60aa4858eb788ddd3256a944e10b.jpg: ignoring corrupt image/label: non-normalized or out of bounds coordinates [     1.0009]\n",
            "\u001b[34m\u001b[1mtrain: \u001b[0mWARNING ⚠️ /content/shelves-5/train/images/train_1770_jpg.rf.4a6161620436de0853d1e45e229f7ef2.jpg: ignoring corrupt image/label: non-normalized or out of bounds coordinates [     1.0004       1.001      1.0033]\n",
            "\u001b[34m\u001b[1mtrain: \u001b[0mWARNING ⚠️ /content/shelves-5/train/images/train_1770_jpg.rf.6755738c1bfede54d28ac26266100fc7.jpg: ignoring corrupt image/label: non-normalized or out of bounds coordinates [     1.0013      1.0009]\n",
            "\u001b[34m\u001b[1mtrain: \u001b[0mWARNING ⚠️ /content/shelves-5/train/images/train_1771_jpg.rf.0aac0b2c928fb41b5a4caf7470f60d0b.jpg: ignoring corrupt image/label: non-normalized or out of bounds coordinates [      1.003      1.0088]\n",
            "\u001b[34m\u001b[1mtrain: \u001b[0mWARNING ⚠️ /content/shelves-5/train/images/train_1771_jpg.rf.0d1c6fac622a96cbdb3f56226a033b7a.jpg: ignoring corrupt image/label: non-normalized or out of bounds coordinates [     1.0035      1.0076]\n",
            "\u001b[34m\u001b[1mtrain: \u001b[0mWARNING ⚠️ /content/shelves-5/train/images/train_1771_jpg.rf.a8abe12042ccd2a75400745706590a3a.jpg: ignoring corrupt image/label: non-normalized or out of bounds coordinates [     1.0035      1.0088]\n",
            "\u001b[34m\u001b[1mtrain: \u001b[0mWARNING ⚠️ /content/shelves-5/train/images/train_1773_jpg.rf.797b89f270811d9f3d3a2d039edb9127.jpg: ignoring corrupt image/label: non-normalized or out of bounds coordinates [     1.0049]\n",
            "\u001b[34m\u001b[1mtrain: \u001b[0mWARNING ⚠️ /content/shelves-5/train/images/train_1774_jpg.rf.1a3fa3caad90edb2e29b726c8a7a5d35.jpg: ignoring corrupt image/label: non-normalized or out of bounds coordinates [     1.0374      1.0188      1.0045      1.0085]\n",
            "\u001b[34m\u001b[1mtrain: \u001b[0mWARNING ⚠️ /content/shelves-5/train/images/train_1774_jpg.rf.2648a8764a91c07b1678de88082673c8.jpg: ignoring corrupt image/label: non-normalized or out of bounds coordinates [      1.038      1.0185      1.0044      1.0086]\n",
            "\u001b[34m\u001b[1mtrain: \u001b[0mWARNING ⚠️ /content/shelves-5/train/images/train_1774_jpg.rf.3583dc773a5069a5e275c234c4ce1dc7.jpg: ignoring corrupt image/label: non-normalized or out of bounds coordinates [     1.0377      1.0181      1.0043      1.0088]\n",
            "\u001b[34m\u001b[1mtrain: \u001b[0mWARNING ⚠️ /content/shelves-5/train/images/train_1775_jpg.rf.11c05c3aae1f03780db7f30f39c37521.jpg: ignoring corrupt image/label: non-normalized or out of bounds coordinates [     1.0011      1.0012]\n",
            "\u001b[34m\u001b[1mtrain: \u001b[0mWARNING ⚠️ /content/shelves-5/train/images/train_1775_jpg.rf.9707f0bb9271145a7c3f82dbbfb2eaad.jpg: ignoring corrupt image/label: non-normalized or out of bounds coordinates [     1.0029       1.001      1.0011]\n",
            "\u001b[34m\u001b[1mtrain: \u001b[0mWARNING ⚠️ /content/shelves-5/train/images/train_1775_jpg.rf.ed13400bef42b1f252d9187f2be8659f.jpg: ignoring corrupt image/label: non-normalized or out of bounds coordinates [     1.0011      1.0012           1]\n",
            "\u001b[34m\u001b[1mtrain: \u001b[0mWARNING ⚠️ /content/shelves-5/train/images/train_1776_jpg.rf.4bebfcc057ae06222c750d20030fd114.jpg: ignoring corrupt image/label: non-normalized or out of bounds coordinates [     1.0058]\n",
            "\u001b[34m\u001b[1mtrain: \u001b[0mWARNING ⚠️ /content/shelves-5/train/images/train_1776_jpg.rf.c4b2c14ecd88b041c2059734a1efb7cc.jpg: ignoring corrupt image/label: non-normalized or out of bounds coordinates [          1      1.0062]\n",
            "\u001b[34m\u001b[1mtrain: \u001b[0mWARNING ⚠️ /content/shelves-5/train/images/train_1776_jpg.rf.e33d959cd4ddd072c33db5deca411634.jpg: ignoring corrupt image/label: non-normalized or out of bounds coordinates [          1      1.0061]\n",
            "\u001b[34m\u001b[1mtrain: \u001b[0mWARNING ⚠️ /content/shelves-5/train/images/train_1777_jpg.rf.2b38e87ebaf3de44febe9b34a3151785.jpg: ignoring corrupt image/label: non-normalized or out of bounds coordinates [     1.0481      1.0229      1.0023      1.0716      1.0353      1.0088]\n",
            "\u001b[34m\u001b[1mtrain: \u001b[0mWARNING ⚠️ /content/shelves-5/train/images/train_1777_jpg.rf.3c4aeae552c700dd51c65fb9b2efb090.jpg: ignoring corrupt image/label: non-normalized or out of bounds coordinates [     1.0466      1.0223      1.0022      1.0693      1.0344      1.0093]\n",
            "\u001b[34m\u001b[1mtrain: \u001b[0mWARNING ⚠️ /content/shelves-5/train/images/train_1777_jpg.rf.f563a0e3f172c26b030309492b91622b.jpg: ignoring corrupt image/label: non-normalized or out of bounds coordinates [     1.0453      1.0204      1.0022      1.0709      1.0337      1.0093]\n",
            "\u001b[34m\u001b[1mtrain: \u001b[0mWARNING ⚠️ /content/shelves-5/train/images/train_1779_jpg.rf.4841de7bf27fd86be7c90b6da5456041.jpg: ignoring corrupt image/label: non-normalized or out of bounds coordinates [     1.0072      1.0093      1.0146]\n",
            "\u001b[34m\u001b[1mtrain: \u001b[0mWARNING ⚠️ /content/shelves-5/train/images/train_1779_jpg.rf.827db2486ea3f7c3bce13d9d87b61df8.jpg: ignoring corrupt image/label: non-normalized or out of bounds coordinates [     1.0015      1.0077      1.0094      1.0169]\n",
            "\u001b[34m\u001b[1mtrain: \u001b[0mWARNING ⚠️ /content/shelves-5/train/images/train_1779_jpg.rf.9f77631d3cf22eac389eaceb34427b1d.jpg: ignoring corrupt image/label: non-normalized or out of bounds coordinates [     1.0016      1.0077      1.0098      1.0174]\n",
            "\u001b[34m\u001b[1mtrain: \u001b[0mWARNING ⚠️ /content/shelves-5/train/images/train_1785_jpg.rf.102562a8197709fce2b5994db5077c6b.jpg: ignoring corrupt image/label: non-normalized or out of bounds coordinates [     1.0005      1.0029      1.0003      1.0035]\n",
            "\u001b[34m\u001b[1mtrain: \u001b[0mWARNING ⚠️ /content/shelves-5/train/images/train_1785_jpg.rf.2f56a2ef6817a2105843e3c23c559800.jpg: ignoring corrupt image/label: non-normalized or out of bounds coordinates [     1.0005      1.0028      1.0003      1.0019]\n",
            "\u001b[34m\u001b[1mtrain: \u001b[0mWARNING ⚠️ /content/shelves-5/train/images/train_1785_jpg.rf.fec20c85e5692d8b0be49796c61ad673.jpg: ignoring corrupt image/label: non-normalized or out of bounds coordinates [     1.0003       1.003      1.0001      1.0029]\n",
            "\u001b[34m\u001b[1mtrain: \u001b[0mWARNING ⚠️ /content/shelves-5/train/images/train_1786_jpg.rf.0473810fde5c8a27dea07e3ec613f1d9.jpg: ignoring corrupt image/label: non-normalized or out of bounds coordinates [          1      1.0047      1.0196      1.0703]\n",
            "\u001b[34m\u001b[1mtrain: \u001b[0mWARNING ⚠️ /content/shelves-5/train/images/train_1786_jpg.rf.90dab1dbbfda1e188f4c6469ee1fa4d8.jpg: ignoring corrupt image/label: non-normalized or out of bounds coordinates [          1      1.0066      1.0119      1.0595]\n",
            "\u001b[34m\u001b[1mtrain: \u001b[0mWARNING ⚠️ /content/shelves-5/train/images/train_1786_jpg.rf.aca9c9ecd5da38d095f0d41fa06956ed.jpg: ignoring corrupt image/label: non-normalized or out of bounds coordinates [      1.003      1.0138      1.0556]\n",
            "\u001b[34m\u001b[1mtrain: \u001b[0mWARNING ⚠️ /content/shelves-5/train/images/train_1787_jpg.rf.5514269b8923c9a15a42365a46fec455.jpg: ignoring corrupt image/label: non-normalized or out of bounds coordinates [     1.0024       1.007]\n",
            "\u001b[34m\u001b[1mtrain: \u001b[0mWARNING ⚠️ /content/shelves-5/train/images/train_1787_jpg.rf.7d0339b1815182d65d46ce35f7373e55.jpg: ignoring corrupt image/label: non-normalized or out of bounds coordinates [     1.0028      1.0087]\n",
            "\u001b[34m\u001b[1mtrain: \u001b[0mWARNING ⚠️ /content/shelves-5/train/images/train_1787_jpg.rf.8a0bb3293034d50488b1aece88ff7a61.jpg: ignoring corrupt image/label: non-normalized or out of bounds coordinates [     1.0026      1.0074]\n",
            "\u001b[34m\u001b[1mtrain: \u001b[0mWARNING ⚠️ /content/shelves-5/train/images/train_1790_jpg.rf.7342844f3b79ee54eb877e0f7d212537.jpg: ignoring corrupt image/label: non-normalized or out of bounds coordinates [     1.0382]\n",
            "\u001b[34m\u001b[1mtrain: \u001b[0mWARNING ⚠️ /content/shelves-5/train/images/train_1792_jpg.rf.49d12679c2fd4a50ed7dba34b348b9cb.jpg: ignoring corrupt image/label: non-normalized or out of bounds coordinates [      1.001]\n",
            "\u001b[34m\u001b[1mtrain: \u001b[0mWARNING ⚠️ /content/shelves-5/train/images/train_1792_jpg.rf.cb5213fbbd6856199aff016aace3b432.jpg: ignoring corrupt image/label: non-normalized or out of bounds coordinates [      1.001]\n",
            "\u001b[34m\u001b[1mtrain: \u001b[0mWARNING ⚠️ /content/shelves-5/train/images/train_1793_jpg.rf.3605e55ec43b97acd7b96373b78746bb.jpg: ignoring corrupt image/label: non-normalized or out of bounds coordinates [     1.0006      1.0069      1.0069      1.0065      1.0026      1.0002      1.0031       1.001]\n",
            "\u001b[34m\u001b[1mtrain: \u001b[0mWARNING ⚠️ /content/shelves-5/train/images/train_1793_jpg.rf.5562ecf8e2377230a6b07d3addf830f3.jpg: ignoring corrupt image/label: non-normalized or out of bounds coordinates [          1      1.0073      1.0074       1.007      1.0013      1.0002      1.0033           1]\n",
            "\u001b[34m\u001b[1mtrain: \u001b[0mWARNING ⚠️ /content/shelves-5/train/images/train_1793_jpg.rf.711f9d0dc4948d8741aebbf0132a9499.jpg: ignoring corrupt image/label: non-normalized or out of bounds coordinates [     1.0073      1.0074       1.007      1.0035      1.0002      1.0033      1.0011]\n",
            "\u001b[34m\u001b[1mtrain: \u001b[0mWARNING ⚠️ /content/shelves-5/train/images/train_1794_jpg.rf.1bb6d0e92123976783b0397bf1d8f873.jpg: ignoring corrupt image/label: non-normalized or out of bounds coordinates [     1.0256]\n",
            "\u001b[34m\u001b[1mtrain: \u001b[0mWARNING ⚠️ /content/shelves-5/train/images/train_1794_jpg.rf.3d42bf90c68b30772bd346585c79ffa3.jpg: ignoring corrupt image/label: non-normalized or out of bounds coordinates [     1.0278]\n",
            "\u001b[34m\u001b[1mtrain: \u001b[0mWARNING ⚠️ /content/shelves-5/train/images/train_1794_jpg.rf.c0b4c38910e025957435c6a62cf73f97.jpg: ignoring corrupt image/label: non-normalized or out of bounds coordinates [     1.0265]\n",
            "\u001b[34m\u001b[1mtrain: \u001b[0mWARNING ⚠️ /content/shelves-5/train/images/train_1799_jpg.rf.44329f3c5f231726570f181a8f9690e9.jpg: ignoring corrupt image/label: non-normalized or out of bounds coordinates [     1.0131]\n",
            "\u001b[34m\u001b[1mtrain: \u001b[0mWARNING ⚠️ /content/shelves-5/train/images/train_1799_jpg.rf.a2af5344b03cbee52524675199bcdb89.jpg: ignoring corrupt image/label: non-normalized or out of bounds coordinates [     1.0143      1.0162]\n",
            "\u001b[34m\u001b[1mtrain: \u001b[0mWARNING ⚠️ /content/shelves-5/train/images/train_1799_jpg.rf.ce1ebe4062d156c5dbe2f6746909856a.jpg: ignoring corrupt image/label: non-normalized or out of bounds coordinates [     1.0151]\n",
            "\u001b[34m\u001b[1mtrain: \u001b[0mWARNING ⚠️ /content/shelves-5/train/images/train_181_jpg.rf.3028c9f616893bca1c6ad00b29e86b16.jpg: ignoring corrupt image/label: non-normalized or out of bounds coordinates [     1.0025      1.0058]\n",
            "\u001b[34m\u001b[1mtrain: \u001b[0mWARNING ⚠️ /content/shelves-5/train/images/train_181_jpg.rf.4a29be1ace33dc1c3491997a1dff3692.jpg: ignoring corrupt image/label: non-normalized or out of bounds coordinates [     1.0025]\n",
            "\u001b[34m\u001b[1mtrain: \u001b[0mWARNING ⚠️ /content/shelves-5/train/images/train_181_jpg.rf.c509a140afde148ba51de9eca0e9bed4.jpg: ignoring corrupt image/label: non-normalized or out of bounds coordinates [     1.0025]\n",
            "\u001b[34m\u001b[1mtrain: \u001b[0mWARNING ⚠️ /content/shelves-5/train/images/train_182_jpg.rf.36fa9b26c73f28912af69d7974c6eaf7.jpg: ignoring corrupt image/label: non-normalized or out of bounds coordinates [     1.0072      1.0027       1.003      1.0044]\n",
            "\u001b[34m\u001b[1mtrain: \u001b[0mWARNING ⚠️ /content/shelves-5/train/images/train_182_jpg.rf.900df9f20d72cc3e08cab0dde28a37b4.jpg: ignoring corrupt image/label: non-normalized or out of bounds coordinates [     1.0067      1.0025      1.0028      1.0041]\n",
            "\u001b[34m\u001b[1mtrain: \u001b[0mWARNING ⚠️ /content/shelves-5/train/images/train_182_jpg.rf.c613b392f38a5e98823f6c8cea745691.jpg: ignoring corrupt image/label: non-normalized or out of bounds coordinates [     1.0068      1.0026      1.0029      1.0042]\n",
            "\u001b[34m\u001b[1mtrain: \u001b[0mWARNING ⚠️ /content/shelves-5/train/images/train_186_jpg.rf.444eff1178cbd8a29bcd00f0a52ecad7.jpg: ignoring corrupt image/label: non-normalized or out of bounds coordinates [     1.0237]\n",
            "\u001b[34m\u001b[1mtrain: \u001b[0mWARNING ⚠️ /content/shelves-5/train/images/train_186_jpg.rf.d0838bef43bb2d34649eaaf2e9dac312.jpg: ignoring corrupt image/label: non-normalized or out of bounds coordinates [     1.0257]\n",
            "\u001b[34m\u001b[1mtrain: \u001b[0mWARNING ⚠️ /content/shelves-5/train/images/train_186_jpg.rf.d27d8e7ea08649673c48a2254a40de18.jpg: ignoring corrupt image/label: non-normalized or out of bounds coordinates [     1.0244]\n",
            "\u001b[34m\u001b[1mtrain: \u001b[0mWARNING ⚠️ /content/shelves-5/train/images/train_188_jpg.rf.337bd24d2e7b24ab0bb7f64d6c713319.jpg: ignoring corrupt image/label: non-normalized or out of bounds coordinates [     1.0046]\n",
            "\u001b[34m\u001b[1mtrain: \u001b[0mWARNING ⚠️ /content/shelves-5/train/images/train_188_jpg.rf.5eceaaa65fbca4e2d9359d1631ad9657.jpg: ignoring corrupt image/label: non-normalized or out of bounds coordinates [     1.0048]\n",
            "\u001b[34m\u001b[1mtrain: \u001b[0mWARNING ⚠️ /content/shelves-5/train/images/train_188_jpg.rf.af2f4dbcc52e36631e138458a293e450.jpg: ignoring corrupt image/label: non-normalized or out of bounds coordinates [     1.0045]\n",
            "\u001b[34m\u001b[1mtrain: \u001b[0mWARNING ⚠️ /content/shelves-5/train/images/train_18_jpg.rf.248b2a4494bf3aa0808d2cf988a40193.jpg: ignoring corrupt image/label: non-normalized or out of bounds coordinates [     1.0004]\n",
            "\u001b[34m\u001b[1mtrain: \u001b[0mWARNING ⚠️ /content/shelves-5/train/images/train_18_jpg.rf.6ecc92e0613511fb8d50c62c7c853cb3.jpg: ignoring corrupt image/label: non-normalized or out of bounds coordinates [     1.0032]\n",
            "\u001b[34m\u001b[1mtrain: \u001b[0mWARNING ⚠️ /content/shelves-5/train/images/train_190_jpg.rf.1d19dd379fb0ffcf4282139107ec9af2.jpg: ignoring corrupt image/label: non-normalized or out of bounds coordinates [          1      1.0029      1.0029]\n",
            "\u001b[34m\u001b[1mtrain: \u001b[0mWARNING ⚠️ /content/shelves-5/train/images/train_190_jpg.rf.770991c61f75d531dd54942e62f05f1b.jpg: ignoring corrupt image/label: non-normalized or out of bounds coordinates [          1      1.0031      1.0031]\n",
            "\u001b[34m\u001b[1mtrain: \u001b[0mWARNING ⚠️ /content/shelves-5/train/images/train_190_jpg.rf.7d81a01c00fe074f390f9b7fc2159041.jpg: ignoring corrupt image/label: non-normalized or out of bounds coordinates [          1       1.003       1.003      1.0067      1.0113      1.0217]\n",
            "\u001b[34m\u001b[1mtrain: \u001b[0mWARNING ⚠️ /content/shelves-5/train/images/train_193_jpg.rf.a687fcf6baf760db32eaf1c74f6d8e1e.jpg: ignoring corrupt image/label: non-normalized or out of bounds coordinates [     1.0024]\n",
            "\u001b[34m\u001b[1mtrain: \u001b[0mWARNING ⚠️ /content/shelves-5/train/images/train_193_jpg.rf.b6fad91c8a77eb72f152f0b10a65a403.jpg: ignoring corrupt image/label: non-normalized or out of bounds coordinates [     1.0004]\n",
            "\u001b[34m\u001b[1mtrain: \u001b[0mWARNING ⚠️ /content/shelves-5/train/images/train_194_jpg.rf.4f84ca82138a250fe005ac5c376f642a.jpg: ignoring corrupt image/label: non-normalized or out of bounds coordinates [     1.0067      1.0193]\n",
            "\u001b[34m\u001b[1mtrain: \u001b[0mWARNING ⚠️ /content/shelves-5/train/images/train_194_jpg.rf.668326d2f860c276d6dd1c1d6636caf7.jpg: ignoring corrupt image/label: non-normalized or out of bounds coordinates [     1.0094        1.02]\n",
            "\u001b[34m\u001b[1mtrain: \u001b[0mWARNING ⚠️ /content/shelves-5/train/images/train_194_jpg.rf.c0418a51175c12b17b93344c94dc818b.jpg: ignoring corrupt image/label: non-normalized or out of bounds coordinates [     1.0099      1.0211]\n",
            "\u001b[34m\u001b[1mtrain: \u001b[0mWARNING ⚠️ /content/shelves-5/train/images/train_197_jpg.rf.1352d85007da1b5746543e1a46fd3599.jpg: ignoring corrupt image/label: non-normalized or out of bounds coordinates [     1.0135]\n",
            "\u001b[34m\u001b[1mtrain: \u001b[0mWARNING ⚠️ /content/shelves-5/train/images/train_197_jpg.rf.3eb272c43b7672caeb76cbe63335376c.jpg: ignoring corrupt image/label: non-normalized or out of bounds coordinates [     1.0141]\n",
            "\u001b[34m\u001b[1mtrain: \u001b[0mWARNING ⚠️ /content/shelves-5/train/images/train_197_jpg.rf.bec21ce408f8dd103956ebc06e384dce.jpg: ignoring corrupt image/label: non-normalized or out of bounds coordinates [     1.0149]\n",
            "\u001b[34m\u001b[1mtrain: \u001b[0mWARNING ⚠️ /content/shelves-5/train/images/train_198_jpg.rf.3e5893c4d273ec5e7a8689909e3d3d1b.jpg: ignoring corrupt image/label: non-normalized or out of bounds coordinates [     1.0058      1.0033]\n",
            "\u001b[34m\u001b[1mtrain: \u001b[0mWARNING ⚠️ /content/shelves-5/train/images/train_198_jpg.rf.66dd4a1e0d5557b21477041ab8ba4628.jpg: ignoring corrupt image/label: non-normalized or out of bounds coordinates [     1.0058      1.0033]\n",
            "\u001b[34m\u001b[1mtrain: \u001b[0mWARNING ⚠️ /content/shelves-5/train/images/train_198_jpg.rf.81f5ea9b86a62c753ad197ad0d06df58.jpg: ignoring corrupt image/label: non-normalized or out of bounds coordinates [      1.006      1.0035]\n",
            "\u001b[34m\u001b[1mtrain: \u001b[0mWARNING ⚠️ /content/shelves-5/train/images/train_19_jpg.rf.13e9db7fd560f37fab3ee10a967c1596.jpg: ignoring corrupt image/label: non-normalized or out of bounds coordinates [     1.0022       1.004      1.0063]\n",
            "\u001b[34m\u001b[1mtrain: \u001b[0mWARNING ⚠️ /content/shelves-5/train/images/train_19_jpg.rf.50a8ce9e915609ebcd3fac9473e9ab24.jpg: ignoring corrupt image/label: non-normalized or out of bounds coordinates [     1.0021      1.0037      1.0058]\n",
            "\u001b[34m\u001b[1mtrain: \u001b[0mWARNING ⚠️ /content/shelves-5/train/images/train_19_jpg.rf.fee305851d9d843d7834453471401a31.jpg: ignoring corrupt image/label: non-normalized or out of bounds coordinates [     1.0022      1.0039      1.0062]\n",
            "\u001b[34m\u001b[1mtrain: \u001b[0mWARNING ⚠️ /content/shelves-5/train/images/train_1_jpg.rf.4b42341b6a088d1a4aca60fdf90af56b.jpg: ignoring corrupt image/label: non-normalized or out of bounds coordinates [     1.0037]\n",
            "\u001b[34m\u001b[1mtrain: \u001b[0mWARNING ⚠️ /content/shelves-5/train/images/train_1_jpg.rf.74af3895817da6f14bcf051e2d09c1fb.jpg: ignoring corrupt image/label: non-normalized or out of bounds coordinates [     1.0176      1.0005]\n",
            "\u001b[34m\u001b[1mtrain: \u001b[0mWARNING ⚠️ /content/shelves-5/train/images/train_1_jpg.rf.b0e25f293da2f7b07b4215e94498462c.jpg: ignoring corrupt image/label: non-normalized or out of bounds coordinates [     1.0162      1.0062      1.0003       1.016]\n",
            "\u001b[34m\u001b[1mtrain: \u001b[0mWARNING ⚠️ /content/shelves-5/train/images/train_2010_jpg.rf.1076f8c12a3486ac4c364122d603fe82.jpg: ignoring corrupt image/label: non-normalized or out of bounds coordinates [     1.0504       1.015      1.0825      1.0556]\n",
            "\u001b[34m\u001b[1mtrain: \u001b[0mWARNING ⚠️ /content/shelves-5/train/images/train_2010_jpg.rf.c8ab73ac9ce718c84c657063e68169ac.jpg: ignoring corrupt image/label: non-normalized or out of bounds coordinates [     1.0512      1.0152      1.0841        1.06]\n",
            "\u001b[34m\u001b[1mtrain: \u001b[0mWARNING ⚠️ /content/shelves-5/train/images/train_2010_jpg.rf.e5a61358f3e34332dd8d47c79a3a6359.jpg: ignoring corrupt image/label: non-normalized or out of bounds coordinates [     1.0513       1.015      1.0847      1.0796]\n",
            "\u001b[34m\u001b[1mtrain: \u001b[0mWARNING ⚠️ /content/shelves-5/train/images/train_2011_jpg.rf.a5c8b845bdd047c1fccf9bb18961c21b.jpg: ignoring corrupt image/label: non-normalized or out of bounds coordinates [      1.011]\n",
            "\u001b[34m\u001b[1mtrain: \u001b[0mWARNING ⚠️ /content/shelves-5/train/images/train_2011_jpg.rf.acb80ecd07c82b0acc0143be7dd8b04c.jpg: ignoring corrupt image/label: non-normalized or out of bounds coordinates [     1.0112]\n",
            "\u001b[34m\u001b[1mtrain: \u001b[0mWARNING ⚠️ /content/shelves-5/train/images/train_2011_jpg.rf.ef660c14547aa4c5bf353d7f9ff0d93f.jpg: ignoring corrupt image/label: non-normalized or out of bounds coordinates [     1.0124]\n",
            "\u001b[34m\u001b[1mtrain: \u001b[0mWARNING ⚠️ /content/shelves-5/train/images/train_2012_jpg.rf.f2f3f4b377f3bc2bcb2573fa7ec130c2.jpg: ignoring corrupt image/label: non-normalized or out of bounds coordinates [          1      1.0003      1.0012      1.0034      1.0016]\n",
            "\u001b[34m\u001b[1mtrain: \u001b[0mWARNING ⚠️ /content/shelves-5/train/images/train_2014_jpg.rf.257c2a31a7de136d29c8616bbe7811f0.jpg: ignoring corrupt image/label: non-normalized or out of bounds coordinates [     1.0025]\n",
            "\u001b[34m\u001b[1mtrain: \u001b[0mWARNING ⚠️ /content/shelves-5/train/images/train_2014_jpg.rf.c2db3bd0c4b5b9fad818f99532d1ddfd.jpg: ignoring corrupt image/label: non-normalized or out of bounds coordinates [     1.0025]\n",
            "\u001b[34m\u001b[1mtrain: \u001b[0mWARNING ⚠️ /content/shelves-5/train/images/train_2014_jpg.rf.ef2253eca81491d14141715337d582ad.jpg: ignoring corrupt image/label: non-normalized or out of bounds coordinates [     1.0025]\n",
            "\u001b[34m\u001b[1mtrain: \u001b[0mWARNING ⚠️ /content/shelves-5/train/images/train_2019_jpg.rf.4a026dbf0557d9e6044d60149c0aed2e.jpg: ignoring corrupt image/label: non-normalized or out of bounds coordinates [     1.0013      1.0015      1.0014]\n",
            "\u001b[34m\u001b[1mtrain: \u001b[0mWARNING ⚠️ /content/shelves-5/train/images/train_2019_jpg.rf.6ceaea118cc20aa53c7ce29f52e2a178.jpg: ignoring corrupt image/label: non-normalized or out of bounds coordinates [     1.0013      1.0015      1.0014]\n",
            "\u001b[34m\u001b[1mtrain: \u001b[0mWARNING ⚠️ /content/shelves-5/train/images/train_2019_jpg.rf.d11dbce88c41ccfd9956ea982291e5d0.jpg: ignoring corrupt image/label: non-normalized or out of bounds coordinates [     1.0013      1.0015      1.0015]\n",
            "\u001b[34m\u001b[1mtrain: \u001b[0mWARNING ⚠️ /content/shelves-5/train/images/train_2022_jpg.rf.03bb720cadd1a427bb1aa39bb5849dbe.jpg: ignoring corrupt image/label: non-normalized or out of bounds coordinates [     1.0018      1.0002      1.0015]\n",
            "\u001b[34m\u001b[1mtrain: \u001b[0mWARNING ⚠️ /content/shelves-5/train/images/train_2022_jpg.rf.766954510b3d8fcc9a114c4551d6c715.jpg: ignoring corrupt image/label: non-normalized or out of bounds coordinates [     1.0018      1.0002      1.0014]\n",
            "\u001b[34m\u001b[1mtrain: \u001b[0mWARNING ⚠️ /content/shelves-5/train/images/train_2022_jpg.rf.fa079dc88e5f600d060c965b3f147549.jpg: ignoring corrupt image/label: non-normalized or out of bounds coordinates [     1.0017      1.0002      1.0013]\n",
            "\u001b[34m\u001b[1mtrain: \u001b[0mWARNING ⚠️ /content/shelves-5/train/images/train_2026_jpg.rf.0331486b04629cb486bb6b1284f58dbf.jpg: ignoring corrupt image/label: non-normalized or out of bounds coordinates [     1.0059]\n",
            "\u001b[34m\u001b[1mtrain: \u001b[0mWARNING ⚠️ /content/shelves-5/train/images/train_2026_jpg.rf.3ec5a98c0d94311eda6a5a696655cd7e.jpg: ignoring corrupt image/label: non-normalized or out of bounds coordinates [     1.0049]\n",
            "\u001b[34m\u001b[1mtrain: \u001b[0mWARNING ⚠️ /content/shelves-5/train/images/train_2026_jpg.rf.a25168ecd4180f348e7a6edf0f8c0a72.jpg: ignoring corrupt image/label: non-normalized or out of bounds coordinates [     1.0041]\n",
            "\u001b[34m\u001b[1mtrain: \u001b[0mWARNING ⚠️ /content/shelves-5/train/images/train_2030_jpg.rf.cfd004430f8a2104aaeeea43c0afd37d.jpg: ignoring corrupt image/label: non-normalized or out of bounds coordinates [     1.0004      1.0127      1.0108      1.0038      1.0014]\n",
            "\u001b[34m\u001b[1mtrain: \u001b[0mWARNING ⚠️ /content/shelves-5/train/images/train_2033_jpg.rf.2a1bbece5bd50c395b14f237ee7c65e2.jpg: ignoring corrupt image/label: non-normalized or out of bounds coordinates [     1.0023]\n",
            "\u001b[34m\u001b[1mtrain: \u001b[0mWARNING ⚠️ /content/shelves-5/train/images/train_2033_jpg.rf.8e7272167d5e4886eef0c6ee7c917732.jpg: ignoring corrupt image/label: non-normalized or out of bounds coordinates [      1.003]\n",
            "\u001b[34m\u001b[1mtrain: \u001b[0mWARNING ⚠️ /content/shelves-5/train/images/train_2033_jpg.rf.8eb725c671afd983fddcaf2e484707bb.jpg: ignoring corrupt image/label: non-normalized or out of bounds coordinates [     1.0051      1.0022      1.0012]\n",
            "\u001b[34m\u001b[1mtrain: \u001b[0mWARNING ⚠️ /content/shelves-5/train/images/train_2035_jpg.rf.5e8190fd937398a72ad1344429010a1d.jpg: ignoring corrupt image/label: non-normalized or out of bounds coordinates [      1.005      1.0087      1.0056       1.002      1.0017           1]\n",
            "\u001b[34m\u001b[1mtrain: \u001b[0mWARNING ⚠️ /content/shelves-5/train/images/train_2035_jpg.rf.adbe5392a86205ce8ccaac26ee42ad0b.jpg: ignoring corrupt image/label: non-normalized or out of bounds coordinates [     1.0046       1.008      1.0052      1.0018      1.0016]\n",
            "\u001b[34m\u001b[1mtrain: \u001b[0mWARNING ⚠️ /content/shelves-5/train/images/train_2035_jpg.rf.e9693267b86ea913d2aa15ec9a864013.jpg: ignoring corrupt image/label: non-normalized or out of bounds coordinates [     1.0046      1.0081      1.0052      1.0019      1.0016]\n",
            "\u001b[34m\u001b[1mtrain: \u001b[0mWARNING ⚠️ /content/shelves-5/train/images/train_2043_jpg.rf.541083b04a9e11295da2ca35b00b60ae.jpg: ignoring corrupt image/label: non-normalized or out of bounds coordinates [     1.0019      1.0023      1.0027      1.0042]\n",
            "\u001b[34m\u001b[1mtrain: \u001b[0mWARNING ⚠️ /content/shelves-5/train/images/train_2043_jpg.rf.5929043e3309ce97f63db538e459b1ef.jpg: ignoring corrupt image/label: non-normalized or out of bounds coordinates [      1.002      1.0024      1.0028      1.0044]\n",
            "\u001b[34m\u001b[1mtrain: \u001b[0mWARNING ⚠️ /content/shelves-5/train/images/train_2043_jpg.rf.7aa63dbc7848c14b202fef5db995c64f.jpg: ignoring corrupt image/label: non-normalized or out of bounds coordinates [      1.002      1.0024      1.0028      1.0043]\n",
            "\u001b[34m\u001b[1mtrain: \u001b[0mWARNING ⚠️ /content/shelves-5/train/images/train_2047_jpg.rf.3e0120f1cd38d08a0dc29b2505c31162.jpg: ignoring corrupt image/label: non-normalized or out of bounds coordinates [     1.0158      1.0091      1.0061      1.0037      1.0005]\n",
            "\u001b[34m\u001b[1mtrain: \u001b[0mWARNING ⚠️ /content/shelves-5/train/images/train_2047_jpg.rf.76059067f6f839cc4237fb21cbed39ef.jpg: ignoring corrupt image/label: non-normalized or out of bounds coordinates [     1.0164      1.0098      1.0065      1.0026      1.0005]\n",
            "\u001b[34m\u001b[1mtrain: \u001b[0mWARNING ⚠️ /content/shelves-5/train/images/train_2047_jpg.rf.dbad06c5033f478993a90cbe605f88d9.jpg: ignoring corrupt image/label: non-normalized or out of bounds coordinates [     1.0158      1.0091      1.0005]\n",
            "\u001b[34m\u001b[1mtrain: \u001b[0mWARNING ⚠️ /content/shelves-5/train/images/train_2048_jpg.rf.cb76d4ac8faf771817946447fdf2f4a8.jpg: ignoring corrupt image/label: non-normalized or out of bounds coordinates [     1.0006]\n",
            "\u001b[34m\u001b[1mtrain: \u001b[0mWARNING ⚠️ /content/shelves-5/train/images/train_2049_jpg.rf.233b1e8e284a89b167643ddc67513d87.jpg: ignoring corrupt image/label: non-normalized or out of bounds coordinates [      1.012]\n",
            "\u001b[34m\u001b[1mtrain: \u001b[0mWARNING ⚠️ /content/shelves-5/train/images/train_2049_jpg.rf.2511f35b805fda43af16a684a7fa2b47.jpg: ignoring corrupt image/label: non-normalized or out of bounds coordinates [     1.0109]\n",
            "\u001b[34m\u001b[1mtrain: \u001b[0mWARNING ⚠️ /content/shelves-5/train/images/train_2049_jpg.rf.914f32e50205d36c112aeccedb2ed8ea.jpg: ignoring corrupt image/label: non-normalized or out of bounds coordinates [     1.0009      1.0148]\n",
            "\u001b[34m\u001b[1mtrain: \u001b[0mWARNING ⚠️ /content/shelves-5/train/images/train_2050_jpg.rf.45cb0bb0ffaa286945881c4b66f1d150.jpg: ignoring corrupt image/label: non-normalized or out of bounds coordinates [     1.0106       1.005]\n",
            "\u001b[34m\u001b[1mtrain: \u001b[0mWARNING ⚠️ /content/shelves-5/train/images/train_2050_jpg.rf.f7a9ca0693cb41093670c3aa1d8c764e.jpg: ignoring corrupt image/label: non-normalized or out of bounds coordinates [     1.0077]\n",
            "\u001b[34m\u001b[1mtrain: \u001b[0mWARNING ⚠️ /content/shelves-5/train/images/train_2050_jpg.rf.fe14440f91b3a03a8790212d5365c78f.jpg: ignoring corrupt image/label: non-normalized or out of bounds coordinates [     1.0106      1.0055]\n",
            "\u001b[34m\u001b[1mtrain: \u001b[0mWARNING ⚠️ /content/shelves-5/train/images/train_2051_jpg.rf.03f5ecb7f05116d275f8bc0610998c94.jpg: ignoring corrupt image/label: non-normalized or out of bounds coordinates [      1.001      1.0002      1.0006]\n",
            "\u001b[34m\u001b[1mtrain: \u001b[0mWARNING ⚠️ /content/shelves-5/train/images/train_2051_jpg.rf.98c349aa0ef2253795146d91319da78a.jpg: ignoring corrupt image/label: non-normalized or out of bounds coordinates [     1.0011      1.0004           1]\n",
            "\u001b[34m\u001b[1mtrain: \u001b[0mWARNING ⚠️ /content/shelves-5/train/images/train_2051_jpg.rf.fa586bd0450d67caa3b6020e3e8f8365.jpg: ignoring corrupt image/label: non-normalized or out of bounds coordinates [          1       1.001      1.0004      1.0001]\n",
            "\u001b[34m\u001b[1mtrain: \u001b[0mWARNING ⚠️ /content/shelves-5/train/images/train_2055_jpg.rf.40b893d38b45b875572d282dd92de944.jpg: ignoring corrupt image/label: non-normalized or out of bounds coordinates [     1.0079]\n",
            "\u001b[34m\u001b[1mtrain: \u001b[0mWARNING ⚠️ /content/shelves-5/train/images/train_2055_jpg.rf.b0939986f935b6247a8221b212f023c4.jpg: ignoring corrupt image/label: non-normalized or out of bounds coordinates [      1.008]\n",
            "\u001b[34m\u001b[1mtrain: \u001b[0mWARNING ⚠️ /content/shelves-5/train/images/train_2055_jpg.rf.e5af0f0ac0d20daa624d5bd6b1f1810d.jpg: ignoring corrupt image/label: non-normalized or out of bounds coordinates [     1.0081]\n",
            "\u001b[34m\u001b[1mtrain: \u001b[0mWARNING ⚠️ /content/shelves-5/train/images/train_2056_jpg.rf.8578d929e25aff65ecaac6d1fe081466.jpg: ignoring corrupt image/label: non-normalized or out of bounds coordinates [     1.0015      1.0019       1.002      1.0014      1.0014]\n",
            "\u001b[34m\u001b[1mtrain: \u001b[0mWARNING ⚠️ /content/shelves-5/train/images/train_2056_jpg.rf.a6c6b6346cdf46b04d5d33f2184ac90f.jpg: ignoring corrupt image/label: non-normalized or out of bounds coordinates [     1.0014      1.0018      1.0018      1.0012      1.0013      1.0013]\n",
            "\u001b[34m\u001b[1mtrain: \u001b[0mWARNING ⚠️ /content/shelves-5/train/images/train_2056_jpg.rf.c5730ef992b6f45afaa068fb04e65fed.jpg: ignoring corrupt image/label: non-normalized or out of bounds coordinates [     1.0014      1.0018      1.0018      1.0012      1.0013      1.0013]\n",
            "\u001b[34m\u001b[1mtrain: \u001b[0mWARNING ⚠️ /content/shelves-5/train/images/train_2057_jpg.rf.26bf07c77bac8e3b064b6b5266be1f86.jpg: ignoring corrupt image/label: non-normalized or out of bounds coordinates [      1.018       1.009      1.0396      1.0449      1.0586      1.0422]\n",
            "\u001b[34m\u001b[1mtrain: \u001b[0mWARNING ⚠️ /content/shelves-5/train/images/train_2057_jpg.rf.77d9f931baf4880b4111651c28b9a8e6.jpg: ignoring corrupt image/label: non-normalized or out of bounds coordinates [     1.0158      1.0093      1.0411      1.0466      1.0608      1.0461]\n",
            "\u001b[34m\u001b[1mtrain: \u001b[0mWARNING ⚠️ /content/shelves-5/train/images/train_2057_jpg.rf.e579c2d8316a2119a607900786242ee6.jpg: ignoring corrupt image/label: non-normalized or out of bounds coordinates [     1.0198      1.0096       1.043      1.0488       1.059]\n",
            "\u001b[34m\u001b[1mtrain: \u001b[0mWARNING ⚠️ /content/shelves-5/train/images/train_2060_jpg.rf.0e65504d0d020048ed93df84b14978dc.jpg: ignoring corrupt image/label: non-normalized or out of bounds coordinates [     1.0029]\n",
            "\u001b[34m\u001b[1mtrain: \u001b[0mWARNING ⚠️ /content/shelves-5/train/images/train_2060_jpg.rf.2bce333c8b49c4e1e9e414603c3c41c9.jpg: ignoring corrupt image/label: non-normalized or out of bounds coordinates [     1.0029]\n",
            "\u001b[34m\u001b[1mtrain: \u001b[0mWARNING ⚠️ /content/shelves-5/train/images/train_2060_jpg.rf.fd5f779a1e4963fbe099541715a48411.jpg: ignoring corrupt image/label: non-normalized or out of bounds coordinates [     1.0031]\n",
            "\u001b[34m\u001b[1mtrain: \u001b[0mWARNING ⚠️ /content/shelves-5/train/images/train_2061_jpg.rf.810cdf91af0880e6c94ce370a521077a.jpg: ignoring corrupt image/label: non-normalized or out of bounds coordinates [          1      1.0001      1.0003      1.0022      1.0022      1.0044]\n",
            "\u001b[34m\u001b[1mtrain: \u001b[0mWARNING ⚠️ /content/shelves-5/train/images/train_2061_jpg.rf.9bdfb711bbd886483738823e4384ab72.jpg: ignoring corrupt image/label: non-normalized or out of bounds coordinates [     1.0001      1.0003      1.0022      1.0022      1.0044]\n",
            "\u001b[34m\u001b[1mtrain: \u001b[0mWARNING ⚠️ /content/shelves-5/train/images/train_2061_jpg.rf.d90a5b2d1551310cce23cfaee4b85bb8.jpg: ignoring corrupt image/label: non-normalized or out of bounds coordinates [     1.0001      1.0003      1.0014      1.0022      1.0044]\n",
            "\u001b[34m\u001b[1mtrain: \u001b[0mWARNING ⚠️ /content/shelves-5/train/images/train_2062_jpg.rf.20be70f07180d4dd9f033f3759229ee4.jpg: ignoring corrupt image/label: non-normalized or out of bounds coordinates [     1.0072]\n",
            "\u001b[34m\u001b[1mtrain: \u001b[0mWARNING ⚠️ /content/shelves-5/train/images/train_2062_jpg.rf.5500056523e9a87f50f659bca0e8b745.jpg: ignoring corrupt image/label: non-normalized or out of bounds coordinates [     1.0073]\n",
            "\u001b[34m\u001b[1mtrain: \u001b[0mWARNING ⚠️ /content/shelves-5/train/images/train_2062_jpg.rf.87616f4240aac05e901d78a145fdf69f.jpg: ignoring corrupt image/label: non-normalized or out of bounds coordinates [     1.0069]\n",
            "\u001b[34m\u001b[1mtrain: \u001b[0mWARNING ⚠️ /content/shelves-5/train/images/train_2063_jpg.rf.277021ba3d5f804b3d084723183d7eb6.jpg: ignoring corrupt image/label: non-normalized or out of bounds coordinates [     1.0318]\n",
            "\u001b[34m\u001b[1mtrain: \u001b[0mWARNING ⚠️ /content/shelves-5/train/images/train_2063_jpg.rf.2d4060b18b2fb0e816c35725650e5a75.jpg: ignoring corrupt image/label: non-normalized or out of bounds coordinates [     1.0358]\n",
            "\u001b[34m\u001b[1mtrain: \u001b[0mWARNING ⚠️ /content/shelves-5/train/images/train_2063_jpg.rf.cda5d709946901998a7ca90863d6378b.jpg: ignoring corrupt image/label: non-normalized or out of bounds coordinates [     1.0407]\n",
            "\u001b[34m\u001b[1mtrain: \u001b[0mWARNING ⚠️ /content/shelves-5/train/images/train_2064_jpg.rf.6ff13eeb1e58e5b295d52172b489c92b.jpg: ignoring corrupt image/label: non-normalized or out of bounds coordinates [     1.0239      1.0303]\n",
            "\u001b[34m\u001b[1mtrain: \u001b[0mWARNING ⚠️ /content/shelves-5/train/images/train_2064_jpg.rf.a605d2d984bde21fe6fe6afaa1e88167.jpg: ignoring corrupt image/label: non-normalized or out of bounds coordinates [     1.0176      1.0253      1.0105]\n",
            "\u001b[34m\u001b[1mtrain: \u001b[0mWARNING ⚠️ /content/shelves-5/train/images/train_2064_jpg.rf.d979ed7fb758e2bca5df0b7886b79364.jpg: ignoring corrupt image/label: non-normalized or out of bounds coordinates [          1      1.0143      1.0162      1.0082]\n",
            "\u001b[34m\u001b[1mtrain: \u001b[0mWARNING ⚠️ /content/shelves-5/train/images/train_2065_jpg.rf.17277025bad7a00efd9beb319584b89d.jpg: ignoring corrupt image/label: non-normalized or out of bounds coordinates [     1.0017]\n",
            "\u001b[34m\u001b[1mtrain: \u001b[0mWARNING ⚠️ /content/shelves-5/train/images/train_2065_jpg.rf.b27b1f17275e0c408f4d5d98d368f590.jpg: ignoring corrupt image/label: non-normalized or out of bounds coordinates [     1.0017]\n",
            "\u001b[34m\u001b[1mtrain: \u001b[0mWARNING ⚠️ /content/shelves-5/train/images/train_2065_jpg.rf.ba3d7482caf173f39578b040d865b993.jpg: ignoring corrupt image/label: non-normalized or out of bounds coordinates [     1.0017       1.005      1.0017      1.0011]\n",
            "\u001b[34m\u001b[1mtrain: \u001b[0mWARNING ⚠️ /content/shelves-5/train/images/train_2066_jpg.rf.2e832a169fdb7aa7ab646aadabffff4e.jpg: ignoring corrupt image/label: non-normalized or out of bounds coordinates [      1.001      1.0047]\n",
            "\u001b[34m\u001b[1mtrain: \u001b[0mWARNING ⚠️ /content/shelves-5/train/images/train_2066_jpg.rf.7a82c2e1026e036f41f51129a98e7da0.jpg: ignoring corrupt image/label: non-normalized or out of bounds coordinates [      1.001      1.0047]\n",
            "\u001b[34m\u001b[1mtrain: \u001b[0mWARNING ⚠️ /content/shelves-5/train/images/train_2066_jpg.rf.8c8589e219775c021e2d8794b4cbc99d.jpg: ignoring corrupt image/label: non-normalized or out of bounds coordinates [      1.001      1.0047]\n",
            "\u001b[34m\u001b[1mtrain: \u001b[0mWARNING ⚠️ /content/shelves-5/train/images/train_2069_jpg.rf.9c4997a492c5e7552085457c2f5ef538.jpg: ignoring corrupt image/label: non-normalized or out of bounds coordinates [     1.0018      1.0015      1.0003      1.0014      1.0019      1.0019]\n",
            "\u001b[34m\u001b[1mtrain: \u001b[0mWARNING ⚠️ /content/shelves-5/train/images/train_2069_jpg.rf.a97c7bf0ea4c921e25d3a13fea5df281.jpg: ignoring corrupt image/label: non-normalized or out of bounds coordinates [     1.0018      1.0015      1.0003      1.0014      1.0019      1.0019]\n",
            "\u001b[34m\u001b[1mtrain: \u001b[0mWARNING ⚠️ /content/shelves-5/train/images/train_2069_jpg.rf.d52fdee20cdb61fae6568867cee6ed72.jpg: ignoring corrupt image/label: non-normalized or out of bounds coordinates [     1.0017      1.0014      1.0002      1.0013      1.0018      1.0018]\n",
            "\u001b[34m\u001b[1mtrain: \u001b[0mWARNING ⚠️ /content/shelves-5/train/images/train_2072_jpg.rf.0f20c7f69328eb2aa2a7cf9d4ea57402.jpg: ignoring corrupt image/label: non-normalized or out of bounds coordinates [      1.041]\n",
            "\u001b[34m\u001b[1mtrain: \u001b[0mWARNING ⚠️ /content/shelves-5/train/images/train_2072_jpg.rf.b3a9bd494e7c50e43d82da23ea77ebc1.jpg: ignoring corrupt image/label: non-normalized or out of bounds coordinates [     1.0083      1.0684]\n",
            "\u001b[34m\u001b[1mtrain: \u001b[0mWARNING ⚠️ /content/shelves-5/train/images/train_2072_jpg.rf.d3bad846b31d9f3f9b63765885a31c39.jpg: ignoring corrupt image/label: non-normalized or out of bounds coordinates [     1.0056]\n",
            "\u001b[34m\u001b[1mtrain: \u001b[0mWARNING ⚠️ /content/shelves-5/train/images/train_2073_jpg.rf.6686bc37d28a37995fc2172fdb6306d4.jpg: ignoring corrupt image/label: non-normalized or out of bounds coordinates [     1.0005]\n",
            "\u001b[34m\u001b[1mtrain: \u001b[0mWARNING ⚠️ /content/shelves-5/train/images/train_2073_jpg.rf.d2760829d00eff34134a899e78aa4889.jpg: ignoring corrupt image/label: non-normalized or out of bounds coordinates [     1.0034      1.0225      1.0426      1.0299]\n",
            "\u001b[34m\u001b[1mtrain: \u001b[0mWARNING ⚠️ /content/shelves-5/train/images/train_2073_jpg.rf.eb4432c7d528c7248a56bb972aa76cc9.jpg: ignoring corrupt image/label: non-normalized or out of bounds coordinates [     1.0002      1.0045]\n",
            "\u001b[34m\u001b[1mtrain: \u001b[0mWARNING ⚠️ /content/shelves-5/train/images/train_2075_jpg.rf.3eb46d109ac3a9a3bfc22465a478f373.jpg: ignoring corrupt image/label: non-normalized or out of bounds coordinates [     1.0079]\n",
            "\u001b[34m\u001b[1mtrain: \u001b[0mWARNING ⚠️ /content/shelves-5/train/images/train_2075_jpg.rf.63bf5f96400dcac52fbe3ca9c96c9342.jpg: ignoring corrupt image/label: non-normalized or out of bounds coordinates [      1.008]\n",
            "\u001b[34m\u001b[1mtrain: \u001b[0mWARNING ⚠️ /content/shelves-5/train/images/train_2075_jpg.rf.feedb4e91ada42e5aca32a1f50ee1cbb.jpg: ignoring corrupt image/label: non-normalized or out of bounds coordinates [     1.0077]\n",
            "\u001b[34m\u001b[1mtrain: \u001b[0mWARNING ⚠️ /content/shelves-5/train/images/train_2077_jpg.rf.09dcda821a8e4d973f8985aa2b9b78b5.jpg: ignoring corrupt image/label: non-normalized or out of bounds coordinates [     1.0006      1.0004      1.0006      1.0007      1.0003      1.0005      1.0016]\n",
            "\u001b[34m\u001b[1mtrain: \u001b[0mWARNING ⚠️ /content/shelves-5/train/images/train_2077_jpg.rf.55835c039ee4e7f9f7f177a3252cdc92.jpg: ignoring corrupt image/label: non-normalized or out of bounds coordinates [     1.0006      1.0004      1.0006      1.0007      1.0003      1.0005      1.0016]\n",
            "\u001b[34m\u001b[1mtrain: \u001b[0mWARNING ⚠️ /content/shelves-5/train/images/train_2077_jpg.rf.66073e1d8991286ece980508d91e98e2.jpg: ignoring corrupt image/label: non-normalized or out of bounds coordinates [     1.0007      1.0004      1.0006      1.0003      1.0005      1.0015]\n",
            "\u001b[34m\u001b[1mtrain: \u001b[0mWARNING ⚠️ /content/shelves-5/train/images/train_2078_jpg.rf.e9e741e6c3c6112ab049452daf7e4f09.jpg: ignoring corrupt image/label: non-normalized or out of bounds coordinates [     1.0086]\n",
            "\u001b[34m\u001b[1mtrain: \u001b[0mWARNING ⚠️ /content/shelves-5/train/images/train_2079_jpg.rf.8e039f06bcb4b0fe026a63573e23b6a1.jpg: ignoring corrupt image/label: non-normalized or out of bounds coordinates [     1.0007      1.0006           1      1.0007]\n",
            "\u001b[34m\u001b[1mtrain: \u001b[0mWARNING ⚠️ /content/shelves-5/train/images/train_2079_jpg.rf.c252d0c77fd71348914fe6406228352f.jpg: ignoring corrupt image/label: non-normalized or out of bounds coordinates [     1.0007      1.0005           1      1.0009]\n",
            "\u001b[34m\u001b[1mtrain: \u001b[0mWARNING ⚠️ /content/shelves-5/train/images/train_2079_jpg.rf.cedf7de6f77f0523d9b6fa2bce7ea795.jpg: ignoring corrupt image/label: non-normalized or out of bounds coordinates [     1.0007      1.0005           1      1.0008]\n",
            "\u001b[34m\u001b[1mtrain: \u001b[0mWARNING ⚠️ /content/shelves-5/train/images/train_2080_jpg.rf.5f20466122596c229400a65a251e6781.jpg: ignoring corrupt image/label: non-normalized or out of bounds coordinates [     1.0007      1.0015      1.0013      1.0021           1      1.0002      1.0016]\n",
            "\u001b[34m\u001b[1mtrain: \u001b[0mWARNING ⚠️ /content/shelves-5/train/images/train_2080_jpg.rf.6ac097da67af7ada70aa0718b3e7896d.jpg: ignoring corrupt image/label: non-normalized or out of bounds coordinates [     1.0007      1.0016      1.0014      1.0023           1      1.0002]\n",
            "\u001b[34m\u001b[1mtrain: \u001b[0mWARNING ⚠️ /content/shelves-5/train/images/train_2080_jpg.rf.b7593cc35f725189b49cdc0dc04c66c2.jpg: ignoring corrupt image/label: non-normalized or out of bounds coordinates [     1.0007      1.0015      1.0013      1.0022           1      1.0002      1.0017]\n",
            "\u001b[34m\u001b[1mtrain: \u001b[0mWARNING ⚠️ /content/shelves-5/train/images/train_2082_jpg.rf.bb3bbc56a56380fe5bde7d90ffb9758e.jpg: ignoring corrupt image/label: non-normalized or out of bounds coordinates [     1.0016]\n",
            "\u001b[34m\u001b[1mtrain: \u001b[0mWARNING ⚠️ /content/shelves-5/train/images/train_2082_jpg.rf.cacbab9b1cde2b689a2c6048f315cc33.jpg: ignoring corrupt image/label: non-normalized or out of bounds coordinates [     1.0015]\n",
            "\u001b[34m\u001b[1mtrain: \u001b[0mWARNING ⚠️ /content/shelves-5/train/images/train_2082_jpg.rf.ce46f0d69b6c6a71180c2ca8bd6faf38.jpg: ignoring corrupt image/label: non-normalized or out of bounds coordinates [     1.0015]\n",
            "\u001b[34m\u001b[1mtrain: \u001b[0mWARNING ⚠️ /content/shelves-5/train/images/train_2083_jpg.rf.1689d6cba6ebf61dbbbe986331c60721.jpg: ignoring corrupt image/label: non-normalized or out of bounds coordinates [     1.0222      1.0015      1.0077      1.0234      1.0264]\n",
            "\u001b[34m\u001b[1mtrain: \u001b[0mWARNING ⚠️ /content/shelves-5/train/images/train_2083_jpg.rf.b8cbd432f7d17a7c87e07eafb60b41b2.jpg: ignoring corrupt image/label: non-normalized or out of bounds coordinates [     1.0214      1.0014      1.0075      1.0228       1.032]\n",
            "\u001b[34m\u001b[1mtrain: \u001b[0mWARNING ⚠️ /content/shelves-5/train/images/train_2083_jpg.rf.ed032619927e9f480b31cf310533e1ee.jpg: ignoring corrupt image/label: non-normalized or out of bounds coordinates [     1.0226      1.0015      1.0077      1.0236      1.0297]\n",
            "\u001b[34m\u001b[1mtrain: \u001b[0mWARNING ⚠️ /content/shelves-5/train/images/train_2084_jpg.rf.2c03fb389a142e7d2a7d6d962fbff738.jpg: ignoring corrupt image/label: non-normalized or out of bounds coordinates [     1.0029      1.0011]\n",
            "\u001b[34m\u001b[1mtrain: \u001b[0mWARNING ⚠️ /content/shelves-5/train/images/train_2084_jpg.rf.5b219d957a9261ff3d4d2d4dd241ecfb.jpg: ignoring corrupt image/label: non-normalized or out of bounds coordinates [     1.0029      1.0011]\n",
            "\u001b[34m\u001b[1mtrain: \u001b[0mWARNING ⚠️ /content/shelves-5/train/images/train_2084_jpg.rf.96ed8bdb407402a72250d2489fd427c2.jpg: ignoring corrupt image/label: non-normalized or out of bounds coordinates [     1.0028      1.0011]\n",
            "\u001b[34m\u001b[1mtrain: \u001b[0mWARNING ⚠️ /content/shelves-5/train/images/train_2086_jpg.rf.aff09f2f462f0fee312c44507dda44e3.jpg: ignoring corrupt image/label: non-normalized or out of bounds coordinates [     1.0048]\n",
            "\u001b[34m\u001b[1mtrain: \u001b[0mWARNING ⚠️ /content/shelves-5/train/images/train_2086_jpg.rf.b42d6c7e5b7538152b7865caeda42ee2.jpg: ignoring corrupt image/label: non-normalized or out of bounds coordinates [     1.0048]\n",
            "\u001b[34m\u001b[1mtrain: \u001b[0mWARNING ⚠️ /content/shelves-5/train/images/train_2086_jpg.rf.b59ec1df4a53d506a94115a3ef07cb2b.jpg: ignoring corrupt image/label: non-normalized or out of bounds coordinates [     1.0047]\n",
            "\u001b[34m\u001b[1mtrain: \u001b[0mWARNING ⚠️ /content/shelves-5/train/images/train_2089_jpg.rf.39c1f21fd539785fd5304932cb9ff7ce.jpg: ignoring corrupt image/label: non-normalized or out of bounds coordinates [     1.0138]\n",
            "\u001b[34m\u001b[1mtrain: \u001b[0mWARNING ⚠️ /content/shelves-5/train/images/train_2090_jpg.rf.10782ef4bcea0dcf18a13d739e98fc76.jpg: ignoring corrupt image/label: non-normalized or out of bounds coordinates [     1.0251      1.0015      1.0284]\n",
            "\u001b[34m\u001b[1mtrain: \u001b[0mWARNING ⚠️ /content/shelves-5/train/images/train_2090_jpg.rf.62da2f7193652b000c0354dfb74dea1d.jpg: ignoring corrupt image/label: non-normalized or out of bounds coordinates [     1.0045]\n",
            "\u001b[34m\u001b[1mtrain: \u001b[0mWARNING ⚠️ /content/shelves-5/train/images/train_2090_jpg.rf.be43850b78696019db579c863ab4292f.jpg: ignoring corrupt image/label: non-normalized or out of bounds coordinates [     1.0309      1.0078       1.031      1.0586      1.0281]\n",
            "\u001b[34m\u001b[1mtrain: \u001b[0mWARNING ⚠️ /content/shelves-5/train/images/train_2093_jpg.rf.2ec3ee7155753888f0b16cde2f08217c.jpg: ignoring corrupt image/label: non-normalized or out of bounds coordinates [     1.0014      1.0011      1.0011      1.0002]\n",
            "\u001b[34m\u001b[1mtrain: \u001b[0mWARNING ⚠️ /content/shelves-5/train/images/train_2093_jpg.rf.da2939f9f1c87e4eb2ea84a6dba00376.jpg: ignoring corrupt image/label: non-normalized or out of bounds coordinates [     1.0015      1.0012      1.0012      1.0003]\n",
            "\u001b[34m\u001b[1mtrain: \u001b[0mWARNING ⚠️ /content/shelves-5/train/images/train_2093_jpg.rf.ef9c1bd8c41aee395df43b81cb7de16c.jpg: ignoring corrupt image/label: non-normalized or out of bounds coordinates [     1.0014      1.0011      1.0012      1.0003]\n",
            "\u001b[34m\u001b[1mtrain: \u001b[0mWARNING ⚠️ /content/shelves-5/train/images/train_2094_jpg.rf.6c21b1d1cdc911401b835ef94a92b491.jpg: ignoring corrupt image/label: non-normalized or out of bounds coordinates [     1.0002      1.0013      1.0015      1.0005           1]\n",
            "\u001b[34m\u001b[1mtrain: \u001b[0mWARNING ⚠️ /content/shelves-5/train/images/train_2095_jpg.rf.60001b5ee07f6e2482498dd6f1dade5e.jpg: ignoring corrupt image/label: non-normalized or out of bounds coordinates [     1.0029      1.0016      1.0063]\n",
            "\u001b[34m\u001b[1mtrain: \u001b[0mWARNING ⚠️ /content/shelves-5/train/images/train_2095_jpg.rf.c4f7c6646f137b2754b93ed0c5d27310.jpg: ignoring corrupt image/label: non-normalized or out of bounds coordinates [      1.003      1.0017      1.0065]\n",
            "\u001b[34m\u001b[1mtrain: \u001b[0mWARNING ⚠️ /content/shelves-5/train/images/train_2095_jpg.rf.da9d9824d8fab7e870661cd2e062731b.jpg: ignoring corrupt image/label: non-normalized or out of bounds coordinates [     1.0032      1.0017      1.0069]\n",
            "\u001b[34m\u001b[1mtrain: \u001b[0mWARNING ⚠️ /content/shelves-5/train/images/train_2096_jpg.rf.1800ef94ea6a9f7a853d76776d27c5b2.jpg: ignoring corrupt image/label: non-normalized or out of bounds coordinates [     1.0039      1.0016]\n",
            "\u001b[34m\u001b[1mtrain: \u001b[0mWARNING ⚠️ /content/shelves-5/train/images/train_2096_jpg.rf.79f59f4ceef2c913f7bbfc0a16fa4869.jpg: ignoring corrupt image/label: non-normalized or out of bounds coordinates [     1.0041      1.0017]\n",
            "\u001b[34m\u001b[1mtrain: \u001b[0mWARNING ⚠️ /content/shelves-5/train/images/train_2096_jpg.rf.f32df684868fa3f729fdca2e98b48b9d.jpg: ignoring corrupt image/label: non-normalized or out of bounds coordinates [     1.0041      1.0017]\n",
            "\u001b[34m\u001b[1mtrain: \u001b[0mWARNING ⚠️ /content/shelves-5/train/images/train_2097_jpg.rf.98539060553985eb7ec3aeb38e2f4c35.jpg: ignoring corrupt image/label: non-normalized or out of bounds coordinates [     1.0269      1.0324]\n",
            "\u001b[34m\u001b[1mtrain: \u001b[0mWARNING ⚠️ /content/shelves-5/train/images/train_2097_jpg.rf.be754a725e920421565ac0c0bb5acc71.jpg: ignoring corrupt image/label: non-normalized or out of bounds coordinates [     1.0262      1.0339]\n",
            "\u001b[34m\u001b[1mtrain: \u001b[0mWARNING ⚠️ /content/shelves-5/train/images/train_2097_jpg.rf.fb737b49af12bf313068647336b02017.jpg: ignoring corrupt image/label: non-normalized or out of bounds coordinates [     1.0249      1.0339]\n",
            "\u001b[34m\u001b[1mtrain: \u001b[0mWARNING ⚠️ /content/shelves-5/train/images/train_2101_jpg.rf.266a57f5a14f26deda5daa698ba98abd.jpg: ignoring corrupt image/label: non-normalized or out of bounds coordinates [     1.0052]\n",
            "\u001b[34m\u001b[1mtrain: \u001b[0mWARNING ⚠️ /content/shelves-5/train/images/train_2101_jpg.rf.47659b0d2f9697b84dff0bfd80abaf47.jpg: ignoring corrupt image/label: non-normalized or out of bounds coordinates [       1.01      1.0056]\n",
            "\u001b[34m\u001b[1mtrain: \u001b[0mWARNING ⚠️ /content/shelves-5/train/images/train_2101_jpg.rf.cb0fac14f53ff5d64181e9854ee7a7f8.jpg: ignoring corrupt image/label: non-normalized or out of bounds coordinates [     1.0049]\n",
            "\u001b[34m\u001b[1mtrain: \u001b[0mWARNING ⚠️ /content/shelves-5/train/images/train_2102_jpg.rf.235d0fd5a3dbf310a21376aa7bf42e7f.jpg: ignoring corrupt image/label: non-normalized or out of bounds coordinates [     1.0024]\n",
            "\u001b[34m\u001b[1mtrain: \u001b[0mWARNING ⚠️ /content/shelves-5/train/images/train_2102_jpg.rf.4f21dd6ea5e4f337ac35c5910953c3f9.jpg: ignoring corrupt image/label: non-normalized or out of bounds coordinates [     1.0025]\n",
            "\u001b[34m\u001b[1mtrain: \u001b[0mWARNING ⚠️ /content/shelves-5/train/images/train_2102_jpg.rf.ec43a062eb6c2c14f061471dc19acaf5.jpg: ignoring corrupt image/label: non-normalized or out of bounds coordinates [     1.0025]\n",
            "\u001b[34m\u001b[1mtrain: \u001b[0mWARNING ⚠️ /content/shelves-5/train/images/train_2104_jpg.rf.3292bd1d12bacfe389fd12cfb1412a1c.jpg: ignoring corrupt image/label: non-normalized or out of bounds coordinates [          1]\n",
            "\u001b[34m\u001b[1mtrain: \u001b[0mWARNING ⚠️ /content/shelves-5/train/images/train_2104_jpg.rf.3511322d68b8fc080a7aa46175528c95.jpg: ignoring corrupt image/label: non-normalized or out of bounds coordinates [          1]\n",
            "\u001b[34m\u001b[1mtrain: \u001b[0mWARNING ⚠️ /content/shelves-5/train/images/train_2106_jpg.rf.30eff0c6ff82109e415a78bb2cf462b3.jpg: ignoring corrupt image/label: non-normalized or out of bounds coordinates [     1.0021      1.0035      1.0024      1.0014      1.0003]\n",
            "\u001b[34m\u001b[1mtrain: \u001b[0mWARNING ⚠️ /content/shelves-5/train/images/train_2106_jpg.rf.4f1d9ccdb4dd82d9e13ab622868cb089.jpg: ignoring corrupt image/label: non-normalized or out of bounds coordinates [      1.002      1.0035      1.0024      1.0014      1.0003      1.0033]\n",
            "\u001b[34m\u001b[1mtrain: \u001b[0mWARNING ⚠️ /content/shelves-5/train/images/train_2106_jpg.rf.aca0b030c88485e0d616c19fd9b21ef4.jpg: ignoring corrupt image/label: non-normalized or out of bounds coordinates [     1.0035      1.0009]\n",
            "\u001b[34m\u001b[1mtrain: \u001b[0mWARNING ⚠️ /content/shelves-5/train/images/train_2107_jpg.rf.12b5d1e44840bc37b2ca0f30f441ff99.jpg: ignoring corrupt image/label: non-normalized or out of bounds coordinates [          1]\n",
            "\u001b[34m\u001b[1mtrain: \u001b[0mWARNING ⚠️ /content/shelves-5/train/images/train_2109_jpg.rf.0a6c74d07f8ebf9288645095fb716e05.jpg: ignoring corrupt image/label: non-normalized or out of bounds coordinates [      1.005      1.0044      1.0039]\n",
            "\u001b[34m\u001b[1mtrain: \u001b[0mWARNING ⚠️ /content/shelves-5/train/images/train_2109_jpg.rf.ac0cef21e9028417882c80cc27bb9254.jpg: ignoring corrupt image/label: non-normalized or out of bounds coordinates [     1.0047      1.0045      1.0037]\n",
            "\u001b[34m\u001b[1mtrain: \u001b[0mWARNING ⚠️ /content/shelves-5/train/images/train_2109_jpg.rf.fdd35ae22c843e482cff18f62a574c3e.jpg: ignoring corrupt image/label: non-normalized or out of bounds coordinates [     1.0049      1.0043      1.0038]\n",
            "\u001b[34m\u001b[1mtrain: \u001b[0mWARNING ⚠️ /content/shelves-5/train/images/train_2110_jpg.rf.44e29f9d8b7ae91e42d4790c143b6d72.jpg: ignoring corrupt image/label: non-normalized or out of bounds coordinates [     1.0013      1.0038      1.0056      1.0017      1.0041]\n",
            "\u001b[34m\u001b[1mtrain: \u001b[0mWARNING ⚠️ /content/shelves-5/train/images/train_2110_jpg.rf.5702efbe62f235d7e350830170cf6585.jpg: ignoring corrupt image/label: non-normalized or out of bounds coordinates [     1.0014      1.0041       1.006      1.0019]\n",
            "\u001b[34m\u001b[1mtrain: \u001b[0mWARNING ⚠️ /content/shelves-5/train/images/train_2110_jpg.rf.c56fa14f7055cbd6554fd195e628730f.jpg: ignoring corrupt image/label: non-normalized or out of bounds coordinates [     1.0014       1.004      1.0059      1.0018           1]\n",
            "\u001b[34m\u001b[1mtrain: \u001b[0mWARNING ⚠️ /content/shelves-5/train/images/train_2114_jpg.rf.28ea3f89ba3762aab9cc09a5d2038c71.jpg: ignoring corrupt image/label: non-normalized or out of bounds coordinates [     1.0464      1.0254]\n",
            "\u001b[34m\u001b[1mtrain: \u001b[0mWARNING ⚠️ /content/shelves-5/train/images/train_2114_jpg.rf.6b3967ea502f2d50f549049b0338df3a.jpg: ignoring corrupt image/label: non-normalized or out of bounds coordinates [      1.004      1.0513      1.0302]\n",
            "\u001b[34m\u001b[1mtrain: \u001b[0mWARNING ⚠️ /content/shelves-5/train/images/train_2114_jpg.rf.969bfd1c2b7fe88a34392f498f4b7dfb.jpg: ignoring corrupt image/label: non-normalized or out of bounds coordinates [     1.0028      1.0487       1.026]\n",
            "\u001b[34m\u001b[1mtrain: \u001b[0mWARNING ⚠️ /content/shelves-5/train/images/train_2115_jpg.rf.0f3dc294b2681d30f3c54355d0decdf5.jpg: ignoring corrupt image/label: non-normalized or out of bounds coordinates [     1.0019]\n",
            "\u001b[34m\u001b[1mtrain: \u001b[0mWARNING ⚠️ /content/shelves-5/train/images/train_2115_jpg.rf.8c11eec2c16bf73640aa353fc4b61138.jpg: ignoring corrupt image/label: non-normalized or out of bounds coordinates [     1.0008]\n",
            "\u001b[34m\u001b[1mtrain: \u001b[0mWARNING ⚠️ /content/shelves-5/train/images/train_2118_jpg.rf.2db49600f0526bf8d07cce6bea360191.jpg: ignoring corrupt image/label: non-normalized or out of bounds coordinates [     1.0285      1.0056]\n",
            "\u001b[34m\u001b[1mtrain: \u001b[0mWARNING ⚠️ /content/shelves-5/train/images/train_2118_jpg.rf.36fa76a4535968c92bf93c31d720969e.jpg: ignoring corrupt image/label: non-normalized or out of bounds coordinates [     1.0289      1.0058]\n",
            "\u001b[34m\u001b[1mtrain: \u001b[0mWARNING ⚠️ /content/shelves-5/train/images/train_2118_jpg.rf.7cf90734884e952f28bd268495fe88bb.jpg: ignoring corrupt image/label: non-normalized or out of bounds coordinates [     1.0302      1.0081]\n",
            "\u001b[34m\u001b[1mtrain: \u001b[0mWARNING ⚠️ /content/shelves-5/train/images/train_2122_jpg.rf.756ae6d15d403be232aea86a5efbd2ef.jpg: ignoring corrupt image/label: non-normalized or out of bounds coordinates [     1.0513]\n",
            "\u001b[34m\u001b[1mtrain: \u001b[0mWARNING ⚠️ /content/shelves-5/train/images/train_2122_jpg.rf.75f809eb4b78387da9b9111a0c868225.jpg: ignoring corrupt image/label: non-normalized or out of bounds coordinates [     1.0332]\n",
            "\u001b[34m\u001b[1mtrain: \u001b[0mWARNING ⚠️ /content/shelves-5/train/images/train_2122_jpg.rf.d6d46272423a01f810e51dbaffdc0449.jpg: ignoring corrupt image/label: non-normalized or out of bounds coordinates [     1.0455]\n",
            "\u001b[34m\u001b[1mtrain: \u001b[0mWARNING ⚠️ /content/shelves-5/train/images/train_2123_jpg.rf.6d9b27b72e9f307d1811f339b6b8d55c.jpg: ignoring corrupt image/label: non-normalized or out of bounds coordinates [     1.0031      1.0079      1.0048      1.0027      1.0018      1.0005      1.0006]\n",
            "\u001b[34m\u001b[1mtrain: \u001b[0mWARNING ⚠️ /content/shelves-5/train/images/train_2123_jpg.rf.9dfd805b096d3b87d45bc3b339edcc59.jpg: ignoring corrupt image/label: non-normalized or out of bounds coordinates [          1      1.0081      1.0049      1.0028      1.0019      1.0005      1.0006]\n",
            "\u001b[34m\u001b[1mtrain: \u001b[0mWARNING ⚠️ /content/shelves-5/train/images/train_2123_jpg.rf.c08a254263bd6b675e6e3526e8fc91ea.jpg: ignoring corrupt image/label: non-normalized or out of bounds coordinates [     1.0029      1.0078      1.0048      1.0027      1.0018      1.0005      1.0003]\n",
            "\u001b[34m\u001b[1mtrain: \u001b[0mWARNING ⚠️ /content/shelves-5/train/images/train_2124_jpg.rf.54fe0ad7634149d305f500d60108bd40.jpg: ignoring corrupt image/label: non-normalized or out of bounds coordinates [      1.004       1.001      1.0036      1.0012      1.0022      1.0016]\n",
            "\u001b[34m\u001b[1mtrain: \u001b[0mWARNING ⚠️ /content/shelves-5/train/images/train_2124_jpg.rf.6d0db3900295f863e254b08de0cfc541.jpg: ignoring corrupt image/label: non-normalized or out of bounds coordinates [      1.002       1.004       1.003      1.0036      1.0012      1.0022      1.0015]\n",
            "\u001b[34m\u001b[1mtrain: \u001b[0mWARNING ⚠️ /content/shelves-5/train/images/train_2124_jpg.rf.a3f84116fc11ebe6398741003a22ddc5.jpg: ignoring corrupt image/label: non-normalized or out of bounds coordinates [     1.0013      1.0039      1.0003      1.0012      1.0022      1.0015]\n",
            "\u001b[34m\u001b[1mtrain: \u001b[0mWARNING ⚠️ /content/shelves-5/train/images/train_2125_jpg.rf.2b4cbb6ee0f02400b16c1c974d692707.jpg: ignoring corrupt image/label: non-normalized or out of bounds coordinates [      1.002      1.0002      1.0006      1.0003]\n",
            "\u001b[34m\u001b[1mtrain: \u001b[0mWARNING ⚠️ /content/shelves-5/train/images/train_2125_jpg.rf.a779d3396ced92206fd06a8cd317a3ee.jpg: ignoring corrupt image/label: non-normalized or out of bounds coordinates [     1.0026      1.0029      1.0002      1.0002      1.0005       1.001      1.0033]\n",
            "\u001b[34m\u001b[1mtrain: \u001b[0mWARNING ⚠️ /content/shelves-5/train/images/train_2125_jpg.rf.db2746407b5f2b0239be710638fc6471.jpg: ignoring corrupt image/label: non-normalized or out of bounds coordinates [     1.0026      1.0029      1.0002      1.0002      1.0005       1.001      1.0033]\n",
            "\u001b[34m\u001b[1mtrain: \u001b[0mWARNING ⚠️ /content/shelves-5/train/images/train_2127_jpg.rf.1e07d6f489a41d2f1c27f31df358211b.jpg: ignoring corrupt image/label: non-normalized or out of bounds coordinates [     1.0009      1.0017]\n",
            "\u001b[34m\u001b[1mtrain: \u001b[0mWARNING ⚠️ /content/shelves-5/train/images/train_2127_jpg.rf.54e7a8b874af3688c1797ec72b14cdba.jpg: ignoring corrupt image/label: non-normalized or out of bounds coordinates [     1.0009      1.0017]\n",
            "\u001b[34m\u001b[1mtrain: \u001b[0mWARNING ⚠️ /content/shelves-5/train/images/train_2127_jpg.rf.da62317e3a365e39d8b6507771bbc8ef.jpg: ignoring corrupt image/label: non-normalized or out of bounds coordinates [     1.0004      1.0017]\n",
            "\u001b[34m\u001b[1mtrain: \u001b[0mWARNING ⚠️ /content/shelves-5/train/images/train_2128_jpg.rf.212a0a283753516f660750760da99d1a.jpg: ignoring corrupt image/label: non-normalized or out of bounds coordinates [     1.0134]\n",
            "\u001b[34m\u001b[1mtrain: \u001b[0mWARNING ⚠️ /content/shelves-5/train/images/train_2133_jpg.rf.c436111ed5658a8549a27e634feb80e6.jpg: ignoring corrupt image/label: non-normalized or out of bounds coordinates [      1.007]\n",
            "\u001b[34m\u001b[1mtrain: \u001b[0mWARNING ⚠️ /content/shelves-5/train/images/train_2133_jpg.rf.f7f04bb4c820604e35d5e801d839418c.jpg: ignoring corrupt image/label: non-normalized or out of bounds coordinates [     1.0067]\n",
            "\u001b[34m\u001b[1mtrain: \u001b[0mWARNING ⚠️ /content/shelves-5/train/images/train_2134_jpg.rf.21f00d3d268f34435949cd8c6b7c626f.jpg: ignoring corrupt image/label: non-normalized or out of bounds coordinates [     1.0005]\n",
            "\u001b[34m\u001b[1mtrain: \u001b[0mWARNING ⚠️ /content/shelves-5/train/images/train_2134_jpg.rf.33071b21fa94594bafcd3f27b4a33b52.jpg: ignoring corrupt image/label: non-normalized or out of bounds coordinates [     1.0005]\n",
            "\u001b[34m\u001b[1mtrain: \u001b[0mWARNING ⚠️ /content/shelves-5/train/images/train_2134_jpg.rf.9163a4b3c089662c49e12bbff1b1c50d.jpg: ignoring corrupt image/label: non-normalized or out of bounds coordinates [     1.0005]\n",
            "\u001b[34m\u001b[1mtrain: \u001b[0mWARNING ⚠️ /content/shelves-5/train/images/train_2135_jpg.rf.08f3deca4cc0a20ee7d9a6064e6038c5.jpg: ignoring corrupt image/label: non-normalized or out of bounds coordinates [     1.0205]\n",
            "\u001b[34m\u001b[1mtrain: \u001b[0mWARNING ⚠️ /content/shelves-5/train/images/train_2135_jpg.rf.1458ec0ec7e24c64802f8092037218db.jpg: ignoring corrupt image/label: non-normalized or out of bounds coordinates [     1.0208]\n",
            "\u001b[34m\u001b[1mtrain: \u001b[0mWARNING ⚠️ /content/shelves-5/train/images/train_2135_jpg.rf.6054f712664e31168e3257c9974da7fe.jpg: ignoring corrupt image/label: non-normalized or out of bounds coordinates [     1.0181]\n",
            "\u001b[34m\u001b[1mtrain: \u001b[0mWARNING ⚠️ /content/shelves-5/train/images/train_2138_jpg.rf.19a73e2f4edb7e29c49d2fcf7ddaf7fd.jpg: ignoring corrupt image/label: non-normalized or out of bounds coordinates [      1.005      1.0004      1.0246]\n",
            "\u001b[34m\u001b[1mtrain: \u001b[0mWARNING ⚠️ /content/shelves-5/train/images/train_2138_jpg.rf.34aaaf7ff35a11fdc76a404197a6f361.jpg: ignoring corrupt image/label: non-normalized or out of bounds coordinates [     1.0048      1.0003      1.0246]\n",
            "\u001b[34m\u001b[1mtrain: \u001b[0mWARNING ⚠️ /content/shelves-5/train/images/train_2138_jpg.rf.e22f4e23fb5140401b2a5097f7332ac0.jpg: ignoring corrupt image/label: non-normalized or out of bounds coordinates [     1.0007      1.0241]\n",
            "\u001b[34m\u001b[1mtrain: \u001b[0mWARNING ⚠️ /content/shelves-5/train/images/train_2139_jpg.rf.6a578505f92279b26b3b13340ecd3b40.jpg: ignoring corrupt image/label: non-normalized or out of bounds coordinates [     1.0051      1.0017       1.002]\n",
            "\u001b[34m\u001b[1mtrain: \u001b[0mWARNING ⚠️ /content/shelves-5/train/images/train_2139_jpg.rf.e6a4024d162514b72a5ce9c675decf71.jpg: ignoring corrupt image/label: non-normalized or out of bounds coordinates [      1.002]\n",
            "\u001b[34m\u001b[1mtrain: \u001b[0mWARNING ⚠️ /content/shelves-5/train/images/train_2139_jpg.rf.f9eddffbf54058c36a572046ca7506ed.jpg: ignoring corrupt image/label: non-normalized or out of bounds coordinates [     1.0052       1.003      1.0021]\n",
            "\u001b[34m\u001b[1mtrain: \u001b[0mWARNING ⚠️ /content/shelves-5/train/images/train_2141_jpg.rf.58f1d29c9a3557746382cd1ea7096abb.jpg: ignoring corrupt image/label: non-normalized or out of bounds coordinates [     1.0137      1.0086      1.0147      1.0294]\n",
            "\u001b[34m\u001b[1mtrain: \u001b[0mWARNING ⚠️ /content/shelves-5/train/images/train_2141_jpg.rf.b6d224ca22fe3f21891980bdd23b9628.jpg: ignoring corrupt image/label: non-normalized or out of bounds coordinates [     1.0161      1.0092      1.0157      1.0273]\n",
            "\u001b[34m\u001b[1mtrain: \u001b[0mWARNING ⚠️ /content/shelves-5/train/images/train_2141_jpg.rf.c19727866f50e00423780aedf8577fc7.jpg: ignoring corrupt image/label: non-normalized or out of bounds coordinates [     1.0094       1.016      1.0334]\n",
            "\u001b[34m\u001b[1mtrain: \u001b[0mWARNING ⚠️ /content/shelves-5/train/images/train_2142_jpg.rf.3a204c6da99a7a5c62b7b654c6de6b20.jpg: ignoring corrupt image/label: non-normalized or out of bounds coordinates [     1.0024]\n",
            "\u001b[34m\u001b[1mtrain: \u001b[0mWARNING ⚠️ /content/shelves-5/train/images/train_2142_jpg.rf.8722b2ce220ca3bd9592c3bfe604deef.jpg: ignoring corrupt image/label: non-normalized or out of bounds coordinates [     1.0024]\n",
            "\u001b[34m\u001b[1mtrain: \u001b[0mWARNING ⚠️ /content/shelves-5/train/images/train_2142_jpg.rf.c3389ecf37e5941423533b1aa2738e77.jpg: ignoring corrupt image/label: non-normalized or out of bounds coordinates [     1.0025]\n",
            "\u001b[34m\u001b[1mtrain: \u001b[0mWARNING ⚠️ /content/shelves-5/train/images/train_2143_jpg.rf.4bc8b4d248d33af8b8847470b44c611f.jpg: ignoring corrupt image/label: non-normalized or out of bounds coordinates [     1.0006      1.0011      1.0023]\n",
            "\u001b[34m\u001b[1mtrain: \u001b[0mWARNING ⚠️ /content/shelves-5/train/images/train_2143_jpg.rf.4df3786218d217e5748eab5df38f15e8.jpg: ignoring corrupt image/label: non-normalized or out of bounds coordinates [     1.0006      1.0011      1.0022]\n",
            "\u001b[34m\u001b[1mtrain: \u001b[0mWARNING ⚠️ /content/shelves-5/train/images/train_2143_jpg.rf.ea736f5177801c671815fbb143e7b3c5.jpg: ignoring corrupt image/label: non-normalized or out of bounds coordinates [     1.0006      1.0011      1.0022]\n",
            "\u001b[34m\u001b[1mtrain: \u001b[0mWARNING ⚠️ /content/shelves-5/train/images/train_2144_jpg.rf.5eac7ec20538c944fb6c5af1e1623007.jpg: ignoring corrupt image/label: non-normalized or out of bounds coordinates [     1.0002      1.0013       1.003      1.0011      1.0018]\n",
            "\u001b[34m\u001b[1mtrain: \u001b[0mWARNING ⚠️ /content/shelves-5/train/images/train_2144_jpg.rf.6d56aad5cca131c3d226cb01ee375116.jpg: ignoring corrupt image/label: non-normalized or out of bounds coordinates [     1.0002      1.0013       1.003      1.0011      1.0017]\n",
            "\u001b[34m\u001b[1mtrain: \u001b[0mWARNING ⚠️ /content/shelves-5/train/images/train_2144_jpg.rf.bcaacab8580c1deba9270550b88cfa46.jpg: ignoring corrupt image/label: non-normalized or out of bounds coordinates [     1.0002      1.0014      1.0032      1.0011       1.002]\n",
            "\u001b[34m\u001b[1mtrain: \u001b[0mWARNING ⚠️ /content/shelves-5/train/images/train_2151_jpg.rf.0eeccb14fd2d0b09c9864511cd312937.jpg: ignoring corrupt image/label: non-normalized or out of bounds coordinates [     1.0024      1.0025      1.0004      1.0003      1.0008]\n",
            "\u001b[34m\u001b[1mtrain: \u001b[0mWARNING ⚠️ /content/shelves-5/train/images/train_2151_jpg.rf.2a2b7ab914be0203ef6eb5c2ee76a0e0.jpg: ignoring corrupt image/label: non-normalized or out of bounds coordinates [     1.0025      1.0025      1.0004      1.0003      1.0008]\n",
            "\u001b[34m\u001b[1mtrain: \u001b[0mWARNING ⚠️ /content/shelves-5/train/images/train_2151_jpg.rf.59e79c336fe2c860ca21ec936f5d9ef1.jpg: ignoring corrupt image/label: non-normalized or out of bounds coordinates [     1.0025      1.0026      1.0004      1.0003      1.0008]\n",
            "\u001b[34m\u001b[1mtrain: \u001b[0mWARNING ⚠️ /content/shelves-5/train/images/train_2153_jpg.rf.0aaf332d5a4910018c5de61942858f7d.jpg: ignoring corrupt image/label: non-normalized or out of bounds coordinates [     1.0044      1.0014      1.0022      1.0029      1.0038           1]\n",
            "\u001b[34m\u001b[1mtrain: \u001b[0mWARNING ⚠️ /content/shelves-5/train/images/train_2153_jpg.rf.46625c2e1d13d03fa18b410b024864f3.jpg: ignoring corrupt image/label: non-normalized or out of bounds coordinates [     1.0042      1.0013      1.0016      1.0027      1.0026      1.0037]\n",
            "\u001b[34m\u001b[1mtrain: \u001b[0mWARNING ⚠️ /content/shelves-5/train/images/train_2153_jpg.rf.81a9bcd5d9bc2e6d31c83f20abb68230.jpg: ignoring corrupt image/label: non-normalized or out of bounds coordinates [     1.0042      1.0013      1.0021      1.0028      1.0036       1.006]\n",
            "\u001b[34m\u001b[1mtrain: \u001b[0mWARNING ⚠️ /content/shelves-5/train/images/train_2154_jpg.rf.8ab19cdc9ef2699be75861a68e6ff959.jpg: ignoring corrupt image/label: non-normalized or out of bounds coordinates [      1.001      1.0019      1.0012      1.0001      1.0009      1.0012      1.0001]\n",
            "\u001b[34m\u001b[1mtrain: \u001b[0mWARNING ⚠️ /content/shelves-5/train/images/train_2154_jpg.rf.b780d87206526905e91d606dcf8b5b01.jpg: ignoring corrupt image/label: non-normalized or out of bounds coordinates [     1.0011       1.002      1.0012      1.0001      1.0009      1.0013      1.0001]\n",
            "\u001b[34m\u001b[1mtrain: \u001b[0mWARNING ⚠️ /content/shelves-5/train/images/train_2154_jpg.rf.ec049ee3a003cadcf68552752570dcc5.jpg: ignoring corrupt image/label: non-normalized or out of bounds coordinates [      1.001      1.0018      1.0011      1.0001      1.0008      1.0012      1.0001]\n",
            "\u001b[34m\u001b[1mtrain: \u001b[0mWARNING ⚠️ /content/shelves-5/train/images/train_2160_jpg.rf.249823414b5d67b70c276c1917fcf3d6.jpg: ignoring corrupt image/label: non-normalized or out of bounds coordinates [     1.0163]\n",
            "\u001b[34m\u001b[1mtrain: \u001b[0mWARNING ⚠️ /content/shelves-5/train/images/train_2160_jpg.rf.2a7be929be5ea0bb22a1ab1a2be52679.jpg: ignoring corrupt image/label: non-normalized or out of bounds coordinates [     1.0283]\n",
            "\u001b[34m\u001b[1mtrain: \u001b[0mWARNING ⚠️ /content/shelves-5/train/images/train_2160_jpg.rf.518776ad4cf6e0eda80b020f46000dfc.jpg: ignoring corrupt image/label: non-normalized or out of bounds coordinates [     1.0292]\n",
            "\u001b[34m\u001b[1mtrain: \u001b[0mWARNING ⚠️ /content/shelves-5/train/images/train_2161_jpg.rf.098be250fa8ae8bc803609e6fedb4e52.jpg: ignoring corrupt image/label: non-normalized or out of bounds coordinates [     1.0048]\n",
            "\u001b[34m\u001b[1mtrain: \u001b[0mWARNING ⚠️ /content/shelves-5/train/images/train_2161_jpg.rf.845ddbab4a6ac7fce2d0586ca6d02ca7.jpg: ignoring corrupt image/label: non-normalized or out of bounds coordinates [     1.0037]\n",
            "\u001b[34m\u001b[1mtrain: \u001b[0mWARNING ⚠️ /content/shelves-5/train/images/train_2161_jpg.rf.a1814cfa79af9ea9e434fb74c53efb4a.jpg: ignoring corrupt image/label: non-normalized or out of bounds coordinates [     1.0022]\n",
            "\u001b[34m\u001b[1mtrain: \u001b[0mWARNING ⚠️ /content/shelves-5/train/images/train_2163_jpg.rf.3e86001f9922a8a54dd3eca8695a4d92.jpg: ignoring corrupt image/label: non-normalized or out of bounds coordinates [     1.0022      1.0002      1.0018      1.0002      1.0014      1.0007]\n",
            "\u001b[34m\u001b[1mtrain: \u001b[0mWARNING ⚠️ /content/shelves-5/train/images/train_2163_jpg.rf.49c0c80e71bdf3ec5406d71cc035ebcc.jpg: ignoring corrupt image/label: non-normalized or out of bounds coordinates [     1.0024      1.0003       1.002      1.0021      1.0015      1.0008]\n",
            "\u001b[34m\u001b[1mtrain: \u001b[0mWARNING ⚠️ /content/shelves-5/train/images/train_2163_jpg.rf.9f2aeecda166265d6f6f6418d0f34069.jpg: ignoring corrupt image/label: non-normalized or out of bounds coordinates [     1.0024      1.0003       1.002      1.0021      1.0015      1.0008]\n",
            "\u001b[34m\u001b[1mtrain: \u001b[0mWARNING ⚠️ /content/shelves-5/train/images/train_2169_jpg.rf.9dfc95044748e63d9fc614fa0163bef7.jpg: ignoring corrupt image/label: non-normalized or out of bounds coordinates [     1.0127]\n",
            "\u001b[34m\u001b[1mtrain: \u001b[0mWARNING ⚠️ /content/shelves-5/train/images/train_2169_jpg.rf.cb88dc5a63c5ec52d26581ed7b2086cc.jpg: ignoring corrupt image/label: non-normalized or out of bounds coordinates [     1.0028      1.0449]\n",
            "\u001b[34m\u001b[1mtrain: \u001b[0mWARNING ⚠️ /content/shelves-5/train/images/train_2175_jpg.rf.48a89a3a24d9b08f6e26757c0d5262d8.jpg: ignoring corrupt image/label: non-normalized or out of bounds coordinates [     1.0181      1.0307      1.0416]\n",
            "\u001b[34m\u001b[1mtrain: \u001b[0mWARNING ⚠️ /content/shelves-5/train/images/train_2175_jpg.rf.6f069f7c3bf1434a08af6d9ffe8efac6.jpg: ignoring corrupt image/label: non-normalized or out of bounds coordinates [      1.017      1.0002      1.0322      1.0457]\n",
            "\u001b[34m\u001b[1mtrain: \u001b[0mWARNING ⚠️ /content/shelves-5/train/images/train_2175_jpg.rf.ee26e247952b9478d9fd1cd09a673964.jpg: ignoring corrupt image/label: non-normalized or out of bounds coordinates [     1.0191      1.0002      1.0324      1.0383]\n",
            "\u001b[34m\u001b[1mtrain: \u001b[0mWARNING ⚠️ /content/shelves-5/train/images/train_2176_jpg.rf.7b011de9118fd772710c84ddca227beb.jpg: ignoring corrupt image/label: non-normalized or out of bounds coordinates [     1.0011      1.0001]\n",
            "\u001b[34m\u001b[1mtrain: \u001b[0mWARNING ⚠️ /content/shelves-5/train/images/train_2176_jpg.rf.870ef15bdf13afdd16a739e36b3b7650.jpg: ignoring corrupt image/label: non-normalized or out of bounds coordinates [     1.0009      1.0001]\n",
            "\u001b[34m\u001b[1mtrain: \u001b[0mWARNING ⚠️ /content/shelves-5/train/images/train_2176_jpg.rf.e9f4444bbfe0ea9b75e3a49d57608ebb.jpg: ignoring corrupt image/label: non-normalized or out of bounds coordinates [     1.0017      1.0002]\n",
            "\u001b[34m\u001b[1mtrain: \u001b[0mWARNING ⚠️ /content/shelves-5/train/images/train_2177_jpg.rf.087d06a1f2fad609e69f56916603b918.jpg: ignoring corrupt image/label: non-normalized or out of bounds coordinates [      1.001      1.0025      1.0043]\n",
            "\u001b[34m\u001b[1mtrain: \u001b[0mWARNING ⚠️ /content/shelves-5/train/images/train_2177_jpg.rf.4ab351b7703ee961573a0bdd9e7159f8.jpg: ignoring corrupt image/label: non-normalized or out of bounds coordinates [      1.001      1.0025      1.0042]\n",
            "\u001b[34m\u001b[1mtrain: \u001b[0mWARNING ⚠️ /content/shelves-5/train/images/train_2177_jpg.rf.feea9883860e85840ce55c4c369bbf61.jpg: ignoring corrupt image/label: non-normalized or out of bounds coordinates [      1.001      1.0025      1.0042]\n",
            "\u001b[34m\u001b[1mtrain: \u001b[0mWARNING ⚠️ /content/shelves-5/train/images/train_2178_jpg.rf.0c2a7c29733199aa11176db0e52662db.jpg: ignoring corrupt image/label: non-normalized or out of bounds coordinates [     1.0003]\n",
            "\u001b[34m\u001b[1mtrain: \u001b[0mWARNING ⚠️ /content/shelves-5/train/images/train_2178_jpg.rf.d2aff43087264701e74a1cc419de77ee.jpg: ignoring corrupt image/label: non-normalized or out of bounds coordinates [     1.0004]\n",
            "\u001b[34m\u001b[1mtrain: \u001b[0mWARNING ⚠️ /content/shelves-5/train/images/train_2178_jpg.rf.f2d5417d7b5bf07d25a71eff1800fcf7.jpg: ignoring corrupt image/label: non-normalized or out of bounds coordinates [     1.0003]\n",
            "\u001b[34m\u001b[1mtrain: \u001b[0mWARNING ⚠️ /content/shelves-5/train/images/train_2180_jpg.rf.5346086e463219a0f5c2f147ef3f3da7.jpg: ignoring corrupt image/label: non-normalized or out of bounds coordinates [     1.0036      1.0048      1.0044      1.0054]\n",
            "\u001b[34m\u001b[1mtrain: \u001b[0mWARNING ⚠️ /content/shelves-5/train/images/train_2180_jpg.rf.9ccbfe6c4116092b7ead5cbfa7e865b7.jpg: ignoring corrupt image/label: non-normalized or out of bounds coordinates [     1.0036      1.0048      1.0044      1.0039]\n",
            "\u001b[34m\u001b[1mtrain: \u001b[0mWARNING ⚠️ /content/shelves-5/train/images/train_2180_jpg.rf.a94c382788ebb11f153ae534e9284ab0.jpg: ignoring corrupt image/label: non-normalized or out of bounds coordinates [     1.0037      1.0049      1.0045      1.0056]\n",
            "\u001b[34m\u001b[1mtrain: \u001b[0mWARNING ⚠️ /content/shelves-5/train/images/train_2181_jpg.rf.28d0b28b5d1d8e46b60ab1d51e817f04.jpg: ignoring corrupt image/label: non-normalized or out of bounds coordinates [     1.0049      1.0038      1.0014      1.0029]\n",
            "\u001b[34m\u001b[1mtrain: \u001b[0mWARNING ⚠️ /content/shelves-5/train/images/train_2181_jpg.rf.569304b0e10cbddc2e4f1b393f221066.jpg: ignoring corrupt image/label: non-normalized or out of bounds coordinates [     1.0046      1.0035]\n",
            "\u001b[34m\u001b[1mtrain: \u001b[0mWARNING ⚠️ /content/shelves-5/train/images/train_2181_jpg.rf.a0f33be2945fc9961ce215d0f052150a.jpg: ignoring corrupt image/label: non-normalized or out of bounds coordinates [     1.0048      1.0038      1.0028]\n",
            "\u001b[34m\u001b[1mtrain: \u001b[0mWARNING ⚠️ /content/shelves-5/train/images/train_2183_jpg.rf.8d15f3935426ec52c3133852f63c228d.jpg: ignoring corrupt image/label: non-normalized or out of bounds coordinates [     1.0102       1.003       1.002]\n",
            "\u001b[34m\u001b[1mtrain: \u001b[0mWARNING ⚠️ /content/shelves-5/train/images/train_2183_jpg.rf.9552bb16612bc97c24ba4e82f4150e8a.jpg: ignoring corrupt image/label: non-normalized or out of bounds coordinates [     1.0106      1.0031       1.002]\n",
            "\u001b[34m\u001b[1mtrain: \u001b[0mWARNING ⚠️ /content/shelves-5/train/images/train_2183_jpg.rf.d26dfd6bad29ec7c324f7fd2a90e3cd8.jpg: ignoring corrupt image/label: non-normalized or out of bounds coordinates [     1.0107      1.0031       1.002]\n",
            "\u001b[34m\u001b[1mtrain: \u001b[0mWARNING ⚠️ /content/shelves-5/train/images/train_2185_jpg.rf.bf42f73ab8347afb798f3b7534c592b9.jpg: ignoring corrupt image/label: non-normalized or out of bounds coordinates [     1.0233]\n",
            "\u001b[34m\u001b[1mtrain: \u001b[0mWARNING ⚠️ /content/shelves-5/train/images/train_2185_jpg.rf.d7e49851bdc5b513fd61faf54afa95cd.jpg: ignoring corrupt image/label: non-normalized or out of bounds coordinates [     1.0013      1.0462]\n",
            "\u001b[34m\u001b[1mtrain: \u001b[0mWARNING ⚠️ /content/shelves-5/train/images/train_2189_jpg.rf.b978deb25f1a9ae81f68248d18eb434c.jpg: ignoring corrupt image/label: non-normalized or out of bounds coordinates [     1.0184       1.003      1.0227      1.0381      1.0346]\n",
            "\u001b[34m\u001b[1mtrain: \u001b[0mWARNING ⚠️ /content/shelves-5/train/images/train_2189_jpg.rf.ba8fcfb4595841892b08dc7590753c59.jpg: ignoring corrupt image/label: non-normalized or out of bounds coordinates [     1.0154       1.003      1.0231      1.0389      1.0407]\n",
            "\u001b[34m\u001b[1mtrain: \u001b[0mWARNING ⚠️ /content/shelves-5/train/images/train_2189_jpg.rf.c5901118d26410d5649b0d68937e399c.jpg: ignoring corrupt image/label: non-normalized or out of bounds coordinates [     1.0205      1.0029      1.0223      1.0372      1.0305]\n",
            "\u001b[34m\u001b[1mtrain: \u001b[0mWARNING ⚠️ /content/shelves-5/train/images/train_2192_jpg.rf.3b3e5718a7e08e6ca9a24428af830b10.jpg: ignoring corrupt image/label: non-normalized or out of bounds coordinates [     1.0018      1.0039]\n",
            "\u001b[34m\u001b[1mtrain: \u001b[0mWARNING ⚠️ /content/shelves-5/train/images/train_2192_jpg.rf.3f1ca4ea02dd5e90a404538c609ffaea.jpg: ignoring corrupt image/label: non-normalized or out of bounds coordinates [     1.0027      1.0009      1.0033      1.0039]\n",
            "\u001b[34m\u001b[1mtrain: \u001b[0mWARNING ⚠️ /content/shelves-5/train/images/train_2192_jpg.rf.90e08319c0051d34749abf3f8e672c47.jpg: ignoring corrupt image/label: non-normalized or out of bounds coordinates [     1.0015       1.001      1.0025      1.0041]\n",
            "\u001b[34m\u001b[1mtrain: \u001b[0mWARNING ⚠️ /content/shelves-5/train/images/train_2196_jpg.rf.053a43db591599af941a5b4967192d6a.jpg: ignoring corrupt image/label: non-normalized or out of bounds coordinates [     1.0012      1.0007      1.0035       1.014]\n",
            "\u001b[34m\u001b[1mtrain: \u001b[0mWARNING ⚠️ /content/shelves-5/train/images/train_2196_jpg.rf.0e6bbb26beb3d19b525588f63ed5d579.jpg: ignoring corrupt image/label: non-normalized or out of bounds coordinates [     1.0055      1.0009      1.0043      1.0144]\n",
            "\u001b[34m\u001b[1mtrain: \u001b[0mWARNING ⚠️ /content/shelves-5/train/images/train_2196_jpg.rf.3555f618afcb06688a0a4b3badfd8925.jpg: ignoring corrupt image/label: non-normalized or out of bounds coordinates [     1.0039      1.0009      1.0038       1.014]\n",
            "\u001b[34m\u001b[1mtrain: \u001b[0mWARNING ⚠️ /content/shelves-5/train/images/train_2197_jpg.rf.8d471e135e7436b94b96984ec33b2b54.jpg: ignoring corrupt image/label: non-normalized or out of bounds coordinates [      1.002      1.0004      1.0005      1.0012      1.0007      1.0003      1.0003]\n",
            "\u001b[34m\u001b[1mtrain: \u001b[0mWARNING ⚠️ /content/shelves-5/train/images/train_2197_jpg.rf.cc2bf1fa032122197c08d918c67a02fe.jpg: ignoring corrupt image/label: non-normalized or out of bounds coordinates [      1.002      1.0005      1.0005      1.0013      1.0007      1.0003           1]\n",
            "\u001b[34m\u001b[1mtrain: \u001b[0mWARNING ⚠️ /content/shelves-5/train/images/train_2197_jpg.rf.e73b92e561669654da98995d28608b8a.jpg: ignoring corrupt image/label: non-normalized or out of bounds coordinates [     1.0019      1.0005      1.0005      1.0012      1.0007      1.0003      1.0003]\n",
            "\u001b[34m\u001b[1mtrain: \u001b[0mWARNING ⚠️ /content/shelves-5/train/images/train_2199_jpg.rf.150b8bd641ca1b7b1795e31fe1a5c29f.jpg: ignoring corrupt image/label: non-normalized or out of bounds coordinates [     1.0004      1.0028      1.0013      1.0007]\n",
            "\u001b[34m\u001b[1mtrain: \u001b[0mWARNING ⚠️ /content/shelves-5/train/images/train_2199_jpg.rf.f2aaea342e261f2f954090b15c499315.jpg: ignoring corrupt image/label: non-normalized or out of bounds coordinates [     1.0004      1.0002]\n",
            "\u001b[34m\u001b[1mtrain: \u001b[0mWARNING ⚠️ /content/shelves-5/train/images/train_2202_jpg.rf.38c598b76fcbc2813138b628d2c155ca.jpg: ignoring corrupt image/label: non-normalized or out of bounds coordinates [     1.0031      1.0029       1.004      1.0055      1.0096]\n",
            "\u001b[34m\u001b[1mtrain: \u001b[0mWARNING ⚠️ /content/shelves-5/train/images/train_2202_jpg.rf.5f47e742efc110117d7b9c795ca531f5.jpg: ignoring corrupt image/label: non-normalized or out of bounds coordinates [      1.003      1.0034      1.0039      1.0053      1.0088]\n",
            "\u001b[34m\u001b[1mtrain: \u001b[0mWARNING ⚠️ /content/shelves-5/train/images/train_2202_jpg.rf.974ec67f446498a19db87a1f987649bf.jpg: ignoring corrupt image/label: non-normalized or out of bounds coordinates [     1.0026      1.0013      1.0038      1.0052]\n",
            "\u001b[34m\u001b[1mtrain: \u001b[0mWARNING ⚠️ /content/shelves-5/train/images/train_2204_jpg.rf.1b9f928222744096260fe158e71249ef.jpg: ignoring corrupt image/label: non-normalized or out of bounds coordinates [     1.0011      1.0009      1.0038      1.0024      1.0006]\n",
            "\u001b[34m\u001b[1mtrain: \u001b[0mWARNING ⚠️ /content/shelves-5/train/images/train_2204_jpg.rf.4f22d6513c7013ad04fb0ceb3b86ff8a.jpg: ignoring corrupt image/label: non-normalized or out of bounds coordinates [     1.0011      1.0009      1.0037      1.0023           1]\n",
            "\u001b[34m\u001b[1mtrain: \u001b[0mWARNING ⚠️ /content/shelves-5/train/images/train_2204_jpg.rf.decc6a398af75945a66c049eb9b403b8.jpg: ignoring corrupt image/label: non-normalized or out of bounds coordinates [     1.0011      1.0008      1.0036      1.0023      1.0005]\n",
            "\u001b[34m\u001b[1mtrain: \u001b[0mWARNING ⚠️ /content/shelves-5/train/images/train_2205_jpg.rf.0df8cbf8be9f8147218aee8654e7c641.jpg: ignoring corrupt image/label: non-normalized or out of bounds coordinates [     1.0067      1.0081           1]\n",
            "\u001b[34m\u001b[1mtrain: \u001b[0mWARNING ⚠️ /content/shelves-5/train/images/train_2205_jpg.rf.dc7cc750004f7be5dc0e6c724100d998.jpg: ignoring corrupt image/label: non-normalized or out of bounds coordinates [     1.0064      1.0076      1.0045]\n",
            "\u001b[34m\u001b[1mtrain: \u001b[0mWARNING ⚠️ /content/shelves-5/train/images/train_2205_jpg.rf.e408c4a318e321fd2f2f4411f67fada7.jpg: ignoring corrupt image/label: non-normalized or out of bounds coordinates [          1       1.008           1]\n",
            "\u001b[34m\u001b[1mtrain: \u001b[0mWARNING ⚠️ /content/shelves-5/train/images/train_2206_jpg.rf.61b0760fd27d03e3f9ac2b94345326c9.jpg: ignoring corrupt image/label: non-normalized or out of bounds coordinates [     1.0021       1.006]\n",
            "\u001b[34m\u001b[1mtrain: \u001b[0mWARNING ⚠️ /content/shelves-5/train/images/train_2206_jpg.rf.95702c3a6ea6ed9306d7776fd1357265.jpg: ignoring corrupt image/label: non-normalized or out of bounds coordinates [     1.0022      1.0061]\n",
            "\u001b[34m\u001b[1mtrain: \u001b[0mWARNING ⚠️ /content/shelves-5/train/images/train_2206_jpg.rf.c1f3c391d35d7b367e7b2adfcc08d7d9.jpg: ignoring corrupt image/label: non-normalized or out of bounds coordinates [      1.002      1.0058]\n",
            "\u001b[34m\u001b[1mtrain: \u001b[0mWARNING ⚠️ /content/shelves-5/train/images/train_2207_jpg.rf.28e2487974e151dfa592433f1d61c682.jpg: ignoring corrupt image/label: non-normalized or out of bounds coordinates [     1.0006      1.0003      1.0006      1.0013]\n",
            "\u001b[34m\u001b[1mtrain: \u001b[0mWARNING ⚠️ /content/shelves-5/train/images/train_2207_jpg.rf.a7ad163d1fc749fcd4623e6b400731ce.jpg: ignoring corrupt image/label: non-normalized or out of bounds coordinates [     1.0006      1.0004      1.0015      1.0019      1.0013]\n",
            "\u001b[34m\u001b[1mtrain: \u001b[0mWARNING ⚠️ /content/shelves-5/train/images/train_2207_jpg.rf.ed5572a1e9ecd0609e997dc57c216280.jpg: ignoring corrupt image/label: non-normalized or out of bounds coordinates [     1.0006      1.0004      1.0008      1.0013]\n",
            "\u001b[34m\u001b[1mtrain: \u001b[0mWARNING ⚠️ /content/shelves-5/train/images/train_2208_jpg.rf.576886f6f582bfc80b65f5881fb28a2e.jpg: ignoring corrupt image/label: non-normalized or out of bounds coordinates [      1.004       1.004      1.0069      1.0046]\n",
            "\u001b[34m\u001b[1mtrain: \u001b[0mWARNING ⚠️ /content/shelves-5/train/images/train_2208_jpg.rf.a3fc6e7ff4bdc7538c28fb073b7d486b.jpg: ignoring corrupt image/label: non-normalized or out of bounds coordinates [      1.004       1.004       1.007      1.0063]\n",
            "\u001b[34m\u001b[1mtrain: \u001b[0mWARNING ⚠️ /content/shelves-5/train/images/train_2208_jpg.rf.b18602b9d89bcd728d4bc8d4953fdb81.jpg: ignoring corrupt image/label: non-normalized or out of bounds coordinates [     1.0044      1.0042      1.0042      1.0073       1.008]\n",
            "\u001b[34m\u001b[1mtrain: \u001b[0mWARNING ⚠️ /content/shelves-5/train/images/train_2209_jpg.rf.8e457711553dd2732c3a4b590cd10dab.jpg: ignoring corrupt image/label: non-normalized or out of bounds coordinates [     1.0002      1.0031       1.008      1.0079]\n",
            "\u001b[34m\u001b[1mtrain: \u001b[0mWARNING ⚠️ /content/shelves-5/train/images/train_2209_jpg.rf.91a3bc474afaeac693c527cd5cbe8106.jpg: ignoring corrupt image/label: non-normalized or out of bounds coordinates [     1.0003      1.0033      1.0085]\n",
            "\u001b[34m\u001b[1mtrain: \u001b[0mWARNING ⚠️ /content/shelves-5/train/images/train_2209_jpg.rf.c36f9765ae4b0b1cf2bfda2610497fb8.jpg: ignoring corrupt image/label: non-normalized or out of bounds coordinates [     1.0003      1.0032      1.0083      1.0073]\n",
            "\u001b[34m\u001b[1mtrain: \u001b[0mWARNING ⚠️ /content/shelves-5/train/images/train_2211_jpg.rf.74662c7291148790fbb034936f906535.jpg: ignoring corrupt image/label: non-normalized or out of bounds coordinates [     1.0003]\n",
            "\u001b[34m\u001b[1mtrain: \u001b[0mWARNING ⚠️ /content/shelves-5/train/images/train_2211_jpg.rf.e6fc25816b5258fb4413c67b94558b5a.jpg: ignoring corrupt image/label: non-normalized or out of bounds coordinates [     1.0003]\n",
            "\u001b[34m\u001b[1mtrain: \u001b[0mWARNING ⚠️ /content/shelves-5/train/images/train_2211_jpg.rf.ea2b078bbc7c5cfe031d628ac41a5107.jpg: ignoring corrupt image/label: non-normalized or out of bounds coordinates [     1.0003]\n",
            "\u001b[34m\u001b[1mtrain: \u001b[0mWARNING ⚠️ /content/shelves-5/train/images/train_2212_jpg.rf.37ff2c7f47c10369bb273c3d9e04a2b3.jpg: ignoring corrupt image/label: non-normalized or out of bounds coordinates [     1.0015      1.0037]\n",
            "\u001b[34m\u001b[1mtrain: \u001b[0mWARNING ⚠️ /content/shelves-5/train/images/train_2212_jpg.rf.61723c37cd38cd087df5f905af6fbb1f.jpg: ignoring corrupt image/label: non-normalized or out of bounds coordinates [     1.0055      1.0049      1.0003      1.0001      1.0001]\n",
            "\u001b[34m\u001b[1mtrain: \u001b[0mWARNING ⚠️ /content/shelves-5/train/images/train_2212_jpg.rf.ca8765b071065611e12c0dcd7eb05e13.jpg: ignoring corrupt image/label: non-normalized or out of bounds coordinates [     1.0003       1.005      1.0046      1.0003      1.0001      1.0001]\n",
            "\u001b[34m\u001b[1mtrain: \u001b[0mWARNING ⚠️ /content/shelves-5/train/images/train_2213_jpg.rf.0141e457a849c1423f44c33d8a284889.jpg: ignoring corrupt image/label: non-normalized or out of bounds coordinates [     1.0056]\n",
            "\u001b[34m\u001b[1mtrain: \u001b[0mWARNING ⚠️ /content/shelves-5/train/images/train_2213_jpg.rf.b30e291061dad6121ea4e613e1d4bcaf.jpg: ignoring corrupt image/label: non-normalized or out of bounds coordinates [     1.0047]\n",
            "\u001b[34m\u001b[1mtrain: \u001b[0mWARNING ⚠️ /content/shelves-5/train/images/train_2213_jpg.rf.dbce8207aefcd280b2b02bb140263394.jpg: ignoring corrupt image/label: non-normalized or out of bounds coordinates [      1.012]\n",
            "\u001b[34m\u001b[1mtrain: \u001b[0mWARNING ⚠️ /content/shelves-5/train/images/train_2214_jpg.rf.16da216648e58f014a926d8eae549e59.jpg: ignoring corrupt image/label: non-normalized or out of bounds coordinates [     1.0033      1.0056      1.0067      1.0112      1.0089      1.0162]\n",
            "\u001b[34m\u001b[1mtrain: \u001b[0mWARNING ⚠️ /content/shelves-5/train/images/train_2214_jpg.rf.4bdbe882325a9f7b2e5a53690dba81c1.jpg: ignoring corrupt image/label: non-normalized or out of bounds coordinates [     1.0034      1.0057      1.0068      1.0113       1.009      1.0164]\n",
            "\u001b[34m\u001b[1mtrain: \u001b[0mWARNING ⚠️ /content/shelves-5/train/images/train_2214_jpg.rf.62443b77fa009fa2f28bceb17ff8c320.jpg: ignoring corrupt image/label: non-normalized or out of bounds coordinates [     1.0034      1.0057      1.0069      1.0114      1.0091      1.0166]\n",
            "\u001b[34m\u001b[1mtrain: \u001b[0mWARNING ⚠️ /content/shelves-5/train/images/train_2215_jpg.rf.22f4336b5eff47ec0802d47f53734691.jpg: ignoring corrupt image/label: non-normalized or out of bounds coordinates [     1.0037      1.0047      1.0035      1.0014]\n",
            "\u001b[34m\u001b[1mtrain: \u001b[0mWARNING ⚠️ /content/shelves-5/train/images/train_2215_jpg.rf.231a2d3f39a503dc51fafce8a1609fb5.jpg: ignoring corrupt image/label: non-normalized or out of bounds coordinates [     1.0037      1.0046      1.0014]\n",
            "\u001b[34m\u001b[1mtrain: \u001b[0mWARNING ⚠️ /content/shelves-5/train/images/train_2215_jpg.rf.7cb72b6cf6bf9c28f4ec918cccd57c6a.jpg: ignoring corrupt image/label: non-normalized or out of bounds coordinates [     1.0037      1.0035      1.0014]\n",
            "\u001b[34m\u001b[1mtrain: \u001b[0mWARNING ⚠️ /content/shelves-5/train/images/train_2218_jpg.rf.3aff6e506a0e61e29d4d24492c1fb899.jpg: ignoring corrupt image/label: non-normalized or out of bounds coordinates [          1]\n",
            "\u001b[34m\u001b[1mtrain: \u001b[0mWARNING ⚠️ /content/shelves-5/train/images/train_2218_jpg.rf.7826b31689be0f3d4eeaf70bdf3afff1.jpg: ignoring corrupt image/label: non-normalized or out of bounds coordinates [     1.0168]\n",
            "\u001b[34m\u001b[1mtrain: \u001b[0mWARNING ⚠️ /content/shelves-5/train/images/train_2218_jpg.rf.a5f6289d81b5c8955c35b2c007f9afe4.jpg: ignoring corrupt image/label: non-normalized or out of bounds coordinates [     1.0162]\n",
            "\u001b[34m\u001b[1mtrain: \u001b[0mWARNING ⚠️ /content/shelves-5/train/images/train_2219_jpg.rf.4a40c8fa665c57437cd9f53bb9e026e4.jpg: ignoring corrupt image/label: non-normalized or out of bounds coordinates [      1.002       1.001]\n",
            "\u001b[34m\u001b[1mtrain: \u001b[0mWARNING ⚠️ /content/shelves-5/train/images/train_2219_jpg.rf.631bbd4cae5ca06a21919d409a6b6a22.jpg: ignoring corrupt image/label: non-normalized or out of bounds coordinates [     1.0022       1.001]\n",
            "\u001b[34m\u001b[1mtrain: \u001b[0mWARNING ⚠️ /content/shelves-5/train/images/train_2219_jpg.rf.8bfe01a2c987a33868ec40fec987ffb1.jpg: ignoring corrupt image/label: non-normalized or out of bounds coordinates [     1.0018       1.001]\n",
            "\u001b[34m\u001b[1mtrain: \u001b[0mWARNING ⚠️ /content/shelves-5/train/images/train_2220_jpg.rf.066a6302ce968318e37ab1931f2cc056.jpg: ignoring corrupt image/label: non-normalized or out of bounds coordinates [     1.0016      1.0024]\n",
            "\u001b[34m\u001b[1mtrain: \u001b[0mWARNING ⚠️ /content/shelves-5/train/images/train_2220_jpg.rf.2630d300a6657fe9bee1aac551ffb8c7.jpg: ignoring corrupt image/label: non-normalized or out of bounds coordinates [     1.0016      1.0037]\n",
            "\u001b[34m\u001b[1mtrain: \u001b[0mWARNING ⚠️ /content/shelves-5/train/images/train_2220_jpg.rf.90bcd3bf843007685faf6d7400a059ac.jpg: ignoring corrupt image/label: non-normalized or out of bounds coordinates [          1      1.0029]\n",
            "\u001b[34m\u001b[1mtrain: \u001b[0mWARNING ⚠️ /content/shelves-5/train/images/train_2222_jpg.rf.282ad6485d25e6023267187e57ec73b2.jpg: ignoring corrupt image/label: non-normalized or out of bounds coordinates [     1.0037      1.0883]\n",
            "\u001b[34m\u001b[1mtrain: \u001b[0mWARNING ⚠️ /content/shelves-5/train/images/train_2222_jpg.rf.3bda8af969ce0c73b1420981ae0aa58c.jpg: ignoring corrupt image/label: non-normalized or out of bounds coordinates [      1.053]\n",
            "\u001b[34m\u001b[1mtrain: \u001b[0mWARNING ⚠️ /content/shelves-5/train/images/train_2222_jpg.rf.3e25cae2375ed8c4fea746d04e4e737a.jpg: ignoring corrupt image/label: non-normalized or out of bounds coordinates [     1.0533]\n",
            "\u001b[34m\u001b[1mtrain: \u001b[0mWARNING ⚠️ /content/shelves-5/train/images/train_2224_jpg.rf.35f5aadc9f08cb4f2d018de58c053eb3.jpg: ignoring corrupt image/label: non-normalized or out of bounds coordinates [     1.0001]\n",
            "\u001b[34m\u001b[1mtrain: \u001b[0mWARNING ⚠️ /content/shelves-5/train/images/train_2224_jpg.rf.7ad6edd9b6362c35f090e48ec2a6df20.jpg: ignoring corrupt image/label: non-normalized or out of bounds coordinates [     1.0033      1.0046      1.0049      1.0037      1.0031      1.0026      1.0007]\n",
            "\u001b[34m\u001b[1mtrain: \u001b[0mWARNING ⚠️ /content/shelves-5/train/images/train_2224_jpg.rf.d554d935f7e796530e0d6cf7a3425abe.jpg: ignoring corrupt image/label: non-normalized or out of bounds coordinates [     1.0034      1.0047       1.005      1.0038      1.0032      1.0019      1.0007]\n",
            "\u001b[34m\u001b[1mtrain: \u001b[0mWARNING ⚠️ /content/shelves-5/train/images/train_2235_jpg.rf.66a4946c0cb4bfdee131f90dc47d37a3.jpg: ignoring corrupt image/label: non-normalized or out of bounds coordinates [     1.0075      1.0121      1.0162]\n",
            "\u001b[34m\u001b[1mtrain: \u001b[0mWARNING ⚠️ /content/shelves-5/train/images/train_2235_jpg.rf.bd8a8f21785b4f76e0ac69998042b16f.jpg: ignoring corrupt image/label: non-normalized or out of bounds coordinates [     1.0074      1.0089      1.0156]\n",
            "\u001b[34m\u001b[1mtrain: \u001b[0mWARNING ⚠️ /content/shelves-5/train/images/train_2235_jpg.rf.c737186c39020c88e12216fd95ab2da8.jpg: ignoring corrupt image/label: non-normalized or out of bounds coordinates [     1.0091      1.0123      1.0166]\n",
            "\u001b[34m\u001b[1mtrain: \u001b[0mWARNING ⚠️ /content/shelves-5/train/images/train_2239_jpg.rf.383b9fb9ceb5c5dd57b81d155f3afd0c.jpg: ignoring corrupt image/label: non-normalized or out of bounds coordinates [          1      1.0084      1.0015]\n",
            "\u001b[34m\u001b[1mtrain: \u001b[0mWARNING ⚠️ /content/shelves-5/train/images/train_2239_jpg.rf.6f9612c63e53702be69ab2a28f6536d4.jpg: ignoring corrupt image/label: non-normalized or out of bounds coordinates [          1       1.008      1.0015]\n",
            "\u001b[34m\u001b[1mtrain: \u001b[0mWARNING ⚠️ /content/shelves-5/train/images/train_2239_jpg.rf.a3750fbc7fd03bda4115493b386d8999.jpg: ignoring corrupt image/label: non-normalized or out of bounds coordinates [      1.008      1.0015]\n",
            "\u001b[34m\u001b[1mtrain: \u001b[0mWARNING ⚠️ /content/shelves-5/train/images/train_2241_jpg.rf.85a0d52187b5ac9b6695e8511bf74ffa.jpg: ignoring corrupt image/label: non-normalized or out of bounds coordinates [      1.001           1]\n",
            "\u001b[34m\u001b[1mtrain: \u001b[0mWARNING ⚠️ /content/shelves-5/train/images/train_2241_jpg.rf.ebacc5df3ca2d574f47fe91c41311f87.jpg: ignoring corrupt image/label: non-normalized or out of bounds coordinates [     1.0009      1.0008]\n",
            "\u001b[34m\u001b[1mtrain: \u001b[0mWARNING ⚠️ /content/shelves-5/train/images/train_2241_jpg.rf.efda5499d65c20c9e08e1bf21c864827.jpg: ignoring corrupt image/label: non-normalized or out of bounds coordinates [      1.001      1.0001]\n",
            "\u001b[34m\u001b[1mtrain: \u001b[0mWARNING ⚠️ /content/shelves-5/train/images/train_2244_jpg.rf.19455586362617f1f124e35824163905.jpg: ignoring corrupt image/label: non-normalized or out of bounds coordinates [     1.0291]\n",
            "\u001b[34m\u001b[1mtrain: \u001b[0mWARNING ⚠️ /content/shelves-5/train/images/train_2244_jpg.rf.336e6e64b0681f6d81f6d5cf4b1daf27.jpg: ignoring corrupt image/label: non-normalized or out of bounds coordinates [     1.0263]\n",
            "\u001b[34m\u001b[1mtrain: \u001b[0mWARNING ⚠️ /content/shelves-5/train/images/train_2244_jpg.rf.d8d3ae7c5ee75d11bd37a31778e80683.jpg: ignoring corrupt image/label: non-normalized or out of bounds coordinates [       1.03]\n",
            "\u001b[34m\u001b[1mtrain: \u001b[0mWARNING ⚠️ /content/shelves-5/train/images/train_2245_jpg.rf.89e44fc83fe3803208ffbca20d2ddaa6.jpg: ignoring corrupt image/label: non-normalized or out of bounds coordinates [     1.0009      1.0006      1.0015      1.0002      1.0003      1.0003           1]\n",
            "\u001b[34m\u001b[1mtrain: \u001b[0mWARNING ⚠️ /content/shelves-5/train/images/train_2245_jpg.rf.96acfb218f0664dabc964b190fb2b25f.jpg: ignoring corrupt image/label: non-normalized or out of bounds coordinates [     1.0008      1.0005      1.0014      1.0001      1.0002      1.0013]\n",
            "\u001b[34m\u001b[1mtrain: \u001b[0mWARNING ⚠️ /content/shelves-5/train/images/train_2245_jpg.rf.9cae1e6b6e4244d40058274af97aca50.jpg: ignoring corrupt image/label: non-normalized or out of bounds coordinates [     1.0007      1.0006      1.0014      1.0002      1.0003      1.0003      1.0013]\n",
            "\u001b[34m\u001b[1mtrain: \u001b[0mWARNING ⚠️ /content/shelves-5/train/images/train_2246_jpg.rf.102b0e3454636bae96245d2bcdb663f0.jpg: ignoring corrupt image/label: non-normalized or out of bounds coordinates [     1.0066      1.0022      1.0036]\n",
            "\u001b[34m\u001b[1mtrain: \u001b[0mWARNING ⚠️ /content/shelves-5/train/images/train_2246_jpg.rf.38f85c4bc42a993ffbb0fccd2c0e00b7.jpg: ignoring corrupt image/label: non-normalized or out of bounds coordinates [     1.0018      1.0022      1.0035]\n",
            "\u001b[34m\u001b[1mtrain: \u001b[0mWARNING ⚠️ /content/shelves-5/train/images/train_2246_jpg.rf.772d0a765eb9f1f8331572c5d21bcffb.jpg: ignoring corrupt image/label: non-normalized or out of bounds coordinates [     1.0065      1.0022      1.0036]\n",
            "\u001b[34m\u001b[1mtrain: \u001b[0mWARNING ⚠️ /content/shelves-5/train/images/train_2247_jpg.rf.25b78cee3df6419d63bb1d9c1e01859b.jpg: ignoring corrupt image/label: non-normalized or out of bounds coordinates [     1.0017]\n",
            "\u001b[34m\u001b[1mtrain: \u001b[0mWARNING ⚠️ /content/shelves-5/train/images/train_2247_jpg.rf.43d8a8e33df0095c2dde8873ffa7229a.jpg: ignoring corrupt image/label: non-normalized or out of bounds coordinates [     1.0018]\n",
            "\u001b[34m\u001b[1mtrain: \u001b[0mWARNING ⚠️ /content/shelves-5/train/images/train_2247_jpg.rf.68b31bb53ab459b10e2e0534740c31ec.jpg: ignoring corrupt image/label: non-normalized or out of bounds coordinates [     1.0017]\n",
            "\u001b[34m\u001b[1mtrain: \u001b[0mWARNING ⚠️ /content/shelves-5/train/images/train_2248_jpg.rf.2e547def70acce2fb4851da9efc25c7b.jpg: ignoring corrupt image/label: non-normalized or out of bounds coordinates [     1.0019]\n",
            "\u001b[34m\u001b[1mtrain: \u001b[0mWARNING ⚠️ /content/shelves-5/train/images/train_2248_jpg.rf.6bca56a2a3e765a09aee39c97a63e87f.jpg: ignoring corrupt image/label: non-normalized or out of bounds coordinates [     1.0005      1.0013]\n",
            "\u001b[34m\u001b[1mtrain: \u001b[0mWARNING ⚠️ /content/shelves-5/train/images/train_2248_jpg.rf.6fe7d1eb44aca07ae8bbd4eda0b278c9.jpg: ignoring corrupt image/label: non-normalized or out of bounds coordinates [     1.0005      1.0013]\n",
            "\u001b[34m\u001b[1mtrain: \u001b[0mWARNING ⚠️ /content/shelves-5/train/images/train_2250_jpg.rf.29d304b2f7bf117e5a9e7025db0bec98.jpg: ignoring corrupt image/label: non-normalized or out of bounds coordinates [     1.0083]\n",
            "\u001b[34m\u001b[1mtrain: \u001b[0mWARNING ⚠️ /content/shelves-5/train/images/train_2250_jpg.rf.5d6f1a0ccf6410a247ee2e2d6278bef5.jpg: ignoring corrupt image/label: non-normalized or out of bounds coordinates [     1.0113]\n",
            "\u001b[34m\u001b[1mtrain: \u001b[0mWARNING ⚠️ /content/shelves-5/train/images/train_2251_jpg.rf.58c2fd991be23842f466065de6dc71c0.jpg: ignoring corrupt image/label: non-normalized or out of bounds coordinates [       1.01      1.0002]\n",
            "\u001b[34m\u001b[1mtrain: \u001b[0mWARNING ⚠️ /content/shelves-5/train/images/train_2251_jpg.rf.939821537f2fd114bf1cd7c098f985da.jpg: ignoring corrupt image/label: non-normalized or out of bounds coordinates [     1.0093]\n",
            "\u001b[34m\u001b[1mtrain: \u001b[0mWARNING ⚠️ /content/shelves-5/train/images/train_2251_jpg.rf.c18271693ab3cc7db9dd25435ebb0323.jpg: ignoring corrupt image/label: non-normalized or out of bounds coordinates [     1.0027]\n",
            "\u001b[34m\u001b[1mtrain: \u001b[0mWARNING ⚠️ /content/shelves-5/train/images/train_2254_jpg.rf.aa2a443900f4ce22a73267d5cfc8d684.jpg: ignoring corrupt image/label: non-normalized or out of bounds coordinates [     1.0027]\n",
            "\u001b[34m\u001b[1mtrain: \u001b[0mWARNING ⚠️ /content/shelves-5/train/images/train_2254_jpg.rf.c62aa860cc45e9eb23e9b249e2ca3999.jpg: ignoring corrupt image/label: non-normalized or out of bounds coordinates [     1.0027]\n",
            "\u001b[34m\u001b[1mtrain: \u001b[0mWARNING ⚠️ /content/shelves-5/train/images/train_2255_jpg.rf.64861c1a100dfb1220f927d8df0d7839.jpg: ignoring corrupt image/label: non-normalized or out of bounds coordinates [     1.0033      1.0024      1.0024      1.0003      1.0001      1.0018]\n",
            "\u001b[34m\u001b[1mtrain: \u001b[0mWARNING ⚠️ /content/shelves-5/train/images/train_2255_jpg.rf.78643701b67d3da9cc5d5441d1b3f84a.jpg: ignoring corrupt image/label: non-normalized or out of bounds coordinates [     1.0034      1.0025      1.0025      1.0003      1.0001      1.0019]\n",
            "\u001b[34m\u001b[1mtrain: \u001b[0mWARNING ⚠️ /content/shelves-5/train/images/train_2255_jpg.rf.ae2cb540c2f7ce0f31460323256b8d2d.jpg: ignoring corrupt image/label: non-normalized or out of bounds coordinates [      1.002]\n",
            "\u001b[34m\u001b[1mtrain: \u001b[0mWARNING ⚠️ /content/shelves-5/train/images/train_2268_jpg.rf.3ed0d5b817f98a430f222d9d350ec44e.jpg: ignoring corrupt image/label: non-normalized or out of bounds coordinates [     1.0058      1.0027      1.0024      1.0022      1.0033      1.0016       1.001]\n",
            "\u001b[34m\u001b[1mtrain: \u001b[0mWARNING ⚠️ /content/shelves-5/train/images/train_2268_jpg.rf.73339cb5ef3bbe01141a98655685b96c.jpg: ignoring corrupt image/label: non-normalized or out of bounds coordinates [      1.007      1.0029      1.0026      1.0024      1.0035      1.0017       1.001]\n",
            "\u001b[34m\u001b[1mtrain: \u001b[0mWARNING ⚠️ /content/shelves-5/train/images/train_2268_jpg.rf.a6b2b69a724eda79a99905a32a7afe2c.jpg: ignoring corrupt image/label: non-normalized or out of bounds coordinates [      1.003      1.0026      1.0024      1.0035      1.0018       1.001]\n",
            "\u001b[34m\u001b[1mtrain: \u001b[0mWARNING ⚠️ /content/shelves-5/train/images/train_2269_jpg.rf.6ad93b19a646a461b5c0a9e41529de97.jpg: ignoring corrupt image/label: non-normalized or out of bounds coordinates [     1.0006      1.0015      1.0016]\n",
            "\u001b[34m\u001b[1mtrain: \u001b[0mWARNING ⚠️ /content/shelves-5/train/images/train_2269_jpg.rf.6d8f4393af3dde118f30df88ccea104f.jpg: ignoring corrupt image/label: non-normalized or out of bounds coordinates [     1.0005      1.0017      1.0018]\n",
            "\u001b[34m\u001b[1mtrain: \u001b[0mWARNING ⚠️ /content/shelves-5/train/images/train_2269_jpg.rf.b37f3d345ac26c7b4c97e0cd4be427ed.jpg: ignoring corrupt image/label: non-normalized or out of bounds coordinates [     1.0006      1.0015      1.0017]\n",
            "\u001b[34m\u001b[1mtrain: \u001b[0mWARNING ⚠️ /content/shelves-5/train/images/train_23_jpg.rf.3f934e152b9ba9b4729041d71e4cbee9.jpg: ignoring corrupt image/label: non-normalized or out of bounds coordinates [     1.0108]\n",
            "\u001b[34m\u001b[1mtrain: \u001b[0mWARNING ⚠️ /content/shelves-5/train/images/train_23_jpg.rf.88162dff3e8ecc7abfa9fa7544337555.jpg: ignoring corrupt image/label: non-normalized or out of bounds coordinates [      1.008]\n",
            "\u001b[34m\u001b[1mtrain: \u001b[0mWARNING ⚠️ /content/shelves-5/train/images/train_23_jpg.rf.f0adb914c9fce48fa63bfaae3e8ab302.jpg: ignoring corrupt image/label: non-normalized or out of bounds coordinates [     1.0108]\n",
            "\u001b[34m\u001b[1mtrain: \u001b[0mWARNING ⚠️ /content/shelves-5/train/images/train_2703_jpg.rf.b5fc11d45f6903cda6b57e7a974a011c.jpg: ignoring corrupt image/label: non-normalized or out of bounds coordinates [     1.0021]\n",
            "\u001b[34m\u001b[1mtrain: \u001b[0mWARNING ⚠️ /content/shelves-5/train/images/train_2707_jpg.rf.1f303f007c80757af3fc2714c5c8d280.jpg: ignoring corrupt image/label: non-normalized or out of bounds coordinates [     1.0345      1.0128      1.0436      1.0946]\n",
            "\u001b[34m\u001b[1mtrain: \u001b[0mWARNING ⚠️ /content/shelves-5/train/images/train_2707_jpg.rf.34d9c61ddd98faaef2ef6071ac9be21f.jpg: ignoring corrupt image/label: non-normalized or out of bounds coordinates [     1.0371      1.0129      1.0418      1.0787]\n",
            "\u001b[34m\u001b[1mtrain: \u001b[0mWARNING ⚠️ /content/shelves-5/train/images/train_2707_jpg.rf.bfd4165347f306f76a1c25494843c11f.jpg: ignoring corrupt image/label: non-normalized or out of bounds coordinates [      1.039      1.0105      1.0426      1.0709]\n",
            "\u001b[34m\u001b[1mtrain: \u001b[0mWARNING ⚠️ /content/shelves-5/train/images/train_2709_jpg.rf.2a7d6aec6c2974e87279c66e3b8437db.jpg: ignoring corrupt image/label: non-normalized or out of bounds coordinates [     1.0171]\n",
            "\u001b[34m\u001b[1mtrain: \u001b[0mWARNING ⚠️ /content/shelves-5/train/images/train_2709_jpg.rf.acd8175a6dea6c7591a5dac03dfa70fd.jpg: ignoring corrupt image/label: non-normalized or out of bounds coordinates [      1.006]\n",
            "\u001b[34m\u001b[1mtrain: \u001b[0mWARNING ⚠️ /content/shelves-5/train/images/train_2709_jpg.rf.f3043a5d895e8ff81c364899d4386951.jpg: ignoring corrupt image/label: non-normalized or out of bounds coordinates [     1.0214]\n",
            "\u001b[34m\u001b[1mtrain: \u001b[0mWARNING ⚠️ /content/shelves-5/train/images/train_2717_jpg.rf.19062ccfb4ef83ea5b13eced30d89baf.jpg: ignoring corrupt image/label: non-normalized or out of bounds coordinates [     1.0065      1.0096      1.0223]\n",
            "\u001b[34m\u001b[1mtrain: \u001b[0mWARNING ⚠️ /content/shelves-5/train/images/train_2717_jpg.rf.7f4a6c49f4947449d71b1e9bb24c805a.jpg: ignoring corrupt image/label: non-normalized or out of bounds coordinates [     1.0069      1.0091      1.0223]\n",
            "\u001b[34m\u001b[1mtrain: \u001b[0mWARNING ⚠️ /content/shelves-5/train/images/train_2717_jpg.rf.e476e7a47e0a84576e8755343088c44b.jpg: ignoring corrupt image/label: non-normalized or out of bounds coordinates [     1.0088       1.014]\n",
            "\u001b[34m\u001b[1mtrain: \u001b[0mWARNING ⚠️ /content/shelves-5/train/images/train_2719_jpg.rf.707a0edb2c8cb5234ead464a983abaad.jpg: ignoring corrupt image/label: non-normalized or out of bounds coordinates [          1]\n",
            "\u001b[34m\u001b[1mtrain: \u001b[0mWARNING ⚠️ /content/shelves-5/train/images/train_2719_jpg.rf.90bf00da5558cc002f61b117cadb8856.jpg: ignoring corrupt image/label: non-normalized or out of bounds coordinates [      1.014]\n",
            "\u001b[34m\u001b[1mtrain: \u001b[0mWARNING ⚠️ /content/shelves-5/train/images/train_2722_jpg.rf.54353552d3a74f591208265ccec52679.jpg: ignoring corrupt image/label: non-normalized or out of bounds coordinates [     1.0112      1.0038      1.0026      1.0075]\n",
            "\u001b[34m\u001b[1mtrain: \u001b[0mWARNING ⚠️ /content/shelves-5/train/images/train_2722_jpg.rf.901d33c77fcb0c36b4d806330305b3eb.jpg: ignoring corrupt image/label: non-normalized or out of bounds coordinates [     1.0104      1.0036      1.0032      1.0024      1.0071]\n",
            "\u001b[34m\u001b[1mtrain: \u001b[0mWARNING ⚠️ /content/shelves-5/train/images/train_2722_jpg.rf.e8e431b080308a96527f32455f10816e.jpg: ignoring corrupt image/label: non-normalized or out of bounds coordinates [     1.0104      1.0036      1.0032      1.0024      1.0071]\n",
            "\u001b[34m\u001b[1mtrain: \u001b[0mWARNING ⚠️ /content/shelves-5/train/images/train_2723_jpg.rf.18221a46e63f1225ea5662631be5c3a8.jpg: ignoring corrupt image/label: non-normalized or out of bounds coordinates [     1.0344       1.032      1.1207]\n",
            "\u001b[34m\u001b[1mtrain: \u001b[0mWARNING ⚠️ /content/shelves-5/train/images/train_2723_jpg.rf.62922c6ec1a987545dfaa64b98f4369e.jpg: ignoring corrupt image/label: non-normalized or out of bounds coordinates [     1.0061      1.0317      1.0863]\n",
            "\u001b[34m\u001b[1mtrain: \u001b[0mWARNING ⚠️ /content/shelves-5/train/images/train_2723_jpg.rf.e0952b4c1d582eceed7ca64170720ff8.jpg: ignoring corrupt image/label: non-normalized or out of bounds coordinates [      1.024      1.0734]\n",
            "\u001b[34m\u001b[1mtrain: \u001b[0mWARNING ⚠️ /content/shelves-5/train/images/train_2728_jpg.rf.1e83322b31517b382f7cad49203a8ade.jpg: ignoring corrupt image/label: non-normalized or out of bounds coordinates [     1.0321      1.0411]\n",
            "\u001b[34m\u001b[1mtrain: \u001b[0mWARNING ⚠️ /content/shelves-5/train/images/train_2728_jpg.rf.b50d6406cd2c9412cfea5ffc1bf84e3c.jpg: ignoring corrupt image/label: non-normalized or out of bounds coordinates [     1.0385       1.042]\n",
            "\u001b[34m\u001b[1mtrain: \u001b[0mWARNING ⚠️ /content/shelves-5/train/images/train_2728_jpg.rf.e78f02d9993cac6f2892b69e4a93c694.jpg: ignoring corrupt image/label: non-normalized or out of bounds coordinates [     1.0323      1.0413]\n",
            "\u001b[34m\u001b[1mtrain: \u001b[0mWARNING ⚠️ /content/shelves-5/train/images/train_2730_jpg.rf.b1131f79cb35156f1be7944a01409ca2.jpg: ignoring corrupt image/label: non-normalized or out of bounds coordinates [      1.023]\n",
            "\u001b[34m\u001b[1mtrain: \u001b[0mWARNING ⚠️ /content/shelves-5/train/images/train_2732_jpg.rf.f8368a060ae18fac1a45724deba82918.jpg: ignoring corrupt image/label: non-normalized or out of bounds coordinates [     1.0034]\n",
            "\u001b[34m\u001b[1mtrain: \u001b[0mWARNING ⚠️ /content/shelves-5/train/images/train_2737_jpg.rf.73a620446f9ec55c1769098c81fba6f7.jpg: ignoring corrupt image/label: non-normalized or out of bounds coordinates [     1.0321      1.0003      1.0099      1.0031]\n",
            "\u001b[34m\u001b[1mtrain: \u001b[0mWARNING ⚠️ /content/shelves-5/train/images/train_2737_jpg.rf.745caf6c77feb7d9dadffae8ed1502de.jpg: ignoring corrupt image/label: non-normalized or out of bounds coordinates [      1.003]\n",
            "\u001b[34m\u001b[1mtrain: \u001b[0mWARNING ⚠️ /content/shelves-5/train/images/train_2737_jpg.rf.fe66d5ef1a04ca92433990f684ce966c.jpg: ignoring corrupt image/label: non-normalized or out of bounds coordinates [     1.0256]\n",
            "\u001b[34m\u001b[1mtrain: \u001b[0mWARNING ⚠️ /content/shelves-5/train/images/train_2741_jpg.rf.86a5a644801862998f925a6c89c4da3c.jpg: ignoring corrupt image/label: non-normalized or out of bounds coordinates [     1.0038]\n",
            "\u001b[34m\u001b[1mtrain: \u001b[0mWARNING ⚠️ /content/shelves-5/train/images/train_2742_jpg.rf.621ed48991e8d7791202adfcd202ffa0.jpg: ignoring corrupt image/label: non-normalized or out of bounds coordinates [     1.0059      1.0211      1.0466      1.0515      1.0985]\n",
            "\u001b[34m\u001b[1mtrain: \u001b[0mWARNING ⚠️ /content/shelves-5/train/images/train_2742_jpg.rf.864b2a39531c14f603c2614601174772.jpg: ignoring corrupt image/label: non-normalized or out of bounds coordinates [     1.0072      1.0223      1.0488      1.0542      1.0767]\n",
            "\u001b[34m\u001b[1mtrain: \u001b[0mWARNING ⚠️ /content/shelves-5/train/images/train_2742_jpg.rf.962f5850f5b86755deda26bd7e198d21.jpg: ignoring corrupt image/label: non-normalized or out of bounds coordinates [     1.0065      1.0211      1.0467      1.0515      1.0891]\n",
            "\u001b[34m\u001b[1mtrain: \u001b[0mWARNING ⚠️ /content/shelves-5/train/images/train_2744_jpg.rf.fe2d7851ceb8fbc6a5988d9c27d7294c.jpg: ignoring corrupt image/label: non-normalized or out of bounds coordinates [     1.0066]\n",
            "\u001b[34m\u001b[1mtrain: \u001b[0mWARNING ⚠️ /content/shelves-5/train/images/train_2746_jpg.rf.003db5e18da73789b6117eccb0866ce7.jpg: ignoring corrupt image/label: non-normalized or out of bounds coordinates [     1.0156      1.0222]\n",
            "\u001b[34m\u001b[1mtrain: \u001b[0mWARNING ⚠️ /content/shelves-5/train/images/train_2746_jpg.rf.3238eb7887577f778baefb18e7f55499.jpg: ignoring corrupt image/label: non-normalized or out of bounds coordinates [     1.0128      1.0083       1.011]\n",
            "\u001b[34m\u001b[1mtrain: \u001b[0mWARNING ⚠️ /content/shelves-5/train/images/train_2746_jpg.rf.a645aba8c5a1168fb22bde6e989d376f.jpg: ignoring corrupt image/label: non-normalized or out of bounds coordinates [     1.0149      1.0412]\n",
            "\u001b[34m\u001b[1mtrain: \u001b[0mWARNING ⚠️ /content/shelves-5/train/images/train_2749_jpg.rf.bb3f975b7fd19668c57b39489c7d34e2.jpg: ignoring corrupt image/label: non-normalized or out of bounds coordinates [          1]\n",
            "\u001b[34m\u001b[1mtrain: \u001b[0mWARNING ⚠️ /content/shelves-5/train/images/train_2756_jpg.rf.b5d9cddc03137ec56ab1f591f2f60c3e.jpg: ignoring corrupt image/label: non-normalized or out of bounds coordinates [     1.0115]\n",
            "\u001b[34m\u001b[1mtrain: \u001b[0mWARNING ⚠️ /content/shelves-5/train/images/train_2758_jpg.rf.16ad31d657e8e7d5ffaf7e0b3a93a1e9.jpg: ignoring corrupt image/label: non-normalized or out of bounds coordinates [     1.0124      1.0497      1.0747]\n",
            "\u001b[34m\u001b[1mtrain: \u001b[0mWARNING ⚠️ /content/shelves-5/train/images/train_2758_jpg.rf.30348e63f1077a8db244036e2fb8cbcc.jpg: ignoring corrupt image/label: non-normalized or out of bounds coordinates [     1.0249      1.0308      1.0596]\n",
            "\u001b[34m\u001b[1mtrain: \u001b[0mWARNING ⚠️ /content/shelves-5/train/images/train_2758_jpg.rf.b6e809414b5ac13c88bfdd085b2934a7.jpg: ignoring corrupt image/label: non-normalized or out of bounds coordinates [     1.0049      1.0071      1.0348      1.0591]\n",
            "\u001b[34m\u001b[1mtrain: \u001b[0mWARNING ⚠️ /content/shelves-5/train/images/train_2760_jpg.rf.3a891422df6c2f2beb0f505abce16cf7.jpg: ignoring corrupt image/label: non-normalized or out of bounds coordinates [     1.1248]\n",
            "\u001b[34m\u001b[1mtrain: \u001b[0mWARNING ⚠️ /content/shelves-5/train/images/train_2760_jpg.rf.4401bbe3392bd2982a79c629d9957047.jpg: ignoring corrupt image/label: non-normalized or out of bounds coordinates [     1.1169]\n",
            "\u001b[34m\u001b[1mtrain: \u001b[0mWARNING ⚠️ /content/shelves-5/train/images/train_2760_jpg.rf.98d485c130c733ff49fd722f600cc705.jpg: ignoring corrupt image/label: non-normalized or out of bounds coordinates [     1.1144]\n",
            "\u001b[34m\u001b[1mtrain: \u001b[0mWARNING ⚠️ /content/shelves-5/train/images/train_2762_jpg.rf.19b975bfd2e689b920d2b25642edf8b5.jpg: ignoring corrupt image/label: non-normalized or out of bounds coordinates [     1.0036]\n",
            "\u001b[34m\u001b[1mtrain: \u001b[0mWARNING ⚠️ /content/shelves-5/train/images/train_2762_jpg.rf.2a0f48254e093d9022be5e465e297a0c.jpg: ignoring corrupt image/label: non-normalized or out of bounds coordinates [     1.0058]\n",
            "\u001b[34m\u001b[1mtrain: \u001b[0mWARNING ⚠️ /content/shelves-5/train/images/train_2762_jpg.rf.3fe345aa84a5279da60c307dad50597c.jpg: ignoring corrupt image/label: non-normalized or out of bounds coordinates [     1.0046]\n",
            "\u001b[34m\u001b[1mtrain: \u001b[0mWARNING ⚠️ /content/shelves-5/train/images/train_2763_jpg.rf.09878db1cccba2a040acceae0cc524a1.jpg: ignoring corrupt image/label: non-normalized or out of bounds coordinates [          1]\n",
            "\u001b[34m\u001b[1mtrain: \u001b[0mWARNING ⚠️ /content/shelves-5/train/images/train_2766_jpg.rf.5b93660505c554420fed2502bd8c572a.jpg: ignoring corrupt image/label: non-normalized or out of bounds coordinates [     1.0053      1.0024]\n",
            "\u001b[34m\u001b[1mtrain: \u001b[0mWARNING ⚠️ /content/shelves-5/train/images/train_2766_jpg.rf.6e55f48629dfb0f3c8c0a0d2cc986dba.jpg: ignoring corrupt image/label: non-normalized or out of bounds coordinates [     1.0026]\n",
            "\u001b[34m\u001b[1mtrain: \u001b[0mWARNING ⚠️ /content/shelves-5/train/images/train_2766_jpg.rf.88a3d387f08c9115ce148a3dd6690e50.jpg: ignoring corrupt image/label: non-normalized or out of bounds coordinates [     1.0026]\n",
            "\u001b[34m\u001b[1mtrain: \u001b[0mWARNING ⚠️ /content/shelves-5/train/images/train_2768_jpg.rf.471e281c7c4f005fbb7b9b18bf315d54.jpg: ignoring corrupt image/label: non-normalized or out of bounds coordinates [     1.0252]\n",
            "\u001b[34m\u001b[1mtrain: \u001b[0mWARNING ⚠️ /content/shelves-5/train/images/train_2768_jpg.rf.797c5688e6cd6dc368ee852f550da975.jpg: ignoring corrupt image/label: non-normalized or out of bounds coordinates [     1.0197]\n",
            "\u001b[34m\u001b[1mtrain: \u001b[0mWARNING ⚠️ /content/shelves-5/train/images/train_2768_jpg.rf.bee3c025531ff4926ca153605a6496b2.jpg: ignoring corrupt image/label: non-normalized or out of bounds coordinates [     1.0218]\n",
            "\u001b[34m\u001b[1mtrain: \u001b[0mWARNING ⚠️ /content/shelves-5/train/images/train_2770_jpg.rf.56f5d733ae74deb1d1f38bc3ff2fd740.jpg: ignoring corrupt image/label: non-normalized or out of bounds coordinates [     1.0506]\n",
            "\u001b[34m\u001b[1mtrain: \u001b[0mWARNING ⚠️ /content/shelves-5/train/images/train_2770_jpg.rf.9ba94fc793b810360d21adbdfdf8e1b5.jpg: ignoring corrupt image/label: non-normalized or out of bounds coordinates [     1.0507]\n",
            "\u001b[34m\u001b[1mtrain: \u001b[0mWARNING ⚠️ /content/shelves-5/train/images/train_2770_jpg.rf.f39fed99cae4fe417de3addd7ba072e4.jpg: ignoring corrupt image/label: non-normalized or out of bounds coordinates [     1.0596]\n",
            "\u001b[34m\u001b[1mtrain: \u001b[0mWARNING ⚠️ /content/shelves-5/train/images/train_2778_jpg.rf.46c26cd78d19aa0bb07798d456f5a309.jpg: ignoring corrupt image/label: non-normalized or out of bounds coordinates [     1.0413]\n",
            "\u001b[34m\u001b[1mtrain: \u001b[0mWARNING ⚠️ /content/shelves-5/train/images/train_2778_jpg.rf.84c8898a751e7483055c96311e0f02de.jpg: ignoring corrupt image/label: non-normalized or out of bounds coordinates [     1.0437]\n",
            "\u001b[34m\u001b[1mtrain: \u001b[0mWARNING ⚠️ /content/shelves-5/train/images/train_2778_jpg.rf.ff90494ce2d96b5a36fde9bc87904f26.jpg: ignoring corrupt image/label: non-normalized or out of bounds coordinates [     1.0397]\n",
            "\u001b[34m\u001b[1mtrain: \u001b[0mWARNING ⚠️ /content/shelves-5/train/images/train_2782_jpg.rf.3a383e0ae00102cf6868edbe54fa6148.jpg: ignoring corrupt image/label: non-normalized or out of bounds coordinates [     1.0003]\n",
            "\u001b[34m\u001b[1mtrain: \u001b[0mWARNING ⚠️ /content/shelves-5/train/images/train_2782_jpg.rf.7b9dc89ee57fd588c46d452202bbe6fd.jpg: ignoring corrupt image/label: non-normalized or out of bounds coordinates [      1.021]\n",
            "\u001b[34m\u001b[1mtrain: \u001b[0mWARNING ⚠️ /content/shelves-5/train/images/train_2782_jpg.rf.b0b326cc6a0a5809d3d8042178e608b8.jpg: ignoring corrupt image/label: non-normalized or out of bounds coordinates [     1.0057]\n",
            "\u001b[34m\u001b[1mtrain: \u001b[0mWARNING ⚠️ /content/shelves-5/train/images/train_2783_jpg.rf.99c3a4959d78db51880457d294794bb6.jpg: ignoring corrupt image/label: non-normalized or out of bounds coordinates [     1.0153      1.0058      1.0018       1.001      1.0036      1.0005]\n",
            "\u001b[34m\u001b[1mtrain: \u001b[0mWARNING ⚠️ /content/shelves-5/train/images/train_2783_jpg.rf.a03b11dc9cb5bc7e18c1afe5c2929029.jpg: ignoring corrupt image/label: non-normalized or out of bounds coordinates [     1.0128       1.006      1.0018      1.0016      1.0038      1.0006]\n",
            "\u001b[34m\u001b[1mtrain: \u001b[0mWARNING ⚠️ /content/shelves-5/train/images/train_2783_jpg.rf.be19a643adfb73944989f712091c4873.jpg: ignoring corrupt image/label: non-normalized or out of bounds coordinates [     1.0079           1       1.001      1.0003]\n",
            "\u001b[34m\u001b[1mtrain: \u001b[0mWARNING ⚠️ /content/shelves-5/train/images/train_2788_jpg.rf.a317210625f3427a6ed1a382fa0462da.jpg: ignoring corrupt image/label: non-normalized or out of bounds coordinates [     1.0078      1.0104      1.0187]\n",
            "\u001b[34m\u001b[1mtrain: \u001b[0mWARNING ⚠️ /content/shelves-5/train/images/train_2788_jpg.rf.e0a685f66e33c9f4669f5ce913d9a3d6.jpg: ignoring corrupt image/label: non-normalized or out of bounds coordinates [     1.0075        1.01       1.018]\n",
            "\u001b[34m\u001b[1mtrain: \u001b[0mWARNING ⚠️ /content/shelves-5/train/images/train_2788_jpg.rf.e95b426d66415e6c674178e9d4706fa6.jpg: ignoring corrupt image/label: non-normalized or out of bounds coordinates [     1.0077      1.0103      1.0185]\n",
            "\u001b[34m\u001b[1mtrain: \u001b[0mWARNING ⚠️ /content/shelves-5/train/images/train_2789_jpg.rf.19ba7727e85ad9278e76ca709072d31f.jpg: ignoring corrupt image/label: non-normalized or out of bounds coordinates [     1.0227      1.0217       1.033      1.0258]\n",
            "\u001b[34m\u001b[1mtrain: \u001b[0mWARNING ⚠️ /content/shelves-5/train/images/train_2789_jpg.rf.1d61ac3240fe7b181a90f5352f641c44.jpg: ignoring corrupt image/label: non-normalized or out of bounds coordinates [     1.0239      1.0204      1.0307       1.028]\n",
            "\u001b[34m\u001b[1mtrain: \u001b[0mWARNING ⚠️ /content/shelves-5/train/images/train_2789_jpg.rf.a15879b14b5451820fa107dee7e5d4cd.jpg: ignoring corrupt image/label: non-normalized or out of bounds coordinates [      1.019      1.0164      1.0182      1.0202]\n",
            "\u001b[34m\u001b[1mtrain: \u001b[0mWARNING ⚠️ /content/shelves-5/train/images/train_2794_jpg.rf.73d03c010a6b004bbd855e69da823490.jpg: ignoring corrupt image/label: non-normalized or out of bounds coordinates [     1.0012      1.0073       1.005       1.004      1.0019]\n",
            "\u001b[34m\u001b[1mtrain: \u001b[0mWARNING ⚠️ /content/shelves-5/train/images/train_2794_jpg.rf.8d30d9d3fc082ca979d3cd3201150db7.jpg: ignoring corrupt image/label: non-normalized or out of bounds coordinates [     1.0013      1.0076      1.0052      1.0041       1.002]\n",
            "\u001b[34m\u001b[1mtrain: \u001b[0mWARNING ⚠️ /content/shelves-5/train/images/train_2794_jpg.rf.f2c66d7ba22f7ccc875263a220fe80d4.jpg: ignoring corrupt image/label: non-normalized or out of bounds coordinates [     1.0012      1.0072      1.0049      1.0039      1.0019]\n",
            "\u001b[34m\u001b[1mtrain: \u001b[0mWARNING ⚠️ /content/shelves-5/train/images/train_2796_jpg.rf.0b38840bbaa1290d7cb43422aa507fca.jpg: ignoring corrupt image/label: non-normalized or out of bounds coordinates [     1.0224]\n",
            "\u001b[34m\u001b[1mtrain: \u001b[0mWARNING ⚠️ /content/shelves-5/train/images/train_2796_jpg.rf.71710e47a2e7e049c2fbd886b8d60cac.jpg: ignoring corrupt image/label: non-normalized or out of bounds coordinates [     1.0233]\n",
            "\u001b[34m\u001b[1mtrain: \u001b[0mWARNING ⚠️ /content/shelves-5/train/images/train_2796_jpg.rf.f0b57fda4211668249f4f91cd40f0f1a.jpg: ignoring corrupt image/label: non-normalized or out of bounds coordinates [     1.0235]\n",
            "\u001b[34m\u001b[1mtrain: \u001b[0mWARNING ⚠️ /content/shelves-5/train/images/train_2797_jpg.rf.17df6e86a1e23a07cb4c313bdc809e8b.jpg: ignoring corrupt image/label: non-normalized or out of bounds coordinates [     1.0101]\n",
            "\u001b[34m\u001b[1mtrain: \u001b[0mWARNING ⚠️ /content/shelves-5/train/images/train_2797_jpg.rf.9876f16d999ac9b2e04050b4ba146b64.jpg: ignoring corrupt image/label: non-normalized or out of bounds coordinates [     1.0107]\n",
            "\u001b[34m\u001b[1mtrain: \u001b[0mWARNING ⚠️ /content/shelves-5/train/images/train_2797_jpg.rf.ffad5122660bb79d00eeba0498f5802c.jpg: ignoring corrupt image/label: non-normalized or out of bounds coordinates [     1.0111]\n",
            "\u001b[34m\u001b[1mtrain: \u001b[0mWARNING ⚠️ /content/shelves-5/train/images/train_2798_jpg.rf.4d7f9f4e9591046cf119f7deb1aba8e2.jpg: ignoring corrupt image/label: non-normalized or out of bounds coordinates [     1.0027]\n",
            "\u001b[34m\u001b[1mtrain: \u001b[0mWARNING ⚠️ /content/shelves-5/train/images/train_2798_jpg.rf.72d62c134cbd04b58800fad9afd6e0c2.jpg: ignoring corrupt image/label: non-normalized or out of bounds coordinates [     1.0028]\n",
            "\u001b[34m\u001b[1mtrain: \u001b[0mWARNING ⚠️ /content/shelves-5/train/images/train_2798_jpg.rf.73abea3c7c3aa21d2a4c4d18f620680b.jpg: ignoring corrupt image/label: non-normalized or out of bounds coordinates [     1.0029]\n",
            "\u001b[34m\u001b[1mtrain: \u001b[0mWARNING ⚠️ /content/shelves-5/train/images/train_2800_jpg.rf.07a2e2a0c1253ad82b9405e9f0f1ed68.jpg: ignoring corrupt image/label: non-normalized or out of bounds coordinates [     1.0046      1.0026      1.0051      1.0062      1.0052      1.0029]\n",
            "\u001b[34m\u001b[1mtrain: \u001b[0mWARNING ⚠️ /content/shelves-5/train/images/train_2800_jpg.rf.da0476c08503082b42ce1be1777fb3d3.jpg: ignoring corrupt image/label: non-normalized or out of bounds coordinates [          1      1.0058      1.0048]\n",
            "\u001b[34m\u001b[1mtrain: \u001b[0mWARNING ⚠️ /content/shelves-5/train/images/train_2800_jpg.rf.ecc1e0e7f87bd3648520e19a79c9d8d7.jpg: ignoring corrupt image/label: non-normalized or out of bounds coordinates [     1.0044      1.0024      1.0049      1.0058      1.0049      1.0027]\n",
            "\u001b[34m\u001b[1mtrain: \u001b[0mWARNING ⚠️ /content/shelves-5/train/images/train_2804_jpg.rf.af1d050d52abcec302a4ccf266fc4c0d.jpg: ignoring corrupt image/label: non-normalized or out of bounds coordinates [     1.0034      1.0021      1.0021      1.0002      1.0012]\n",
            "\u001b[34m\u001b[1mtrain: \u001b[0mWARNING ⚠️ /content/shelves-5/train/images/train_2804_jpg.rf.d2c7fd6e661d7e1e6cdf4f32360b06b5.jpg: ignoring corrupt image/label: non-normalized or out of bounds coordinates [     1.0036      1.0022      1.0022      1.0002      1.0013           1]\n",
            "\u001b[34m\u001b[1mtrain: \u001b[0mWARNING ⚠️ /content/shelves-5/train/images/train_2804_jpg.rf.ec4d85354a8d724fc9917f8ce2c9dcb8.jpg: ignoring corrupt image/label: non-normalized or out of bounds coordinates [     1.0036      1.0022      1.0022      1.0002      1.0013           1]\n",
            "\u001b[34m\u001b[1mtrain: \u001b[0mWARNING ⚠️ /content/shelves-5/train/images/train_2808_jpg.rf.6665c06cd82c415c3a68301754e78812.jpg: ignoring corrupt image/label: non-normalized or out of bounds coordinates [     1.0064      1.0034           1       1.001      1.0023      1.0037]\n",
            "\u001b[34m\u001b[1mtrain: \u001b[0mWARNING ⚠️ /content/shelves-5/train/images/train_2808_jpg.rf.b1d79b7b55130817945ba76da6604216.jpg: ignoring corrupt image/label: non-normalized or out of bounds coordinates [     1.0064      1.0034           1       1.001      1.0022      1.0037]\n",
            "\u001b[34m\u001b[1mtrain: \u001b[0mWARNING ⚠️ /content/shelves-5/train/images/train_2808_jpg.rf.dc39a95394f1e8a36b74c465d87f7c6f.jpg: ignoring corrupt image/label: non-normalized or out of bounds coordinates [     1.0063      1.0033           1      1.0009      1.0022      1.0006]\n",
            "\u001b[34m\u001b[1mtrain: \u001b[0mWARNING ⚠️ /content/shelves-5/train/images/train_2818_jpg.rf.250967a4acc964e8afa1b9052eb7cd47.jpg: ignoring corrupt image/label: non-normalized or out of bounds coordinates [     1.0231]\n",
            "\u001b[34m\u001b[1mtrain: \u001b[0mWARNING ⚠️ /content/shelves-5/train/images/train_2818_jpg.rf.2cba46310ee6f31517bd9931103470c5.jpg: ignoring corrupt image/label: non-normalized or out of bounds coordinates [     1.0216]\n",
            "\u001b[34m\u001b[1mtrain: \u001b[0mWARNING ⚠️ /content/shelves-5/train/images/train_2818_jpg.rf.bffac8df444ea07d0106ec70c566cc11.jpg: ignoring corrupt image/label: non-normalized or out of bounds coordinates [     1.0222]\n",
            "\u001b[34m\u001b[1mtrain: \u001b[0mWARNING ⚠️ /content/shelves-5/train/images/train_2819_jpg.rf.1324819344d324f90a645605ebd34a6a.jpg: ignoring corrupt image/label: non-normalized or out of bounds coordinates [     1.0001]\n",
            "\u001b[34m\u001b[1mtrain: \u001b[0mWARNING ⚠️ /content/shelves-5/train/images/train_2819_jpg.rf.1635a64985b31194b40ff728cc2d8c48.jpg: ignoring corrupt image/label: non-normalized or out of bounds coordinates [     1.0001]\n",
            "\u001b[34m\u001b[1mtrain: \u001b[0mWARNING ⚠️ /content/shelves-5/train/images/train_2819_jpg.rf.25a062a456c2c1587b8122afeeea6c62.jpg: ignoring corrupt image/label: non-normalized or out of bounds coordinates [     1.0001]\n",
            "\u001b[34m\u001b[1mtrain: \u001b[0mWARNING ⚠️ /content/shelves-5/train/images/train_2821_jpg.rf.5efabcfd2d5316de034d7b2f13ae1ce9.jpg: ignoring corrupt image/label: non-normalized or out of bounds coordinates [     1.0081]\n",
            "\u001b[34m\u001b[1mtrain: \u001b[0mWARNING ⚠️ /content/shelves-5/train/images/train_2821_jpg.rf.6e50812d53ea5a191ad541048f837b45.jpg: ignoring corrupt image/label: non-normalized or out of bounds coordinates [     1.0122]\n",
            "\u001b[34m\u001b[1mtrain: \u001b[0mWARNING ⚠️ /content/shelves-5/train/images/train_2821_jpg.rf.c50d6ec0d9e20d548c292a95c9641bf8.jpg: ignoring corrupt image/label: non-normalized or out of bounds coordinates [      1.012]\n",
            "\u001b[34m\u001b[1mtrain: \u001b[0mWARNING ⚠️ /content/shelves-5/train/images/train_2824_jpg.rf.0b62027b8e8c6d081cbffa2d06aca72e.jpg: ignoring corrupt image/label: non-normalized or out of bounds coordinates [     1.0093]\n",
            "\u001b[34m\u001b[1mtrain: \u001b[0mWARNING ⚠️ /content/shelves-5/train/images/train_2824_jpg.rf.9d42ee12f2c76cb4ee51c94216af0c4c.jpg: ignoring corrupt image/label: non-normalized or out of bounds coordinates [     1.0088]\n",
            "\u001b[34m\u001b[1mtrain: \u001b[0mWARNING ⚠️ /content/shelves-5/train/images/train_2824_jpg.rf.af89f9869c30bf1188a3ca7232a4131a.jpg: ignoring corrupt image/label: non-normalized or out of bounds coordinates [     1.0092]\n",
            "\u001b[34m\u001b[1mtrain: \u001b[0mWARNING ⚠️ /content/shelves-5/train/images/train_2826_jpg.rf.d8fcab2590a086219a93dd9cbc207b1f.jpg: ignoring corrupt image/label: non-normalized or out of bounds coordinates [     1.0362      1.0531]\n",
            "\u001b[34m\u001b[1mtrain: \u001b[0mWARNING ⚠️ /content/shelves-5/train/images/train_2826_jpg.rf.e404ce7d5881560d551debb8d29a4a49.jpg: ignoring corrupt image/label: non-normalized or out of bounds coordinates [     1.0376      1.0546]\n",
            "\u001b[34m\u001b[1mtrain: \u001b[0mWARNING ⚠️ /content/shelves-5/train/images/train_2826_jpg.rf.f6840acbf5c1ae86249972458bebcc17.jpg: ignoring corrupt image/label: non-normalized or out of bounds coordinates [     1.0384       1.047]\n",
            "\u001b[34m\u001b[1mtrain: \u001b[0mWARNING ⚠️ /content/shelves-5/train/images/train_2833_jpg.rf.298cee5aa85ef4f828546fe6e9b7596c.jpg: ignoring corrupt image/label: non-normalized or out of bounds coordinates [     1.0006]\n",
            "\u001b[34m\u001b[1mtrain: \u001b[0mWARNING ⚠️ /content/shelves-5/train/images/train_2833_jpg.rf.79f34a86f46925736fa4c41122ece2b3.jpg: ignoring corrupt image/label: non-normalized or out of bounds coordinates [     1.0006]\n",
            "\u001b[34m\u001b[1mtrain: \u001b[0mWARNING ⚠️ /content/shelves-5/train/images/train_2833_jpg.rf.f90646e5a766a73696635cab64c7f216.jpg: ignoring corrupt image/label: non-normalized or out of bounds coordinates [     1.0006]\n",
            "\u001b[34m\u001b[1mtrain: \u001b[0mWARNING ⚠️ /content/shelves-5/train/images/train_2836_jpg.rf.6e560ce902423470cca492177d2531a8.jpg: ignoring corrupt image/label: non-normalized or out of bounds coordinates [     1.0194]\n",
            "\u001b[34m\u001b[1mtrain: \u001b[0mWARNING ⚠️ /content/shelves-5/train/images/train_2836_jpg.rf.95d824dd5bfdde022127f186bb34d9b5.jpg: ignoring corrupt image/label: non-normalized or out of bounds coordinates [       1.02]\n",
            "\u001b[34m\u001b[1mtrain: \u001b[0mWARNING ⚠️ /content/shelves-5/train/images/train_2836_jpg.rf.a3dd4a960d45891ca71f83be39f1afa7.jpg: ignoring corrupt image/label: non-normalized or out of bounds coordinates [      1.019]\n",
            "\u001b[34m\u001b[1mtrain: \u001b[0mWARNING ⚠️ /content/shelves-5/train/images/train_2841_jpg.rf.2c9b3fb2feb8387c0ec68a9c7d937eab.jpg: ignoring corrupt image/label: non-normalized or out of bounds coordinates [     1.0155]\n",
            "\u001b[34m\u001b[1mtrain: \u001b[0mWARNING ⚠️ /content/shelves-5/train/images/train_2841_jpg.rf.414df9a424ce561ee7deeaa6eae222cc.jpg: ignoring corrupt image/label: non-normalized or out of bounds coordinates [     1.0143]\n",
            "\u001b[34m\u001b[1mtrain: \u001b[0mWARNING ⚠️ /content/shelves-5/train/images/train_2841_jpg.rf.7397fc9250b19e26b8cde33bc3bbb1c3.jpg: ignoring corrupt image/label: non-normalized or out of bounds coordinates [     1.0149]\n",
            "\u001b[34m\u001b[1mtrain: \u001b[0mWARNING ⚠️ /content/shelves-5/train/images/train_2842_jpg.rf.0209734204756059df180cf21cbac166.jpg: ignoring corrupt image/label: non-normalized or out of bounds coordinates [     1.0115      1.0104]\n",
            "\u001b[34m\u001b[1mtrain: \u001b[0mWARNING ⚠️ /content/shelves-5/train/images/train_2842_jpg.rf.3b8203a3b9b873fdb2e748063883758c.jpg: ignoring corrupt image/label: non-normalized or out of bounds coordinates [     1.0114      1.0103      1.0165      1.0028]\n",
            "\u001b[34m\u001b[1mtrain: \u001b[0mWARNING ⚠️ /content/shelves-5/train/images/train_2842_jpg.rf.e1b30600e5d16a0832eced70c4fb72f0.jpg: ignoring corrupt image/label: non-normalized or out of bounds coordinates [     1.0108      1.0096]\n",
            "\u001b[34m\u001b[1mtrain: \u001b[0mWARNING ⚠️ /content/shelves-5/train/images/train_2845_jpg.rf.3b662aeffbd231445d0167bedb85282f.jpg: ignoring corrupt image/label: non-normalized or out of bounds coordinates [     1.0139]\n",
            "\u001b[34m\u001b[1mtrain: \u001b[0mWARNING ⚠️ /content/shelves-5/train/images/train_2845_jpg.rf.ace822c6160c67ed9dad5a5031754256.jpg: ignoring corrupt image/label: non-normalized or out of bounds coordinates [     1.0142]\n",
            "\u001b[34m\u001b[1mtrain: \u001b[0mWARNING ⚠️ /content/shelves-5/train/images/train_2845_jpg.rf.bc13e21f34724cf687c10bd3f832d7c1.jpg: ignoring corrupt image/label: non-normalized or out of bounds coordinates [     1.0154]\n",
            "\u001b[34m\u001b[1mtrain: \u001b[0mWARNING ⚠️ /content/shelves-5/train/images/train_2849_jpg.rf.8c315c236a1ce4c5058cec1714edff89.jpg: ignoring corrupt image/label: non-normalized or out of bounds coordinates [     1.0254      1.1074]\n",
            "\u001b[34m\u001b[1mtrain: \u001b[0mWARNING ⚠️ /content/shelves-5/train/images/train_2849_jpg.rf.e61e4a1130c95e2f70663376c4a211e3.jpg: ignoring corrupt image/label: non-normalized or out of bounds coordinates [     1.0235       1.104]\n",
            "\u001b[34m\u001b[1mtrain: \u001b[0mWARNING ⚠️ /content/shelves-5/train/images/train_2849_jpg.rf.f52d05c4d120313329b90d1b22a6d77f.jpg: ignoring corrupt image/label: non-normalized or out of bounds coordinates [     1.0234       1.104]\n",
            "\u001b[34m\u001b[1mtrain: \u001b[0mWARNING ⚠️ /content/shelves-5/train/images/train_2859_jpg.rf.04b372124fd254ccfb6a50775b67e121.jpg: ignoring corrupt image/label: non-normalized or out of bounds coordinates [     1.0036      1.0021           1           1      1.0018]\n",
            "\u001b[34m\u001b[1mtrain: \u001b[0mWARNING ⚠️ /content/shelves-5/train/images/train_2859_jpg.rf.3484cf7856a84f9ca5f71954f90682f0.jpg: ignoring corrupt image/label: non-normalized or out of bounds coordinates [      1.002           1      1.0018]\n",
            "\u001b[34m\u001b[1mtrain: \u001b[0mWARNING ⚠️ /content/shelves-5/train/images/train_2859_jpg.rf.e12a6c3f612a83931c53d963274f08e2.jpg: ignoring corrupt image/label: non-normalized or out of bounds coordinates [     1.0035      1.0017           1           1      1.0017]\n",
            "\u001b[34m\u001b[1mtrain: \u001b[0mWARNING ⚠️ /content/shelves-5/train/images/train_2860_jpg.rf.34083481e1be373baa98fe4f11e25773.jpg: ignoring corrupt image/label: non-normalized or out of bounds coordinates [     1.0043]\n",
            "\u001b[34m\u001b[1mtrain: \u001b[0mWARNING ⚠️ /content/shelves-5/train/images/train_2860_jpg.rf.43b0980d816f922697cf28c35f60fb5c.jpg: ignoring corrupt image/label: non-normalized or out of bounds coordinates [     1.0045]\n",
            "\u001b[34m\u001b[1mtrain: \u001b[0mWARNING ⚠️ /content/shelves-5/train/images/train_2860_jpg.rf.d3cd4986c554fd0396263c302662099f.jpg: ignoring corrupt image/label: non-normalized or out of bounds coordinates [     1.0044]\n",
            "\u001b[34m\u001b[1mtrain: \u001b[0mWARNING ⚠️ /content/shelves-5/train/images/train_2861_jpg.rf.4bb999d5c7839cfa9ff0d537f6ff1ccf.jpg: ignoring corrupt image/label: non-normalized or out of bounds coordinates [      1.016      1.0353]\n",
            "\u001b[34m\u001b[1mtrain: \u001b[0mWARNING ⚠️ /content/shelves-5/train/images/train_2861_jpg.rf.5d6425e47678bbf4816f4383b4bc8452.jpg: ignoring corrupt image/label: non-normalized or out of bounds coordinates [     1.0378       1.027      1.0429]\n",
            "\u001b[34m\u001b[1mtrain: \u001b[0mWARNING ⚠️ /content/shelves-5/train/images/train_2861_jpg.rf.ecd0f678c7ea8a9b4d4026ed97cea50e.jpg: ignoring corrupt image/label: non-normalized or out of bounds coordinates [     1.0095]\n",
            "\u001b[34m\u001b[1mtrain: \u001b[0mWARNING ⚠️ /content/shelves-5/train/images/train_2863_jpg.rf.291b306b2901bad7fbd8274602b4d5aa.jpg: ignoring corrupt image/label: non-normalized or out of bounds coordinates [     1.0074      1.0043      1.0042      1.0018      1.0031]\n",
            "\u001b[34m\u001b[1mtrain: \u001b[0mWARNING ⚠️ /content/shelves-5/train/images/train_2868_jpg.rf.06ac1224e073923c030ade01119d4c96.jpg: ignoring corrupt image/label: non-normalized or out of bounds coordinates [     1.0328]\n",
            "\u001b[34m\u001b[1mtrain: \u001b[0mWARNING ⚠️ /content/shelves-5/train/images/train_2868_jpg.rf.2f9f419c164a562afbe64b7c823a9cbe.jpg: ignoring corrupt image/label: non-normalized or out of bounds coordinates [     1.0345]\n",
            "\u001b[34m\u001b[1mtrain: \u001b[0mWARNING ⚠️ /content/shelves-5/train/images/train_2868_jpg.rf.8c6939eaa6ace70b184edc2fa7d94aaf.jpg: ignoring corrupt image/label: non-normalized or out of bounds coordinates [     1.0353]\n",
            "\u001b[34m\u001b[1mtrain: \u001b[0mWARNING ⚠️ /content/shelves-5/train/images/train_2870_jpg.rf.c45ca7297c906eb3ee33a1411ef01984.jpg: ignoring corrupt image/label: non-normalized or out of bounds coordinates [     1.0048      1.0013]\n",
            "\u001b[34m\u001b[1mtrain: \u001b[0mWARNING ⚠️ /content/shelves-5/train/images/train_2870_jpg.rf.c715ca9d2c894cbcc05c3a891afbfee3.jpg: ignoring corrupt image/label: non-normalized or out of bounds coordinates [     1.0049      1.0013]\n",
            "\u001b[34m\u001b[1mtrain: \u001b[0mWARNING ⚠️ /content/shelves-5/train/images/train_2870_jpg.rf.de11a76de9a32ccc5310d731c549450f.jpg: ignoring corrupt image/label: non-normalized or out of bounds coordinates [     1.0047      1.0013]\n",
            "\u001b[34m\u001b[1mtrain: \u001b[0mWARNING ⚠️ /content/shelves-5/train/images/train_2871_jpg.rf.1d23b522df685ce3f4f17df177ef8b88.jpg: ignoring corrupt image/label: non-normalized or out of bounds coordinates [     1.0117      1.0024      1.0043      1.0093      1.0212      1.0258]\n",
            "\u001b[34m\u001b[1mtrain: \u001b[0mWARNING ⚠️ /content/shelves-5/train/images/train_2871_jpg.rf.29dbf84c36e920fc053c63448613483c.jpg: ignoring corrupt image/label: non-normalized or out of bounds coordinates [      1.017      1.0056      1.0055      1.0141      1.0224      1.0308]\n",
            "\u001b[34m\u001b[1mtrain: \u001b[0mWARNING ⚠️ /content/shelves-5/train/images/train_2871_jpg.rf.55fe93333486c8dd6a4e90b3cd1ef8bd.jpg: ignoring corrupt image/label: non-normalized or out of bounds coordinates [     1.0192      1.0053       1.004       1.011      1.0213      1.0279]\n",
            "\u001b[34m\u001b[1mtrain: \u001b[0mWARNING ⚠️ /content/shelves-5/train/images/train_2872_jpg.rf.9ae6792f4728134f2cdc76b199c9f8d9.jpg: ignoring corrupt image/label: non-normalized or out of bounds coordinates [     1.0106]\n",
            "\u001b[34m\u001b[1mtrain: \u001b[0mWARNING ⚠️ /content/shelves-5/train/images/train_2872_jpg.rf.b2e6da159ccbba3c0d68c2e3663d4754.jpg: ignoring corrupt image/label: non-normalized or out of bounds coordinates [     1.0125]\n",
            "\u001b[34m\u001b[1mtrain: \u001b[0mWARNING ⚠️ /content/shelves-5/train/images/train_2872_jpg.rf.e6166468c3df03425e7a755f334cdae1.jpg: ignoring corrupt image/label: non-normalized or out of bounds coordinates [     1.0122]\n",
            "\u001b[34m\u001b[1mtrain: \u001b[0mWARNING ⚠️ /content/shelves-5/train/images/train_2873_jpg.rf.39faa772d51eccd25455b0514787dfa0.jpg: ignoring corrupt image/label: non-normalized or out of bounds coordinates [     1.0047]\n",
            "\u001b[34m\u001b[1mtrain: \u001b[0mWARNING ⚠️ /content/shelves-5/train/images/train_2873_jpg.rf.564c66b9f888bab4f58c730a3d9e0d15.jpg: ignoring corrupt image/label: non-normalized or out of bounds coordinates [     1.0048]\n",
            "\u001b[34m\u001b[1mtrain: \u001b[0mWARNING ⚠️ /content/shelves-5/train/images/train_2873_jpg.rf.bd9a77791ff227adb044c7955b51f792.jpg: ignoring corrupt image/label: non-normalized or out of bounds coordinates [     1.0047]\n",
            "\u001b[34m\u001b[1mtrain: \u001b[0mWARNING ⚠️ /content/shelves-5/train/images/train_2877_jpg.rf.32fb6eb32f6f9dfbe77512b1b3bee043.jpg: ignoring corrupt image/label: non-normalized or out of bounds coordinates [     1.0556]\n",
            "\u001b[34m\u001b[1mtrain: \u001b[0mWARNING ⚠️ /content/shelves-5/train/images/train_2877_jpg.rf.a2ee4e7be2b609fc33f8998c3150e1f5.jpg: ignoring corrupt image/label: non-normalized or out of bounds coordinates [     1.0595]\n",
            "\u001b[34m\u001b[1mtrain: \u001b[0mWARNING ⚠️ /content/shelves-5/train/images/train_2877_jpg.rf.e12d5c48cb697f1b63b72631ed5bf9c3.jpg: ignoring corrupt image/label: non-normalized or out of bounds coordinates [     1.0715]\n",
            "\u001b[34m\u001b[1mtrain: \u001b[0mWARNING ⚠️ /content/shelves-5/train/images/train_2893_jpg.rf.3391fd2faae1169997d742b1638202f9.jpg: ignoring corrupt image/label: non-normalized or out of bounds coordinates [     1.0025      1.0066      1.0109]\n",
            "\u001b[34m\u001b[1mtrain: \u001b[0mWARNING ⚠️ /content/shelves-5/train/images/train_2893_jpg.rf.39159efcd7fedb0597ba965ba0a8f05e.jpg: ignoring corrupt image/label: non-normalized or out of bounds coordinates [     1.0016      1.0047      1.0111]\n",
            "\u001b[34m\u001b[1mtrain: \u001b[0mWARNING ⚠️ /content/shelves-5/train/images/train_2893_jpg.rf.c55a53704528a3195421e07258f5d8b9.jpg: ignoring corrupt image/label: non-normalized or out of bounds coordinates [     1.0024      1.0063      1.0103]\n",
            "\u001b[34m\u001b[1mtrain: \u001b[0mWARNING ⚠️ /content/shelves-5/train/images/train_2895_jpg.rf.1fbfdcbbd73e2aad8e1508bff9d956c7.jpg: ignoring corrupt image/label: non-normalized or out of bounds coordinates [     1.0105]\n",
            "\u001b[34m\u001b[1mtrain: \u001b[0mWARNING ⚠️ /content/shelves-5/train/images/train_2895_jpg.rf.ec6cb53d47069786736056dd812b0cf9.jpg: ignoring corrupt image/label: non-normalized or out of bounds coordinates [     1.0106]\n",
            "\u001b[34m\u001b[1mtrain: \u001b[0mWARNING ⚠️ /content/shelves-5/train/images/train_2895_jpg.rf.f30971c2d0d5e8ea3fa489a5c532f904.jpg: ignoring corrupt image/label: non-normalized or out of bounds coordinates [     1.0104]\n",
            "\u001b[34m\u001b[1mtrain: \u001b[0mWARNING ⚠️ /content/shelves-5/train/images/train_2896_jpg.rf.48082cdbea28295727d5c4717e75e885.jpg: ignoring corrupt image/label: non-normalized or out of bounds coordinates [     1.0119           1      1.0038      1.0156      1.0263]\n",
            "\u001b[34m\u001b[1mtrain: \u001b[0mWARNING ⚠️ /content/shelves-5/train/images/train_2896_jpg.rf.925de8e6a1a8480977e454e2a5bc90f9.jpg: ignoring corrupt image/label: non-normalized or out of bounds coordinates [     1.0097           1      1.0039      1.0158      1.0267]\n",
            "\u001b[34m\u001b[1mtrain: \u001b[0mWARNING ⚠️ /content/shelves-5/train/images/train_2896_jpg.rf.bb4ccb91848d90e279b7eee5dc07b507.jpg: ignoring corrupt image/label: non-normalized or out of bounds coordinates [     1.0106           1      1.0036      1.0148      1.0247]\n",
            "\u001b[34m\u001b[1mtrain: \u001b[0mWARNING ⚠️ /content/shelves-5/train/images/train_2899_jpg.rf.27ea313aa3084b6de511554ab3ecb470.jpg: ignoring corrupt image/label: non-normalized or out of bounds coordinates [     1.0124]\n",
            "\u001b[34m\u001b[1mtrain: \u001b[0mWARNING ⚠️ /content/shelves-5/train/images/train_28_jpg.rf.326fe066467e9a91fcc2e0818f791387.jpg: ignoring corrupt image/label: non-normalized or out of bounds coordinates [     1.0135       1.008      1.0041      1.0436]\n",
            "\u001b[34m\u001b[1mtrain: \u001b[0mWARNING ⚠️ /content/shelves-5/train/images/train_28_jpg.rf.453883e0fd76ba18a1684fdeb48bc940.jpg: ignoring corrupt image/label: non-normalized or out of bounds coordinates [     1.0145      1.0079       1.003      1.0449]\n",
            "\u001b[34m\u001b[1mtrain: \u001b[0mWARNING ⚠️ /content/shelves-5/train/images/train_28_jpg.rf.6655e85caf7a5a40c924aafc627662cd.jpg: ignoring corrupt image/label: non-normalized or out of bounds coordinates [     1.0151      1.0082      1.0045      1.0106       1.043]\n",
            "\u001b[34m\u001b[1mtrain: \u001b[0mWARNING ⚠️ /content/shelves-5/train/images/train_2900_jpg.rf.4b556eca14ae2985220d52d7fc26688f.jpg: ignoring corrupt image/label: non-normalized or out of bounds coordinates [      1.005      1.0029      1.0108      1.0146]\n",
            "\u001b[34m\u001b[1mtrain: \u001b[0mWARNING ⚠️ /content/shelves-5/train/images/train_2900_jpg.rf.8bd32a86e8339b8c7e47577c4ca83165.jpg: ignoring corrupt image/label: non-normalized or out of bounds coordinates [     1.0051      1.0029      1.0109      1.0146]\n",
            "\u001b[34m\u001b[1mtrain: \u001b[0mWARNING ⚠️ /content/shelves-5/train/images/train_2900_jpg.rf.d86c9d769d11f8b7dfd166f05edf781d.jpg: ignoring corrupt image/label: non-normalized or out of bounds coordinates [     1.0049       1.003      1.0112      1.0151]\n",
            "\u001b[34m\u001b[1mtrain: \u001b[0mWARNING ⚠️ /content/shelves-5/train/images/train_2902_jpg.rf.2bd9c83d6d4d2963c6b976a9f3ebb204.jpg: ignoring corrupt image/label: non-normalized or out of bounds coordinates [     1.0062]\n",
            "\u001b[34m\u001b[1mtrain: \u001b[0mWARNING ⚠️ /content/shelves-5/train/images/train_2902_jpg.rf.68f39e69940d23054d33aac1ad9f27e0.jpg: ignoring corrupt image/label: non-normalized or out of bounds coordinates [     1.0118      1.0008]\n",
            "\u001b[34m\u001b[1mtrain: \u001b[0mWARNING ⚠️ /content/shelves-5/train/images/train_2904_jpg.rf.489b3ee1028ea02f24b974dc928ee347.jpg: ignoring corrupt image/label: non-normalized or out of bounds coordinates [     1.0065      1.0041      1.0019      1.0017      1.0052]\n",
            "\u001b[34m\u001b[1mtrain: \u001b[0mWARNING ⚠️ /content/shelves-5/train/images/train_2904_jpg.rf.9627d0ebc0059746b23e99c4a2a82722.jpg: ignoring corrupt image/label: non-normalized or out of bounds coordinates [     1.0063       1.004      1.0018      1.0017       1.005]\n",
            "\u001b[34m\u001b[1mtrain: \u001b[0mWARNING ⚠️ /content/shelves-5/train/images/train_2904_jpg.rf.c992ffe0ee26514195173e053a30129f.jpg: ignoring corrupt image/label: non-normalized or out of bounds coordinates [     1.0065      1.0041      1.0019      1.0017      1.0053]\n",
            "\u001b[34m\u001b[1mtrain: \u001b[0mWARNING ⚠️ /content/shelves-5/train/images/train_2905_jpg.rf.13bdd23f1669c3b4590821ba4280a04e.jpg: ignoring corrupt image/label: non-normalized or out of bounds coordinates [      1.003      1.0055      1.0163      1.0339      1.0397      1.0443]\n",
            "\u001b[34m\u001b[1mtrain: \u001b[0mWARNING ⚠️ /content/shelves-5/train/images/train_2905_jpg.rf.8eaee053a8fc47eeb33b418efb1d3e89.jpg: ignoring corrupt image/label: non-normalized or out of bounds coordinates [     1.0029      1.0055      1.0162      1.0337      1.0394       1.046]\n",
            "\u001b[34m\u001b[1mtrain: \u001b[0mWARNING ⚠️ /content/shelves-5/train/images/train_2905_jpg.rf.eaab74088e6bdcaef4da88f38fbe7fdc.jpg: ignoring corrupt image/label: non-normalized or out of bounds coordinates [     1.0017      1.0045      1.0176      1.0368      1.0432       1.041]\n",
            "\u001b[34m\u001b[1mtrain: \u001b[0mWARNING ⚠️ /content/shelves-5/train/images/train_2909_jpg.rf.1199413a21d22dfc0d6af593de3efde0.jpg: ignoring corrupt image/label: non-normalized or out of bounds coordinates [     1.0134      1.0553      1.0848]\n",
            "\u001b[34m\u001b[1mtrain: \u001b[0mWARNING ⚠️ /content/shelves-5/train/images/train_2909_jpg.rf.90738d5481308869838de5c13f5029bb.jpg: ignoring corrupt image/label: non-normalized or out of bounds coordinates [          1      1.0135      1.0562       1.087]\n",
            "\u001b[34m\u001b[1mtrain: \u001b[0mWARNING ⚠️ /content/shelves-5/train/images/train_2909_jpg.rf.fed604135b3840d179bd0d06084dd1e2.jpg: ignoring corrupt image/label: non-normalized or out of bounds coordinates [     1.0152      1.0654      1.0847]\n",
            "\u001b[34m\u001b[1mtrain: \u001b[0mWARNING ⚠️ /content/shelves-5/train/images/train_2911_jpg.rf.174747a5b0d00ac53b6a5452089cc420.jpg: ignoring corrupt image/label: non-normalized or out of bounds coordinates [     1.0135      1.0426      1.0492      1.0514]\n",
            "\u001b[34m\u001b[1mtrain: \u001b[0mWARNING ⚠️ /content/shelves-5/train/images/train_2911_jpg.rf.81652a4f22e4db67fc5b3f5f8db81483.jpg: ignoring corrupt image/label: non-normalized or out of bounds coordinates [     1.0144      1.0463      1.0535      1.0678]\n",
            "\u001b[34m\u001b[1mtrain: \u001b[0mWARNING ⚠️ /content/shelves-5/train/images/train_2911_jpg.rf.d06cedaf7fcb942fba4312a9d508f172.jpg: ignoring corrupt image/label: non-normalized or out of bounds coordinates [     1.0137      1.0349      1.0502      1.0696]\n",
            "\u001b[34m\u001b[1mtrain: \u001b[0mWARNING ⚠️ /content/shelves-5/train/images/train_2914_jpg.rf.19dec0c2da1af842aef5fa56c6887c4a.jpg: ignoring corrupt image/label: non-normalized or out of bounds coordinates [     1.0078      1.0257      1.0229]\n",
            "\u001b[34m\u001b[1mtrain: \u001b[0mWARNING ⚠️ /content/shelves-5/train/images/train_2914_jpg.rf.b781262fddfab255829871e180b1619c.jpg: ignoring corrupt image/label: non-normalized or out of bounds coordinates [     1.0203      1.0016      1.0206       1.046      1.0605       1.052]\n",
            "\u001b[34m\u001b[1mtrain: \u001b[0mWARNING ⚠️ /content/shelves-5/train/images/train_2914_jpg.rf.ea4f7d6f70c3a4a53df6f5c9a9cd3d1d.jpg: ignoring corrupt image/label: non-normalized or out of bounds coordinates [     1.0127       1.021]\n",
            "\u001b[34m\u001b[1mtrain: \u001b[0mWARNING ⚠️ /content/shelves-5/train/images/train_2916_jpg.rf.7ef2d595c3566382801fa125543fab73.jpg: ignoring corrupt image/label: non-normalized or out of bounds coordinates [     1.0744      1.0127]\n",
            "\u001b[34m\u001b[1mtrain: \u001b[0mWARNING ⚠️ /content/shelves-5/train/images/train_2916_jpg.rf.960850e5d791b58c0bb7097af0ec0ea3.jpg: ignoring corrupt image/label: non-normalized or out of bounds coordinates [     1.0869      1.0484      1.0165]\n",
            "\u001b[34m\u001b[1mtrain: \u001b[0mWARNING ⚠️ /content/shelves-5/train/images/train_2916_jpg.rf.f4fc63eaa5c1b8d366cb803fdc79613b.jpg: ignoring corrupt image/label: non-normalized or out of bounds coordinates [     1.1167      1.0126]\n",
            "\u001b[34m\u001b[1mtrain: \u001b[0mWARNING ⚠️ /content/shelves-5/train/images/train_2922_jpg.rf.65169816df9a24eecbfb857570069936.jpg: ignoring corrupt image/label: non-normalized or out of bounds coordinates [     1.0009       1.053      1.0897]\n",
            "\u001b[34m\u001b[1mtrain: \u001b[0mWARNING ⚠️ /content/shelves-5/train/images/train_2922_jpg.rf.76a50469029d9a188673ca0ae9ec7b80.jpg: ignoring corrupt image/label: non-normalized or out of bounds coordinates [      1.001      1.0457      1.0981]\n",
            "\u001b[34m\u001b[1mtrain: \u001b[0mWARNING ⚠️ /content/shelves-5/train/images/train_2922_jpg.rf.b544366721b67b1b5449507926592e90.jpg: ignoring corrupt image/label: non-normalized or out of bounds coordinates [     1.0007      1.0502      1.0827]\n",
            "\u001b[34m\u001b[1mtrain: \u001b[0mWARNING ⚠️ /content/shelves-5/train/images/train_2925_jpg.rf.3fe2e82aff8d58812dc8f56320558561.jpg: ignoring corrupt image/label: non-normalized or out of bounds coordinates [     1.0149      1.0526      1.0062       1.019      1.0543]\n",
            "\u001b[34m\u001b[1mtrain: \u001b[0mWARNING ⚠️ /content/shelves-5/train/images/train_2925_jpg.rf.43882ceb9fa6f179b98cf5f64ae60e11.jpg: ignoring corrupt image/label: non-normalized or out of bounds coordinates [     1.0193      1.0568      1.0066      1.0217      1.0594]\n",
            "\u001b[34m\u001b[1mtrain: \u001b[0mWARNING ⚠️ /content/shelves-5/train/images/train_2925_jpg.rf.43c0ed186d15109a93a7916a8868b357.jpg: ignoring corrupt image/label: non-normalized or out of bounds coordinates [     1.0181      1.0489       1.006      1.0199      1.0621]\n",
            "\u001b[34m\u001b[1mtrain: \u001b[0mWARNING ⚠️ /content/shelves-5/train/images/train_2933_jpg.rf.34b5d3a8c1b94b1245651611215768e2.jpg: ignoring corrupt image/label: non-normalized or out of bounds coordinates [     1.0128]\n",
            "\u001b[34m\u001b[1mtrain: \u001b[0mWARNING ⚠️ /content/shelves-5/train/images/train_2933_jpg.rf.d190c2455c68e32c32fda01639a73948.jpg: ignoring corrupt image/label: non-normalized or out of bounds coordinates [     1.0133      1.0083      1.0145]\n",
            "\u001b[34m\u001b[1mtrain: \u001b[0mWARNING ⚠️ /content/shelves-5/train/images/train_2933_jpg.rf.f3a6175ecde1869a0a47646fcc030391.jpg: ignoring corrupt image/label: non-normalized or out of bounds coordinates [     1.0129      1.0079]\n",
            "\u001b[34m\u001b[1mtrain: \u001b[0mWARNING ⚠️ /content/shelves-5/train/images/train_2942_jpg.rf.3f286040bdcc029f7e953063bcf81fcd.jpg: ignoring corrupt image/label: non-normalized or out of bounds coordinates [     1.0287      1.0009]\n",
            "\u001b[34m\u001b[1mtrain: \u001b[0mWARNING ⚠️ /content/shelves-5/train/images/train_2942_jpg.rf.4008bb5b21fb2a6573355c720badaec6.jpg: ignoring corrupt image/label: non-normalized or out of bounds coordinates [     1.0289]\n",
            "\u001b[34m\u001b[1mtrain: \u001b[0mWARNING ⚠️ /content/shelves-5/train/images/train_2942_jpg.rf.8fa8f19b81050072ce26592cb71136cd.jpg: ignoring corrupt image/label: non-normalized or out of bounds coordinates [     1.0268]\n",
            "\u001b[34m\u001b[1mtrain: \u001b[0mWARNING ⚠️ /content/shelves-5/train/images/train_2945_jpg.rf.26cf2a7ded69882099cff8e5727771ef.jpg: ignoring corrupt image/label: non-normalized or out of bounds coordinates [     1.0316      1.0105      1.0104      1.0192      1.0249      1.0423]\n",
            "\u001b[34m\u001b[1mtrain: \u001b[0mWARNING ⚠️ /content/shelves-5/train/images/train_2945_jpg.rf.c8ef2cfc87c8300f7c7ee71ff49d0d84.jpg: ignoring corrupt image/label: non-normalized or out of bounds coordinates [     1.0294      1.0109      1.0108      1.0201      1.0259      1.0441]\n",
            "\u001b[34m\u001b[1mtrain: \u001b[0mWARNING ⚠️ /content/shelves-5/train/images/train_2945_jpg.rf.eaf66fc334adf7b665cbaddb5ec27685.jpg: ignoring corrupt image/label: non-normalized or out of bounds coordinates [     1.0305      1.0102      1.0095      1.0146        1.02      1.0369]\n",
            "\u001b[34m\u001b[1mtrain: \u001b[0mWARNING ⚠️ /content/shelves-5/train/images/train_2949_jpg.rf.67fa63bdb2c3b3170cd54f49cd24ead6.jpg: ignoring corrupt image/label: non-normalized or out of bounds coordinates [     1.0309      1.0825]\n",
            "\u001b[34m\u001b[1mtrain: \u001b[0mWARNING ⚠️ /content/shelves-5/train/images/train_2949_jpg.rf.9bf406d22f593c85b0cd94a63ebda0ce.jpg: ignoring corrupt image/label: non-normalized or out of bounds coordinates [     1.0268      1.0828]\n",
            "\u001b[34m\u001b[1mtrain: \u001b[0mWARNING ⚠️ /content/shelves-5/train/images/train_2949_jpg.rf.ee5eb37c8d8e6e8f54070ff675aae55a.jpg: ignoring corrupt image/label: non-normalized or out of bounds coordinates [     1.0641      1.0871]\n",
            "\u001b[34m\u001b[1mtrain: \u001b[0mWARNING ⚠️ /content/shelves-5/train/images/train_2954_jpg.rf.26e23f3961f6f2cd582eff77408741dd.jpg: ignoring corrupt image/label: non-normalized or out of bounds coordinates [     1.0557      1.0829]\n",
            "\u001b[34m\u001b[1mtrain: \u001b[0mWARNING ⚠️ /content/shelves-5/train/images/train_2954_jpg.rf.733f06a11cba310757616368a7af8dbb.jpg: ignoring corrupt image/label: non-normalized or out of bounds coordinates [     1.0454      1.0715]\n",
            "\u001b[34m\u001b[1mtrain: \u001b[0mWARNING ⚠️ /content/shelves-5/train/images/train_2954_jpg.rf.b909cfad37a2bf53a3b4c0af8e7c7617.jpg: ignoring corrupt image/label: non-normalized or out of bounds coordinates [      1.046       1.072]\n",
            "\u001b[34m\u001b[1mtrain: \u001b[0mWARNING ⚠️ /content/shelves-5/train/images/train_2955_jpg.rf.732aa6a549e3c763d6a806c38469b2e2.jpg: ignoring corrupt image/label: non-normalized or out of bounds coordinates [     1.0091      1.0229]\n",
            "\u001b[34m\u001b[1mtrain: \u001b[0mWARNING ⚠️ /content/shelves-5/train/images/train_2955_jpg.rf.a15e0e04a2dce40869a062558c03ce62.jpg: ignoring corrupt image/label: non-normalized or out of bounds coordinates [     1.0092      1.0241]\n",
            "\u001b[34m\u001b[1mtrain: \u001b[0mWARNING ⚠️ /content/shelves-5/train/images/train_2955_jpg.rf.efff37f4af64890a8ed5a5dd3b522871.jpg: ignoring corrupt image/label: non-normalized or out of bounds coordinates [      1.009      1.0233]\n",
            "\u001b[34m\u001b[1mtrain: \u001b[0mWARNING ⚠️ /content/shelves-5/train/images/train_2956_jpg.rf.0e4f2d821499def13e09e91224eff9db.jpg: ignoring corrupt image/label: non-normalized or out of bounds coordinates [     1.0066      1.0096]\n",
            "\u001b[34m\u001b[1mtrain: \u001b[0mWARNING ⚠️ /content/shelves-5/train/images/train_2956_jpg.rf.ba20b4d5bbb299d9f51e70fad73bb15e.jpg: ignoring corrupt image/label: non-normalized or out of bounds coordinates [     1.0068      1.0098]\n",
            "\u001b[34m\u001b[1mtrain: \u001b[0mWARNING ⚠️ /content/shelves-5/train/images/train_2956_jpg.rf.c08124a5d0be328da0d6ef45d4e4a280.jpg: ignoring corrupt image/label: non-normalized or out of bounds coordinates [     1.0066      1.0088]\n",
            "\u001b[34m\u001b[1mtrain: \u001b[0mWARNING ⚠️ /content/shelves-5/train/images/train_2958_jpg.rf.4e13f96d10a4e0aa8924df7795a6edb8.jpg: ignoring corrupt image/label: non-normalized or out of bounds coordinates [     1.0012]\n",
            "\u001b[34m\u001b[1mtrain: \u001b[0mWARNING ⚠️ /content/shelves-5/train/images/train_2958_jpg.rf.cd2b9c502b6d8a919715241ffb48af22.jpg: ignoring corrupt image/label: non-normalized or out of bounds coordinates [     1.0012]\n",
            "\u001b[34m\u001b[1mtrain: \u001b[0mWARNING ⚠️ /content/shelves-5/train/images/train_2958_jpg.rf.db3ad6457cfee61a951241d64a3c2a3d.jpg: ignoring corrupt image/label: non-normalized or out of bounds coordinates [     1.0013]\n",
            "\u001b[34m\u001b[1mtrain: \u001b[0mWARNING ⚠️ /content/shelves-5/train/images/train_2962_jpg.rf.47076759a79c73345add0c6bcbfedd3c.jpg: ignoring corrupt image/label: non-normalized or out of bounds coordinates [     1.0054      1.0238      1.0568]\n",
            "\u001b[34m\u001b[1mtrain: \u001b[0mWARNING ⚠️ /content/shelves-5/train/images/train_2962_jpg.rf.aa70e6cdd6479252b105f6e4127eb3ed.jpg: ignoring corrupt image/label: non-normalized or out of bounds coordinates [     1.0056      1.0241      1.0577]\n",
            "\u001b[34m\u001b[1mtrain: \u001b[0mWARNING ⚠️ /content/shelves-5/train/images/train_2962_jpg.rf.c8a7a93df4972aa0caea39ea393818ee.jpg: ignoring corrupt image/label: non-normalized or out of bounds coordinates [     1.0006      1.0037      1.0182      1.0481]\n",
            "\u001b[34m\u001b[1mtrain: \u001b[0mWARNING ⚠️ /content/shelves-5/train/images/train_2965_jpg.rf.af4c48409ae923598cd782e34a929223.jpg: ignoring corrupt image/label: non-normalized or out of bounds coordinates [     1.0075      1.0213      1.0337]\n",
            "\u001b[34m\u001b[1mtrain: \u001b[0mWARNING ⚠️ /content/shelves-5/train/images/train_2965_jpg.rf.c57ecc755619fa79d2f1fe7384f2f092.jpg: ignoring corrupt image/label: non-normalized or out of bounds coordinates [     1.0079      1.0212      1.0361]\n",
            "\u001b[34m\u001b[1mtrain: \u001b[0mWARNING ⚠️ /content/shelves-5/train/images/train_2965_jpg.rf.d5585f42635e449d51c24a4f1ee94a57.jpg: ignoring corrupt image/label: non-normalized or out of bounds coordinates [     1.0076      1.0214       1.036]\n",
            "\u001b[34m\u001b[1mtrain: \u001b[0mWARNING ⚠️ /content/shelves-5/train/images/train_2967_jpg.rf.30f7b5b20c6215293311e03d9831c947.jpg: ignoring corrupt image/label: non-normalized or out of bounds coordinates [     1.0126       1.021]\n",
            "\u001b[34m\u001b[1mtrain: \u001b[0mWARNING ⚠️ /content/shelves-5/train/images/train_2967_jpg.rf.8a2aadd361edd035dff4a31759002cd2.jpg: ignoring corrupt image/label: non-normalized or out of bounds coordinates [     1.0124      1.0206]\n",
            "\u001b[34m\u001b[1mtrain: \u001b[0mWARNING ⚠️ /content/shelves-5/train/images/train_2967_jpg.rf.8be5dd4c128f4d50d7755bb493057f40.jpg: ignoring corrupt image/label: non-normalized or out of bounds coordinates [     1.0128      1.0213]\n",
            "\u001b[34m\u001b[1mtrain: \u001b[0mWARNING ⚠️ /content/shelves-5/train/images/train_2968_jpg.rf.8163398ec09c5e79c4f3f1a00779462d.jpg: ignoring corrupt image/label: non-normalized or out of bounds coordinates [     1.0144]\n",
            "\u001b[34m\u001b[1mtrain: \u001b[0mWARNING ⚠️ /content/shelves-5/train/images/train_2968_jpg.rf.9e220598fc28b4eabd229b6eabfe3cb0.jpg: ignoring corrupt image/label: non-normalized or out of bounds coordinates [     1.0097]\n",
            "\u001b[34m\u001b[1mtrain: \u001b[0mWARNING ⚠️ /content/shelves-5/train/images/train_2968_jpg.rf.b68d2bdaf113889706f9e59e6213c35d.jpg: ignoring corrupt image/label: non-normalized or out of bounds coordinates [     1.0129]\n",
            "\u001b[34m\u001b[1mtrain: \u001b[0mWARNING ⚠️ /content/shelves-5/train/images/train_2974_jpg.rf.3741f4404e242dc29cc2aa4e0758051b.jpg: ignoring corrupt image/label: non-normalized or out of bounds coordinates [     1.0099      1.0069      1.0063       1.003      1.0051      1.0048]\n",
            "\u001b[34m\u001b[1mtrain: \u001b[0mWARNING ⚠️ /content/shelves-5/train/images/train_2974_jpg.rf.85084aa97caa7aec1d6879910de724a7.jpg: ignoring corrupt image/label: non-normalized or out of bounds coordinates [     1.0103      1.0071      1.0065       1.004      1.0057       1.005]\n",
            "\u001b[34m\u001b[1mtrain: \u001b[0mWARNING ⚠️ /content/shelves-5/train/images/train_2974_jpg.rf.aa753d93e101762701a952e9413890d4.jpg: ignoring corrupt image/label: non-normalized or out of bounds coordinates [     1.0104      1.0072      1.0066      1.0041      1.0058      1.0051]\n",
            "\u001b[34m\u001b[1mtrain: \u001b[0mWARNING ⚠️ /content/shelves-5/train/images/train_2976_jpg.rf.421c4ff46f564a7b383989913b06ef42.jpg: ignoring corrupt image/label: non-normalized or out of bounds coordinates [     1.0376      1.0843]\n",
            "\u001b[34m\u001b[1mtrain: \u001b[0mWARNING ⚠️ /content/shelves-5/train/images/train_2976_jpg.rf.564ecb15c836e12ac7ecdb79e8f796f6.jpg: ignoring corrupt image/label: non-normalized or out of bounds coordinates [     1.0313      1.1089]\n",
            "\u001b[34m\u001b[1mtrain: \u001b[0mWARNING ⚠️ /content/shelves-5/train/images/train_2976_jpg.rf.66e5c6168ca3e9d5c58c6be5f0ed843c.jpg: ignoring corrupt image/label: non-normalized or out of bounds coordinates [     1.0386      1.0733]\n",
            "\u001b[34m\u001b[1mtrain: \u001b[0mWARNING ⚠️ /content/shelves-5/train/images/train_2977_jpg.rf.3ca45361e4c25df777496f5d93f95f44.jpg: ignoring corrupt image/label: non-normalized or out of bounds coordinates [      1.008       1.015      1.0353      1.0687]\n",
            "\u001b[34m\u001b[1mtrain: \u001b[0mWARNING ⚠️ /content/shelves-5/train/images/train_2977_jpg.rf.8a09a6f7e990ea10825273410feb2d0f.jpg: ignoring corrupt image/label: non-normalized or out of bounds coordinates [          1      1.0145      1.0582      1.0903]\n",
            "\u001b[34m\u001b[1mtrain: \u001b[0mWARNING ⚠️ /content/shelves-5/train/images/train_2977_jpg.rf.f6b1441281ba893ce1aaff7a7f6df828.jpg: ignoring corrupt image/label: non-normalized or out of bounds coordinates [      1.011      1.0085      1.0397      1.0732]\n",
            "\u001b[34m\u001b[1mtrain: \u001b[0mWARNING ⚠️ /content/shelves-5/train/images/train_2986_jpg.rf.8d01b78cd993c81cdd5cf7181215ca06.jpg: ignoring corrupt image/label: non-normalized or out of bounds coordinates [     1.0071]\n",
            "\u001b[34m\u001b[1mtrain: \u001b[0mWARNING ⚠️ /content/shelves-5/train/images/train_2986_jpg.rf.9e189ad997139a13f361e403641b7ebd.jpg: ignoring corrupt image/label: non-normalized or out of bounds coordinates [      1.007]\n",
            "\u001b[34m\u001b[1mtrain: \u001b[0mWARNING ⚠️ /content/shelves-5/train/images/train_2986_jpg.rf.dadef4fa6283a5b28e0c82e1b8af2ed7.jpg: ignoring corrupt image/label: non-normalized or out of bounds coordinates [     1.0069]\n",
            "\u001b[34m\u001b[1mtrain: \u001b[0mWARNING ⚠️ /content/shelves-5/train/images/train_2993_jpg.rf.4f2fddb251b3831ae0b8ce6153ae458a.jpg: ignoring corrupt image/label: non-normalized or out of bounds coordinates [     1.0101]\n",
            "\u001b[34m\u001b[1mtrain: \u001b[0mWARNING ⚠️ /content/shelves-5/train/images/train_2993_jpg.rf.fe8b55dc7d2669a177cc81c794d7b130.jpg: ignoring corrupt image/label: non-normalized or out of bounds coordinates [     1.0011]\n",
            "\u001b[34m\u001b[1mtrain: \u001b[0mWARNING ⚠️ /content/shelves-5/train/images/train_29_jpg.rf.1cac622210ada10edac7cadb741a7370.jpg: ignoring corrupt image/label: non-normalized or out of bounds coordinates [     1.0115]\n",
            "\u001b[34m\u001b[1mtrain: \u001b[0mWARNING ⚠️ /content/shelves-5/train/images/train_29_jpg.rf.f3db332bcb64d45f225c3aa6cf2c7ce6.jpg: ignoring corrupt image/label: non-normalized or out of bounds coordinates [      1.009]\n",
            "\u001b[34m\u001b[1mtrain: \u001b[0mWARNING ⚠️ /content/shelves-5/train/images/train_29_jpg.rf.f82651ad3d6da8313ddf0473c8d46ea5.jpg: ignoring corrupt image/label: non-normalized or out of bounds coordinates [     1.0116]\n",
            "\u001b[34m\u001b[1mtrain: \u001b[0mWARNING ⚠️ /content/shelves-5/train/images/train_301_jpg.rf.11bede7b7a0feae8f8ee8a70f67911bf.jpg: ignoring corrupt image/label: non-normalized or out of bounds coordinates [     1.1619      1.0317]\n",
            "\u001b[34m\u001b[1mtrain: \u001b[0mWARNING ⚠️ /content/shelves-5/train/images/train_301_jpg.rf.19ca8b5cedacdb919760761a2fdaac69.jpg: ignoring corrupt image/label: non-normalized or out of bounds coordinates [     1.1459      1.0308]\n",
            "\u001b[34m\u001b[1mtrain: \u001b[0mWARNING ⚠️ /content/shelves-5/train/images/train_301_jpg.rf.d1e54d8f73006b7cb7f9bb2c44cc7657.jpg: ignoring corrupt image/label: non-normalized or out of bounds coordinates [     1.1403      1.0321]\n",
            "\u001b[34m\u001b[1mtrain: \u001b[0mWARNING ⚠️ /content/shelves-5/train/images/train_303_jpg.rf.69bac05329932965bfd7d8c6ca22408d.jpg: ignoring corrupt image/label: non-normalized or out of bounds coordinates [     1.0036      1.0481       1.046]\n",
            "\u001b[34m\u001b[1mtrain: \u001b[0mWARNING ⚠️ /content/shelves-5/train/images/train_303_jpg.rf.97fa3a611bb91f317c40ed8146d30dfe.jpg: ignoring corrupt image/label: non-normalized or out of bounds coordinates [     1.0037      1.0488      1.0525]\n",
            "\u001b[34m\u001b[1mtrain: \u001b[0mWARNING ⚠️ /content/shelves-5/train/images/train_303_jpg.rf.ab57f09d272e4c5277799f8eba0aa5f9.jpg: ignoring corrupt image/label: non-normalized or out of bounds coordinates [     1.0026      1.0423      1.0321]\n",
            "\u001b[34m\u001b[1mtrain: \u001b[0mWARNING ⚠️ /content/shelves-5/train/images/train_307_jpg.rf.3389ef17a2cd5abf6be59c79eb01d4ac.jpg: ignoring corrupt image/label: non-normalized or out of bounds coordinates [     1.0155      1.0008       1.044      1.0778      1.0723      1.0932]\n",
            "\u001b[34m\u001b[1mtrain: \u001b[0mWARNING ⚠️ /content/shelves-5/train/images/train_307_jpg.rf.cd3cf461bfa2f55d1f317be0a49dfc61.jpg: ignoring corrupt image/label: non-normalized or out of bounds coordinates [     1.0152      1.0341      1.0859      1.0803      1.1012]\n",
            "\u001b[34m\u001b[1mtrain: \u001b[0mWARNING ⚠️ /content/shelves-5/train/images/train_307_jpg.rf.d97a3643ef7536db2749c442a97f11f6.jpg: ignoring corrupt image/label: non-normalized or out of bounds coordinates [     1.0157      1.0042      1.0489      1.0835      1.0779       1.098]\n",
            "\u001b[34m\u001b[1mtrain: \u001b[0mWARNING ⚠️ /content/shelves-5/train/images/train_31_jpg.rf.780e5ced8966231e41895c2f021bc883.jpg: ignoring corrupt image/label: non-normalized or out of bounds coordinates [          1           1]\n",
            "\u001b[34m\u001b[1mtrain: \u001b[0mWARNING ⚠️ /content/shelves-5/train/images/train_31_jpg.rf.f09c8e774a58bb9eb8911b506b4a93f0.jpg: ignoring corrupt image/label: non-normalized or out of bounds coordinates [          1      1.0007]\n",
            "\u001b[34m\u001b[1mtrain: \u001b[0mWARNING ⚠️ /content/shelves-5/train/images/train_31_jpg.rf.f6e5d59885aceabdd4c8e000be16239a.jpg: ignoring corrupt image/label: non-normalized or out of bounds coordinates [          1]\n",
            "\u001b[34m\u001b[1mtrain: \u001b[0mWARNING ⚠️ /content/shelves-5/train/images/train_321_jpg.rf.94cf3219a28bbea893c7407cacd85d51.jpg: ignoring corrupt image/label: non-normalized or out of bounds coordinates [     1.0068      1.0105      1.0346]\n",
            "\u001b[34m\u001b[1mtrain: \u001b[0mWARNING ⚠️ /content/shelves-5/train/images/train_321_jpg.rf.a45f539376285dedf933dc73af3ddc16.jpg: ignoring corrupt image/label: non-normalized or out of bounds coordinates [      1.001]\n",
            "\u001b[34m\u001b[1mtrain: \u001b[0mWARNING ⚠️ /content/shelves-5/train/images/train_322_jpg.rf.2310d2d51247efe823cdb33ff5bc95aa.jpg: ignoring corrupt image/label: non-normalized or out of bounds coordinates [     1.0195]\n",
            "\u001b[34m\u001b[1mtrain: \u001b[0mWARNING ⚠️ /content/shelves-5/train/images/train_322_jpg.rf.83984da05212eb074742d5d8ee6dec5e.jpg: ignoring corrupt image/label: non-normalized or out of bounds coordinates [     1.0178]\n",
            "\u001b[34m\u001b[1mtrain: \u001b[0mWARNING ⚠️ /content/shelves-5/train/images/train_322_jpg.rf.c6a9d8304eba895b476727fe66b70e9b.jpg: ignoring corrupt image/label: non-normalized or out of bounds coordinates [     1.0183]\n",
            "\u001b[34m\u001b[1mtrain: \u001b[0mWARNING ⚠️ /content/shelves-5/train/images/train_32_jpg.rf.afb632357494aa53c6afc3e0a272e335.jpg: ignoring corrupt image/label: non-normalized or out of bounds coordinates [     1.0093]\n",
            "\u001b[34m\u001b[1mtrain: \u001b[0mWARNING ⚠️ /content/shelves-5/train/images/train_32_jpg.rf.c68f4946c47860d6591cab66e7395dfb.jpg: ignoring corrupt image/label: non-normalized or out of bounds coordinates [     1.0098]\n",
            "\u001b[34m\u001b[1mtrain: \u001b[0mWARNING ⚠️ /content/shelves-5/train/images/train_32_jpg.rf.c98d5c61a78cb1bad179a5f43dc463d0.jpg: ignoring corrupt image/label: non-normalized or out of bounds coordinates [     1.0096]\n",
            "\u001b[34m\u001b[1mtrain: \u001b[0mWARNING ⚠️ /content/shelves-5/train/images/train_347_jpg.rf.14f8dd1948bd0e49018aa37bde6bf99e.jpg: ignoring corrupt image/label: non-normalized or out of bounds coordinates [     1.0297]\n",
            "\u001b[34m\u001b[1mtrain: \u001b[0mWARNING ⚠️ /content/shelves-5/train/images/train_347_jpg.rf.17b9a19c8e275d177c997c64677d6f21.jpg: ignoring corrupt image/label: non-normalized or out of bounds coordinates [     1.0163]\n",
            "\u001b[34m\u001b[1mtrain: \u001b[0mWARNING ⚠️ /content/shelves-5/train/images/train_347_jpg.rf.fcf2d83ca2515687a1af1450222a4043.jpg: ignoring corrupt image/label: non-normalized or out of bounds coordinates [     1.0195]\n",
            "\u001b[34m\u001b[1mtrain: \u001b[0mWARNING ⚠️ /content/shelves-5/train/images/train_3502_jpg.rf.0f8300b361623444595adaec3aa987a3.jpg: ignoring corrupt image/label: non-normalized or out of bounds coordinates [     1.0221      1.0178      1.0074      1.0302      1.0405      1.0442       1.066]\n",
            "\u001b[34m\u001b[1mtrain: \u001b[0mWARNING ⚠️ /content/shelves-5/train/images/train_3502_jpg.rf.9bdc66f09d47894da91724c9939c3fca.jpg: ignoring corrupt image/label: non-normalized or out of bounds coordinates [     1.0179       1.002      1.0198      1.0325      1.0436      1.0476      1.0701]\n",
            "\u001b[34m\u001b[1mtrain: \u001b[0mWARNING ⚠️ /content/shelves-5/train/images/train_3502_jpg.rf.f832d2e81b54dfa77670f416bf85c575.jpg: ignoring corrupt image/label: non-normalized or out of bounds coordinates [     1.0183      1.0077      1.0314      1.0423      1.0461      1.0755]\n",
            "\u001b[34m\u001b[1mtrain: \u001b[0mWARNING ⚠️ /content/shelves-5/train/images/train_3503_jpg.rf.388850ec6ba62c7dc5a79ad649c0ef0d.jpg: ignoring corrupt image/label: non-normalized or out of bounds coordinates [     1.0076]\n",
            "\u001b[34m\u001b[1mtrain: \u001b[0mWARNING ⚠️ /content/shelves-5/train/images/train_3503_jpg.rf.8673612157659dd67858ce60a48b7b1b.jpg: ignoring corrupt image/label: non-normalized or out of bounds coordinates [     1.0134]\n",
            "\u001b[34m\u001b[1mtrain: \u001b[0mWARNING ⚠️ /content/shelves-5/train/images/train_3503_jpg.rf.9be5a85e6c46edbfc31388ca7e35cfdb.jpg: ignoring corrupt image/label: non-normalized or out of bounds coordinates [     1.0056]\n",
            "\u001b[34m\u001b[1mtrain: \u001b[0mWARNING ⚠️ /content/shelves-5/train/images/train_3508_jpg.rf.22bf92bc667f2e50b56d6ebf9b1775ad.jpg: ignoring corrupt image/label: non-normalized or out of bounds coordinates [     1.0069      1.0042      1.0018      1.0042]\n",
            "\u001b[34m\u001b[1mtrain: \u001b[0mWARNING ⚠️ /content/shelves-5/train/images/train_3508_jpg.rf.99073dbe2152553aa5b38f7cbcbf49d3.jpg: ignoring corrupt image/label: non-normalized or out of bounds coordinates [      1.007      1.0043      1.0018      1.0043]\n",
            "\u001b[34m\u001b[1mtrain: \u001b[0mWARNING ⚠️ /content/shelves-5/train/images/train_3508_jpg.rf.d8c50733c15a5063e0ccda9435995bbc.jpg: ignoring corrupt image/label: non-normalized or out of bounds coordinates [     1.0074      1.0045      1.0019      1.0045]\n",
            "\u001b[34m\u001b[1mtrain: \u001b[0mWARNING ⚠️ /content/shelves-5/train/images/train_3509_jpg.rf.ca18a0044f2b38d0cac387779b730c19.jpg: ignoring corrupt image/label: non-normalized or out of bounds coordinates [     1.0064      1.0017]\n",
            "\u001b[34m\u001b[1mtrain: \u001b[0mWARNING ⚠️ /content/shelves-5/train/images/train_3510_jpg.rf.17a9b8718c063a9ba3543ae5ce441c60.jpg: ignoring corrupt image/label: non-normalized or out of bounds coordinates [     1.0019      1.0029]\n",
            "\u001b[34m\u001b[1mtrain: \u001b[0mWARNING ⚠️ /content/shelves-5/train/images/train_3510_jpg.rf.2bb045eef639247d1344f1cbc52749cf.jpg: ignoring corrupt image/label: non-normalized or out of bounds coordinates [     1.0019      1.0031]\n",
            "\u001b[34m\u001b[1mtrain: \u001b[0mWARNING ⚠️ /content/shelves-5/train/images/train_3510_jpg.rf.a11d212df464edbd044166b633ff0ca3.jpg: ignoring corrupt image/label: non-normalized or out of bounds coordinates [     1.0012      1.0028]\n",
            "\u001b[34m\u001b[1mtrain: \u001b[0mWARNING ⚠️ /content/shelves-5/train/images/train_3513_jpg.rf.40c17ffd389e862a681a6ec4404b154f.jpg: ignoring corrupt image/label: non-normalized or out of bounds coordinates [     1.0027      1.0008      1.0012]\n",
            "\u001b[34m\u001b[1mtrain: \u001b[0mWARNING ⚠️ /content/shelves-5/train/images/train_3513_jpg.rf.736d4bec8fdd796209df2661318529f3.jpg: ignoring corrupt image/label: non-normalized or out of bounds coordinates [     1.0009      1.0014      1.0013]\n",
            "\u001b[34m\u001b[1mtrain: \u001b[0mWARNING ⚠️ /content/shelves-5/train/images/train_3513_jpg.rf.abc155c4d252d331b0b4146ff912ab29.jpg: ignoring corrupt image/label: non-normalized or out of bounds coordinates [     1.0027      1.0008      1.0014      1.0012]\n",
            "\u001b[34m\u001b[1mtrain: \u001b[0mWARNING ⚠️ /content/shelves-5/train/images/train_3519_jpg.rf.7b91e1c2e28446d67ba2e077c60d815f.jpg: ignoring corrupt image/label: non-normalized or out of bounds coordinates [     1.0225      1.0732]\n",
            "\u001b[34m\u001b[1mtrain: \u001b[0mWARNING ⚠️ /content/shelves-5/train/images/train_3519_jpg.rf.7ce740d3f67fbeee8807426ece4f3b86.jpg: ignoring corrupt image/label: non-normalized or out of bounds coordinates [     1.0256      1.0742]\n",
            "\u001b[34m\u001b[1mtrain: \u001b[0mWARNING ⚠️ /content/shelves-5/train/images/train_3519_jpg.rf.7f1f66da5949d3148d472c1acc6c23dc.jpg: ignoring corrupt image/label: non-normalized or out of bounds coordinates [     1.0231      1.0763]\n",
            "\u001b[34m\u001b[1mtrain: \u001b[0mWARNING ⚠️ /content/shelves-5/train/images/train_3520_jpg.rf.21310805d9d070b1611059da2d582489.jpg: ignoring corrupt image/label: non-normalized or out of bounds coordinates [     1.0015]\n",
            "\u001b[34m\u001b[1mtrain: \u001b[0mWARNING ⚠️ /content/shelves-5/train/images/train_3520_jpg.rf.83c479eb3d7868a749c3cbde9b855693.jpg: ignoring corrupt image/label: non-normalized or out of bounds coordinates [     1.0041]\n",
            "\u001b[34m\u001b[1mtrain: \u001b[0mWARNING ⚠️ /content/shelves-5/train/images/train_3522_jpg.rf.08cd10c9aca6db9caeabeed0ff8cc12c.jpg: ignoring corrupt image/label: non-normalized or out of bounds coordinates [     1.0059]\n",
            "\u001b[34m\u001b[1mtrain: \u001b[0mWARNING ⚠️ /content/shelves-5/train/images/train_3522_jpg.rf.c7c573d4311d91fc7a0169f9e31053e6.jpg: ignoring corrupt image/label: non-normalized or out of bounds coordinates [      1.005]\n",
            "\u001b[34m\u001b[1mtrain: \u001b[0mWARNING ⚠️ /content/shelves-5/train/images/train_3522_jpg.rf.df01a365dabba92061668001116307ec.jpg: ignoring corrupt image/label: non-normalized or out of bounds coordinates [     1.0039]\n",
            "\u001b[34m\u001b[1mtrain: \u001b[0mWARNING ⚠️ /content/shelves-5/train/images/train_3524_jpg.rf.1d364de9d6ed935bf10e54e001c16893.jpg: ignoring corrupt image/label: non-normalized or out of bounds coordinates [     1.0055      1.0012      1.0047]\n",
            "\u001b[34m\u001b[1mtrain: \u001b[0mWARNING ⚠️ /content/shelves-5/train/images/train_3524_jpg.rf.26ee6135cfa20a177dca12cbb67e99c2.jpg: ignoring corrupt image/label: non-normalized or out of bounds coordinates [     1.0053      1.0012      1.0046]\n",
            "\u001b[34m\u001b[1mtrain: \u001b[0mWARNING ⚠️ /content/shelves-5/train/images/train_3524_jpg.rf.a7fe8b0437b30b72aa82ad25c2bab973.jpg: ignoring corrupt image/label: non-normalized or out of bounds coordinates [     1.0056      1.0012      1.0049]\n",
            "\u001b[34m\u001b[1mtrain: \u001b[0mWARNING ⚠️ /content/shelves-5/train/images/train_3527_jpg.rf.cc35124a8bf4139534cb3a40ec9bf0bc.jpg: ignoring corrupt image/label: non-normalized or out of bounds coordinates [      1.012      1.0074      1.0035]\n",
            "\u001b[34m\u001b[1mtrain: \u001b[0mWARNING ⚠️ /content/shelves-5/train/images/train_3528_jpg.rf.0f3a0ba556e0a451f7589d00ab268e47.jpg: ignoring corrupt image/label: non-normalized or out of bounds coordinates [     1.0107      1.0062      1.0215      1.0605]\n",
            "\u001b[34m\u001b[1mtrain: \u001b[0mWARNING ⚠️ /content/shelves-5/train/images/train_3528_jpg.rf.1efdf8d61ce69212127dfcd7f538498c.jpg: ignoring corrupt image/label: non-normalized or out of bounds coordinates [     1.0107       1.006      1.0208      1.0592]\n",
            "\u001b[34m\u001b[1mtrain: \u001b[0mWARNING ⚠️ /content/shelves-5/train/images/train_3528_jpg.rf.50a6c63acba7e452e1f1ab896f530f3d.jpg: ignoring corrupt image/label: non-normalized or out of bounds coordinates [     1.0106      1.0061       1.021      1.0597]\n",
            "\u001b[34m\u001b[1mtrain: \u001b[0mWARNING ⚠️ /content/shelves-5/train/images/train_3529_jpg.rf.522659d6400f9b627a8c5d04d249d938.jpg: ignoring corrupt image/label: non-normalized or out of bounds coordinates [     1.0089      1.0103       1.021      1.0166      1.0274]\n",
            "\u001b[34m\u001b[1mtrain: \u001b[0mWARNING ⚠️ /content/shelves-5/train/images/train_3529_jpg.rf.8ccb9f45032b6c7453eab8fb65cb69bf.jpg: ignoring corrupt image/label: non-normalized or out of bounds coordinates [     1.0088      1.0101      1.0207      1.0163]\n",
            "\u001b[34m\u001b[1mtrain: \u001b[0mWARNING ⚠️ /content/shelves-5/train/images/train_3529_jpg.rf.99a1390c87aba9032b14f6a8a48df261.jpg: ignoring corrupt image/label: non-normalized or out of bounds coordinates [     1.0004      1.0082      1.0095      1.0193      1.0151]\n",
            "\u001b[34m\u001b[1mtrain: \u001b[0mWARNING ⚠️ /content/shelves-5/train/images/train_3533_jpg.rf.673bc552c865c8b59a09209009fde0ba.jpg: ignoring corrupt image/label: non-normalized or out of bounds coordinates [     1.0085]\n",
            "\u001b[34m\u001b[1mtrain: \u001b[0mWARNING ⚠️ /content/shelves-5/train/images/train_3534_jpg.rf.b2131205ab4f8060613a2d574f463fb2.jpg: ignoring corrupt image/label: non-normalized or out of bounds coordinates [     1.0027]\n",
            "\u001b[34m\u001b[1mtrain: \u001b[0mWARNING ⚠️ /content/shelves-5/train/images/train_3540_jpg.rf.d37178124addb4c0f95e5db706ddf58c.jpg: ignoring corrupt image/label: non-normalized or out of bounds coordinates [     1.0026      1.0015]\n",
            "\u001b[34m\u001b[1mtrain: \u001b[0mWARNING ⚠️ /content/shelves-5/train/images/train_3541_jpg.rf.2f36d03ec0ac7a0a688d6f99859fad0f.jpg: ignoring corrupt image/label: non-normalized or out of bounds coordinates [     1.0036      1.0013      1.0006      1.0003      1.0008]\n",
            "\u001b[34m\u001b[1mtrain: \u001b[0mWARNING ⚠️ /content/shelves-5/train/images/train_3541_jpg.rf.653b067a272d19daa4d1b8536e926697.jpg: ignoring corrupt image/label: non-normalized or out of bounds coordinates [     1.0038      1.0014      1.0006      1.0003      1.0008]\n",
            "\u001b[34m\u001b[1mtrain: \u001b[0mWARNING ⚠️ /content/shelves-5/train/images/train_3541_jpg.rf.e2c8b95603eadb06cf5cd5eaf4027326.jpg: ignoring corrupt image/label: non-normalized or out of bounds coordinates [     1.0036      1.0013      1.0006      1.0003      1.0008]\n",
            "\u001b[34m\u001b[1mtrain: \u001b[0mWARNING ⚠️ /content/shelves-5/train/images/train_3543_jpg.rf.c9d56d24469d1f93ea116776525d79d5.jpg: ignoring corrupt image/label: non-normalized or out of bounds coordinates [     1.0026]\n",
            "\u001b[34m\u001b[1mtrain: \u001b[0mWARNING ⚠️ /content/shelves-5/train/images/train_3544_jpg.rf.7a2c5342d05e58b128ff25761bb3d6ae.jpg: ignoring corrupt image/label: non-normalized or out of bounds coordinates [     1.0064      1.0034      1.0013]\n",
            "\u001b[34m\u001b[1mtrain: \u001b[0mWARNING ⚠️ /content/shelves-5/train/images/train_3544_jpg.rf.b8b291f4bb00a6f11da96459b7eb9445.jpg: ignoring corrupt image/label: non-normalized or out of bounds coordinates [     1.0067      1.0035      1.0014]\n",
            "\u001b[34m\u001b[1mtrain: \u001b[0mWARNING ⚠️ /content/shelves-5/train/images/train_3544_jpg.rf.ec41dc3a1c47eb656a6da9ca979c70ee.jpg: ignoring corrupt image/label: non-normalized or out of bounds coordinates [     1.0049      1.0032      1.0013]\n",
            "\u001b[34m\u001b[1mtrain: \u001b[0mWARNING ⚠️ /content/shelves-5/train/images/train_3549_jpg.rf.45abb85be992e055a918ae484d99800c.jpg: ignoring corrupt image/label: non-normalized or out of bounds coordinates [     1.0073      1.0016      1.0016]\n",
            "\u001b[34m\u001b[1mtrain: \u001b[0mWARNING ⚠️ /content/shelves-5/train/images/train_3549_jpg.rf.68b706cdbed14a6d0d9aebbfa96fb4ef.jpg: ignoring corrupt image/label: non-normalized or out of bounds coordinates [     1.0068]\n",
            "\u001b[34m\u001b[1mtrain: \u001b[0mWARNING ⚠️ /content/shelves-5/train/images/train_3549_jpg.rf.a9982f7c14a20b51d2b0abe42a922ec5.jpg: ignoring corrupt image/label: non-normalized or out of bounds coordinates [     1.0068]\n",
            "\u001b[34m\u001b[1mtrain: \u001b[0mWARNING ⚠️ /content/shelves-5/train/images/train_354_jpg.rf.4d50af768483ca35cd6decff3a4fd919.jpg: ignoring corrupt image/label: non-normalized or out of bounds coordinates [      1.015      1.0322      1.0408      1.0552]\n",
            "\u001b[34m\u001b[1mtrain: \u001b[0mWARNING ⚠️ /content/shelves-5/train/images/train_354_jpg.rf.c6f4a37966645b3edc05d55197698a62.jpg: ignoring corrupt image/label: non-normalized or out of bounds coordinates [     1.0148      1.0316        1.04      1.0632]\n",
            "\u001b[34m\u001b[1mtrain: \u001b[0mWARNING ⚠️ /content/shelves-5/train/images/train_354_jpg.rf.f676b1ae69af18fa3dae8e4a80e18e19.jpg: ignoring corrupt image/label: non-normalized or out of bounds coordinates [     1.0153      1.0328      1.0418      1.0575]\n",
            "\u001b[34m\u001b[1mtrain: \u001b[0mWARNING ⚠️ /content/shelves-5/train/images/train_3552_jpg.rf.06779c6652e212b70c79b4d97ba2006a.jpg: ignoring corrupt image/label: non-normalized or out of bounds coordinates [     1.0033       1.027       1.064      1.0732      1.0357]\n",
            "\u001b[34m\u001b[1mtrain: \u001b[0mWARNING ⚠️ /content/shelves-5/train/images/train_3552_jpg.rf.0bc2501198438831258d80956fb508dc.jpg: ignoring corrupt image/label: non-normalized or out of bounds coordinates [     1.0279      1.0668      1.0763      1.0367]\n",
            "\u001b[34m\u001b[1mtrain: \u001b[0mWARNING ⚠️ /content/shelves-5/train/images/train_3552_jpg.rf.995b0f6abb186ae17f8272d8f4677822.jpg: ignoring corrupt image/label: non-normalized or out of bounds coordinates [     1.0038      1.0278      1.0663      1.0622]\n",
            "\u001b[34m\u001b[1mtrain: \u001b[0mWARNING ⚠️ /content/shelves-5/train/images/train_3553_jpg.rf.1f4a4e75366087dda64f890b80f35bb9.jpg: ignoring corrupt image/label: non-normalized or out of bounds coordinates [     1.0004      1.0026      1.0044      1.0111]\n",
            "\u001b[34m\u001b[1mtrain: \u001b[0mWARNING ⚠️ /content/shelves-5/train/images/train_3553_jpg.rf.7df51d21300178bfcd7c9f71bda01a27.jpg: ignoring corrupt image/label: non-normalized or out of bounds coordinates [     1.0112]\n",
            "\u001b[34m\u001b[1mtrain: \u001b[0mWARNING ⚠️ /content/shelves-5/train/images/train_3553_jpg.rf.a98ad92b1347590725e08ca841ce3c73.jpg: ignoring corrupt image/label: non-normalized or out of bounds coordinates [     1.0004      1.0027      1.0046      1.0054      1.0115]\n",
            "\u001b[34m\u001b[1mtrain: \u001b[0mWARNING ⚠️ /content/shelves-5/train/images/train_3555_jpg.rf.0efd6a7ab61905dc31d1cf9ac7dce88c.jpg: ignoring corrupt image/label: non-normalized or out of bounds coordinates [     1.0029      1.0016       1.003      1.0017      1.0021]\n",
            "\u001b[34m\u001b[1mtrain: \u001b[0mWARNING ⚠️ /content/shelves-5/train/images/train_3555_jpg.rf.fa29c79e8cef90f4cd269064f5138a5f.jpg: ignoring corrupt image/label: non-normalized or out of bounds coordinates [      1.003      1.0016      1.0032      1.0018      1.0022]\n",
            "\u001b[34m\u001b[1mtrain: \u001b[0mWARNING ⚠️ /content/shelves-5/train/images/train_3555_jpg.rf.fca40c43f1b56c4098d54fb83ea91891.jpg: ignoring corrupt image/label: non-normalized or out of bounds coordinates [     1.0031      1.0017      1.0033      1.0018      1.0023]\n",
            "\u001b[34m\u001b[1mtrain: \u001b[0mWARNING ⚠️ /content/shelves-5/train/images/train_3556_jpg.rf.89cd972d261cfdb11ca70dc7cc9638f3.jpg: ignoring corrupt image/label: non-normalized or out of bounds coordinates [     1.0014      1.0073      1.0039      1.0036      1.0024       1.001      1.0005]\n",
            "\u001b[34m\u001b[1mtrain: \u001b[0mWARNING ⚠️ /content/shelves-5/train/images/train_3559_jpg.rf.7c26f8d843c67e8d63a380d1d2686522.jpg: ignoring corrupt image/label: non-normalized or out of bounds coordinates [     1.0035      1.0039      1.0023      1.0008      1.0005      1.0002]\n",
            "\u001b[34m\u001b[1mtrain: \u001b[0mWARNING ⚠️ /content/shelves-5/train/images/train_3559_jpg.rf.8ec8b06e0c66418ebddcbdb8a2dadda5.jpg: ignoring corrupt image/label: non-normalized or out of bounds coordinates [     1.0036       1.004      1.0023      1.0008      1.0005      1.0002]\n",
            "\u001b[34m\u001b[1mtrain: \u001b[0mWARNING ⚠️ /content/shelves-5/train/images/train_3559_jpg.rf.d6ff9e94b41e245e590231958946c660.jpg: ignoring corrupt image/label: non-normalized or out of bounds coordinates [     1.0035      1.0039      1.0023      1.0008      1.0005      1.0002]\n",
            "\u001b[34m\u001b[1mtrain: \u001b[0mWARNING ⚠️ /content/shelves-5/train/images/train_3570_jpg.rf.0c75e9f3a2b910a1c173e8ddbf4603ad.jpg: ignoring corrupt image/label: non-normalized or out of bounds coordinates [     1.0151      1.0391]\n",
            "\u001b[34m\u001b[1mtrain: \u001b[0mWARNING ⚠️ /content/shelves-5/train/images/train_3570_jpg.rf.415e39defa5bd30a717437511f2692fe.jpg: ignoring corrupt image/label: non-normalized or out of bounds coordinates [     1.0138      1.0392]\n",
            "\u001b[34m\u001b[1mtrain: \u001b[0mWARNING ⚠️ /content/shelves-5/train/images/train_3570_jpg.rf.705143a405190ba82c450407efd6fb3c.jpg: ignoring corrupt image/label: non-normalized or out of bounds coordinates [     1.0144      1.0385]\n",
            "\u001b[34m\u001b[1mtrain: \u001b[0mWARNING ⚠️ /content/shelves-5/train/images/train_3572_jpg.rf.1993b2ea22f48a5b6765ec9763be3080.jpg: ignoring corrupt image/label: non-normalized or out of bounds coordinates [     1.0087]\n",
            "\u001b[34m\u001b[1mtrain: \u001b[0mWARNING ⚠️ /content/shelves-5/train/images/train_3572_jpg.rf.3355eef0cbdf5170b7b8420a5afda418.jpg: ignoring corrupt image/label: non-normalized or out of bounds coordinates [     1.0088]\n",
            "\u001b[34m\u001b[1mtrain: \u001b[0mWARNING ⚠️ /content/shelves-5/train/images/train_3572_jpg.rf.cc1156060b07dd36f36eec2d3621bba3.jpg: ignoring corrupt image/label: non-normalized or out of bounds coordinates [     1.0084]\n",
            "\u001b[34m\u001b[1mtrain: \u001b[0mWARNING ⚠️ /content/shelves-5/train/images/train_3573_jpg.rf.14c13c730c465358141e6e6ecca16db1.jpg: ignoring corrupt image/label: non-normalized or out of bounds coordinates [     1.0343      1.1114      1.1248]\n",
            "\u001b[34m\u001b[1mtrain: \u001b[0mWARNING ⚠️ /content/shelves-5/train/images/train_3573_jpg.rf.747f179d28307559a00039b218cc4097.jpg: ignoring corrupt image/label: non-normalized or out of bounds coordinates [          1      1.0347       1.113      1.1154]\n",
            "\u001b[34m\u001b[1mtrain: \u001b[0mWARNING ⚠️ /content/shelves-5/train/images/train_3573_jpg.rf.df0cb30657f232d3502c8be2df5362fd.jpg: ignoring corrupt image/label: non-normalized or out of bounds coordinates [      1.034      1.1099      1.1229      1.0376]\n",
            "\u001b[34m\u001b[1mtrain: \u001b[0mWARNING ⚠️ /content/shelves-5/train/images/train_3577_jpg.rf.2366a597b3138fc22fad9bdb9332bcd0.jpg: ignoring corrupt image/label: non-normalized or out of bounds coordinates [     1.0024      1.0034      1.0029      1.0005      1.0009      1.0023]\n",
            "\u001b[34m\u001b[1mtrain: \u001b[0mWARNING ⚠️ /content/shelves-5/train/images/train_3577_jpg.rf.6046dfc13112b79ec081cbad850c3d6f.jpg: ignoring corrupt image/label: non-normalized or out of bounds coordinates [     1.0047      1.0031      1.0019      1.0002      1.0005       1.001      1.0025]\n",
            "\u001b[34m\u001b[1mtrain: \u001b[0mWARNING ⚠️ /content/shelves-5/train/images/train_3577_jpg.rf.6119e111e59b10827f80539803057a5c.jpg: ignoring corrupt image/label: non-normalized or out of bounds coordinates [     1.0044       1.003      1.0008           1      1.0005       1.001      1.0024]\n",
            "\u001b[34m\u001b[1mtrain: \u001b[0mWARNING ⚠️ /content/shelves-5/train/images/train_3578_jpg.rf.188c50c89b90affac9c24eca21821bb3.jpg: ignoring corrupt image/label: non-normalized or out of bounds coordinates [     1.0037      1.0006      1.0025]\n",
            "\u001b[34m\u001b[1mtrain: \u001b[0mWARNING ⚠️ /content/shelves-5/train/images/train_3578_jpg.rf.56ef357e97b54f8cecc9247d2b1c3f26.jpg: ignoring corrupt image/label: non-normalized or out of bounds coordinates [      1.004      1.0006      1.0015      1.0027]\n",
            "\u001b[34m\u001b[1mtrain: \u001b[0mWARNING ⚠️ /content/shelves-5/train/images/train_3578_jpg.rf.ba775afdd2384d321cc49233a074b610.jpg: ignoring corrupt image/label: non-normalized or out of bounds coordinates [     1.0039      1.0006      1.0026]\n",
            "\u001b[34m\u001b[1mtrain: \u001b[0mWARNING ⚠️ /content/shelves-5/train/images/train_3580_jpg.rf.2cc9f1fb8802b06bdfde219cca85754a.jpg: ignoring corrupt image/label: non-normalized or out of bounds coordinates [     1.0064      1.0025      1.0018      1.0043      1.0069      1.0101]\n",
            "\u001b[34m\u001b[1mtrain: \u001b[0mWARNING ⚠️ /content/shelves-5/train/images/train_3580_jpg.rf.49695bc508142a927bc0002291d8679c.jpg: ignoring corrupt image/label: non-normalized or out of bounds coordinates [     1.0067      1.0026      1.0019      1.0044      1.0071      1.0104]\n",
            "\u001b[34m\u001b[1mtrain: \u001b[0mWARNING ⚠️ /content/shelves-5/train/images/train_3580_jpg.rf.580f25d16eac8f6605517ff8ad0b9649.jpg: ignoring corrupt image/label: non-normalized or out of bounds coordinates [     1.0063      1.0025      1.0018      1.0042      1.0068      1.0099]\n",
            "\u001b[34m\u001b[1mtrain: \u001b[0mWARNING ⚠️ /content/shelves-5/train/images/train_3589_jpg.rf.b10dc8476e3da845fa75be8ac4bdfd91.jpg: ignoring corrupt image/label: non-normalized or out of bounds coordinates [     1.0064      1.0084      1.0266]\n",
            "\u001b[34m\u001b[1mtrain: \u001b[0mWARNING ⚠️ /content/shelves-5/train/images/train_3590_jpg.rf.313d5273c1d602abb5c5b3b446578261.jpg: ignoring corrupt image/label: non-normalized or out of bounds coordinates [     1.0168]\n",
            "\u001b[34m\u001b[1mtrain: \u001b[0mWARNING ⚠️ /content/shelves-5/train/images/train_3590_jpg.rf.5485cf4ffd4fe441b260ebf965e8050d.jpg: ignoring corrupt image/label: non-normalized or out of bounds coordinates [     1.0137      1.0453      1.0775]\n",
            "\u001b[34m\u001b[1mtrain: \u001b[0mWARNING ⚠️ /content/shelves-5/train/images/train_3590_jpg.rf.b53a2d88e423731de394b7cd8b51070d.jpg: ignoring corrupt image/label: non-normalized or out of bounds coordinates [     1.0108      1.0285      1.0462]\n",
            "\u001b[34m\u001b[1mtrain: \u001b[0mWARNING ⚠️ /content/shelves-5/train/images/train_3591_jpg.rf.3d9028c6b4797675dc2777eae9e36bb7.jpg: ignoring corrupt image/label: non-normalized or out of bounds coordinates [     1.0102       1.012      1.0308        1.06]\n",
            "\u001b[34m\u001b[1mtrain: \u001b[0mWARNING ⚠️ /content/shelves-5/train/images/train_3591_jpg.rf.a7d90f9e4d8c1c68fd65c3f53efbacf1.jpg: ignoring corrupt image/label: non-normalized or out of bounds coordinates [     1.0104      1.0122      1.0315      1.0614]\n",
            "\u001b[34m\u001b[1mtrain: \u001b[0mWARNING ⚠️ /content/shelves-5/train/images/train_3591_jpg.rf.ba6e3060aaef04cbff67fe1f6b1274b9.jpg: ignoring corrupt image/label: non-normalized or out of bounds coordinates [     1.0101      1.0118      1.0302       1.059]\n",
            "\u001b[34m\u001b[1mtrain: \u001b[0mWARNING ⚠️ /content/shelves-5/train/images/train_3592_jpg.rf.f80a583e7aefdb493ebdb29769e6300e.jpg: ignoring corrupt image/label: non-normalized or out of bounds coordinates [     1.0009      1.0031]\n",
            "\u001b[34m\u001b[1mtrain: \u001b[0mWARNING ⚠️ /content/shelves-5/train/images/train_3597_jpg.rf.2e04a4951ee8e8b6c9918abc58d8fac4.jpg: ignoring corrupt image/label: non-normalized or out of bounds coordinates [     1.0019]\n",
            "\u001b[34m\u001b[1mtrain: \u001b[0mWARNING ⚠️ /content/shelves-5/train/images/train_3598_jpg.rf.24f9e817fdb3c061c848b8e293f5fd6d.jpg: ignoring corrupt image/label: non-normalized or out of bounds coordinates [      1.011]\n",
            "\u001b[34m\u001b[1mtrain: \u001b[0mWARNING ⚠️ /content/shelves-5/train/images/train_3598_jpg.rf.67f5fd48ac96dbcc4c2f28da56615a66.jpg: ignoring corrupt image/label: non-normalized or out of bounds coordinates [     1.0082]\n",
            "\u001b[34m\u001b[1mtrain: \u001b[0mWARNING ⚠️ /content/shelves-5/train/images/train_3598_jpg.rf.74472553dbf133b3f7bc57f0ffba5d28.jpg: ignoring corrupt image/label: non-normalized or out of bounds coordinates [     1.0109      1.0052      1.0178      1.0193      1.0103      1.0112]\n",
            "\u001b[34m\u001b[1mtrain: \u001b[0mWARNING ⚠️ /content/shelves-5/train/images/train_3600_jpg.rf.249de33630f3f307a7fd22f24cc48c48.jpg: ignoring corrupt image/label: non-normalized or out of bounds coordinates [     1.0264      1.0465      1.0137      1.0236      1.0717]\n",
            "\u001b[34m\u001b[1mtrain: \u001b[0mWARNING ⚠️ /content/shelves-5/train/images/train_3600_jpg.rf.2d051bdff8a95f9563929d38f8561506.jpg: ignoring corrupt image/label: non-normalized or out of bounds coordinates [     1.0111      1.0445      1.0087      1.0183      1.0652]\n",
            "\u001b[34m\u001b[1mtrain: \u001b[0mWARNING ⚠️ /content/shelves-5/train/images/train_3600_jpg.rf.fc417b791ff3c6b34d533ec62d44f288.jpg: ignoring corrupt image/label: non-normalized or out of bounds coordinates [     1.0513      1.0492           1      1.0187      1.0294      1.0831]\n",
            "\u001b[34m\u001b[1mtrain: \u001b[0mWARNING ⚠️ /content/shelves-5/train/images/train_3601_jpg.rf.a0924c608dc75062026ef3671140b6bd.jpg: ignoring corrupt image/label: non-normalized or out of bounds coordinates [     1.0065      1.0142      1.0139      1.0122      1.0129]\n",
            "\u001b[34m\u001b[1mtrain: \u001b[0mWARNING ⚠️ /content/shelves-5/train/images/train_3601_jpg.rf.e536d388d0a0d2de1a6896eecb215f64.jpg: ignoring corrupt image/label: non-normalized or out of bounds coordinates [     1.0065      1.0139      1.0125      1.0047      1.0016]\n",
            "\u001b[34m\u001b[1mtrain: \u001b[0mWARNING ⚠️ /content/shelves-5/train/images/train_3601_jpg.rf.fd3a440ccdc7aa166b4ccbf3013733e8.jpg: ignoring corrupt image/label: non-normalized or out of bounds coordinates [     1.0067      1.0144      1.0141      1.0092      1.0128]\n",
            "\u001b[34m\u001b[1mtrain: \u001b[0mWARNING ⚠️ /content/shelves-5/train/images/train_3603_jpg.rf.0d50faaf1f362bc826416021070307d7.jpg: ignoring corrupt image/label: non-normalized or out of bounds coordinates [     1.0049       1.012       1.012]\n",
            "\u001b[34m\u001b[1mtrain: \u001b[0mWARNING ⚠️ /content/shelves-5/train/images/train_3603_jpg.rf.a24fe1e9d10eff7cf28d637ce97fdc4f.jpg: ignoring corrupt image/label: non-normalized or out of bounds coordinates [     1.0048       1.012      1.0179]\n",
            "\u001b[34m\u001b[1mtrain: \u001b[0mWARNING ⚠️ /content/shelves-5/train/images/train_3603_jpg.rf.a5a638911cdb0c3143d0bb7c68286a5b.jpg: ignoring corrupt image/label: non-normalized or out of bounds coordinates [     1.0048      1.0118      1.0118]\n",
            "\u001b[34m\u001b[1mtrain: \u001b[0mWARNING ⚠️ /content/shelves-5/train/images/train_3606_jpg.rf.1c1b3643401b3eea997b8064f07d0c5f.jpg: ignoring corrupt image/label: non-normalized or out of bounds coordinates [     1.0039      1.0018      1.0023      1.0053      1.0048      1.0075      1.0082]\n",
            "\u001b[34m\u001b[1mtrain: \u001b[0mWARNING ⚠️ /content/shelves-5/train/images/train_3606_jpg.rf.32304c8e59e118cc90d40c5028314fec.jpg: ignoring corrupt image/label: non-normalized or out of bounds coordinates [     1.0039      1.0018      1.0023      1.0053      1.0062      1.0079      1.0082]\n",
            "\u001b[34m\u001b[1mtrain: \u001b[0mWARNING ⚠️ /content/shelves-5/train/images/train_3606_jpg.rf.a56c48e91b0390effd35813d0e344653.jpg: ignoring corrupt image/label: non-normalized or out of bounds coordinates [     1.0041      1.0018      1.0024      1.0055      1.0066      1.0083      1.0072]\n",
            "\u001b[34m\u001b[1mtrain: \u001b[0mWARNING ⚠️ /content/shelves-5/train/images/train_3608_jpg.rf.70454d087d50d6d80627b443398c4803.jpg: ignoring corrupt image/label: non-normalized or out of bounds coordinates [     1.0318]\n",
            "\u001b[34m\u001b[1mtrain: \u001b[0mWARNING ⚠️ /content/shelves-5/train/images/train_3608_jpg.rf.c3cdb6ca390bd67d05783c18f2d860f8.jpg: ignoring corrupt image/label: non-normalized or out of bounds coordinates [     1.0273]\n",
            "\u001b[34m\u001b[1mtrain: \u001b[0mWARNING ⚠️ /content/shelves-5/train/images/train_3608_jpg.rf.ced3f32e80f0e555c4ac4290f4d5ab6b.jpg: ignoring corrupt image/label: non-normalized or out of bounds coordinates [      1.024]\n",
            "\u001b[34m\u001b[1mtrain: \u001b[0mWARNING ⚠️ /content/shelves-5/train/images/train_3611_jpg.rf.6e5c389a4e353a959c5717b8f79ae4ac.jpg: ignoring corrupt image/label: non-normalized or out of bounds coordinates [     1.0133      1.0231      1.0583      1.0699]\n",
            "\u001b[34m\u001b[1mtrain: \u001b[0mWARNING ⚠️ /content/shelves-5/train/images/train_3611_jpg.rf.9bc503422ad7b9da0ef4f77001e107b8.jpg: ignoring corrupt image/label: non-normalized or out of bounds coordinates [     1.0146       1.022      1.0718      1.0544]\n",
            "\u001b[34m\u001b[1mtrain: \u001b[0mWARNING ⚠️ /content/shelves-5/train/images/train_3611_jpg.rf.f1a74a803444e84fef6fc2a0dba6ad75.jpg: ignoring corrupt image/label: non-normalized or out of bounds coordinates [     1.0154      1.0232      1.0585      1.0432]\n",
            "\u001b[34m\u001b[1mtrain: \u001b[0mWARNING ⚠️ /content/shelves-5/train/images/train_3613_jpg.rf.7038bd9fe97a18e53aaae0787324a5fb.jpg: ignoring corrupt image/label: non-normalized or out of bounds coordinates [     1.0061       1.009       1.005       1.001]\n",
            "\u001b[34m\u001b[1mtrain: \u001b[0mWARNING ⚠️ /content/shelves-5/train/images/train_3613_jpg.rf.9102e6b5795d5495582a37562a1f6f62.jpg: ignoring corrupt image/label: non-normalized or out of bounds coordinates [          1      1.0133      1.0095       1.005       1.001]\n",
            "\u001b[34m\u001b[1mtrain: \u001b[0mWARNING ⚠️ /content/shelves-5/train/images/train_3613_jpg.rf.fd47ea52fc544cbe66da177b00c1841e.jpg: ignoring corrupt image/label: non-normalized or out of bounds coordinates [     1.0127      1.0095      1.0049       1.001]\n",
            "\u001b[34m\u001b[1mtrain: \u001b[0mWARNING ⚠️ /content/shelves-5/train/images/train_3614_jpg.rf.1097d90d82006a1400978f185e6c7fcf.jpg: ignoring corrupt image/label: non-normalized or out of bounds coordinates [     1.0174      1.0015      1.0161      1.0387      1.0402]\n",
            "\u001b[34m\u001b[1mtrain: \u001b[0mWARNING ⚠️ /content/shelves-5/train/images/train_3614_jpg.rf.ea8fa67493a12b27da596492208f92f1.jpg: ignoring corrupt image/label: non-normalized or out of bounds coordinates [     1.0245      1.0016      1.0179      1.0446      1.0445]\n",
            "\u001b[34m\u001b[1mtrain: \u001b[0mWARNING ⚠️ /content/shelves-5/train/images/train_3614_jpg.rf.f0af186dcca7e9a8888e3f09c4f72551.jpg: ignoring corrupt image/label: non-normalized or out of bounds coordinates [     1.0189      1.0016      1.0181      1.0424      1.0386]\n",
            "\u001b[34m\u001b[1mtrain: \u001b[0mWARNING ⚠️ /content/shelves-5/train/images/train_3617_jpg.rf.248e42d00b4891e30956aabd5ae015b9.jpg: ignoring corrupt image/label: non-normalized or out of bounds coordinates [      1.003      1.0369      1.0961]\n",
            "\u001b[34m\u001b[1mtrain: \u001b[0mWARNING ⚠️ /content/shelves-5/train/images/train_3617_jpg.rf.51dd6c21e9d8bd330bc6e7b173f50b6f.jpg: ignoring corrupt image/label: non-normalized or out of bounds coordinates [     1.0044      1.0029      1.0352      1.1109]\n",
            "\u001b[34m\u001b[1mtrain: \u001b[0mWARNING ⚠️ /content/shelves-5/train/images/train_3617_jpg.rf.75a2a926853a1ac45ca420ee0219ee0c.jpg: ignoring corrupt image/label: non-normalized or out of bounds coordinates [      1.003      1.0371      1.0907]\n",
            "\u001b[34m\u001b[1mtrain: \u001b[0mWARNING ⚠️ /content/shelves-5/train/images/train_361_jpg.rf.4cb83fc7ac25c08b280823c4873561e7.jpg: ignoring corrupt image/label: non-normalized or out of bounds coordinates [     1.0042      1.0086      1.0146]\n",
            "\u001b[34m\u001b[1mtrain: \u001b[0mWARNING ⚠️ /content/shelves-5/train/images/train_361_jpg.rf.c704f3e574a58a8a95a29212af49250b.jpg: ignoring corrupt image/label: non-normalized or out of bounds coordinates [     1.0043      1.0088      1.0126]\n",
            "\u001b[34m\u001b[1mtrain: \u001b[0mWARNING ⚠️ /content/shelves-5/train/images/train_361_jpg.rf.f5825d7172afe6a2b41b01b3c8d83358.jpg: ignoring corrupt image/label: non-normalized or out of bounds coordinates [     1.0045      1.0092      1.0131]\n",
            "\u001b[34m\u001b[1mtrain: \u001b[0mWARNING ⚠️ /content/shelves-5/train/images/train_3622_jpg.rf.ca1ba61d0093f1ae12cac1745cf51c7c.jpg: ignoring corrupt image/label: non-normalized or out of bounds coordinates [     1.0229      1.0182       1.011      1.0104]\n",
            "\u001b[34m\u001b[1mtrain: \u001b[0mWARNING ⚠️ /content/shelves-5/train/images/train_3622_jpg.rf.de1d7536755c325fc597ca27955e3a7e.jpg: ignoring corrupt image/label: non-normalized or out of bounds coordinates [     1.0224      1.0185      1.0134      1.0103]\n",
            "\u001b[34m\u001b[1mtrain: \u001b[0mWARNING ⚠️ /content/shelves-5/train/images/train_3622_jpg.rf.fce73eee08c07250423bb54ffef61d34.jpg: ignoring corrupt image/label: non-normalized or out of bounds coordinates [     1.0244      1.0188      1.0137      1.0098]\n",
            "\u001b[34m\u001b[1mtrain: \u001b[0mWARNING ⚠️ /content/shelves-5/train/images/train_3627_jpg.rf.3732d0083ef1d87279fc9b95d1087609.jpg: ignoring corrupt image/label: non-normalized or out of bounds coordinates [     1.0097      1.0045      1.0012      1.0014]\n",
            "\u001b[34m\u001b[1mtrain: \u001b[0mWARNING ⚠️ /content/shelves-5/train/images/train_3629_jpg.rf.7bfcac68c76a6b6681f3dae6e2448762.jpg: ignoring corrupt image/label: non-normalized or out of bounds coordinates [     1.0465]\n",
            "\u001b[34m\u001b[1mtrain: \u001b[0mWARNING ⚠️ /content/shelves-5/train/images/train_3629_jpg.rf.b20999b4047540e90227203ad2114511.jpg: ignoring corrupt image/label: non-normalized or out of bounds coordinates [     1.0435]\n",
            "\u001b[34m\u001b[1mtrain: \u001b[0mWARNING ⚠️ /content/shelves-5/train/images/train_3629_jpg.rf.e40277145ea596130a4812c0081b74a1.jpg: ignoring corrupt image/label: non-normalized or out of bounds coordinates [     1.0466]\n",
            "\u001b[34m\u001b[1mtrain: \u001b[0mWARNING ⚠️ /content/shelves-5/train/images/train_3632_jpg.rf.34c37c8672837e93d7411d784e2cd712.jpg: ignoring corrupt image/label: non-normalized or out of bounds coordinates [     1.0422]\n",
            "\u001b[34m\u001b[1mtrain: \u001b[0mWARNING ⚠️ /content/shelves-5/train/images/train_3632_jpg.rf.99d7c7e58d36207d6b35ab6dcf54d55b.jpg: ignoring corrupt image/label: non-normalized or out of bounds coordinates [     1.0438]\n",
            "\u001b[34m\u001b[1mtrain: \u001b[0mWARNING ⚠️ /content/shelves-5/train/images/train_3632_jpg.rf.9ead4a9f6d700ffc9ae92a23966fe7b6.jpg: ignoring corrupt image/label: non-normalized or out of bounds coordinates [     1.0441]\n",
            "\u001b[34m\u001b[1mtrain: \u001b[0mWARNING ⚠️ /content/shelves-5/train/images/train_3634_jpg.rf.706739a55cbf16f2d92e06b58a83e9cd.jpg: ignoring corrupt image/label: non-normalized or out of bounds coordinates [      1.003           1]\n",
            "\u001b[34m\u001b[1mtrain: \u001b[0mWARNING ⚠️ /content/shelves-5/train/images/train_3634_jpg.rf.893eee88cbef06af1a9fd1a9da9776d2.jpg: ignoring corrupt image/label: non-normalized or out of bounds coordinates [      1.003           1]\n",
            "\u001b[34m\u001b[1mtrain: \u001b[0mWARNING ⚠️ /content/shelves-5/train/images/train_3634_jpg.rf.a5d6d54a50d50f274a96994a821b5dc8.jpg: ignoring corrupt image/label: non-normalized or out of bounds coordinates [     1.0031           1]\n",
            "\u001b[34m\u001b[1mtrain: \u001b[0mWARNING ⚠️ /content/shelves-5/train/images/train_3636_jpg.rf.130f87b364f3a06060a1eb1e0ac85be5.jpg: ignoring corrupt image/label: non-normalized or out of bounds coordinates [     1.0167       1.045]\n",
            "\u001b[34m\u001b[1mtrain: \u001b[0mWARNING ⚠️ /content/shelves-5/train/images/train_3636_jpg.rf.55510e5ff99f2ce6299d9bbb58fa2978.jpg: ignoring corrupt image/label: non-normalized or out of bounds coordinates [     1.0161      1.0447]\n",
            "\u001b[34m\u001b[1mtrain: \u001b[0mWARNING ⚠️ /content/shelves-5/train/images/train_3636_jpg.rf.c5930952635a43630ed6380ddd85806d.jpg: ignoring corrupt image/label: non-normalized or out of bounds coordinates [     1.0202      1.0018      1.0069      1.0307]\n",
            "\u001b[34m\u001b[1mtrain: \u001b[0mWARNING ⚠️ /content/shelves-5/train/images/train_3638_jpg.rf.0582fdfba06c04c75f6023bf08efdfe4.jpg: ignoring corrupt image/label: non-normalized or out of bounds coordinates [     1.0025      1.0014]\n",
            "\u001b[34m\u001b[1mtrain: \u001b[0mWARNING ⚠️ /content/shelves-5/train/images/train_3638_jpg.rf.9e35eb5138f66cd8768ff5da4b86244e.jpg: ignoring corrupt image/label: non-normalized or out of bounds coordinates [     1.0025      1.0014]\n",
            "\u001b[34m\u001b[1mtrain: \u001b[0mWARNING ⚠️ /content/shelves-5/train/images/train_3638_jpg.rf.d32013626759d17abd5c6e0f890e937e.jpg: ignoring corrupt image/label: non-normalized or out of bounds coordinates [     1.0023      1.0013]\n",
            "\u001b[34m\u001b[1mtrain: \u001b[0mWARNING ⚠️ /content/shelves-5/train/images/train_3640_jpg.rf.0dbd7a3fc5dbe2c0397692efbef38acd.jpg: ignoring corrupt image/label: non-normalized or out of bounds coordinates [     1.0173      1.0075      1.0089]\n",
            "\u001b[34m\u001b[1mtrain: \u001b[0mWARNING ⚠️ /content/shelves-5/train/images/train_3640_jpg.rf.c543b0ff9c3c2473032673e75ef9137a.jpg: ignoring corrupt image/label: non-normalized or out of bounds coordinates [          1      1.0235      1.0076      1.0105]\n",
            "\u001b[34m\u001b[1mtrain: \u001b[0mWARNING ⚠️ /content/shelves-5/train/images/train_3640_jpg.rf.da5869f062f2f6b26d44b2c5a8d93a6a.jpg: ignoring corrupt image/label: non-normalized or out of bounds coordinates [          1      1.0239      1.0078]\n",
            "\u001b[34m\u001b[1mtrain: \u001b[0mWARNING ⚠️ /content/shelves-5/train/images/train_3643_jpg.rf.293c140ccd3d1070968662cedfa1a15d.jpg: ignoring corrupt image/label: non-normalized or out of bounds coordinates [     1.0014]\n",
            "\u001b[34m\u001b[1mtrain: \u001b[0mWARNING ⚠️ /content/shelves-5/train/images/train_3643_jpg.rf.37d577bacdb519db51e26f7ecb28d1b6.jpg: ignoring corrupt image/label: non-normalized or out of bounds coordinates [     1.0022]\n",
            "\u001b[34m\u001b[1mtrain: \u001b[0mWARNING ⚠️ /content/shelves-5/train/images/train_3643_jpg.rf.c98ae4438473dfd403a0b8d12fd71bd6.jpg: ignoring corrupt image/label: non-normalized or out of bounds coordinates [     1.0022]\n",
            "\u001b[34m\u001b[1mtrain: \u001b[0mWARNING ⚠️ /content/shelves-5/train/images/train_3654_jpg.rf.a65a0ac840eefd477ba30332302f3441.jpg: ignoring corrupt image/label: non-normalized or out of bounds coordinates [     1.0019]\n",
            "\u001b[34m\u001b[1mtrain: \u001b[0mWARNING ⚠️ /content/shelves-5/train/images/train_3659_jpg.rf.2b85d3a8d55490e8e113a309ee62fe7d.jpg: ignoring corrupt image/label: non-normalized or out of bounds coordinates [     1.0048      1.0033      1.0012      1.0008       1.001      1.0018      1.0004           1]\n",
            "\u001b[34m\u001b[1mtrain: \u001b[0mWARNING ⚠️ /content/shelves-5/train/images/train_3659_jpg.rf.463e2a4e4959322fc1405c9f058456a1.jpg: ignoring corrupt image/label: non-normalized or out of bounds coordinates [     1.0049      1.0034      1.0012      1.0008       1.001      1.0018      1.0004           1]\n",
            "\u001b[34m\u001b[1mtrain: \u001b[0mWARNING ⚠️ /content/shelves-5/train/images/train_3659_jpg.rf.c2cbf3c26d0c0af31e6d7d229e7feca6.jpg: ignoring corrupt image/label: non-normalized or out of bounds coordinates [     1.0043      1.0032      1.0011      1.0007      1.0009      1.0017      1.0003]\n",
            "\u001b[34m\u001b[1mtrain: \u001b[0mWARNING ⚠️ /content/shelves-5/train/images/train_3660_jpg.rf.1d2e4da3328e8e02ea3a37638886276c.jpg: ignoring corrupt image/label: non-normalized or out of bounds coordinates [     1.0008           1]\n",
            "\u001b[34m\u001b[1mtrain: \u001b[0mWARNING ⚠️ /content/shelves-5/train/images/train_3660_jpg.rf.c0f0eaba3e0a170bc5ab2b42087753b7.jpg: ignoring corrupt image/label: non-normalized or out of bounds coordinates [     1.0008           1]\n",
            "\u001b[34m\u001b[1mtrain: \u001b[0mWARNING ⚠️ /content/shelves-5/train/images/train_3661_jpg.rf.76b9223f6ff6a71adad8bf049dfb9c7c.jpg: ignoring corrupt image/label: non-normalized or out of bounds coordinates [     1.0035      1.0037      1.0031      1.0043      1.0104]\n",
            "\u001b[34m\u001b[1mtrain: \u001b[0mWARNING ⚠️ /content/shelves-5/train/images/train_3661_jpg.rf.9161ac495c342faa3d4c89261fb9cf13.jpg: ignoring corrupt image/label: non-normalized or out of bounds coordinates [     1.0036      1.0038      1.0032      1.0045      1.0108]\n",
            "\u001b[34m\u001b[1mtrain: \u001b[0mWARNING ⚠️ /content/shelves-5/train/images/train_3661_jpg.rf.a6c4984b9f978acc09be0c97eb244675.jpg: ignoring corrupt image/label: non-normalized or out of bounds coordinates [     1.0039      1.0033      1.0046      1.0111]\n",
            "\u001b[34m\u001b[1mtrain: \u001b[0mWARNING ⚠️ /content/shelves-5/train/images/train_3666_jpg.rf.86e0183682fa40794f65cf322837605d.jpg: ignoring corrupt image/label: non-normalized or out of bounds coordinates [     1.0109]\n",
            "\u001b[34m\u001b[1mtrain: \u001b[0mWARNING ⚠️ /content/shelves-5/train/images/train_3667_jpg.rf.36e224643ba715642656108a70b9cc67.jpg: ignoring corrupt image/label: non-normalized or out of bounds coordinates [     1.0034]\n",
            "\u001b[34m\u001b[1mtrain: \u001b[0mWARNING ⚠️ /content/shelves-5/train/images/train_3667_jpg.rf.72d50028693321377fc10129668ff051.jpg: ignoring corrupt image/label: non-normalized or out of bounds coordinates [     1.0052]\n",
            "\u001b[34m\u001b[1mtrain: \u001b[0mWARNING ⚠️ /content/shelves-5/train/images/train_3667_jpg.rf.7d6cf44853067a16d387f9b93927cc16.jpg: ignoring corrupt image/label: non-normalized or out of bounds coordinates [     1.0054      1.0083]\n",
            "\u001b[34m\u001b[1mtrain: \u001b[0mWARNING ⚠️ /content/shelves-5/train/images/train_3668_jpg.rf.1acbdc3f676326bc83eb07ea6c9d93f2.jpg: ignoring corrupt image/label: non-normalized or out of bounds coordinates [     1.0267]\n",
            "\u001b[34m\u001b[1mtrain: \u001b[0mWARNING ⚠️ /content/shelves-5/train/images/train_3668_jpg.rf.b289fd8cb8bf838851edf70c91980db8.jpg: ignoring corrupt image/label: non-normalized or out of bounds coordinates [     1.0189]\n",
            "\u001b[34m\u001b[1mtrain: \u001b[0mWARNING ⚠️ /content/shelves-5/train/images/train_3668_jpg.rf.f7ba4cd1d266451e779424351d1864d7.jpg: ignoring corrupt image/label: non-normalized or out of bounds coordinates [     1.0217]\n",
            "\u001b[34m\u001b[1mtrain: \u001b[0mWARNING ⚠️ /content/shelves-5/train/images/train_3669_jpg.rf.169d1fe205db3e470222ced139576d41.jpg: ignoring corrupt image/label: non-normalized or out of bounds coordinates [     1.0044      1.0036      1.0029      1.0016      1.0029      1.0024      1.0018      1.0019      1.0008]\n",
            "\u001b[34m\u001b[1mtrain: \u001b[0mWARNING ⚠️ /content/shelves-5/train/images/train_3669_jpg.rf.2cd77368623d5681415a25eb5e9fb033.jpg: ignoring corrupt image/label: non-normalized or out of bounds coordinates [      1.004      1.0036      1.0029      1.0016      1.0028      1.0024      1.0018      1.0019      1.0008]\n",
            "\u001b[34m\u001b[1mtrain: \u001b[0mWARNING ⚠️ /content/shelves-5/train/images/train_3669_jpg.rf.36f3fbaec881cc3bd359f458273d21a3.jpg: ignoring corrupt image/label: non-normalized or out of bounds coordinates [     1.0043      1.0035      1.0028      1.0016      1.0028      1.0024      1.0017      1.0019      1.0008]\n",
            "\u001b[34m\u001b[1mtrain: \u001b[0mWARNING ⚠️ /content/shelves-5/train/images/train_3671_jpg.rf.05079be06bebc74144b4d78c9070fac0.jpg: ignoring corrupt image/label: non-normalized or out of bounds coordinates [     1.0202]\n",
            "\u001b[34m\u001b[1mtrain: \u001b[0mWARNING ⚠️ /content/shelves-5/train/images/train_3671_jpg.rf.71162f6e501fd8947ae81bc5ed44bab4.jpg: ignoring corrupt image/label: non-normalized or out of bounds coordinates [     1.0213]\n",
            "\u001b[34m\u001b[1mtrain: \u001b[0mWARNING ⚠️ /content/shelves-5/train/images/train_3671_jpg.rf.a6376920f447913e8650adcd206b7fdb.jpg: ignoring corrupt image/label: non-normalized or out of bounds coordinates [     1.0209]\n",
            "\u001b[34m\u001b[1mtrain: \u001b[0mWARNING ⚠️ /content/shelves-5/train/images/train_3672_jpg.rf.34b3e783537ea668e1c2987f0ffefcd6.jpg: ignoring corrupt image/label: non-normalized or out of bounds coordinates [     1.0055      1.0034      1.0039      1.0032      1.0022      1.0021]\n",
            "\u001b[34m\u001b[1mtrain: \u001b[0mWARNING ⚠️ /content/shelves-5/train/images/train_3672_jpg.rf.97c40b6971663206741da830e55c8afd.jpg: ignoring corrupt image/label: non-normalized or out of bounds coordinates [          1      1.0054      1.0034      1.0038      1.0032      1.0022      1.0021]\n",
            "\u001b[34m\u001b[1mtrain: \u001b[0mWARNING ⚠️ /content/shelves-5/train/images/train_3672_jpg.rf.d8ca37d86982e210f2696bc786e9585f.jpg: ignoring corrupt image/label: non-normalized or out of bounds coordinates [     1.0053      1.0034      1.0039      1.0032      1.0023      1.0021]\n",
            "\u001b[34m\u001b[1mtrain: \u001b[0mWARNING ⚠️ /content/shelves-5/train/images/train_3673_jpg.rf.0afde51abe3f1da648c6ca771b349461.jpg: ignoring corrupt image/label: non-normalized or out of bounds coordinates [      1.003]\n",
            "\u001b[34m\u001b[1mtrain: \u001b[0mWARNING ⚠️ /content/shelves-5/train/images/train_3673_jpg.rf.70ba72794ad3e781aaf2a7eb8e2e8203.jpg: ignoring corrupt image/label: non-normalized or out of bounds coordinates [      1.003]\n",
            "\u001b[34m\u001b[1mtrain: \u001b[0mWARNING ⚠️ /content/shelves-5/train/images/train_3673_jpg.rf.9e130ecbd829cd51aeef300c4ccb048b.jpg: ignoring corrupt image/label: non-normalized or out of bounds coordinates [     1.0032]\n",
            "\u001b[34m\u001b[1mtrain: \u001b[0mWARNING ⚠️ /content/shelves-5/train/images/train_3676_jpg.rf.391744d0d536bfdb53b8e9977c15fc74.jpg: ignoring corrupt image/label: non-normalized or out of bounds coordinates [     1.0068      1.0262      1.0415      1.0391]\n",
            "\u001b[34m\u001b[1mtrain: \u001b[0mWARNING ⚠️ /content/shelves-5/train/images/train_3676_jpg.rf.47cec32b5602e69cf49b80bf4250c751.jpg: ignoring corrupt image/label: non-normalized or out of bounds coordinates [     1.0066      1.0268      1.0425      1.0393]\n",
            "\u001b[34m\u001b[1mtrain: \u001b[0mWARNING ⚠️ /content/shelves-5/train/images/train_3676_jpg.rf.ce6355e743f299c38953cfe177b8a2a8.jpg: ignoring corrupt image/label: non-normalized or out of bounds coordinates [     1.0065      1.0271      1.0431      1.0377]\n",
            "\u001b[34m\u001b[1mtrain: \u001b[0mWARNING ⚠️ /content/shelves-5/train/images/train_3677_jpg.rf.065f223173ff4cf396e58824db4fe238.jpg: ignoring corrupt image/label: non-normalized or out of bounds coordinates [     1.0453       1.023      1.1165]\n",
            "\u001b[34m\u001b[1mtrain: \u001b[0mWARNING ⚠️ /content/shelves-5/train/images/train_3677_jpg.rf.40dd80535bd90cd3eafa22a5df8e560a.jpg: ignoring corrupt image/label: non-normalized or out of bounds coordinates [     1.0537      1.0103      1.0392      1.0932]\n",
            "\u001b[34m\u001b[1mtrain: \u001b[0mWARNING ⚠️ /content/shelves-5/train/images/train_3677_jpg.rf.62d92e6fe4bce41bfb8e8b4677320d9a.jpg: ignoring corrupt image/label: non-normalized or out of bounds coordinates [     1.0451      1.0018      1.0863]\n",
            "\u001b[34m\u001b[1mtrain: \u001b[0mWARNING ⚠️ /content/shelves-5/train/images/train_3678_jpg.rf.03093782778ee693b3915f55fc1c634b.jpg: ignoring corrupt image/label: non-normalized or out of bounds coordinates [     1.0047]\n",
            "\u001b[34m\u001b[1mtrain: \u001b[0mWARNING ⚠️ /content/shelves-5/train/images/train_3678_jpg.rf.7b137613e29d12b4fb86a09bc6c36f5a.jpg: ignoring corrupt image/label: non-normalized or out of bounds coordinates [     1.0028      1.0049]\n",
            "\u001b[34m\u001b[1mtrain: \u001b[0mWARNING ⚠️ /content/shelves-5/train/images/train_3678_jpg.rf.8a85c3ddaa43216224fa08b12124e5fd.jpg: ignoring corrupt image/label: non-normalized or out of bounds coordinates [      1.003       1.005]\n",
            "\u001b[34m\u001b[1mtrain: \u001b[0mWARNING ⚠️ /content/shelves-5/train/images/train_3679_jpg.rf.32ecc49e7ddcdb1afe26b1d9b10081f5.jpg: ignoring corrupt image/label: non-normalized or out of bounds coordinates [     1.0005      1.0018      1.0013]\n",
            "\u001b[34m\u001b[1mtrain: \u001b[0mWARNING ⚠️ /content/shelves-5/train/images/train_3679_jpg.rf.553c2aaa7d4867e3d8259f9808105665.jpg: ignoring corrupt image/label: non-normalized or out of bounds coordinates [     1.0005      1.0017      1.0012      1.0024]\n",
            "\u001b[34m\u001b[1mtrain: \u001b[0mWARNING ⚠️ /content/shelves-5/train/images/train_3679_jpg.rf.c6e1318d78b433fc486079b687f11b2a.jpg: ignoring corrupt image/label: non-normalized or out of bounds coordinates [          1      1.0005      1.0017      1.0011      1.0027]\n",
            "\u001b[34m\u001b[1mtrain: \u001b[0mWARNING ⚠️ /content/shelves-5/train/images/train_3680_jpg.rf.851b4b468d18ad334aaca48d3b65a9e8.jpg: ignoring corrupt image/label: non-normalized or out of bounds coordinates [     1.0023]\n",
            "\u001b[34m\u001b[1mtrain: \u001b[0mWARNING ⚠️ /content/shelves-5/train/images/train_3680_jpg.rf.8fdb29f1658d408939888c9722465c5c.jpg: ignoring corrupt image/label: non-normalized or out of bounds coordinates [     1.0023      1.0029]\n",
            "\u001b[34m\u001b[1mtrain: \u001b[0mWARNING ⚠️ /content/shelves-5/train/images/train_3681_jpg.rf.216f75364d17f0a0e8172be73e15e637.jpg: ignoring corrupt image/label: non-normalized or out of bounds coordinates [     1.0038      1.0003      1.0014      1.0009]\n",
            "\u001b[34m\u001b[1mtrain: \u001b[0mWARNING ⚠️ /content/shelves-5/train/images/train_3681_jpg.rf.7dee9f1d782ad68f5539389888f17700.jpg: ignoring corrupt image/label: non-normalized or out of bounds coordinates [     1.0038      1.0003      1.0014      1.0009]\n",
            "\u001b[34m\u001b[1mtrain: \u001b[0mWARNING ⚠️ /content/shelves-5/train/images/train_3681_jpg.rf.8a0a359e06dc2775bccdfdabd5259233.jpg: ignoring corrupt image/label: non-normalized or out of bounds coordinates [     1.0038      1.0003      1.0014      1.0009]\n",
            "\u001b[34m\u001b[1mtrain: \u001b[0mWARNING ⚠️ /content/shelves-5/train/images/train_3683_jpg.rf.3c314c659582fce49cd27451a81928bb.jpg: ignoring corrupt image/label: non-normalized or out of bounds coordinates [     1.0148      1.0233      1.0744]\n",
            "\u001b[34m\u001b[1mtrain: \u001b[0mWARNING ⚠️ /content/shelves-5/train/images/train_3683_jpg.rf.41c3f1133065716ee3eb5e65627101fc.jpg: ignoring corrupt image/label: non-normalized or out of bounds coordinates [     1.0107      1.0151      1.0238      1.0762]\n",
            "\u001b[34m\u001b[1mtrain: \u001b[0mWARNING ⚠️ /content/shelves-5/train/images/train_3683_jpg.rf.989f259af758a63acd58a429c829fc19.jpg: ignoring corrupt image/label: non-normalized or out of bounds coordinates [     1.0286       1.016      1.0252      1.0802]\n",
            "\u001b[34m\u001b[1mtrain: \u001b[0mWARNING ⚠️ /content/shelves-5/train/images/train_3685_jpg.rf.22ebc09934b60f3023f46b8c907a1a04.jpg: ignoring corrupt image/label: non-normalized or out of bounds coordinates [     1.0174      1.0016      1.0269      1.0418]\n",
            "\u001b[34m\u001b[1mtrain: \u001b[0mWARNING ⚠️ /content/shelves-5/train/images/train_3685_jpg.rf.a7fc0ccf97be1c03c5bb5235d22c1618.jpg: ignoring corrupt image/label: non-normalized or out of bounds coordinates [     1.0184      1.0017      1.0272      1.0379]\n",
            "\u001b[34m\u001b[1mtrain: \u001b[0mWARNING ⚠️ /content/shelves-5/train/images/train_3685_jpg.rf.ebdb01e42776fcf4e32975cf271b1cfe.jpg: ignoring corrupt image/label: non-normalized or out of bounds coordinates [     1.0173      1.0016      1.0259      1.0447]\n",
            "\u001b[34m\u001b[1mtrain: \u001b[0mWARNING ⚠️ /content/shelves-5/train/images/train_3692_jpg.rf.694ee2eda048c3eebbe9de2497544878.jpg: ignoring corrupt image/label: non-normalized or out of bounds coordinates [     1.0078      1.0147]\n",
            "\u001b[34m\u001b[1mtrain: \u001b[0mWARNING ⚠️ /content/shelves-5/train/images/train_3692_jpg.rf.9bd2dd948ca5600136ca95bd1256792a.jpg: ignoring corrupt image/label: non-normalized or out of bounds coordinates [     1.0078      1.0147]\n",
            "\u001b[34m\u001b[1mtrain: \u001b[0mWARNING ⚠️ /content/shelves-5/train/images/train_3692_jpg.rf.e5792916b4d5d7f6c4cd486148aadce8.jpg: ignoring corrupt image/label: non-normalized or out of bounds coordinates [      1.008      1.0151]\n",
            "\u001b[34m\u001b[1mtrain: \u001b[0mWARNING ⚠️ /content/shelves-5/train/images/train_3694_jpg.rf.1c0629c7c9f94647112753a54aa7ee10.jpg: ignoring corrupt image/label: non-normalized or out of bounds coordinates [     1.0028      1.0068]\n",
            "\u001b[34m\u001b[1mtrain: \u001b[0mWARNING ⚠️ /content/shelves-5/train/images/train_3694_jpg.rf.b468c2132613575a2074a30105e3e457.jpg: ignoring corrupt image/label: non-normalized or out of bounds coordinates [     1.0028      1.0067]\n",
            "\u001b[34m\u001b[1mtrain: \u001b[0mWARNING ⚠️ /content/shelves-5/train/images/train_3694_jpg.rf.ea0df426402893e002d21f05a54e5d1c.jpg: ignoring corrupt image/label: non-normalized or out of bounds coordinates [     1.0028           1]\n",
            "\u001b[34m\u001b[1mtrain: \u001b[0mWARNING ⚠️ /content/shelves-5/train/images/train_3698_jpg.rf.1248ff954335db99e196330df5d61e1f.jpg: ignoring corrupt image/label: non-normalized or out of bounds coordinates [     1.0015]\n",
            "\u001b[34m\u001b[1mtrain: \u001b[0mWARNING ⚠️ /content/shelves-5/train/images/train_3698_jpg.rf.cf60180d3693a2286f9522c1d01a4fc3.jpg: ignoring corrupt image/label: non-normalized or out of bounds coordinates [     1.0006]\n",
            "\u001b[34m\u001b[1mtrain: \u001b[0mWARNING ⚠️ /content/shelves-5/train/images/train_36_jpg.rf.7d2c1c24a51026827c805e58e2da0133.jpg: ignoring corrupt image/label: non-normalized or out of bounds coordinates [     1.0134      1.0089      1.0445      1.0656       1.075]\n",
            "\u001b[34m\u001b[1mtrain: \u001b[0mWARNING ⚠️ /content/shelves-5/train/images/train_36_jpg.rf.91b380a119a7480276ee682accb69691.jpg: ignoring corrupt image/label: non-normalized or out of bounds coordinates [     1.0164      1.0083      1.0406      1.0599      1.0704      1.0579]\n",
            "\u001b[34m\u001b[1mtrain: \u001b[0mWARNING ⚠️ /content/shelves-5/train/images/train_36_jpg.rf.e0464b2422637b05be0311c51b5ea1fe.jpg: ignoring corrupt image/label: non-normalized or out of bounds coordinates [     1.0174      1.0083      1.0407        1.06      1.0703      1.0529]\n",
            "\u001b[34m\u001b[1mtrain: \u001b[0mWARNING ⚠️ /content/shelves-5/train/images/train_3701_jpg.rf.20dc25a0700d1faab019f3bb0c173237.jpg: ignoring corrupt image/label: non-normalized or out of bounds coordinates [     1.0013      1.0007      1.0009]\n",
            "\u001b[34m\u001b[1mtrain: \u001b[0mWARNING ⚠️ /content/shelves-5/train/images/train_3701_jpg.rf.3e95ab565b08b9a75ecffaa3e0a38872.jpg: ignoring corrupt image/label: non-normalized or out of bounds coordinates [     1.0011      1.0006]\n",
            "\u001b[34m\u001b[1mtrain: \u001b[0mWARNING ⚠️ /content/shelves-5/train/images/train_3701_jpg.rf.b2c4aca8edefbabf9e62a2caefa6eabb.jpg: ignoring corrupt image/label: non-normalized or out of bounds coordinates [     1.0013      1.0007]\n",
            "\u001b[34m\u001b[1mtrain: \u001b[0mWARNING ⚠️ /content/shelves-5/train/images/train_3703_jpg.rf.59f512e4aedb180f37b4c432b219b775.jpg: ignoring corrupt image/label: non-normalized or out of bounds coordinates [     1.0007      1.0098      1.0173      1.0518]\n",
            "\u001b[34m\u001b[1mtrain: \u001b[0mWARNING ⚠️ /content/shelves-5/train/images/train_3703_jpg.rf.671b27578b73ea63aaa7e8ea5f899c4f.jpg: ignoring corrupt image/label: non-normalized or out of bounds coordinates [     1.0008      1.0037]\n",
            "\u001b[34m\u001b[1mtrain: \u001b[0mWARNING ⚠️ /content/shelves-5/train/images/train_3703_jpg.rf.969ec09551ef7b59eafb9cfc9be71fc2.jpg: ignoring corrupt image/label: non-normalized or out of bounds coordinates [     1.0008      1.0113]\n",
            "\u001b[34m\u001b[1mtrain: \u001b[0mWARNING ⚠️ /content/shelves-5/train/images/train_3709_jpg.rf.0d3735ed12ec9245d17899dcc3844ee2.jpg: ignoring corrupt image/label: non-normalized or out of bounds coordinates [     1.0004       1.002      1.0028]\n",
            "\u001b[34m\u001b[1mtrain: \u001b[0mWARNING ⚠️ /content/shelves-5/train/images/train_3709_jpg.rf.21bdb49c8a62bcc570bd4c6c248d3665.jpg: ignoring corrupt image/label: non-normalized or out of bounds coordinates [     1.0028      1.0022]\n",
            "\u001b[34m\u001b[1mtrain: \u001b[0mWARNING ⚠️ /content/shelves-5/train/images/train_3709_jpg.rf.2c097380001f5d8c417b35f49557f049.jpg: ignoring corrupt image/label: non-normalized or out of bounds coordinates [     1.0004       1.002      1.0029]\n",
            "\u001b[34m\u001b[1mtrain: \u001b[0mWARNING ⚠️ /content/shelves-5/train/images/train_3710_jpg.rf.187696c7a652ee10bd4c4cd125b8e332.jpg: ignoring corrupt image/label: non-normalized or out of bounds coordinates [      1.001      1.0018      1.0012]\n",
            "\u001b[34m\u001b[1mtrain: \u001b[0mWARNING ⚠️ /content/shelves-5/train/images/train_3710_jpg.rf.7f072e510708fdab99921a7e26821a6c.jpg: ignoring corrupt image/label: non-normalized or out of bounds coordinates [      1.001      1.0017      1.0011]\n",
            "\u001b[34m\u001b[1mtrain: \u001b[0mWARNING ⚠️ /content/shelves-5/train/images/train_3710_jpg.rf.e713330597cebe63221bfd78c7b07bbf.jpg: ignoring corrupt image/label: non-normalized or out of bounds coordinates [      1.001      1.0017      1.0011]\n",
            "\u001b[34m\u001b[1mtrain: \u001b[0mWARNING ⚠️ /content/shelves-5/train/images/train_3713_jpg.rf.4bf1605eff942e3cdaeacd6cde026a63.jpg: ignoring corrupt image/label: non-normalized or out of bounds coordinates [     1.0099      1.0055]\n",
            "\u001b[34m\u001b[1mtrain: \u001b[0mWARNING ⚠️ /content/shelves-5/train/images/train_3718_jpg.rf.6239a2c87c173c696572850139b8c4e9.jpg: ignoring corrupt image/label: non-normalized or out of bounds coordinates [     1.0206]\n",
            "\u001b[34m\u001b[1mtrain: \u001b[0mWARNING ⚠️ /content/shelves-5/train/images/train_3718_jpg.rf.c33d6aff44c46d66b77485268abb0f38.jpg: ignoring corrupt image/label: non-normalized or out of bounds coordinates [     1.0218]\n",
            "\u001b[34m\u001b[1mtrain: \u001b[0mWARNING ⚠️ /content/shelves-5/train/images/train_3718_jpg.rf.cb7394ffacce28aec400658e262fe743.jpg: ignoring corrupt image/label: non-normalized or out of bounds coordinates [     1.0216]\n",
            "\u001b[34m\u001b[1mtrain: \u001b[0mWARNING ⚠️ /content/shelves-5/train/images/train_3720_jpg.rf.53da7ae7a5cdef1718617c76464fc0d1.jpg: ignoring corrupt image/label: non-normalized or out of bounds coordinates [      1.015       1.001]\n",
            "\u001b[34m\u001b[1mtrain: \u001b[0mWARNING ⚠️ /content/shelves-5/train/images/train_3720_jpg.rf.5ac9a0cc0081fd5271e4ec14a2dd2993.jpg: ignoring corrupt image/label: non-normalized or out of bounds coordinates [     1.0212      1.0011]\n",
            "\u001b[34m\u001b[1mtrain: \u001b[0mWARNING ⚠️ /content/shelves-5/train/images/train_3721_jpg.rf.57a146a6729f8759e043c2ba099ad742.jpg: ignoring corrupt image/label: non-normalized or out of bounds coordinates [     1.0635]\n",
            "\u001b[34m\u001b[1mtrain: \u001b[0mWARNING ⚠️ /content/shelves-5/train/images/train_3721_jpg.rf.b76afaefdb08a353d64d7df817c2287b.jpg: ignoring corrupt image/label: non-normalized or out of bounds coordinates [     1.0585]\n",
            "\u001b[34m\u001b[1mtrain: \u001b[0mWARNING ⚠️ /content/shelves-5/train/images/train_3721_jpg.rf.b9f50ed95175fd033207a74337635d76.jpg: ignoring corrupt image/label: non-normalized or out of bounds coordinates [      1.061]\n",
            "\u001b[34m\u001b[1mtrain: \u001b[0mWARNING ⚠️ /content/shelves-5/train/images/train_3722_jpg.rf.08fcc5d5a28059c9c352e090395e3b97.jpg: ignoring corrupt image/label: non-normalized or out of bounds coordinates [      1.008           1]\n",
            "\u001b[34m\u001b[1mtrain: \u001b[0mWARNING ⚠️ /content/shelves-5/train/images/train_3722_jpg.rf.42e757619736dd5cd1b2685706539b7e.jpg: ignoring corrupt image/label: non-normalized or out of bounds coordinates [     1.0093      1.0078]\n",
            "\u001b[34m\u001b[1mtrain: \u001b[0mWARNING ⚠️ /content/shelves-5/train/images/train_3722_jpg.rf.a75389aa307190b4310657efcece6676.jpg: ignoring corrupt image/label: non-normalized or out of bounds coordinates [      1.009      1.0077]\n",
            "\u001b[34m\u001b[1mtrain: \u001b[0mWARNING ⚠️ /content/shelves-5/train/images/train_3725_jpg.rf.3c3c26f4ac6fdf7a2e84f4f943332f08.jpg: ignoring corrupt image/label: non-normalized or out of bounds coordinates [          1      1.0017      1.0237      1.0467      1.0512      1.0444]\n",
            "\u001b[34m\u001b[1mtrain: \u001b[0mWARNING ⚠️ /content/shelves-5/train/images/train_3725_jpg.rf.a3b44a22939d246c2441a040e4d69139.jpg: ignoring corrupt image/label: non-normalized or out of bounds coordinates [          1      1.0017      1.0231      1.0451      1.0495      1.0463]\n",
            "\u001b[34m\u001b[1mtrain: \u001b[0mWARNING ⚠️ /content/shelves-5/train/images/train_3725_jpg.rf.d2a256233a9207f802f1b8d5bbe114cf.jpg: ignoring corrupt image/label: non-normalized or out of bounds coordinates [          1      1.0016      1.0228      1.0434      1.0487      1.0448]\n",
            "\u001b[34m\u001b[1mtrain: \u001b[0mWARNING ⚠️ /content/shelves-5/train/images/train_3728_jpg.rf.189a8cbcf9b123eb07fcc9e71b3c4e86.jpg: ignoring corrupt image/label: non-normalized or out of bounds coordinates [     1.0316      1.0124       1.042      1.0448      1.0525]\n",
            "\u001b[34m\u001b[1mtrain: \u001b[0mWARNING ⚠️ /content/shelves-5/train/images/train_3728_jpg.rf.370d24b2ff77c99068fa944a0223552c.jpg: ignoring corrupt image/label: non-normalized or out of bounds coordinates [          1       1.013      1.0446      1.0474      1.0594]\n",
            "\u001b[34m\u001b[1mtrain: \u001b[0mWARNING ⚠️ /content/shelves-5/train/images/train_3728_jpg.rf.4d7a85c746953ea2ff8e0ab5a5b39484.jpg: ignoring corrupt image/label: non-normalized or out of bounds coordinates [     1.0272      1.0118      1.0374      1.0422       1.059]\n",
            "\u001b[34m\u001b[1mtrain: \u001b[0mWARNING ⚠️ /content/shelves-5/train/images/train_3730_jpg.rf.0f628d51bef6bea07e9faa632ae83471.jpg: ignoring corrupt image/label: non-normalized or out of bounds coordinates [     1.0008]\n",
            "\u001b[34m\u001b[1mtrain: \u001b[0mWARNING ⚠️ /content/shelves-5/train/images/train_3730_jpg.rf.3cca9aefa9773a024de0678ffb9c9ad6.jpg: ignoring corrupt image/label: non-normalized or out of bounds coordinates [          1      1.0008]\n",
            "\u001b[34m\u001b[1mtrain: \u001b[0mWARNING ⚠️ /content/shelves-5/train/images/train_3730_jpg.rf.45addaed1c6852869b66c7a14cc8d6d9.jpg: ignoring corrupt image/label: non-normalized or out of bounds coordinates [          1      1.0008]\n",
            "\u001b[34m\u001b[1mtrain: \u001b[0mWARNING ⚠️ /content/shelves-5/train/images/train_3732_jpg.rf.3354e96322abca6454c2222f21c571bc.jpg: ignoring corrupt image/label: non-normalized or out of bounds coordinates [     1.0053      1.0057      1.0032       1.002      1.0015      1.0005]\n",
            "\u001b[34m\u001b[1mtrain: \u001b[0mWARNING ⚠️ /content/shelves-5/train/images/train_3732_jpg.rf.379a9c52c602e2742b10ca84e3d003ff.jpg: ignoring corrupt image/label: non-normalized or out of bounds coordinates [     1.0058      1.0033       1.002      1.0015      1.0005]\n",
            "\u001b[34m\u001b[1mtrain: \u001b[0mWARNING ⚠️ /content/shelves-5/train/images/train_3732_jpg.rf.f9c21e029ca20bafc1c16c6316b71d22.jpg: ignoring corrupt image/label: non-normalized or out of bounds coordinates [     1.0051      1.0056      1.0032      1.0019      1.0015      1.0005]\n",
            "\u001b[34m\u001b[1mtrain: \u001b[0mWARNING ⚠️ /content/shelves-5/train/images/train_3736_jpg.rf.2299ef8904ce5a70f9efdb06189b1d84.jpg: ignoring corrupt image/label: non-normalized or out of bounds coordinates [     1.0013      1.0107]\n",
            "\u001b[34m\u001b[1mtrain: \u001b[0mWARNING ⚠️ /content/shelves-5/train/images/train_3736_jpg.rf.bdf3db3430bbd87412365cd70ade5fea.jpg: ignoring corrupt image/label: non-normalized or out of bounds coordinates [     1.0088      1.0111      1.0156      1.0041]\n",
            "\u001b[34m\u001b[1mtrain: \u001b[0mWARNING ⚠️ /content/shelves-5/train/images/train_3736_jpg.rf.ff5c7cd831d0afc8422836d403a63221.jpg: ignoring corrupt image/label: non-normalized or out of bounds coordinates [     1.0046      1.0106]\n",
            "\u001b[34m\u001b[1mtrain: \u001b[0mWARNING ⚠️ /content/shelves-5/train/images/train_3741_jpg.rf.2965ef490bfbfeffaca5d55594e7d84e.jpg: ignoring corrupt image/label: non-normalized or out of bounds coordinates [     1.0037      1.0032]\n",
            "\u001b[34m\u001b[1mtrain: \u001b[0mWARNING ⚠️ /content/shelves-5/train/images/train_3744_jpg.rf.6361adc5c79ae88768671f1a711a9796.jpg: ignoring corrupt image/label: non-normalized or out of bounds coordinates [     1.0064      1.0011      1.0005]\n",
            "\u001b[34m\u001b[1mtrain: \u001b[0mWARNING ⚠️ /content/shelves-5/train/images/train_3746_jpg.rf.1bde1392e715530f18fc7c54146d2189.jpg: ignoring corrupt image/label: non-normalized or out of bounds coordinates [     1.0017]\n",
            "\u001b[34m\u001b[1mtrain: \u001b[0mWARNING ⚠️ /content/shelves-5/train/images/train_3746_jpg.rf.53ef566831d885559cb015d0a164cbf7.jpg: ignoring corrupt image/label: non-normalized or out of bounds coordinates [          1      1.0016]\n",
            "\u001b[34m\u001b[1mtrain: \u001b[0mWARNING ⚠️ /content/shelves-5/train/images/train_3746_jpg.rf.5a10dd23b92ee7282ed0ce5dd3fe770d.jpg: ignoring corrupt image/label: non-normalized or out of bounds coordinates [     1.0016]\n",
            "\u001b[34m\u001b[1mtrain: \u001b[0mWARNING ⚠️ /content/shelves-5/train/images/train_3749_jpg.rf.1bc19b3b29c5754971b0641cfc92d7d8.jpg: ignoring corrupt image/label: non-normalized or out of bounds coordinates [      1.006      1.0021      1.0017      1.0022      1.0023]\n",
            "\u001b[34m\u001b[1mtrain: \u001b[0mWARNING ⚠️ /content/shelves-5/train/images/train_3749_jpg.rf.70bb04fafec06286398bbcbaa26ff24d.jpg: ignoring corrupt image/label: non-normalized or out of bounds coordinates [     1.0007      1.0055      1.0021]\n",
            "\u001b[34m\u001b[1mtrain: \u001b[0mWARNING ⚠️ /content/shelves-5/train/images/train_3749_jpg.rf.a90ec3dde35ac3fd14afff8bd7cafd35.jpg: ignoring corrupt image/label: non-normalized or out of bounds coordinates [      1.002]\n",
            "\u001b[34m\u001b[1mtrain: \u001b[0mWARNING ⚠️ /content/shelves-5/train/images/train_3750_jpg.rf.28c29ad41908eb0e40719900a647d3c7.jpg: ignoring corrupt image/label: non-normalized or out of bounds coordinates [      1.002      1.0011]\n",
            "\u001b[34m\u001b[1mtrain: \u001b[0mWARNING ⚠️ /content/shelves-5/train/images/train_3750_jpg.rf.cb8648e086b8b1bc964942f170a5a95e.jpg: ignoring corrupt image/label: non-normalized or out of bounds coordinates [      1.002      1.0011]\n",
            "\u001b[34m\u001b[1mtrain: \u001b[0mWARNING ⚠️ /content/shelves-5/train/images/train_3750_jpg.rf.e9597cab2be61705a112d706f0ce2312.jpg: ignoring corrupt image/label: non-normalized or out of bounds coordinates [      1.002      1.0011]\n",
            "\u001b[34m\u001b[1mtrain: \u001b[0mWARNING ⚠️ /content/shelves-5/train/images/train_3751_jpg.rf.4b341ecc0f6f0d0a52348d646777966b.jpg: ignoring corrupt image/label: non-normalized or out of bounds coordinates [      1.006]\n",
            "\u001b[34m\u001b[1mtrain: \u001b[0mWARNING ⚠️ /content/shelves-5/train/images/train_3751_jpg.rf.77b177e97799b995fc5687ea951ad59d.jpg: ignoring corrupt image/label: non-normalized or out of bounds coordinates [     1.0044      1.0086]\n",
            "\u001b[34m\u001b[1mtrain: \u001b[0mWARNING ⚠️ /content/shelves-5/train/images/train_3751_jpg.rf.efab78fb9a56487fe65bb5b8d67a40b1.jpg: ignoring corrupt image/label: non-normalized or out of bounds coordinates [     1.0069      1.0113]\n",
            "\u001b[34m\u001b[1mtrain: \u001b[0mWARNING ⚠️ /content/shelves-5/train/images/train_3752_jpg.rf.167716cc74612cb3953aff4756bfd681.jpg: ignoring corrupt image/label: non-normalized or out of bounds coordinates [     1.0015]\n",
            "\u001b[34m\u001b[1mtrain: \u001b[0mWARNING ⚠️ /content/shelves-5/train/images/train_3752_jpg.rf.89842f509a632e5c9d5abc734ac2ecc9.jpg: ignoring corrupt image/label: non-normalized or out of bounds coordinates [     1.0051      1.0198]\n",
            "\u001b[34m\u001b[1mtrain: \u001b[0mWARNING ⚠️ /content/shelves-5/train/images/train_3752_jpg.rf.d0fa415dd7c6114cd5740b4731645275.jpg: ignoring corrupt image/label: non-normalized or out of bounds coordinates [     1.0047]\n",
            "\u001b[34m\u001b[1mtrain: \u001b[0mWARNING ⚠️ /content/shelves-5/train/images/train_3753_jpg.rf.256159d9e6735a1ec188bd5598134d81.jpg: ignoring corrupt image/label: non-normalized or out of bounds coordinates [     1.0057]\n",
            "\u001b[34m\u001b[1mtrain: \u001b[0mWARNING ⚠️ /content/shelves-5/train/images/train_3755_jpg.rf.041a0eb8b3b6625f2fee004d296306e2.jpg: ignoring corrupt image/label: non-normalized or out of bounds coordinates [     1.0004       1.002      1.0024       1.002      1.0038]\n",
            "\u001b[34m\u001b[1mtrain: \u001b[0mWARNING ⚠️ /content/shelves-5/train/images/train_3755_jpg.rf.b55517d3812ea9bc9427d5f163804088.jpg: ignoring corrupt image/label: non-normalized or out of bounds coordinates [     1.0004       1.002      1.0023       1.002      1.0038]\n",
            "\u001b[34m\u001b[1mtrain: \u001b[0mWARNING ⚠️ /content/shelves-5/train/images/train_3755_jpg.rf.cb289540b9c8c0a3aef548f74f678738.jpg: ignoring corrupt image/label: non-normalized or out of bounds coordinates [     1.0004      1.0019      1.0023       1.002      1.0037]\n",
            "\u001b[34m\u001b[1mtrain: \u001b[0mWARNING ⚠️ /content/shelves-5/train/images/train_3759_jpg.rf.02c3ae378e61bc65b06d7e018191d6d1.jpg: ignoring corrupt image/label: non-normalized or out of bounds coordinates [     1.0029      1.0058      1.0033      1.0026      1.0002      1.0008      1.0013]\n",
            "\u001b[34m\u001b[1mtrain: \u001b[0mWARNING ⚠️ /content/shelves-5/train/images/train_3759_jpg.rf.97118cc9fe04a503d84ae584c7bf53e6.jpg: ignoring corrupt image/label: non-normalized or out of bounds coordinates [     1.0027      1.0053      1.0031      1.0024      1.0002      1.0005       1.001]\n",
            "\u001b[34m\u001b[1mtrain: \u001b[0mWARNING ⚠️ /content/shelves-5/train/images/train_3759_jpg.rf.f1633053a9b1423460e7e9c40e1bc3a8.jpg: ignoring corrupt image/label: non-normalized or out of bounds coordinates [     1.0027      1.0054      1.0031      1.0024      1.0002      1.0007      1.0012]\n",
            "\u001b[34m\u001b[1mtrain: \u001b[0mWARNING ⚠️ /content/shelves-5/train/images/train_3761_jpg.rf.2b5be72fd94575ffe753e76c631957c5.jpg: ignoring corrupt image/label: non-normalized or out of bounds coordinates [     1.0093      1.0227      1.0528]\n",
            "\u001b[34m\u001b[1mtrain: \u001b[0mWARNING ⚠️ /content/shelves-5/train/images/train_3761_jpg.rf.4feda7422c4878f9145401640bcdee11.jpg: ignoring corrupt image/label: non-normalized or out of bounds coordinates [     1.0097      1.0234      1.0464]\n",
            "\u001b[34m\u001b[1mtrain: \u001b[0mWARNING ⚠️ /content/shelves-5/train/images/train_3761_jpg.rf.60b9b8c9bb87c8610fb54c17ccdbaf9f.jpg: ignoring corrupt image/label: non-normalized or out of bounds coordinates [     1.0093      1.0226      1.0518]\n",
            "\u001b[34m\u001b[1mtrain: \u001b[0mWARNING ⚠️ /content/shelves-5/train/images/train_3768_jpg.rf.024ec20ad162851359f2a25f55058eb7.jpg: ignoring corrupt image/label: non-normalized or out of bounds coordinates [     1.0041      1.0076      1.0208]\n",
            "\u001b[34m\u001b[1mtrain: \u001b[0mWARNING ⚠️ /content/shelves-5/train/images/train_3768_jpg.rf.2bcc557b6c8c111e9f261ada5cca4c27.jpg: ignoring corrupt image/label: non-normalized or out of bounds coordinates [     1.0043      1.0079        1.02]\n",
            "\u001b[34m\u001b[1mtrain: \u001b[0mWARNING ⚠️ /content/shelves-5/train/images/train_3768_jpg.rf.3194e73c097e77f9ad483513a6c3ff67.jpg: ignoring corrupt image/label: non-normalized or out of bounds coordinates [     1.0036      1.0042      1.0077      1.0186]\n",
            "\u001b[34m\u001b[1mtrain: \u001b[0mWARNING ⚠️ /content/shelves-5/train/images/train_3769_jpg.rf.bf19b2fcd312281d30997dbff9c59fe6.jpg: ignoring corrupt image/label: non-normalized or out of bounds coordinates [     1.0214       1.003]\n",
            "\u001b[34m\u001b[1mtrain: \u001b[0mWARNING ⚠️ /content/shelves-5/train/images/train_3770_jpg.rf.fec619ef77223d7f65385bbc853eca62.jpg: ignoring corrupt image/label: non-normalized or out of bounds coordinates [     1.0041]\n",
            "\u001b[34m\u001b[1mtrain: \u001b[0mWARNING ⚠️ /content/shelves-5/train/images/train_3775_jpg.rf.65377950bc35cbc3b3e829a2c12309f6.jpg: ignoring corrupt image/label: non-normalized or out of bounds coordinates [     1.0092       1.007      1.0151]\n",
            "\u001b[34m\u001b[1mtrain: \u001b[0mWARNING ⚠️ /content/shelves-5/train/images/train_3775_jpg.rf.90f7b953ba27a1126615b24135cc241e.jpg: ignoring corrupt image/label: non-normalized or out of bounds coordinates [     1.0012      1.0071      1.0141]\n",
            "\u001b[34m\u001b[1mtrain: \u001b[0mWARNING ⚠️ /content/shelves-5/train/images/train_3775_jpg.rf.cbd060b6398008d8d0726b0fde0f3d63.jpg: ignoring corrupt image/label: non-normalized or out of bounds coordinates [     1.0093      1.0073      1.0159]\n",
            "\u001b[34m\u001b[1mtrain: \u001b[0mWARNING ⚠️ /content/shelves-5/train/images/train_3783_jpg.rf.7685365f5b4830a9310d37356f497689.jpg: ignoring corrupt image/label: non-normalized or out of bounds coordinates [     1.0034       1.004      1.0013      1.0004      1.0021       1.003]\n",
            "\u001b[34m\u001b[1mtrain: \u001b[0mWARNING ⚠️ /content/shelves-5/train/images/train_3783_jpg.rf.cde2754ab0210cc97273b56438a0388d.jpg: ignoring corrupt image/label: non-normalized or out of bounds coordinates [     1.0042      1.0014      1.0004      1.0022      1.0032]\n",
            "\u001b[34m\u001b[1mtrain: \u001b[0mWARNING ⚠️ /content/shelves-5/train/images/train_3783_jpg.rf.cf9c59f8103647bd68fe5f3d7ff0e9bb.jpg: ignoring corrupt image/label: non-normalized or out of bounds coordinates [     1.0033      1.0039      1.0012      1.0004      1.0021      1.0029]\n",
            "\u001b[34m\u001b[1mtrain: \u001b[0mWARNING ⚠️ /content/shelves-5/train/images/train_3784_jpg.rf.3b072c0c26683485516a41572c55614d.jpg: ignoring corrupt image/label: non-normalized or out of bounds coordinates [     1.0007       1.001      1.0004      1.0009]\n",
            "\u001b[34m\u001b[1mtrain: \u001b[0mWARNING ⚠️ /content/shelves-5/train/images/train_3784_jpg.rf.41abc040296b38aee05f4ed9bf8b74d9.jpg: ignoring corrupt image/label: non-normalized or out of bounds coordinates [     1.0008      1.0011      1.0004       1.001]\n",
            "\u001b[34m\u001b[1mtrain: \u001b[0mWARNING ⚠️ /content/shelves-5/train/images/train_3784_jpg.rf.82726cf02e59db267717df9d7a8057e1.jpg: ignoring corrupt image/label: non-normalized or out of bounds coordinates [     1.0011      1.0004       1.001]\n",
            "\u001b[34m\u001b[1mtrain: \u001b[0mWARNING ⚠️ /content/shelves-5/train/images/train_3785_jpg.rf.69901fb62846349bb9488896f2e89dd8.jpg: ignoring corrupt image/label: non-normalized or out of bounds coordinates [     1.0085      1.0332      1.0773      1.0383]\n",
            "\u001b[34m\u001b[1mtrain: \u001b[0mWARNING ⚠️ /content/shelves-5/train/images/train_3785_jpg.rf.a4d2abfa4e60dc7708b75d0047a06ff3.jpg: ignoring corrupt image/label: non-normalized or out of bounds coordinates [     1.0261      1.0082      1.0322      1.0713      1.0418]\n",
            "\u001b[34m\u001b[1mtrain: \u001b[0mWARNING ⚠️ /content/shelves-5/train/images/train_3785_jpg.rf.fc4a3e17c905602d5d770d87741758f6.jpg: ignoring corrupt image/label: non-normalized or out of bounds coordinates [     1.0089      1.0346      1.0651]\n",
            "\u001b[34m\u001b[1mtrain: \u001b[0mWARNING ⚠️ /content/shelves-5/train/images/train_3787_jpg.rf.03b442788154c51fddb6cfa27e102902.jpg: ignoring corrupt image/label: non-normalized or out of bounds coordinates [     1.0061      1.0173      1.0401      1.0542       1.057      1.0443]\n",
            "\u001b[34m\u001b[1mtrain: \u001b[0mWARNING ⚠️ /content/shelves-5/train/images/train_3787_jpg.rf.69983bbf3e0c7ae5e76fcfc99286ec2e.jpg: ignoring corrupt image/label: non-normalized or out of bounds coordinates [     1.0178      1.0418       1.056      1.0588      1.0568]\n",
            "\u001b[34m\u001b[1mtrain: \u001b[0mWARNING ⚠️ /content/shelves-5/train/images/train_3787_jpg.rf.9b36022f48ee98aa13ed9f30a547b477.jpg: ignoring corrupt image/label: non-normalized or out of bounds coordinates [     1.0154      1.0439      1.0609       1.064      1.0389]\n",
            "\u001b[34m\u001b[1mtrain: \u001b[0mWARNING ⚠️ /content/shelves-5/train/images/train_3788_jpg.rf.461ee6bd6f4b4474c2cb2dea95e14314.jpg: ignoring corrupt image/label: non-normalized or out of bounds coordinates [     1.0282]\n",
            "\u001b[34m\u001b[1mtrain: \u001b[0mWARNING ⚠️ /content/shelves-5/train/images/train_3788_jpg.rf.7d57b06f3e9759abe4c155984f3ef94f.jpg: ignoring corrupt image/label: non-normalized or out of bounds coordinates [      1.053]\n",
            "\u001b[34m\u001b[1mtrain: \u001b[0mWARNING ⚠️ /content/shelves-5/train/images/train_3788_jpg.rf.b98a3b0753679d5d3f5864bb335fe18f.jpg: ignoring corrupt image/label: non-normalized or out of bounds coordinates [     1.0361]\n",
            "\u001b[34m\u001b[1mtrain: \u001b[0mWARNING ⚠️ /content/shelves-5/train/images/train_3795_jpg.rf.5f593b5e0e5d5ff6d5d034a2a29084e7.jpg: ignoring corrupt image/label: non-normalized or out of bounds coordinates [     1.0107      1.0584      1.0942      1.1003]\n",
            "\u001b[34m\u001b[1mtrain: \u001b[0mWARNING ⚠️ /content/shelves-5/train/images/train_3795_jpg.rf.9baa4e4f42ec0f0701b88d9db29e3a38.jpg: ignoring corrupt image/label: non-normalized or out of bounds coordinates [     1.0105      1.0569      1.0917      1.1014]\n",
            "\u001b[34m\u001b[1mtrain: \u001b[0mWARNING ⚠️ /content/shelves-5/train/images/train_3795_jpg.rf.f62192abee62a716837ebeef9ffcd476.jpg: ignoring corrupt image/label: non-normalized or out of bounds coordinates [     1.0109       1.061      1.0983      1.1086]\n",
            "\u001b[34m\u001b[1mtrain: \u001b[0mWARNING ⚠️ /content/shelves-5/train/images/train_3796_jpg.rf.22604b939035357fad819d1cfe1726d1.jpg: ignoring corrupt image/label: non-normalized or out of bounds coordinates [     1.0029      1.0072      1.0234       1.033      1.0915]\n",
            "\u001b[34m\u001b[1mtrain: \u001b[0mWARNING ⚠️ /content/shelves-5/train/images/train_3796_jpg.rf.8fa5cc20b90b176b028f2faa51c24b47.jpg: ignoring corrupt image/label: non-normalized or out of bounds coordinates [      1.016      1.0949]\n",
            "\u001b[34m\u001b[1mtrain: \u001b[0mWARNING ⚠️ /content/shelves-5/train/images/train_3796_jpg.rf.9505b9c5d544b7caddd6fecc51fec893.jpg: ignoring corrupt image/label: non-normalized or out of bounds coordinates [     1.0032      1.0083      1.0255      1.1093]\n",
            "\u001b[34m\u001b[1mtrain: \u001b[0mWARNING ⚠️ /content/shelves-5/train/images/train_3797_jpg.rf.4138798bef1bb4b3f20985b6319e2d93.jpg: ignoring corrupt image/label: non-normalized or out of bounds coordinates [     1.0029]\n",
            "\u001b[34m\u001b[1mtrain: \u001b[0mWARNING ⚠️ /content/shelves-5/train/images/train_3797_jpg.rf.be638bf0e1625f1f87063261c41ca7af.jpg: ignoring corrupt image/label: non-normalized or out of bounds coordinates [     1.0028]\n",
            "\u001b[34m\u001b[1mtrain: \u001b[0mWARNING ⚠️ /content/shelves-5/train/images/train_3797_jpg.rf.ee28c11d2196ef85dc42e06dd9bee525.jpg: ignoring corrupt image/label: non-normalized or out of bounds coordinates [     1.0014      1.0027]\n",
            "\u001b[34m\u001b[1mtrain: \u001b[0mWARNING ⚠️ /content/shelves-5/train/images/train_3798_jpg.rf.2d676991a3dcc5af02d22d14b55cacf6.jpg: ignoring corrupt image/label: non-normalized or out of bounds coordinates [     1.0159      1.0026      1.0077      1.0079      1.0076]\n",
            "\u001b[34m\u001b[1mtrain: \u001b[0mWARNING ⚠️ /content/shelves-5/train/images/train_3798_jpg.rf.395f80bc7f5a97fdc53f86fdb8f76071.jpg: ignoring corrupt image/label: non-normalized or out of bounds coordinates [     1.0161      1.0027      1.0078       1.008      1.0078]\n",
            "\u001b[34m\u001b[1mtrain: \u001b[0mWARNING ⚠️ /content/shelves-5/train/images/train_3798_jpg.rf.b632ec96f135e42da930c30e79aab957.jpg: ignoring corrupt image/label: non-normalized or out of bounds coordinates [     1.0029      1.0085      1.0087      1.0085]\n",
            "\u001b[34m\u001b[1mtrain: \u001b[0mWARNING ⚠️ /content/shelves-5/train/images/train_386_jpg.rf.e2d9d90fb3fd000e0317d168c984c87e.jpg: ignoring corrupt image/label: non-normalized or out of bounds coordinates [     1.0099]\n",
            "\u001b[34m\u001b[1mtrain: \u001b[0mWARNING ⚠️ /content/shelves-5/train/images/train_386_jpg.rf.e3ccb0bf00613b391e0f338ccc869d26.jpg: ignoring corrupt image/label: non-normalized or out of bounds coordinates [     1.0108]\n",
            "\u001b[34m\u001b[1mtrain: \u001b[0mWARNING ⚠️ /content/shelves-5/train/images/train_394_jpg.rf.22865a0641575b91241ce7495b11fd11.jpg: ignoring corrupt image/label: non-normalized or out of bounds coordinates [     1.0231]\n",
            "\u001b[34m\u001b[1mtrain: \u001b[0mWARNING ⚠️ /content/shelves-5/train/images/train_394_jpg.rf.3e8dfd0c8f014c65e01b92a85b220677.jpg: ignoring corrupt image/label: non-normalized or out of bounds coordinates [      1.023]\n",
            "\u001b[34m\u001b[1mtrain: \u001b[0mWARNING ⚠️ /content/shelves-5/train/images/train_394_jpg.rf.79aa044780219d2da97f2f5f52b6a3e1.jpg: ignoring corrupt image/label: non-normalized or out of bounds coordinates [     1.0239]\n",
            "\u001b[34m\u001b[1mtrain: \u001b[0mWARNING ⚠️ /content/shelves-5/train/images/train_397_jpg.rf.3ecf3a6862a3760a2429b6457e579e5d.jpg: ignoring corrupt image/label: non-normalized or out of bounds coordinates [     1.0106      1.0193      1.0287      1.0513]\n",
            "\u001b[34m\u001b[1mtrain: \u001b[0mWARNING ⚠️ /content/shelves-5/train/images/train_397_jpg.rf.544eef294361436680c626ff48f7d2ce.jpg: ignoring corrupt image/label: non-normalized or out of bounds coordinates [     1.0106      1.0193      1.0283       1.051]\n",
            "\u001b[34m\u001b[1mtrain: \u001b[0mWARNING ⚠️ /content/shelves-5/train/images/train_397_jpg.rf.9d2dcf0fba8326408813300d03e5a76c.jpg: ignoring corrupt image/label: non-normalized or out of bounds coordinates [     1.0102      1.0146      1.0232      1.0488]\n",
            "\u001b[34m\u001b[1mtrain: \u001b[0mWARNING ⚠️ /content/shelves-5/train/images/train_427_jpg.rf.1733fbfadc5251effd2a4c50dad616ad.jpg: ignoring corrupt image/label: non-normalized or out of bounds coordinates [     1.0053]\n",
            "\u001b[34m\u001b[1mtrain: \u001b[0mWARNING ⚠️ /content/shelves-5/train/images/train_430_jpg.rf.365e608bfd7150434f68677b6d972c84.jpg: ignoring corrupt image/label: non-normalized or out of bounds coordinates [     1.0283      1.0111      1.0749]\n",
            "\u001b[34m\u001b[1mtrain: \u001b[0mWARNING ⚠️ /content/shelves-5/train/images/train_430_jpg.rf.d90a09aa9ce4948a33f8bc63ce5a88bf.jpg: ignoring corrupt image/label: non-normalized or out of bounds coordinates [     1.0276      1.0116      1.0825]\n",
            "\u001b[34m\u001b[1mtrain: \u001b[0mWARNING ⚠️ /content/shelves-5/train/images/train_430_jpg.rf.df536fc8bd111bd5d5a594cb69014bd2.jpg: ignoring corrupt image/label: non-normalized or out of bounds coordinates [     1.0275      1.0116      1.0825]\n",
            "\u001b[34m\u001b[1mtrain: \u001b[0mWARNING ⚠️ /content/shelves-5/train/images/train_431_jpg.rf.30d3aee815580112e77fc18851a918a5.jpg: ignoring corrupt image/label: non-normalized or out of bounds coordinates [      1.224      1.0458]\n",
            "\u001b[34m\u001b[1mtrain: \u001b[0mWARNING ⚠️ /content/shelves-5/train/images/train_431_jpg.rf.47de9db0a74164f4e39bde848d24d4b7.jpg: ignoring corrupt image/label: non-normalized or out of bounds coordinates [     1.2491      1.0532]\n",
            "\u001b[34m\u001b[1mtrain: \u001b[0mWARNING ⚠️ /content/shelves-5/train/images/train_431_jpg.rf.d30e3f202667e9d3a685d5da76a2a00d.jpg: ignoring corrupt image/label: non-normalized or out of bounds coordinates [     1.2094      1.0589]\n",
            "\u001b[34m\u001b[1mtrain: \u001b[0mWARNING ⚠️ /content/shelves-5/train/images/train_434_jpg.rf.50f4b5ad785ba7ab50ace3d369cb6dce.jpg: ignoring corrupt image/label: non-normalized or out of bounds coordinates [     1.0509      1.0258      1.0487      1.0766]\n",
            "\u001b[34m\u001b[1mtrain: \u001b[0mWARNING ⚠️ /content/shelves-5/train/images/train_434_jpg.rf.9896f211ebff225b827e156ba6d93715.jpg: ignoring corrupt image/label: non-normalized or out of bounds coordinates [     1.0451      1.0251      1.0675      1.0727]\n",
            "\u001b[34m\u001b[1mtrain: \u001b[0mWARNING ⚠️ /content/shelves-5/train/images/train_434_jpg.rf.a1b1ceb83996669c24ef018ed7d28a39.jpg: ignoring corrupt image/label: non-normalized or out of bounds coordinates [     1.0403      1.0251      1.0674      1.0708]\n",
            "\u001b[34m\u001b[1mtrain: \u001b[0mWARNING ⚠️ /content/shelves-5/train/images/train_440_jpg.rf.301d537cff8a664ffbfa3d73138d958d.jpg: ignoring corrupt image/label: non-normalized or out of bounds coordinates [     1.0107      1.0029      1.0108]\n",
            "\u001b[34m\u001b[1mtrain: \u001b[0mWARNING ⚠️ /content/shelves-5/train/images/train_440_jpg.rf.58fe9a0957bf9ac5767abd169933b5e3.jpg: ignoring corrupt image/label: non-normalized or out of bounds coordinates [     1.0106      1.0029      1.0115]\n",
            "\u001b[34m\u001b[1mtrain: \u001b[0mWARNING ⚠️ /content/shelves-5/train/images/train_440_jpg.rf.809b91cbe404792c7002fcfaa796e205.jpg: ignoring corrupt image/label: non-normalized or out of bounds coordinates [     1.0107      1.0029      1.0114]\n",
            "\u001b[34m\u001b[1mtrain: \u001b[0mWARNING ⚠️ /content/shelves-5/train/images/train_44_jpg.rf.49edbd0642d0b1641cbb17129fc759e5.jpg: ignoring corrupt image/label: non-normalized or out of bounds coordinates [     1.0016      1.0024]\n",
            "\u001b[34m\u001b[1mtrain: \u001b[0mWARNING ⚠️ /content/shelves-5/train/images/train_44_jpg.rf.5b616299355d4400659a541f6bdb146d.jpg: ignoring corrupt image/label: non-normalized or out of bounds coordinates [     1.0016      1.0025      1.0031]\n",
            "\u001b[34m\u001b[1mtrain: \u001b[0mWARNING ⚠️ /content/shelves-5/train/images/train_44_jpg.rf.610e420933db70d6143e7b3cca5e8098.jpg: ignoring corrupt image/label: non-normalized or out of bounds coordinates [     1.0005      1.0024]\n",
            "\u001b[34m\u001b[1mtrain: \u001b[0mWARNING ⚠️ /content/shelves-5/train/images/train_464_jpg.rf.2a429cb8a5e1dedf25130173e9019319.jpg: ignoring corrupt image/label: non-normalized or out of bounds coordinates [     1.0297]\n",
            "\u001b[34m\u001b[1mtrain: \u001b[0mWARNING ⚠️ /content/shelves-5/train/images/train_464_jpg.rf.792ba9118b3cc2218c736557f404fc76.jpg: ignoring corrupt image/label: non-normalized or out of bounds coordinates [     1.0258]\n",
            "\u001b[34m\u001b[1mtrain: \u001b[0mWARNING ⚠️ /content/shelves-5/train/images/train_464_jpg.rf.d6c8826428160ef89d3a98a42563a788.jpg: ignoring corrupt image/label: non-normalized or out of bounds coordinates [     1.0145]\n",
            "\u001b[34m\u001b[1mtrain: \u001b[0mWARNING ⚠️ /content/shelves-5/train/images/train_465_jpg.rf.132a9fa66ea0c36f6d6851a39dae93bc.jpg: ignoring corrupt image/label: non-normalized or out of bounds coordinates [     1.0084       1.009]\n",
            "\u001b[34m\u001b[1mtrain: \u001b[0mWARNING ⚠️ /content/shelves-5/train/images/train_465_jpg.rf.3371bf8609b5b83f75a3bb9d8cfae148.jpg: ignoring corrupt image/label: non-normalized or out of bounds coordinates [     1.0205        1.01]\n",
            "\u001b[34m\u001b[1mtrain: \u001b[0mWARNING ⚠️ /content/shelves-5/train/images/train_465_jpg.rf.9c8e938a59a042d3f91f59a344e22c53.jpg: ignoring corrupt image/label: non-normalized or out of bounds coordinates [     1.0203      1.0101]\n",
            "\u001b[34m\u001b[1mtrain: \u001b[0mWARNING ⚠️ /content/shelves-5/train/images/train_473_jpg.rf.af19b129c4f7a432c51e6253a62fd8b5.jpg: ignoring corrupt image/label: non-normalized or out of bounds coordinates [     1.0162      1.0629]\n",
            "\u001b[34m\u001b[1mtrain: \u001b[0mWARNING ⚠️ /content/shelves-5/train/images/train_473_jpg.rf.d05ea2790c91c969181e232d21a87027.jpg: ignoring corrupt image/label: non-normalized or out of bounds coordinates [     1.0274]\n",
            "\u001b[34m\u001b[1mtrain: \u001b[0mWARNING ⚠️ /content/shelves-5/train/images/train_473_jpg.rf.f32fe3350e0fcbe28c3623e2064b24cd.jpg: ignoring corrupt image/label: non-normalized or out of bounds coordinates [     1.0128]\n",
            "\u001b[34m\u001b[1mtrain: \u001b[0mWARNING ⚠️ /content/shelves-5/train/images/train_476_jpg.rf.4606db8d4d36178c7dc793263a487270.jpg: ignoring corrupt image/label: non-normalized or out of bounds coordinates [     1.0264       1.043      1.0514]\n",
            "\u001b[34m\u001b[1mtrain: \u001b[0mWARNING ⚠️ /content/shelves-5/train/images/train_476_jpg.rf.55612d8f31624ff43452e8558967834e.jpg: ignoring corrupt image/label: non-normalized or out of bounds coordinates [     1.0263      1.0436      1.0523]\n",
            "\u001b[34m\u001b[1mtrain: \u001b[0mWARNING ⚠️ /content/shelves-5/train/images/train_476_jpg.rf.bcf515443915d370ae7e6ab64abd3371.jpg: ignoring corrupt image/label: non-normalized or out of bounds coordinates [      1.019      1.0419      1.0517]\n",
            "\u001b[34m\u001b[1mtrain: \u001b[0mWARNING ⚠️ /content/shelves-5/train/images/train_482_jpg.rf.336473cc16052282fcbbf1cf3de8dd5b.jpg: ignoring corrupt image/label: non-normalized or out of bounds coordinates [     1.0112]\n",
            "\u001b[34m\u001b[1mtrain: \u001b[0mWARNING ⚠️ /content/shelves-5/train/images/train_482_jpg.rf.9b52b206d8e462e92484eed9c32d00b2.jpg: ignoring corrupt image/label: non-normalized or out of bounds coordinates [     1.0113]\n",
            "\u001b[34m\u001b[1mtrain: \u001b[0mWARNING ⚠️ /content/shelves-5/train/images/train_482_jpg.rf.b8d83254d44548c6aedfcd8a2496552c.jpg: ignoring corrupt image/label: non-normalized or out of bounds coordinates [     1.0184]\n",
            "\u001b[34m\u001b[1mtrain: \u001b[0mWARNING ⚠️ /content/shelves-5/train/images/train_487_jpg.rf.2ecc2b5dbeefc96125332873c1805933.jpg: ignoring corrupt image/label: non-normalized or out of bounds coordinates [     1.0233      1.0192      1.0417]\n",
            "\u001b[34m\u001b[1mtrain: \u001b[0mWARNING ⚠️ /content/shelves-5/train/images/train_487_jpg.rf.7c2c0b584d2dc45d0cad38f8979703ef.jpg: ignoring corrupt image/label: non-normalized or out of bounds coordinates [     1.0241      1.0274      1.0433]\n",
            "\u001b[34m\u001b[1mtrain: \u001b[0mWARNING ⚠️ /content/shelves-5/train/images/train_487_jpg.rf.fe16906a73c21d1e111fcf7298846e8c.jpg: ignoring corrupt image/label: non-normalized or out of bounds coordinates [     1.0227      1.0258      1.0414]\n",
            "\u001b[34m\u001b[1mtrain: \u001b[0mWARNING ⚠️ /content/shelves-5/train/images/train_491_jpg.rf.942f02d571531bbdff750ffd8b3c8f0b.jpg: ignoring corrupt image/label: non-normalized or out of bounds coordinates [     1.0056       1.012]\n",
            "\u001b[34m\u001b[1mtrain: \u001b[0mWARNING ⚠️ /content/shelves-5/train/images/train_491_jpg.rf.9b854e6ad54eecb1c569194bf2d9525f.jpg: ignoring corrupt image/label: non-normalized or out of bounds coordinates [     1.0027      1.0118]\n",
            "\u001b[34m\u001b[1mtrain: \u001b[0mWARNING ⚠️ /content/shelves-5/train/images/train_491_jpg.rf.ca167d45d0c67d85fa83c2077c66de12.jpg: ignoring corrupt image/label: non-normalized or out of bounds coordinates [     1.0067           1]\n",
            "\u001b[34m\u001b[1mtrain: \u001b[0mWARNING ⚠️ /content/shelves-5/train/images/train_49_jpg.rf.d6f71d9be766300e25f5263524795e0c.jpg: ignoring corrupt image/label: non-normalized or out of bounds coordinates [     1.0024]\n",
            "\u001b[34m\u001b[1mtrain: \u001b[0mWARNING ⚠️ /content/shelves-5/train/images/train_49_jpg.rf.f2c0543da906e82b9b9ef0b898ee941d.jpg: ignoring corrupt image/label: non-normalized or out of bounds coordinates [     1.0025]\n",
            "\u001b[34m\u001b[1mtrain: \u001b[0mWARNING ⚠️ /content/shelves-5/train/images/train_511_jpg.rf.242cccf71f10a4ccbc0e41e41a00b57b.jpg: ignoring corrupt image/label: non-normalized or out of bounds coordinates [     1.0206      1.0599      1.0042]\n",
            "\u001b[34m\u001b[1mtrain: \u001b[0mWARNING ⚠️ /content/shelves-5/train/images/train_511_jpg.rf.86e4323a53681337d8a9ae1a7c7e0b5a.jpg: ignoring corrupt image/label: non-normalized or out of bounds coordinates [     1.0191      1.0591      1.0046]\n",
            "\u001b[34m\u001b[1mtrain: \u001b[0mWARNING ⚠️ /content/shelves-5/train/images/train_511_jpg.rf.f0daadf007fe0a14d4ca12407bfa4b1d.jpg: ignoring corrupt image/label: non-normalized or out of bounds coordinates [     1.0206        1.06      1.0045]\n",
            "\u001b[34m\u001b[1mtrain: \u001b[0mWARNING ⚠️ /content/shelves-5/train/images/train_51_jpg.rf.06e3676e56d16db90a7c119ffc820eba.jpg: ignoring corrupt image/label: non-normalized or out of bounds coordinates [     1.0086      1.0004      1.0222      1.0974]\n",
            "\u001b[34m\u001b[1mtrain: \u001b[0mWARNING ⚠️ /content/shelves-5/train/images/train_51_jpg.rf.711618b8fce7af8dace4a8596328ec6c.jpg: ignoring corrupt image/label: non-normalized or out of bounds coordinates [     1.0094      1.0004      1.0216      1.0949]\n",
            "\u001b[34m\u001b[1mtrain: \u001b[0mWARNING ⚠️ /content/shelves-5/train/images/train_51_jpg.rf.b56c83e08347d89d8928bb6a8c10b92d.jpg: ignoring corrupt image/label: non-normalized or out of bounds coordinates [     1.0087      1.0004      1.0194       1.096]\n",
            "\u001b[34m\u001b[1mtrain: \u001b[0mWARNING ⚠️ /content/shelves-5/train/images/train_520_jpg.rf.0ce739ba6708a259c3c1b1f4656c2ad3.jpg: ignoring corrupt image/label: non-normalized or out of bounds coordinates [      1.025]\n",
            "\u001b[34m\u001b[1mtrain: \u001b[0mWARNING ⚠️ /content/shelves-5/train/images/train_520_jpg.rf.bcd125e93d1445b289383d1e45ca3562.jpg: ignoring corrupt image/label: non-normalized or out of bounds coordinates [     1.0188      1.0539]\n",
            "\u001b[34m\u001b[1mtrain: \u001b[0mWARNING ⚠️ /content/shelves-5/train/images/train_520_jpg.rf.cb66c19d2f130a900d36d4aa7351ca03.jpg: ignoring corrupt image/label: non-normalized or out of bounds coordinates [     1.0074      1.0415]\n",
            "\u001b[34m\u001b[1mtrain: \u001b[0mWARNING ⚠️ /content/shelves-5/train/images/train_521_jpg.rf.5ee1f5e7ec49293ccb97193e53f66604.jpg: ignoring corrupt image/label: non-normalized or out of bounds coordinates [     1.0417      1.0183      1.0037      1.0139      1.0273      1.0296]\n",
            "\u001b[34m\u001b[1mtrain: \u001b[0mWARNING ⚠️ /content/shelves-5/train/images/train_521_jpg.rf.8a053cd6e7691c84aeeb7d194f1043e2.jpg: ignoring corrupt image/label: non-normalized or out of bounds coordinates [     1.0401      1.0133      1.0025      1.0135      1.0198      1.0344]\n",
            "\u001b[34m\u001b[1mtrain: \u001b[0mWARNING ⚠️ /content/shelves-5/train/images/train_521_jpg.rf.cb8da6c4dabbd37cbd58d131b5752e0f.jpg: ignoring corrupt image/label: non-normalized or out of bounds coordinates [     1.0419      1.0184      1.0037      1.0139      1.0274      1.0311]\n",
            "\u001b[34m\u001b[1mtrain: \u001b[0mWARNING ⚠️ /content/shelves-5/train/images/train_528_jpg.rf.cb1e234606b571e1b5c175262da4418c.jpg: ignoring corrupt image/label: non-normalized or out of bounds coordinates [     1.0254      1.0144]\n",
            "\u001b[34m\u001b[1mtrain: \u001b[0mWARNING ⚠️ /content/shelves-5/train/images/train_531_jpg.rf.400b0e3ba4ede8cd86daa87288144e5f.jpg: ignoring corrupt image/label: non-normalized or out of bounds coordinates [     1.0009      1.0362      1.0145      1.0116]\n",
            "\u001b[34m\u001b[1mtrain: \u001b[0mWARNING ⚠️ /content/shelves-5/train/images/train_531_jpg.rf.712c0ca78a7dad57c2dc5c5a832042b4.jpg: ignoring corrupt image/label: non-normalized or out of bounds coordinates [     1.0009      1.0383      1.0153      1.0123]\n",
            "\u001b[34m\u001b[1mtrain: \u001b[0mWARNING ⚠️ /content/shelves-5/train/images/train_531_jpg.rf.fddc9091f93f273d4c606780df78d04f.jpg: ignoring corrupt image/label: non-normalized or out of bounds coordinates [     1.0009      1.0363      1.0145      1.0116]\n",
            "\u001b[34m\u001b[1mtrain: \u001b[0mWARNING ⚠️ /content/shelves-5/train/images/train_532_jpg.rf.9e0bc10f59916dd9799556d81cbe2dad.jpg: ignoring corrupt image/label: non-normalized or out of bounds coordinates [      1.009        1.02      1.0427      1.0563]\n",
            "\u001b[34m\u001b[1mtrain: \u001b[0mWARNING ⚠️ /content/shelves-5/train/images/train_532_jpg.rf.e6b550c72b5fca99416f0812d08b7640.jpg: ignoring corrupt image/label: non-normalized or out of bounds coordinates [     1.0089      1.0196      1.0418      1.0551]\n",
            "\u001b[34m\u001b[1mtrain: \u001b[0mWARNING ⚠️ /content/shelves-5/train/images/train_538_jpg.rf.7dcf1ce38dba3bae09a2d2cb4f0a7e4c.jpg: ignoring corrupt image/label: non-normalized or out of bounds coordinates [     1.0215      1.0013]\n",
            "\u001b[34m\u001b[1mtrain: \u001b[0mWARNING ⚠️ /content/shelves-5/train/images/train_538_jpg.rf.e967baa1100f4969e5c3c21ffa54bea9.jpg: ignoring corrupt image/label: non-normalized or out of bounds coordinates [      1.021      1.0013]\n",
            "\u001b[34m\u001b[1mtrain: \u001b[0mWARNING ⚠️ /content/shelves-5/train/images/train_538_jpg.rf.f98214386e176464d623745dc043fced.jpg: ignoring corrupt image/label: non-normalized or out of bounds coordinates [     1.0202      1.0013]\n",
            "\u001b[34m\u001b[1mtrain: \u001b[0mWARNING ⚠️ /content/shelves-5/train/images/train_549_jpg.rf.b386b1e2e14ed9cfa92596838055afae.jpg: ignoring corrupt image/label: non-normalized or out of bounds coordinates [     1.0101      1.0576      1.1771]\n",
            "\u001b[34m\u001b[1mtrain: \u001b[0mWARNING ⚠️ /content/shelves-5/train/images/train_549_jpg.rf.bc2dc6b66d5f378beb6e88dd73d061e2.jpg: ignoring corrupt image/label: non-normalized or out of bounds coordinates [     1.0102      1.0587      1.1803]\n",
            "\u001b[34m\u001b[1mtrain: \u001b[0mWARNING ⚠️ /content/shelves-5/train/images/train_549_jpg.rf.da9241804c5eb4aadc3d6a6810932632.jpg: ignoring corrupt image/label: non-normalized or out of bounds coordinates [     1.0099      1.0582       1.179]\n",
            "\u001b[34m\u001b[1mtrain: \u001b[0mWARNING ⚠️ /content/shelves-5/train/images/train_550_jpg.rf.06f14a6639bc3edc3c768035ab6b85f3.jpg: ignoring corrupt image/label: non-normalized or out of bounds coordinates [      1.013      1.0047      1.0194      1.0251      1.0361      1.0394]\n",
            "\u001b[34m\u001b[1mtrain: \u001b[0mWARNING ⚠️ /content/shelves-5/train/images/train_550_jpg.rf.38c70fec32cade829a96d06cdceb3652.jpg: ignoring corrupt image/label: non-normalized or out of bounds coordinates [     1.0124       1.005      1.0187       1.028      1.0346       1.046]\n",
            "\u001b[34m\u001b[1mtrain: \u001b[0mWARNING ⚠️ /content/shelves-5/train/images/train_550_jpg.rf.c6110d272104e08f38ce9d95b9362d02.jpg: ignoring corrupt image/label: non-normalized or out of bounds coordinates [     1.0131      1.0052      1.0195      1.0252      1.0364      1.0368]\n",
            "\u001b[34m\u001b[1mtrain: \u001b[0mWARNING ⚠️ /content/shelves-5/train/images/train_551_jpg.rf.07565d3c9d0fdf176be7be044329eecc.jpg: ignoring corrupt image/label: non-normalized or out of bounds coordinates [     1.0046      1.0062      1.0033      1.0023      1.0062]\n",
            "\u001b[34m\u001b[1mtrain: \u001b[0mWARNING ⚠️ /content/shelves-5/train/images/train_551_jpg.rf.92484b565867fae7f3e34206400e30d9.jpg: ignoring corrupt image/label: non-normalized or out of bounds coordinates [     1.0063      1.0061      1.0033       1.001      1.0061]\n",
            "\u001b[34m\u001b[1mtrain: \u001b[0mWARNING ⚠️ /content/shelves-5/train/images/train_551_jpg.rf.cffa0eb663d0addb4415a7e7801f7386.jpg: ignoring corrupt image/label: non-normalized or out of bounds coordinates [     1.0091      1.0067      1.0036      1.0025           1]\n",
            "\u001b[34m\u001b[1mtrain: \u001b[0mWARNING ⚠️ /content/shelves-5/train/images/train_563_jpg.rf.72eece5d7e76c2662e8fd3da3f36fd45.jpg: ignoring corrupt image/label: non-normalized or out of bounds coordinates [     1.0137]\n",
            "\u001b[34m\u001b[1mtrain: \u001b[0mWARNING ⚠️ /content/shelves-5/train/images/train_563_jpg.rf.b4d8af611c350459d9df4230d7701f95.jpg: ignoring corrupt image/label: non-normalized or out of bounds coordinates [          1]\n",
            "\u001b[34m\u001b[1mtrain: \u001b[0mWARNING ⚠️ /content/shelves-5/train/images/train_563_jpg.rf.e9c100a721fb113befed44f16d627bff.jpg: ignoring corrupt image/label: non-normalized or out of bounds coordinates [     1.0152]\n",
            "\u001b[34m\u001b[1mtrain: \u001b[0mWARNING ⚠️ /content/shelves-5/train/images/train_564_jpg.rf.0fe4c9068c6ff0108923c96adb87702f.jpg: ignoring corrupt image/label: non-normalized or out of bounds coordinates [     1.0238       1.011]\n",
            "\u001b[34m\u001b[1mtrain: \u001b[0mWARNING ⚠️ /content/shelves-5/train/images/train_564_jpg.rf.9561e257cab86c85b3ee64cb7807572a.jpg: ignoring corrupt image/label: non-normalized or out of bounds coordinates [     1.0247      1.0115]\n",
            "\u001b[34m\u001b[1mtrain: \u001b[0mWARNING ⚠️ /content/shelves-5/train/images/train_564_jpg.rf.cf3e23fdfc5a9aa10dd2a1a632ae7215.jpg: ignoring corrupt image/label: non-normalized or out of bounds coordinates [     1.0243      1.0113]\n",
            "\u001b[34m\u001b[1mtrain: \u001b[0mWARNING ⚠️ /content/shelves-5/train/images/train_57_jpg.rf.841cf60b4a439da636f986e55541af97.jpg: ignoring corrupt image/label: non-normalized or out of bounds coordinates [     1.0098      1.0017       1.002      1.0062      1.0152      1.0203      1.0281      1.0385      1.0386]\n",
            "\u001b[34m\u001b[1mtrain: \u001b[0mWARNING ⚠️ /content/shelves-5/train/images/train_57_jpg.rf.9670787dfeeab647f69c9e5643949a11.jpg: ignoring corrupt image/label: non-normalized or out of bounds coordinates [     1.0105      1.0017      1.0013      1.0062       1.015      1.0186      1.0278      1.0383      1.0332]\n",
            "\u001b[34m\u001b[1mtrain: \u001b[0mWARNING ⚠️ /content/shelves-5/train/images/train_57_jpg.rf.a2e3eb9d5bea3de3183db8865a8789d8.jpg: ignoring corrupt image/label: non-normalized or out of bounds coordinates [     1.0104      1.0017       1.002      1.0063      1.0153      1.0205      1.0283      1.0389      1.0352]\n",
            "\u001b[34m\u001b[1mtrain: \u001b[0mWARNING ⚠️ /content/shelves-5/train/images/train_603_jpg.rf.19004c5e5323f763164df2bca5834ead.jpg: ignoring corrupt image/label: non-normalized or out of bounds coordinates [     1.0048      1.0773]\n",
            "\u001b[34m\u001b[1mtrain: \u001b[0mWARNING ⚠️ /content/shelves-5/train/images/train_603_jpg.rf.1c12c7da317487c551ef5a890ad35f4e.jpg: ignoring corrupt image/label: non-normalized or out of bounds coordinates [     1.0105      1.0738]\n",
            "\u001b[34m\u001b[1mtrain: \u001b[0mWARNING ⚠️ /content/shelves-5/train/images/train_603_jpg.rf.41fa5bf22af4e57207b20c83bee6cb90.jpg: ignoring corrupt image/label: non-normalized or out of bounds coordinates [     1.0049      1.0814]\n",
            "\u001b[34m\u001b[1mtrain: \u001b[0mWARNING ⚠️ /content/shelves-5/train/images/train_605_jpg.rf.73fcc4e51a3af306e57e713858ffeacc.jpg: ignoring corrupt image/label: non-normalized or out of bounds coordinates [          1      1.0007]\n",
            "\u001b[34m\u001b[1mtrain: \u001b[0mWARNING ⚠️ /content/shelves-5/train/images/train_605_jpg.rf.9f31710e42105416f77bacb927fa0a8e.jpg: ignoring corrupt image/label: non-normalized or out of bounds coordinates [     1.0007]\n",
            "\u001b[34m\u001b[1mtrain: \u001b[0mWARNING ⚠️ /content/shelves-5/train/images/train_605_jpg.rf.fa44468830a28c4149f5dabeb842a505.jpg: ignoring corrupt image/label: non-normalized or out of bounds coordinates [          1      1.0007]\n",
            "\u001b[34m\u001b[1mtrain: \u001b[0mWARNING ⚠️ /content/shelves-5/train/images/train_607_jpg.rf.595618379b10a482fda0b2a19ee9d671.jpg: ignoring corrupt image/label: non-normalized or out of bounds coordinates [     1.0133      1.0205      1.0379      1.0862]\n",
            "\u001b[34m\u001b[1mtrain: \u001b[0mWARNING ⚠️ /content/shelves-5/train/images/train_607_jpg.rf.9de525397ba0ed3a33eadeb0d41c4ea3.jpg: ignoring corrupt image/label: non-normalized or out of bounds coordinates [     1.0132      1.0202      1.0374      1.0832]\n",
            "\u001b[34m\u001b[1mtrain: \u001b[0mWARNING ⚠️ /content/shelves-5/train/images/train_607_jpg.rf.aabd23d136b1f11250d1f2a6ff4a92bf.jpg: ignoring corrupt image/label: non-normalized or out of bounds coordinates [     1.0133      1.0205       1.038      1.0733]\n",
            "\u001b[34m\u001b[1mtrain: \u001b[0mWARNING ⚠️ /content/shelves-5/train/images/train_610_jpg.rf.a3b2e53a067ecdd4072afc3416650dc7.jpg: ignoring corrupt image/label: non-normalized or out of bounds coordinates [     1.0013]\n",
            "\u001b[34m\u001b[1mtrain: \u001b[0mWARNING ⚠️ /content/shelves-5/train/images/train_610_jpg.rf.af210e8ba1dcbc737d71f3e1d8008473.jpg: ignoring corrupt image/label: non-normalized or out of bounds coordinates [     1.0014]\n",
            "\u001b[34m\u001b[1mtrain: \u001b[0mWARNING ⚠️ /content/shelves-5/train/images/train_611_jpg.rf.0f58a4e874309b7fb566fdc816e39fb2.jpg: ignoring corrupt image/label: non-normalized or out of bounds coordinates [     1.0102]\n",
            "\u001b[34m\u001b[1mtrain: \u001b[0mWARNING ⚠️ /content/shelves-5/train/images/train_611_jpg.rf.69eeea66b59ce0f38ca73c9d1c9cf883.jpg: ignoring corrupt image/label: non-normalized or out of bounds coordinates [     1.0104]\n",
            "\u001b[34m\u001b[1mtrain: \u001b[0mWARNING ⚠️ /content/shelves-5/train/images/train_611_jpg.rf.a278c7fe916770ee13d4fc4c5c0a771e.jpg: ignoring corrupt image/label: non-normalized or out of bounds coordinates [     1.0102]\n",
            "\u001b[34m\u001b[1mtrain: \u001b[0mWARNING ⚠️ /content/shelves-5/train/images/train_616_jpg.rf.a82a964d2cd05a3888756fc7938c3e76.jpg: ignoring corrupt image/label: non-normalized or out of bounds coordinates [     1.0027       1.003      1.0079      1.0144]\n",
            "\u001b[34m\u001b[1mtrain: \u001b[0mWARNING ⚠️ /content/shelves-5/train/images/train_616_jpg.rf.cb01ffefc70f12f363426e9f372622d6.jpg: ignoring corrupt image/label: non-normalized or out of bounds coordinates [     1.0071      1.0145]\n",
            "\u001b[34m\u001b[1mtrain: \u001b[0mWARNING ⚠️ /content/shelves-5/train/images/train_616_jpg.rf.d568d59701e1ffdb73d0421984428e4f.jpg: ignoring corrupt image/label: non-normalized or out of bounds coordinates [     1.0028      1.0032      1.0083      1.0149]\n",
            "\u001b[34m\u001b[1mtrain: \u001b[0mWARNING ⚠️ /content/shelves-5/train/images/train_620_jpg.rf.1e359090889a5fedc2d0d64a0e280f55.jpg: ignoring corrupt image/label: non-normalized or out of bounds coordinates [     1.0054      1.0082      1.0024      1.0018      1.0014      1.0019      1.0045]\n",
            "\u001b[34m\u001b[1mtrain: \u001b[0mWARNING ⚠️ /content/shelves-5/train/images/train_620_jpg.rf.2b7b9c1939af737c862babadbc1549e5.jpg: ignoring corrupt image/label: non-normalized or out of bounds coordinates [          1      1.0088      1.0039      1.0019      1.0015       1.002      1.0048]\n",
            "\u001b[34m\u001b[1mtrain: \u001b[0mWARNING ⚠️ /content/shelves-5/train/images/train_620_jpg.rf.6a64bc36d0f3669448d3870b2b90761b.jpg: ignoring corrupt image/label: non-normalized or out of bounds coordinates [     1.0019      1.0082       1.002      1.0018      1.0014      1.0019      1.0045]\n",
            "\u001b[34m\u001b[1mtrain: \u001b[0mWARNING ⚠️ /content/shelves-5/train/images/train_626_jpg.rf.1af8507479819da822ca18145514f026.jpg: ignoring corrupt image/label: non-normalized or out of bounds coordinates [          1      1.0107      1.0077       1.016       1.031      1.0396      1.0411]\n",
            "\u001b[34m\u001b[1mtrain: \u001b[0mWARNING ⚠️ /content/shelves-5/train/images/train_626_jpg.rf.83c2037af2893375d49d29582c63594f.jpg: ignoring corrupt image/label: non-normalized or out of bounds coordinates [     1.0156      1.0099      1.0071       1.012      1.0284      1.0362      1.0167]\n",
            "\u001b[34m\u001b[1mtrain: \u001b[0mWARNING ⚠️ /content/shelves-5/train/images/train_626_jpg.rf.acc5a7133ed20e995a9e931a92c686f3.jpg: ignoring corrupt image/label: non-normalized or out of bounds coordinates [     1.0167      1.0101      1.0072      1.0152       1.029       1.037      1.0276]\n",
            "\u001b[34m\u001b[1mtrain: \u001b[0mWARNING ⚠️ /content/shelves-5/train/images/train_628_jpg.rf.5805d8d6e48c7e5f974e4ea6b39da1c7.jpg: ignoring corrupt image/label: non-normalized or out of bounds coordinates [     1.0074       1.004      1.0017]\n",
            "\u001b[34m\u001b[1mtrain: \u001b[0mWARNING ⚠️ /content/shelves-5/train/images/train_628_jpg.rf.a5ae624c7c94afdb96d2cd3f492fda64.jpg: ignoring corrupt image/label: non-normalized or out of bounds coordinates [     1.0021      1.0002]\n",
            "\u001b[34m\u001b[1mtrain: \u001b[0mWARNING ⚠️ /content/shelves-5/train/images/train_628_jpg.rf.f6a044bef2c27e2a240b6324ee70dc38.jpg: ignoring corrupt image/label: non-normalized or out of bounds coordinates [     1.0057      1.0039      1.0017]\n",
            "\u001b[34m\u001b[1mtrain: \u001b[0mWARNING ⚠️ /content/shelves-5/train/images/train_635_jpg.rf.0d60c79efff5810453eaf5bcb0f0c7e2.jpg: ignoring corrupt image/label: non-normalized or out of bounds coordinates [     1.0268      1.1401]\n",
            "\u001b[34m\u001b[1mtrain: \u001b[0mWARNING ⚠️ /content/shelves-5/train/images/train_635_jpg.rf.6b3c46b93a749a029dc0d8f36c7f571d.jpg: ignoring corrupt image/label: non-normalized or out of bounds coordinates [     1.0307      1.1532]\n",
            "\u001b[34m\u001b[1mtrain: \u001b[0mWARNING ⚠️ /content/shelves-5/train/images/train_635_jpg.rf.b7146de1ce78186addb903fb42f9cc20.jpg: ignoring corrupt image/label: non-normalized or out of bounds coordinates [     1.0298      1.1483]\n",
            "\u001b[34m\u001b[1mtrain: \u001b[0mWARNING ⚠️ /content/shelves-5/train/images/train_638_jpg.rf.4e5214d6003463c488f6a179e2d2d303.jpg: ignoring corrupt image/label: non-normalized or out of bounds coordinates [     1.0018]\n",
            "\u001b[34m\u001b[1mtrain: \u001b[0mWARNING ⚠️ /content/shelves-5/train/images/train_638_jpg.rf.c16160c721fa13b382f86cc16a303374.jpg: ignoring corrupt image/label: non-normalized or out of bounds coordinates [     1.0018      1.0035]\n",
            "\u001b[34m\u001b[1mtrain: \u001b[0mWARNING ⚠️ /content/shelves-5/train/images/train_639_jpg.rf.62a200764a2f7a8ae2630057cb35a04d.jpg: ignoring corrupt image/label: non-normalized or out of bounds coordinates [     1.0107]\n",
            "\u001b[34m\u001b[1mtrain: \u001b[0mWARNING ⚠️ /content/shelves-5/train/images/train_639_jpg.rf.7bdff502637269e641f4fb9e9383f830.jpg: ignoring corrupt image/label: non-normalized or out of bounds coordinates [     1.0105]\n",
            "\u001b[34m\u001b[1mtrain: \u001b[0mWARNING ⚠️ /content/shelves-5/train/images/train_639_jpg.rf.f834ea546495ae680a219f8fa4242ec8.jpg: ignoring corrupt image/label: non-normalized or out of bounds coordinates [     1.0109]\n",
            "\u001b[34m\u001b[1mtrain: \u001b[0mWARNING ⚠️ /content/shelves-5/train/images/train_641_jpg.rf.1cedc16091565bd1275cc95107a9737f.jpg: ignoring corrupt image/label: non-normalized or out of bounds coordinates [     1.0071]\n",
            "\u001b[34m\u001b[1mtrain: \u001b[0mWARNING ⚠️ /content/shelves-5/train/images/train_641_jpg.rf.aef03432c27252da227df4530abc334c.jpg: ignoring corrupt image/label: non-normalized or out of bounds coordinates [     1.0054]\n",
            "\u001b[34m\u001b[1mtrain: \u001b[0mWARNING ⚠️ /content/shelves-5/train/images/train_641_jpg.rf.b0d7e89a6badca65fb91d0867a1fd217.jpg: ignoring corrupt image/label: non-normalized or out of bounds coordinates [     1.0054]\n",
            "\u001b[34m\u001b[1mtrain: \u001b[0mWARNING ⚠️ /content/shelves-5/train/images/train_642_jpg.rf.59f461f49e7b75f3781d446e2f1713d2.jpg: ignoring corrupt image/label: non-normalized or out of bounds coordinates [     1.0104      1.0276      1.0609       1.043]\n",
            "\u001b[34m\u001b[1mtrain: \u001b[0mWARNING ⚠️ /content/shelves-5/train/images/train_642_jpg.rf.bde8b7d414997a63c3954bcc751af0c4.jpg: ignoring corrupt image/label: non-normalized or out of bounds coordinates [     1.0101      1.0267      1.0588      1.0518]\n",
            "\u001b[34m\u001b[1mtrain: \u001b[0mWARNING ⚠️ /content/shelves-5/train/images/train_642_jpg.rf.d3b4adf5d54f01969079c8aeebfb464e.jpg: ignoring corrupt image/label: non-normalized or out of bounds coordinates [     1.0099      1.0262      1.0574      1.0435]\n",
            "\u001b[34m\u001b[1mtrain: \u001b[0mWARNING ⚠️ /content/shelves-5/train/images/train_643_jpg.rf.24326d907206e84ba36e8da7a9209c1e.jpg: ignoring corrupt image/label: non-normalized or out of bounds coordinates [          1      1.0685]\n",
            "\u001b[34m\u001b[1mtrain: \u001b[0mWARNING ⚠️ /content/shelves-5/train/images/train_643_jpg.rf.751876e276f78c01eba7abd7ceb1dac4.jpg: ignoring corrupt image/label: non-normalized or out of bounds coordinates [     1.0073      1.0449]\n",
            "\u001b[34m\u001b[1mtrain: \u001b[0mWARNING ⚠️ /content/shelves-5/train/images/train_643_jpg.rf.d29be487df83b1845bdfabaa290351b8.jpg: ignoring corrupt image/label: non-normalized or out of bounds coordinates [     1.0071      1.0512]\n",
            "\u001b[34m\u001b[1mtrain: \u001b[0mWARNING ⚠️ /content/shelves-5/train/images/train_644_jpg.rf.0531d75bb14746d46c123cdbf4cf6151.jpg: ignoring corrupt image/label: non-normalized or out of bounds coordinates [     1.0024]\n",
            "\u001b[34m\u001b[1mtrain: \u001b[0mWARNING ⚠️ /content/shelves-5/train/images/train_644_jpg.rf.4754559ecb4da75f235c54644dc1de91.jpg: ignoring corrupt image/label: non-normalized or out of bounds coordinates [     1.0022]\n",
            "\u001b[34m\u001b[1mtrain: \u001b[0mWARNING ⚠️ /content/shelves-5/train/images/train_644_jpg.rf.f919089090fe254f1be97845db99de8e.jpg: ignoring corrupt image/label: non-normalized or out of bounds coordinates [     1.0023]\n",
            "\u001b[34m\u001b[1mtrain: \u001b[0mWARNING ⚠️ /content/shelves-5/train/images/train_645_jpg.rf.d2ed7ccf1dab7e7f1ccfdf90310300bc.jpg: ignoring corrupt image/label: non-normalized or out of bounds coordinates [     1.0047      1.0021]\n",
            "\u001b[34m\u001b[1mtrain: \u001b[0mWARNING ⚠️ /content/shelves-5/train/images/train_647_jpg.rf.5ae0a25acab5ac0d28a8a3f4d277e9b3.jpg: ignoring corrupt image/label: non-normalized or out of bounds coordinates [     1.0143      1.0125      1.0112      1.0053      1.0026]\n",
            "\u001b[34m\u001b[1mtrain: \u001b[0mWARNING ⚠️ /content/shelves-5/train/images/train_647_jpg.rf.90a5775d0783b20ddd21ecad4fa1b602.jpg: ignoring corrupt image/label: non-normalized or out of bounds coordinates [     1.0144      1.0126      1.0113      1.0053      1.0026]\n",
            "\u001b[34m\u001b[1mtrain: \u001b[0mWARNING ⚠️ /content/shelves-5/train/images/train_647_jpg.rf.bdc3ee4ed3104e69a32688c7fda90b1c.jpg: ignoring corrupt image/label: non-normalized or out of bounds coordinates [     1.0131      1.0134      1.0119      1.0056      1.0028]\n",
            "\u001b[34m\u001b[1mtrain: \u001b[0mWARNING ⚠️ /content/shelves-5/train/images/train_64_jpg.rf.38cd8fcc9f963b4b7e294baaddf09821.jpg: ignoring corrupt image/label: non-normalized or out of bounds coordinates [     1.0051]\n",
            "\u001b[34m\u001b[1mtrain: \u001b[0mWARNING ⚠️ /content/shelves-5/train/images/train_64_jpg.rf.7c1175282a5a2feffd4d2e742678bbde.jpg: ignoring corrupt image/label: non-normalized or out of bounds coordinates [      1.005]\n",
            "\u001b[34m\u001b[1mtrain: \u001b[0mWARNING ⚠️ /content/shelves-5/train/images/train_64_jpg.rf.9c88bb2aa3698cd8fbc3178bd1311767.jpg: ignoring corrupt image/label: non-normalized or out of bounds coordinates [      1.005]\n",
            "\u001b[34m\u001b[1mtrain: \u001b[0mWARNING ⚠️ /content/shelves-5/train/images/train_660_jpg.rf.5df589e0361a7dfcaf33fb8550a09de6.jpg: ignoring corrupt image/label: non-normalized or out of bounds coordinates [          1]\n",
            "\u001b[34m\u001b[1mtrain: \u001b[0mWARNING ⚠️ /content/shelves-5/train/images/train_663_jpg.rf.09944c12d58b3b6c68506e2543c0a358.jpg: ignoring corrupt image/label: non-normalized or out of bounds coordinates [     1.0844      1.0462]\n",
            "\u001b[34m\u001b[1mtrain: \u001b[0mWARNING ⚠️ /content/shelves-5/train/images/train_663_jpg.rf.15c3012cc902b5b8d0a69e461b72d10a.jpg: ignoring corrupt image/label: non-normalized or out of bounds coordinates [     1.0018      1.0962      1.0549]\n",
            "\u001b[34m\u001b[1mtrain: \u001b[0mWARNING ⚠️ /content/shelves-5/train/images/train_663_jpg.rf.74528c5b8a25a98306cb8036f5c63a89.jpg: ignoring corrupt image/label: non-normalized or out of bounds coordinates [     1.0014      1.0874      1.0435]\n",
            "\u001b[34m\u001b[1mtrain: \u001b[0mWARNING ⚠️ /content/shelves-5/train/images/train_665_jpg.rf.505204d7085138b0b33133bfa745f4fa.jpg: ignoring corrupt image/label: non-normalized or out of bounds coordinates [     1.0389      1.0098]\n",
            "\u001b[34m\u001b[1mtrain: \u001b[0mWARNING ⚠️ /content/shelves-5/train/images/train_665_jpg.rf.8fc199581eca7a8ead0985fe36548d97.jpg: ignoring corrupt image/label: non-normalized or out of bounds coordinates [     1.0348      1.0095]\n",
            "\u001b[34m\u001b[1mtrain: \u001b[0mWARNING ⚠️ /content/shelves-5/train/images/train_665_jpg.rf.cf52d44a67fe55869a0de4d5739664ea.jpg: ignoring corrupt image/label: non-normalized or out of bounds coordinates [     1.0348      1.0098]\n",
            "\u001b[34m\u001b[1mtrain: \u001b[0mWARNING ⚠️ /content/shelves-5/train/images/train_667_jpg.rf.4534a5baede4a094918146369841af4c.jpg: ignoring corrupt image/label: non-normalized or out of bounds coordinates [     1.0204      1.0094      1.0011]\n",
            "\u001b[34m\u001b[1mtrain: \u001b[0mWARNING ⚠️ /content/shelves-5/train/images/train_667_jpg.rf.4acd068bbb811f6e1e01d1d2c28eba8c.jpg: ignoring corrupt image/label: non-normalized or out of bounds coordinates [     1.0212      1.0097      1.0012]\n",
            "\u001b[34m\u001b[1mtrain: \u001b[0mWARNING ⚠️ /content/shelves-5/train/images/train_667_jpg.rf.729e5eba3b439253505eadac5950f1b0.jpg: ignoring corrupt image/label: non-normalized or out of bounds coordinates [     1.0212      1.0097      1.0012]\n",
            "\u001b[34m\u001b[1mtrain: \u001b[0mWARNING ⚠️ /content/shelves-5/train/images/train_668_jpg.rf.300fa66cee7f04a7690cc3bf525fad50.jpg: ignoring corrupt image/label: non-normalized or out of bounds coordinates [     1.0023       1.002      1.0024      1.0056      1.0046      1.0067]\n",
            "\u001b[34m\u001b[1mtrain: \u001b[0mWARNING ⚠️ /content/shelves-5/train/images/train_668_jpg.rf.69839c04849311ee69b575eb96fa61ce.jpg: ignoring corrupt image/label: non-normalized or out of bounds coordinates [     1.0022      1.0019      1.0022      1.0052      1.0043      1.0063]\n",
            "\u001b[34m\u001b[1mtrain: \u001b[0mWARNING ⚠️ /content/shelves-5/train/images/train_668_jpg.rf.9c7eb3944ba9d898bab074addaa28342.jpg: ignoring corrupt image/label: non-normalized or out of bounds coordinates [     1.0021      1.0014      1.0013       1.005      1.0041       1.006]\n",
            "\u001b[34m\u001b[1mtrain: \u001b[0mWARNING ⚠️ /content/shelves-5/train/images/train_669_jpg.rf.7c77fcc60f9a69e86fc3653ea22d0900.jpg: ignoring corrupt image/label: non-normalized or out of bounds coordinates [     1.0066      1.0075      1.0055]\n",
            "\u001b[34m\u001b[1mtrain: \u001b[0mWARNING ⚠️ /content/shelves-5/train/images/train_669_jpg.rf.e3ae1e3a31660ecf9839fbaad714c522.jpg: ignoring corrupt image/label: non-normalized or out of bounds coordinates [     1.0067      1.0076      1.0056]\n",
            "\u001b[34m\u001b[1mtrain: \u001b[0mWARNING ⚠️ /content/shelves-5/train/images/train_669_jpg.rf.fadb4a71d31f50132b18a77dedbb0a80.jpg: ignoring corrupt image/label: non-normalized or out of bounds coordinates [     1.0068      1.0077      1.0057]\n",
            "\u001b[34m\u001b[1mtrain: \u001b[0mWARNING ⚠️ /content/shelves-5/train/images/train_670_jpg.rf.68ff5c67a51213c40e99b89e0c0e7971.jpg: ignoring corrupt image/label: non-normalized or out of bounds coordinates [      1.013      1.0074      1.0213      1.0411      1.0548      1.0391]\n",
            "\u001b[34m\u001b[1mtrain: \u001b[0mWARNING ⚠️ /content/shelves-5/train/images/train_670_jpg.rf.b254456fa4a497cde481e1916bd5fa91.jpg: ignoring corrupt image/label: non-normalized or out of bounds coordinates [     1.0153      1.0075      1.0216      1.0417      1.0557      1.0306]\n",
            "\u001b[34m\u001b[1mtrain: \u001b[0mWARNING ⚠️ /content/shelves-5/train/images/train_670_jpg.rf.c9c880acb0c87c57cbf89da49393731d.jpg: ignoring corrupt image/label: non-normalized or out of bounds coordinates [     1.0134      1.0074      1.0213      1.0412      1.0547      1.0455]\n",
            "\u001b[34m\u001b[1mtrain: \u001b[0mWARNING ⚠️ /content/shelves-5/train/images/train_674_jpg.rf.2b98cbd3ee45e40d402aa8469c600aaa.jpg: ignoring corrupt image/label: non-normalized or out of bounds coordinates [     1.0122      1.0068      1.0312       1.034      1.0417      1.0548]\n",
            "\u001b[34m\u001b[1mtrain: \u001b[0mWARNING ⚠️ /content/shelves-5/train/images/train_674_jpg.rf.d1c75ff34b67c73eab26f2a76b00bd5f.jpg: ignoring corrupt image/label: non-normalized or out of bounds coordinates [     1.0123      1.0216      1.0158      1.0407      1.0535]\n",
            "\u001b[34m\u001b[1mtrain: \u001b[0mWARNING ⚠️ /content/shelves-5/train/images/train_674_jpg.rf.d1e44a1ea61619a7d0706ce7a1a04695.jpg: ignoring corrupt image/label: non-normalized or out of bounds coordinates [     1.0105      1.0024      1.0305      1.0243      1.0434      1.0571]\n",
            "\u001b[34m\u001b[1mtrain: \u001b[0mWARNING ⚠️ /content/shelves-5/train/images/train_677_jpg.rf.448121a47cbd26b9a2850939d0c793ff.jpg: ignoring corrupt image/label: non-normalized or out of bounds coordinates [     1.0768]\n",
            "\u001b[34m\u001b[1mtrain: \u001b[0mWARNING ⚠️ /content/shelves-5/train/images/train_677_jpg.rf.b27492411449e27d748e6b82a973a7ee.jpg: ignoring corrupt image/label: non-normalized or out of bounds coordinates [      1.074]\n",
            "\u001b[34m\u001b[1mtrain: \u001b[0mWARNING ⚠️ /content/shelves-5/train/images/train_677_jpg.rf.c1bc598717ed98cb58e620e729a5b37c.jpg: ignoring corrupt image/label: non-normalized or out of bounds coordinates [     1.1205]\n",
            "\u001b[34m\u001b[1mtrain: \u001b[0mWARNING ⚠️ /content/shelves-5/train/images/train_681_jpg.rf.713a936a5e0854d53dcc606360328612.jpg: ignoring corrupt image/label: non-normalized or out of bounds coordinates [     1.0236]\n",
            "\u001b[34m\u001b[1mtrain: \u001b[0mWARNING ⚠️ /content/shelves-5/train/images/train_681_jpg.rf.a7fce65623539beccadbc5f0117a04d9.jpg: ignoring corrupt image/label: non-normalized or out of bounds coordinates [     1.0235]\n",
            "\u001b[34m\u001b[1mtrain: \u001b[0mWARNING ⚠️ /content/shelves-5/train/images/train_685_jpg.rf.d324793a10a715b90608230243eab1bb.jpg: ignoring corrupt image/label: non-normalized or out of bounds coordinates [     1.0002      1.0005]\n",
            "\u001b[34m\u001b[1mtrain: \u001b[0mWARNING ⚠️ /content/shelves-5/train/images/train_688_jpg.rf.13455423fa87e82e73260ad3f8b3c1f7.jpg: ignoring corrupt image/label: non-normalized or out of bounds coordinates [      1.003      1.0011      1.0043      1.0065]\n",
            "\u001b[34m\u001b[1mtrain: \u001b[0mWARNING ⚠️ /content/shelves-5/train/images/train_688_jpg.rf.550873719cd9dc6c5cfe412430a210bc.jpg: ignoring corrupt image/label: non-normalized or out of bounds coordinates [     1.0054      1.0011      1.0044      1.0066]\n",
            "\u001b[34m\u001b[1mtrain: \u001b[0mWARNING ⚠️ /content/shelves-5/train/images/train_688_jpg.rf.f684871f6e639f279cadc0c539c0c20c.jpg: ignoring corrupt image/label: non-normalized or out of bounds coordinates [     1.0052      1.0012      1.0046       1.007]\n",
            "\u001b[34m\u001b[1mtrain: \u001b[0mWARNING ⚠️ /content/shelves-5/train/images/train_689_jpg.rf.150f5768583f6ec23c848f6cc8649059.jpg: ignoring corrupt image/label: non-normalized or out of bounds coordinates [     1.0155      1.0085      1.0541]\n",
            "\u001b[34m\u001b[1mtrain: \u001b[0mWARNING ⚠️ /content/shelves-5/train/images/train_689_jpg.rf.1f5eca38c7a53e939c4a870df964e0a6.jpg: ignoring corrupt image/label: non-normalized or out of bounds coordinates [     1.0163      1.0077      1.0354]\n",
            "\u001b[34m\u001b[1mtrain: \u001b[0mWARNING ⚠️ /content/shelves-5/train/images/train_689_jpg.rf.6b7491aeebc6b4f2354552d242c430a6.jpg: ignoring corrupt image/label: non-normalized or out of bounds coordinates [     1.0163      1.0084      1.0491]\n",
            "\u001b[34m\u001b[1mtrain: \u001b[0mWARNING ⚠️ /content/shelves-5/train/images/train_68_jpg.rf.165d72a28c57b6817f1cb973ca4298af.jpg: ignoring corrupt image/label: non-normalized or out of bounds coordinates [     1.0708]\n",
            "\u001b[34m\u001b[1mtrain: \u001b[0mWARNING ⚠️ /content/shelves-5/train/images/train_68_jpg.rf.6148c81e300ef5ebe8fe761f5049e20e.jpg: ignoring corrupt image/label: non-normalized or out of bounds coordinates [     1.1243]\n",
            "\u001b[34m\u001b[1mtrain: \u001b[0mWARNING ⚠️ /content/shelves-5/train/images/train_68_jpg.rf.b2c0af7fffd23408e347e60068f0029c.jpg: ignoring corrupt image/label: non-normalized or out of bounds coordinates [     1.1186]\n",
            "\u001b[34m\u001b[1mtrain: \u001b[0mWARNING ⚠️ /content/shelves-5/train/images/train_690_jpg.rf.0c05b0b1fda394ee927a977e31eb4ef4.jpg: ignoring corrupt image/label: non-normalized or out of bounds coordinates [     1.0131      1.0111      1.0085      1.0036      1.0017]\n",
            "\u001b[34m\u001b[1mtrain: \u001b[0mWARNING ⚠️ /content/shelves-5/train/images/train_690_jpg.rf.4ae98f796c29eb76986765fb67314c1f.jpg: ignoring corrupt image/label: non-normalized or out of bounds coordinates [          1      1.0136       1.011      1.0084      1.0036      1.0017]\n",
            "\u001b[34m\u001b[1mtrain: \u001b[0mWARNING ⚠️ /content/shelves-5/train/images/train_690_jpg.rf.4b579109dcc5e505edda572465af1a72.jpg: ignoring corrupt image/label: non-normalized or out of bounds coordinates [          1      1.0133      1.0108      1.0082      1.0035      1.0017]\n",
            "\u001b[34m\u001b[1mtrain: \u001b[0mWARNING ⚠️ /content/shelves-5/train/images/train_691_jpg.rf.4e92415711cd1d4f927a8391b37760b9.jpg: ignoring corrupt image/label: non-normalized or out of bounds coordinates [     1.0146      1.0404]\n",
            "\u001b[34m\u001b[1mtrain: \u001b[0mWARNING ⚠️ /content/shelves-5/train/images/train_691_jpg.rf.a2898e6f2fecfa0a11b30537c9400336.jpg: ignoring corrupt image/label: non-normalized or out of bounds coordinates [     1.0121       1.042]\n",
            "\u001b[34m\u001b[1mtrain: \u001b[0mWARNING ⚠️ /content/shelves-5/train/images/train_691_jpg.rf.ab7c16fbd6ba75d8a39918bf7ddaef1f.jpg: ignoring corrupt image/label: non-normalized or out of bounds coordinates [     1.0151      1.0438]\n",
            "\u001b[34m\u001b[1mtrain: \u001b[0mWARNING ⚠️ /content/shelves-5/train/images/train_694_jpg.rf.dd3227cc765664aeac4460e596b03aaf.jpg: ignoring corrupt image/label: non-normalized or out of bounds coordinates [     1.0008      1.0022      1.0026      1.0022      1.0018]\n",
            "\u001b[34m\u001b[1mtrain: \u001b[0mWARNING ⚠️ /content/shelves-5/train/images/train_695_jpg.rf.787b85407400ff54af7a89cb0e289523.jpg: ignoring corrupt image/label: non-normalized or out of bounds coordinates [     1.0168       1.062]\n",
            "\u001b[34m\u001b[1mtrain: \u001b[0mWARNING ⚠️ /content/shelves-5/train/images/train_695_jpg.rf.788f60757e24d011cd3b239eff218dfd.jpg: ignoring corrupt image/label: non-normalized or out of bounds coordinates [     1.0175      1.0642]\n",
            "\u001b[34m\u001b[1mtrain: \u001b[0mWARNING ⚠️ /content/shelves-5/train/images/train_695_jpg.rf.98aa47c3ddf3c879da914fb925c59b94.jpg: ignoring corrupt image/label: non-normalized or out of bounds coordinates [     1.0167      1.0633]\n",
            "\u001b[34m\u001b[1mtrain: \u001b[0mWARNING ⚠️ /content/shelves-5/train/images/train_696_jpg.rf.1660981005e8943f292852db70f89766.jpg: ignoring corrupt image/label: non-normalized or out of bounds coordinates [      1.003]\n",
            "\u001b[34m\u001b[1mtrain: \u001b[0mWARNING ⚠️ /content/shelves-5/train/images/train_696_jpg.rf.3f353a46ca1a4321447806645cfd7be7.jpg: ignoring corrupt image/label: non-normalized or out of bounds coordinates [      1.003]\n",
            "\u001b[34m\u001b[1mtrain: \u001b[0mWARNING ⚠️ /content/shelves-5/train/images/train_696_jpg.rf.3f601cf45a3bd8438d0ac032fc4b84e6.jpg: ignoring corrupt image/label: non-normalized or out of bounds coordinates [     1.0026]\n",
            "\u001b[34m\u001b[1mtrain: \u001b[0mWARNING ⚠️ /content/shelves-5/train/images/train_697_jpg.rf.1aef4551f62eec22ee5bb3679985ee28.jpg: ignoring corrupt image/label: non-normalized or out of bounds coordinates [     1.0056       1.004      1.0039      1.0027      1.0032      1.0035      1.0031      1.0035      1.0034      1.0038      1.0038      1.0039           1]\n",
            "\u001b[34m\u001b[1mtrain: \u001b[0mWARNING ⚠️ /content/shelves-5/train/images/train_697_jpg.rf.591170551ff1d7ff1bb11f0eeaaeac19.jpg: ignoring corrupt image/label: non-normalized or out of bounds coordinates [     1.0034      1.0038      1.0037      1.0025       1.003      1.0033       1.003      1.0033      1.0019      1.0036      1.0039      1.0037       1.005]\n",
            "\u001b[34m\u001b[1mtrain: \u001b[0mWARNING ⚠️ /content/shelves-5/train/images/train_697_jpg.rf.a1605cb28c17470de668fae55f56473f.jpg: ignoring corrupt image/label: non-normalized or out of bounds coordinates [      1.005       1.004      1.0039      1.0027      1.0032      1.0035      1.0031      1.0035      1.0034      1.0038      1.0039      1.0039      1.0049]\n",
            "\u001b[34m\u001b[1mtrain: \u001b[0mWARNING ⚠️ /content/shelves-5/train/images/train_698_jpg.rf.01a5677cb7cd2270d5e4ab7058d7410f.jpg: ignoring corrupt image/label: non-normalized or out of bounds coordinates [      1.002      1.0012      1.0024       1.006      1.0052      1.0105]\n",
            "\u001b[34m\u001b[1mtrain: \u001b[0mWARNING ⚠️ /content/shelves-5/train/images/train_698_jpg.rf.32cbe655cbd83275a3d60113ddf8b61a.jpg: ignoring corrupt image/label: non-normalized or out of bounds coordinates [     1.0021      1.0013      1.0026      1.0063      1.0055       1.011]\n",
            "\u001b[34m\u001b[1mtrain: \u001b[0mWARNING ⚠️ /content/shelves-5/train/images/train_698_jpg.rf.e2a03a1f2f397dd7ae0098d2e9db3bfc.jpg: ignoring corrupt image/label: non-normalized or out of bounds coordinates [      1.002      1.0012      1.0024      1.0059      1.0051      1.0103]\n",
            "\u001b[34m\u001b[1mtrain: \u001b[0mWARNING ⚠️ /content/shelves-5/train/images/train_699_jpg.rf.1af9042902d068874e29f31ecd8ffe1e.jpg: ignoring corrupt image/label: non-normalized or out of bounds coordinates [          1]\n",
            "\u001b[34m\u001b[1mtrain: \u001b[0mWARNING ⚠️ /content/shelves-5/train/images/train_699_jpg.rf.42851f2cf22000d09e7243ed5d08e1c4.jpg: ignoring corrupt image/label: non-normalized or out of bounds coordinates [          1]\n",
            "\u001b[34m\u001b[1mtrain: \u001b[0mWARNING ⚠️ /content/shelves-5/train/images/train_69_jpg.rf.615f19e5961c44537e0561fec92c2c56.jpg: ignoring corrupt image/label: non-normalized or out of bounds coordinates [     1.0223      1.0009      1.0285]\n",
            "\u001b[34m\u001b[1mtrain: \u001b[0mWARNING ⚠️ /content/shelves-5/train/images/train_69_jpg.rf.895812a37971fb20cad5bc45766aaf74.jpg: ignoring corrupt image/label: non-normalized or out of bounds coordinates [     1.0168      1.0117]\n",
            "\u001b[34m\u001b[1mtrain: \u001b[0mWARNING ⚠️ /content/shelves-5/train/images/train_69_jpg.rf.c53e4864ca06a9664bb6a395f6c08980.jpg: ignoring corrupt image/label: non-normalized or out of bounds coordinates [     1.0194      1.0228      1.0511]\n",
            "\u001b[34m\u001b[1mtrain: \u001b[0mWARNING ⚠️ /content/shelves-5/train/images/train_7006_jpg.rf.b8908edde6620d6a5f1be630dea5b489.jpg: ignoring corrupt image/label: non-normalized or out of bounds coordinates [     1.0236]\n",
            "\u001b[34m\u001b[1mtrain: \u001b[0mWARNING ⚠️ /content/shelves-5/train/images/train_7006_jpg.rf.b9890de08f4c148caaabc0da46b8b2d2.jpg: ignoring corrupt image/label: non-normalized or out of bounds coordinates [     1.0256]\n",
            "\u001b[34m\u001b[1mtrain: \u001b[0mWARNING ⚠️ /content/shelves-5/train/images/train_7006_jpg.rf.dc9c0b4036d78490b46f95665d956182.jpg: ignoring corrupt image/label: non-normalized or out of bounds coordinates [     1.0211]\n",
            "\u001b[34m\u001b[1mtrain: \u001b[0mWARNING ⚠️ /content/shelves-5/train/images/train_7007_jpg.rf.179065acdca8451315f832c3e5a3cad4.jpg: ignoring corrupt image/label: non-normalized or out of bounds coordinates [     1.0256      1.0732      1.0899]\n",
            "\u001b[34m\u001b[1mtrain: \u001b[0mWARNING ⚠️ /content/shelves-5/train/images/train_7007_jpg.rf.83758ddac44f8f9db426f687d6afc6ad.jpg: ignoring corrupt image/label: non-normalized or out of bounds coordinates [     1.0204      1.0711      1.0872]\n",
            "\u001b[34m\u001b[1mtrain: \u001b[0mWARNING ⚠️ /content/shelves-5/train/images/train_7007_jpg.rf.b8df23739bd936db7f166e35e95785f3.jpg: ignoring corrupt image/label: non-normalized or out of bounds coordinates [     1.0173      1.0762      1.0931]\n",
            "\u001b[34m\u001b[1mtrain: \u001b[0mWARNING ⚠️ /content/shelves-5/train/images/train_7015_jpg.rf.22e02f2d6784df933147230959019108.jpg: ignoring corrupt image/label: non-normalized or out of bounds coordinates [     1.0024]\n",
            "\u001b[34m\u001b[1mtrain: \u001b[0mWARNING ⚠️ /content/shelves-5/train/images/train_7015_jpg.rf.2e37cbe1338a7144ad042dd8f0f860bf.jpg: ignoring corrupt image/label: non-normalized or out of bounds coordinates [     1.0026]\n",
            "\u001b[34m\u001b[1mtrain: \u001b[0mWARNING ⚠️ /content/shelves-5/train/images/train_7015_jpg.rf.bbb627d1f4da30a139e71a9a555209fa.jpg: ignoring corrupt image/label: non-normalized or out of bounds coordinates [     1.0026]\n",
            "\u001b[34m\u001b[1mtrain: \u001b[0mWARNING ⚠️ /content/shelves-5/train/images/train_7016_jpg.rf.20b5bba624009c3330d9a7bbd52fccb3.jpg: ignoring corrupt image/label: non-normalized or out of bounds coordinates [     1.0502      1.0209      1.0355      1.0146]\n",
            "\u001b[34m\u001b[1mtrain: \u001b[0mWARNING ⚠️ /content/shelves-5/train/images/train_7016_jpg.rf.b86141ee7e02b5dfc8f15aebf9d8b8c9.jpg: ignoring corrupt image/label: non-normalized or out of bounds coordinates [     1.0219      1.0104      1.0333      1.0137]\n",
            "\u001b[34m\u001b[1mtrain: \u001b[0mWARNING ⚠️ /content/shelves-5/train/images/train_7016_jpg.rf.cd62c1502fbc8273c17e3dd5531371a3.jpg: ignoring corrupt image/label: non-normalized or out of bounds coordinates [     1.0387      1.0177      1.0344      1.0141]\n",
            "\u001b[34m\u001b[1mtrain: \u001b[0mWARNING ⚠️ /content/shelves-5/train/images/train_7024_jpg.rf.9f9112362cbd93925cb562b0ce0ad7d9.jpg: ignoring corrupt image/label: non-normalized or out of bounds coordinates [     1.0199      1.0334]\n",
            "\u001b[34m\u001b[1mtrain: \u001b[0mWARNING ⚠️ /content/shelves-5/train/images/train_7024_jpg.rf.c5de886eda0eb9aff6fbb98ee9d9a316.jpg: ignoring corrupt image/label: non-normalized or out of bounds coordinates [     1.0187      1.0355]\n",
            "\u001b[34m\u001b[1mtrain: \u001b[0mWARNING ⚠️ /content/shelves-5/train/images/train_7024_jpg.rf.e7d97a4ce81e482d4884717ae66f1dfc.jpg: ignoring corrupt image/label: non-normalized or out of bounds coordinates [     1.0202      1.0354]\n",
            "\u001b[34m\u001b[1mtrain: \u001b[0mWARNING ⚠️ /content/shelves-5/train/images/train_7027_jpg.rf.0b2a35606327a68908fea56822aadcdf.jpg: ignoring corrupt image/label: non-normalized or out of bounds coordinates [     1.0024      1.0036      1.0073      1.0116]\n",
            "\u001b[34m\u001b[1mtrain: \u001b[0mWARNING ⚠️ /content/shelves-5/train/images/train_7027_jpg.rf.673bf1dacd0b69cd461948b91d0c52f8.jpg: ignoring corrupt image/label: non-normalized or out of bounds coordinates [     1.0024      1.0035      1.0071      1.0112]\n",
            "\u001b[34m\u001b[1mtrain: \u001b[0mWARNING ⚠️ /content/shelves-5/train/images/train_7027_jpg.rf.84c1fb6def1ae914a6ae6c0173795345.jpg: ignoring corrupt image/label: non-normalized or out of bounds coordinates [     1.0022      1.0033      1.0068      1.0107]\n",
            "\u001b[34m\u001b[1mtrain: \u001b[0mWARNING ⚠️ /content/shelves-5/train/images/train_7031_jpg.rf.10fc36eb54d91c3d141d782d6011d043.jpg: ignoring corrupt image/label: non-normalized or out of bounds coordinates [      1.017      1.0315]\n",
            "\u001b[34m\u001b[1mtrain: \u001b[0mWARNING ⚠️ /content/shelves-5/train/images/train_7031_jpg.rf.1d23a2f9d7cc7ca43d478eec6d216b0d.jpg: ignoring corrupt image/label: non-normalized or out of bounds coordinates [     1.0179      1.0311]\n",
            "\u001b[34m\u001b[1mtrain: \u001b[0mWARNING ⚠️ /content/shelves-5/train/images/train_7031_jpg.rf.a7014bad558d574037caa006e37f128c.jpg: ignoring corrupt image/label: non-normalized or out of bounds coordinates [     1.0175      1.0313]\n",
            "\u001b[34m\u001b[1mtrain: \u001b[0mWARNING ⚠️ /content/shelves-5/train/images/train_7033_jpg.rf.c16d5f6eb347c95167b72b7580e76ac9.jpg: ignoring corrupt image/label: non-normalized or out of bounds coordinates [     1.0085      1.0121      1.0174       1.021      1.0347]\n",
            "\u001b[34m\u001b[1mtrain: \u001b[0mWARNING ⚠️ /content/shelves-5/train/images/train_7033_jpg.rf.d96394529492474f2219fd5c8a121018.jpg: ignoring corrupt image/label: non-normalized or out of bounds coordinates [     1.0078      1.0007]\n",
            "\u001b[34m\u001b[1mtrain: \u001b[0mWARNING ⚠️ /content/shelves-5/train/images/train_7033_jpg.rf.f7eee09feadb47a7885a4d842ef42eb6.jpg: ignoring corrupt image/label: non-normalized or out of bounds coordinates [     1.0079      1.0112       1.007      1.0115]\n",
            "\u001b[34m\u001b[1mtrain: \u001b[0mWARNING ⚠️ /content/shelves-5/train/images/train_7055_jpg.rf.104a13ee07078e999d8c96f6ee153b0b.jpg: ignoring corrupt image/label: non-normalized or out of bounds coordinates [     1.0053      1.0032      1.0057      1.0101]\n",
            "\u001b[34m\u001b[1mtrain: \u001b[0mWARNING ⚠️ /content/shelves-5/train/images/train_7055_jpg.rf.322f12be000fd318cbf0a0d057e9b923.jpg: ignoring corrupt image/label: non-normalized or out of bounds coordinates [      1.005       1.003      1.0053      1.0095]\n",
            "\u001b[34m\u001b[1mtrain: \u001b[0mWARNING ⚠️ /content/shelves-5/train/images/train_7055_jpg.rf.ad62fffff4ec6330c7efd904b45b5b38.jpg: ignoring corrupt image/label: non-normalized or out of bounds coordinates [     1.0052      1.0032      1.0056        1.01]\n",
            "\u001b[34m\u001b[1mtrain: \u001b[0mWARNING ⚠️ /content/shelves-5/train/images/train_7056_jpg.rf.21536d373ae7ea32c4e8cab86944ea75.jpg: ignoring corrupt image/label: non-normalized or out of bounds coordinates [     1.0032      1.0476]\n",
            "\u001b[34m\u001b[1mtrain: \u001b[0mWARNING ⚠️ /content/shelves-5/train/images/train_7056_jpg.rf.245390593a698f3f652c31719852f0dd.jpg: ignoring corrupt image/label: non-normalized or out of bounds coordinates [     1.0046      1.0034      1.0216      1.0779]\n",
            "\u001b[34m\u001b[1mtrain: \u001b[0mWARNING ⚠️ /content/shelves-5/train/images/train_7056_jpg.rf.e05d4d17b0ac2e5d67241d2f32e37ec0.jpg: ignoring corrupt image/label: non-normalized or out of bounds coordinates [     1.0195]\n",
            "\u001b[34m\u001b[1mtrain: \u001b[0mWARNING ⚠️ /content/shelves-5/train/images/train_7058_jpg.rf.713e0eb3480650e8475e801612a43aff.jpg: ignoring corrupt image/label: non-normalized or out of bounds coordinates [     1.0159      1.1047      1.0999]\n",
            "\u001b[34m\u001b[1mtrain: \u001b[0mWARNING ⚠️ /content/shelves-5/train/images/train_7058_jpg.rf.ad0d1d89c12e462aad3679f41322f925.jpg: ignoring corrupt image/label: non-normalized or out of bounds coordinates [     1.0163      1.1079      1.1015]\n",
            "\u001b[34m\u001b[1mtrain: \u001b[0mWARNING ⚠️ /content/shelves-5/train/images/train_7058_jpg.rf.dad7483f017f18480d4c714524804779.jpg: ignoring corrupt image/label: non-normalized or out of bounds coordinates [     1.0159      1.1046      1.0956]\n",
            "\u001b[34m\u001b[1mtrain: \u001b[0mWARNING ⚠️ /content/shelves-5/train/images/train_7072_jpg.rf.4969e7b3883807baa9c7c4edcbbc1988.jpg: ignoring corrupt image/label: non-normalized or out of bounds coordinates [     1.0654]\n",
            "\u001b[34m\u001b[1mtrain: \u001b[0mWARNING ⚠️ /content/shelves-5/train/images/train_7072_jpg.rf.8e2c0d86f952dea79c75dc04d0b3ec19.jpg: ignoring corrupt image/label: non-normalized or out of bounds coordinates [      1.069]\n",
            "\u001b[34m\u001b[1mtrain: \u001b[0mWARNING ⚠️ /content/shelves-5/train/images/train_7072_jpg.rf.ac913ea543746009de32904cff0248b1.jpg: ignoring corrupt image/label: non-normalized or out of bounds coordinates [     1.0666]\n",
            "\u001b[34m\u001b[1mtrain: \u001b[0mWARNING ⚠️ /content/shelves-5/train/images/train_7081_jpg.rf.02ab7735279750274575daa898589014.jpg: ignoring corrupt image/label: non-normalized or out of bounds coordinates [     1.0007      1.0027]\n",
            "\u001b[34m\u001b[1mtrain: \u001b[0mWARNING ⚠️ /content/shelves-5/train/images/train_7081_jpg.rf.0cc087a5fdc307036be596c31b8b7826.jpg: ignoring corrupt image/label: non-normalized or out of bounds coordinates [     1.0007      1.0026]\n",
            "\u001b[34m\u001b[1mtrain: \u001b[0mWARNING ⚠️ /content/shelves-5/train/images/train_7081_jpg.rf.c19a67f76244ed2dcd5e023d3b76e4f1.jpg: ignoring corrupt image/label: non-normalized or out of bounds coordinates [     1.0006      1.0008      1.0025]\n",
            "\u001b[34m\u001b[1mtrain: \u001b[0mWARNING ⚠️ /content/shelves-5/train/images/train_70_jpg.rf.2983941eba8baf3fb66a7295d0dcdb6c.jpg: ignoring corrupt image/label: non-normalized or out of bounds coordinates [     1.0159]\n",
            "\u001b[34m\u001b[1mtrain: \u001b[0mWARNING ⚠️ /content/shelves-5/train/images/train_70_jpg.rf.6101ec49bc9faf7701ccae168b1ec879.jpg: ignoring corrupt image/label: non-normalized or out of bounds coordinates [     1.0256      1.0009]\n",
            "\u001b[34m\u001b[1mtrain: \u001b[0mWARNING ⚠️ /content/shelves-5/train/images/train_70_jpg.rf.6b8aa43d8694ea8ad80e2c2951087443.jpg: ignoring corrupt image/label: non-normalized or out of bounds coordinates [      1.028      1.0139]\n",
            "\u001b[34m\u001b[1mtrain: \u001b[0mWARNING ⚠️ /content/shelves-5/train/images/train_710_jpg.rf.344583eace5fbff9e3fc0f1102edfdde.jpg: ignoring corrupt image/label: non-normalized or out of bounds coordinates [     1.0267]\n",
            "\u001b[34m\u001b[1mtrain: \u001b[0mWARNING ⚠️ /content/shelves-5/train/images/train_710_jpg.rf.7bd4eae423e6d8bc47b7461d7f7f41ba.jpg: ignoring corrupt image/label: non-normalized or out of bounds coordinates [     1.0267]\n",
            "\u001b[34m\u001b[1mtrain: \u001b[0mWARNING ⚠️ /content/shelves-5/train/images/train_710_jpg.rf.c4eb2db0eded9451b1ff071813a16613.jpg: ignoring corrupt image/label: non-normalized or out of bounds coordinates [     1.0287]\n",
            "\u001b[34m\u001b[1mtrain: \u001b[0mWARNING ⚠️ /content/shelves-5/train/images/train_712_jpg.rf.144d04ab1139ee58ffffb7789753eb2e.jpg: ignoring corrupt image/label: non-normalized or out of bounds coordinates [     1.0087]\n",
            "\u001b[34m\u001b[1mtrain: \u001b[0mWARNING ⚠️ /content/shelves-5/train/images/train_712_jpg.rf.1e98b690c9924f763adc860743440a97.jpg: ignoring corrupt image/label: non-normalized or out of bounds coordinates [     1.0105]\n",
            "\u001b[34m\u001b[1mtrain: \u001b[0mWARNING ⚠️ /content/shelves-5/train/images/train_712_jpg.rf.637f8032b8cb3e698dd678b5f6d6aede.jpg: ignoring corrupt image/label: non-normalized or out of bounds coordinates [     1.0083]\n",
            "\u001b[34m\u001b[1mtrain: \u001b[0mWARNING ⚠️ /content/shelves-5/train/images/train_714_jpg.rf.1c9b15869bfe7b61eab807c96716d87e.jpg: ignoring corrupt image/label: non-normalized or out of bounds coordinates [     1.0281      1.1033]\n",
            "\u001b[34m\u001b[1mtrain: \u001b[0mWARNING ⚠️ /content/shelves-5/train/images/train_714_jpg.rf.8a003d601de31d566250c98abdbeb1d3.jpg: ignoring corrupt image/label: non-normalized or out of bounds coordinates [     1.0278      1.1015]\n",
            "\u001b[34m\u001b[1mtrain: \u001b[0mWARNING ⚠️ /content/shelves-5/train/images/train_714_jpg.rf.a455da3b2448de0152d3ee665c57a7bd.jpg: ignoring corrupt image/label: non-normalized or out of bounds coordinates [     1.0267      1.0997]\n",
            "\u001b[34m\u001b[1mtrain: \u001b[0mWARNING ⚠️ /content/shelves-5/train/images/train_715_jpg.rf.11dc2b6e6c13baf2055c93e8e879ba05.jpg: ignoring corrupt image/label: non-normalized or out of bounds coordinates [     1.0078      1.0112      1.0024      1.0051]\n",
            "\u001b[34m\u001b[1mtrain: \u001b[0mWARNING ⚠️ /content/shelves-5/train/images/train_715_jpg.rf.5172364ead2e1ebb1004546d2b644e3e.jpg: ignoring corrupt image/label: non-normalized or out of bounds coordinates [     1.0078      1.0088      1.0024       1.005]\n",
            "\u001b[34m\u001b[1mtrain: \u001b[0mWARNING ⚠️ /content/shelves-5/train/images/train_715_jpg.rf.e369a0fc6bf02b21ad01a1396627f8db.jpg: ignoring corrupt image/label: non-normalized or out of bounds coordinates [     1.0083      1.0112      1.0026      1.0056]\n",
            "\u001b[34m\u001b[1mtrain: \u001b[0mWARNING ⚠️ /content/shelves-5/train/images/train_717_jpg.rf.4e108d6f7328be1596a77f5a108f5916.jpg: ignoring corrupt image/label: non-normalized or out of bounds coordinates [     1.0054      1.0031      1.0047]\n",
            "\u001b[34m\u001b[1mtrain: \u001b[0mWARNING ⚠️ /content/shelves-5/train/images/train_717_jpg.rf.8b98d0a3ce05216dbe8f2bf71f1ed786.jpg: ignoring corrupt image/label: non-normalized or out of bounds coordinates [     1.0058      1.0034       1.005]\n",
            "\u001b[34m\u001b[1mtrain: \u001b[0mWARNING ⚠️ /content/shelves-5/train/images/train_717_jpg.rf.b47c212d0729f335f08ad7df5afd0456.jpg: ignoring corrupt image/label: non-normalized or out of bounds coordinates [     1.0054      1.0031      1.0047]\n",
            "\u001b[34m\u001b[1mtrain: \u001b[0mWARNING ⚠️ /content/shelves-5/train/images/train_724_jpg.rf.c066556e423e2df4047eed398dfeb0fb.jpg: ignoring corrupt image/label: non-normalized or out of bounds coordinates [      1.053]\n",
            "\u001b[34m\u001b[1mtrain: \u001b[0mWARNING ⚠️ /content/shelves-5/train/images/train_724_jpg.rf.d1cfb7cd4f9ee1a9e914bd6d382745d0.jpg: ignoring corrupt image/label: non-normalized or out of bounds coordinates [      1.027]\n",
            "\u001b[34m\u001b[1mtrain: \u001b[0mWARNING ⚠️ /content/shelves-5/train/images/train_727_jpg.rf.5b3c61cd6275def4767b6efc2d90b4b6.jpg: ignoring corrupt image/label: non-normalized or out of bounds coordinates [     1.0022      1.0086      1.0051]\n",
            "\u001b[34m\u001b[1mtrain: \u001b[0mWARNING ⚠️ /content/shelves-5/train/images/train_727_jpg.rf.aabe872f93df795b196578fbc6c48286.jpg: ignoring corrupt image/label: non-normalized or out of bounds coordinates [     1.0022      1.0086      1.0053]\n",
            "\u001b[34m\u001b[1mtrain: \u001b[0mWARNING ⚠️ /content/shelves-5/train/images/train_728_jpg.rf.2996b51ac1c45ebdfdfa511700bca3fb.jpg: ignoring corrupt image/label: non-normalized or out of bounds coordinates [     1.0013      1.0056      1.0032]\n",
            "\u001b[34m\u001b[1mtrain: \u001b[0mWARNING ⚠️ /content/shelves-5/train/images/train_728_jpg.rf.2ac70acf83572c375f0d6a43e08d5031.jpg: ignoring corrupt image/label: non-normalized or out of bounds coordinates [      1.002      1.0014      1.0034]\n",
            "\u001b[34m\u001b[1mtrain: \u001b[0mWARNING ⚠️ /content/shelves-5/train/images/train_728_jpg.rf.db035bcc16d6fb641d07bc7c1f19b5eb.jpg: ignoring corrupt image/label: non-normalized or out of bounds coordinates [     1.0013      1.0058      1.0033]\n",
            "\u001b[34m\u001b[1mtrain: \u001b[0mWARNING ⚠️ /content/shelves-5/train/images/train_730_jpg.rf.379ee5d3873626bd5f4ab247e03dd157.jpg: ignoring corrupt image/label: non-normalized or out of bounds coordinates [     1.0031]\n",
            "\u001b[34m\u001b[1mtrain: \u001b[0mWARNING ⚠️ /content/shelves-5/train/images/train_730_jpg.rf.490c86f2bada33033aed1c637074e2e4.jpg: ignoring corrupt image/label: non-normalized or out of bounds coordinates [     1.0031]\n",
            "\u001b[34m\u001b[1mtrain: \u001b[0mWARNING ⚠️ /content/shelves-5/train/images/train_730_jpg.rf.68cd3a7b140d4df88d64901a19a9a5ff.jpg: ignoring corrupt image/label: non-normalized or out of bounds coordinates [      1.003]\n",
            "\u001b[34m\u001b[1mtrain: \u001b[0mWARNING ⚠️ /content/shelves-5/train/images/train_734_jpg.rf.304ec67f42f3fdbadc1f3f0d03bb253c.jpg: ignoring corrupt image/label: non-normalized or out of bounds coordinates [     1.0037      1.0013]\n",
            "\u001b[34m\u001b[1mtrain: \u001b[0mWARNING ⚠️ /content/shelves-5/train/images/train_734_jpg.rf.3080f175b6209ab85ecb3f1a725b6d8a.jpg: ignoring corrupt image/label: non-normalized or out of bounds coordinates [     1.0048      1.0006      1.0024]\n",
            "\u001b[34m\u001b[1mtrain: \u001b[0mWARNING ⚠️ /content/shelves-5/train/images/train_735_jpg.rf.5d943daf111eeebef59806cccab6caae.jpg: ignoring corrupt image/label: non-normalized or out of bounds coordinates [     1.0014]\n",
            "\u001b[34m\u001b[1mtrain: \u001b[0mWARNING ⚠️ /content/shelves-5/train/images/train_735_jpg.rf.a9f6fd118fbd5a7f51362add2cb418ce.jpg: ignoring corrupt image/label: non-normalized or out of bounds coordinates [     1.0014]\n",
            "\u001b[34m\u001b[1mtrain: \u001b[0mWARNING ⚠️ /content/shelves-5/train/images/train_735_jpg.rf.ca712747db14279cb8e299fceae7a286.jpg: ignoring corrupt image/label: non-normalized or out of bounds coordinates [     1.0014]\n",
            "\u001b[34m\u001b[1mtrain: \u001b[0mWARNING ⚠️ /content/shelves-5/train/images/train_737_jpg.rf.148a0bc44ed4877845b75ced98de469f.jpg: ignoring corrupt image/label: non-normalized or out of bounds coordinates [     1.0106      1.0276      1.0482]\n",
            "\u001b[34m\u001b[1mtrain: \u001b[0mWARNING ⚠️ /content/shelves-5/train/images/train_737_jpg.rf.3d5926ec06ef6e2d75a203f25037fef9.jpg: ignoring corrupt image/label: non-normalized or out of bounds coordinates [     1.0116      1.0283]\n",
            "\u001b[34m\u001b[1mtrain: \u001b[0mWARNING ⚠️ /content/shelves-5/train/images/train_737_jpg.rf.c76935a2fc7dff0ceae2ab007838ea64.jpg: ignoring corrupt image/label: non-normalized or out of bounds coordinates [     1.0119      1.0287       1.001]\n",
            "\u001b[34m\u001b[1mtrain: \u001b[0mWARNING ⚠️ /content/shelves-5/train/images/train_742_jpg.rf.a5f53bbf05eee6c173b1cf3d51255bbc.jpg: ignoring corrupt image/label: non-normalized or out of bounds coordinates [     1.0009]\n",
            "\u001b[34m\u001b[1mtrain: \u001b[0mWARNING ⚠️ /content/shelves-5/train/images/train_742_jpg.rf.b0a538ed5803a7f5f1846336f3f4de6d.jpg: ignoring corrupt image/label: non-normalized or out of bounds coordinates [     1.0005      1.0009]\n",
            "\u001b[34m\u001b[1mtrain: \u001b[0mWARNING ⚠️ /content/shelves-5/train/images/train_742_jpg.rf.b96383f7e99a59719ca917846ed7afd1.jpg: ignoring corrupt image/label: non-normalized or out of bounds coordinates [     1.0009]\n",
            "\u001b[34m\u001b[1mtrain: \u001b[0mWARNING ⚠️ /content/shelves-5/train/images/train_743_jpg.rf.63ce787c52b2d7c9b7df3dde6cc39e9a.jpg: ignoring corrupt image/label: non-normalized or out of bounds coordinates [     1.0062      1.0201       1.047      1.1211]\n",
            "\u001b[34m\u001b[1mtrain: \u001b[0mWARNING ⚠️ /content/shelves-5/train/images/train_743_jpg.rf.6c3138d2e88280b8d7170492f13fe689.jpg: ignoring corrupt image/label: non-normalized or out of bounds coordinates [     1.0065      1.0202      1.0474      1.1008]\n",
            "\u001b[34m\u001b[1mtrain: \u001b[0mWARNING ⚠️ /content/shelves-5/train/images/train_743_jpg.rf.b1474993ac87566d2a2362a31cfb9933.jpg: ignoring corrupt image/label: non-normalized or out of bounds coordinates [     1.0068      1.0196       1.045      1.0995]\n",
            "\u001b[34m\u001b[1mtrain: \u001b[0mWARNING ⚠️ /content/shelves-5/train/images/train_745_jpg.rf.7b2689021364d1b2bb80665b6eb58b5c.jpg: ignoring corrupt image/label: non-normalized or out of bounds coordinates [     1.0032]\n",
            "\u001b[34m\u001b[1mtrain: \u001b[0mWARNING ⚠️ /content/shelves-5/train/images/train_745_jpg.rf.8d496f0c06eb8cbd4a6abd44c9cb28a6.jpg: ignoring corrupt image/label: non-normalized or out of bounds coordinates [     1.0044]\n",
            "\u001b[34m\u001b[1mtrain: \u001b[0mWARNING ⚠️ /content/shelves-5/train/images/train_747_jpg.rf.214410f32b3182a5cb13a5c2f8cdaf05.jpg: ignoring corrupt image/label: non-normalized or out of bounds coordinates [     1.0105       1.015       1.034]\n",
            "\u001b[34m\u001b[1mtrain: \u001b[0mWARNING ⚠️ /content/shelves-5/train/images/train_747_jpg.rf.299d7e294c6c0035f4b2268ce3fa1bcb.jpg: ignoring corrupt image/label: non-normalized or out of bounds coordinates [     1.0107      1.0154       1.034]\n",
            "\u001b[34m\u001b[1mtrain: \u001b[0mWARNING ⚠️ /content/shelves-5/train/images/train_747_jpg.rf.9e2e969ad6a2b3dd9c85e290cb56b4be.jpg: ignoring corrupt image/label: non-normalized or out of bounds coordinates [     1.0104      1.0149      1.0336]\n",
            "\u001b[34m\u001b[1mtrain: \u001b[0mWARNING ⚠️ /content/shelves-5/train/images/train_74_jpg.rf.73c22855a3e2be1bdc72d6e8f4f848d4.jpg: ignoring corrupt image/label: non-normalized or out of bounds coordinates [     1.0246      1.0719]\n",
            "\u001b[34m\u001b[1mtrain: \u001b[0mWARNING ⚠️ /content/shelves-5/train/images/train_752_jpg.rf.6031e8ee3d30cc5fdb9ef83b6a1bd9f3.jpg: ignoring corrupt image/label: non-normalized or out of bounds coordinates [     1.0031      1.0037]\n",
            "\u001b[34m\u001b[1mtrain: \u001b[0mWARNING ⚠️ /content/shelves-5/train/images/train_752_jpg.rf.895b672b24e13085cbd51df59637abff.jpg: ignoring corrupt image/label: non-normalized or out of bounds coordinates [     1.0031      1.0036]\n",
            "\u001b[34m\u001b[1mtrain: \u001b[0mWARNING ⚠️ /content/shelves-5/train/images/train_752_jpg.rf.bc425ceb811652c98d233ba7f07323a0.jpg: ignoring corrupt image/label: non-normalized or out of bounds coordinates [     1.0033      1.0039]\n",
            "\u001b[34m\u001b[1mtrain: \u001b[0mWARNING ⚠️ /content/shelves-5/train/images/train_756_jpg.rf.59686cf71eb6b0e94af2cd28f118c9ce.jpg: ignoring corrupt image/label: non-normalized or out of bounds coordinates [     1.0035      1.0017      1.0014      1.0001           1           1      1.0028]\n",
            "\u001b[34m\u001b[1mtrain: \u001b[0mWARNING ⚠️ /content/shelves-5/train/images/train_756_jpg.rf.c3f5aa59acaaf92e1570f372c17e3363.jpg: ignoring corrupt image/label: non-normalized or out of bounds coordinates [     1.0038      1.0019      1.0015      1.0001           1           1      1.0039]\n",
            "\u001b[34m\u001b[1mtrain: \u001b[0mWARNING ⚠️ /content/shelves-5/train/images/train_756_jpg.rf.e3cf90b1e61b5ca6d567daf18291d043.jpg: ignoring corrupt image/label: non-normalized or out of bounds coordinates [     1.0037      1.0018      1.0015      1.0001           1           1      1.0005      1.0044]\n",
            "\u001b[34m\u001b[1mtrain: \u001b[0mWARNING ⚠️ /content/shelves-5/train/images/train_761_jpg.rf.12e71c7a6e6fd26711aeea045231cfe2.jpg: ignoring corrupt image/label: non-normalized or out of bounds coordinates [     1.0083]\n",
            "\u001b[34m\u001b[1mtrain: \u001b[0mWARNING ⚠️ /content/shelves-5/train/images/train_761_jpg.rf.3017e52f474b72c43f0874bc29f429db.jpg: ignoring corrupt image/label: non-normalized or out of bounds coordinates [     1.0086]\n",
            "\u001b[34m\u001b[1mtrain: \u001b[0mWARNING ⚠️ /content/shelves-5/train/images/train_761_jpg.rf.77cc771a28e9d92731950813f9e529a8.jpg: ignoring corrupt image/label: non-normalized or out of bounds coordinates [     1.0083]\n",
            "\u001b[34m\u001b[1mtrain: \u001b[0mWARNING ⚠️ /content/shelves-5/train/images/train_762_jpg.rf.aa0af96351632146bb7afa6505755281.jpg: ignoring corrupt image/label: non-normalized or out of bounds coordinates [     1.0025      1.0445]\n",
            "\u001b[34m\u001b[1mtrain: \u001b[0mWARNING ⚠️ /content/shelves-5/train/images/train_762_jpg.rf.b908193c2473d3ec1783620a3de452e1.jpg: ignoring corrupt image/label: non-normalized or out of bounds coordinates [     1.0465      1.0082]\n",
            "\u001b[34m\u001b[1mtrain: \u001b[0mWARNING ⚠️ /content/shelves-5/train/images/train_762_jpg.rf.ca19734b114b661f956c50daf4c7c8e0.jpg: ignoring corrupt image/label: non-normalized or out of bounds coordinates [      1.064      1.0202]\n",
            "\u001b[34m\u001b[1mtrain: \u001b[0mWARNING ⚠️ /content/shelves-5/train/images/train_767_jpg.rf.b4ab88d3c59033460e94f013abc8d1d0.jpg: ignoring corrupt image/label: non-normalized or out of bounds coordinates [     1.0011]\n",
            "\u001b[34m\u001b[1mtrain: \u001b[0mWARNING ⚠️ /content/shelves-5/train/images/train_768_jpg.rf.2ac099b5f78a31067ccbad9b81de2cba.jpg: ignoring corrupt image/label: non-normalized or out of bounds coordinates [     1.0055      1.0052]\n",
            "\u001b[34m\u001b[1mtrain: \u001b[0mWARNING ⚠️ /content/shelves-5/train/images/train_768_jpg.rf.6564849747999b1199f84a906dfcdb43.jpg: ignoring corrupt image/label: non-normalized or out of bounds coordinates [     1.0054      1.0051]\n",
            "\u001b[34m\u001b[1mtrain: \u001b[0mWARNING ⚠️ /content/shelves-5/train/images/train_768_jpg.rf.937afd4658f39a480762aeeef7c464b0.jpg: ignoring corrupt image/label: non-normalized or out of bounds coordinates [     1.0033      1.0048]\n",
            "\u001b[34m\u001b[1mtrain: \u001b[0mWARNING ⚠️ /content/shelves-5/train/images/train_770_jpg.rf.03c754557caba79fb98cd37155f16c78.jpg: ignoring corrupt image/label: non-normalized or out of bounds coordinates [     1.0044      1.0083]\n",
            "\u001b[34m\u001b[1mtrain: \u001b[0mWARNING ⚠️ /content/shelves-5/train/images/train_770_jpg.rf.b78d24506e0268837a6cc3484a0fb0fc.jpg: ignoring corrupt image/label: non-normalized or out of bounds coordinates [      1.004      1.0053]\n",
            "\u001b[34m\u001b[1mtrain: \u001b[0mWARNING ⚠️ /content/shelves-5/train/images/train_770_jpg.rf.cef3f6cf479e7856098db0bcaa7d3fcb.jpg: ignoring corrupt image/label: non-normalized or out of bounds coordinates [      1.004      1.0054]\n",
            "\u001b[34m\u001b[1mtrain: \u001b[0mWARNING ⚠️ /content/shelves-5/train/images/train_776_jpg.rf.0a449a58436cb44a1cefffcf39a330a3.jpg: ignoring corrupt image/label: non-normalized or out of bounds coordinates [     1.0076]\n",
            "\u001b[34m\u001b[1mtrain: \u001b[0mWARNING ⚠️ /content/shelves-5/train/images/train_776_jpg.rf.15f2621958d269f1d06b4aab69a47226.jpg: ignoring corrupt image/label: non-normalized or out of bounds coordinates [     1.0087]\n",
            "\u001b[34m\u001b[1mtrain: \u001b[0mWARNING ⚠️ /content/shelves-5/train/images/train_776_jpg.rf.2cba7065c475a2eb2f6819ee7591a446.jpg: ignoring corrupt image/label: non-normalized or out of bounds coordinates [     1.0089]\n",
            "\u001b[34m\u001b[1mtrain: \u001b[0mWARNING ⚠️ /content/shelves-5/train/images/train_777_jpg.rf.b79ae4b806f17f83aeb24f56c187ebda.jpg: ignoring corrupt image/label: non-normalized or out of bounds coordinates [     1.0042]\n",
            "\u001b[34m\u001b[1mtrain: \u001b[0mWARNING ⚠️ /content/shelves-5/train/images/train_781_jpg.rf.040803a068c5782c9e2ffa613da67964.jpg: ignoring corrupt image/label: non-normalized or out of bounds coordinates [     1.0077      1.0032]\n",
            "\u001b[34m\u001b[1mtrain: \u001b[0mWARNING ⚠️ /content/shelves-5/train/images/train_781_jpg.rf.55f8ee3628213bc60205b14b26c0fb6b.jpg: ignoring corrupt image/label: non-normalized or out of bounds coordinates [      1.003      1.0031]\n",
            "\u001b[34m\u001b[1mtrain: \u001b[0mWARNING ⚠️ /content/shelves-5/train/images/train_781_jpg.rf.a0ad1cb7a0ad2b26fbd271260f8ea2f3.jpg: ignoring corrupt image/label: non-normalized or out of bounds coordinates [     1.0074      1.0031]\n",
            "\u001b[34m\u001b[1mtrain: \u001b[0mWARNING ⚠️ /content/shelves-5/train/images/train_784_jpg.rf.4c841c835eb429f7f6d35011ae120b1e.jpg: ignoring corrupt image/label: non-normalized or out of bounds coordinates [     1.0011]\n",
            "\u001b[34m\u001b[1mtrain: \u001b[0mWARNING ⚠️ /content/shelves-5/train/images/train_784_jpg.rf.ebdd15e0760dc19590d382ab16a7b695.jpg: ignoring corrupt image/label: non-normalized or out of bounds coordinates [     1.0032]\n",
            "\u001b[34m\u001b[1mtrain: \u001b[0mWARNING ⚠️ /content/shelves-5/train/images/train_785_jpg.rf.29751b10aa19b7de824fcec78ee34c5d.jpg: ignoring corrupt image/label: non-normalized or out of bounds coordinates [      1.001      1.0017]\n",
            "\u001b[34m\u001b[1mtrain: \u001b[0mWARNING ⚠️ /content/shelves-5/train/images/train_785_jpg.rf.acae96c0bd3052987ea176d1c21e3d19.jpg: ignoring corrupt image/label: non-normalized or out of bounds coordinates [      1.001      1.0016]\n",
            "\u001b[34m\u001b[1mtrain: \u001b[0mWARNING ⚠️ /content/shelves-5/train/images/train_785_jpg.rf.f670eae6c8e627f3a05d74f2c511460a.jpg: ignoring corrupt image/label: non-normalized or out of bounds coordinates [     1.0004      1.0016]\n",
            "\u001b[34m\u001b[1mtrain: \u001b[0mWARNING ⚠️ /content/shelves-5/train/images/train_788_jpg.rf.9a06adaaecaca14a2b74d41931ae1d63.jpg: ignoring corrupt image/label: non-normalized or out of bounds coordinates [     1.0062]\n",
            "\u001b[34m\u001b[1mtrain: \u001b[0mWARNING ⚠️ /content/shelves-5/train/images/train_788_jpg.rf.cd84c47176c9492e73d99f3f3c07b9cb.jpg: ignoring corrupt image/label: non-normalized or out of bounds coordinates [     1.0061]\n",
            "\u001b[34m\u001b[1mtrain: \u001b[0mWARNING ⚠️ /content/shelves-5/train/images/train_788_jpg.rf.ecaff2c83c022e1f7605864319128a6d.jpg: ignoring corrupt image/label: non-normalized or out of bounds coordinates [     1.0067]\n",
            "\u001b[34m\u001b[1mtrain: \u001b[0mWARNING ⚠️ /content/shelves-5/train/images/train_790_jpg.rf.2998f77cbcd5b078e0e9ad6fb1ec63a7.jpg: ignoring corrupt image/label: non-normalized or out of bounds coordinates [     1.0053      1.0239]\n",
            "\u001b[34m\u001b[1mtrain: \u001b[0mWARNING ⚠️ /content/shelves-5/train/images/train_790_jpg.rf.69ef73da76b4ea99e0308d817ecba08c.jpg: ignoring corrupt image/label: non-normalized or out of bounds coordinates [      1.005      1.0245]\n",
            "\u001b[34m\u001b[1mtrain: \u001b[0mWARNING ⚠️ /content/shelves-5/train/images/train_790_jpg.rf.84e91e81d5deda2b666e7d4c5ce97ba0.jpg: ignoring corrupt image/label: non-normalized or out of bounds coordinates [     1.0054      1.0207]\n",
            "\u001b[34m\u001b[1mtrain: \u001b[0mWARNING ⚠️ /content/shelves-5/train/images/train_793_jpg.rf.ab605c1d2e186038142bb86b11315734.jpg: ignoring corrupt image/label: non-normalized or out of bounds coordinates [     1.0229      1.0248      1.0171]\n",
            "\u001b[34m\u001b[1mtrain: \u001b[0mWARNING ⚠️ /content/shelves-5/train/images/train_793_jpg.rf.c09cda4b1e00fe04c499e532c34a5c48.jpg: ignoring corrupt image/label: non-normalized or out of bounds coordinates [     1.0219      1.0197      1.0164]\n",
            "\u001b[34m\u001b[1mtrain: \u001b[0mWARNING ⚠️ /content/shelves-5/train/images/train_793_jpg.rf.e4d04124e75877d0361d9bef8601123d.jpg: ignoring corrupt image/label: non-normalized or out of bounds coordinates [     1.0228      1.0266      1.0171]\n",
            "\u001b[34m\u001b[1mtrain: \u001b[0mWARNING ⚠️ /content/shelves-5/train/images/train_794_jpg.rf.13443418bea068ce3443ad29e934797a.jpg: ignoring corrupt image/label: non-normalized or out of bounds coordinates [     1.0056       1.006      1.0043       1.004      1.0038      1.0032      1.0034      1.0027]\n",
            "\u001b[34m\u001b[1mtrain: \u001b[0mWARNING ⚠️ /content/shelves-5/train/images/train_794_jpg.rf.8c9de9ce2d1605448d0fe8be51580906.jpg: ignoring corrupt image/label: non-normalized or out of bounds coordinates [     1.0049      1.0053      1.0057      1.0041      1.0038      1.0036       1.003      1.0033      1.0025]\n",
            "\u001b[34m\u001b[1mtrain: \u001b[0mWARNING ⚠️ /content/shelves-5/train/images/train_794_jpg.rf.995a115e8ef448100b8652624c05ba6e.jpg: ignoring corrupt image/label: non-normalized or out of bounds coordinates [          1      1.0057      1.0062      1.0044      1.0041      1.0039      1.0033      1.0035      1.0027]\n",
            "\u001b[34m\u001b[1mtrain: \u001b[0mWARNING ⚠️ /content/shelves-5/train/images/train_795_jpg.rf.2e1814fe3d0a2d189eb524b878956cd6.jpg: ignoring corrupt image/label: non-normalized or out of bounds coordinates [     1.0084      1.0023      1.0029       1.007       1.009      1.0157]\n",
            "\u001b[34m\u001b[1mtrain: \u001b[0mWARNING ⚠️ /content/shelves-5/train/images/train_795_jpg.rf.30c7014bc6d8ee66546736bbb05019ff.jpg: ignoring corrupt image/label: non-normalized or out of bounds coordinates [     1.0081      1.0022      1.0028      1.0066      1.0088      1.0152]\n",
            "\u001b[34m\u001b[1mtrain: \u001b[0mWARNING ⚠️ /content/shelves-5/train/images/train_795_jpg.rf.fafc57ceec6ee047cbfeb31e8824b160.jpg: ignoring corrupt image/label: non-normalized or out of bounds coordinates [     1.0087      1.0023       1.003      1.0073      1.0093      1.0163]\n",
            "\u001b[34m\u001b[1mtrain: \u001b[0mWARNING ⚠️ /content/shelves-5/train/images/train_796_jpg.rf.da79ee3cec4d793b2978f3422aad376f.jpg: ignoring corrupt image/label: non-normalized or out of bounds coordinates [     1.0127      1.0141]\n",
            "\u001b[34m\u001b[1mtrain: \u001b[0mWARNING ⚠️ /content/shelves-5/train/images/train_796_jpg.rf.f002014abf7346e9d9fa57d50ebd7143.jpg: ignoring corrupt image/label: non-normalized or out of bounds coordinates [     1.0125      1.0151]\n",
            "\u001b[34m\u001b[1mtrain: \u001b[0mWARNING ⚠️ /content/shelves-5/train/images/train_796_jpg.rf.fd92b9a915c8e1071aba05ba0c0bb230.jpg: ignoring corrupt image/label: non-normalized or out of bounds coordinates [      1.013      1.0158]\n",
            "\u001b[34m\u001b[1mtrain: \u001b[0mWARNING ⚠️ /content/shelves-5/train/images/train_797_jpg.rf.83a56094f8a4415a062e7f749496e229.jpg: ignoring corrupt image/label: non-normalized or out of bounds coordinates [     1.0108      1.0124]\n",
            "\u001b[34m\u001b[1mtrain: \u001b[0mWARNING ⚠️ /content/shelves-5/train/images/train_79_jpg.rf.06e6fb4141eca6d72b8b55c03cd5d34d.jpg: ignoring corrupt image/label: non-normalized or out of bounds coordinates [          1]\n",
            "\u001b[34m\u001b[1mtrain: \u001b[0mWARNING ⚠️ /content/shelves-5/train/images/train_802_jpg.rf.3a2b13510182fe37421658678e8814b5.jpg: ignoring corrupt image/label: non-normalized or out of bounds coordinates [     1.0057]\n",
            "\u001b[34m\u001b[1mtrain: \u001b[0mWARNING ⚠️ /content/shelves-5/train/images/train_802_jpg.rf.b8a24157f8b6492edd10b13d65ed9de5.jpg: ignoring corrupt image/label: non-normalized or out of bounds coordinates [     1.0057           1]\n",
            "\u001b[34m\u001b[1mtrain: \u001b[0mWARNING ⚠️ /content/shelves-5/train/images/train_802_jpg.rf.c0f23c005361edab20a4cbf3db5fa430.jpg: ignoring corrupt image/label: non-normalized or out of bounds coordinates [     1.0055]\n",
            "\u001b[34m\u001b[1mtrain: \u001b[0mWARNING ⚠️ /content/shelves-5/train/images/train_803_jpg.rf.8f24eca376477eb06146b8b6ca60552d.jpg: ignoring corrupt image/label: non-normalized or out of bounds coordinates [     1.0038]\n",
            "\u001b[34m\u001b[1mtrain: \u001b[0mWARNING ⚠️ /content/shelves-5/train/images/train_803_jpg.rf.b9109c3b021f2810b9841e8e4e7bf98f.jpg: ignoring corrupt image/label: non-normalized or out of bounds coordinates [      1.011      1.0036]\n",
            "\u001b[34m\u001b[1mtrain: \u001b[0mWARNING ⚠️ /content/shelves-5/train/images/train_803_jpg.rf.f593d8e71bce352c453e8c3b3ae53d53.jpg: ignoring corrupt image/label: non-normalized or out of bounds coordinates [     1.0037]\n",
            "\u001b[34m\u001b[1mtrain: \u001b[0mWARNING ⚠️ /content/shelves-5/train/images/train_807_jpg.rf.003c864f8af7cd931cf49e7e4c2478ad.jpg: ignoring corrupt image/label: non-normalized or out of bounds coordinates [     1.0272      1.0357      1.0605      1.1194]\n",
            "\u001b[34m\u001b[1mtrain: \u001b[0mWARNING ⚠️ /content/shelves-5/train/images/train_807_jpg.rf.7b15dd073daf5f5d16db93ff4a1509b2.jpg: ignoring corrupt image/label: non-normalized or out of bounds coordinates [     1.0283      1.0371      1.0623      1.1161]\n",
            "\u001b[34m\u001b[1mtrain: \u001b[0mWARNING ⚠️ /content/shelves-5/train/images/train_807_jpg.rf.9757be6825e7b5ee5186b1c8a4109652.jpg: ignoring corrupt image/label: non-normalized or out of bounds coordinates [     1.0282      1.0358      1.0602      1.1082]\n",
            "\u001b[34m\u001b[1mtrain: \u001b[0mWARNING ⚠️ /content/shelves-5/train/images/train_809_jpg.rf.033383a43e567efd4a35966ffde6a50a.jpg: ignoring corrupt image/label: non-normalized or out of bounds coordinates [     1.0015]\n",
            "\u001b[34m\u001b[1mtrain: \u001b[0mWARNING ⚠️ /content/shelves-5/train/images/train_809_jpg.rf.065b1dcada7687f008e1552af55dcffd.jpg: ignoring corrupt image/label: non-normalized or out of bounds coordinates [     1.0023]\n",
            "\u001b[34m\u001b[1mtrain: \u001b[0mWARNING ⚠️ /content/shelves-5/train/images/train_809_jpg.rf.99abec78c4bad135b89d054984dbbc48.jpg: ignoring corrupt image/label: non-normalized or out of bounds coordinates [     1.0022]\n",
            "\u001b[34m\u001b[1mtrain: \u001b[0mWARNING ⚠️ /content/shelves-5/train/images/train_80_jpg.rf.56429cbe1dda8f3285c8e54688ea45a9.jpg: ignoring corrupt image/label: non-normalized or out of bounds coordinates [     1.0088      1.0105]\n",
            "\u001b[34m\u001b[1mtrain: \u001b[0mWARNING ⚠️ /content/shelves-5/train/images/train_80_jpg.rf.6be3fd17fa6a9317daab13114161e5c0.jpg: ignoring corrupt image/label: non-normalized or out of bounds coordinates [     1.0089      1.0105]\n",
            "\u001b[34m\u001b[1mtrain: \u001b[0mWARNING ⚠️ /content/shelves-5/train/images/train_80_jpg.rf.922b13795c4959a8792b50bcbc29bbad.jpg: ignoring corrupt image/label: non-normalized or out of bounds coordinates [     1.0092       1.011]\n",
            "\u001b[34m\u001b[1mtrain: \u001b[0mWARNING ⚠️ /content/shelves-5/train/images/train_811_jpg.rf.7ab3ec101168af9ce4ea50cb381391cf.jpg: ignoring corrupt image/label: non-normalized or out of bounds coordinates [     1.0034]\n",
            "\u001b[34m\u001b[1mtrain: \u001b[0mWARNING ⚠️ /content/shelves-5/train/images/train_811_jpg.rf.c3fb21620f9644e0283d9acc50f4c12b.jpg: ignoring corrupt image/label: non-normalized or out of bounds coordinates [     1.0032]\n",
            "\u001b[34m\u001b[1mtrain: \u001b[0mWARNING ⚠️ /content/shelves-5/train/images/train_811_jpg.rf.e5da07fbcd47b5914e6322db56e15ee7.jpg: ignoring corrupt image/label: non-normalized or out of bounds coordinates [     1.0031]\n",
            "\u001b[34m\u001b[1mtrain: \u001b[0mWARNING ⚠️ /content/shelves-5/train/images/train_816_jpg.rf.3021614a8d4e76301741664ec25ebce5.jpg: ignoring corrupt image/label: non-normalized or out of bounds coordinates [     1.0101      1.0548      1.0474      1.0432]\n",
            "\u001b[34m\u001b[1mtrain: \u001b[0mWARNING ⚠️ /content/shelves-5/train/images/train_816_jpg.rf.5b23e8a29cb0b8b2f4b94e2be2764ab2.jpg: ignoring corrupt image/label: non-normalized or out of bounds coordinates [     1.0093       1.059       1.044      1.0458]\n",
            "\u001b[34m\u001b[1mtrain: \u001b[0mWARNING ⚠️ /content/shelves-5/train/images/train_816_jpg.rf.9c53670d89d783fcb797d3dca51ed1d7.jpg: ignoring corrupt image/label: non-normalized or out of bounds coordinates [      1.011      1.0539      1.0426      1.0424]\n",
            "\u001b[34m\u001b[1mtrain: \u001b[0mWARNING ⚠️ /content/shelves-5/train/images/train_817_jpg.rf.34476027c898a3a020f9abc73ecd4f3b.jpg: ignoring corrupt image/label: non-normalized or out of bounds coordinates [     1.0003      1.0014      1.0016      1.0002      1.0003      1.0001]\n",
            "\u001b[34m\u001b[1mtrain: \u001b[0mWARNING ⚠️ /content/shelves-5/train/images/train_817_jpg.rf.7cec0e25671e90b530cb2ff08e15d4ce.jpg: ignoring corrupt image/label: non-normalized or out of bounds coordinates [     1.0008      1.0003      1.0014      1.0015      1.0002      1.0003           1]\n",
            "\u001b[34m\u001b[1mtrain: \u001b[0mWARNING ⚠️ /content/shelves-5/train/images/train_817_jpg.rf.b93639007ceacac826096e07dedfbd79.jpg: ignoring corrupt image/label: non-normalized or out of bounds coordinates [     1.0008      1.0003      1.0014      1.0016      1.0002      1.0003           1]\n",
            "\u001b[34m\u001b[1mtrain: \u001b[0mWARNING ⚠️ /content/shelves-5/train/images/train_819_jpg.rf.0a981bcfeb5b3b5eb4cf8cd17b85fcb8.jpg: ignoring corrupt image/label: non-normalized or out of bounds coordinates [     1.0152      1.0133      1.0625      1.0608]\n",
            "\u001b[34m\u001b[1mtrain: \u001b[0mWARNING ⚠️ /content/shelves-5/train/images/train_819_jpg.rf.89c62f96427daad7641c5f21a685bd4b.jpg: ignoring corrupt image/label: non-normalized or out of bounds coordinates [     1.0152       1.013      1.0608      1.0624]\n",
            "\u001b[34m\u001b[1mtrain: \u001b[0mWARNING ⚠️ /content/shelves-5/train/images/train_819_jpg.rf.e600b234bbfafb3c2aaca22e4a01f3eb.jpg: ignoring corrupt image/label: non-normalized or out of bounds coordinates [     1.0134      1.0634      1.0799]\n",
            "\u001b[34m\u001b[1mtrain: \u001b[0mWARNING ⚠️ /content/shelves-5/train/images/train_820_jpg.rf.2bd9784c00ced0c619b7e62ed34eebe7.jpg: ignoring corrupt image/label: non-normalized or out of bounds coordinates [     1.0148      1.0073      1.0043      1.0004]\n",
            "\u001b[34m\u001b[1mtrain: \u001b[0mWARNING ⚠️ /content/shelves-5/train/images/train_820_jpg.rf.9629d9b44ff6ad9872c89ca5b983165d.jpg: ignoring corrupt image/label: non-normalized or out of bounds coordinates [     1.0148      1.0072      1.0043      1.0004]\n",
            "\u001b[34m\u001b[1mtrain: \u001b[0mWARNING ⚠️ /content/shelves-5/train/images/train_820_jpg.rf.d75ada5d55216f974bc04b3998534d1f.jpg: ignoring corrupt image/label: non-normalized or out of bounds coordinates [      1.015      1.0073      1.0043      1.0004]\n",
            "\u001b[34m\u001b[1mtrain: \u001b[0mWARNING ⚠️ /content/shelves-5/train/images/train_823_jpg.rf.3300a7b8cf03135a926b0d5c38fbceed.jpg: ignoring corrupt image/label: non-normalized or out of bounds coordinates [     1.0096      1.0155      1.0478      1.0804      1.0692]\n",
            "\u001b[34m\u001b[1mtrain: \u001b[0mWARNING ⚠️ /content/shelves-5/train/images/train_823_jpg.rf.7e555d771dcc34d1f688a54033582e7b.jpg: ignoring corrupt image/label: non-normalized or out of bounds coordinates [     1.0096      1.0152      1.0466      1.0784      1.0644      1.0383]\n",
            "\u001b[34m\u001b[1mtrain: \u001b[0mWARNING ⚠️ /content/shelves-5/train/images/train_823_jpg.rf.c0d2050fe96ce652c0ac40c58633200b.jpg: ignoring corrupt image/label: non-normalized or out of bounds coordinates [     1.0166      1.0065      1.0003      1.0126      1.0442      1.0743      1.0588      1.0143]\n",
            "\u001b[34m\u001b[1mtrain: \u001b[0mWARNING ⚠️ /content/shelves-5/train/images/train_82_jpg.rf.57f49fed5f7b065b07b0ee4ff9819b87.jpg: ignoring corrupt image/label: non-normalized or out of bounds coordinates [     1.0013]\n",
            "\u001b[34m\u001b[1mtrain: \u001b[0mWARNING ⚠️ /content/shelves-5/train/images/train_830_jpg.rf.2527aaaad07202a47b0c9ace30b1f030.jpg: ignoring corrupt image/label: non-normalized or out of bounds coordinates [     1.0325      1.0205       1.003       1.022      1.0357]\n",
            "\u001b[34m\u001b[1mtrain: \u001b[0mWARNING ⚠️ /content/shelves-5/train/images/train_830_jpg.rf.580c8d42584a3934c1255b5d301e7105.jpg: ignoring corrupt image/label: non-normalized or out of bounds coordinates [     1.0316      1.0204       1.003      1.0219      1.0373]\n",
            "\u001b[34m\u001b[1mtrain: \u001b[0mWARNING ⚠️ /content/shelves-5/train/images/train_830_jpg.rf.7faf06f1856198cc70595bb1b30336ab.jpg: ignoring corrupt image/label: non-normalized or out of bounds coordinates [     1.0322      1.0196      1.0029       1.021      1.0458]\n",
            "\u001b[34m\u001b[1mtrain: \u001b[0mWARNING ⚠️ /content/shelves-5/train/images/train_831_jpg.rf.1c4ff20bd3354adf52674fb068380d6d.jpg: ignoring corrupt image/label: non-normalized or out of bounds coordinates [     1.0138       1.012      1.0366      1.0712]\n",
            "\u001b[34m\u001b[1mtrain: \u001b[0mWARNING ⚠️ /content/shelves-5/train/images/train_831_jpg.rf.2a20217213c0dbeec0bb7b58825aeac0.jpg: ignoring corrupt image/label: non-normalized or out of bounds coordinates [     1.0136      1.0118      1.0358      1.0763]\n",
            "\u001b[34m\u001b[1mtrain: \u001b[0mWARNING ⚠️ /content/shelves-5/train/images/train_831_jpg.rf.54d3925a101827041b54025b8c48c8bb.jpg: ignoring corrupt image/label: non-normalized or out of bounds coordinates [     1.0128       1.012      1.0366      1.1015]\n",
            "\u001b[34m\u001b[1mtrain: \u001b[0mWARNING ⚠️ /content/shelves-5/train/images/train_832_jpg.rf.76f303396329c054d7ceeee38ba739c1.jpg: ignoring corrupt image/label: non-normalized or out of bounds coordinates [     1.0777]\n",
            "\u001b[34m\u001b[1mtrain: \u001b[0mWARNING ⚠️ /content/shelves-5/train/images/train_832_jpg.rf.7d674b5ca355d4d85cb2a9d33441ec38.jpg: ignoring corrupt image/label: non-normalized or out of bounds coordinates [     1.0656]\n",
            "\u001b[34m\u001b[1mtrain: \u001b[0mWARNING ⚠️ /content/shelves-5/train/images/train_832_jpg.rf.9ee3d2dc4b4497460287fd634b54f69d.jpg: ignoring corrupt image/label: non-normalized or out of bounds coordinates [     1.0081      1.0535]\n",
            "\u001b[34m\u001b[1mtrain: \u001b[0mWARNING ⚠️ /content/shelves-5/train/images/train_833_jpg.rf.184f47fc424ffc497216aa6096d3f927.jpg: ignoring corrupt image/label: non-normalized or out of bounds coordinates [     1.0148      1.0263      1.0308      1.0152      1.0025        1.02]\n",
            "\u001b[34m\u001b[1mtrain: \u001b[0mWARNING ⚠️ /content/shelves-5/train/images/train_833_jpg.rf.a3d2e50960b01acb930ae5e740e97d0d.jpg: ignoring corrupt image/label: non-normalized or out of bounds coordinates [     1.0145      1.0256      1.0371      1.0474      1.0497      1.0074]\n",
            "\u001b[34m\u001b[1mtrain: \u001b[0mWARNING ⚠️ /content/shelves-5/train/images/train_833_jpg.rf.d8975c9d1401a0636c48ed59ec7bceb8.jpg: ignoring corrupt image/label: non-normalized or out of bounds coordinates [     1.0353      1.0076      1.0187      1.0171]\n",
            "\u001b[34m\u001b[1mtrain: \u001b[0mWARNING ⚠️ /content/shelves-5/train/images/train_835_jpg.rf.57d1c7e2285790395b310f84ed3a69d6.jpg: ignoring corrupt image/label: non-normalized or out of bounds coordinates [      1.002      1.0018      1.0011      1.0027      1.0019      1.0006       1.001]\n",
            "\u001b[34m\u001b[1mtrain: \u001b[0mWARNING ⚠️ /content/shelves-5/train/images/train_835_jpg.rf.73ba786504ce4ed39d3af89da1d7ddba.jpg: ignoring corrupt image/label: non-normalized or out of bounds coordinates [     1.0021      1.0018      1.0012      1.0027       1.002       1.001]\n",
            "\u001b[34m\u001b[1mtrain: \u001b[0mWARNING ⚠️ /content/shelves-5/train/images/train_835_jpg.rf.8f991ab248febee65b432f375c6ad395.jpg: ignoring corrupt image/label: non-normalized or out of bounds coordinates [      1.002      1.0018      1.0009      1.0027      1.0019      1.0005       1.001]\n",
            "\u001b[34m\u001b[1mtrain: \u001b[0mWARNING ⚠️ /content/shelves-5/train/images/train_840_jpg.rf.17349b69a6dca972e9ead4ef7d13e36a.jpg: ignoring corrupt image/label: non-normalized or out of bounds coordinates [          1       1.004      1.0183      1.0672]\n",
            "\u001b[34m\u001b[1mtrain: \u001b[0mWARNING ⚠️ /content/shelves-5/train/images/train_840_jpg.rf.84a59cffab3a07f137be768aac38eecf.jpg: ignoring corrupt image/label: non-normalized or out of bounds coordinates [     1.0043      1.0195      1.0677]\n",
            "\u001b[34m\u001b[1mtrain: \u001b[0mWARNING ⚠️ /content/shelves-5/train/images/train_840_jpg.rf.9aaf13e29ca3029abf4be056c9ac91eb.jpg: ignoring corrupt image/label: non-normalized or out of bounds coordinates [          1      1.0041      1.0189      1.0693]\n",
            "\u001b[34m\u001b[1mtrain: \u001b[0mWARNING ⚠️ /content/shelves-5/train/images/train_841_jpg.rf.1014d4103f0cc3b5588a51b87a521353.jpg: ignoring corrupt image/label: non-normalized or out of bounds coordinates [     1.0176      1.0244      1.0577      1.0424]\n",
            "\u001b[34m\u001b[1mtrain: \u001b[0mWARNING ⚠️ /content/shelves-5/train/images/train_841_jpg.rf.2c840081f09ae6addf2d1e68b0de0554.jpg: ignoring corrupt image/label: non-normalized or out of bounds coordinates [     1.0222      1.0254      1.0607      1.0555]\n",
            "\u001b[34m\u001b[1mtrain: \u001b[0mWARNING ⚠️ /content/shelves-5/train/images/train_841_jpg.rf.5d9c261b80ad613ebe376ab04cbe4c53.jpg: ignoring corrupt image/label: non-normalized or out of bounds coordinates [     1.0207      1.0239      1.0431      1.0246]\n",
            "\u001b[34m\u001b[1mtrain: \u001b[0mWARNING ⚠️ /content/shelves-5/train/images/train_845_jpg.rf.354b37fddc3892437c4ab30bcd8b15da.jpg: ignoring corrupt image/label: non-normalized or out of bounds coordinates [     1.0116      1.0371      1.0495]\n",
            "\u001b[34m\u001b[1mtrain: \u001b[0mWARNING ⚠️ /content/shelves-5/train/images/train_845_jpg.rf.49a5e56ac5f5066c378f09ad7b5c5e8e.jpg: ignoring corrupt image/label: non-normalized or out of bounds coordinates [     1.0114      1.0362      1.0484]\n",
            "\u001b[34m\u001b[1mtrain: \u001b[0mWARNING ⚠️ /content/shelves-5/train/images/train_845_jpg.rf.a52e7158fb4b883d65212022350de098.jpg: ignoring corrupt image/label: non-normalized or out of bounds coordinates [     1.0117      1.0374        1.05]\n",
            "\u001b[34m\u001b[1mtrain: \u001b[0mWARNING ⚠️ /content/shelves-5/train/images/train_846_jpg.rf.a3e9d61ef39690861d22e883484f4ee9.jpg: ignoring corrupt image/label: non-normalized or out of bounds coordinates [          1      1.0065]\n",
            "\u001b[34m\u001b[1mtrain: \u001b[0mWARNING ⚠️ /content/shelves-5/train/images/train_846_jpg.rf.b93058500ef3e29d7f0238bdd04ce8ac.jpg: ignoring corrupt image/label: non-normalized or out of bounds coordinates [     1.0063]\n",
            "\u001b[34m\u001b[1mtrain: \u001b[0mWARNING ⚠️ /content/shelves-5/train/images/train_846_jpg.rf.e1bb628daaba4cf83bd00c30c1615565.jpg: ignoring corrupt image/label: non-normalized or out of bounds coordinates [     1.0069]\n",
            "\u001b[34m\u001b[1mtrain: \u001b[0mWARNING ⚠️ /content/shelves-5/train/images/train_848_jpg.rf.5bcac074d9bb5457ae296759a23d0609.jpg: ignoring corrupt image/label: non-normalized or out of bounds coordinates [     1.0147      1.0111       1.002]\n",
            "\u001b[34m\u001b[1mtrain: \u001b[0mWARNING ⚠️ /content/shelves-5/train/images/train_848_jpg.rf.5de79868c7d74133394db0fbd23f0ff7.jpg: ignoring corrupt image/label: non-normalized or out of bounds coordinates [     1.0146      1.0115      1.0029]\n",
            "\u001b[34m\u001b[1mtrain: \u001b[0mWARNING ⚠️ /content/shelves-5/train/images/train_848_jpg.rf.9a278e6f3250f8576254164f6ae1c249.jpg: ignoring corrupt image/label: non-normalized or out of bounds coordinates [     1.0151      1.0114      1.0029]\n",
            "\u001b[34m\u001b[1mtrain: \u001b[0mWARNING ⚠️ /content/shelves-5/train/images/train_850_jpg.rf.1eb88c3ecbc11f3b803514c6ac48ee89.jpg: ignoring corrupt image/label: non-normalized or out of bounds coordinates [     1.0178      1.0258      1.0327      1.0227]\n",
            "\u001b[34m\u001b[1mtrain: \u001b[0mWARNING ⚠️ /content/shelves-5/train/images/train_850_jpg.rf.42d09e3924ae5e4bb8bc2168e0b76177.jpg: ignoring corrupt image/label: non-normalized or out of bounds coordinates [     1.0186       1.027      1.0341      1.0255]\n",
            "\u001b[34m\u001b[1mtrain: \u001b[0mWARNING ⚠️ /content/shelves-5/train/images/train_850_jpg.rf.cddfeafcdb866bd29b1fe5fc669e51dc.jpg: ignoring corrupt image/label: non-normalized or out of bounds coordinates [     1.0162      1.0263      1.0334      1.0351]\n",
            "\u001b[34m\u001b[1mtrain: \u001b[0mWARNING ⚠️ /content/shelves-5/train/images/train_853_jpg.rf.99099e0e48086335b3941ae092598883.jpg: ignoring corrupt image/label: non-normalized or out of bounds coordinates [     1.0001      1.0189]\n",
            "\u001b[34m\u001b[1mtrain: \u001b[0mWARNING ⚠️ /content/shelves-5/train/images/train_853_jpg.rf.ecd5dfbd915f7d158a6ab55de16ea403.jpg: ignoring corrupt image/label: non-normalized or out of bounds coordinates [     1.0104]\n",
            "\u001b[34m\u001b[1mtrain: \u001b[0mWARNING ⚠️ /content/shelves-5/train/images/train_853_jpg.rf.ef8f31033f63fe22c002170bd6e24cf5.jpg: ignoring corrupt image/label: non-normalized or out of bounds coordinates [     1.0106      1.0158]\n",
            "\u001b[34m\u001b[1mtrain: \u001b[0mWARNING ⚠️ /content/shelves-5/train/images/train_855_jpg.rf.7fc10d21e152cde4dfde591c67532713.jpg: ignoring corrupt image/label: non-normalized or out of bounds coordinates [     1.0075      1.0124        1.02      1.0312]\n",
            "\u001b[34m\u001b[1mtrain: \u001b[0mWARNING ⚠️ /content/shelves-5/train/images/train_855_jpg.rf.cbb529bc3b6ed68d430e060c6ac8ea40.jpg: ignoring corrupt image/label: non-normalized or out of bounds coordinates [     1.0075      1.0126      1.0203      1.0318]\n",
            "\u001b[34m\u001b[1mtrain: \u001b[0mWARNING ⚠️ /content/shelves-5/train/images/train_855_jpg.rf.ec1a8dedb6a64d5e32efc28ffcca0b57.jpg: ignoring corrupt image/label: non-normalized or out of bounds coordinates [     1.0076      1.0162      1.0192      1.0302]\n",
            "\u001b[34m\u001b[1mtrain: \u001b[0mWARNING ⚠️ /content/shelves-5/train/images/train_856_jpg.rf.09d2d6b418648652c7c8981c51c3bd4b.jpg: ignoring corrupt image/label: non-normalized or out of bounds coordinates [     1.0003      1.0142      1.0437      1.0498]\n",
            "\u001b[34m\u001b[1mtrain: \u001b[0mWARNING ⚠️ /content/shelves-5/train/images/train_856_jpg.rf.4970ff21583dd5862ebcbfe038734bce.jpg: ignoring corrupt image/label: non-normalized or out of bounds coordinates [     1.0003      1.0142      1.0437      1.0498]\n",
            "\u001b[34m\u001b[1mtrain: \u001b[0mWARNING ⚠️ /content/shelves-5/train/images/train_856_jpg.rf.d76c2aef67db5873a24276d5281d2313.jpg: ignoring corrupt image/label: non-normalized or out of bounds coordinates [     1.0228      1.0493      1.0625]\n",
            "\u001b[34m\u001b[1mtrain: \u001b[0mWARNING ⚠️ /content/shelves-5/train/images/train_859_jpg.rf.4bf6ff53a8c2183b9c0cb13f6c7ce691.jpg: ignoring corrupt image/label: non-normalized or out of bounds coordinates [     1.0085]\n",
            "\u001b[34m\u001b[1mtrain: \u001b[0mWARNING ⚠️ /content/shelves-5/train/images/train_859_jpg.rf.b5e49a0c00bfa663f7a92294caaf4bb6.jpg: ignoring corrupt image/label: non-normalized or out of bounds coordinates [     1.0087]\n",
            "\u001b[34m\u001b[1mtrain: \u001b[0mWARNING ⚠️ /content/shelves-5/train/images/train_859_jpg.rf.df26454d07f30b9790b9fdb2bca7cba6.jpg: ignoring corrupt image/label: non-normalized or out of bounds coordinates [     1.0092]\n",
            "\u001b[34m\u001b[1mtrain: \u001b[0mWARNING ⚠️ /content/shelves-5/train/images/train_861_jpg.rf.969107825f85dd96fca85920f2bf3e77.jpg: ignoring corrupt image/label: non-normalized or out of bounds coordinates [          1      1.0036      1.0021      1.0012]\n",
            "\u001b[34m\u001b[1mtrain: \u001b[0mWARNING ⚠️ /content/shelves-5/train/images/train_863_jpg.rf.0bfa1c479611c6b798eca266c60c97f2.jpg: ignoring corrupt image/label: non-normalized or out of bounds coordinates [     1.0047      1.0061       1.008      1.0095       1.013      1.0159      1.0162]\n",
            "\u001b[34m\u001b[1mtrain: \u001b[0mWARNING ⚠️ /content/shelves-5/train/images/train_863_jpg.rf.a889c74f8ae267b56dc59d4e940d4528.jpg: ignoring corrupt image/label: non-normalized or out of bounds coordinates [     1.0047       1.006      1.0079      1.0093      1.0128      1.0156      1.0151]\n",
            "\u001b[34m\u001b[1mtrain: \u001b[0mWARNING ⚠️ /content/shelves-5/train/images/train_863_jpg.rf.dd1f75a2148a36f89ce2bc5a9cf37510.jpg: ignoring corrupt image/label: non-normalized or out of bounds coordinates [     1.0045      1.0058      1.0076      1.0077      1.0123       1.015      1.0141]\n",
            "\u001b[34m\u001b[1mtrain: \u001b[0mWARNING ⚠️ /content/shelves-5/train/images/train_864_jpg.rf.57a2bd8b6bfbc35793f929f0888a85e2.jpg: ignoring corrupt image/label: non-normalized or out of bounds coordinates [     1.0033]\n",
            "\u001b[34m\u001b[1mtrain: \u001b[0mWARNING ⚠️ /content/shelves-5/train/images/train_864_jpg.rf.bd961907f94f8bf1f79e803d3c35422f.jpg: ignoring corrupt image/label: non-normalized or out of bounds coordinates [     1.0034]\n",
            "\u001b[34m\u001b[1mtrain: \u001b[0mWARNING ⚠️ /content/shelves-5/train/images/train_867_jpg.rf.0356133fe7b05e9fb3594391cdedb168.jpg: ignoring corrupt image/label: non-normalized or out of bounds coordinates [      1.002      1.0035      1.0041]\n",
            "\u001b[34m\u001b[1mtrain: \u001b[0mWARNING ⚠️ /content/shelves-5/train/images/train_867_jpg.rf.405f2cf3b6f1e19887426143bde8acbb.jpg: ignoring corrupt image/label: non-normalized or out of bounds coordinates [      1.002      1.0035      1.0032]\n",
            "\u001b[34m\u001b[1mtrain: \u001b[0mWARNING ⚠️ /content/shelves-5/train/images/train_867_jpg.rf.c1543f1d6891626300650ec0a9ae1e75.jpg: ignoring corrupt image/label: non-normalized or out of bounds coordinates [      1.002      1.0036      1.0042]\n",
            "\u001b[34m\u001b[1mtrain: \u001b[0mWARNING ⚠️ /content/shelves-5/train/images/train_868_jpg.rf.20eb0b4534786de73aef8e56844483ee.jpg: ignoring corrupt image/label: non-normalized or out of bounds coordinates [     1.0042      1.0098      1.0132      1.0171]\n",
            "\u001b[34m\u001b[1mtrain: \u001b[0mWARNING ⚠️ /content/shelves-5/train/images/train_868_jpg.rf.7e91bce1001627928347b7a3b5aaca46.jpg: ignoring corrupt image/label: non-normalized or out of bounds coordinates [     1.0043      1.0104      1.0134      1.0177]\n",
            "\u001b[34m\u001b[1mtrain: \u001b[0mWARNING ⚠️ /content/shelves-5/train/images/train_868_jpg.rf.e088c79325dd56b0345b55d0268b2e32.jpg: ignoring corrupt image/label: non-normalized or out of bounds coordinates [     1.0042      1.0112      1.0132      1.0184]\n",
            "\u001b[34m\u001b[1mtrain: \u001b[0mWARNING ⚠️ /content/shelves-5/train/images/train_869_jpg.rf.29391b1a9eebb11d1dd87adc2e07c26e.jpg: ignoring corrupt image/label: non-normalized or out of bounds coordinates [     1.0127      1.0268      1.0733]\n",
            "\u001b[34m\u001b[1mtrain: \u001b[0mWARNING ⚠️ /content/shelves-5/train/images/train_869_jpg.rf.da7b60696d63b85dd55b0ae30f06cb0c.jpg: ignoring corrupt image/label: non-normalized or out of bounds coordinates [     1.0166      1.0257      1.0693]\n",
            "\u001b[34m\u001b[1mtrain: \u001b[0mWARNING ⚠️ /content/shelves-5/train/images/train_869_jpg.rf.eb0ec82d8da1e54b4f39809ecaf8afe1.jpg: ignoring corrupt image/label: non-normalized or out of bounds coordinates [     1.0153      1.0231      1.0647]\n",
            "\u001b[34m\u001b[1mtrain: \u001b[0mWARNING ⚠️ /content/shelves-5/train/images/train_872_jpg.rf.603e170256cc91902c9b23434d74d1ce.jpg: ignoring corrupt image/label: non-normalized or out of bounds coordinates [     1.0013      1.0007      1.0028      1.0028      1.0031      1.0027]\n",
            "\u001b[34m\u001b[1mtrain: \u001b[0mWARNING ⚠️ /content/shelves-5/train/images/train_872_jpg.rf.da683a7ed13d8dcd465b574d9b4231d7.jpg: ignoring corrupt image/label: non-normalized or out of bounds coordinates [     1.0007      1.0027      1.0028      1.0031      1.0026]\n",
            "\u001b[34m\u001b[1mtrain: \u001b[0mWARNING ⚠️ /content/shelves-5/train/images/train_872_jpg.rf.e13843486f5cf2493bb9c3ee7f674c53.jpg: ignoring corrupt image/label: non-normalized or out of bounds coordinates [     1.0013      1.0007       1.003       1.003      1.0032      1.0028]\n",
            "\u001b[34m\u001b[1mtrain: \u001b[0mWARNING ⚠️ /content/shelves-5/train/images/train_873_jpg.rf.114dd94dd477535f3c7fdb7d43be50d7.jpg: ignoring corrupt image/label: non-normalized or out of bounds coordinates [     1.0041      1.0032      1.0049]\n",
            "\u001b[34m\u001b[1mtrain: \u001b[0mWARNING ⚠️ /content/shelves-5/train/images/train_873_jpg.rf.1ee83361620643688658712f6c8b9b9a.jpg: ignoring corrupt image/label: non-normalized or out of bounds coordinates [     1.0041      1.0032      1.0048]\n",
            "\u001b[34m\u001b[1mtrain: \u001b[0mWARNING ⚠️ /content/shelves-5/train/images/train_873_jpg.rf.5cd276e99528e9b92e41837ffbcdd2c3.jpg: ignoring corrupt image/label: non-normalized or out of bounds coordinates [     1.0042      1.0034      1.0052]\n",
            "\u001b[34m\u001b[1mtrain: \u001b[0mWARNING ⚠️ /content/shelves-5/train/images/train_874_jpg.rf.5add556e52499ac06f57c84905c25339.jpg: ignoring corrupt image/label: non-normalized or out of bounds coordinates [     1.0016]\n",
            "\u001b[34m\u001b[1mtrain: \u001b[0mWARNING ⚠️ /content/shelves-5/train/images/train_874_jpg.rf.9c4e4147c57761236be63ee986cac1a5.jpg: ignoring corrupt image/label: non-normalized or out of bounds coordinates [     1.0015]\n",
            "\u001b[34m\u001b[1mtrain: \u001b[0mWARNING ⚠️ /content/shelves-5/train/images/train_874_jpg.rf.d5b859be7e64c1276e08639c07738c44.jpg: ignoring corrupt image/label: non-normalized or out of bounds coordinates [     1.0015]\n",
            "\u001b[34m\u001b[1mtrain: \u001b[0mWARNING ⚠️ /content/shelves-5/train/images/train_875_jpg.rf.543c59da444b6175f2a5285a12c4acee.jpg: ignoring corrupt image/label: non-normalized or out of bounds coordinates [     1.0088      1.0277]\n",
            "\u001b[34m\u001b[1mtrain: \u001b[0mWARNING ⚠️ /content/shelves-5/train/images/train_875_jpg.rf.c4d325f69859e6bcd52d6a3488930056.jpg: ignoring corrupt image/label: non-normalized or out of bounds coordinates [     1.0356       1.004       1.055      1.0228]\n",
            "\u001b[34m\u001b[1mtrain: \u001b[0mWARNING ⚠️ /content/shelves-5/train/images/train_875_jpg.rf.f7f6f625539ea1f38e61ec46fdabe2d1.jpg: ignoring corrupt image/label: non-normalized or out of bounds coordinates [     1.0095      1.0283]\n",
            "\u001b[34m\u001b[1mtrain: \u001b[0mWARNING ⚠️ /content/shelves-5/train/images/train_879_jpg.rf.c7c929c87c31386faa4adaac2aae2579.jpg: ignoring corrupt image/label: non-normalized or out of bounds coordinates [     1.0036]\n",
            "\u001b[34m\u001b[1mtrain: \u001b[0mWARNING ⚠️ /content/shelves-5/train/images/train_880_jpg.rf.1abb83ce8b28934c319f5929a9db9e52.jpg: ignoring corrupt image/label: non-normalized or out of bounds coordinates [          1      1.0092      1.0017]\n",
            "\u001b[34m\u001b[1mtrain: \u001b[0mWARNING ⚠️ /content/shelves-5/train/images/train_880_jpg.rf.a163587f4e64e42071190bba92acab90.jpg: ignoring corrupt image/label: non-normalized or out of bounds coordinates [          1      1.0098      1.0069      1.0058      1.0042      1.0018]\n",
            "\u001b[34m\u001b[1mtrain: \u001b[0mWARNING ⚠️ /content/shelves-5/train/images/train_880_jpg.rf.b072abaf74a7fd79e2750cc631595cfe.jpg: ignoring corrupt image/label: non-normalized or out of bounds coordinates [          1      1.0092      1.0017]\n",
            "\u001b[34m\u001b[1mtrain: \u001b[0mWARNING ⚠️ /content/shelves-5/train/images/train_881_jpg.rf.617e0b7456fc7e8a6df70a88ba53c53f.jpg: ignoring corrupt image/label: non-normalized or out of bounds coordinates [     1.0099       1.066       1.054]\n",
            "\u001b[34m\u001b[1mtrain: \u001b[0mWARNING ⚠️ /content/shelves-5/train/images/train_881_jpg.rf.903477963b55a86a937cf9fb04fd9a04.jpg: ignoring corrupt image/label: non-normalized or out of bounds coordinates [     1.0094      1.0637      1.0441]\n",
            "\u001b[34m\u001b[1mtrain: \u001b[0mWARNING ⚠️ /content/shelves-5/train/images/train_881_jpg.rf.a6368d06a256d8a9e14b36c2a418f9fd.jpg: ignoring corrupt image/label: non-normalized or out of bounds coordinates [     1.0635      1.0445]\n",
            "\u001b[34m\u001b[1mtrain: \u001b[0mWARNING ⚠️ /content/shelves-5/train/images/train_882_jpg.rf.17cbff9f0b03e3d27d9dab635f2e4f67.jpg: ignoring corrupt image/label: non-normalized or out of bounds coordinates [     1.0009           1      1.0007      1.0013      1.0016      1.0017]\n",
            "\u001b[34m\u001b[1mtrain: \u001b[0mWARNING ⚠️ /content/shelves-5/train/images/train_882_jpg.rf.6b9f3ee5424208f1de0bacaa75c027cc.jpg: ignoring corrupt image/label: non-normalized or out of bounds coordinates [     1.0011           1      1.0007       1.001      1.0016      1.0018]\n",
            "\u001b[34m\u001b[1mtrain: \u001b[0mWARNING ⚠️ /content/shelves-5/train/images/train_882_jpg.rf.f6e7c45d7a8daca31fa6798731751beb.jpg: ignoring corrupt image/label: non-normalized or out of bounds coordinates [     1.0011           1      1.0007      1.0013      1.0015      1.0018]\n",
            "\u001b[34m\u001b[1mtrain: \u001b[0mWARNING ⚠️ /content/shelves-5/train/images/train_884_jpg.rf.58334a2fe630f56235a06a9174c7c608.jpg: ignoring corrupt image/label: non-normalized or out of bounds coordinates [     1.0024      1.0026]\n",
            "\u001b[34m\u001b[1mtrain: \u001b[0mWARNING ⚠️ /content/shelves-5/train/images/train_884_jpg.rf.6b219a7db5e4e1f959d8042f97534216.jpg: ignoring corrupt image/label: non-normalized or out of bounds coordinates [     1.0024      1.0021]\n",
            "\u001b[34m\u001b[1mtrain: \u001b[0mWARNING ⚠️ /content/shelves-5/train/images/train_884_jpg.rf.a188f3b58dde052797c90f44c80cedc8.jpg: ignoring corrupt image/label: non-normalized or out of bounds coordinates [     1.0024]\n",
            "\u001b[34m\u001b[1mtrain: \u001b[0mWARNING ⚠️ /content/shelves-5/train/images/train_886_jpg.rf.02f0f47fc80344ec7930e335714f4fb5.jpg: ignoring corrupt image/label: non-normalized or out of bounds coordinates [     1.0055      1.0067           1]\n",
            "\u001b[34m\u001b[1mtrain: \u001b[0mWARNING ⚠️ /content/shelves-5/train/images/train_886_jpg.rf.485e3f09a7c267efeb568ab37c42242f.jpg: ignoring corrupt image/label: non-normalized or out of bounds coordinates [     1.0056      1.0068           1]\n",
            "\u001b[34m\u001b[1mtrain: \u001b[0mWARNING ⚠️ /content/shelves-5/train/images/train_886_jpg.rf.71b350aecf8b3805c6084b26392feb16.jpg: ignoring corrupt image/label: non-normalized or out of bounds coordinates [     1.0053      1.0065           1]\n",
            "\u001b[34m\u001b[1mtrain: \u001b[0mWARNING ⚠️ /content/shelves-5/train/images/train_891_jpg.rf.26969aab5df5f8b4272562cdc7ab811a.jpg: ignoring corrupt image/label: non-normalized or out of bounds coordinates [     1.0126      1.0059       1.002      1.0001      1.0029      1.0061      1.0088]\n",
            "\u001b[34m\u001b[1mtrain: \u001b[0mWARNING ⚠️ /content/shelves-5/train/images/train_891_jpg.rf.3425ceeac9de4ce355b1429b73740307.jpg: ignoring corrupt image/label: non-normalized or out of bounds coordinates [     1.0138      1.0072      1.0021      1.0001      1.0031      1.0065      1.0089]\n",
            "\u001b[34m\u001b[1mtrain: \u001b[0mWARNING ⚠️ /content/shelves-5/train/images/train_891_jpg.rf.5562296bcd5381d6a020aed5d1017f54.jpg: ignoring corrupt image/label: non-normalized or out of bounds coordinates [     1.0134      1.0067      1.0019      1.0001      1.0029       1.006      1.0087]\n",
            "\u001b[34m\u001b[1mtrain: \u001b[0mWARNING ⚠️ /content/shelves-5/train/images/train_892_jpg.rf.9a0d91575824206c166cf3a7c0dca87c.jpg: ignoring corrupt image/label: non-normalized or out of bounds coordinates [     1.0043      1.0026           1      1.0024      1.0003]\n",
            "\u001b[34m\u001b[1mtrain: \u001b[0mWARNING ⚠️ /content/shelves-5/train/images/train_892_jpg.rf.bc2666121b6c29abfb178fdf7da08038.jpg: ignoring corrupt image/label: non-normalized or out of bounds coordinates [     1.0026      1.0024      1.0003]\n",
            "\u001b[34m\u001b[1mtrain: \u001b[0mWARNING ⚠️ /content/shelves-5/train/images/train_892_jpg.rf.d0c98855b2d2c89e17bc4bf0a0467cba.jpg: ignoring corrupt image/label: non-normalized or out of bounds coordinates [     1.0042      1.0025           1      1.0023      1.0003]\n",
            "\u001b[34m\u001b[1mtrain: \u001b[0mWARNING ⚠️ /content/shelves-5/train/images/train_893_jpg.rf.4b99557b065e594baf6b82fa76cf287f.jpg: ignoring corrupt image/label: non-normalized or out of bounds coordinates [      1.001      1.0037      1.0056      1.0056]\n",
            "\u001b[34m\u001b[1mtrain: \u001b[0mWARNING ⚠️ /content/shelves-5/train/images/train_893_jpg.rf.7c18c9b9645d2d448ff26cd62f5635bd.jpg: ignoring corrupt image/label: non-normalized or out of bounds coordinates [      1.001      1.0038      1.0057      1.0056]\n",
            "\u001b[34m\u001b[1mtrain: \u001b[0mWARNING ⚠️ /content/shelves-5/train/images/train_893_jpg.rf.b9a5238d1d42440b06ad6c95916e3bf1.jpg: ignoring corrupt image/label: non-normalized or out of bounds coordinates [     1.0011       1.004       1.006      1.0059]\n",
            "\u001b[34m\u001b[1mtrain: \u001b[0mWARNING ⚠️ /content/shelves-5/train/images/train_894_jpg.rf.17c337ccd465c1e0fb8b195200097a82.jpg: ignoring corrupt image/label: non-normalized or out of bounds coordinates [     1.0006      1.0029      1.0033]\n",
            "\u001b[34m\u001b[1mtrain: \u001b[0mWARNING ⚠️ /content/shelves-5/train/images/train_894_jpg.rf.1825f2990ef7dbe7115cc0fd2ebf69f5.jpg: ignoring corrupt image/label: non-normalized or out of bounds coordinates [     1.0007      1.0005      1.0002      1.0022       1.003      1.0034]\n",
            "\u001b[34m\u001b[1mtrain: \u001b[0mWARNING ⚠️ /content/shelves-5/train/images/train_894_jpg.rf.349814304e532c994c22fbabe7921b1a.jpg: ignoring corrupt image/label: non-normalized or out of bounds coordinates [     1.0006      1.0003       1.002      1.0028      1.0032]\n",
            "\u001b[34m\u001b[1mtrain: \u001b[0mWARNING ⚠️ /content/shelves-5/train/images/train_895_jpg.rf.5366598548e7e05ed3ab072e3bf91290.jpg: ignoring corrupt image/label: non-normalized or out of bounds coordinates [      1.001]\n",
            "\u001b[34m\u001b[1mtrain: \u001b[0mWARNING ⚠️ /content/shelves-5/train/images/train_896_jpg.rf.94ec48e269143a555556e634dea1497e.jpg: ignoring corrupt image/label: non-normalized or out of bounds coordinates [     1.0028      1.0007      1.0009]\n",
            "\u001b[34m\u001b[1mtrain: \u001b[0mWARNING ⚠️ /content/shelves-5/train/images/train_896_jpg.rf.95b2dd29b9b030e8a22059bba0cbbb5c.jpg: ignoring corrupt image/label: non-normalized or out of bounds coordinates [     1.0028      1.0007      1.0009]\n",
            "\u001b[34m\u001b[1mtrain: \u001b[0mWARNING ⚠️ /content/shelves-5/train/images/train_896_jpg.rf.a2340c71148eaac77957cf0b02ac9528.jpg: ignoring corrupt image/label: non-normalized or out of bounds coordinates [     1.0028           1      1.0018]\n",
            "\u001b[34m\u001b[1mtrain: \u001b[0mWARNING ⚠️ /content/shelves-5/train/images/train_897_jpg.rf.a1267da52064c64ab1b13cab74ea2769.jpg: ignoring corrupt image/label: non-normalized or out of bounds coordinates [     1.0041       1.007]\n",
            "\u001b[34m\u001b[1mtrain: \u001b[0mWARNING ⚠️ /content/shelves-5/train/images/train_897_jpg.rf.a65de03bb2a70033bb3be1893b23eaa4.jpg: ignoring corrupt image/label: non-normalized or out of bounds coordinates [     1.0025]\n",
            "\u001b[34m\u001b[1mtrain: \u001b[0mWARNING ⚠️ /content/shelves-5/train/images/train_897_jpg.rf.f01e235bbd939d972ac52bb2210f9fa6.jpg: ignoring corrupt image/label: non-normalized or out of bounds coordinates [     1.0036]\n",
            "\u001b[34m\u001b[1mtrain: \u001b[0mWARNING ⚠️ /content/shelves-5/train/images/train_898_jpg.rf.29a9fe97961604f726c19f8439c7f9bc.jpg: ignoring corrupt image/label: non-normalized or out of bounds coordinates [      1.002       1.004]\n",
            "\u001b[34m\u001b[1mtrain: \u001b[0mWARNING ⚠️ /content/shelves-5/train/images/train_898_jpg.rf.707cc86fbc9ae2f2590601f9ae46ff52.jpg: ignoring corrupt image/label: non-normalized or out of bounds coordinates [     1.0019      1.0038]\n",
            "\u001b[34m\u001b[1mtrain: \u001b[0mWARNING ⚠️ /content/shelves-5/train/images/train_898_jpg.rf.93ec2e1e903a5a9dfe5e0c879cc7e609.jpg: ignoring corrupt image/label: non-normalized or out of bounds coordinates [      1.002       1.004]\n",
            "\u001b[34m\u001b[1mtrain: \u001b[0mWARNING ⚠️ /content/shelves-5/train/images/train_899_jpg.rf.41b72fad7add12dbcccf31cc6714aa4a.jpg: ignoring corrupt image/label: non-normalized or out of bounds coordinates [     1.0033           1]\n",
            "\u001b[34m\u001b[1mtrain: \u001b[0mWARNING ⚠️ /content/shelves-5/train/images/train_899_jpg.rf.4f62b42146914eb2304af983bbc3f9f5.jpg: ignoring corrupt image/label: non-normalized or out of bounds coordinates [     1.0021]\n",
            "\u001b[34m\u001b[1mtrain: \u001b[0mWARNING ⚠️ /content/shelves-5/train/images/train_899_jpg.rf.6f7a8f15a42175145eb4682202f3d953.jpg: ignoring corrupt image/label: non-normalized or out of bounds coordinates [     1.0034           1]\n",
            "\u001b[34m\u001b[1mtrain: \u001b[0mWARNING ⚠️ /content/shelves-5/train/images/train_904_jpg.rf.a84bdfd9aa9c424e99041985489deee5.jpg: ignoring corrupt image/label: non-normalized or out of bounds coordinates [     1.0097      1.0032]\n",
            "\u001b[34m\u001b[1mtrain: \u001b[0mWARNING ⚠️ /content/shelves-5/train/images/train_904_jpg.rf.ccfae545492a9fb2fcf6fe88398a9412.jpg: ignoring corrupt image/label: non-normalized or out of bounds coordinates [     1.0099      1.0032      1.0096]\n",
            "\u001b[34m\u001b[1mtrain: \u001b[0mWARNING ⚠️ /content/shelves-5/train/images/train_904_jpg.rf.fbc51b2e7ec93571516d4479b0427690.jpg: ignoring corrupt image/label: non-normalized or out of bounds coordinates [     1.0067      1.0029]\n",
            "\u001b[34m\u001b[1mtrain: \u001b[0mWARNING ⚠️ /content/shelves-5/train/images/train_906_jpg.rf.132e3456b0ade45862752001c6dc7d47.jpg: ignoring corrupt image/label: non-normalized or out of bounds coordinates [     1.0171      1.0008      1.0128      1.0276      1.0313      1.0359]\n",
            "\u001b[34m\u001b[1mtrain: \u001b[0mWARNING ⚠️ /content/shelves-5/train/images/train_906_jpg.rf.3015bae79387a35ceb58f43bbc66955d.jpg: ignoring corrupt image/label: non-normalized or out of bounds coordinates [     1.0167      1.0008      1.0126      1.0133      1.0108      1.0207]\n",
            "\u001b[34m\u001b[1mtrain: \u001b[0mWARNING ⚠️ /content/shelves-5/train/images/train_906_jpg.rf.83fa0e452eda107e44d746705db77e8a.jpg: ignoring corrupt image/label: non-normalized or out of bounds coordinates [     1.0163      1.0008      1.0122      1.0238      1.0233       1.023]\n",
            "\u001b[34m\u001b[1mtrain: \u001b[0mWARNING ⚠️ /content/shelves-5/train/images/train_908_jpg.rf.1eb60dffbe404693d5c19fd50d5e42f8.jpg: ignoring corrupt image/label: non-normalized or out of bounds coordinates [     1.0054      1.0023      1.0034]\n",
            "\u001b[34m\u001b[1mtrain: \u001b[0mWARNING ⚠️ /content/shelves-5/train/images/train_908_jpg.rf.5ac0a300ae6af63b1d518daa06af9a27.jpg: ignoring corrupt image/label: non-normalized or out of bounds coordinates [      1.009      1.0057      1.0024      1.0036]\n",
            "\u001b[34m\u001b[1mtrain: \u001b[0mWARNING ⚠️ /content/shelves-5/train/images/train_908_jpg.rf.68cfc1c7275061374a0ab85ebc1543e4.jpg: ignoring corrupt image/label: non-normalized or out of bounds coordinates [     1.0058      1.0024      1.0037]\n",
            "\u001b[34m\u001b[1mtrain: \u001b[0mWARNING ⚠️ /content/shelves-5/train/images/train_913_jpg.rf.30816536715e21eb389b3079808783db.jpg: ignoring corrupt image/label: non-normalized or out of bounds coordinates [     1.0005]\n",
            "\u001b[34m\u001b[1mtrain: \u001b[0mWARNING ⚠️ /content/shelves-5/train/images/train_913_jpg.rf.5139a7ea68a3719227b280562ff8b5df.jpg: ignoring corrupt image/label: non-normalized or out of bounds coordinates [     1.0005]\n",
            "\u001b[34m\u001b[1mtrain: \u001b[0mWARNING ⚠️ /content/shelves-5/train/images/train_913_jpg.rf.f7bd81912dde3227360a5f3170b32745.jpg: ignoring corrupt image/label: non-normalized or out of bounds coordinates [     1.0004]\n",
            "\u001b[34m\u001b[1mtrain: \u001b[0mWARNING ⚠️ /content/shelves-5/train/images/train_916_jpg.rf.41f92d9c9fa3d64ea077d5481fc85a94.jpg: ignoring corrupt image/label: non-normalized or out of bounds coordinates [     1.0023      1.0008      1.0019      1.0008      1.0013      1.0017      1.0027]\n",
            "\u001b[34m\u001b[1mtrain: \u001b[0mWARNING ⚠️ /content/shelves-5/train/images/train_916_jpg.rf.4816251e5d98f546030bd81829f61623.jpg: ignoring corrupt image/label: non-normalized or out of bounds coordinates [          1      1.0023      1.0008      1.0019      1.0008      1.0012      1.0016      1.0026]\n",
            "\u001b[34m\u001b[1mtrain: \u001b[0mWARNING ⚠️ /content/shelves-5/train/images/train_916_jpg.rf.869f933be742e8fb2ef6745a51366ecc.jpg: ignoring corrupt image/label: non-normalized or out of bounds coordinates [     1.0022      1.0008      1.0019      1.0008      1.0012      1.0016      1.0026]\n",
            "\u001b[34m\u001b[1mtrain: \u001b[0mWARNING ⚠️ /content/shelves-5/train/images/train_917_jpg.rf.74cb8494eae6f097f4c9f797982bb318.jpg: ignoring corrupt image/label: non-normalized or out of bounds coordinates [     1.0084]\n",
            "\u001b[34m\u001b[1mtrain: \u001b[0mWARNING ⚠️ /content/shelves-5/train/images/train_917_jpg.rf.83d2d0d0fecca4381a04147d1c34a935.jpg: ignoring corrupt image/label: non-normalized or out of bounds coordinates [      1.008]\n",
            "\u001b[34m\u001b[1mtrain: \u001b[0mWARNING ⚠️ /content/shelves-5/train/images/train_917_jpg.rf.bf2c6c754337b3e99b3d9f27e8f219ee.jpg: ignoring corrupt image/label: non-normalized or out of bounds coordinates [     1.0067]\n",
            "\u001b[34m\u001b[1mtrain: \u001b[0mWARNING ⚠️ /content/shelves-5/train/images/train_918_jpg.rf.2560ccad9f69af850ff508ee18d8f3b0.jpg: ignoring corrupt image/label: non-normalized or out of bounds coordinates [     1.0321      1.0585]\n",
            "\u001b[34m\u001b[1mtrain: \u001b[0mWARNING ⚠️ /content/shelves-5/train/images/train_918_jpg.rf.46de56a81c8f2197f2ef5800d931ea3a.jpg: ignoring corrupt image/label: non-normalized or out of bounds coordinates [     1.0289       1.059]\n",
            "\u001b[34m\u001b[1mtrain: \u001b[0mWARNING ⚠️ /content/shelves-5/train/images/train_918_jpg.rf.69717136df92ef71e29ba2ac35f0d8b3.jpg: ignoring corrupt image/label: non-normalized or out of bounds coordinates [     1.0315      1.0565]\n",
            "\u001b[34m\u001b[1mtrain: \u001b[0mWARNING ⚠️ /content/shelves-5/train/images/train_919_jpg.rf.69051c5ff0d65ec4b8a23a10ce357ed8.jpg: ignoring corrupt image/label: non-normalized or out of bounds coordinates [     1.0085      1.0074]\n",
            "\u001b[34m\u001b[1mtrain: \u001b[0mWARNING ⚠️ /content/shelves-5/train/images/train_919_jpg.rf.ce3192c06bffaead0be79c58bd9e3998.jpg: ignoring corrupt image/label: non-normalized or out of bounds coordinates [      1.009      1.0079]\n",
            "\u001b[34m\u001b[1mtrain: \u001b[0mWARNING ⚠️ /content/shelves-5/train/images/train_919_jpg.rf.e5204055e607c0002a1d24063d4f1ad5.jpg: ignoring corrupt image/label: non-normalized or out of bounds coordinates [     1.0084      1.0074]\n",
            "\u001b[34m\u001b[1mtrain: \u001b[0mWARNING ⚠️ /content/shelves-5/train/images/train_921_jpg.rf.11ea095ffdedf93c8f6e2a2bb79fe3e3.jpg: ignoring corrupt image/label: non-normalized or out of bounds coordinates [      1.008      1.0084      1.0075      1.0055      1.0052      1.0064      1.0062]\n",
            "\u001b[34m\u001b[1mtrain: \u001b[0mWARNING ⚠️ /content/shelves-5/train/images/train_921_jpg.rf.bf7176a2b28505310f0bfb86e4519286.jpg: ignoring corrupt image/label: non-normalized or out of bounds coordinates [      1.008      1.0084      1.0075      1.0056      1.0052      1.0064      1.0063]\n",
            "\u001b[34m\u001b[1mtrain: \u001b[0mWARNING ⚠️ /content/shelves-5/train/images/train_921_jpg.rf.e7be1eadbf58ab0933e625d8c30270e2.jpg: ignoring corrupt image/label: non-normalized or out of bounds coordinates [     1.0084      1.0089      1.0079      1.0058      1.0055      1.0068      1.0066]\n",
            "\u001b[34m\u001b[1mtrain: \u001b[0mWARNING ⚠️ /content/shelves-5/train/images/train_922_jpg.rf.20a5a44064457b00ccef0bec66dcb283.jpg: ignoring corrupt image/label: non-normalized or out of bounds coordinates [     1.0051      1.0078]\n",
            "\u001b[34m\u001b[1mtrain: \u001b[0mWARNING ⚠️ /content/shelves-5/train/images/train_922_jpg.rf.638f0fabc52bc661adf990f3a6f864ed.jpg: ignoring corrupt image/label: non-normalized or out of bounds coordinates [     1.0053      1.0081]\n",
            "\u001b[34m\u001b[1mtrain: \u001b[0mWARNING ⚠️ /content/shelves-5/train/images/train_922_jpg.rf.76cf50a6c653a37df2c598d40d350a67.jpg: ignoring corrupt image/label: non-normalized or out of bounds coordinates [     1.0054      1.0083]\n",
            "\u001b[34m\u001b[1mtrain: \u001b[0mWARNING ⚠️ /content/shelves-5/train/images/train_923_jpg.rf.18fd99ecb37b5faddb7407aa27e18583.jpg: ignoring corrupt image/label: non-normalized or out of bounds coordinates [     1.0015      1.0002      1.0007      1.0008      1.0001      1.0002]\n",
            "\u001b[34m\u001b[1mtrain: \u001b[0mWARNING ⚠️ /content/shelves-5/train/images/train_923_jpg.rf.5bbdf1285fc12103c70b35927aceffc3.jpg: ignoring corrupt image/label: non-normalized or out of bounds coordinates [     1.0004      1.0008      1.0006      1.0001      1.0002]\n",
            "\u001b[34m\u001b[1mtrain: \u001b[0mWARNING ⚠️ /content/shelves-5/train/images/train_923_jpg.rf.6e667f919c4ec51bc3eb315657b7691e.jpg: ignoring corrupt image/label: non-normalized or out of bounds coordinates [     1.0004      1.0008      1.0006      1.0001      1.0002]\n",
            "\u001b[34m\u001b[1mtrain: \u001b[0mWARNING ⚠️ /content/shelves-5/train/images/train_925_jpg.rf.353234a8cd243ff07f08c9c2bc4e56f3.jpg: ignoring corrupt image/label: non-normalized or out of bounds coordinates [     1.0028      1.0065      1.0034      1.0032      1.0011      1.0026]\n",
            "\u001b[34m\u001b[1mtrain: \u001b[0mWARNING ⚠️ /content/shelves-5/train/images/train_925_jpg.rf.93640fde328cf6ecef46ee6e00231e0f.jpg: ignoring corrupt image/label: non-normalized or out of bounds coordinates [     1.0026      1.0061      1.0032      1.0033      1.0011      1.0024]\n",
            "\u001b[34m\u001b[1mtrain: \u001b[0mWARNING ⚠️ /content/shelves-5/train/images/train_925_jpg.rf.dc31bd8dd83887e374ac24ae322df971.jpg: ignoring corrupt image/label: non-normalized or out of bounds coordinates [     1.0026      1.0062      1.0032      1.0031      1.0011      1.0025]\n",
            "\u001b[34m\u001b[1mtrain: \u001b[0mWARNING ⚠️ /content/shelves-5/train/images/train_931_jpg.rf.16bfbf3179e34bbfbc9125581cb8cc40.jpg: ignoring corrupt image/label: non-normalized or out of bounds coordinates [     1.0017      1.0037      1.0041      1.0084]\n",
            "\u001b[34m\u001b[1mtrain: \u001b[0mWARNING ⚠️ /content/shelves-5/train/images/train_931_jpg.rf.3063611aa60d620a22b504ac88eae58c.jpg: ignoring corrupt image/label: non-normalized or out of bounds coordinates [     1.0017      1.0036      1.0039       1.008]\n",
            "\u001b[34m\u001b[1mtrain: \u001b[0mWARNING ⚠️ /content/shelves-5/train/images/train_931_jpg.rf.34c21a2e5ff0c47e7ae73811cedd6ffd.jpg: ignoring corrupt image/label: non-normalized or out of bounds coordinates [     1.0017      1.0037       1.004      1.0083]\n",
            "\u001b[34m\u001b[1mtrain: \u001b[0mWARNING ⚠️ /content/shelves-5/train/images/train_932_jpg.rf.5d0290c92a23515e6e83f17c20301bf3.jpg: ignoring corrupt image/label: non-normalized or out of bounds coordinates [     1.0265      1.0631]\n",
            "\u001b[34m\u001b[1mtrain: \u001b[0mWARNING ⚠️ /content/shelves-5/train/images/train_932_jpg.rf.99c9724940dd8b947b84433586d73da9.jpg: ignoring corrupt image/label: non-normalized or out of bounds coordinates [     1.0258       1.062]\n",
            "\u001b[34m\u001b[1mtrain: \u001b[0mWARNING ⚠️ /content/shelves-5/train/images/train_932_jpg.rf.c2c0ac05cbc1122a7d6b11b3ac5581d9.jpg: ignoring corrupt image/label: non-normalized or out of bounds coordinates [     1.0284      1.0647]\n",
            "\u001b[34m\u001b[1mtrain: \u001b[0mWARNING ⚠️ /content/shelves-5/train/images/train_936_jpg.rf.899cd4d54f82a0f4546580b33ebab1b2.jpg: ignoring corrupt image/label: non-normalized or out of bounds coordinates [     1.0054       1.005]\n",
            "\u001b[34m\u001b[1mtrain: \u001b[0mWARNING ⚠️ /content/shelves-5/train/images/train_936_jpg.rf.ae131b3dc675980dd3a7bebe1d0b39f2.jpg: ignoring corrupt image/label: non-normalized or out of bounds coordinates [     1.0013      1.0047]\n",
            "\u001b[34m\u001b[1mtrain: \u001b[0mWARNING ⚠️ /content/shelves-5/train/images/train_936_jpg.rf.d9c82c5fcea741a03edf9a69c655d7be.jpg: ignoring corrupt image/label: non-normalized or out of bounds coordinates [     1.0053       1.005]\n",
            "\u001b[34m\u001b[1mtrain: \u001b[0mWARNING ⚠️ /content/shelves-5/train/images/train_938_jpg.rf.04cbd04ce27cbe09a201cda45fe49062.jpg: ignoring corrupt image/label: non-normalized or out of bounds coordinates [     1.0071]\n",
            "\u001b[34m\u001b[1mtrain: \u001b[0mWARNING ⚠️ /content/shelves-5/train/images/train_938_jpg.rf.22084e2b5374647f2a48550bf74533c5.jpg: ignoring corrupt image/label: non-normalized or out of bounds coordinates [     1.0071]\n",
            "\u001b[34m\u001b[1mtrain: \u001b[0mWARNING ⚠️ /content/shelves-5/train/images/train_938_jpg.rf.d97fefbea3246afb4ee5b6c5f570c043.jpg: ignoring corrupt image/label: non-normalized or out of bounds coordinates [      1.007]\n",
            "\u001b[34m\u001b[1mtrain: \u001b[0mWARNING ⚠️ /content/shelves-5/train/images/train_940_jpg.rf.2b20b350f5188b93407212a4564c0674.jpg: ignoring corrupt image/label: non-normalized or out of bounds coordinates [     1.0223      1.0009       1.014      1.0667      1.0853      1.0579]\n",
            "\u001b[34m\u001b[1mtrain: \u001b[0mWARNING ⚠️ /content/shelves-5/train/images/train_940_jpg.rf.e8e08edc7c6656302d412264f4eb605e.jpg: ignoring corrupt image/label: non-normalized or out of bounds coordinates [     1.0276      1.0009      1.0134      1.0628      1.0804      1.0536]\n",
            "\u001b[34m\u001b[1mtrain: \u001b[0mWARNING ⚠️ /content/shelves-5/train/images/train_940_jpg.rf.eae8388a03be9f578818920e8bd8d355.jpg: ignoring corrupt image/label: non-normalized or out of bounds coordinates [     1.0272      1.0009      1.0138      1.0655      1.0837      1.0479]\n",
            "\u001b[34m\u001b[1mtrain: \u001b[0mWARNING ⚠️ /content/shelves-5/train/images/train_941_jpg.rf.16ea3832dfe3712a9597e03d891bd759.jpg: ignoring corrupt image/label: non-normalized or out of bounds coordinates [     1.0129      1.0294      1.0035      1.0241      1.0289]\n",
            "\u001b[34m\u001b[1mtrain: \u001b[0mWARNING ⚠️ /content/shelves-5/train/images/train_941_jpg.rf.4e5f3ddc831aa18c73ac05bb47500a30.jpg: ignoring corrupt image/label: non-normalized or out of bounds coordinates [     1.0294      1.0035      1.0241      1.0401]\n",
            "\u001b[34m\u001b[1mtrain: \u001b[0mWARNING ⚠️ /content/shelves-5/train/images/train_941_jpg.rf.9698ec271c4a8780109ffc5b9904c935.jpg: ignoring corrupt image/label: non-normalized or out of bounds coordinates [     1.0126      1.0282      1.0033      1.0231      1.0278]\n",
            "\u001b[34m\u001b[1mtrain: \u001b[0mWARNING ⚠️ /content/shelves-5/train/images/train_942_jpg.rf.03d2610a4a7639f7b60a3c964c79702b.jpg: ignoring corrupt image/label: non-normalized or out of bounds coordinates [     1.0118      1.0076      1.0044      1.0029      1.0033      1.0037]\n",
            "\u001b[34m\u001b[1mtrain: \u001b[0mWARNING ⚠️ /content/shelves-5/train/images/train_942_jpg.rf.19e8f022fabc1a4ffbbb8057e2793adb.jpg: ignoring corrupt image/label: non-normalized or out of bounds coordinates [     1.0103      1.0051      1.0021      1.0032      1.0013]\n",
            "\u001b[34m\u001b[1mtrain: \u001b[0mWARNING ⚠️ /content/shelves-5/train/images/train_942_jpg.rf.a53b53c754b82645e9ea68b02737c55a.jpg: ignoring corrupt image/label: non-normalized or out of bounds coordinates [      1.012      1.0076      1.0045      1.0029      1.0034      1.0037]\n",
            "\u001b[34m\u001b[1mtrain: \u001b[0mWARNING ⚠️ /content/shelves-5/train/images/train_943_jpg.rf.32acebdf66aaa8421fbe234eb600a02f.jpg: ignoring corrupt image/label: non-normalized or out of bounds coordinates [     1.0168      1.0171      1.0541      1.0576]\n",
            "\u001b[34m\u001b[1mtrain: \u001b[0mWARNING ⚠️ /content/shelves-5/train/images/train_943_jpg.rf.7e33b001cf87098ab0dbc04e74046bc3.jpg: ignoring corrupt image/label: non-normalized or out of bounds coordinates [      1.016      1.0163      1.0503      1.0589]\n",
            "\u001b[34m\u001b[1mtrain: \u001b[0mWARNING ⚠️ /content/shelves-5/train/images/train_943_jpg.rf.f66fed5e55e2c3f73c4e084b61bfb2b7.jpg: ignoring corrupt image/label: non-normalized or out of bounds coordinates [     1.0161      1.0164      1.0508      1.0707]\n",
            "\u001b[34m\u001b[1mtrain: \u001b[0mWARNING ⚠️ /content/shelves-5/train/images/train_945_jpg.rf.58174c49fb62b25953ea5414255edcde.jpg: ignoring corrupt image/label: non-normalized or out of bounds coordinates [     1.0021]\n",
            "\u001b[34m\u001b[1mtrain: \u001b[0mWARNING ⚠️ /content/shelves-5/train/images/train_945_jpg.rf.97ec387e83ed24457b88eb7acadd1dee.jpg: ignoring corrupt image/label: non-normalized or out of bounds coordinates [      1.002]\n",
            "\u001b[34m\u001b[1mtrain: \u001b[0mWARNING ⚠️ /content/shelves-5/train/images/train_945_jpg.rf.bdf57e9cce8f966bbec297aadd04a22e.jpg: ignoring corrupt image/label: non-normalized or out of bounds coordinates [     1.0021]\n",
            "\u001b[34m\u001b[1mtrain: \u001b[0mWARNING ⚠️ /content/shelves-5/train/images/train_948_jpg.rf.78a613d1e8251ea4268ee0426e32394d.jpg: ignoring corrupt image/label: non-normalized or out of bounds coordinates [     1.0014      1.0036      1.0049       1.004       1.004]\n",
            "\u001b[34m\u001b[1mtrain: \u001b[0mWARNING ⚠️ /content/shelves-5/train/images/train_948_jpg.rf.9b3ffc431547caa574f4013769d56ddc.jpg: ignoring corrupt image/label: non-normalized or out of bounds coordinates [     1.0014      1.0036      1.0049       1.004      1.0047      1.0047]\n",
            "\u001b[34m\u001b[1mtrain: \u001b[0mWARNING ⚠️ /content/shelves-5/train/images/train_948_jpg.rf.cc638a2e07b1d4ef9331d9010dacec5e.jpg: ignoring corrupt image/label: non-normalized or out of bounds coordinates [     1.0008      1.0027]\n",
            "\u001b[34m\u001b[1mtrain: \u001b[0mWARNING ⚠️ /content/shelves-5/train/images/train_949_jpg.rf.2b7d4c0283679ab9c2038efb63f0e69e.jpg: ignoring corrupt image/label: non-normalized or out of bounds coordinates [      1.014       1.009]\n",
            "\u001b[34m\u001b[1mtrain: \u001b[0mWARNING ⚠️ /content/shelves-5/train/images/train_949_jpg.rf.9701e258cb0367915cfc604b27589beb.jpg: ignoring corrupt image/label: non-normalized or out of bounds coordinates [     1.0092]\n",
            "\u001b[34m\u001b[1mtrain: \u001b[0mWARNING ⚠️ /content/shelves-5/train/images/train_949_jpg.rf.b357b3cf49ea0e34c970c2506c5670af.jpg: ignoring corrupt image/label: non-normalized or out of bounds coordinates [      1.009]\n",
            "\u001b[34m\u001b[1mtrain: \u001b[0mWARNING ⚠️ /content/shelves-5/train/images/train_953_jpg.rf.0477074813b0afb68a1848a5fdb26e2c.jpg: ignoring corrupt image/label: non-normalized or out of bounds coordinates [     1.0025      1.0029      1.0003]\n",
            "\u001b[34m\u001b[1mtrain: \u001b[0mWARNING ⚠️ /content/shelves-5/train/images/train_953_jpg.rf.bd329c21cc2a839a34e06cd74cfef629.jpg: ignoring corrupt image/label: non-normalized or out of bounds coordinates [     1.0025      1.0028      1.0003]\n",
            "\u001b[34m\u001b[1mtrain: \u001b[0mWARNING ⚠️ /content/shelves-5/train/images/train_953_jpg.rf.c5158f0737e076ca6f545e91a8e1891d.jpg: ignoring corrupt image/label: non-normalized or out of bounds coordinates [     1.0023      1.0024      1.0003]\n",
            "\u001b[34m\u001b[1mtrain: \u001b[0mWARNING ⚠️ /content/shelves-5/train/images/train_955_jpg.rf.0e00aa2fd04833bf3950a565440e1a48.jpg: ignoring corrupt image/label: non-normalized or out of bounds coordinates [     1.0008]\n",
            "\u001b[34m\u001b[1mtrain: \u001b[0mWARNING ⚠️ /content/shelves-5/train/images/train_955_jpg.rf.8b71f44d21524a236562b6030c403667.jpg: ignoring corrupt image/label: non-normalized or out of bounds coordinates [     1.0029      1.0029      1.0013]\n",
            "\u001b[34m\u001b[1mtrain: \u001b[0mWARNING ⚠️ /content/shelves-5/train/images/train_955_jpg.rf.dd4a9cc454e20e9395ba11ae2894503f.jpg: ignoring corrupt image/label: non-normalized or out of bounds coordinates [     1.0023      1.0018      1.0009]\n",
            "\u001b[34m\u001b[1mtrain: \u001b[0mWARNING ⚠️ /content/shelves-5/train/images/train_956_jpg.rf.4a9afa6368a76964ba2b833b93dc1188.jpg: ignoring corrupt image/label: non-normalized or out of bounds coordinates [     1.0215      1.0007      1.0134       1.038      1.0349]\n",
            "\u001b[34m\u001b[1mtrain: \u001b[0mWARNING ⚠️ /content/shelves-5/train/images/train_956_jpg.rf.9205ac7dc3251d18b463b104e417597f.jpg: ignoring corrupt image/label: non-normalized or out of bounds coordinates [     1.0213      1.0007      1.0133      1.0375      1.0423]\n",
            "\u001b[34m\u001b[1mtrain: \u001b[0mWARNING ⚠️ /content/shelves-5/train/images/train_956_jpg.rf.c8654dfadd0f546eddd8544edf93d37c.jpg: ignoring corrupt image/label: non-normalized or out of bounds coordinates [      1.021      1.0131      1.0343      1.0348]\n",
            "\u001b[34m\u001b[1mtrain: \u001b[0mWARNING ⚠️ /content/shelves-5/train/images/train_957_jpg.rf.7effafc1f1284f3b0d022145e784cdf7.jpg: ignoring corrupt image/label: non-normalized or out of bounds coordinates [     1.0034]\n",
            "\u001b[34m\u001b[1mtrain: \u001b[0mWARNING ⚠️ /content/shelves-5/train/images/train_957_jpg.rf.847d586a3d02736edaf0b579a21f56d5.jpg: ignoring corrupt image/label: non-normalized or out of bounds coordinates [     1.0035]\n",
            "\u001b[34m\u001b[1mtrain: \u001b[0mWARNING ⚠️ /content/shelves-5/train/images/train_957_jpg.rf.eeabe0ae32a89be692e5748cbf8b0fa2.jpg: ignoring corrupt image/label: non-normalized or out of bounds coordinates [     1.0033]\n",
            "\u001b[34m\u001b[1mtrain: \u001b[0mWARNING ⚠️ /content/shelves-5/train/images/train_958_jpg.rf.1e52d8a4143bf65a1a22b0c90de8b0db.jpg: ignoring corrupt image/label: non-normalized or out of bounds coordinates [     1.0004]\n",
            "\u001b[34m\u001b[1mtrain: \u001b[0mWARNING ⚠️ /content/shelves-5/train/images/train_958_jpg.rf.72e881078f3a7f0574413e01d90156d8.jpg: ignoring corrupt image/label: non-normalized or out of bounds coordinates [     1.0005]\n",
            "\u001b[34m\u001b[1mtrain: \u001b[0mWARNING ⚠️ /content/shelves-5/train/images/train_958_jpg.rf.9f2c8db75f79e41c655d2b25c53c87a9.jpg: ignoring corrupt image/label: non-normalized or out of bounds coordinates [     1.0005]\n",
            "\u001b[34m\u001b[1mtrain: \u001b[0mWARNING ⚠️ /content/shelves-5/train/images/train_959_jpg.rf.95a729c3b8770f6f4390a3aa48045694.jpg: ignoring corrupt image/label: non-normalized or out of bounds coordinates [     1.0822       1.008       1.018]\n",
            "\u001b[34m\u001b[1mtrain: \u001b[0mWARNING ⚠️ /content/shelves-5/train/images/train_959_jpg.rf.cf8d7dd2ac209b047efbbd28381245e1.jpg: ignoring corrupt image/label: non-normalized or out of bounds coordinates [     1.0984       1.023           1      1.0206]\n",
            "\u001b[34m\u001b[1mtrain: \u001b[0mWARNING ⚠️ /content/shelves-5/train/images/train_959_jpg.rf.de501cba642da44a43fca16cc5da522a.jpg: ignoring corrupt image/label: non-normalized or out of bounds coordinates [     1.0434      1.0074]\n",
            "\u001b[34m\u001b[1mtrain: \u001b[0mWARNING ⚠️ /content/shelves-5/train/images/train_961_jpg.rf.8c95cac6cee5d15d10b53dd0a654147e.jpg: ignoring corrupt image/label: non-normalized or out of bounds coordinates [     1.0059]\n",
            "\u001b[34m\u001b[1mtrain: \u001b[0mWARNING ⚠️ /content/shelves-5/train/images/train_961_jpg.rf.c789e50ae2dd1116e7e7470e70f69723.jpg: ignoring corrupt image/label: non-normalized or out of bounds coordinates [     1.0049]\n",
            "\u001b[34m\u001b[1mtrain: \u001b[0mWARNING ⚠️ /content/shelves-5/train/images/train_961_jpg.rf.f985b9ab108dd79c19c61034009c44cd.jpg: ignoring corrupt image/label: non-normalized or out of bounds coordinates [      1.006]\n",
            "\u001b[34m\u001b[1mtrain: \u001b[0mWARNING ⚠️ /content/shelves-5/train/images/train_962_jpg.rf.7698cb7665e8d18d4f763468e612de6a.jpg: ignoring corrupt image/label: non-normalized or out of bounds coordinates [     1.0033      1.0046      1.0016]\n",
            "\u001b[34m\u001b[1mtrain: \u001b[0mWARNING ⚠️ /content/shelves-5/train/images/train_962_jpg.rf.7df63b2a0b246c689284abce5ed2b5c2.jpg: ignoring corrupt image/label: non-normalized or out of bounds coordinates [     1.0034      1.0047      1.0019]\n",
            "\u001b[34m\u001b[1mtrain: \u001b[0mWARNING ⚠️ /content/shelves-5/train/images/train_962_jpg.rf.e73d589af6f4bbd05fcb9f8889ad2f1b.jpg: ignoring corrupt image/label: non-normalized or out of bounds coordinates [     1.0033      1.0046      1.0019]\n",
            "\u001b[34m\u001b[1mtrain: \u001b[0mWARNING ⚠️ /content/shelves-5/train/images/train_963_jpg.rf.9b3b6aa4b83d4a8da2f15ca79fee5db2.jpg: ignoring corrupt image/label: non-normalized or out of bounds coordinates [          1]\n",
            "\u001b[34m\u001b[1mtrain: \u001b[0mWARNING ⚠️ /content/shelves-5/train/images/train_963_jpg.rf.ead5a85a8f5fbde81607b01ea3873a1a.jpg: ignoring corrupt image/label: non-normalized or out of bounds coordinates [          1]\n",
            "\u001b[34m\u001b[1mtrain: \u001b[0mWARNING ⚠️ /content/shelves-5/train/images/train_963_jpg.rf.f697b7a435607eb950b6b03098bc0492.jpg: ignoring corrupt image/label: non-normalized or out of bounds coordinates [          1]\n",
            "\u001b[34m\u001b[1mtrain: \u001b[0mWARNING ⚠️ /content/shelves-5/train/images/train_965_jpg.rf.255450694ef2b40c02bbd930d8d3f6fa.jpg: ignoring corrupt image/label: non-normalized or out of bounds coordinates [     1.0135      1.0142      1.0493      1.0853      1.0458]\n",
            "\u001b[34m\u001b[1mtrain: \u001b[0mWARNING ⚠️ /content/shelves-5/train/images/train_965_jpg.rf.38213e9e0e1f249ac6f279e940508600.jpg: ignoring corrupt image/label: non-normalized or out of bounds coordinates [     1.0124      1.0137       1.047      1.0815      1.0585]\n",
            "\u001b[34m\u001b[1mtrain: \u001b[0mWARNING ⚠️ /content/shelves-5/train/images/train_965_jpg.rf.688524c1e52413795d6f9c58db500ccc.jpg: ignoring corrupt image/label: non-normalized or out of bounds coordinates [     1.0109      1.0145      1.0501      1.0871      1.0561]\n",
            "\u001b[34m\u001b[1mtrain: \u001b[0mWARNING ⚠️ /content/shelves-5/train/images/train_967_jpg.rf.70c2f3075bd26e182966a69901a5ece5.jpg: ignoring corrupt image/label: non-normalized or out of bounds coordinates [     1.0001]\n",
            "\u001b[34m\u001b[1mtrain: \u001b[0mWARNING ⚠️ /content/shelves-5/train/images/train_967_jpg.rf.762db05c4adaae0c60e826d1cb761280.jpg: ignoring corrupt image/label: non-normalized or out of bounds coordinates [     1.0001]\n",
            "\u001b[34m\u001b[1mtrain: \u001b[0mWARNING ⚠️ /content/shelves-5/train/images/train_968_jpg.rf.8580fdcb5b772e8be74f27ddf67d786f.jpg: ignoring corrupt image/label: non-normalized or out of bounds coordinates [     1.0032      1.0085      1.0141      1.0204]\n",
            "\u001b[34m\u001b[1mtrain: \u001b[0mWARNING ⚠️ /content/shelves-5/train/images/train_968_jpg.rf.988cbe0e9a787923dad81a8b2fde6469.jpg: ignoring corrupt image/label: non-normalized or out of bounds coordinates [     1.0031      1.0081      1.0133      1.0178]\n",
            "\u001b[34m\u001b[1mtrain: \u001b[0mWARNING ⚠️ /content/shelves-5/train/images/train_968_jpg.rf.d14fca2bd8deb58d544b118cb711f2e8.jpg: ignoring corrupt image/label: non-normalized or out of bounds coordinates [     1.0083      1.0085      1.0099      1.0179]\n",
            "\u001b[34m\u001b[1mtrain: \u001b[0mWARNING ⚠️ /content/shelves-5/train/images/train_974_jpg.rf.3658417f6c3920abd6697c44b1d8fff4.jpg: ignoring corrupt image/label: non-normalized or out of bounds coordinates [     1.0106       1.007      1.0044      1.0024      1.0001]\n",
            "\u001b[34m\u001b[1mtrain: \u001b[0mWARNING ⚠️ /content/shelves-5/train/images/train_974_jpg.rf.9724234cfeb2845e2e7d84575191c35c.jpg: ignoring corrupt image/label: non-normalized or out of bounds coordinates [     1.0102      1.0067      1.0042      1.0023      1.0001]\n",
            "\u001b[34m\u001b[1mtrain: \u001b[0mWARNING ⚠️ /content/shelves-5/train/images/train_974_jpg.rf.e24c641ce8e78c6c9720815d8f922b5f.jpg: ignoring corrupt image/label: non-normalized or out of bounds coordinates [     1.0094      1.0064       1.001      1.0015      1.0001]\n",
            "\u001b[34m\u001b[1mtrain: \u001b[0mWARNING ⚠️ /content/shelves-5/train/images/train_978_jpg.rf.56bf7642bbde18c6bda96896e02cf6b5.jpg: ignoring corrupt image/label: non-normalized or out of bounds coordinates [     1.0025]\n",
            "\u001b[34m\u001b[1mtrain: \u001b[0mWARNING ⚠️ /content/shelves-5/train/images/train_97_jpg.rf.1cb0ab11770d64a5c3a3ed721a742491.jpg: ignoring corrupt image/label: non-normalized or out of bounds coordinates [      1.007      1.0154      1.0429      1.0551       1.047]\n",
            "\u001b[34m\u001b[1mtrain: \u001b[0mWARNING ⚠️ /content/shelves-5/train/images/train_97_jpg.rf.72261bd2c59c79ef6a225c5d11f3e35c.jpg: ignoring corrupt image/label: non-normalized or out of bounds coordinates [     1.0067      1.0149       1.041      1.0526       1.044]\n",
            "\u001b[34m\u001b[1mtrain: \u001b[0mWARNING ⚠️ /content/shelves-5/train/images/train_97_jpg.rf.f204b3571650d0c59da9e0957552eb6e.jpg: ignoring corrupt image/label: non-normalized or out of bounds coordinates [     1.0069      1.0151      1.0419      1.0537      1.0381]\n",
            "\u001b[34m\u001b[1mtrain: \u001b[0mWARNING ⚠️ /content/shelves-5/train/images/train_981_jpg.rf.07c5a699c21051414ad1ce9ccf2c6b0a.jpg: ignoring corrupt image/label: non-normalized or out of bounds coordinates [     1.0114      1.0128]\n",
            "\u001b[34m\u001b[1mtrain: \u001b[0mWARNING ⚠️ /content/shelves-5/train/images/train_981_jpg.rf.4c175f96931c081b1514bbf2fa64bc8c.jpg: ignoring corrupt image/label: non-normalized or out of bounds coordinates [     1.0355      1.0104       1.012]\n",
            "\u001b[34m\u001b[1mtrain: \u001b[0mWARNING ⚠️ /content/shelves-5/train/images/train_981_jpg.rf.4d3ff4a8ea304fc18a3738ea2f23cda6.jpg: ignoring corrupt image/label: non-normalized or out of bounds coordinates [     1.0335      1.0083      1.0104]\n",
            "\u001b[34m\u001b[1mtrain: \u001b[0mWARNING ⚠️ /content/shelves-5/train/images/train_985_jpg.rf.0cb1a3794d55b80d756a6df50cb82329.jpg: ignoring corrupt image/label: non-normalized or out of bounds coordinates [     1.0019      1.0018      1.0027      1.0003]\n",
            "\u001b[34m\u001b[1mtrain: \u001b[0mWARNING ⚠️ /content/shelves-5/train/images/train_985_jpg.rf.4140fd84e0b26e18bd7c07990d4dc5aa.jpg: ignoring corrupt image/label: non-normalized or out of bounds coordinates [     1.0027       1.002      1.0027      1.0017      1.0003]\n",
            "\u001b[34m\u001b[1mtrain: \u001b[0mWARNING ⚠️ /content/shelves-5/train/images/train_985_jpg.rf.7a210b0b135b780ffe67f33d5bdc9a9e.jpg: ignoring corrupt image/label: non-normalized or out of bounds coordinates [     1.0027      1.0019]\n",
            "\u001b[34m\u001b[1mtrain: \u001b[0mWARNING ⚠️ /content/shelves-5/train/images/train_989_jpg.rf.257a081fe824aebbb0033c8e6b851e8c.jpg: ignoring corrupt image/label: non-normalized or out of bounds coordinates [     1.0353]\n",
            "\u001b[34m\u001b[1mtrain: \u001b[0mWARNING ⚠️ /content/shelves-5/train/images/train_989_jpg.rf.4ce10454cf7902afb166613176e827df.jpg: ignoring corrupt image/label: non-normalized or out of bounds coordinates [     1.0365]\n",
            "\u001b[34m\u001b[1mtrain: \u001b[0mWARNING ⚠️ /content/shelves-5/train/images/train_989_jpg.rf.569dec38c7c8b817bcc06b543c44e312.jpg: ignoring corrupt image/label: non-normalized or out of bounds coordinates [     1.0387      1.0138]\n",
            "\u001b[34m\u001b[1mtrain: \u001b[0mWARNING ⚠️ /content/shelves-5/train/images/train_98_jpg.rf.a23a09f423c757df1c1f96122b540597.jpg: ignoring corrupt image/label: non-normalized or out of bounds coordinates [      1.004      1.0043]\n",
            "\u001b[34m\u001b[1mtrain: \u001b[0mWARNING ⚠️ /content/shelves-5/train/images/train_98_jpg.rf.b89741b7431dee9245826960d776a4dc.jpg: ignoring corrupt image/label: non-normalized or out of bounds coordinates [     1.0038      1.0033]\n",
            "\u001b[34m\u001b[1mtrain: \u001b[0mWARNING ⚠️ /content/shelves-5/train/images/train_98_jpg.rf.d727db7d5582ffb7ae354bea9a2d7cba.jpg: ignoring corrupt image/label: non-normalized or out of bounds coordinates [     1.0039      1.0042]\n",
            "\u001b[34m\u001b[1mtrain: \u001b[0mWARNING ⚠️ /content/shelves-5/train/images/train_991_jpg.rf.0a237a1bc0ca5276c63b08b6b39b0b70.jpg: ignoring corrupt image/label: non-normalized or out of bounds coordinates [     1.0227]\n",
            "\u001b[34m\u001b[1mtrain: \u001b[0mWARNING ⚠️ /content/shelves-5/train/images/train_991_jpg.rf.c618b3ac2dd087b27ae7086e5b59d9e7.jpg: ignoring corrupt image/label: non-normalized or out of bounds coordinates [     1.0239]\n",
            "\u001b[34m\u001b[1mtrain: \u001b[0mWARNING ⚠️ /content/shelves-5/train/images/train_991_jpg.rf.dfbe72824082574cd0ab844202a16797.jpg: ignoring corrupt image/label: non-normalized or out of bounds coordinates [     1.0239]\n",
            "\u001b[34m\u001b[1mtrain: \u001b[0mWARNING ⚠️ /content/shelves-5/train/images/train_992_jpg.rf.14a115656a31f7d52037c961211956e8.jpg: ignoring corrupt image/label: non-normalized or out of bounds coordinates [     1.0061      1.0004      1.0022       1.002      1.0011]\n",
            "\u001b[34m\u001b[1mtrain: \u001b[0mWARNING ⚠️ /content/shelves-5/train/images/train_992_jpg.rf.f6800b1e20d59e8082a8b4132578661b.jpg: ignoring corrupt image/label: non-normalized or out of bounds coordinates [     1.0062      1.0004      1.0022      1.0015      1.0011      1.0009]\n",
            "\u001b[34m\u001b[1mtrain: \u001b[0mWARNING ⚠️ /content/shelves-5/train/images/train_992_jpg.rf.f732975f18954200c318f17cccc55db3.jpg: ignoring corrupt image/label: non-normalized or out of bounds coordinates [     1.0057      1.0004      1.0021      1.0017       1.001      1.0008]\n",
            "\u001b[34m\u001b[1mtrain: \u001b[0mWARNING ⚠️ /content/shelves-5/train/images/train_994_jpg.rf.23a1aedb5759280f4724b5c750e5830a.jpg: ignoring corrupt image/label: non-normalized or out of bounds coordinates [     1.0026      1.0011           1]\n",
            "\u001b[34m\u001b[1mtrain: \u001b[0mWARNING ⚠️ /content/shelves-5/train/images/train_994_jpg.rf.2a82c15b7ed13ded2681ca7b851499c5.jpg: ignoring corrupt image/label: non-normalized or out of bounds coordinates [     1.0015      1.0008]\n",
            "\u001b[34m\u001b[1mtrain: \u001b[0mWARNING ⚠️ /content/shelves-5/train/images/train_994_jpg.rf.a97eafd4b8af2ff3fa9d5303bdd95e2c.jpg: ignoring corrupt image/label: non-normalized or out of bounds coordinates [     1.0001           1]\n",
            "\u001b[34m\u001b[1mtrain: \u001b[0mWARNING ⚠️ /content/shelves-5/train/images/train_995_jpg.rf.242b9ac0d789ad85bb4e4db6bdf737dc.jpg: ignoring corrupt image/label: non-normalized or out of bounds coordinates [     1.0038]\n",
            "\u001b[34m\u001b[1mtrain: \u001b[0mWARNING ⚠️ /content/shelves-5/train/images/train_995_jpg.rf.265ecd16be2057d55ffd7e3fd6d42c2f.jpg: ignoring corrupt image/label: non-normalized or out of bounds coordinates [     1.0037]\n",
            "\u001b[34m\u001b[1mtrain: \u001b[0mWARNING ⚠️ /content/shelves-5/train/images/train_995_jpg.rf.480df4707e48d616b80c7c5cda5d74c7.jpg: ignoring corrupt image/label: non-normalized or out of bounds coordinates [     1.0039]\n",
            "\u001b[34m\u001b[1mtrain: \u001b[0mWARNING ⚠️ /content/shelves-5/train/images/train_996_jpg.rf.45f30654d83d7011d4e48f26c4ea1bd0.jpg: ignoring corrupt image/label: non-normalized or out of bounds coordinates [     1.0002      1.0003      1.0019      1.0018      1.0044       1.004]\n",
            "\u001b[34m\u001b[1mtrain: \u001b[0mWARNING ⚠️ /content/shelves-5/train/images/train_996_jpg.rf.8001c6208d0c5f1a09657e4f9c81c6f6.jpg: ignoring corrupt image/label: non-normalized or out of bounds coordinates [     1.0002      1.0003       1.002      1.0029      1.0017      1.0039      1.0043]\n",
            "\u001b[34m\u001b[1mtrain: \u001b[0mWARNING ⚠️ /content/shelves-5/train/images/train_996_jpg.rf.abceb045134b189e8649e548b9f7324d.jpg: ignoring corrupt image/label: non-normalized or out of bounds coordinates [     1.0002      1.0003       1.002      1.0027      1.0046      1.0042]\n",
            "\u001b[34m\u001b[1mtrain: \u001b[0mWARNING ⚠️ /content/shelves-5/train/images/train_998_jpg.rf.04fdf7c3d719d531bdad515133045497.jpg: ignoring corrupt image/label: non-normalized or out of bounds coordinates [      1.002]\n",
            "\u001b[34m\u001b[1mtrain: \u001b[0mWARNING ⚠️ /content/shelves-5/train/images/train_998_jpg.rf.1657655d519d0ada497c2512f4524a53.jpg: ignoring corrupt image/label: non-normalized or out of bounds coordinates [      1.002]\n",
            "\u001b[34m\u001b[1mtrain: \u001b[0mWARNING ⚠️ /content/shelves-5/train/images/train_998_jpg.rf.aa418894c4606cffe370309e346e8fd8.jpg: ignoring corrupt image/label: non-normalized or out of bounds coordinates [     1.0021]\n",
            "\u001b[34m\u001b[1mtrain: \u001b[0mWARNING ⚠️ /content/shelves-5/train/images/train_999_jpg.rf.bbc1d7547b557d344bc9ea9f83075b94.jpg: ignoring corrupt image/label: non-normalized or out of bounds coordinates [     1.0144      1.0131      1.0097      1.0093      1.0089      1.0099]\n",
            "\u001b[34m\u001b[1mtrain: \u001b[0mWARNING ⚠️ /content/shelves-5/train/images/train_999_jpg.rf.e9c51ea90b8340c8dd5fb81245ff9625.jpg: ignoring corrupt image/label: non-normalized or out of bounds coordinates [     1.0139      1.0126      1.0094      1.0089      1.0112      1.0096]\n",
            "\u001b[34m\u001b[1mtrain: \u001b[0mWARNING ⚠️ /content/shelves-5/train/images/train_999_jpg.rf.ec32222e4b3263e82525e8f7bb9acc2b.jpg: ignoring corrupt image/label: non-normalized or out of bounds coordinates [     1.0137      1.0124      1.0092      1.0088      1.0021       1.011      1.0094]\n",
            "\u001b[34m\u001b[1mtrain: \u001b[0mWARNING ⚠️ /content/shelves-5/train/images/train_9_jpg.rf.1fb537a83bcf36cd0ee990964dc0a81b.jpg: ignoring corrupt image/label: non-normalized or out of bounds coordinates [     1.0082]\n",
            "\u001b[34m\u001b[1mtrain: \u001b[0mWARNING ⚠️ /content/shelves-5/train/images/train_9_jpg.rf.8932e0ab22bd83d003f9446e23ef731e.jpg: ignoring corrupt image/label: non-normalized or out of bounds coordinates [      1.008]\n",
            "\u001b[34m\u001b[1mtrain: \u001b[0mWARNING ⚠️ /content/shelves-5/train/images/train_9_jpg.rf.a1f183d3c962df6f28357d7d9e4fd19f.jpg: ignoring corrupt image/label: non-normalized or out of bounds coordinates [     1.0083]\n"
          ]
        },
        {
          "output_type": "stream",
          "name": "stderr",
          "text": [
            "\n"
          ]
        },
        {
          "output_type": "stream",
          "name": "stdout",
          "text": [
            "\u001b[34m\u001b[1malbumentations: \u001b[0mBlur(p=0.01, blur_limit=(3, 7)), MedianBlur(p=0.01, blur_limit=(3, 7)), ToGray(p=0.01, method='weighted_average', num_output_channels=3), CLAHE(p=0.01, clip_limit=(1.0, 4.0), tile_grid_size=(8, 8))\n"
          ]
        },
        {
          "output_type": "stream",
          "name": "stderr",
          "text": [
            "Argument(s) 'quality_lower' are not valid for transform ImageCompression\n",
            "\u001b[34m\u001b[1mval: \u001b[0mScanning /content/shelves-5/valid/labels.cache... 530 images, 0 backgrounds, 160 corrupt: 100%|██████████| 530/530 [00:00<?, ?it/s]"
          ]
        },
        {
          "output_type": "stream",
          "name": "stdout",
          "text": [
            "\u001b[34m\u001b[1mval: \u001b[0mWARNING ⚠️ /content/shelves-5/valid/images/test_1126_jpg.rf.eb0668304347f56d804530be28647c55.jpg: ignoring corrupt image/label: non-normalized or out of bounds coordinates [     1.0023]\n",
            "\u001b[34m\u001b[1mval: \u001b[0mWARNING ⚠️ /content/shelves-5/valid/images/test_1150_jpg.rf.a3f43b1d0093faa11776e8a4661d560c.jpg: ignoring corrupt image/label: non-normalized or out of bounds coordinates [     1.0059      1.0059]\n",
            "\u001b[34m\u001b[1mval: \u001b[0mWARNING ⚠️ /content/shelves-5/valid/images/test_11_jpg.rf.533ae17cbd58f3bd3d77b3a788269e8d.jpg: ignoring corrupt image/label: non-normalized or out of bounds coordinates [     1.0049      1.0007]\n",
            "\u001b[34m\u001b[1mval: \u001b[0mWARNING ⚠️ /content/shelves-5/valid/images/test_145_jpg.rf.ecaae6416219ddd864d48c4c5c519ac8.jpg: ignoring corrupt image/label: non-normalized or out of bounds coordinates [     1.0065      1.0045      1.0118        1.01]\n",
            "\u001b[34m\u001b[1mval: \u001b[0mWARNING ⚠️ /content/shelves-5/valid/images/test_1464_jpg.rf.daae51212e47c625812bd7a03ca56296.jpg: ignoring corrupt image/label: non-normalized or out of bounds coordinates [      1.001       1.002]\n",
            "\u001b[34m\u001b[1mval: \u001b[0mWARNING ⚠️ /content/shelves-5/valid/images/test_1489_jpg.rf.d8c536d755503676046f12963a3f48ca.jpg: ignoring corrupt image/label: non-normalized or out of bounds coordinates [     1.0019       1.003      1.0044      1.0031]\n",
            "\u001b[34m\u001b[1mval: \u001b[0mWARNING ⚠️ /content/shelves-5/valid/images/test_167_jpg.rf.b8362ab1a6cfe7b37a685a299d96a00f.jpg: ignoring corrupt image/label: non-normalized or out of bounds coordinates [     1.0031      1.0039      1.0012      1.0039      1.0067]\n",
            "\u001b[34m\u001b[1mval: \u001b[0mWARNING ⚠️ /content/shelves-5/valid/images/test_171_jpg.rf.ff707c8cef4af2b694102327efa763d4.jpg: ignoring corrupt image/label: non-normalized or out of bounds coordinates [     1.0425       1.024      1.0083      1.0109      1.0282]\n",
            "\u001b[34m\u001b[1mval: \u001b[0mWARNING ⚠️ /content/shelves-5/valid/images/test_200_jpg.rf.ce22a665cdde62dc6820854581fead3d.jpg: ignoring corrupt image/label: non-normalized or out of bounds coordinates [     1.0033]\n",
            "\u001b[34m\u001b[1mval: \u001b[0mWARNING ⚠️ /content/shelves-5/valid/images/test_204_jpg.rf.834e608f14e785030e93be46c9f78117.jpg: ignoring corrupt image/label: non-normalized or out of bounds coordinates [     1.0006       1.001      1.0036      1.0093]\n",
            "\u001b[34m\u001b[1mval: \u001b[0mWARNING ⚠️ /content/shelves-5/valid/images/test_206_jpg.rf.cba9026f1d636d4c3c19ce9450d18a9f.jpg: ignoring corrupt image/label: non-normalized or out of bounds coordinates [     1.0023      1.0015]\n",
            "\u001b[34m\u001b[1mval: \u001b[0mWARNING ⚠️ /content/shelves-5/valid/images/test_207_jpg.rf.3e1059184bceced422420c11cd35831f.jpg: ignoring corrupt image/label: non-normalized or out of bounds coordinates [     1.0095      1.0034      1.0018]\n",
            "\u001b[34m\u001b[1mval: \u001b[0mWARNING ⚠️ /content/shelves-5/valid/images/test_208_jpg.rf.0cd58c33763361ff9d2bf5048a7558fe.jpg: ignoring corrupt image/label: non-normalized or out of bounds coordinates [     1.0044]\n",
            "\u001b[34m\u001b[1mval: \u001b[0mWARNING ⚠️ /content/shelves-5/valid/images/test_20_jpg.rf.f36894c61204bd1717b0bec78a2389e1.jpg: ignoring corrupt image/label: non-normalized or out of bounds coordinates [     1.0113]\n",
            "\u001b[34m\u001b[1mval: \u001b[0mWARNING ⚠️ /content/shelves-5/valid/images/test_211_jpg.rf.4e3e4c68811a943a6d3f33f740c87404.jpg: ignoring corrupt image/label: non-normalized or out of bounds coordinates [     1.0014]\n",
            "\u001b[34m\u001b[1mval: \u001b[0mWARNING ⚠️ /content/shelves-5/valid/images/test_213_jpg.rf.40f0a78bccdb4a1c6d377ed238395fe4.jpg: ignoring corrupt image/label: non-normalized or out of bounds coordinates [     1.0015      1.0026      1.0017      1.0039      1.0052      1.0036]\n",
            "\u001b[34m\u001b[1mval: \u001b[0mWARNING ⚠️ /content/shelves-5/valid/images/test_216_jpg.rf.b9f8588b24b24f1bb31e03eb6b36e7f2.jpg: ignoring corrupt image/label: non-normalized or out of bounds coordinates [          1]\n",
            "\u001b[34m\u001b[1mval: \u001b[0mWARNING ⚠️ /content/shelves-5/valid/images/test_221_jpg.rf.8202dfa1b81562addf9ba1be806ca2bf.jpg: ignoring corrupt image/label: non-normalized or out of bounds coordinates [      1.019      1.0056      1.0009      1.0139      1.0377       1.055      1.0285]\n",
            "\u001b[34m\u001b[1mval: \u001b[0mWARNING ⚠️ /content/shelves-5/valid/images/test_222_jpg.rf.27f58141d36a3af89e74041a68afd363.jpg: ignoring corrupt image/label: non-normalized or out of bounds coordinates [     1.0078]\n",
            "\u001b[34m\u001b[1mval: \u001b[0mWARNING ⚠️ /content/shelves-5/valid/images/test_223_jpg.rf.57d2b1fdc26f33bbe277b8b8023eabb0.jpg: ignoring corrupt image/label: non-normalized or out of bounds coordinates [      1.019      1.0172]\n",
            "\u001b[34m\u001b[1mval: \u001b[0mWARNING ⚠️ /content/shelves-5/valid/images/test_226_jpg.rf.e5065a93778879a7dbddf7ed251ae690.jpg: ignoring corrupt image/label: non-normalized or out of bounds coordinates [     1.0083]\n",
            "\u001b[34m\u001b[1mval: \u001b[0mWARNING ⚠️ /content/shelves-5/valid/images/test_231_jpg.rf.b4a4bc4cfcad0fb8f2be0d362e39b441.jpg: ignoring corrupt image/label: non-normalized or out of bounds coordinates [     1.0026      1.0027      1.0012]\n",
            "\u001b[34m\u001b[1mval: \u001b[0mWARNING ⚠️ /content/shelves-5/valid/images/test_239_jpg.rf.8954794e4d2e56c32061b34e7cf02d1a.jpg: ignoring corrupt image/label: non-normalized or out of bounds coordinates [     1.0006      1.0354      1.0716]\n",
            "\u001b[34m\u001b[1mval: \u001b[0mWARNING ⚠️ /content/shelves-5/valid/images/test_242_jpg.rf.a19aaf8e6fe12f6693c03a2d6bfc1620.jpg: ignoring corrupt image/label: non-normalized or out of bounds coordinates [     1.0137]\n",
            "\u001b[34m\u001b[1mval: \u001b[0mWARNING ⚠️ /content/shelves-5/valid/images/test_247_jpg.rf.f3f41bc7dc123c72848fc0df830ea1e2.jpg: ignoring corrupt image/label: non-normalized or out of bounds coordinates [     1.0237      1.0448      1.0747      1.1143]\n",
            "\u001b[34m\u001b[1mval: \u001b[0mWARNING ⚠️ /content/shelves-5/valid/images/test_24_jpg.rf.042251deeaee36b4831a411c5e20e1b4.jpg: ignoring corrupt image/label: non-normalized or out of bounds coordinates [     1.0001]\n",
            "\u001b[34m\u001b[1mval: \u001b[0mWARNING ⚠️ /content/shelves-5/valid/images/test_258_jpg.rf.4b263bceaef0a2af50cf26d22dab9e59.jpg: ignoring corrupt image/label: non-normalized or out of bounds coordinates [     1.0118]\n",
            "\u001b[34m\u001b[1mval: \u001b[0mWARNING ⚠️ /content/shelves-5/valid/images/test_266_jpg.rf.365e715a5487b99f4974bf0f62c1a2a9.jpg: ignoring corrupt image/label: non-normalized or out of bounds coordinates [     1.0025      1.0032      1.0016      1.0086]\n",
            "\u001b[34m\u001b[1mval: \u001b[0mWARNING ⚠️ /content/shelves-5/valid/images/test_269_jpg.rf.d04c7b685d04d07d4ab4aa5608fad20a.jpg: ignoring corrupt image/label: non-normalized or out of bounds coordinates [     1.0037      1.0009      1.0112      1.0178]\n",
            "\u001b[34m\u001b[1mval: \u001b[0mWARNING ⚠️ /content/shelves-5/valid/images/test_272_jpg.rf.d50b8c934d2266bdf01a7cda77101302.jpg: ignoring corrupt image/label: non-normalized or out of bounds coordinates [     1.0171      1.0262]\n",
            "\u001b[34m\u001b[1mval: \u001b[0mWARNING ⚠️ /content/shelves-5/valid/images/test_273_jpg.rf.6dbedb09f731b809c991d125a26a89a3.jpg: ignoring corrupt image/label: non-normalized or out of bounds coordinates [     1.0027      1.0094]\n",
            "\u001b[34m\u001b[1mval: \u001b[0mWARNING ⚠️ /content/shelves-5/valid/images/test_282_jpg.rf.b225ea11264c9e1fed726a6b252ade8f.jpg: ignoring corrupt image/label: non-normalized or out of bounds coordinates [     1.0011]\n",
            "\u001b[34m\u001b[1mval: \u001b[0mWARNING ⚠️ /content/shelves-5/valid/images/test_285_jpg.rf.1bdc38b800f9432ba3b55878d96b9a1f.jpg: ignoring corrupt image/label: non-normalized or out of bounds coordinates [     1.0247]\n",
            "\u001b[34m\u001b[1mval: \u001b[0mWARNING ⚠️ /content/shelves-5/valid/images/test_288_jpg.rf.d73ade7ccea10f1d1bfb20f761c49fe2.jpg: ignoring corrupt image/label: non-normalized or out of bounds coordinates [     1.0352]\n",
            "\u001b[34m\u001b[1mval: \u001b[0mWARNING ⚠️ /content/shelves-5/valid/images/test_28_jpg.rf.7d940920660dbbca6acb91cbf41477e1.jpg: ignoring corrupt image/label: non-normalized or out of bounds coordinates [     1.0002]\n",
            "\u001b[34m\u001b[1mval: \u001b[0mWARNING ⚠️ /content/shelves-5/valid/images/test_295_jpg.rf.673cf7e4927668a3b9d53a5862d670a0.jpg: ignoring corrupt image/label: non-normalized or out of bounds coordinates [     1.0027      1.0076]\n",
            "\u001b[34m\u001b[1mval: \u001b[0mWARNING ⚠️ /content/shelves-5/valid/images/test_296_jpg.rf.0a875caeb9bb50c0c9206a2cff92e70f.jpg: ignoring corrupt image/label: non-normalized or out of bounds coordinates [     1.0237      1.0085      1.0209]\n",
            "\u001b[34m\u001b[1mval: \u001b[0mWARNING ⚠️ /content/shelves-5/valid/images/test_297_jpg.rf.0a10466a3baef2afd83e067f5ebf4a5d.jpg: ignoring corrupt image/label: non-normalized or out of bounds coordinates [     1.0019      1.0037      1.0021      1.0016]\n",
            "\u001b[34m\u001b[1mval: \u001b[0mWARNING ⚠️ /content/shelves-5/valid/images/test_29_jpg.rf.d58d36f44bc383ebc9a7deef17f147cd.jpg: ignoring corrupt image/label: non-normalized or out of bounds coordinates [     1.0011      1.0001      1.0002      1.0023      1.0023]\n",
            "\u001b[34m\u001b[1mval: \u001b[0mWARNING ⚠️ /content/shelves-5/valid/images/test_308_jpg.rf.4d01945d62e9dcac59bb0ca5828ede12.jpg: ignoring corrupt image/label: non-normalized or out of bounds coordinates [      1.007      1.0066]\n",
            "\u001b[34m\u001b[1mval: \u001b[0mWARNING ⚠️ /content/shelves-5/valid/images/test_310_jpg.rf.e53220486770977e62bbb25fed4d1527.jpg: ignoring corrupt image/label: non-normalized or out of bounds coordinates [      1.002      1.0097]\n",
            "\u001b[34m\u001b[1mval: \u001b[0mWARNING ⚠️ /content/shelves-5/valid/images/test_315_jpg.rf.05a22b0a4bf0aa158e5b4ab45e0561b3.jpg: ignoring corrupt image/label: non-normalized or out of bounds coordinates [     1.0371      1.0209      1.0406]\n",
            "\u001b[34m\u001b[1mval: \u001b[0mWARNING ⚠️ /content/shelves-5/valid/images/test_321_jpg.rf.9b4daa6e86c73e5651d92d779fb9a972.jpg: ignoring corrupt image/label: non-normalized or out of bounds coordinates [     1.0067       1.005      1.0041      1.0073]\n",
            "\u001b[34m\u001b[1mval: \u001b[0mWARNING ⚠️ /content/shelves-5/valid/images/test_323_jpg.rf.90db218e9acedd6331c6515e2730b078.jpg: ignoring corrupt image/label: non-normalized or out of bounds coordinates [     1.0055      1.0081      1.0104      1.0086      1.0058]\n",
            "\u001b[34m\u001b[1mval: \u001b[0mWARNING ⚠️ /content/shelves-5/valid/images/test_324_jpg.rf.7d57581420dcb78e7341beb5c216b0a8.jpg: ignoring corrupt image/label: non-normalized or out of bounds coordinates [     1.0012      1.0089      1.0011           1      1.0015       1.004]\n",
            "\u001b[34m\u001b[1mval: \u001b[0mWARNING ⚠️ /content/shelves-5/valid/images/test_326_jpg.rf.e06da720d308bdc8d9fffe1459718248.jpg: ignoring corrupt image/label: non-normalized or out of bounds coordinates [     1.0009]\n",
            "\u001b[34m\u001b[1mval: \u001b[0mWARNING ⚠️ /content/shelves-5/valid/images/test_332_jpg.rf.0cebd246439ae5e2b80cc244d2390d6e.jpg: ignoring corrupt image/label: non-normalized or out of bounds coordinates [     1.0005      1.0041      1.0039      1.0053      1.0119]\n",
            "\u001b[34m\u001b[1mval: \u001b[0mWARNING ⚠️ /content/shelves-5/valid/images/test_335_jpg.rf.13b376733e7125dcdb4af7ae939f1fd7.jpg: ignoring corrupt image/label: non-normalized or out of bounds coordinates [      1.032      1.0524]\n",
            "\u001b[34m\u001b[1mval: \u001b[0mWARNING ⚠️ /content/shelves-5/valid/images/test_336_jpg.rf.f02cbe25b21d3796169f4aa0f602c4e0.jpg: ignoring corrupt image/label: non-normalized or out of bounds coordinates [     1.0001]\n",
            "\u001b[34m\u001b[1mval: \u001b[0mWARNING ⚠️ /content/shelves-5/valid/images/test_33_jpg.rf.7fb501fcdca663385b8bfe5d34c44304.jpg: ignoring corrupt image/label: non-normalized or out of bounds coordinates [     1.0015]\n",
            "\u001b[34m\u001b[1mval: \u001b[0mWARNING ⚠️ /content/shelves-5/valid/images/test_355_jpg.rf.ab367c2fd88f2a1790384d736bf1eaf8.jpg: ignoring corrupt image/label: non-normalized or out of bounds coordinates [     1.0151]\n",
            "\u001b[34m\u001b[1mval: \u001b[0mWARNING ⚠️ /content/shelves-5/valid/images/test_363_jpg.rf.b54b90e9c1c0dc764efa2a694c614c31.jpg: ignoring corrupt image/label: non-normalized or out of bounds coordinates [     1.0002      1.0211      1.0451      1.0038]\n",
            "\u001b[34m\u001b[1mval: \u001b[0mWARNING ⚠️ /content/shelves-5/valid/images/test_370_jpg.rf.85d4c45659f9d5dbbf03cffc24e80004.jpg: ignoring corrupt image/label: non-normalized or out of bounds coordinates [     1.0028]\n",
            "\u001b[34m\u001b[1mval: \u001b[0mWARNING ⚠️ /content/shelves-5/valid/images/test_374_jpg.rf.08c8b2ff063c49a6733a69aa34f5e7bb.jpg: ignoring corrupt image/label: non-normalized or out of bounds coordinates [     1.0134      1.0099]\n",
            "\u001b[34m\u001b[1mval: \u001b[0mWARNING ⚠️ /content/shelves-5/valid/images/test_37_jpg.rf.8dce72f6bb925d34f3e40e152c71d8c9.jpg: ignoring corrupt image/label: non-normalized or out of bounds coordinates [      1.002      1.0021      1.0004      1.0006      1.0019      1.0052      1.0004      1.0036]\n",
            "\u001b[34m\u001b[1mval: \u001b[0mWARNING ⚠️ /content/shelves-5/valid/images/test_389_jpg.rf.e59d1d86c3c403f3942ce3d9ecad07d9.jpg: ignoring corrupt image/label: non-normalized or out of bounds coordinates [     1.0005]\n",
            "\u001b[34m\u001b[1mval: \u001b[0mWARNING ⚠️ /content/shelves-5/valid/images/test_394_jpg.rf.4ed7c4253909d00f9f6012af3f0d766b.jpg: ignoring corrupt image/label: non-normalized or out of bounds coordinates [      1.001       1.005]\n",
            "\u001b[34m\u001b[1mval: \u001b[0mWARNING ⚠️ /content/shelves-5/valid/images/test_395_jpg.rf.984490b0c5a679c0af43e162cda6275b.jpg: ignoring corrupt image/label: non-normalized or out of bounds coordinates [     1.0137       1.003        1.01      1.0071      1.0293]\n",
            "\u001b[34m\u001b[1mval: \u001b[0mWARNING ⚠️ /content/shelves-5/valid/images/test_40_jpg.rf.e3a0d6da136a5d5a601dee462d4c5bb9.jpg: ignoring corrupt image/label: non-normalized or out of bounds coordinates [     1.0018      1.0024      1.0011      1.0006]\n",
            "\u001b[34m\u001b[1mval: \u001b[0mWARNING ⚠️ /content/shelves-5/valid/images/test_410_jpg.rf.424f1bff1c7ccdec46721e8fc94c9d38.jpg: ignoring corrupt image/label: non-normalized or out of bounds coordinates [     1.0216        1.03      1.0259]\n",
            "\u001b[34m\u001b[1mval: \u001b[0mWARNING ⚠️ /content/shelves-5/valid/images/test_413_jpg.rf.caeb223fe239ec1a64adf35a17c7fc44.jpg: ignoring corrupt image/label: non-normalized or out of bounds coordinates [     1.0008      1.0042]\n",
            "\u001b[34m\u001b[1mval: \u001b[0mWARNING ⚠️ /content/shelves-5/valid/images/test_415_jpg.rf.200bf32b24c733f436d35ca76c6f7760.jpg: ignoring corrupt image/label: non-normalized or out of bounds coordinates [     1.0253]\n",
            "\u001b[34m\u001b[1mval: \u001b[0mWARNING ⚠️ /content/shelves-5/valid/images/test_426_jpg.rf.1c52eb14fc08b29cd7c6e033f0aa5a5a.jpg: ignoring corrupt image/label: non-normalized or out of bounds coordinates [     1.0075       1.008      1.0131      1.0321]\n",
            "\u001b[34m\u001b[1mval: \u001b[0mWARNING ⚠️ /content/shelves-5/valid/images/test_435_jpg.rf.29834bb5259ee144a2220651755a42f1.jpg: ignoring corrupt image/label: non-normalized or out of bounds coordinates [     1.0188      1.0025           1      1.0003      1.0402]\n",
            "\u001b[34m\u001b[1mval: \u001b[0mWARNING ⚠️ /content/shelves-5/valid/images/test_438_jpg.rf.c252d20bea708ca3d23b07bad5a99ac5.jpg: ignoring corrupt image/label: non-normalized or out of bounds coordinates [     1.0769]\n",
            "\u001b[34m\u001b[1mval: \u001b[0mWARNING ⚠️ /content/shelves-5/valid/images/test_442_jpg.rf.6863d631fc58de7fbefd24cf5f857bd4.jpg: ignoring corrupt image/label: non-normalized or out of bounds coordinates [     1.0061]\n",
            "\u001b[34m\u001b[1mval: \u001b[0mWARNING ⚠️ /content/shelves-5/valid/images/test_444_jpg.rf.40e8f4a4ea3c443a9d7693e60de05571.jpg: ignoring corrupt image/label: non-normalized or out of bounds coordinates [     1.0033      1.0002           1]\n",
            "\u001b[34m\u001b[1mval: \u001b[0mWARNING ⚠️ /content/shelves-5/valid/images/test_451_jpg.rf.b020f55c592b4881a0fd7a3c75e88202.jpg: ignoring corrupt image/label: non-normalized or out of bounds coordinates [     1.0486]\n",
            "\u001b[34m\u001b[1mval: \u001b[0mWARNING ⚠️ /content/shelves-5/valid/images/test_454_jpg.rf.81093f44e5b2f1591f6094857819014f.jpg: ignoring corrupt image/label: non-normalized or out of bounds coordinates [     1.0027]\n",
            "\u001b[34m\u001b[1mval: \u001b[0mWARNING ⚠️ /content/shelves-5/valid/images/test_457_jpg.rf.494b8d9e9d3f5ba2d92c3b44f0b46bc9.jpg: ignoring corrupt image/label: non-normalized or out of bounds coordinates [     1.0029]\n",
            "\u001b[34m\u001b[1mval: \u001b[0mWARNING ⚠️ /content/shelves-5/valid/images/test_463_jpg.rf.0cb9af1190b31414a3289c85f3e809fe.jpg: ignoring corrupt image/label: non-normalized or out of bounds coordinates [     1.0248      1.0074      1.0142      1.0133]\n",
            "\u001b[34m\u001b[1mval: \u001b[0mWARNING ⚠️ /content/shelves-5/valid/images/test_468_jpg.rf.b68e1f1478cd4e3e455ed29d0a5d0255.jpg: ignoring corrupt image/label: non-normalized or out of bounds coordinates [     1.0006      1.0019       1.003      1.0091      1.0065]\n",
            "\u001b[34m\u001b[1mval: \u001b[0mWARNING ⚠️ /content/shelves-5/valid/images/test_476_jpg.rf.daa319f49b9abb10c7d71264a76db588.jpg: ignoring corrupt image/label: non-normalized or out of bounds coordinates [     1.0326]\n",
            "\u001b[34m\u001b[1mval: \u001b[0mWARNING ⚠️ /content/shelves-5/valid/images/test_478_jpg.rf.0cd6c04464509732998c05c993e62dae.jpg: ignoring corrupt image/label: non-normalized or out of bounds coordinates [     1.2068      1.0771]\n",
            "\u001b[34m\u001b[1mval: \u001b[0mWARNING ⚠️ /content/shelves-5/valid/images/test_47_jpg.rf.fe2d404b736be8aeeea29e6d2623f2a3.jpg: ignoring corrupt image/label: non-normalized or out of bounds coordinates [     1.0004]\n",
            "\u001b[34m\u001b[1mval: \u001b[0mWARNING ⚠️ /content/shelves-5/valid/images/test_490_jpg.rf.d4e679a0ba4161fcbdaddcf23a680cad.jpg: ignoring corrupt image/label: non-normalized or out of bounds coordinates [     1.0707]\n",
            "\u001b[34m\u001b[1mval: \u001b[0mWARNING ⚠️ /content/shelves-5/valid/images/test_495_jpg.rf.b25f96613fba7549ca0704b45bb8782c.jpg: ignoring corrupt image/label: non-normalized or out of bounds coordinates [     1.0941      1.0455      1.0052      1.0299]\n",
            "\u001b[34m\u001b[1mval: \u001b[0mWARNING ⚠️ /content/shelves-5/valid/images/test_499_jpg.rf.79e2f99aa7bde63be176f99120eb1736.jpg: ignoring corrupt image/label: non-normalized or out of bounds coordinates [     1.0196      1.0165      1.0222      1.0213]\n",
            "\u001b[34m\u001b[1mval: \u001b[0mWARNING ⚠️ /content/shelves-5/valid/images/test_5_jpg.rf.6e5870a68f6734858efb5e983df2134f.jpg: ignoring corrupt image/label: non-normalized or out of bounds coordinates [     1.0238      1.0793]\n",
            "\u001b[34m\u001b[1mval: \u001b[0mWARNING ⚠️ /content/shelves-5/valid/images/test_64_jpg.rf.eec5ee46260d74ff53bf9670536d7d22.jpg: ignoring corrupt image/label: non-normalized or out of bounds coordinates [     1.0031      1.0032      1.0129]\n",
            "\u001b[34m\u001b[1mval: \u001b[0mWARNING ⚠️ /content/shelves-5/valid/images/test_68_jpg.rf.e0ddb3155f92424bf1c31c9d0a4a2b31.jpg: ignoring corrupt image/label: non-normalized or out of bounds coordinates [     1.0079       1.002      1.0015      1.0017       1.003]\n",
            "\u001b[34m\u001b[1mval: \u001b[0mWARNING ⚠️ /content/shelves-5/valid/images/test_88_jpg.rf.823933a91e4450739cd26219184a366d.jpg: ignoring corrupt image/label: non-normalized or out of bounds coordinates [     1.0007      1.0004]\n",
            "\u001b[34m\u001b[1mval: \u001b[0mWARNING ⚠️ /content/shelves-5/valid/images/test_98_jpg.rf.7aa61661f28adb3834c3812eeea99862.jpg: ignoring corrupt image/label: non-normalized or out of bounds coordinates [      1.019      1.0599      1.0753      1.0912]\n",
            "\u001b[34m\u001b[1mval: \u001b[0mWARNING ⚠️ /content/shelves-5/valid/images/test_9_jpg.rf.c72a4c347066b61d2043b742a746c295.jpg: ignoring corrupt image/label: non-normalized or out of bounds coordinates [      1.002]\n",
            "\u001b[34m\u001b[1mval: \u001b[0mWARNING ⚠️ /content/shelves-5/valid/images/train_122_jpg.rf.3a20fb01a0547c1eb90b3188152d7580.jpg: ignoring corrupt image/label: non-normalized or out of bounds coordinates [     1.0013      1.0045      1.0013       1.001]\n",
            "\u001b[34m\u001b[1mval: \u001b[0mWARNING ⚠️ /content/shelves-5/valid/images/train_123_jpg.rf.1a78bd6031024595eed8ca35f2e74b1b.jpg: ignoring corrupt image/label: non-normalized or out of bounds coordinates [     1.0325      1.0013      1.0684      1.0926]\n",
            "\u001b[34m\u001b[1mval: \u001b[0mWARNING ⚠️ /content/shelves-5/valid/images/train_126_jpg.rf.954ffd47f6b81121be2eca189a428967.jpg: ignoring corrupt image/label: non-normalized or out of bounds coordinates [     1.0604]\n",
            "\u001b[34m\u001b[1mval: \u001b[0mWARNING ⚠️ /content/shelves-5/valid/images/train_131_jpg.rf.dfb9d870541362d04afd4f45e644fa7b.jpg: ignoring corrupt image/label: non-normalized or out of bounds coordinates [     1.0027      1.0008      1.0022      1.0022]\n",
            "\u001b[34m\u001b[1mval: \u001b[0mWARNING ⚠️ /content/shelves-5/valid/images/train_16_jpg.rf.72f49710ccbb138beffbe241d0ca91f9.jpg: ignoring corrupt image/label: non-normalized or out of bounds coordinates [     1.0094]\n",
            "\u001b[34m\u001b[1mval: \u001b[0mWARNING ⚠️ /content/shelves-5/valid/images/train_180_jpg.rf.6041a7a00bb9b2d907c2a40bb777e419.jpg: ignoring corrupt image/label: non-normalized or out of bounds coordinates [     1.0021      1.0026      1.0009      1.0001      1.0003]\n",
            "\u001b[34m\u001b[1mval: \u001b[0mWARNING ⚠️ /content/shelves-5/valid/images/train_2256_jpg.rf.70596d1a32e82bcdf0668cb416050e39.jpg: ignoring corrupt image/label: non-normalized or out of bounds coordinates [     1.0132      1.0943       1.027]\n",
            "\u001b[34m\u001b[1mval: \u001b[0mWARNING ⚠️ /content/shelves-5/valid/images/train_2259_jpg.rf.b041dc7b2fe1cd6101e03fa7b458d364.jpg: ignoring corrupt image/label: non-normalized or out of bounds coordinates [      1.015]\n",
            "\u001b[34m\u001b[1mval: \u001b[0mWARNING ⚠️ /content/shelves-5/valid/images/train_2262_jpg.rf.c852bc293148da3c96e667eaffb5d0de.jpg: ignoring corrupt image/label: non-normalized or out of bounds coordinates [     1.0237      1.0415      1.0696]\n",
            "\u001b[34m\u001b[1mval: \u001b[0mWARNING ⚠️ /content/shelves-5/valid/images/train_2263_jpg.rf.4f4d6cb66550ea0dc02b0a1ae42bc8e6.jpg: ignoring corrupt image/label: non-normalized or out of bounds coordinates [      1.007      1.0061       1.001      1.0006      1.0015      1.0015]\n",
            "\u001b[34m\u001b[1mval: \u001b[0mWARNING ⚠️ /content/shelves-5/valid/images/train_2270_jpg.rf.7e2aa721a1435475bdb6153fb98df201.jpg: ignoring corrupt image/label: non-normalized or out of bounds coordinates [     1.0074]\n",
            "\u001b[34m\u001b[1mval: \u001b[0mWARNING ⚠️ /content/shelves-5/valid/images/train_2271_jpg.rf.a133696e7a139826435ddac09478ad2e.jpg: ignoring corrupt image/label: non-normalized or out of bounds coordinates [     1.0048]\n",
            "\u001b[34m\u001b[1mval: \u001b[0mWARNING ⚠️ /content/shelves-5/valid/images/train_2274_jpg.rf.932035b83c169fc747a29c1eb8a21033.jpg: ignoring corrupt image/label: non-normalized or out of bounds coordinates [     1.0034]\n",
            "\u001b[34m\u001b[1mval: \u001b[0mWARNING ⚠️ /content/shelves-5/valid/images/train_2277_jpg.rf.a44c6d9c9d93acd57aa6291875e74740.jpg: ignoring corrupt image/label: non-normalized or out of bounds coordinates [     1.0228      1.1084      1.0879      1.0448]\n",
            "\u001b[34m\u001b[1mval: \u001b[0mWARNING ⚠️ /content/shelves-5/valid/images/train_2280_jpg.rf.a8603206cb80d52beb17a1daf571df70.jpg: ignoring corrupt image/label: non-normalized or out of bounds coordinates [          1           1]\n",
            "\u001b[34m\u001b[1mval: \u001b[0mWARNING ⚠️ /content/shelves-5/valid/images/train_2281_jpg.rf.db3ec90a93a6ce4a813c010b619c21d2.jpg: ignoring corrupt image/label: non-normalized or out of bounds coordinates [     1.0031]\n",
            "\u001b[34m\u001b[1mval: \u001b[0mWARNING ⚠️ /content/shelves-5/valid/images/train_2282_jpg.rf.8297a4556bdbf1bac71970f989e2c720.jpg: ignoring corrupt image/label: non-normalized or out of bounds coordinates [      1.006      1.0009      1.0001      1.0015      1.0005      1.0016           1]\n",
            "\u001b[34m\u001b[1mval: \u001b[0mWARNING ⚠️ /content/shelves-5/valid/images/train_2283_jpg.rf.d92a0b8b7f4cf8f18b0126879e16bd07.jpg: ignoring corrupt image/label: non-normalized or out of bounds coordinates [     1.0168      1.0031]\n",
            "\u001b[34m\u001b[1mval: \u001b[0mWARNING ⚠️ /content/shelves-5/valid/images/train_2284_jpg.rf.65f5da08ca0227cc1f04490e54e4bd23.jpg: ignoring corrupt image/label: non-normalized or out of bounds coordinates [     1.0015      1.0004]\n",
            "\u001b[34m\u001b[1mval: \u001b[0mWARNING ⚠️ /content/shelves-5/valid/images/train_2285_jpg.rf.c4f2c70a116f57f52b4aec1f894ce911.jpg: ignoring corrupt image/label: non-normalized or out of bounds coordinates [          1]\n",
            "\u001b[34m\u001b[1mval: \u001b[0mWARNING ⚠️ /content/shelves-5/valid/images/train_2286_jpg.rf.43ceb8e4f615da80b701c7768ba944f5.jpg: ignoring corrupt image/label: non-normalized or out of bounds coordinates [     1.0004      1.0274      1.0735       1.094      1.0372]\n",
            "\u001b[34m\u001b[1mval: \u001b[0mWARNING ⚠️ /content/shelves-5/valid/images/train_2288_jpg.rf.3866e5c56d528a8c79fe3503539015cc.jpg: ignoring corrupt image/label: non-normalized or out of bounds coordinates [     1.0018]\n",
            "\u001b[34m\u001b[1mval: \u001b[0mWARNING ⚠️ /content/shelves-5/valid/images/train_2289_jpg.rf.63169d02f637b048e08f66f0532dce27.jpg: ignoring corrupt image/label: non-normalized or out of bounds coordinates [      1.001      1.0022      1.0055]\n",
            "\u001b[34m\u001b[1mval: \u001b[0mWARNING ⚠️ /content/shelves-5/valid/images/train_2291_jpg.rf.c9287c9d3db50e7820ee4d8cf18058db.jpg: ignoring corrupt image/label: non-normalized or out of bounds coordinates [      1.004      1.0031      1.0051      1.0017]\n",
            "\u001b[34m\u001b[1mval: \u001b[0mWARNING ⚠️ /content/shelves-5/valid/images/train_2295_jpg.rf.4f31d22c1e0c366f55f0a6dfeb4027df.jpg: ignoring corrupt image/label: non-normalized or out of bounds coordinates [     1.0021      1.0016]\n",
            "\u001b[34m\u001b[1mval: \u001b[0mWARNING ⚠️ /content/shelves-5/valid/images/train_2296_jpg.rf.7efc849e2653b301f2b758eb57d7bbc9.jpg: ignoring corrupt image/label: non-normalized or out of bounds coordinates [     1.0015      1.0005      1.0024]\n",
            "\u001b[34m\u001b[1mval: \u001b[0mWARNING ⚠️ /content/shelves-5/valid/images/train_2297_jpg.rf.f6808c27b8142b4d92f3b87a1b077ba2.jpg: ignoring corrupt image/label: non-normalized or out of bounds coordinates [     1.0014      1.0004]\n",
            "\u001b[34m\u001b[1mval: \u001b[0mWARNING ⚠️ /content/shelves-5/valid/images/train_2298_jpg.rf.7698cbd7dea533caffdc7cda72d2d19e.jpg: ignoring corrupt image/label: non-normalized or out of bounds coordinates [     1.0007      1.0103]\n",
            "\u001b[34m\u001b[1mval: \u001b[0mWARNING ⚠️ /content/shelves-5/valid/images/train_2299_jpg.rf.28ab8012bcebced89245b5321be83f13.jpg: ignoring corrupt image/label: non-normalized or out of bounds coordinates [     1.0006      1.0001]\n",
            "\u001b[34m\u001b[1mval: \u001b[0mWARNING ⚠️ /content/shelves-5/valid/images/train_2300_jpg.rf.a0904754ffe9d7265c67535bd3de1cdf.jpg: ignoring corrupt image/label: non-normalized or out of bounds coordinates [     1.0016      1.0024       1.002]\n",
            "\u001b[34m\u001b[1mval: \u001b[0mWARNING ⚠️ /content/shelves-5/valid/images/train_30_jpg.rf.afa99d78192c4f0294cfc4d72361b15e.jpg: ignoring corrupt image/label: non-normalized or out of bounds coordinates [     1.0556      1.0199]\n",
            "\u001b[34m\u001b[1mval: \u001b[0mWARNING ⚠️ /content/shelves-5/valid/images/train_62_jpg.rf.afd636ba21e4426dfa297ad58e139a0f.jpg: ignoring corrupt image/label: non-normalized or out of bounds coordinates [       1.01      1.0123      1.0669]\n",
            "\u001b[34m\u001b[1mval: \u001b[0mWARNING ⚠️ /content/shelves-5/valid/images/train_7103_jpg.rf.d2363d334342c69bfca2e2e8f26b3cde.jpg: ignoring corrupt image/label: non-normalized or out of bounds coordinates [     1.0003      1.0076      1.0089]\n",
            "\u001b[34m\u001b[1mval: \u001b[0mWARNING ⚠️ /content/shelves-5/valid/images/train_7104_jpg.rf.2b587009e2a9af8a0cee481e854aa413.jpg: ignoring corrupt image/label: non-normalized or out of bounds coordinates [     1.0148      1.0071]\n",
            "\u001b[34m\u001b[1mval: \u001b[0mWARNING ⚠️ /content/shelves-5/valid/images/train_7105_jpg.rf.878ce8086c16eec223d84e04bb3114b6.jpg: ignoring corrupt image/label: non-normalized or out of bounds coordinates [     1.0018]\n",
            "\u001b[34m\u001b[1mval: \u001b[0mWARNING ⚠️ /content/shelves-5/valid/images/train_7114_jpg.rf.4ae85bd639bd61b5bbe9272a0b46eaeb.jpg: ignoring corrupt image/label: non-normalized or out of bounds coordinates [     1.0027      1.0011      1.0002      1.0005]\n",
            "\u001b[34m\u001b[1mval: \u001b[0mWARNING ⚠️ /content/shelves-5/valid/images/train_7115_jpg.rf.2dc1d2ef16d78356dd582b563fa3d345.jpg: ignoring corrupt image/label: non-normalized or out of bounds coordinates [     1.0614      1.0639      1.0008      1.0003           1]\n",
            "\u001b[34m\u001b[1mval: \u001b[0mWARNING ⚠️ /content/shelves-5/valid/images/train_7118_jpg.rf.6d5f08d6cdf25516f7d42ebd5567ebfb.jpg: ignoring corrupt image/label: non-normalized or out of bounds coordinates [     1.0003]\n",
            "\u001b[34m\u001b[1mval: \u001b[0mWARNING ⚠️ /content/shelves-5/valid/images/train_7121_jpg.rf.76228562019a1615dbf306d9fe0bbbfa.jpg: ignoring corrupt image/label: non-normalized or out of bounds coordinates [          1      1.0026      1.0038      1.0063      1.0025]\n",
            "\u001b[34m\u001b[1mval: \u001b[0mWARNING ⚠️ /content/shelves-5/valid/images/train_7122_jpg.rf.ec695b6c06a76f53177bf1e35572f028.jpg: ignoring corrupt image/label: non-normalized or out of bounds coordinates [     1.0165]\n",
            "\u001b[34m\u001b[1mval: \u001b[0mWARNING ⚠️ /content/shelves-5/valid/images/train_7123_jpg.rf.7d43a6d88dd8424532a69adfe77f477a.jpg: ignoring corrupt image/label: non-normalized or out of bounds coordinates [     1.0212      1.0286]\n",
            "\u001b[34m\u001b[1mval: \u001b[0mWARNING ⚠️ /content/shelves-5/valid/images/train_7125_jpg.rf.48adb83368cfe8b8ab81f5044bb22359.jpg: ignoring corrupt image/label: non-normalized or out of bounds coordinates [     1.0575]\n",
            "\u001b[34m\u001b[1mval: \u001b[0mWARNING ⚠️ /content/shelves-5/valid/images/train_7127_jpg.rf.9b7ce26d28a585a9ef1f7b3bb19a3ac6.jpg: ignoring corrupt image/label: non-normalized or out of bounds coordinates [      1.005]\n",
            "\u001b[34m\u001b[1mval: \u001b[0mWARNING ⚠️ /content/shelves-5/valid/images/train_7128_jpg.rf.561d0bf9c436c7b33d5f9e2ba1d700a7.jpg: ignoring corrupt image/label: non-normalized or out of bounds coordinates [     1.0006]\n",
            "\u001b[34m\u001b[1mval: \u001b[0mWARNING ⚠️ /content/shelves-5/valid/images/train_7129_jpg.rf.69390c32e733d42463ba34152df62498.jpg: ignoring corrupt image/label: non-normalized or out of bounds coordinates [     1.0027      1.0073      1.0276      1.0475      1.0675      1.0384]\n",
            "\u001b[34m\u001b[1mval: \u001b[0mWARNING ⚠️ /content/shelves-5/valid/images/train_7130_jpg.rf.4c657f92f85aca57a33212c423602c00.jpg: ignoring corrupt image/label: non-normalized or out of bounds coordinates [     1.0008      1.0094      1.0165      1.0214      1.0262      1.0163]\n",
            "\u001b[34m\u001b[1mval: \u001b[0mWARNING ⚠️ /content/shelves-5/valid/images/train_7131_jpg.rf.83d62a45a6b419d1839069b696ebf8d9.jpg: ignoring corrupt image/label: non-normalized or out of bounds coordinates [     1.0007      1.0011      1.0046]\n",
            "\u001b[34m\u001b[1mval: \u001b[0mWARNING ⚠️ /content/shelves-5/valid/images/train_7133_jpg.rf.d920b66ed8c045a225d54d7e7e182a5e.jpg: ignoring corrupt image/label: non-normalized or out of bounds coordinates [      1.008      1.0096]\n",
            "\u001b[34m\u001b[1mval: \u001b[0mWARNING ⚠️ /content/shelves-5/valid/images/train_7134_jpg.rf.fd57aa470eed3b3b0300274f86cba440.jpg: ignoring corrupt image/label: non-normalized or out of bounds coordinates [     1.0049      1.0016      1.0128      1.0065]\n",
            "\u001b[34m\u001b[1mval: \u001b[0mWARNING ⚠️ /content/shelves-5/valid/images/train_7135_jpg.rf.29eeb17ab45e7a260bdc60050144a7f6.jpg: ignoring corrupt image/label: non-normalized or out of bounds coordinates [     1.0005      1.0012      1.0035      1.0017]\n",
            "\u001b[34m\u001b[1mval: \u001b[0mWARNING ⚠️ /content/shelves-5/valid/images/train_7136_jpg.rf.1d53e910fdfbb3ada1372cef6628417f.jpg: ignoring corrupt image/label: non-normalized or out of bounds coordinates [     1.0004      1.0001]\n",
            "\u001b[34m\u001b[1mval: \u001b[0mWARNING ⚠️ /content/shelves-5/valid/images/train_7138_jpg.rf.5cc476422d1f5011c76ca86b387ce6ee.jpg: ignoring corrupt image/label: non-normalized or out of bounds coordinates [      1.019      1.0026]\n",
            "\u001b[34m\u001b[1mval: \u001b[0mWARNING ⚠️ /content/shelves-5/valid/images/train_7142_jpg.rf.953b5a3348a488c7a5ec3966577173f1.jpg: ignoring corrupt image/label: non-normalized or out of bounds coordinates [      1.006]\n",
            "\u001b[34m\u001b[1mval: \u001b[0mWARNING ⚠️ /content/shelves-5/valid/images/train_7152_jpg.rf.a0e4bebc05713f183cdd5066ae4f0dcd.jpg: ignoring corrupt image/label: non-normalized or out of bounds coordinates [     1.0138]\n",
            "\u001b[34m\u001b[1mval: \u001b[0mWARNING ⚠️ /content/shelves-5/valid/images/train_7153_jpg.rf.fc47fe098854f2ba49fc9b738800e046.jpg: ignoring corrupt image/label: non-normalized or out of bounds coordinates [     1.0013      1.0003]\n",
            "\u001b[34m\u001b[1mval: \u001b[0mWARNING ⚠️ /content/shelves-5/valid/images/train_7154_jpg.rf.3e7e08ba9d5fd4f8542b27930d7983a5.jpg: ignoring corrupt image/label: non-normalized or out of bounds coordinates [     1.0042      1.0016      1.0054       1.038      1.0366      1.0404]\n",
            "\u001b[34m\u001b[1mval: \u001b[0mWARNING ⚠️ /content/shelves-5/valid/images/train_7159_jpg.rf.38b4e07f7c9177281ed5f3af9caaa7eb.jpg: ignoring corrupt image/label: non-normalized or out of bounds coordinates [      1.014      1.0026]\n",
            "\u001b[34m\u001b[1mval: \u001b[0mWARNING ⚠️ /content/shelves-5/valid/images/train_7160_jpg.rf.c1879d5e6828c387530f79528cf4d477.jpg: ignoring corrupt image/label: non-normalized or out of bounds coordinates [     1.0031      1.0038      1.0041      1.0066]\n",
            "\u001b[34m\u001b[1mval: \u001b[0mWARNING ⚠️ /content/shelves-5/valid/images/train_7164_jpg.rf.0d12eaf7b0fe4dea1a34339ddd83b212.jpg: ignoring corrupt image/label: non-normalized or out of bounds coordinates [     1.0098]\n",
            "\u001b[34m\u001b[1mval: \u001b[0mWARNING ⚠️ /content/shelves-5/valid/images/train_7166_jpg.rf.0a41ffc8ef50b66a5799c1da7d5f5d5f.jpg: ignoring corrupt image/label: non-normalized or out of bounds coordinates [     1.0105      1.0345]\n",
            "\u001b[34m\u001b[1mval: \u001b[0mWARNING ⚠️ /content/shelves-5/valid/images/train_7168_jpg.rf.a1b9d75fb17e7461134c073bbc0ca310.jpg: ignoring corrupt image/label: non-normalized or out of bounds coordinates [      1.012      1.0107      1.0362]\n",
            "\u001b[34m\u001b[1mval: \u001b[0mWARNING ⚠️ /content/shelves-5/valid/images/train_7173_jpg.rf.c5f8cb54b808fec9a0b9f41e602363be.jpg: ignoring corrupt image/label: non-normalized or out of bounds coordinates [      1.001]\n",
            "\u001b[34m\u001b[1mval: \u001b[0mWARNING ⚠️ /content/shelves-5/valid/images/train_7174_jpg.rf.200d8bbf63bd52a062b141cb470452b7.jpg: ignoring corrupt image/label: non-normalized or out of bounds coordinates [     1.0012]\n",
            "\u001b[34m\u001b[1mval: \u001b[0mWARNING ⚠️ /content/shelves-5/valid/images/train_7176_jpg.rf.60867f3944c0efc2a0f68552836a1a36.jpg: ignoring corrupt image/label: non-normalized or out of bounds coordinates [     1.0001      1.0014]\n",
            "\u001b[34m\u001b[1mval: \u001b[0mWARNING ⚠️ /content/shelves-5/valid/images/train_7177_jpg.rf.bf7d59357127efe2ec5ff44d71ebbe28.jpg: ignoring corrupt image/label: non-normalized or out of bounds coordinates [     1.0023       1.001      1.0023      1.0001      1.0031      1.0027]\n",
            "\u001b[34m\u001b[1mval: \u001b[0mWARNING ⚠️ /content/shelves-5/valid/images/train_7178_jpg.rf.6ccc70c4231d53861eaba902bc868792.jpg: ignoring corrupt image/label: non-normalized or out of bounds coordinates [     1.0013]\n",
            "\u001b[34m\u001b[1mval: \u001b[0mWARNING ⚠️ /content/shelves-5/valid/images/train_7179_jpg.rf.25326bca5678963e5459581e25b39995.jpg: ignoring corrupt image/label: non-normalized or out of bounds coordinates [     1.0008]\n",
            "\u001b[34m\u001b[1mval: \u001b[0mWARNING ⚠️ /content/shelves-5/valid/images/train_7182_jpg.rf.8b5d7be720032daffa00f756071b2cfd.jpg: ignoring corrupt image/label: non-normalized or out of bounds coordinates [     1.0033      1.0062      1.0378      1.0555      1.0372]\n",
            "\u001b[34m\u001b[1mval: \u001b[0mWARNING ⚠️ /content/shelves-5/valid/images/train_7188_jpg.rf.3c2467b8986afca88bae1865781c4e95.jpg: ignoring corrupt image/label: non-normalized or out of bounds coordinates [     1.0013       1.001           1      1.0005      1.0064      1.0041]\n",
            "\u001b[34m\u001b[1mval: \u001b[0mWARNING ⚠️ /content/shelves-5/valid/images/train_7189_jpg.rf.ad5abd2b0aac91b9db114cb7c20f06f6.jpg: ignoring corrupt image/label: non-normalized or out of bounds coordinates [     1.0033]\n",
            "\u001b[34m\u001b[1mval: \u001b[0mWARNING ⚠️ /content/shelves-5/valid/images/train_7190_jpg.rf.cfb1001ea69e9346273b79355d1f5dbd.jpg: ignoring corrupt image/label: non-normalized or out of bounds coordinates [     1.0702]\n",
            "\u001b[34m\u001b[1mval: \u001b[0mWARNING ⚠️ /content/shelves-5/valid/images/train_7192_jpg.rf.0b643b3fafe5ba73e0a5055ffe9dcd04.jpg: ignoring corrupt image/label: non-normalized or out of bounds coordinates [     1.0021      1.0224]\n",
            "\u001b[34m\u001b[1mval: \u001b[0mWARNING ⚠️ /content/shelves-5/valid/images/train_7194_jpg.rf.ed90b3ac0dfe6ca24af1077b2e838be0.jpg: ignoring corrupt image/label: non-normalized or out of bounds coordinates [     1.0086      1.0022      1.0029]\n",
            "\u001b[34m\u001b[1mval: \u001b[0mWARNING ⚠️ /content/shelves-5/valid/images/train_7196_jpg.rf.6cd89ef599bcfc4927ed5e8fee0d95c9.jpg: ignoring corrupt image/label: non-normalized or out of bounds coordinates [      1.002      1.0022]\n",
            "\u001b[34m\u001b[1mval: \u001b[0mWARNING ⚠️ /content/shelves-5/valid/images/train_7199_jpg.rf.d8dd6675f8c215436f40df2ad49a5030.jpg: ignoring corrupt image/label: non-normalized or out of bounds coordinates [          1      1.0021      1.0049]\n",
            "\u001b[34m\u001b[1mval: \u001b[0mWARNING ⚠️ /content/shelves-5/valid/images/train_87_jpg.rf.a7d90107ea0c5b7371479605a405755c.jpg: ignoring corrupt image/label: non-normalized or out of bounds coordinates [     1.0314      1.0348      1.0484]\n"
          ]
        },
        {
          "output_type": "stream",
          "name": "stderr",
          "text": [
            "\n"
          ]
        },
        {
          "output_type": "stream",
          "name": "stdout",
          "text": [
            "Plotting labels to /content/drive/MyDrive/shelves/train4/labels.jpg... \n",
            "\u001b[34m\u001b[1moptimizer:\u001b[0m 'optimizer=auto' found, ignoring 'lr0=0.01' and 'momentum=0.937' and determining best 'optimizer', 'lr0' and 'momentum' automatically... \n",
            "\u001b[34m\u001b[1moptimizer:\u001b[0m AdamW(lr=0.002, momentum=0.9) with parameter groups 63 weight(decay=0.0), 73 weight(decay=0.002), 72 bias(decay=0.0)\n",
            "\u001b[34m\u001b[1mTensorBoard: \u001b[0mmodel graph visualization added ✅\n",
            "Image sizes 128 train, 128 val\n",
            "Using 2 dataloader workers\n",
            "Logging results to \u001b[1m/content/drive/MyDrive/shelves/train4\u001b[0m\n",
            "Starting training for 70 epochs...\n",
            "\n",
            "      Epoch    GPU_mem   box_loss   cls_loss   dfl_loss  Instances       Size\n"
          ]
        },
        {
          "output_type": "stream",
          "name": "stderr",
          "text": [
            "       1/70      1.44G      3.665      3.962      3.092       2831        128: 100%|██████████| 16/16 [00:26<00:00,  1.67s/it]\n",
            "                 Class     Images  Instances      Box(P          R      mAP50  mAP50-95): 100%|██████████| 2/2 [00:06<00:00,  3.09s/it]"
          ]
        },
        {
          "output_type": "stream",
          "name": "stdout",
          "text": [
            "                   all        370       3388      0.222      0.571      0.248     0.0929\n"
          ]
        },
        {
          "output_type": "stream",
          "name": "stderr",
          "text": [
            "\n"
          ]
        },
        {
          "output_type": "stream",
          "name": "stdout",
          "text": [
            "\n",
            "      Epoch    GPU_mem   box_loss   cls_loss   dfl_loss  Instances       Size\n"
          ]
        },
        {
          "output_type": "stream",
          "name": "stderr",
          "text": [
            "       2/70      1.44G      2.585      2.487      2.566       2958        128: 100%|██████████| 16/16 [00:25<00:00,  1.58s/it]\n",
            "                 Class     Images  Instances      Box(P          R      mAP50  mAP50-95): 100%|██████████| 2/2 [00:06<00:00,  3.49s/it]"
          ]
        },
        {
          "output_type": "stream",
          "name": "stdout",
          "text": [
            "                   all        370       3388      0.617      0.629      0.608      0.259\n"
          ]
        },
        {
          "output_type": "stream",
          "name": "stderr",
          "text": [
            "\n"
          ]
        },
        {
          "output_type": "stream",
          "name": "stdout",
          "text": [
            "\n",
            "      Epoch    GPU_mem   box_loss   cls_loss   dfl_loss  Instances       Size\n"
          ]
        },
        {
          "output_type": "stream",
          "name": "stderr",
          "text": [
            "       3/70      1.44G      1.812      1.325      2.318       2903        128: 100%|██████████| 16/16 [00:24<00:00,  1.52s/it]\n",
            "                 Class     Images  Instances      Box(P          R      mAP50  mAP50-95): 100%|██████████| 2/2 [00:06<00:00,  3.42s/it]"
          ]
        },
        {
          "output_type": "stream",
          "name": "stdout",
          "text": [
            "                   all        370       3388      0.712      0.774      0.785      0.401\n"
          ]
        },
        {
          "output_type": "stream",
          "name": "stderr",
          "text": [
            "\n"
          ]
        },
        {
          "output_type": "stream",
          "name": "stdout",
          "text": [
            "\n",
            "      Epoch    GPU_mem   box_loss   cls_loss   dfl_loss  Instances       Size\n"
          ]
        },
        {
          "output_type": "stream",
          "name": "stderr",
          "text": [
            "       4/70      1.46G      1.476     0.9668      2.257       3003        128: 100%|██████████| 16/16 [00:25<00:00,  1.60s/it]\n",
            "                 Class     Images  Instances      Box(P          R      mAP50  mAP50-95): 100%|██████████| 2/2 [00:05<00:00,  2.86s/it]"
          ]
        },
        {
          "output_type": "stream",
          "name": "stdout",
          "text": [
            "                   all        370       3388      0.549      0.872      0.661      0.397\n"
          ]
        },
        {
          "output_type": "stream",
          "name": "stderr",
          "text": [
            "\n"
          ]
        },
        {
          "output_type": "stream",
          "name": "stdout",
          "text": [
            "\n",
            "      Epoch    GPU_mem   box_loss   cls_loss   dfl_loss  Instances       Size\n"
          ]
        },
        {
          "output_type": "stream",
          "name": "stderr",
          "text": [
            "       5/70      1.44G      1.303      0.824      2.235       3087        128: 100%|██████████| 16/16 [00:25<00:00,  1.58s/it]\n",
            "                 Class     Images  Instances      Box(P          R      mAP50  mAP50-95): 100%|██████████| 2/2 [00:06<00:00,  3.42s/it]"
          ]
        },
        {
          "output_type": "stream",
          "name": "stdout",
          "text": [
            "                   all        370       3388      0.559       0.83      0.609      0.348\n"
          ]
        },
        {
          "output_type": "stream",
          "name": "stderr",
          "text": [
            "\n"
          ]
        },
        {
          "output_type": "stream",
          "name": "stdout",
          "text": [
            "\n",
            "      Epoch    GPU_mem   box_loss   cls_loss   dfl_loss  Instances       Size\n"
          ]
        },
        {
          "output_type": "stream",
          "name": "stderr",
          "text": [
            "       6/70      1.46G      1.223     0.7598      2.252       3172        128: 100%|██████████| 16/16 [00:23<00:00,  1.48s/it]\n",
            "                 Class     Images  Instances      Box(P          R      mAP50  mAP50-95): 100%|██████████| 2/2 [00:07<00:00,  3.74s/it]"
          ]
        },
        {
          "output_type": "stream",
          "name": "stdout",
          "text": [
            "                   all        370       3388      0.715       0.83      0.817      0.533\n"
          ]
        },
        {
          "output_type": "stream",
          "name": "stderr",
          "text": [
            "\n"
          ]
        },
        {
          "output_type": "stream",
          "name": "stdout",
          "text": [
            "\n",
            "      Epoch    GPU_mem   box_loss   cls_loss   dfl_loss  Instances       Size\n"
          ]
        },
        {
          "output_type": "stream",
          "name": "stderr",
          "text": [
            "       7/70      1.43G      1.174     0.7297      2.225       2964        128: 100%|██████████| 16/16 [00:25<00:00,  1.62s/it]\n",
            "                 Class     Images  Instances      Box(P          R      mAP50  mAP50-95): 100%|██████████| 2/2 [00:05<00:00,  2.85s/it]"
          ]
        },
        {
          "output_type": "stream",
          "name": "stdout",
          "text": [
            "                   all        370       3388      0.746      0.828      0.797      0.544\n"
          ]
        },
        {
          "output_type": "stream",
          "name": "stderr",
          "text": [
            "\n"
          ]
        },
        {
          "output_type": "stream",
          "name": "stdout",
          "text": [
            "\n",
            "      Epoch    GPU_mem   box_loss   cls_loss   dfl_loss  Instances       Size\n"
          ]
        },
        {
          "output_type": "stream",
          "name": "stderr",
          "text": [
            "       8/70      1.45G      1.123     0.7034      2.207       3193        128: 100%|██████████| 16/16 [00:25<00:00,  1.62s/it]\n",
            "                 Class     Images  Instances      Box(P          R      mAP50  mAP50-95): 100%|██████████| 2/2 [00:07<00:00,  3.51s/it]"
          ]
        },
        {
          "output_type": "stream",
          "name": "stdout",
          "text": [
            "                   all        370       3388      0.777      0.841      0.851      0.564\n"
          ]
        },
        {
          "output_type": "stream",
          "name": "stderr",
          "text": [
            "\n"
          ]
        },
        {
          "output_type": "stream",
          "name": "stdout",
          "text": [
            "\n",
            "      Epoch    GPU_mem   box_loss   cls_loss   dfl_loss  Instances       Size\n"
          ]
        },
        {
          "output_type": "stream",
          "name": "stderr",
          "text": [
            "       9/70      1.43G      1.098     0.6865      2.201       3103        128: 100%|██████████| 16/16 [00:25<00:00,  1.57s/it]\n",
            "                 Class     Images  Instances      Box(P          R      mAP50  mAP50-95): 100%|██████████| 2/2 [00:06<00:00,  3.45s/it]"
          ]
        },
        {
          "output_type": "stream",
          "name": "stdout",
          "text": [
            "                   all        370       3388      0.755       0.84      0.822      0.553\n"
          ]
        },
        {
          "output_type": "stream",
          "name": "stderr",
          "text": [
            "\n"
          ]
        },
        {
          "output_type": "stream",
          "name": "stdout",
          "text": [
            "\n",
            "      Epoch    GPU_mem   box_loss   cls_loss   dfl_loss  Instances       Size\n"
          ]
        },
        {
          "output_type": "stream",
          "name": "stderr",
          "text": [
            "      10/70      1.45G      1.085     0.6831      2.199       2985        128: 100%|██████████| 16/16 [00:26<00:00,  1.63s/it]\n",
            "                 Class     Images  Instances      Box(P          R      mAP50  mAP50-95): 100%|██████████| 2/2 [00:05<00:00,  2.90s/it]"
          ]
        },
        {
          "output_type": "stream",
          "name": "stdout",
          "text": [
            "                   all        370       3388      0.815      0.856      0.862      0.623\n"
          ]
        },
        {
          "output_type": "stream",
          "name": "stderr",
          "text": [
            "\n"
          ]
        },
        {
          "output_type": "stream",
          "name": "stdout",
          "text": [
            "\n",
            "      Epoch    GPU_mem   box_loss   cls_loss   dfl_loss  Instances       Size\n"
          ]
        },
        {
          "output_type": "stream",
          "name": "stderr",
          "text": [
            "      11/70      1.45G      1.053     0.6685      2.187       3055        128: 100%|██████████| 16/16 [00:25<00:00,  1.60s/it]\n",
            "                 Class     Images  Instances      Box(P          R      mAP50  mAP50-95): 100%|██████████| 2/2 [00:07<00:00,  3.59s/it]"
          ]
        },
        {
          "output_type": "stream",
          "name": "stdout",
          "text": [
            "                   all        370       3388      0.847      0.861        0.9      0.642\n"
          ]
        },
        {
          "output_type": "stream",
          "name": "stderr",
          "text": [
            "\n"
          ]
        },
        {
          "output_type": "stream",
          "name": "stdout",
          "text": [
            "\n",
            "      Epoch    GPU_mem   box_loss   cls_loss   dfl_loss  Instances       Size\n"
          ]
        },
        {
          "output_type": "stream",
          "name": "stderr",
          "text": [
            "      12/70      1.46G       1.05     0.6649      2.164       2995        128: 100%|██████████| 16/16 [00:24<00:00,  1.53s/it]\n",
            "                 Class     Images  Instances      Box(P          R      mAP50  mAP50-95): 100%|██████████| 2/2 [00:07<00:00,  3.57s/it]"
          ]
        },
        {
          "output_type": "stream",
          "name": "stdout",
          "text": [
            "                   all        370       3388      0.815      0.849      0.877      0.626\n"
          ]
        },
        {
          "output_type": "stream",
          "name": "stderr",
          "text": [
            "\n"
          ]
        },
        {
          "output_type": "stream",
          "name": "stdout",
          "text": [
            "\n",
            "      Epoch    GPU_mem   box_loss   cls_loss   dfl_loss  Instances       Size\n"
          ]
        },
        {
          "output_type": "stream",
          "name": "stderr",
          "text": [
            "      13/70      1.43G      1.049     0.6613      2.182       2977        128: 100%|██████████| 16/16 [00:26<00:00,  1.64s/it]\n",
            "                 Class     Images  Instances      Box(P          R      mAP50  mAP50-95): 100%|██████████| 2/2 [00:05<00:00,  2.90s/it]"
          ]
        },
        {
          "output_type": "stream",
          "name": "stdout",
          "text": [
            "                   all        370       3388      0.785      0.871      0.847      0.577\n"
          ]
        },
        {
          "output_type": "stream",
          "name": "stderr",
          "text": [
            "\n"
          ]
        },
        {
          "output_type": "stream",
          "name": "stdout",
          "text": [
            "\n",
            "      Epoch    GPU_mem   box_loss   cls_loss   dfl_loss  Instances       Size\n"
          ]
        },
        {
          "output_type": "stream",
          "name": "stderr",
          "text": [
            "      14/70      1.46G      1.035      0.652      2.153       3058        128: 100%|██████████| 16/16 [00:26<00:00,  1.66s/it]\n",
            "                 Class     Images  Instances      Box(P          R      mAP50  mAP50-95): 100%|██████████| 2/2 [00:07<00:00,  3.62s/it]"
          ]
        },
        {
          "output_type": "stream",
          "name": "stdout",
          "text": [
            "                   all        370       3388      0.824       0.88      0.889      0.638\n"
          ]
        },
        {
          "output_type": "stream",
          "name": "stderr",
          "text": [
            "\n"
          ]
        },
        {
          "output_type": "stream",
          "name": "stdout",
          "text": [
            "\n",
            "      Epoch    GPU_mem   box_loss   cls_loss   dfl_loss  Instances       Size\n"
          ]
        },
        {
          "output_type": "stream",
          "name": "stderr",
          "text": [
            "      15/70      1.48G      1.009     0.6355      2.156       3013        128: 100%|██████████| 16/16 [00:24<00:00,  1.53s/it]\n",
            "                 Class     Images  Instances      Box(P          R      mAP50  mAP50-95): 100%|██████████| 2/2 [00:07<00:00,  3.53s/it]"
          ]
        },
        {
          "output_type": "stream",
          "name": "stdout",
          "text": [
            "                   all        370       3388      0.841      0.877      0.903      0.652\n"
          ]
        },
        {
          "output_type": "stream",
          "name": "stderr",
          "text": [
            "\n"
          ]
        },
        {
          "output_type": "stream",
          "name": "stdout",
          "text": [
            "\n",
            "      Epoch    GPU_mem   box_loss   cls_loss   dfl_loss  Instances       Size\n"
          ]
        },
        {
          "output_type": "stream",
          "name": "stderr",
          "text": [
            "      16/70      1.43G      1.014     0.6355      2.144       3068        128: 100%|██████████| 16/16 [00:26<00:00,  1.67s/it]\n",
            "                 Class     Images  Instances      Box(P          R      mAP50  mAP50-95): 100%|██████████| 2/2 [00:06<00:00,  3.01s/it]"
          ]
        },
        {
          "output_type": "stream",
          "name": "stdout",
          "text": [
            "                   all        370       3388      0.842      0.884      0.913      0.686\n"
          ]
        },
        {
          "output_type": "stream",
          "name": "stderr",
          "text": [
            "\n"
          ]
        },
        {
          "output_type": "stream",
          "name": "stdout",
          "text": [
            "\n",
            "      Epoch    GPU_mem   box_loss   cls_loss   dfl_loss  Instances       Size\n"
          ]
        },
        {
          "output_type": "stream",
          "name": "stderr",
          "text": [
            "      17/70      1.46G     0.9966     0.6278      2.161       2941        128: 100%|██████████| 16/16 [00:25<00:00,  1.56s/it]\n",
            "                 Class     Images  Instances      Box(P          R      mAP50  mAP50-95): 100%|██████████| 2/2 [00:07<00:00,  3.69s/it]"
          ]
        },
        {
          "output_type": "stream",
          "name": "stdout",
          "text": [
            "                   all        370       3388      0.779      0.842      0.839      0.596\n"
          ]
        },
        {
          "output_type": "stream",
          "name": "stderr",
          "text": [
            "\n"
          ]
        },
        {
          "output_type": "stream",
          "name": "stdout",
          "text": [
            "\n",
            "      Epoch    GPU_mem   box_loss   cls_loss   dfl_loss  Instances       Size\n"
          ]
        },
        {
          "output_type": "stream",
          "name": "stderr",
          "text": [
            "      18/70      1.46G      1.005     0.6335      2.154       3067        128: 100%|██████████| 16/16 [00:26<00:00,  1.65s/it]\n",
            "                 Class     Images  Instances      Box(P          R      mAP50  mAP50-95): 100%|██████████| 2/2 [00:05<00:00,  2.84s/it]"
          ]
        },
        {
          "output_type": "stream",
          "name": "stdout",
          "text": [
            "                   all        370       3388      0.838      0.862      0.908      0.672\n"
          ]
        },
        {
          "output_type": "stream",
          "name": "stderr",
          "text": [
            "\n"
          ]
        },
        {
          "output_type": "stream",
          "name": "stdout",
          "text": [
            "\n",
            "      Epoch    GPU_mem   box_loss   cls_loss   dfl_loss  Instances       Size\n"
          ]
        },
        {
          "output_type": "stream",
          "name": "stderr",
          "text": [
            "      19/70      1.46G     0.9778      0.618      2.142       2972        128: 100%|██████████| 16/16 [00:25<00:00,  1.60s/it]\n",
            "                 Class     Images  Instances      Box(P          R      mAP50  mAP50-95): 100%|██████████| 2/2 [00:06<00:00,  3.18s/it]"
          ]
        },
        {
          "output_type": "stream",
          "name": "stdout",
          "text": [
            "                   all        370       3388      0.836      0.859      0.899      0.667\n"
          ]
        },
        {
          "output_type": "stream",
          "name": "stderr",
          "text": [
            "\n"
          ]
        },
        {
          "output_type": "stream",
          "name": "stdout",
          "text": [
            "\n",
            "      Epoch    GPU_mem   box_loss   cls_loss   dfl_loss  Instances       Size\n"
          ]
        },
        {
          "output_type": "stream",
          "name": "stderr",
          "text": [
            "      20/70      1.44G      0.989     0.6203      2.137       3121        128: 100%|██████████| 16/16 [00:25<00:00,  1.57s/it]\n",
            "                 Class     Images  Instances      Box(P          R      mAP50  mAP50-95): 100%|██████████| 2/2 [00:07<00:00,  3.73s/it]"
          ]
        },
        {
          "output_type": "stream",
          "name": "stdout",
          "text": [
            "                   all        370       3388      0.801      0.831      0.871      0.613\n"
          ]
        },
        {
          "output_type": "stream",
          "name": "stderr",
          "text": [
            "\n"
          ]
        },
        {
          "output_type": "stream",
          "name": "stdout",
          "text": [
            "\n",
            "      Epoch    GPU_mem   box_loss   cls_loss   dfl_loss  Instances       Size\n"
          ]
        },
        {
          "output_type": "stream",
          "name": "stderr",
          "text": [
            "      21/70      1.46G     0.9745     0.6158      2.145       2926        128: 100%|██████████| 16/16 [00:26<00:00,  1.64s/it]\n",
            "                 Class     Images  Instances      Box(P          R      mAP50  mAP50-95): 100%|██████████| 2/2 [00:05<00:00,  2.97s/it]"
          ]
        },
        {
          "output_type": "stream",
          "name": "stdout",
          "text": [
            "                   all        370       3388      0.857      0.876      0.918      0.679\n"
          ]
        },
        {
          "output_type": "stream",
          "name": "stderr",
          "text": [
            "\n"
          ]
        },
        {
          "output_type": "stream",
          "name": "stdout",
          "text": [
            "\n",
            "      Epoch    GPU_mem   box_loss   cls_loss   dfl_loss  Instances       Size\n"
          ]
        },
        {
          "output_type": "stream",
          "name": "stderr",
          "text": [
            "      22/70      1.42G     0.9752     0.6211      2.115       3071        128: 100%|██████████| 16/16 [00:25<00:00,  1.61s/it]\n",
            "                 Class     Images  Instances      Box(P          R      mAP50  mAP50-95): 100%|██████████| 2/2 [00:06<00:00,  3.43s/it]"
          ]
        },
        {
          "output_type": "stream",
          "name": "stdout",
          "text": [
            "                   all        370       3388      0.856      0.893      0.909      0.686\n"
          ]
        },
        {
          "output_type": "stream",
          "name": "stderr",
          "text": [
            "\n"
          ]
        },
        {
          "output_type": "stream",
          "name": "stdout",
          "text": [
            "\n",
            "      Epoch    GPU_mem   box_loss   cls_loss   dfl_loss  Instances       Size\n"
          ]
        },
        {
          "output_type": "stream",
          "name": "stderr",
          "text": [
            "      23/70      1.42G      0.959      0.604      2.129       2963        128: 100%|██████████| 16/16 [00:24<00:00,  1.51s/it]\n",
            "                 Class     Images  Instances      Box(P          R      mAP50  mAP50-95): 100%|██████████| 2/2 [00:07<00:00,  3.85s/it]"
          ]
        },
        {
          "output_type": "stream",
          "name": "stdout",
          "text": [
            "                   all        370       3388      0.806      0.858      0.871      0.639\n"
          ]
        },
        {
          "output_type": "stream",
          "name": "stderr",
          "text": [
            "\n"
          ]
        },
        {
          "output_type": "stream",
          "name": "stdout",
          "text": [
            "\n",
            "      Epoch    GPU_mem   box_loss   cls_loss   dfl_loss  Instances       Size\n"
          ]
        },
        {
          "output_type": "stream",
          "name": "stderr",
          "text": [
            "      24/70      1.43G     0.9487     0.6019      2.123       3002        128: 100%|██████████| 16/16 [00:25<00:00,  1.60s/it]\n",
            "                 Class     Images  Instances      Box(P          R      mAP50  mAP50-95): 100%|██████████| 2/2 [00:05<00:00,  2.94s/it]"
          ]
        },
        {
          "output_type": "stream",
          "name": "stdout",
          "text": [
            "                   all        370       3388      0.825      0.884      0.894      0.666\n"
          ]
        },
        {
          "output_type": "stream",
          "name": "stderr",
          "text": [
            "\n"
          ]
        },
        {
          "output_type": "stream",
          "name": "stdout",
          "text": [
            "\n",
            "      Epoch    GPU_mem   box_loss   cls_loss   dfl_loss  Instances       Size\n"
          ]
        },
        {
          "output_type": "stream",
          "name": "stderr",
          "text": [
            "      25/70      1.42G     0.9365     0.5926      2.132       2883        128: 100%|██████████| 16/16 [00:25<00:00,  1.62s/it]\n",
            "                 Class     Images  Instances      Box(P          R      mAP50  mAP50-95): 100%|██████████| 2/2 [00:06<00:00,  3.40s/it]"
          ]
        },
        {
          "output_type": "stream",
          "name": "stdout",
          "text": [
            "                   all        370       3388      0.838      0.868      0.904      0.658\n"
          ]
        },
        {
          "output_type": "stream",
          "name": "stderr",
          "text": [
            "\n"
          ]
        },
        {
          "output_type": "stream",
          "name": "stdout",
          "text": [
            "\n",
            "      Epoch    GPU_mem   box_loss   cls_loss   dfl_loss  Instances       Size\n"
          ]
        },
        {
          "output_type": "stream",
          "name": "stderr",
          "text": [
            "      26/70      1.46G     0.9464     0.5986      2.113       2936        128: 100%|██████████| 16/16 [00:24<00:00,  1.51s/it]\n",
            "                 Class     Images  Instances      Box(P          R      mAP50  mAP50-95): 100%|██████████| 2/2 [00:07<00:00,  3.74s/it]"
          ]
        },
        {
          "output_type": "stream",
          "name": "stdout",
          "text": [
            "                   all        370       3388      0.829      0.894      0.908       0.68\n"
          ]
        },
        {
          "output_type": "stream",
          "name": "stderr",
          "text": [
            "\n"
          ]
        },
        {
          "output_type": "stream",
          "name": "stdout",
          "text": [
            "\n",
            "      Epoch    GPU_mem   box_loss   cls_loss   dfl_loss  Instances       Size\n"
          ]
        },
        {
          "output_type": "stream",
          "name": "stderr",
          "text": [
            "      27/70      1.43G     0.9544     0.6004      2.109       2959        128: 100%|██████████| 16/16 [00:25<00:00,  1.60s/it]\n",
            "                 Class     Images  Instances      Box(P          R      mAP50  mAP50-95): 100%|██████████| 2/2 [00:05<00:00,  2.99s/it]"
          ]
        },
        {
          "output_type": "stream",
          "name": "stdout",
          "text": [
            "                   all        370       3388      0.855      0.891      0.919      0.694\n"
          ]
        },
        {
          "output_type": "stream",
          "name": "stderr",
          "text": [
            "\n"
          ]
        },
        {
          "output_type": "stream",
          "name": "stdout",
          "text": [
            "\n",
            "      Epoch    GPU_mem   box_loss   cls_loss   dfl_loss  Instances       Size\n"
          ]
        },
        {
          "output_type": "stream",
          "name": "stderr",
          "text": [
            "      28/70      1.41G     0.9403     0.5913      2.105       3109        128: 100%|██████████| 16/16 [00:26<00:00,  1.63s/it]\n",
            "                 Class     Images  Instances      Box(P          R      mAP50  mAP50-95): 100%|██████████| 2/2 [00:06<00:00,  3.34s/it]"
          ]
        },
        {
          "output_type": "stream",
          "name": "stdout",
          "text": [
            "                   all        370       3388      0.848       0.89      0.915      0.707\n"
          ]
        },
        {
          "output_type": "stream",
          "name": "stderr",
          "text": [
            "\n"
          ]
        },
        {
          "output_type": "stream",
          "name": "stdout",
          "text": [
            "\n",
            "      Epoch    GPU_mem   box_loss   cls_loss   dfl_loss  Instances       Size\n"
          ]
        },
        {
          "output_type": "stream",
          "name": "stderr",
          "text": [
            "      29/70      1.41G     0.9199     0.5808      2.107       2996        128: 100%|██████████| 16/16 [00:24<00:00,  1.54s/it]\n",
            "                 Class     Images  Instances      Box(P          R      mAP50  mAP50-95): 100%|██████████| 2/2 [00:07<00:00,  3.77s/it]"
          ]
        },
        {
          "output_type": "stream",
          "name": "stdout",
          "text": [
            "                   all        370       3388      0.858      0.866      0.914      0.696\n"
          ]
        },
        {
          "output_type": "stream",
          "name": "stderr",
          "text": [
            "\n"
          ]
        },
        {
          "output_type": "stream",
          "name": "stdout",
          "text": [
            "\n",
            "      Epoch    GPU_mem   box_loss   cls_loss   dfl_loss  Instances       Size\n"
          ]
        },
        {
          "output_type": "stream",
          "name": "stderr",
          "text": [
            "      30/70      1.41G     0.9347     0.5889      2.129       2989        128: 100%|██████████| 16/16 [00:25<00:00,  1.59s/it]\n",
            "                 Class     Images  Instances      Box(P          R      mAP50  mAP50-95): 100%|██████████| 2/2 [00:06<00:00,  3.03s/it]"
          ]
        },
        {
          "output_type": "stream",
          "name": "stdout",
          "text": [
            "                   all        370       3388      0.816      0.893      0.887      0.662\n"
          ]
        },
        {
          "output_type": "stream",
          "name": "stderr",
          "text": [
            "\n"
          ]
        },
        {
          "output_type": "stream",
          "name": "stdout",
          "text": [
            "\n",
            "      Epoch    GPU_mem   box_loss   cls_loss   dfl_loss  Instances       Size\n"
          ]
        },
        {
          "output_type": "stream",
          "name": "stderr",
          "text": [
            "      31/70      1.41G     0.9234     0.5851      2.113       3077        128: 100%|██████████| 16/16 [00:25<00:00,  1.62s/it]\n",
            "                 Class     Images  Instances      Box(P          R      mAP50  mAP50-95): 100%|██████████| 2/2 [00:07<00:00,  3.56s/it]"
          ]
        },
        {
          "output_type": "stream",
          "name": "stdout",
          "text": [
            "                   all        370       3388      0.846      0.883      0.915      0.698\n"
          ]
        },
        {
          "output_type": "stream",
          "name": "stderr",
          "text": [
            "\n"
          ]
        },
        {
          "output_type": "stream",
          "name": "stdout",
          "text": [
            "\n",
            "      Epoch    GPU_mem   box_loss   cls_loss   dfl_loss  Instances       Size\n"
          ]
        },
        {
          "output_type": "stream",
          "name": "stderr",
          "text": [
            "      32/70      1.46G     0.9218     0.5834      2.094       2959        128: 100%|██████████| 16/16 [00:24<00:00,  1.50s/it]\n",
            "                 Class     Images  Instances      Box(P          R      mAP50  mAP50-95): 100%|██████████| 2/2 [00:07<00:00,  3.81s/it]"
          ]
        },
        {
          "output_type": "stream",
          "name": "stdout",
          "text": [
            "                   all        370       3388      0.841      0.884      0.906      0.686\n"
          ]
        },
        {
          "output_type": "stream",
          "name": "stderr",
          "text": [
            "\n"
          ]
        },
        {
          "output_type": "stream",
          "name": "stdout",
          "text": [
            "\n",
            "      Epoch    GPU_mem   box_loss   cls_loss   dfl_loss  Instances       Size\n"
          ]
        },
        {
          "output_type": "stream",
          "name": "stderr",
          "text": [
            "      33/70      1.43G     0.9178     0.5769      2.115       3051        128: 100%|██████████| 16/16 [00:25<00:00,  1.58s/it]\n",
            "                 Class     Images  Instances      Box(P          R      mAP50  mAP50-95): 100%|██████████| 2/2 [00:06<00:00,  3.01s/it]"
          ]
        },
        {
          "output_type": "stream",
          "name": "stdout",
          "text": [
            "                   all        370       3388      0.854      0.895       0.92      0.702\n"
          ]
        },
        {
          "output_type": "stream",
          "name": "stderr",
          "text": [
            "\n"
          ]
        },
        {
          "output_type": "stream",
          "name": "stdout",
          "text": [
            "\n",
            "      Epoch    GPU_mem   box_loss   cls_loss   dfl_loss  Instances       Size\n"
          ]
        },
        {
          "output_type": "stream",
          "name": "stderr",
          "text": [
            "      34/70      1.42G     0.9027     0.5693      2.111       2993        128: 100%|██████████| 16/16 [00:24<00:00,  1.56s/it]\n",
            "                 Class     Images  Instances      Box(P          R      mAP50  mAP50-95): 100%|██████████| 2/2 [00:06<00:00,  3.09s/it]"
          ]
        },
        {
          "output_type": "stream",
          "name": "stdout",
          "text": [
            "                   all        370       3388      0.852      0.887      0.919        0.7\n"
          ]
        },
        {
          "output_type": "stream",
          "name": "stderr",
          "text": [
            "\n"
          ]
        },
        {
          "output_type": "stream",
          "name": "stdout",
          "text": [
            "\n",
            "      Epoch    GPU_mem   box_loss   cls_loss   dfl_loss  Instances       Size\n"
          ]
        },
        {
          "output_type": "stream",
          "name": "stderr",
          "text": [
            "      35/70      1.44G     0.9054     0.5673      2.108       3169        128: 100%|██████████| 16/16 [00:25<00:00,  1.58s/it]\n",
            "                 Class     Images  Instances      Box(P          R      mAP50  mAP50-95): 100%|██████████| 2/2 [00:07<00:00,  3.81s/it]"
          ]
        },
        {
          "output_type": "stream",
          "name": "stdout",
          "text": [
            "                   all        370       3388      0.856      0.898      0.925      0.709\n"
          ]
        },
        {
          "output_type": "stream",
          "name": "stderr",
          "text": [
            "\n"
          ]
        },
        {
          "output_type": "stream",
          "name": "stdout",
          "text": [
            "\n",
            "      Epoch    GPU_mem   box_loss   cls_loss   dfl_loss  Instances       Size\n"
          ]
        },
        {
          "output_type": "stream",
          "name": "stderr",
          "text": [
            "      36/70      1.45G     0.9051     0.5714       2.11       3182        128: 100%|██████████| 16/16 [00:26<00:00,  1.65s/it]\n",
            "                 Class     Images  Instances      Box(P          R      mAP50  mAP50-95): 100%|██████████| 2/2 [00:06<00:00,  3.03s/it]"
          ]
        },
        {
          "output_type": "stream",
          "name": "stdout",
          "text": [
            "                   all        370       3388       0.84      0.893      0.886      0.672\n"
          ]
        },
        {
          "output_type": "stream",
          "name": "stderr",
          "text": [
            "\n"
          ]
        },
        {
          "output_type": "stream",
          "name": "stdout",
          "text": [
            "\n",
            "      Epoch    GPU_mem   box_loss   cls_loss   dfl_loss  Instances       Size\n"
          ]
        },
        {
          "output_type": "stream",
          "name": "stderr",
          "text": [
            "      37/70      1.41G     0.9065     0.5702      2.107       2971        128: 100%|██████████| 16/16 [00:26<00:00,  1.66s/it]\n",
            "                 Class     Images  Instances      Box(P          R      mAP50  mAP50-95): 100%|██████████| 2/2 [00:06<00:00,  3.03s/it]"
          ]
        },
        {
          "output_type": "stream",
          "name": "stdout",
          "text": [
            "                   all        370       3388       0.84      0.889      0.917      0.704\n"
          ]
        },
        {
          "output_type": "stream",
          "name": "stderr",
          "text": [
            "\n"
          ]
        },
        {
          "output_type": "stream",
          "name": "stdout",
          "text": [
            "\n",
            "      Epoch    GPU_mem   box_loss   cls_loss   dfl_loss  Instances       Size\n"
          ]
        },
        {
          "output_type": "stream",
          "name": "stderr",
          "text": [
            "      38/70      1.42G     0.9027     0.5678      2.111       3059        128: 100%|██████████| 16/16 [00:24<00:00,  1.50s/it]\n",
            "                 Class     Images  Instances      Box(P          R      mAP50  mAP50-95): 100%|██████████| 2/2 [00:07<00:00,  3.87s/it]"
          ]
        },
        {
          "output_type": "stream",
          "name": "stdout",
          "text": [
            "                   all        370       3388      0.826       0.87      0.895      0.678\n"
          ]
        },
        {
          "output_type": "stream",
          "name": "stderr",
          "text": [
            "\n"
          ]
        },
        {
          "output_type": "stream",
          "name": "stdout",
          "text": [
            "\n",
            "      Epoch    GPU_mem   box_loss   cls_loss   dfl_loss  Instances       Size\n"
          ]
        },
        {
          "output_type": "stream",
          "name": "stderr",
          "text": [
            "      39/70      1.44G      0.898     0.5638      2.105       3061        128: 100%|██████████| 16/16 [00:26<00:00,  1.64s/it]\n",
            "                 Class     Images  Instances      Box(P          R      mAP50  mAP50-95): 100%|██████████| 2/2 [00:06<00:00,  3.14s/it]"
          ]
        },
        {
          "output_type": "stream",
          "name": "stdout",
          "text": [
            "                   all        370       3388      0.862      0.898      0.932      0.738\n"
          ]
        },
        {
          "output_type": "stream",
          "name": "stderr",
          "text": [
            "\n"
          ]
        },
        {
          "output_type": "stream",
          "name": "stdout",
          "text": [
            "\n",
            "      Epoch    GPU_mem   box_loss   cls_loss   dfl_loss  Instances       Size\n"
          ]
        },
        {
          "output_type": "stream",
          "name": "stderr",
          "text": [
            "      40/70      1.42G      0.898      0.564      2.097       2952        128: 100%|██████████| 16/16 [00:25<00:00,  1.61s/it]\n",
            "                 Class     Images  Instances      Box(P          R      mAP50  mAP50-95): 100%|██████████| 2/2 [00:06<00:00,  3.44s/it]"
          ]
        },
        {
          "output_type": "stream",
          "name": "stdout",
          "text": [
            "                   all        370       3388      0.852      0.909      0.923      0.725\n"
          ]
        },
        {
          "output_type": "stream",
          "name": "stderr",
          "text": [
            "\n"
          ]
        },
        {
          "output_type": "stream",
          "name": "stdout",
          "text": [
            "\n",
            "      Epoch    GPU_mem   box_loss   cls_loss   dfl_loss  Instances       Size\n"
          ]
        },
        {
          "output_type": "stream",
          "name": "stderr",
          "text": [
            "      41/70      1.42G     0.8933     0.5608      2.098       3090        128: 100%|██████████| 16/16 [00:24<00:00,  1.52s/it]\n",
            "                 Class     Images  Instances      Box(P          R      mAP50  mAP50-95): 100%|██████████| 2/2 [00:07<00:00,  3.80s/it]"
          ]
        },
        {
          "output_type": "stream",
          "name": "stdout",
          "text": [
            "                   all        370       3388       0.86      0.899      0.925      0.731\n"
          ]
        },
        {
          "output_type": "stream",
          "name": "stderr",
          "text": [
            "\n"
          ]
        },
        {
          "output_type": "stream",
          "name": "stdout",
          "text": [
            "\n",
            "      Epoch    GPU_mem   box_loss   cls_loss   dfl_loss  Instances       Size\n"
          ]
        },
        {
          "output_type": "stream",
          "name": "stderr",
          "text": [
            "      42/70      1.44G     0.8896     0.5577      2.104       3082        128: 100%|██████████| 16/16 [00:25<00:00,  1.60s/it]\n",
            "                 Class     Images  Instances      Box(P          R      mAP50  mAP50-95): 100%|██████████| 2/2 [00:06<00:00,  3.04s/it]"
          ]
        },
        {
          "output_type": "stream",
          "name": "stdout",
          "text": [
            "                   all        370       3388      0.845      0.878      0.911      0.716\n"
          ]
        },
        {
          "output_type": "stream",
          "name": "stderr",
          "text": [
            "\n"
          ]
        },
        {
          "output_type": "stream",
          "name": "stdout",
          "text": [
            "\n",
            "      Epoch    GPU_mem   box_loss   cls_loss   dfl_loss  Instances       Size\n"
          ]
        },
        {
          "output_type": "stream",
          "name": "stderr",
          "text": [
            "      43/70      1.44G      0.892     0.5611      2.091       2753        128: 100%|██████████| 16/16 [00:25<00:00,  1.58s/it]\n",
            "                 Class     Images  Instances      Box(P          R      mAP50  mAP50-95): 100%|██████████| 2/2 [00:06<00:00,  3.45s/it]"
          ]
        },
        {
          "output_type": "stream",
          "name": "stdout",
          "text": [
            "                   all        370       3388      0.856      0.892      0.932      0.722\n"
          ]
        },
        {
          "output_type": "stream",
          "name": "stderr",
          "text": [
            "\n"
          ]
        },
        {
          "output_type": "stream",
          "name": "stdout",
          "text": [
            "\n",
            "      Epoch    GPU_mem   box_loss   cls_loss   dfl_loss  Instances       Size\n"
          ]
        },
        {
          "output_type": "stream",
          "name": "stderr",
          "text": [
            "      44/70      1.42G     0.8897     0.5613      2.096       3174        128: 100%|██████████| 16/16 [00:24<00:00,  1.51s/it]\n",
            "                 Class     Images  Instances      Box(P          R      mAP50  mAP50-95): 100%|██████████| 2/2 [00:07<00:00,  3.73s/it]"
          ]
        },
        {
          "output_type": "stream",
          "name": "stdout",
          "text": [
            "                   all        370       3388      0.844      0.901      0.919      0.725\n"
          ]
        },
        {
          "output_type": "stream",
          "name": "stderr",
          "text": [
            "\n"
          ]
        },
        {
          "output_type": "stream",
          "name": "stdout",
          "text": [
            "\n",
            "      Epoch    GPU_mem   box_loss   cls_loss   dfl_loss  Instances       Size\n"
          ]
        },
        {
          "output_type": "stream",
          "name": "stderr",
          "text": [
            "      45/70      1.44G     0.8752     0.5474      2.083       3048        128: 100%|██████████| 16/16 [00:25<00:00,  1.58s/it]\n",
            "                 Class     Images  Instances      Box(P          R      mAP50  mAP50-95): 100%|██████████| 2/2 [00:06<00:00,  3.03s/it]"
          ]
        },
        {
          "output_type": "stream",
          "name": "stdout",
          "text": [
            "                   all        370       3388      0.848      0.885      0.919      0.714\n"
          ]
        },
        {
          "output_type": "stream",
          "name": "stderr",
          "text": [
            "\n"
          ]
        },
        {
          "output_type": "stream",
          "name": "stdout",
          "text": [
            "\n",
            "      Epoch    GPU_mem   box_loss   cls_loss   dfl_loss  Instances       Size\n"
          ]
        },
        {
          "output_type": "stream",
          "name": "stderr",
          "text": [
            "      46/70      1.42G      0.881     0.5486      2.085       2982        128: 100%|██████████| 16/16 [00:26<00:00,  1.63s/it]\n",
            "                 Class     Images  Instances      Box(P          R      mAP50  mAP50-95): 100%|██████████| 2/2 [00:06<00:00,  3.44s/it]"
          ]
        },
        {
          "output_type": "stream",
          "name": "stdout",
          "text": [
            "                   all        370       3388      0.849      0.875      0.918      0.715\n"
          ]
        },
        {
          "output_type": "stream",
          "name": "stderr",
          "text": [
            "\n"
          ]
        },
        {
          "output_type": "stream",
          "name": "stdout",
          "text": [
            "\n",
            "      Epoch    GPU_mem   box_loss   cls_loss   dfl_loss  Instances       Size\n"
          ]
        },
        {
          "output_type": "stream",
          "name": "stderr",
          "text": [
            "      47/70      1.42G     0.8777     0.5513      2.106       2887        128: 100%|██████████| 16/16 [00:24<00:00,  1.53s/it]\n",
            "                 Class     Images  Instances      Box(P          R      mAP50  mAP50-95): 100%|██████████| 2/2 [00:07<00:00,  3.78s/it]"
          ]
        },
        {
          "output_type": "stream",
          "name": "stdout",
          "text": [
            "                   all        370       3388      0.863      0.883      0.929      0.725\n"
          ]
        },
        {
          "output_type": "stream",
          "name": "stderr",
          "text": [
            "\n"
          ]
        },
        {
          "output_type": "stream",
          "name": "stdout",
          "text": [
            "\n",
            "      Epoch    GPU_mem   box_loss   cls_loss   dfl_loss  Instances       Size\n"
          ]
        },
        {
          "output_type": "stream",
          "name": "stderr",
          "text": [
            "      48/70      1.41G     0.8795     0.5512      2.088       3099        128: 100%|██████████| 16/16 [00:25<00:00,  1.61s/it]\n",
            "                 Class     Images  Instances      Box(P          R      mAP50  mAP50-95): 100%|██████████| 2/2 [00:06<00:00,  3.01s/it]"
          ]
        },
        {
          "output_type": "stream",
          "name": "stdout",
          "text": [
            "                   all        370       3388      0.842      0.883      0.912      0.704\n"
          ]
        },
        {
          "output_type": "stream",
          "name": "stderr",
          "text": [
            "\n"
          ]
        },
        {
          "output_type": "stream",
          "name": "stdout",
          "text": [
            "\n",
            "      Epoch    GPU_mem   box_loss   cls_loss   dfl_loss  Instances       Size\n"
          ]
        },
        {
          "output_type": "stream",
          "name": "stderr",
          "text": [
            "      49/70      1.42G     0.8778     0.5487      2.076       3033        128: 100%|██████████| 16/16 [00:25<00:00,  1.58s/it]\n",
            "                 Class     Images  Instances      Box(P          R      mAP50  mAP50-95): 100%|██████████| 2/2 [00:06<00:00,  3.06s/it]"
          ]
        },
        {
          "output_type": "stream",
          "name": "stdout",
          "text": [
            "                   all        370       3388       0.85      0.904      0.922      0.727\n"
          ]
        },
        {
          "output_type": "stream",
          "name": "stderr",
          "text": [
            "\n"
          ]
        },
        {
          "output_type": "stream",
          "name": "stdout",
          "text": [
            "\n",
            "      Epoch    GPU_mem   box_loss   cls_loss   dfl_loss  Instances       Size\n"
          ]
        },
        {
          "output_type": "stream",
          "name": "stderr",
          "text": [
            "      50/70      1.44G     0.8743     0.5507      2.093       2987        128: 100%|██████████| 16/16 [00:24<00:00,  1.54s/it]\n",
            "                 Class     Images  Instances      Box(P          R      mAP50  mAP50-95): 100%|██████████| 2/2 [00:07<00:00,  3.79s/it]"
          ]
        },
        {
          "output_type": "stream",
          "name": "stdout",
          "text": [
            "                   all        370       3388      0.853      0.887      0.919      0.714\n"
          ]
        },
        {
          "output_type": "stream",
          "name": "stderr",
          "text": [
            "\n"
          ]
        },
        {
          "output_type": "stream",
          "name": "stdout",
          "text": [
            "\n",
            "      Epoch    GPU_mem   box_loss   cls_loss   dfl_loss  Instances       Size\n"
          ]
        },
        {
          "output_type": "stream",
          "name": "stderr",
          "text": [
            "      51/70      1.44G     0.8786     0.5494       2.08       2916        128: 100%|██████████| 16/16 [00:25<00:00,  1.59s/it]\n",
            "                 Class     Images  Instances      Box(P          R      mAP50  mAP50-95): 100%|██████████| 2/2 [00:06<00:00,  3.06s/it]"
          ]
        },
        {
          "output_type": "stream",
          "name": "stdout",
          "text": [
            "                   all        370       3388      0.862      0.887      0.929      0.721\n"
          ]
        },
        {
          "output_type": "stream",
          "name": "stderr",
          "text": [
            "\n"
          ]
        },
        {
          "output_type": "stream",
          "name": "stdout",
          "text": [
            "\n",
            "      Epoch    GPU_mem   box_loss   cls_loss   dfl_loss  Instances       Size\n"
          ]
        },
        {
          "output_type": "stream",
          "name": "stderr",
          "text": [
            "      52/70      1.42G     0.8636     0.5417      2.099       2912        128: 100%|██████████| 16/16 [00:25<00:00,  1.57s/it]\n",
            "                 Class     Images  Instances      Box(P          R      mAP50  mAP50-95): 100%|██████████| 2/2 [00:06<00:00,  3.12s/it]"
          ]
        },
        {
          "output_type": "stream",
          "name": "stdout",
          "text": [
            "                   all        370       3388      0.832      0.873      0.911      0.702\n"
          ]
        },
        {
          "output_type": "stream",
          "name": "stderr",
          "text": [
            "\n"
          ]
        },
        {
          "output_type": "stream",
          "name": "stdout",
          "text": [
            "\n",
            "      Epoch    GPU_mem   box_loss   cls_loss   dfl_loss  Instances       Size\n"
          ]
        },
        {
          "output_type": "stream",
          "name": "stderr",
          "text": [
            "      53/70      1.42G     0.8696     0.5436      2.094       3122        128: 100%|██████████| 16/16 [00:25<00:00,  1.57s/it]\n",
            "                 Class     Images  Instances      Box(P          R      mAP50  mAP50-95): 100%|██████████| 2/2 [00:07<00:00,  3.59s/it]"
          ]
        },
        {
          "output_type": "stream",
          "name": "stdout",
          "text": [
            "                   all        370       3388      0.852       0.89      0.925      0.731\n"
          ]
        },
        {
          "output_type": "stream",
          "name": "stderr",
          "text": [
            "\n"
          ]
        },
        {
          "output_type": "stream",
          "name": "stdout",
          "text": [
            "\n",
            "      Epoch    GPU_mem   box_loss   cls_loss   dfl_loss  Instances       Size\n"
          ]
        },
        {
          "output_type": "stream",
          "name": "stderr",
          "text": [
            "      54/70      1.48G     0.8688     0.5428      2.074       3117        128: 100%|██████████| 16/16 [00:25<00:00,  1.62s/it]\n",
            "                 Class     Images  Instances      Box(P          R      mAP50  mAP50-95): 100%|██████████| 2/2 [00:05<00:00,  2.86s/it]"
          ]
        },
        {
          "output_type": "stream",
          "name": "stdout",
          "text": [
            "                   all        370       3388      0.852      0.898      0.928      0.736\n"
          ]
        },
        {
          "output_type": "stream",
          "name": "stderr",
          "text": [
            "\n"
          ]
        },
        {
          "output_type": "stream",
          "name": "stdout",
          "text": [
            "\n",
            "      Epoch    GPU_mem   box_loss   cls_loss   dfl_loss  Instances       Size\n"
          ]
        },
        {
          "output_type": "stream",
          "name": "stderr",
          "text": [
            "      55/70      1.44G     0.8589       0.54      2.067       2924        128: 100%|██████████| 16/16 [00:25<00:00,  1.62s/it]\n",
            "                 Class     Images  Instances      Box(P          R      mAP50  mAP50-95): 100%|██████████| 2/2 [00:06<00:00,  3.46s/it]"
          ]
        },
        {
          "output_type": "stream",
          "name": "stdout",
          "text": [
            "                   all        370       3388      0.856      0.897      0.926      0.732\n"
          ]
        },
        {
          "output_type": "stream",
          "name": "stderr",
          "text": [
            "\n"
          ]
        },
        {
          "output_type": "stream",
          "name": "stdout",
          "text": [
            "\n",
            "      Epoch    GPU_mem   box_loss   cls_loss   dfl_loss  Instances       Size\n"
          ]
        },
        {
          "output_type": "stream",
          "name": "stderr",
          "text": [
            "      56/70      1.44G     0.8603     0.5376      2.092       2909        128: 100%|██████████| 16/16 [00:24<00:00,  1.52s/it]\n",
            "                 Class     Images  Instances      Box(P          R      mAP50  mAP50-95): 100%|██████████| 2/2 [00:07<00:00,  3.58s/it]"
          ]
        },
        {
          "output_type": "stream",
          "name": "stdout",
          "text": [
            "                   all        370       3388      0.842      0.901      0.923      0.727\n"
          ]
        },
        {
          "output_type": "stream",
          "name": "stderr",
          "text": [
            "\n"
          ]
        },
        {
          "output_type": "stream",
          "name": "stdout",
          "text": [
            "\n",
            "      Epoch    GPU_mem   box_loss   cls_loss   dfl_loss  Instances       Size\n"
          ]
        },
        {
          "output_type": "stream",
          "name": "stderr",
          "text": [
            "      57/70      1.44G     0.8572     0.5356      2.082       2823        128: 100%|██████████| 16/16 [00:25<00:00,  1.60s/it]\n",
            "                 Class     Images  Instances      Box(P          R      mAP50  mAP50-95): 100%|██████████| 2/2 [00:05<00:00,  2.92s/it]"
          ]
        },
        {
          "output_type": "stream",
          "name": "stdout",
          "text": [
            "                   all        370       3388      0.866      0.903      0.936      0.746\n"
          ]
        },
        {
          "output_type": "stream",
          "name": "stderr",
          "text": [
            "\n"
          ]
        },
        {
          "output_type": "stream",
          "name": "stdout",
          "text": [
            "\n",
            "      Epoch    GPU_mem   box_loss   cls_loss   dfl_loss  Instances       Size\n"
          ]
        },
        {
          "output_type": "stream",
          "name": "stderr",
          "text": [
            "      58/70      1.45G     0.8547     0.5367      2.075       3068        128: 100%|██████████| 16/16 [00:26<00:00,  1.65s/it]\n",
            "                 Class     Images  Instances      Box(P          R      mAP50  mAP50-95): 100%|██████████| 2/2 [00:07<00:00,  3.54s/it]"
          ]
        },
        {
          "output_type": "stream",
          "name": "stdout",
          "text": [
            "                   all        370       3388      0.865      0.899      0.933      0.746\n"
          ]
        },
        {
          "output_type": "stream",
          "name": "stderr",
          "text": [
            "\n"
          ]
        },
        {
          "output_type": "stream",
          "name": "stdout",
          "text": [
            "\n",
            "      Epoch    GPU_mem   box_loss   cls_loss   dfl_loss  Instances       Size\n"
          ]
        },
        {
          "output_type": "stream",
          "name": "stderr",
          "text": [
            "      59/70      1.41G     0.8517     0.5343      2.077       2947        128: 100%|██████████| 16/16 [00:24<00:00,  1.52s/it]\n",
            "                 Class     Images  Instances      Box(P          R      mAP50  mAP50-95): 100%|██████████| 2/2 [00:07<00:00,  3.74s/it]"
          ]
        },
        {
          "output_type": "stream",
          "name": "stdout",
          "text": [
            "                   all        370       3388      0.863      0.897      0.932      0.743\n"
          ]
        },
        {
          "output_type": "stream",
          "name": "stderr",
          "text": [
            "\n"
          ]
        },
        {
          "output_type": "stream",
          "name": "stdout",
          "text": [
            "\n",
            "      Epoch    GPU_mem   box_loss   cls_loss   dfl_loss  Instances       Size\n"
          ]
        },
        {
          "output_type": "stream",
          "name": "stderr",
          "text": [
            "      60/70      1.44G     0.8524     0.5318      2.075       2991        128: 100%|██████████| 16/16 [00:25<00:00,  1.56s/it]\n",
            "                 Class     Images  Instances      Box(P          R      mAP50  mAP50-95): 100%|██████████| 2/2 [00:06<00:00,  3.03s/it]"
          ]
        },
        {
          "output_type": "stream",
          "name": "stdout",
          "text": [
            "                   all        370       3388      0.853      0.894      0.928      0.733\n"
          ]
        },
        {
          "output_type": "stream",
          "name": "stderr",
          "text": [
            "\n"
          ]
        },
        {
          "output_type": "stream",
          "name": "stdout",
          "text": [
            "Closing dataloader mosaic\n",
            "\u001b[34m\u001b[1malbumentations: \u001b[0mBlur(p=0.01, blur_limit=(3, 7)), MedianBlur(p=0.01, blur_limit=(3, 7)), ToGray(p=0.01, method='weighted_average', num_output_channels=3), CLAHE(p=0.01, clip_limit=(1.0, 4.0), tile_grid_size=(8, 8))\n"
          ]
        },
        {
          "output_type": "stream",
          "name": "stderr",
          "text": [
            "Argument(s) 'quality_lower' are not valid for transform ImageCompression\n"
          ]
        },
        {
          "output_type": "stream",
          "name": "stdout",
          "text": [
            "\n",
            "      Epoch    GPU_mem   box_loss   cls_loss   dfl_loss  Instances       Size\n"
          ]
        },
        {
          "output_type": "stream",
          "name": "stderr",
          "text": [
            "      61/70      1.35G     0.8608     0.6714      2.291       1460        128: 100%|██████████| 16/16 [00:24<00:00,  1.54s/it]\n",
            "                 Class     Images  Instances      Box(P          R      mAP50  mAP50-95): 100%|██████████| 2/2 [00:06<00:00,  3.09s/it]"
          ]
        },
        {
          "output_type": "stream",
          "name": "stdout",
          "text": [
            "                   all        370       3388      0.885      0.888      0.931      0.684\n"
          ]
        },
        {
          "output_type": "stream",
          "name": "stderr",
          "text": [
            "\n"
          ]
        },
        {
          "output_type": "stream",
          "name": "stdout",
          "text": [
            "\n",
            "      Epoch    GPU_mem   box_loss   cls_loss   dfl_loss  Instances       Size\n"
          ]
        },
        {
          "output_type": "stream",
          "name": "stderr",
          "text": [
            "      62/70      1.35G     0.7891     0.5593      2.177       1499        128: 100%|██████████| 16/16 [00:18<00:00,  1.16s/it]\n",
            "                 Class     Images  Instances      Box(P          R      mAP50  mAP50-95): 100%|██████████| 2/2 [00:05<00:00,  2.72s/it]"
          ]
        },
        {
          "output_type": "stream",
          "name": "stdout",
          "text": [
            "                   all        370       3388      0.869      0.906      0.934      0.723\n"
          ]
        },
        {
          "output_type": "stream",
          "name": "stderr",
          "text": [
            "\n"
          ]
        },
        {
          "output_type": "stream",
          "name": "stdout",
          "text": [
            "\n",
            "      Epoch    GPU_mem   box_loss   cls_loss   dfl_loss  Instances       Size\n"
          ]
        },
        {
          "output_type": "stream",
          "name": "stderr",
          "text": [
            "      63/70      1.35G     0.7708     0.5349      2.158       1515        128: 100%|██████████| 16/16 [00:19<00:00,  1.24s/it]\n",
            "                 Class     Images  Instances      Box(P          R      mAP50  mAP50-95): 100%|██████████| 2/2 [00:05<00:00,  2.72s/it]"
          ]
        },
        {
          "output_type": "stream",
          "name": "stdout",
          "text": [
            "                   all        370       3388       0.87      0.899      0.932      0.743\n"
          ]
        },
        {
          "output_type": "stream",
          "name": "stderr",
          "text": [
            "\n"
          ]
        },
        {
          "output_type": "stream",
          "name": "stdout",
          "text": [
            "\n",
            "      Epoch    GPU_mem   box_loss   cls_loss   dfl_loss  Instances       Size\n"
          ]
        },
        {
          "output_type": "stream",
          "name": "stderr",
          "text": [
            "      64/70       1.4G     0.7607     0.5211      2.135       1425        128: 100%|██████████| 16/16 [00:18<00:00,  1.18s/it]\n",
            "                 Class     Images  Instances      Box(P          R      mAP50  mAP50-95): 100%|██████████| 2/2 [00:06<00:00,  3.17s/it]"
          ]
        },
        {
          "output_type": "stream",
          "name": "stdout",
          "text": [
            "                   all        370       3388      0.868      0.907      0.932      0.743\n"
          ]
        },
        {
          "output_type": "stream",
          "name": "stderr",
          "text": [
            "\n"
          ]
        },
        {
          "output_type": "stream",
          "name": "stdout",
          "text": [
            "\n",
            "      Epoch    GPU_mem   box_loss   cls_loss   dfl_loss  Instances       Size\n"
          ]
        },
        {
          "output_type": "stream",
          "name": "stderr",
          "text": [
            "      65/70       1.4G      0.758     0.5193      2.149       1571        128: 100%|██████████| 16/16 [00:18<00:00,  1.14s/it]\n",
            "                 Class     Images  Instances      Box(P          R      mAP50  mAP50-95): 100%|██████████| 2/2 [00:07<00:00,  3.52s/it]"
          ]
        },
        {
          "output_type": "stream",
          "name": "stdout",
          "text": [
            "                   all        370       3388      0.867      0.906      0.935      0.748\n"
          ]
        },
        {
          "output_type": "stream",
          "name": "stderr",
          "text": [
            "\n"
          ]
        },
        {
          "output_type": "stream",
          "name": "stdout",
          "text": [
            "\n",
            "      Epoch    GPU_mem   box_loss   cls_loss   dfl_loss  Instances       Size\n"
          ]
        },
        {
          "output_type": "stream",
          "name": "stderr",
          "text": [
            "      66/70      1.35G     0.7554     0.5159       2.13       1537        128: 100%|██████████| 16/16 [00:18<00:00,  1.15s/it]\n",
            "                 Class     Images  Instances      Box(P          R      mAP50  mAP50-95): 100%|██████████| 2/2 [00:06<00:00,  3.35s/it]"
          ]
        },
        {
          "output_type": "stream",
          "name": "stdout",
          "text": [
            "                   all        370       3388      0.866      0.908      0.931      0.751\n"
          ]
        },
        {
          "output_type": "stream",
          "name": "stderr",
          "text": [
            "\n"
          ]
        },
        {
          "output_type": "stream",
          "name": "stdout",
          "text": [
            "\n",
            "      Epoch    GPU_mem   box_loss   cls_loss   dfl_loss  Instances       Size\n"
          ]
        },
        {
          "output_type": "stream",
          "name": "stderr",
          "text": [
            "      67/70      1.39G     0.7504     0.5133      2.138       1550        128: 100%|██████████| 16/16 [00:18<00:00,  1.16s/it]\n",
            "                 Class     Images  Instances      Box(P          R      mAP50  mAP50-95): 100%|██████████| 2/2 [00:05<00:00,  2.84s/it]"
          ]
        },
        {
          "output_type": "stream",
          "name": "stdout",
          "text": [
            "                   all        370       3388      0.875      0.906      0.935      0.754\n"
          ]
        },
        {
          "output_type": "stream",
          "name": "stderr",
          "text": [
            "\n"
          ]
        },
        {
          "output_type": "stream",
          "name": "stdout",
          "text": [
            "\n",
            "      Epoch    GPU_mem   box_loss   cls_loss   dfl_loss  Instances       Size\n"
          ]
        },
        {
          "output_type": "stream",
          "name": "stderr",
          "text": [
            "      68/70      1.35G     0.7503     0.5114      2.146       1459        128: 100%|██████████| 16/16 [00:20<00:00,  1.28s/it]\n",
            "                 Class     Images  Instances      Box(P          R      mAP50  mAP50-95): 100%|██████████| 2/2 [00:05<00:00,  2.54s/it]"
          ]
        },
        {
          "output_type": "stream",
          "name": "stdout",
          "text": [
            "                   all        370       3388      0.867       0.91      0.933      0.748\n"
          ]
        },
        {
          "output_type": "stream",
          "name": "stderr",
          "text": [
            "\n"
          ]
        },
        {
          "output_type": "stream",
          "name": "stdout",
          "text": [
            "\n",
            "      Epoch    GPU_mem   box_loss   cls_loss   dfl_loss  Instances       Size\n"
          ]
        },
        {
          "output_type": "stream",
          "name": "stderr",
          "text": [
            "      69/70      1.35G     0.7465     0.5086      2.141       1484        128: 100%|██████████| 16/16 [00:18<00:00,  1.17s/it]\n",
            "                 Class     Images  Instances      Box(P          R      mAP50  mAP50-95): 100%|██████████| 2/2 [00:06<00:00,  3.17s/it]"
          ]
        },
        {
          "output_type": "stream",
          "name": "stdout",
          "text": [
            "                   all        370       3388      0.868       0.91      0.935      0.754\n"
          ]
        },
        {
          "output_type": "stream",
          "name": "stderr",
          "text": [
            "\n"
          ]
        },
        {
          "output_type": "stream",
          "name": "stdout",
          "text": [
            "\n",
            "      Epoch    GPU_mem   box_loss   cls_loss   dfl_loss  Instances       Size\n"
          ]
        },
        {
          "output_type": "stream",
          "name": "stderr",
          "text": [
            "      70/70      1.39G     0.7409     0.5049      2.149       1514        128: 100%|██████████| 16/16 [00:17<00:00,  1.12s/it]\n",
            "                 Class     Images  Instances      Box(P          R      mAP50  mAP50-95): 100%|██████████| 2/2 [00:07<00:00,  3.72s/it]"
          ]
        },
        {
          "output_type": "stream",
          "name": "stdout",
          "text": [
            "                   all        370       3388       0.87      0.907      0.934      0.753\n"
          ]
        },
        {
          "output_type": "stream",
          "name": "stderr",
          "text": [
            "\n"
          ]
        },
        {
          "output_type": "stream",
          "name": "stdout",
          "text": [
            "\n",
            "70 epochs completed in 0.636 hours.\n",
            "Optimizer stripped from /content/drive/MyDrive/shelves/train4/weights/last.pt, 6.5MB\n",
            "Optimizer stripped from /content/drive/MyDrive/shelves/train4/weights/best.pt, 6.5MB\n",
            "\n",
            "Validating /content/drive/MyDrive/shelves/train4/weights/best.pt...\n",
            "Ultralytics 8.3.40 🚀 Python-3.11.13 torch-2.6.0+cu124 CUDA:0 (Tesla T4, 15095MiB)\n",
            "YOLOv8n-obb summary (fused): 187 layers, 3,077,414 parameters, 0 gradients, 8.3 GFLOPs\n"
          ]
        },
        {
          "output_type": "stream",
          "name": "stderr",
          "text": [
            "                 Class     Images  Instances      Box(P          R      mAP50  mAP50-95): 100%|██████████| 2/2 [00:04<00:00,  2.15s/it]\n"
          ]
        },
        {
          "output_type": "stream",
          "name": "stdout",
          "text": [
            "                   all        370       3388      0.874      0.907      0.935      0.753\n",
            "Speed: 0.1ms preprocess, 0.3ms inference, 0.0ms loss, 4.6ms postprocess per image\n",
            "Results saved to \u001b[1m/content/drive/MyDrive/shelves/train4\u001b[0m\n"
          ]
        }
      ]
    },
    {
      "cell_type": "code",
      "source": [
        "metrics = model.val()\n",
        "metrics\n"
      ],
      "metadata": {
        "colab": {
          "base_uri": "https://localhost:8080/"
        },
        "id": "lRNPYXwfk-o3",
        "outputId": "dad16f0f-ff57-4299-c203-457c6c71b615"
      },
      "execution_count": null,
      "outputs": [
        {
          "output_type": "stream",
          "name": "stdout",
          "text": [
            "Ultralytics 8.3.40 🚀 Python-3.11.13 torch-2.6.0+cu124 CUDA:0 (Tesla T4, 15095MiB)\n"
          ]
        },
        {
          "output_type": "stream",
          "name": "stderr",
          "text": [
            "\u001b[34m\u001b[1mval: \u001b[0mScanning /content/shelves-5/valid/labels.cache... 530 images, 0 backgrounds, 160 corrupt: 100%|██████████| 530/530 [00:00<?, ?it/s]"
          ]
        },
        {
          "output_type": "stream",
          "name": "stdout",
          "text": [
            "\u001b[34m\u001b[1mval: \u001b[0mWARNING ⚠️ /content/shelves-5/valid/images/test_1126_jpg.rf.eb0668304347f56d804530be28647c55.jpg: ignoring corrupt image/label: non-normalized or out of bounds coordinates [     1.0023]\n",
            "\u001b[34m\u001b[1mval: \u001b[0mWARNING ⚠️ /content/shelves-5/valid/images/test_1150_jpg.rf.a3f43b1d0093faa11776e8a4661d560c.jpg: ignoring corrupt image/label: non-normalized or out of bounds coordinates [     1.0059      1.0059]\n",
            "\u001b[34m\u001b[1mval: \u001b[0mWARNING ⚠️ /content/shelves-5/valid/images/test_11_jpg.rf.533ae17cbd58f3bd3d77b3a788269e8d.jpg: ignoring corrupt image/label: non-normalized or out of bounds coordinates [     1.0049      1.0007]\n",
            "\u001b[34m\u001b[1mval: \u001b[0mWARNING ⚠️ /content/shelves-5/valid/images/test_145_jpg.rf.ecaae6416219ddd864d48c4c5c519ac8.jpg: ignoring corrupt image/label: non-normalized or out of bounds coordinates [     1.0065      1.0045      1.0118        1.01]\n",
            "\u001b[34m\u001b[1mval: \u001b[0mWARNING ⚠️ /content/shelves-5/valid/images/test_1464_jpg.rf.daae51212e47c625812bd7a03ca56296.jpg: ignoring corrupt image/label: non-normalized or out of bounds coordinates [      1.001       1.002]\n",
            "\u001b[34m\u001b[1mval: \u001b[0mWARNING ⚠️ /content/shelves-5/valid/images/test_1489_jpg.rf.d8c536d755503676046f12963a3f48ca.jpg: ignoring corrupt image/label: non-normalized or out of bounds coordinates [     1.0019       1.003      1.0044      1.0031]\n",
            "\u001b[34m\u001b[1mval: \u001b[0mWARNING ⚠️ /content/shelves-5/valid/images/test_167_jpg.rf.b8362ab1a6cfe7b37a685a299d96a00f.jpg: ignoring corrupt image/label: non-normalized or out of bounds coordinates [     1.0031      1.0039      1.0012      1.0039      1.0067]\n",
            "\u001b[34m\u001b[1mval: \u001b[0mWARNING ⚠️ /content/shelves-5/valid/images/test_171_jpg.rf.ff707c8cef4af2b694102327efa763d4.jpg: ignoring corrupt image/label: non-normalized or out of bounds coordinates [     1.0425       1.024      1.0083      1.0109      1.0282]\n",
            "\u001b[34m\u001b[1mval: \u001b[0mWARNING ⚠️ /content/shelves-5/valid/images/test_200_jpg.rf.ce22a665cdde62dc6820854581fead3d.jpg: ignoring corrupt image/label: non-normalized or out of bounds coordinates [     1.0033]\n",
            "\u001b[34m\u001b[1mval: \u001b[0mWARNING ⚠️ /content/shelves-5/valid/images/test_204_jpg.rf.834e608f14e785030e93be46c9f78117.jpg: ignoring corrupt image/label: non-normalized or out of bounds coordinates [     1.0006       1.001      1.0036      1.0093]\n",
            "\u001b[34m\u001b[1mval: \u001b[0mWARNING ⚠️ /content/shelves-5/valid/images/test_206_jpg.rf.cba9026f1d636d4c3c19ce9450d18a9f.jpg: ignoring corrupt image/label: non-normalized or out of bounds coordinates [     1.0023      1.0015]\n",
            "\u001b[34m\u001b[1mval: \u001b[0mWARNING ⚠️ /content/shelves-5/valid/images/test_207_jpg.rf.3e1059184bceced422420c11cd35831f.jpg: ignoring corrupt image/label: non-normalized or out of bounds coordinates [     1.0095      1.0034      1.0018]\n",
            "\u001b[34m\u001b[1mval: \u001b[0mWARNING ⚠️ /content/shelves-5/valid/images/test_208_jpg.rf.0cd58c33763361ff9d2bf5048a7558fe.jpg: ignoring corrupt image/label: non-normalized or out of bounds coordinates [     1.0044]\n",
            "\u001b[34m\u001b[1mval: \u001b[0mWARNING ⚠️ /content/shelves-5/valid/images/test_20_jpg.rf.f36894c61204bd1717b0bec78a2389e1.jpg: ignoring corrupt image/label: non-normalized or out of bounds coordinates [     1.0113]\n",
            "\u001b[34m\u001b[1mval: \u001b[0mWARNING ⚠️ /content/shelves-5/valid/images/test_211_jpg.rf.4e3e4c68811a943a6d3f33f740c87404.jpg: ignoring corrupt image/label: non-normalized or out of bounds coordinates [     1.0014]\n",
            "\u001b[34m\u001b[1mval: \u001b[0mWARNING ⚠️ /content/shelves-5/valid/images/test_213_jpg.rf.40f0a78bccdb4a1c6d377ed238395fe4.jpg: ignoring corrupt image/label: non-normalized or out of bounds coordinates [     1.0015      1.0026      1.0017      1.0039      1.0052      1.0036]\n",
            "\u001b[34m\u001b[1mval: \u001b[0mWARNING ⚠️ /content/shelves-5/valid/images/test_216_jpg.rf.b9f8588b24b24f1bb31e03eb6b36e7f2.jpg: ignoring corrupt image/label: non-normalized or out of bounds coordinates [          1]\n",
            "\u001b[34m\u001b[1mval: \u001b[0mWARNING ⚠️ /content/shelves-5/valid/images/test_221_jpg.rf.8202dfa1b81562addf9ba1be806ca2bf.jpg: ignoring corrupt image/label: non-normalized or out of bounds coordinates [      1.019      1.0056      1.0009      1.0139      1.0377       1.055      1.0285]\n",
            "\u001b[34m\u001b[1mval: \u001b[0mWARNING ⚠️ /content/shelves-5/valid/images/test_222_jpg.rf.27f58141d36a3af89e74041a68afd363.jpg: ignoring corrupt image/label: non-normalized or out of bounds coordinates [     1.0078]\n",
            "\u001b[34m\u001b[1mval: \u001b[0mWARNING ⚠️ /content/shelves-5/valid/images/test_223_jpg.rf.57d2b1fdc26f33bbe277b8b8023eabb0.jpg: ignoring corrupt image/label: non-normalized or out of bounds coordinates [      1.019      1.0172]\n",
            "\u001b[34m\u001b[1mval: \u001b[0mWARNING ⚠️ /content/shelves-5/valid/images/test_226_jpg.rf.e5065a93778879a7dbddf7ed251ae690.jpg: ignoring corrupt image/label: non-normalized or out of bounds coordinates [     1.0083]\n",
            "\u001b[34m\u001b[1mval: \u001b[0mWARNING ⚠️ /content/shelves-5/valid/images/test_231_jpg.rf.b4a4bc4cfcad0fb8f2be0d362e39b441.jpg: ignoring corrupt image/label: non-normalized or out of bounds coordinates [     1.0026      1.0027      1.0012]\n",
            "\u001b[34m\u001b[1mval: \u001b[0mWARNING ⚠️ /content/shelves-5/valid/images/test_239_jpg.rf.8954794e4d2e56c32061b34e7cf02d1a.jpg: ignoring corrupt image/label: non-normalized or out of bounds coordinates [     1.0006      1.0354      1.0716]\n",
            "\u001b[34m\u001b[1mval: \u001b[0mWARNING ⚠️ /content/shelves-5/valid/images/test_242_jpg.rf.a19aaf8e6fe12f6693c03a2d6bfc1620.jpg: ignoring corrupt image/label: non-normalized or out of bounds coordinates [     1.0137]\n",
            "\u001b[34m\u001b[1mval: \u001b[0mWARNING ⚠️ /content/shelves-5/valid/images/test_247_jpg.rf.f3f41bc7dc123c72848fc0df830ea1e2.jpg: ignoring corrupt image/label: non-normalized or out of bounds coordinates [     1.0237      1.0448      1.0747      1.1143]\n",
            "\u001b[34m\u001b[1mval: \u001b[0mWARNING ⚠️ /content/shelves-5/valid/images/test_24_jpg.rf.042251deeaee36b4831a411c5e20e1b4.jpg: ignoring corrupt image/label: non-normalized or out of bounds coordinates [     1.0001]\n",
            "\u001b[34m\u001b[1mval: \u001b[0mWARNING ⚠️ /content/shelves-5/valid/images/test_258_jpg.rf.4b263bceaef0a2af50cf26d22dab9e59.jpg: ignoring corrupt image/label: non-normalized or out of bounds coordinates [     1.0118]\n",
            "\u001b[34m\u001b[1mval: \u001b[0mWARNING ⚠️ /content/shelves-5/valid/images/test_266_jpg.rf.365e715a5487b99f4974bf0f62c1a2a9.jpg: ignoring corrupt image/label: non-normalized or out of bounds coordinates [     1.0025      1.0032      1.0016      1.0086]\n",
            "\u001b[34m\u001b[1mval: \u001b[0mWARNING ⚠️ /content/shelves-5/valid/images/test_269_jpg.rf.d04c7b685d04d07d4ab4aa5608fad20a.jpg: ignoring corrupt image/label: non-normalized or out of bounds coordinates [     1.0037      1.0009      1.0112      1.0178]\n",
            "\u001b[34m\u001b[1mval: \u001b[0mWARNING ⚠️ /content/shelves-5/valid/images/test_272_jpg.rf.d50b8c934d2266bdf01a7cda77101302.jpg: ignoring corrupt image/label: non-normalized or out of bounds coordinates [     1.0171      1.0262]\n",
            "\u001b[34m\u001b[1mval: \u001b[0mWARNING ⚠️ /content/shelves-5/valid/images/test_273_jpg.rf.6dbedb09f731b809c991d125a26a89a3.jpg: ignoring corrupt image/label: non-normalized or out of bounds coordinates [     1.0027      1.0094]\n",
            "\u001b[34m\u001b[1mval: \u001b[0mWARNING ⚠️ /content/shelves-5/valid/images/test_282_jpg.rf.b225ea11264c9e1fed726a6b252ade8f.jpg: ignoring corrupt image/label: non-normalized or out of bounds coordinates [     1.0011]\n",
            "\u001b[34m\u001b[1mval: \u001b[0mWARNING ⚠️ /content/shelves-5/valid/images/test_285_jpg.rf.1bdc38b800f9432ba3b55878d96b9a1f.jpg: ignoring corrupt image/label: non-normalized or out of bounds coordinates [     1.0247]\n",
            "\u001b[34m\u001b[1mval: \u001b[0mWARNING ⚠️ /content/shelves-5/valid/images/test_288_jpg.rf.d73ade7ccea10f1d1bfb20f761c49fe2.jpg: ignoring corrupt image/label: non-normalized or out of bounds coordinates [     1.0352]\n",
            "\u001b[34m\u001b[1mval: \u001b[0mWARNING ⚠️ /content/shelves-5/valid/images/test_28_jpg.rf.7d940920660dbbca6acb91cbf41477e1.jpg: ignoring corrupt image/label: non-normalized or out of bounds coordinates [     1.0002]\n",
            "\u001b[34m\u001b[1mval: \u001b[0mWARNING ⚠️ /content/shelves-5/valid/images/test_295_jpg.rf.673cf7e4927668a3b9d53a5862d670a0.jpg: ignoring corrupt image/label: non-normalized or out of bounds coordinates [     1.0027      1.0076]\n",
            "\u001b[34m\u001b[1mval: \u001b[0mWARNING ⚠️ /content/shelves-5/valid/images/test_296_jpg.rf.0a875caeb9bb50c0c9206a2cff92e70f.jpg: ignoring corrupt image/label: non-normalized or out of bounds coordinates [     1.0237      1.0085      1.0209]\n",
            "\u001b[34m\u001b[1mval: \u001b[0mWARNING ⚠️ /content/shelves-5/valid/images/test_297_jpg.rf.0a10466a3baef2afd83e067f5ebf4a5d.jpg: ignoring corrupt image/label: non-normalized or out of bounds coordinates [     1.0019      1.0037      1.0021      1.0016]\n",
            "\u001b[34m\u001b[1mval: \u001b[0mWARNING ⚠️ /content/shelves-5/valid/images/test_29_jpg.rf.d58d36f44bc383ebc9a7deef17f147cd.jpg: ignoring corrupt image/label: non-normalized or out of bounds coordinates [     1.0011      1.0001      1.0002      1.0023      1.0023]\n",
            "\u001b[34m\u001b[1mval: \u001b[0mWARNING ⚠️ /content/shelves-5/valid/images/test_308_jpg.rf.4d01945d62e9dcac59bb0ca5828ede12.jpg: ignoring corrupt image/label: non-normalized or out of bounds coordinates [      1.007      1.0066]\n",
            "\u001b[34m\u001b[1mval: \u001b[0mWARNING ⚠️ /content/shelves-5/valid/images/test_310_jpg.rf.e53220486770977e62bbb25fed4d1527.jpg: ignoring corrupt image/label: non-normalized or out of bounds coordinates [      1.002      1.0097]\n",
            "\u001b[34m\u001b[1mval: \u001b[0mWARNING ⚠️ /content/shelves-5/valid/images/test_315_jpg.rf.05a22b0a4bf0aa158e5b4ab45e0561b3.jpg: ignoring corrupt image/label: non-normalized or out of bounds coordinates [     1.0371      1.0209      1.0406]\n",
            "\u001b[34m\u001b[1mval: \u001b[0mWARNING ⚠️ /content/shelves-5/valid/images/test_321_jpg.rf.9b4daa6e86c73e5651d92d779fb9a972.jpg: ignoring corrupt image/label: non-normalized or out of bounds coordinates [     1.0067       1.005      1.0041      1.0073]\n",
            "\u001b[34m\u001b[1mval: \u001b[0mWARNING ⚠️ /content/shelves-5/valid/images/test_323_jpg.rf.90db218e9acedd6331c6515e2730b078.jpg: ignoring corrupt image/label: non-normalized or out of bounds coordinates [     1.0055      1.0081      1.0104      1.0086      1.0058]\n",
            "\u001b[34m\u001b[1mval: \u001b[0mWARNING ⚠️ /content/shelves-5/valid/images/test_324_jpg.rf.7d57581420dcb78e7341beb5c216b0a8.jpg: ignoring corrupt image/label: non-normalized or out of bounds coordinates [     1.0012      1.0089      1.0011           1      1.0015       1.004]\n",
            "\u001b[34m\u001b[1mval: \u001b[0mWARNING ⚠️ /content/shelves-5/valid/images/test_326_jpg.rf.e06da720d308bdc8d9fffe1459718248.jpg: ignoring corrupt image/label: non-normalized or out of bounds coordinates [     1.0009]\n",
            "\u001b[34m\u001b[1mval: \u001b[0mWARNING ⚠️ /content/shelves-5/valid/images/test_332_jpg.rf.0cebd246439ae5e2b80cc244d2390d6e.jpg: ignoring corrupt image/label: non-normalized or out of bounds coordinates [     1.0005      1.0041      1.0039      1.0053      1.0119]\n",
            "\u001b[34m\u001b[1mval: \u001b[0mWARNING ⚠️ /content/shelves-5/valid/images/test_335_jpg.rf.13b376733e7125dcdb4af7ae939f1fd7.jpg: ignoring corrupt image/label: non-normalized or out of bounds coordinates [      1.032      1.0524]\n",
            "\u001b[34m\u001b[1mval: \u001b[0mWARNING ⚠️ /content/shelves-5/valid/images/test_336_jpg.rf.f02cbe25b21d3796169f4aa0f602c4e0.jpg: ignoring corrupt image/label: non-normalized or out of bounds coordinates [     1.0001]\n",
            "\u001b[34m\u001b[1mval: \u001b[0mWARNING ⚠️ /content/shelves-5/valid/images/test_33_jpg.rf.7fb501fcdca663385b8bfe5d34c44304.jpg: ignoring corrupt image/label: non-normalized or out of bounds coordinates [     1.0015]\n",
            "\u001b[34m\u001b[1mval: \u001b[0mWARNING ⚠️ /content/shelves-5/valid/images/test_355_jpg.rf.ab367c2fd88f2a1790384d736bf1eaf8.jpg: ignoring corrupt image/label: non-normalized or out of bounds coordinates [     1.0151]\n",
            "\u001b[34m\u001b[1mval: \u001b[0mWARNING ⚠️ /content/shelves-5/valid/images/test_363_jpg.rf.b54b90e9c1c0dc764efa2a694c614c31.jpg: ignoring corrupt image/label: non-normalized or out of bounds coordinates [     1.0002      1.0211      1.0451      1.0038]\n",
            "\u001b[34m\u001b[1mval: \u001b[0mWARNING ⚠️ /content/shelves-5/valid/images/test_370_jpg.rf.85d4c45659f9d5dbbf03cffc24e80004.jpg: ignoring corrupt image/label: non-normalized or out of bounds coordinates [     1.0028]\n",
            "\u001b[34m\u001b[1mval: \u001b[0mWARNING ⚠️ /content/shelves-5/valid/images/test_374_jpg.rf.08c8b2ff063c49a6733a69aa34f5e7bb.jpg: ignoring corrupt image/label: non-normalized or out of bounds coordinates [     1.0134      1.0099]\n",
            "\u001b[34m\u001b[1mval: \u001b[0mWARNING ⚠️ /content/shelves-5/valid/images/test_37_jpg.rf.8dce72f6bb925d34f3e40e152c71d8c9.jpg: ignoring corrupt image/label: non-normalized or out of bounds coordinates [      1.002      1.0021      1.0004      1.0006      1.0019      1.0052      1.0004      1.0036]\n",
            "\u001b[34m\u001b[1mval: \u001b[0mWARNING ⚠️ /content/shelves-5/valid/images/test_389_jpg.rf.e59d1d86c3c403f3942ce3d9ecad07d9.jpg: ignoring corrupt image/label: non-normalized or out of bounds coordinates [     1.0005]\n",
            "\u001b[34m\u001b[1mval: \u001b[0mWARNING ⚠️ /content/shelves-5/valid/images/test_394_jpg.rf.4ed7c4253909d00f9f6012af3f0d766b.jpg: ignoring corrupt image/label: non-normalized or out of bounds coordinates [      1.001       1.005]\n",
            "\u001b[34m\u001b[1mval: \u001b[0mWARNING ⚠️ /content/shelves-5/valid/images/test_395_jpg.rf.984490b0c5a679c0af43e162cda6275b.jpg: ignoring corrupt image/label: non-normalized or out of bounds coordinates [     1.0137       1.003        1.01      1.0071      1.0293]\n",
            "\u001b[34m\u001b[1mval: \u001b[0mWARNING ⚠️ /content/shelves-5/valid/images/test_40_jpg.rf.e3a0d6da136a5d5a601dee462d4c5bb9.jpg: ignoring corrupt image/label: non-normalized or out of bounds coordinates [     1.0018      1.0024      1.0011      1.0006]\n",
            "\u001b[34m\u001b[1mval: \u001b[0mWARNING ⚠️ /content/shelves-5/valid/images/test_410_jpg.rf.424f1bff1c7ccdec46721e8fc94c9d38.jpg: ignoring corrupt image/label: non-normalized or out of bounds coordinates [     1.0216        1.03      1.0259]\n",
            "\u001b[34m\u001b[1mval: \u001b[0mWARNING ⚠️ /content/shelves-5/valid/images/test_413_jpg.rf.caeb223fe239ec1a64adf35a17c7fc44.jpg: ignoring corrupt image/label: non-normalized or out of bounds coordinates [     1.0008      1.0042]\n",
            "\u001b[34m\u001b[1mval: \u001b[0mWARNING ⚠️ /content/shelves-5/valid/images/test_415_jpg.rf.200bf32b24c733f436d35ca76c6f7760.jpg: ignoring corrupt image/label: non-normalized or out of bounds coordinates [     1.0253]\n",
            "\u001b[34m\u001b[1mval: \u001b[0mWARNING ⚠️ /content/shelves-5/valid/images/test_426_jpg.rf.1c52eb14fc08b29cd7c6e033f0aa5a5a.jpg: ignoring corrupt image/label: non-normalized or out of bounds coordinates [     1.0075       1.008      1.0131      1.0321]\n",
            "\u001b[34m\u001b[1mval: \u001b[0mWARNING ⚠️ /content/shelves-5/valid/images/test_435_jpg.rf.29834bb5259ee144a2220651755a42f1.jpg: ignoring corrupt image/label: non-normalized or out of bounds coordinates [     1.0188      1.0025           1      1.0003      1.0402]\n",
            "\u001b[34m\u001b[1mval: \u001b[0mWARNING ⚠️ /content/shelves-5/valid/images/test_438_jpg.rf.c252d20bea708ca3d23b07bad5a99ac5.jpg: ignoring corrupt image/label: non-normalized or out of bounds coordinates [     1.0769]\n",
            "\u001b[34m\u001b[1mval: \u001b[0mWARNING ⚠️ /content/shelves-5/valid/images/test_442_jpg.rf.6863d631fc58de7fbefd24cf5f857bd4.jpg: ignoring corrupt image/label: non-normalized or out of bounds coordinates [     1.0061]\n",
            "\u001b[34m\u001b[1mval: \u001b[0mWARNING ⚠️ /content/shelves-5/valid/images/test_444_jpg.rf.40e8f4a4ea3c443a9d7693e60de05571.jpg: ignoring corrupt image/label: non-normalized or out of bounds coordinates [     1.0033      1.0002           1]\n",
            "\u001b[34m\u001b[1mval: \u001b[0mWARNING ⚠️ /content/shelves-5/valid/images/test_451_jpg.rf.b020f55c592b4881a0fd7a3c75e88202.jpg: ignoring corrupt image/label: non-normalized or out of bounds coordinates [     1.0486]\n",
            "\u001b[34m\u001b[1mval: \u001b[0mWARNING ⚠️ /content/shelves-5/valid/images/test_454_jpg.rf.81093f44e5b2f1591f6094857819014f.jpg: ignoring corrupt image/label: non-normalized or out of bounds coordinates [     1.0027]\n",
            "\u001b[34m\u001b[1mval: \u001b[0mWARNING ⚠️ /content/shelves-5/valid/images/test_457_jpg.rf.494b8d9e9d3f5ba2d92c3b44f0b46bc9.jpg: ignoring corrupt image/label: non-normalized or out of bounds coordinates [     1.0029]\n",
            "\u001b[34m\u001b[1mval: \u001b[0mWARNING ⚠️ /content/shelves-5/valid/images/test_463_jpg.rf.0cb9af1190b31414a3289c85f3e809fe.jpg: ignoring corrupt image/label: non-normalized or out of bounds coordinates [     1.0248      1.0074      1.0142      1.0133]\n",
            "\u001b[34m\u001b[1mval: \u001b[0mWARNING ⚠️ /content/shelves-5/valid/images/test_468_jpg.rf.b68e1f1478cd4e3e455ed29d0a5d0255.jpg: ignoring corrupt image/label: non-normalized or out of bounds coordinates [     1.0006      1.0019       1.003      1.0091      1.0065]\n",
            "\u001b[34m\u001b[1mval: \u001b[0mWARNING ⚠️ /content/shelves-5/valid/images/test_476_jpg.rf.daa319f49b9abb10c7d71264a76db588.jpg: ignoring corrupt image/label: non-normalized or out of bounds coordinates [     1.0326]\n",
            "\u001b[34m\u001b[1mval: \u001b[0mWARNING ⚠️ /content/shelves-5/valid/images/test_478_jpg.rf.0cd6c04464509732998c05c993e62dae.jpg: ignoring corrupt image/label: non-normalized or out of bounds coordinates [     1.2068      1.0771]\n",
            "\u001b[34m\u001b[1mval: \u001b[0mWARNING ⚠️ /content/shelves-5/valid/images/test_47_jpg.rf.fe2d404b736be8aeeea29e6d2623f2a3.jpg: ignoring corrupt image/label: non-normalized or out of bounds coordinates [     1.0004]\n",
            "\u001b[34m\u001b[1mval: \u001b[0mWARNING ⚠️ /content/shelves-5/valid/images/test_490_jpg.rf.d4e679a0ba4161fcbdaddcf23a680cad.jpg: ignoring corrupt image/label: non-normalized or out of bounds coordinates [     1.0707]\n",
            "\u001b[34m\u001b[1mval: \u001b[0mWARNING ⚠️ /content/shelves-5/valid/images/test_495_jpg.rf.b25f96613fba7549ca0704b45bb8782c.jpg: ignoring corrupt image/label: non-normalized or out of bounds coordinates [     1.0941      1.0455      1.0052      1.0299]\n",
            "\u001b[34m\u001b[1mval: \u001b[0mWARNING ⚠️ /content/shelves-5/valid/images/test_499_jpg.rf.79e2f99aa7bde63be176f99120eb1736.jpg: ignoring corrupt image/label: non-normalized or out of bounds coordinates [     1.0196      1.0165      1.0222      1.0213]\n",
            "\u001b[34m\u001b[1mval: \u001b[0mWARNING ⚠️ /content/shelves-5/valid/images/test_5_jpg.rf.6e5870a68f6734858efb5e983df2134f.jpg: ignoring corrupt image/label: non-normalized or out of bounds coordinates [     1.0238      1.0793]\n",
            "\u001b[34m\u001b[1mval: \u001b[0mWARNING ⚠️ /content/shelves-5/valid/images/test_64_jpg.rf.eec5ee46260d74ff53bf9670536d7d22.jpg: ignoring corrupt image/label: non-normalized or out of bounds coordinates [     1.0031      1.0032      1.0129]\n",
            "\u001b[34m\u001b[1mval: \u001b[0mWARNING ⚠️ /content/shelves-5/valid/images/test_68_jpg.rf.e0ddb3155f92424bf1c31c9d0a4a2b31.jpg: ignoring corrupt image/label: non-normalized or out of bounds coordinates [     1.0079       1.002      1.0015      1.0017       1.003]\n",
            "\u001b[34m\u001b[1mval: \u001b[0mWARNING ⚠️ /content/shelves-5/valid/images/test_88_jpg.rf.823933a91e4450739cd26219184a366d.jpg: ignoring corrupt image/label: non-normalized or out of bounds coordinates [     1.0007      1.0004]\n",
            "\u001b[34m\u001b[1mval: \u001b[0mWARNING ⚠️ /content/shelves-5/valid/images/test_98_jpg.rf.7aa61661f28adb3834c3812eeea99862.jpg: ignoring corrupt image/label: non-normalized or out of bounds coordinates [      1.019      1.0599      1.0753      1.0912]\n",
            "\u001b[34m\u001b[1mval: \u001b[0mWARNING ⚠️ /content/shelves-5/valid/images/test_9_jpg.rf.c72a4c347066b61d2043b742a746c295.jpg: ignoring corrupt image/label: non-normalized or out of bounds coordinates [      1.002]\n",
            "\u001b[34m\u001b[1mval: \u001b[0mWARNING ⚠️ /content/shelves-5/valid/images/train_122_jpg.rf.3a20fb01a0547c1eb90b3188152d7580.jpg: ignoring corrupt image/label: non-normalized or out of bounds coordinates [     1.0013      1.0045      1.0013       1.001]\n",
            "\u001b[34m\u001b[1mval: \u001b[0mWARNING ⚠️ /content/shelves-5/valid/images/train_123_jpg.rf.1a78bd6031024595eed8ca35f2e74b1b.jpg: ignoring corrupt image/label: non-normalized or out of bounds coordinates [     1.0325      1.0013      1.0684      1.0926]\n",
            "\u001b[34m\u001b[1mval: \u001b[0mWARNING ⚠️ /content/shelves-5/valid/images/train_126_jpg.rf.954ffd47f6b81121be2eca189a428967.jpg: ignoring corrupt image/label: non-normalized or out of bounds coordinates [     1.0604]\n",
            "\u001b[34m\u001b[1mval: \u001b[0mWARNING ⚠️ /content/shelves-5/valid/images/train_131_jpg.rf.dfb9d870541362d04afd4f45e644fa7b.jpg: ignoring corrupt image/label: non-normalized or out of bounds coordinates [     1.0027      1.0008      1.0022      1.0022]\n",
            "\u001b[34m\u001b[1mval: \u001b[0mWARNING ⚠️ /content/shelves-5/valid/images/train_16_jpg.rf.72f49710ccbb138beffbe241d0ca91f9.jpg: ignoring corrupt image/label: non-normalized or out of bounds coordinates [     1.0094]\n",
            "\u001b[34m\u001b[1mval: \u001b[0mWARNING ⚠️ /content/shelves-5/valid/images/train_180_jpg.rf.6041a7a00bb9b2d907c2a40bb777e419.jpg: ignoring corrupt image/label: non-normalized or out of bounds coordinates [     1.0021      1.0026      1.0009      1.0001      1.0003]\n",
            "\u001b[34m\u001b[1mval: \u001b[0mWARNING ⚠️ /content/shelves-5/valid/images/train_2256_jpg.rf.70596d1a32e82bcdf0668cb416050e39.jpg: ignoring corrupt image/label: non-normalized or out of bounds coordinates [     1.0132      1.0943       1.027]\n",
            "\u001b[34m\u001b[1mval: \u001b[0mWARNING ⚠️ /content/shelves-5/valid/images/train_2259_jpg.rf.b041dc7b2fe1cd6101e03fa7b458d364.jpg: ignoring corrupt image/label: non-normalized or out of bounds coordinates [      1.015]\n",
            "\u001b[34m\u001b[1mval: \u001b[0mWARNING ⚠️ /content/shelves-5/valid/images/train_2262_jpg.rf.c852bc293148da3c96e667eaffb5d0de.jpg: ignoring corrupt image/label: non-normalized or out of bounds coordinates [     1.0237      1.0415      1.0696]\n",
            "\u001b[34m\u001b[1mval: \u001b[0mWARNING ⚠️ /content/shelves-5/valid/images/train_2263_jpg.rf.4f4d6cb66550ea0dc02b0a1ae42bc8e6.jpg: ignoring corrupt image/label: non-normalized or out of bounds coordinates [      1.007      1.0061       1.001      1.0006      1.0015      1.0015]\n",
            "\u001b[34m\u001b[1mval: \u001b[0mWARNING ⚠️ /content/shelves-5/valid/images/train_2270_jpg.rf.7e2aa721a1435475bdb6153fb98df201.jpg: ignoring corrupt image/label: non-normalized or out of bounds coordinates [     1.0074]\n",
            "\u001b[34m\u001b[1mval: \u001b[0mWARNING ⚠️ /content/shelves-5/valid/images/train_2271_jpg.rf.a133696e7a139826435ddac09478ad2e.jpg: ignoring corrupt image/label: non-normalized or out of bounds coordinates [     1.0048]\n",
            "\u001b[34m\u001b[1mval: \u001b[0mWARNING ⚠️ /content/shelves-5/valid/images/train_2274_jpg.rf.932035b83c169fc747a29c1eb8a21033.jpg: ignoring corrupt image/label: non-normalized or out of bounds coordinates [     1.0034]\n",
            "\u001b[34m\u001b[1mval: \u001b[0mWARNING ⚠️ /content/shelves-5/valid/images/train_2277_jpg.rf.a44c6d9c9d93acd57aa6291875e74740.jpg: ignoring corrupt image/label: non-normalized or out of bounds coordinates [     1.0228      1.1084      1.0879      1.0448]\n",
            "\u001b[34m\u001b[1mval: \u001b[0mWARNING ⚠️ /content/shelves-5/valid/images/train_2280_jpg.rf.a8603206cb80d52beb17a1daf571df70.jpg: ignoring corrupt image/label: non-normalized or out of bounds coordinates [          1           1]\n",
            "\u001b[34m\u001b[1mval: \u001b[0mWARNING ⚠️ /content/shelves-5/valid/images/train_2281_jpg.rf.db3ec90a93a6ce4a813c010b619c21d2.jpg: ignoring corrupt image/label: non-normalized or out of bounds coordinates [     1.0031]\n",
            "\u001b[34m\u001b[1mval: \u001b[0mWARNING ⚠️ /content/shelves-5/valid/images/train_2282_jpg.rf.8297a4556bdbf1bac71970f989e2c720.jpg: ignoring corrupt image/label: non-normalized or out of bounds coordinates [      1.006      1.0009      1.0001      1.0015      1.0005      1.0016           1]\n",
            "\u001b[34m\u001b[1mval: \u001b[0mWARNING ⚠️ /content/shelves-5/valid/images/train_2283_jpg.rf.d92a0b8b7f4cf8f18b0126879e16bd07.jpg: ignoring corrupt image/label: non-normalized or out of bounds coordinates [     1.0168      1.0031]\n",
            "\u001b[34m\u001b[1mval: \u001b[0mWARNING ⚠️ /content/shelves-5/valid/images/train_2284_jpg.rf.65f5da08ca0227cc1f04490e54e4bd23.jpg: ignoring corrupt image/label: non-normalized or out of bounds coordinates [     1.0015      1.0004]\n",
            "\u001b[34m\u001b[1mval: \u001b[0mWARNING ⚠️ /content/shelves-5/valid/images/train_2285_jpg.rf.c4f2c70a116f57f52b4aec1f894ce911.jpg: ignoring corrupt image/label: non-normalized or out of bounds coordinates [          1]\n",
            "\u001b[34m\u001b[1mval: \u001b[0mWARNING ⚠️ /content/shelves-5/valid/images/train_2286_jpg.rf.43ceb8e4f615da80b701c7768ba944f5.jpg: ignoring corrupt image/label: non-normalized or out of bounds coordinates [     1.0004      1.0274      1.0735       1.094      1.0372]\n",
            "\u001b[34m\u001b[1mval: \u001b[0mWARNING ⚠️ /content/shelves-5/valid/images/train_2288_jpg.rf.3866e5c56d528a8c79fe3503539015cc.jpg: ignoring corrupt image/label: non-normalized or out of bounds coordinates [     1.0018]\n",
            "\u001b[34m\u001b[1mval: \u001b[0mWARNING ⚠️ /content/shelves-5/valid/images/train_2289_jpg.rf.63169d02f637b048e08f66f0532dce27.jpg: ignoring corrupt image/label: non-normalized or out of bounds coordinates [      1.001      1.0022      1.0055]\n",
            "\u001b[34m\u001b[1mval: \u001b[0mWARNING ⚠️ /content/shelves-5/valid/images/train_2291_jpg.rf.c9287c9d3db50e7820ee4d8cf18058db.jpg: ignoring corrupt image/label: non-normalized or out of bounds coordinates [      1.004      1.0031      1.0051      1.0017]\n",
            "\u001b[34m\u001b[1mval: \u001b[0mWARNING ⚠️ /content/shelves-5/valid/images/train_2295_jpg.rf.4f31d22c1e0c366f55f0a6dfeb4027df.jpg: ignoring corrupt image/label: non-normalized or out of bounds coordinates [     1.0021      1.0016]\n",
            "\u001b[34m\u001b[1mval: \u001b[0mWARNING ⚠️ /content/shelves-5/valid/images/train_2296_jpg.rf.7efc849e2653b301f2b758eb57d7bbc9.jpg: ignoring corrupt image/label: non-normalized or out of bounds coordinates [     1.0015      1.0005      1.0024]\n",
            "\u001b[34m\u001b[1mval: \u001b[0mWARNING ⚠️ /content/shelves-5/valid/images/train_2297_jpg.rf.f6808c27b8142b4d92f3b87a1b077ba2.jpg: ignoring corrupt image/label: non-normalized or out of bounds coordinates [     1.0014      1.0004]\n",
            "\u001b[34m\u001b[1mval: \u001b[0mWARNING ⚠️ /content/shelves-5/valid/images/train_2298_jpg.rf.7698cbd7dea533caffdc7cda72d2d19e.jpg: ignoring corrupt image/label: non-normalized or out of bounds coordinates [     1.0007      1.0103]\n",
            "\u001b[34m\u001b[1mval: \u001b[0mWARNING ⚠️ /content/shelves-5/valid/images/train_2299_jpg.rf.28ab8012bcebced89245b5321be83f13.jpg: ignoring corrupt image/label: non-normalized or out of bounds coordinates [     1.0006      1.0001]\n",
            "\u001b[34m\u001b[1mval: \u001b[0mWARNING ⚠️ /content/shelves-5/valid/images/train_2300_jpg.rf.a0904754ffe9d7265c67535bd3de1cdf.jpg: ignoring corrupt image/label: non-normalized or out of bounds coordinates [     1.0016      1.0024       1.002]\n",
            "\u001b[34m\u001b[1mval: \u001b[0mWARNING ⚠️ /content/shelves-5/valid/images/train_30_jpg.rf.afa99d78192c4f0294cfc4d72361b15e.jpg: ignoring corrupt image/label: non-normalized or out of bounds coordinates [     1.0556      1.0199]\n",
            "\u001b[34m\u001b[1mval: \u001b[0mWARNING ⚠️ /content/shelves-5/valid/images/train_62_jpg.rf.afd636ba21e4426dfa297ad58e139a0f.jpg: ignoring corrupt image/label: non-normalized or out of bounds coordinates [       1.01      1.0123      1.0669]\n",
            "\u001b[34m\u001b[1mval: \u001b[0mWARNING ⚠️ /content/shelves-5/valid/images/train_7103_jpg.rf.d2363d334342c69bfca2e2e8f26b3cde.jpg: ignoring corrupt image/label: non-normalized or out of bounds coordinates [     1.0003      1.0076      1.0089]\n",
            "\u001b[34m\u001b[1mval: \u001b[0mWARNING ⚠️ /content/shelves-5/valid/images/train_7104_jpg.rf.2b587009e2a9af8a0cee481e854aa413.jpg: ignoring corrupt image/label: non-normalized or out of bounds coordinates [     1.0148      1.0071]\n",
            "\u001b[34m\u001b[1mval: \u001b[0mWARNING ⚠️ /content/shelves-5/valid/images/train_7105_jpg.rf.878ce8086c16eec223d84e04bb3114b6.jpg: ignoring corrupt image/label: non-normalized or out of bounds coordinates [     1.0018]\n",
            "\u001b[34m\u001b[1mval: \u001b[0mWARNING ⚠️ /content/shelves-5/valid/images/train_7114_jpg.rf.4ae85bd639bd61b5bbe9272a0b46eaeb.jpg: ignoring corrupt image/label: non-normalized or out of bounds coordinates [     1.0027      1.0011      1.0002      1.0005]\n",
            "\u001b[34m\u001b[1mval: \u001b[0mWARNING ⚠️ /content/shelves-5/valid/images/train_7115_jpg.rf.2dc1d2ef16d78356dd582b563fa3d345.jpg: ignoring corrupt image/label: non-normalized or out of bounds coordinates [     1.0614      1.0639      1.0008      1.0003           1]\n",
            "\u001b[34m\u001b[1mval: \u001b[0mWARNING ⚠️ /content/shelves-5/valid/images/train_7118_jpg.rf.6d5f08d6cdf25516f7d42ebd5567ebfb.jpg: ignoring corrupt image/label: non-normalized or out of bounds coordinates [     1.0003]\n",
            "\u001b[34m\u001b[1mval: \u001b[0mWARNING ⚠️ /content/shelves-5/valid/images/train_7121_jpg.rf.76228562019a1615dbf306d9fe0bbbfa.jpg: ignoring corrupt image/label: non-normalized or out of bounds coordinates [          1      1.0026      1.0038      1.0063      1.0025]\n",
            "\u001b[34m\u001b[1mval: \u001b[0mWARNING ⚠️ /content/shelves-5/valid/images/train_7122_jpg.rf.ec695b6c06a76f53177bf1e35572f028.jpg: ignoring corrupt image/label: non-normalized or out of bounds coordinates [     1.0165]\n",
            "\u001b[34m\u001b[1mval: \u001b[0mWARNING ⚠️ /content/shelves-5/valid/images/train_7123_jpg.rf.7d43a6d88dd8424532a69adfe77f477a.jpg: ignoring corrupt image/label: non-normalized or out of bounds coordinates [     1.0212      1.0286]\n",
            "\u001b[34m\u001b[1mval: \u001b[0mWARNING ⚠️ /content/shelves-5/valid/images/train_7125_jpg.rf.48adb83368cfe8b8ab81f5044bb22359.jpg: ignoring corrupt image/label: non-normalized or out of bounds coordinates [     1.0575]\n",
            "\u001b[34m\u001b[1mval: \u001b[0mWARNING ⚠️ /content/shelves-5/valid/images/train_7127_jpg.rf.9b7ce26d28a585a9ef1f7b3bb19a3ac6.jpg: ignoring corrupt image/label: non-normalized or out of bounds coordinates [      1.005]\n",
            "\u001b[34m\u001b[1mval: \u001b[0mWARNING ⚠️ /content/shelves-5/valid/images/train_7128_jpg.rf.561d0bf9c436c7b33d5f9e2ba1d700a7.jpg: ignoring corrupt image/label: non-normalized or out of bounds coordinates [     1.0006]\n",
            "\u001b[34m\u001b[1mval: \u001b[0mWARNING ⚠️ /content/shelves-5/valid/images/train_7129_jpg.rf.69390c32e733d42463ba34152df62498.jpg: ignoring corrupt image/label: non-normalized or out of bounds coordinates [     1.0027      1.0073      1.0276      1.0475      1.0675      1.0384]\n",
            "\u001b[34m\u001b[1mval: \u001b[0mWARNING ⚠️ /content/shelves-5/valid/images/train_7130_jpg.rf.4c657f92f85aca57a33212c423602c00.jpg: ignoring corrupt image/label: non-normalized or out of bounds coordinates [     1.0008      1.0094      1.0165      1.0214      1.0262      1.0163]\n",
            "\u001b[34m\u001b[1mval: \u001b[0mWARNING ⚠️ /content/shelves-5/valid/images/train_7131_jpg.rf.83d62a45a6b419d1839069b696ebf8d9.jpg: ignoring corrupt image/label: non-normalized or out of bounds coordinates [     1.0007      1.0011      1.0046]\n",
            "\u001b[34m\u001b[1mval: \u001b[0mWARNING ⚠️ /content/shelves-5/valid/images/train_7133_jpg.rf.d920b66ed8c045a225d54d7e7e182a5e.jpg: ignoring corrupt image/label: non-normalized or out of bounds coordinates [      1.008      1.0096]\n",
            "\u001b[34m\u001b[1mval: \u001b[0mWARNING ⚠️ /content/shelves-5/valid/images/train_7134_jpg.rf.fd57aa470eed3b3b0300274f86cba440.jpg: ignoring corrupt image/label: non-normalized or out of bounds coordinates [     1.0049      1.0016      1.0128      1.0065]\n",
            "\u001b[34m\u001b[1mval: \u001b[0mWARNING ⚠️ /content/shelves-5/valid/images/train_7135_jpg.rf.29eeb17ab45e7a260bdc60050144a7f6.jpg: ignoring corrupt image/label: non-normalized or out of bounds coordinates [     1.0005      1.0012      1.0035      1.0017]\n",
            "\u001b[34m\u001b[1mval: \u001b[0mWARNING ⚠️ /content/shelves-5/valid/images/train_7136_jpg.rf.1d53e910fdfbb3ada1372cef6628417f.jpg: ignoring corrupt image/label: non-normalized or out of bounds coordinates [     1.0004      1.0001]\n",
            "\u001b[34m\u001b[1mval: \u001b[0mWARNING ⚠️ /content/shelves-5/valid/images/train_7138_jpg.rf.5cc476422d1f5011c76ca86b387ce6ee.jpg: ignoring corrupt image/label: non-normalized or out of bounds coordinates [      1.019      1.0026]\n",
            "\u001b[34m\u001b[1mval: \u001b[0mWARNING ⚠️ /content/shelves-5/valid/images/train_7142_jpg.rf.953b5a3348a488c7a5ec3966577173f1.jpg: ignoring corrupt image/label: non-normalized or out of bounds coordinates [      1.006]\n",
            "\u001b[34m\u001b[1mval: \u001b[0mWARNING ⚠️ /content/shelves-5/valid/images/train_7152_jpg.rf.a0e4bebc05713f183cdd5066ae4f0dcd.jpg: ignoring corrupt image/label: non-normalized or out of bounds coordinates [     1.0138]\n",
            "\u001b[34m\u001b[1mval: \u001b[0mWARNING ⚠️ /content/shelves-5/valid/images/train_7153_jpg.rf.fc47fe098854f2ba49fc9b738800e046.jpg: ignoring corrupt image/label: non-normalized or out of bounds coordinates [     1.0013      1.0003]\n",
            "\u001b[34m\u001b[1mval: \u001b[0mWARNING ⚠️ /content/shelves-5/valid/images/train_7154_jpg.rf.3e7e08ba9d5fd4f8542b27930d7983a5.jpg: ignoring corrupt image/label: non-normalized or out of bounds coordinates [     1.0042      1.0016      1.0054       1.038      1.0366      1.0404]\n",
            "\u001b[34m\u001b[1mval: \u001b[0mWARNING ⚠️ /content/shelves-5/valid/images/train_7159_jpg.rf.38b4e07f7c9177281ed5f3af9caaa7eb.jpg: ignoring corrupt image/label: non-normalized or out of bounds coordinates [      1.014      1.0026]\n",
            "\u001b[34m\u001b[1mval: \u001b[0mWARNING ⚠️ /content/shelves-5/valid/images/train_7160_jpg.rf.c1879d5e6828c387530f79528cf4d477.jpg: ignoring corrupt image/label: non-normalized or out of bounds coordinates [     1.0031      1.0038      1.0041      1.0066]\n",
            "\u001b[34m\u001b[1mval: \u001b[0mWARNING ⚠️ /content/shelves-5/valid/images/train_7164_jpg.rf.0d12eaf7b0fe4dea1a34339ddd83b212.jpg: ignoring corrupt image/label: non-normalized or out of bounds coordinates [     1.0098]\n",
            "\u001b[34m\u001b[1mval: \u001b[0mWARNING ⚠️ /content/shelves-5/valid/images/train_7166_jpg.rf.0a41ffc8ef50b66a5799c1da7d5f5d5f.jpg: ignoring corrupt image/label: non-normalized or out of bounds coordinates [     1.0105      1.0345]\n",
            "\u001b[34m\u001b[1mval: \u001b[0mWARNING ⚠️ /content/shelves-5/valid/images/train_7168_jpg.rf.a1b9d75fb17e7461134c073bbc0ca310.jpg: ignoring corrupt image/label: non-normalized or out of bounds coordinates [      1.012      1.0107      1.0362]\n",
            "\u001b[34m\u001b[1mval: \u001b[0mWARNING ⚠️ /content/shelves-5/valid/images/train_7173_jpg.rf.c5f8cb54b808fec9a0b9f41e602363be.jpg: ignoring corrupt image/label: non-normalized or out of bounds coordinates [      1.001]\n",
            "\u001b[34m\u001b[1mval: \u001b[0mWARNING ⚠️ /content/shelves-5/valid/images/train_7174_jpg.rf.200d8bbf63bd52a062b141cb470452b7.jpg: ignoring corrupt image/label: non-normalized or out of bounds coordinates [     1.0012]\n",
            "\u001b[34m\u001b[1mval: \u001b[0mWARNING ⚠️ /content/shelves-5/valid/images/train_7176_jpg.rf.60867f3944c0efc2a0f68552836a1a36.jpg: ignoring corrupt image/label: non-normalized or out of bounds coordinates [     1.0001      1.0014]\n",
            "\u001b[34m\u001b[1mval: \u001b[0mWARNING ⚠️ /content/shelves-5/valid/images/train_7177_jpg.rf.bf7d59357127efe2ec5ff44d71ebbe28.jpg: ignoring corrupt image/label: non-normalized or out of bounds coordinates [     1.0023       1.001      1.0023      1.0001      1.0031      1.0027]\n",
            "\u001b[34m\u001b[1mval: \u001b[0mWARNING ⚠️ /content/shelves-5/valid/images/train_7178_jpg.rf.6ccc70c4231d53861eaba902bc868792.jpg: ignoring corrupt image/label: non-normalized or out of bounds coordinates [     1.0013]\n",
            "\u001b[34m\u001b[1mval: \u001b[0mWARNING ⚠️ /content/shelves-5/valid/images/train_7179_jpg.rf.25326bca5678963e5459581e25b39995.jpg: ignoring corrupt image/label: non-normalized or out of bounds coordinates [     1.0008]\n",
            "\u001b[34m\u001b[1mval: \u001b[0mWARNING ⚠️ /content/shelves-5/valid/images/train_7182_jpg.rf.8b5d7be720032daffa00f756071b2cfd.jpg: ignoring corrupt image/label: non-normalized or out of bounds coordinates [     1.0033      1.0062      1.0378      1.0555      1.0372]\n",
            "\u001b[34m\u001b[1mval: \u001b[0mWARNING ⚠️ /content/shelves-5/valid/images/train_7188_jpg.rf.3c2467b8986afca88bae1865781c4e95.jpg: ignoring corrupt image/label: non-normalized or out of bounds coordinates [     1.0013       1.001           1      1.0005      1.0064      1.0041]\n",
            "\u001b[34m\u001b[1mval: \u001b[0mWARNING ⚠️ /content/shelves-5/valid/images/train_7189_jpg.rf.ad5abd2b0aac91b9db114cb7c20f06f6.jpg: ignoring corrupt image/label: non-normalized or out of bounds coordinates [     1.0033]\n",
            "\u001b[34m\u001b[1mval: \u001b[0mWARNING ⚠️ /content/shelves-5/valid/images/train_7190_jpg.rf.cfb1001ea69e9346273b79355d1f5dbd.jpg: ignoring corrupt image/label: non-normalized or out of bounds coordinates [     1.0702]\n",
            "\u001b[34m\u001b[1mval: \u001b[0mWARNING ⚠️ /content/shelves-5/valid/images/train_7192_jpg.rf.0b643b3fafe5ba73e0a5055ffe9dcd04.jpg: ignoring corrupt image/label: non-normalized or out of bounds coordinates [     1.0021      1.0224]\n",
            "\u001b[34m\u001b[1mval: \u001b[0mWARNING ⚠️ /content/shelves-5/valid/images/train_7194_jpg.rf.ed90b3ac0dfe6ca24af1077b2e838be0.jpg: ignoring corrupt image/label: non-normalized or out of bounds coordinates [     1.0086      1.0022      1.0029]\n",
            "\u001b[34m\u001b[1mval: \u001b[0mWARNING ⚠️ /content/shelves-5/valid/images/train_7196_jpg.rf.6cd89ef599bcfc4927ed5e8fee0d95c9.jpg: ignoring corrupt image/label: non-normalized or out of bounds coordinates [      1.002      1.0022]\n",
            "\u001b[34m\u001b[1mval: \u001b[0mWARNING ⚠️ /content/shelves-5/valid/images/train_7199_jpg.rf.d8dd6675f8c215436f40df2ad49a5030.jpg: ignoring corrupt image/label: non-normalized or out of bounds coordinates [          1      1.0021      1.0049]\n",
            "\u001b[34m\u001b[1mval: \u001b[0mWARNING ⚠️ /content/shelves-5/valid/images/train_87_jpg.rf.a7d90107ea0c5b7371479605a405755c.jpg: ignoring corrupt image/label: non-normalized or out of bounds coordinates [     1.0314      1.0348      1.0484]\n"
          ]
        },
        {
          "output_type": "stream",
          "name": "stderr",
          "text": [
            "\n",
            "                 Class     Images  Instances      Box(P          R      mAP50  mAP50-95): 100%|██████████| 2/2 [00:06<00:00,  3.06s/it]\n"
          ]
        },
        {
          "output_type": "stream",
          "name": "stdout",
          "text": [
            "                   all        370       3388      0.874      0.907      0.935      0.753\n",
            "Speed: 0.0ms preprocess, 0.4ms inference, 0.0ms loss, 4.3ms postprocess per image\n",
            "Results saved to \u001b[1m/content/drive/MyDrive/shelves/train43\u001b[0m\n"
          ]
        },
        {
          "output_type": "execute_result",
          "data": {
            "text/plain": [
              "ultralytics.utils.metrics.OBBMetrics object with attributes:\n",
              "\n",
              "ap_class_index: array([0])\n",
              "box: ultralytics.utils.metrics.Metric object\n",
              "confusion_matrix: <ultralytics.utils.metrics.ConfusionMatrix object at 0x7fcd64862fd0>\n",
              "curves: []\n",
              "curves_results: []\n",
              "fitness: np.float64(0.7711361580809079)\n",
              "keys: ['metrics/precision(B)', 'metrics/recall(B)', 'metrics/mAP50(B)', 'metrics/mAP50-95(B)']\n",
              "maps: array([    0.75291])\n",
              "names: {0: 'shelves'}\n",
              "plot: True\n",
              "results_dict: {'metrics/precision(B)': np.float64(0.8739566868128641), 'metrics/recall(B)': np.float64(0.9066307243420018), 'metrics/mAP50(B)': np.float64(0.9351686070114342), 'metrics/mAP50-95(B)': np.float64(0.7529103304219604), 'fitness': np.float64(0.7711361580809079)}\n",
              "save_dir: PosixPath('/content/drive/MyDrive/shelves/train43')\n",
              "speed: {'preprocess': 0.0352363328675966, 'inference': 0.40828537296604467, 'loss': 6.0571206582559124e-05, 'postprocess': 4.342421969851932}"
            ]
          },
          "metadata": {},
          "execution_count": 8
        }
      ]
    },
    {
      "cell_type": "code",
      "source": [],
      "metadata": {
        "id": "VUyckcE1wC8_"
      },
      "execution_count": null,
      "outputs": []
    }
  ]
}